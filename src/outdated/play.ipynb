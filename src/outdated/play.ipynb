{
 "cells": [
  {
   "cell_type": "code",
   "execution_count": 1,
   "id": "c201a303",
   "metadata": {},
   "outputs": [],
   "source": [
    "import os\n",
    "from os.path import join, basename\n",
    "import numpy as np\n",
    "import pandas as pd\n",
    "import rioxarray\n",
    "import matplotlib.pyplot as plt\n",
    "import rasterio"
   ]
  },
  {
   "cell_type": "code",
   "execution_count": 2,
   "id": "893a20ea",
   "metadata": {},
   "outputs": [],
   "source": [
    "home_dir = '/home/zacharykeskinen/Documents/uavsar/'\n",
    "data_dir = join(home_dir,'data')\n",
    "url_dir = join(data_dir, 'urls')\n",
    "imgs_dir = join(home_dir, 'imgs')"
   ]
  },
  {
   "cell_type": "code",
   "execution_count": 5,
   "id": "8819e335",
   "metadata": {},
   "outputs": [
    {
     "name": "stdout",
     "output_type": "stream",
     "text": [
      "lowman_05208_21019-019_21021-007_0006d_s01_L090HH_01.hgt.real.tif\n",
      "lowman_05208_21019-019_21021-007_0006d_s01_L090VV_01.int.imaginary.tif\n",
      "lowman_05208_21019_019_210316_L090_CX_01.inc.tif\n",
      "lowman_05208_21019-019_21021-007_0006d_s01_L090HV_01.int.real.tif\n",
      "lowman_05208_21019-019_21021-007_0006d.csv\n",
      "lowman_05208_21019-019_21021-007_0006d_s01_L090HH_01.int.imaginary.tif\n",
      "lowman_05208_21019-019_21021-007_0006d_s01_L090HH_01.amp2.real.tif\n",
      "lowman_05208_21019-019_21021-007_0006d_s01_L090HH_01.amp1.real.tif\n",
      "inc\n",
      "lowman_05208_21019-019_21021-007_0006d_s01_L090VV_01.cor.real.tif\n",
      "lowman_05208_21019-019_21021-007_0006d_s01_L090HV_01.hgt.real.tif\n",
      "lowman_05208_21019-019_21021-007_0006d_s01_L090VH_01.unw.real.tif\n",
      "lowman_05208_21019-019_21021-007_0006d_s01_L090HV_01.unw.real.tif\n",
      "lowman_05208_21019-019_21021-007_0006d_s01_L090HV_01.amp2.real.tif\n",
      "lowman_05208_21019-019_21021-007_0006d_s01_L090HV_01.amp1.real.tif\n",
      "lowman_05208_21019-019_21021-007_0006d_s01_L090HH_01.unw.real.tif\n",
      "temp\n",
      "lowman_05208_21019-019_21021-007_0006d_s01_L090VH_01.int.real.tif\n",
      "lowman_05208_21019-019_21021-007_0006d_s01_L090VV_01.amp2.real.tif\n",
      "lowman_05208_21019-019_21021-007_0006d_s01_L090VV_01.amp1.real.tif\n",
      "lowman_05208_21019-019_21021-007_0006d_s01_L090VV_01.unw.real.tif\n",
      "lowman_05208_21019-019_21021-007_0006d_s01_L090HV_01.int.imaginary.tif\n",
      "lowman_05208_21019-019_21021-007_0006d_s01_L090VV_01.hgt.real.tif\n",
      "lowman_05208_21019-019_21021-007_0006d_s01_L090VH_01.amp2.real.tif\n",
      "lowman_05208_21019-019_21021-007_0006d_s01_L090HH_01.cor.real.tif\n",
      "lowman_05208_21019-019_21021-007_0006d_s01_L090HH_01.int.real.tif\n",
      "lowman_05208_21019-019_21021-007_0006d_s01_L090VH_01.int.imaginary.tif\n",
      "lowman_05208_21019-019_21021-007_0006d_s01_L090VH_01.cor.real.tif\n",
      "lowman_05208_21019-019_21021-007_0006d_s01_L090VH_01.amp1.real.tif\n",
      "lowman_05208_21019-019_21021-007_0006d_s01_L090VV_01.int.real.tif\n",
      "lowman_05208_21019-019_21021-007_0006d_s01_L090HV_01.cor.real.tif\n",
      "lowman_05208_21019-019_21021-007_0006d_s01_L090VH_01.hgt.real.tif\n"
     ]
    }
   ],
   "source": [
    "loc_dir = (join(imgs_dir, os.listdir(imgs_dir)[0]))\n",
    "for img in os.listdir(loc_dir):\n",
    "    print(img)\n",
    "    if img == 'lowman_05208_21019-019_21021-007_0006d_s01_L090HH_01.amp1.real.tif':\n",
    "        src = rasterio.open(join(loc_dir, img) )\n",
    "        in_path = join(loc_dir, img)\n",
    "    if img == 'lowman_05208_21019_019_210316_L090_CX_01.inc.tif':\n",
    "        src2 = rasterio.open(join(loc_dir, img) )"
   ]
  },
  {
   "cell_type": "code",
   "execution_count": 10,
   "id": "7126dd37",
   "metadata": {},
   "outputs": [
    {
     "name": "stdout",
     "output_type": "stream",
     "text": [
      "(16417, 26688)\n",
      "2.030561\n",
      "-10000.0\n"
     ]
    }
   ],
   "source": [
    "array = src2.read(1)\n",
    "# array2 = src2.read(1)\n",
    "print(array.shape)\n",
    "print(np.max(array))\n",
    "print(np.min(array))\n",
    "# array2.shape"
   ]
  },
  {
   "cell_type": "code",
   "execution_count": 8,
   "id": "4ac06312",
   "metadata": {},
   "outputs": [
    {
     "data": {
      "image/png": "[encoded data removed]",
      "text/plain": [
       "<Figure size 432x288 with 1 Axes>"
      ]
     },
     "metadata": {
      "needs_background": "light"
     },
     "output_type": "display_data"
    }
   ],
   "source": [
    "plt.imshow(array, cmap='pink')\n",
    "plt.show()  \n",
    "# plt.imshow(array2, cmap='pink')\n",
    "# plt.show()  "
   ]
  },
  {
   "cell_type": "code",
   "execution_count": 9,
   "id": "ba4d969c",
   "metadata": {},
   "outputs": [],
   "source": [
    "# from rasterio.plot import show_hist\n",
    "# show_hist(\n",
    "#      src, bins=50, lw=0.0, stacked=False, alpha=0.3,\n",
    "#      histtype='stepfilled', title=\"Histogram\")"
   ]
  },
  {
   "cell_type": "code",
   "execution_count": 10,
   "id": "fa4c992e",
   "metadata": {},
   "outputs": [
    {
     "data": {
      "text/plain": [
       "30.866493"
      ]
     },
     "execution_count": 10,
     "metadata": {},
     "output_type": "execute_result"
    }
   ],
   "source": [
    "array.max()"
   ]
  },
  {
   "cell_type": "code",
   "execution_count": 11,
   "id": "d46b2361",
   "metadata": {},
   "outputs": [
    {
     "data": {
      "text/plain": [
       "0.07526018"
      ]
     },
     "execution_count": 11,
     "metadata": {},
     "output_type": "execute_result"
    }
   ],
   "source": [
    "array.mean()"
   ]
  },
  {
   "cell_type": "code",
   "execution_count": 12,
   "id": "08f848f9",
   "metadata": {},
   "outputs": [
    {
     "data": {
      "text/plain": [
       "0.0"
      ]
     },
     "execution_count": 12,
     "metadata": {},
     "output_type": "execute_result"
    }
   ],
   "source": [
    "array.min()"
   ]
  },
  {
   "cell_type": "code",
   "execution_count": 13,
   "id": "90351557",
   "metadata": {},
   "outputs": [
    {
     "data": {
      "text/plain": [
       "CRS.from_epsg(26911)"
      ]
     },
     "execution_count": 13,
     "metadata": {},
     "output_type": "execute_result"
    }
   ],
   "source": [
    "src.crs"
   ]
  },
  {
   "cell_type": "code",
   "execution_count": 14,
   "id": "48ea25c9",
   "metadata": {},
   "outputs": [
    {
     "data": {
      "text/plain": [
       "BoundingBox(left=553859.6221955194, bottom=4822498.443121072, right=674122.4174766277, top=4931021.2988628335)"
      ]
     },
     "execution_count": 14,
     "metadata": {},
     "output_type": "execute_result"
    }
   ],
   "source": [
    "src.bounds"
   ]
  },
  {
   "cell_type": "code",
   "execution_count": 15,
   "id": "37baf07e",
   "metadata": {},
   "outputs": [
    {
     "data": {
      "text/plain": [
       "{'driver': 'GTiff', 'dtype': 'float32', 'nodata': None, 'width': 23940, 'height': 21603, 'count': 1, 'crs': CRS.from_epsg(26911), 'transform': Affine(5.023508574816554, 0.0, 553859.6221955194,\n",
       "       0.0, -5.023508574816554, 4931021.2988628335), 'tiled': False, 'interleave': 'band'}"
      ]
     },
     "execution_count": 15,
     "metadata": {},
     "output_type": "execute_result"
    }
   ],
   "source": [
    "src.profile"
   ]
  },
  {
   "cell_type": "code",
   "execution_count": 16,
   "id": "128c0158",
   "metadata": {},
   "outputs": [
    {
     "data": {
      "text/plain": [
       "Affine(5.023508574816554, 0.0, 553859.6221955194,\n",
       "       0.0, -5.023508574816554, 4931021.2988628335)"
      ]
     },
     "execution_count": 16,
     "metadata": {},
     "output_type": "execute_result"
    }
   ],
   "source": [
    "src.transform"
   ]
  },
  {
   "cell_type": "code",
   "execution_count": 17,
   "id": "1e895686",
   "metadata": {},
   "outputs": [
    {
     "data": {
      "text/plain": [
       "True"
      ]
     },
     "execution_count": 17,
     "metadata": {},
     "output_type": "execute_result"
    }
   ],
   "source": [
    "os.path.exists('/home/zacharykeskinen/Documents/uavsar/imgs/scratch/')"
   ]
  },
  {
   "cell_type": "code",
   "execution_count": 18,
   "id": "eaefab8d",
   "metadata": {},
   "outputs": [],
   "source": [
    "from rasterio.warp import calculate_default_transform, reproject, Resampling\n",
    "import rasterio as rio\n",
    "dst_crs = 'EPSG:4326' \n",
    "out_path = '/home/zacharykeskinen/Documents/uavsar/imgs/scratch/amp1_wgs.tif'\n",
    "# Use rasterio package as rio to open and project the raster\n",
    "\n",
    "with rio.open(in_path) as src:\n",
    "    transform, width, height = calculate_default_transform(\n",
    "        src.crs, dst_crs, src.width, src.height, *src.bounds)\n",
    "    kwargs = src.meta.copy()\n",
    "    kwargs.update({\n",
    "        'crs': dst_crs,\n",
    "        'transform': transform,\n",
    "        'width': width,\n",
    "        'height': height\n",
    "    })\n",
    " \n",
    "\n",
    "    # Use rasterio package as rio to write out the new projected raster\n",
    "    # Code uses loop to account for multi-band rasters\n",
    "    with rio.open(out_path, 'w', **kwargs) as dst:\n",
    "        for i in range(1, src.count + 1):\n",
    "            reproject(\n",
    "            source=rio.band(src, i),\n",
    "            destination=rio.band(dst, i),\n",
    "            src_transform=src.transform,\n",
    "            src_crs=src.crs,\n",
    "            dst_transform=transform,\n",
    "            dst_crs=dst_crs,\n",
    "            resampling=Resampling.nearest) "
   ]
  },
  {
   "cell_type": "code",
   "execution_count": 1,
   "id": "5d7c8fad",
   "metadata": {},
   "outputs": [],
   "source": [
    "# Use rasterio to import the reprojected data as img\n",
    "import rasterio as rio\n",
    "out_path = '/home/zacharykeskinen/Documents/uavsar/imgs/scratch/amp1_wgs.tif'\n",
    "\n",
    "with rio.open(out_path) as src:\n",
    "    boundary = src.bounds\n",
    "    img = src.read()\n",
    "    nodata = src.nodata"
   ]
  },
  {
   "cell_type": "code",
   "execution_count": null,
   "id": "ba6425f8",
   "metadata": {},
   "outputs": [],
   "source": [
    "import folium\n",
    "\n",
    "# Create a map using Stamen Terrain, centered on study area with set zoom level\n",
    "m = folium.Map(location=[40.06, -105.30],\n",
    "                   tiles='Stamen Terrain', zoom_start = 13)\n",
    "\n",
    "# Overlay raster called img using add_child() function (opacity and bounding box set)\n",
    "m.add_child(folium.raster_layers.ImageOverlay(img[0], opacity=.7, \n",
    "                                 bounds =[[boundary[1], boundary[0]], [boundary[3], boundary[2]]]))\n",
    "\n",
    "# Display map \n",
    "m"
   ]
  },
  {
   "cell_type": "code",
   "execution_count": null,
   "id": "5f03f88b",
   "metadata": {},
   "outputs": [],
   "source": [
    "import folium\n",
    "\n",
    "# Create a map using Stamen Terrain, centered on study area with set zoom level\n",
    "m = folium.Map(location=[40.06, -105.30], zoom_start = 13)\n",
    "\n",
    "# Overlay raster called img using add_child() function (opacity and bounding box set)\n",
    "m.add_child(folium.raster_layers.ImageOverlay(img[0], opacity=.7, \n",
    "                                 bounds =[[boundary[1], boundary[0]], [boundary[3], boundary[2]]]))\n",
    "\n",
    "\n",
    "# Add marker for Boulder, CO\n",
    "folium.Marker(\n",
    "    location=[40.009515, -105.242714], # coordinates for the marker (Earth Lab at CU Boulder)\n",
    "    popup='Earth Lab at CU Boulder', # pop-up label for the marker\n",
    "    icon=folium.Icon()\n",
    ").add_to(m)\n",
    "\n",
    "# Display map \n",
    "m"
   ]
  },
  {
   "cell_type": "code",
   "execution_count": null,
   "id": "4a6a5a94",
   "metadata": {},
   "outputs": [],
   "source": []
  }
 ],
 "metadata": {
  "kernelspec": {
   "display_name": "Python 3 (ipykernel)",
   "language": "python",
   "name": "python3"
  },
  "language_info": {
   "codemirror_mode": {
    "name": "ipython",
    "version": 3
   },
   "file_extension": ".py",
   "mimetype": "text/x-python",
   "name": "python",
   "nbconvert_exporter": "python",
   "pygments_lexer": "ipython3",
   "version": "3.7.3"
  }
 },
 "nbformat": 4,
 "nbformat_minor": 5
}
