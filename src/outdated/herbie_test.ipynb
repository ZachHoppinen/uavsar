{
 "cells": [
  {
   "cell_type": "markdown",
   "id": "378ba18d",
   "metadata": {},
   "source": [
    "# Herbie Test\n",
    "\n",
    "https://github.com/blaylockbk/Herbie\n",
    "\n",
    "Blaylock B., J. Horel and S. Liston, 2017: Cloud Archiving and Data Mining of High Resolution Rapid Refresh Model Output. Computers and Geosciences. 109, 43-50. https://doi.org/10.1016/j.cageo.2017.08.005"
   ]
  },
  {
   "cell_type": "code",
   "execution_count": 3,
   "id": "6e97d64c",
   "metadata": {},
   "outputs": [
    {
     "ename": "ModuleNotFoundError",
     "evalue": "No module named 'herbie'",
     "output_type": "error",
     "traceback": [
      "\u001b[0;31m---------------------------------------------------------------------------\u001b[0m",
      "\u001b[0;31mModuleNotFoundError\u001b[0m                       Traceback (most recent call last)",
      "\u001b[0;32m/tmp/ipykernel_16002/3037829500.py\u001b[0m in \u001b[0;36m<module>\u001b[0;34m\u001b[0m\n\u001b[0;32m----> 1\u001b[0;31m \u001b[0;32mfrom\u001b[0m \u001b[0mherbie\u001b[0m\u001b[0;34m.\u001b[0m\u001b[0marchive\u001b[0m \u001b[0;32mimport\u001b[0m \u001b[0mHerbie\u001b[0m\u001b[0;34m\u001b[0m\u001b[0;34m\u001b[0m\u001b[0m\n\u001b[0m\u001b[1;32m      2\u001b[0m \u001b[0;34m\u001b[0m\u001b[0m\n\u001b[1;32m      3\u001b[0m \u001b[0;31m# Herbie object for the HRRR model 6-hr surface forecast product\u001b[0m\u001b[0;34m\u001b[0m\u001b[0;34m\u001b[0m\u001b[0;34m\u001b[0m\u001b[0m\n\u001b[1;32m      4\u001b[0m H = Herbie('2021-01-01 12:00',\n\u001b[1;32m      5\u001b[0m            \u001b[0mmodel\u001b[0m\u001b[0;34m=\u001b[0m\u001b[0;34m'hrrr'\u001b[0m\u001b[0;34m,\u001b[0m\u001b[0;34m\u001b[0m\u001b[0;34m\u001b[0m\u001b[0m\n",
      "\u001b[0;31mModuleNotFoundError\u001b[0m: No module named 'herbie'"
     ]
    }
   ],
   "source": [
    "from herbie.archive import Herbie\n",
    "\n",
    "# Herbie object for the HRRR model 6-hr surface forecast product\n",
    "H = Herbie('2021-01-01 12:00',\n",
    "           model='hrrr',\n",
    "           product='sfc',\n",
    "           fxx=6)\n",
    "\n",
    "# Download the full GRIB2 file\n",
    "H.download()\n",
    "\n",
    "# Download a subset, like all fields at 500 mb\n",
    "H.download(\":500 mb\")\n",
    "\n",
    "# Read subset with xarray, like 2-m temperature.\n",
    "H.xarray(\"TMP:2 m\")"
   ]
  },
  {
   "cell_type": "code",
   "execution_count": null,
   "id": "7125f8c7",
   "metadata": {},
   "outputs": [],
   "source": []
  }
 ],
 "metadata": {
  "kernelspec": {
   "display_name": "Python 3 (ipykernel)",
   "language": "python",
   "name": "python3"
  },
  "language_info": {
   "codemirror_mode": {
    "name": "ipython",
    "version": 3
   },
   "file_extension": ".py",
   "mimetype": "text/x-python",
   "name": "python",
   "nbconvert_exporter": "python",
   "pygments_lexer": "ipython3",
   "version": "3.7.11"
  }
 },
 "nbformat": 4,
 "nbformat_minor": 5
}
