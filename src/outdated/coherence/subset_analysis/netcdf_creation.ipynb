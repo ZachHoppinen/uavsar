{
 "cells": [
  {
   "cell_type": "code",
   "execution_count": 1,
   "id": "839ca8d2",
   "metadata": {},
   "outputs": [],
   "source": [
    "import geehydro\n",
    "from rasterio.windows import from_bounds\n",
    "import rasterio as rio\n",
    "from rasterio.enums import Resampling\n",
    "import os\n",
    "from os.path import join, basename\n",
    "import numpy as np\n",
    "import pandas as pd\n",
    "#import rioxarray\n",
    "import matplotlib.pyplot as plt\n",
    "import rasterio as rio\n",
    "#from osgeo import gdal\n",
    "from rasterio.windows import Window , from_bounds, crop\n",
    "import folium\n",
    "import pyproj\n",
    "from glob import glob\n",
    "import sys\n",
    "from scipy import sparse"
   ]
  },
  {
   "cell_type": "code",
   "execution_count": 2,
   "id": "3d7109fa",
   "metadata": {},
   "outputs": [
    {
     "data": {
      "text/html": [
       "<p>To authorize access needed by Earth Engine, open the following\n",
       "        URL in a web browser and follow the instructions:</p>\n",
       "        <p><a href=https://accounts.google.com/o/oauth2/auth?client_id=517222506229-vsmmajv00ul0bs7p89v5m89qs8eb9359.apps.googleusercontent.com&scope=https%3A%2F%2Fwww.googleapis.com%2Fauth%2Fearthengine+https%3A%2F%2Fwww.googleapis.com%2Fauth%2Fdevstorage.full_control&redirect_uri=urn%3Aietf%3Awg%3Aoauth%3A2.0%3Aoob&response_type=code&code_challenge=eAoeHZRzfyFoBOtBMi5K8IQbEuMGcmNZgxwT0qOHx_Q&code_challenge_method=S256>https://accounts.google.com/o/oauth2/auth?client_id=517222506229-vsmmajv00ul0bs7p89v5m89qs8eb9359.apps.googleusercontent.com&scope=https%3A%2F%2Fwww.googleapis.com%2Fauth%2Fearthengine+https%3A%2F%2Fwww.googleapis.com%2Fauth%2Fdevstorage.full_control&redirect_uri=urn%3Aietf%3Awg%3Aoauth%3A2.0%3Aoob&response_type=code&code_challenge=eAoeHZRzfyFoBOtBMi5K8IQbEuMGcmNZgxwT0qOHx_Q&code_challenge_method=S256</a></p>\n",
       "        <p>The authorization workflow will generate a code, which you\n",
       "        should paste in the box below</p>\n",
       "        "
      ],
      "text/plain": [
       "<IPython.core.display.HTML object>"
      ]
     },
     "metadata": {},
     "output_type": "display_data"
    },
    {
     "name": "stdout",
     "output_type": "stream",
     "text": [
      "Enter verification code: 4/1AX4XfWhcecK1WerybgzFM6XWJjE8lE82WV5zprBOSaSF2ZZAwO7UfD5d0jk\n",
      "\n",
      "Successfully saved authorization token.\n"
     ]
    }
   ],
   "source": [
    "import ee\n",
    "ee.Authenticate()\n",
    "ee.Initialize()"
   ]
  },
  {
   "cell_type": "code",
   "execution_count": 3,
   "id": "b5406c3c",
   "metadata": {},
   "outputs": [],
   "source": [
    "home_dir = '/home/zacharykeskinen/Documents/uavsar/'\n",
    "data_dir = join(home_dir,'data')\n",
    "url_dir = join(data_dir, 'urls')\n",
    "imgs_dir = join(home_dir, 'imgs')\n",
    "loc_dir = (join(imgs_dir, os.listdir(imgs_dir)[0]))\n",
    "auc_dir = join(data_dir, 'aucillary')\n",
    "low_auc_dir = join(auc_dir, 'lowman')"
   ]
  },
  {
   "cell_type": "code",
   "execution_count": 4,
   "id": "a4cc94b0",
   "metadata": {},
   "outputs": [],
   "source": [
    "####From: http://www2.geog.ucl.ac.uk/~plewis/geogg122-2011-12/dem2.html\n",
    "\n",
    "def gaussianFilter(sizex,sizey=None,scale=0.333):\n",
    "    '''\n",
    "    Generate and return a 2D Gaussian function\n",
    "    of dimensions (sizex,sizey)\n",
    "\n",
    "    If sizey is not set, it defaults to sizex\n",
    "    A scale can be defined to widen the function (default = 0.333)\n",
    "    '''\n",
    "    sizey = sizey or sizex\n",
    "    x, y = np.mgrid[-sizex:sizex+1, -sizey:sizey+1]\n",
    "    g = np.exp(-scale*(x**2/float(sizex)+y**2/float(sizey)))\n",
    "    return g/g.sum()\n",
    "\n",
    "def grad2d(dem):\n",
    "    '''\n",
    "    Calculate the slope and gradient of a DEM\n",
    "    '''\n",
    "    from scipy import signal\n",
    "    f0 = gaussianFilter(3)\n",
    "    I = signal.convolve(dem,f0,mode='valid')\n",
    "    f1 = np.array([[-1,0,1],[-2,0,2],[-1,0,1]])\n",
    "    f2 = f1.transpose()\n",
    "    g1 = signal.convolve(I,f1,mode='valid')\n",
    "    g2 = signal.convolve(I,f2,mode='valid')\n",
    "    slope = np.sqrt(g1**2 + g2**2)\n",
    "    aspect = np.arctan2(g2,g1)\n",
    "    return slope, aspect\n",
    "\n",
    "###convert to dB\n",
    "def lin_to_dB(arr):\n",
    "    return 10*np.log10(arr)\n",
    "\n",
    "from scipy import interpolate\n",
    "def array_resize(arr, target_shape, kind = 'linear'):\n",
    "\n",
    "    H, W = arr.shape[:2]\n",
    "    new_H, new_W = target_shape[:2]\n",
    "    xrange = lambda x: np.linspace(0, 1, x)\n",
    "\n",
    "    f = interpolate.interp2d(xrange(W), xrange(H), arr, kind=kind)\n",
    "    new_arr = f(xrange(new_W), xrange(new_H))\n",
    "    return new_arr"
   ]
  },
  {
   "cell_type": "code",
   "execution_count": 5,
   "id": "edd74789",
   "metadata": {},
   "outputs": [],
   "source": [
    "left = -115.6\n",
    "right = -115.2\n",
    "top = 44.16\n",
    "bottom = 44.0"
   ]
  },
  {
   "cell_type": "code",
   "execution_count": 10,
   "id": "0efbffea",
   "metadata": {},
   "outputs": [
    {
     "data": {
      "text/html": [
       "<div style=\"width:100%;\"><div style=\"position:relative;width:100%;height:0;padding-bottom:60%;\"><span style=\"color:#565656\">Make this Notebook Trusted to load map: File -> Trust Notebook</span><iframe src=\"about:blank\" style=\"position:absolute;width:100%;height:100%;left:0;top:0;border:none !important;\" data-html=%3C%21DOCTYPE%20html%3E%0A%3Chead%3E%20%20%20%20%0A%20%20%20%20%3Cmeta%20http-equiv%3D%22content-type%22%20content%3D%22text/html%3B%20charset%3DUTF-8%22%20/%3E%0A%20%20%20%20%0A%20%20%20%20%20%20%20%20%3Cscript%3E%0A%20%20%20%20%20%20%20%20%20%20%20%20L_NO_TOUCH%20%3D%20false%3B%0A%20%20%20%20%20%20%20%20%20%20%20%20L_DISABLE_3D%20%3D%20false%3B%0A%20%20%20%20%20%20%20%20%3C/script%3E%0A%20%20%20%20%0A%20%20%20%20%3Cstyle%3Ehtml%2C%20body%20%7Bwidth%3A%20100%25%3Bheight%3A%20100%25%3Bmargin%3A%200%3Bpadding%3A%200%3B%7D%3C/style%3E%0A%20%20%20%20%3Cstyle%3E%23map%20%7Bposition%3Aabsolute%3Btop%3A0%3Bbottom%3A0%3Bright%3A0%3Bleft%3A0%3B%7D%3C/style%3E%0A%20%20%20%20%3Cscript%20src%3D%22https%3A//cdn.jsdelivr.net/npm/leaflet%401.6.0/dist/leaflet.js%22%3E%3C/script%3E%0A%20%20%20%20%3Cscript%20src%3D%22https%3A//code.jquery.com/jquery-1.12.4.min.js%22%3E%3C/script%3E%0A%20%20%20%20%3Cscript%20src%3D%22https%3A//maxcdn.bootstrapcdn.com/bootstrap/3.2.0/js/bootstrap.min.js%22%3E%3C/script%3E%0A%20%20%20%20%3Cscript%20src%3D%22https%3A//cdnjs.cloudflare.com/ajax/libs/Leaflet.awesome-markers/2.0.2/leaflet.awesome-markers.js%22%3E%3C/script%3E%0A%20%20%20%20%3Clink%20rel%3D%22stylesheet%22%20href%3D%22https%3A//cdn.jsdelivr.net/npm/leaflet%401.6.0/dist/leaflet.css%22/%3E%0A%20%20%20%20%3Clink%20rel%3D%22stylesheet%22%20href%3D%22https%3A//maxcdn.bootstrapcdn.com/bootstrap/3.2.0/css/bootstrap.min.css%22/%3E%0A%20%20%20%20%3Clink%20rel%3D%22stylesheet%22%20href%3D%22https%3A//maxcdn.bootstrapcdn.com/bootstrap/3.2.0/css/bootstrap-theme.min.css%22/%3E%0A%20%20%20%20%3Clink%20rel%3D%22stylesheet%22%20href%3D%22https%3A//maxcdn.bootstrapcdn.com/font-awesome/4.6.3/css/font-awesome.min.css%22/%3E%0A%20%20%20%20%3Clink%20rel%3D%22stylesheet%22%20href%3D%22https%3A//cdnjs.cloudflare.com/ajax/libs/Leaflet.awesome-markers/2.0.2/leaflet.awesome-markers.css%22/%3E%0A%20%20%20%20%3Clink%20rel%3D%22stylesheet%22%20href%3D%22https%3A//cdn.jsdelivr.net/gh/python-visualization/folium/folium/templates/leaflet.awesome.rotate.min.css%22/%3E%0A%20%20%20%20%0A%20%20%20%20%20%20%20%20%20%20%20%20%3Cmeta%20name%3D%22viewport%22%20content%3D%22width%3Ddevice-width%2C%0A%20%20%20%20%20%20%20%20%20%20%20%20%20%20%20%20initial-scale%3D1.0%2C%20maximum-scale%3D1.0%2C%20user-scalable%3Dno%22%20/%3E%0A%20%20%20%20%20%20%20%20%20%20%20%20%3Cstyle%3E%0A%20%20%20%20%20%20%20%20%20%20%20%20%20%20%20%20%23map_a00bfbb8e79f42428a8588fbeff543e0%20%7B%0A%20%20%20%20%20%20%20%20%20%20%20%20%20%20%20%20%20%20%20%20position%3A%20relative%3B%0A%20%20%20%20%20%20%20%20%20%20%20%20%20%20%20%20%20%20%20%20width%3A%20100.0%25%3B%0A%20%20%20%20%20%20%20%20%20%20%20%20%20%20%20%20%20%20%20%20height%3A%20100.0%25%3B%0A%20%20%20%20%20%20%20%20%20%20%20%20%20%20%20%20%20%20%20%20left%3A%200.0%25%3B%0A%20%20%20%20%20%20%20%20%20%20%20%20%20%20%20%20%20%20%20%20top%3A%200.0%25%3B%0A%20%20%20%20%20%20%20%20%20%20%20%20%20%20%20%20%7D%0A%20%20%20%20%20%20%20%20%20%20%20%20%3C/style%3E%0A%20%20%20%20%20%20%20%20%0A%20%20%20%20%3Cscript%20src%3D%22https%3A//cdnjs.cloudflare.com/ajax/libs/leaflet.fullscreen/1.4.2/Control.FullScreen.min.js%22%3E%3C/script%3E%0A%20%20%20%20%3Clink%20rel%3D%22stylesheet%22%20href%3D%22https%3A//cdnjs.cloudflare.com/ajax/libs/leaflet.fullscreen/1.4.2/Control.FullScreen.min.css%22/%3E%0A%3C/head%3E%0A%3Cbody%3E%20%20%20%20%0A%20%20%20%20%0A%20%20%20%20%20%20%20%20%20%20%20%20%3Cdiv%20class%3D%22folium-map%22%20id%3D%22map_a00bfbb8e79f42428a8588fbeff543e0%22%20%3E%3C/div%3E%0A%20%20%20%20%20%20%20%20%0A%3C/body%3E%0A%3Cscript%3E%20%20%20%20%0A%20%20%20%20%0A%20%20%20%20%20%20%20%20%20%20%20%20var%20map_a00bfbb8e79f42428a8588fbeff543e0%20%3D%20L.map%28%0A%20%20%20%20%20%20%20%20%20%20%20%20%20%20%20%20%22map_a00bfbb8e79f42428a8588fbeff543e0%22%2C%0A%20%20%20%20%20%20%20%20%20%20%20%20%20%20%20%20%7B%0A%20%20%20%20%20%20%20%20%20%20%20%20%20%20%20%20%20%20%20%20center%3A%20%5B44.0%2C%20-115.6%5D%2C%0A%20%20%20%20%20%20%20%20%20%20%20%20%20%20%20%20%20%20%20%20crs%3A%20L.CRS.EPSG3857%2C%0A%20%20%20%20%20%20%20%20%20%20%20%20%20%20%20%20%20%20%20%20zoom%3A%2011%2C%0A%20%20%20%20%20%20%20%20%20%20%20%20%20%20%20%20%20%20%20%20zoomControl%3A%20true%2C%0A%20%20%20%20%20%20%20%20%20%20%20%20%20%20%20%20%20%20%20%20preferCanvas%3A%20false%2C%0A%20%20%20%20%20%20%20%20%20%20%20%20%20%20%20%20%7D%0A%20%20%20%20%20%20%20%20%20%20%20%20%29%3B%0A%20%20%20%20%20%20%20%20%20%20%20%20L.control.scale%28%29.addTo%28map_a00bfbb8e79f42428a8588fbeff543e0%29%3B%0A%0A%20%20%20%20%20%20%20%20%20%20%20%20%0A%0A%20%20%20%20%20%20%20%20%0A%20%20%20%20%0A%20%20%20%20%20%20%20%20%20%20%20%20var%20tile_layer_90200b6f3c9447e2abff5ff163a5f4fc%20%3D%20L.tileLayer%28%0A%20%20%20%20%20%20%20%20%20%20%20%20%20%20%20%20%22https%3A//stamen-tiles-%7Bs%7D.a.ssl.fastly.net/terrain/%7Bz%7D/%7Bx%7D/%7By%7D.jpg%22%2C%0A%20%20%20%20%20%20%20%20%20%20%20%20%20%20%20%20%7B%22attribution%22%3A%20%22Map%20tiles%20by%20%5Cu003ca%20href%3D%5C%22http%3A//stamen.com%5C%22%5Cu003eStamen%20Design%5Cu003c/a%5Cu003e%2C%20under%20%5Cu003ca%20href%3D%5C%22http%3A//creativecommons.org/licenses/by/3.0%5C%22%5Cu003eCC%20BY%203.0%5Cu003c/a%5Cu003e.%20Data%20by%20%5Cu0026copy%3B%20%5Cu003ca%20href%3D%5C%22http%3A//openstreetmap.org%5C%22%5Cu003eOpenStreetMap%5Cu003c/a%5Cu003e%2C%20under%20%5Cu003ca%20href%3D%5C%22http%3A//creativecommons.org/licenses/by-sa/3.0%5C%22%5Cu003eCC%20BY%20SA%5Cu003c/a%5Cu003e.%22%2C%20%22detectRetina%22%3A%20false%2C%20%22maxNativeZoom%22%3A%2018%2C%20%22maxZoom%22%3A%2018%2C%20%22minZoom%22%3A%200%2C%20%22noWrap%22%3A%20false%2C%20%22opacity%22%3A%201%2C%20%22subdomains%22%3A%20%22abc%22%2C%20%22tms%22%3A%20false%7D%0A%20%20%20%20%20%20%20%20%20%20%20%20%29.addTo%28map_a00bfbb8e79f42428a8588fbeff543e0%29%3B%0A%20%20%20%20%20%20%20%20%0A%20%20%20%20%0A%20%20%20%20%20%20%20%20%20%20%20%20var%20tile_layer_6d26a061475c41c297c90479f910e697%20%3D%20L.tileLayer%28%0A%20%20%20%20%20%20%20%20%20%20%20%20%20%20%20%20%22https%3A//mt1.google.com/vt/lyrs%3Dy%5Cu0026x%3D%7Bx%7D%5Cu0026y%3D%7By%7D%5Cu0026z%3D%7Bz%7D%22%2C%0A%20%20%20%20%20%20%20%20%20%20%20%20%20%20%20%20%7B%22attribution%22%3A%20%22Google%22%2C%20%22detectRetina%22%3A%20false%2C%20%22maxNativeZoom%22%3A%2018%2C%20%22maxZoom%22%3A%2018%2C%20%22minZoom%22%3A%200%2C%20%22noWrap%22%3A%20false%2C%20%22opacity%22%3A%201%2C%20%22subdomains%22%3A%20%22abc%22%2C%20%22tms%22%3A%20false%7D%0A%20%20%20%20%20%20%20%20%20%20%20%20%29.addTo%28map_a00bfbb8e79f42428a8588fbeff543e0%29%3B%0A%20%20%20%20%20%20%20%20%0A%20%20%20%20%0A%20%20%20%20%20%20%20%20%20%20%20%20var%20tile_layer_9c8862cd157a432b91c0b842b9478b0b%20%3D%20L.tileLayer%28%0A%20%20%20%20%20%20%20%20%20%20%20%20%20%20%20%20%22https%3A//earthengine.googleapis.com/v1alpha/projects/earthengine-legacy/maps/5dd804b278700ecae88873385675e3a7-73334b8a7d254027b4891e2ff377e4d8/tiles/%7Bz%7D/%7Bx%7D/%7By%7D%22%2C%0A%20%20%20%20%20%20%20%20%20%20%20%20%20%20%20%20%7B%22attribution%22%3A%20%22Google%20Earth%20Engine%22%2C%20%22detectRetina%22%3A%20false%2C%20%22maxNativeZoom%22%3A%2018%2C%20%22maxZoom%22%3A%2018%2C%20%22minZoom%22%3A%200%2C%20%22noWrap%22%3A%20false%2C%20%22opacity%22%3A%201%2C%20%22subdomains%22%3A%20%22abc%22%2C%20%22tms%22%3A%20false%7D%0A%20%20%20%20%20%20%20%20%20%20%20%20%29.addTo%28map_a00bfbb8e79f42428a8588fbeff543e0%29%3B%0A%20%20%20%20%20%20%20%20%0A%20%20%20%20%0A%20%20%20%20%20%20%20%20%20%20%20%20var%20layer_control_2a427d3aaac3413889615920a271693e%20%3D%20%7B%0A%20%20%20%20%20%20%20%20%20%20%20%20%20%20%20%20base_layers%20%3A%20%7B%0A%20%20%20%20%20%20%20%20%20%20%20%20%20%20%20%20%20%20%20%20%22stamenterrain%22%20%3A%20tile_layer_90200b6f3c9447e2abff5ff163a5f4fc%2C%0A%20%20%20%20%20%20%20%20%20%20%20%20%20%20%20%20%7D%2C%0A%20%20%20%20%20%20%20%20%20%20%20%20%20%20%20%20overlays%20%3A%20%20%7B%0A%20%20%20%20%20%20%20%20%20%20%20%20%20%20%20%20%20%20%20%20%22Google%20Satellite%22%20%3A%20tile_layer_6d26a061475c41c297c90479f910e697%2C%0A%20%20%20%20%20%20%20%20%20%20%20%20%20%20%20%20%20%20%20%20%22Layer%20untitled%22%20%3A%20tile_layer_9c8862cd157a432b91c0b842b9478b0b%2C%0A%20%20%20%20%20%20%20%20%20%20%20%20%20%20%20%20%7D%2C%0A%20%20%20%20%20%20%20%20%20%20%20%20%7D%3B%0A%20%20%20%20%20%20%20%20%20%20%20%20L.control.layers%28%0A%20%20%20%20%20%20%20%20%20%20%20%20%20%20%20%20layer_control_2a427d3aaac3413889615920a271693e.base_layers%2C%0A%20%20%20%20%20%20%20%20%20%20%20%20%20%20%20%20layer_control_2a427d3aaac3413889615920a271693e.overlays%2C%0A%20%20%20%20%20%20%20%20%20%20%20%20%20%20%20%20%7B%22autoZIndex%22%3A%20true%2C%20%22collapsed%22%3A%20true%2C%20%22position%22%3A%20%22topright%22%7D%0A%20%20%20%20%20%20%20%20%20%20%20%20%29.addTo%28map_a00bfbb8e79f42428a8588fbeff543e0%29%3B%0A%20%20%20%20%20%20%20%20%0A%20%20%20%20%0A%20%20%20%20%20%20%20%20%20%20%20%20L.control.fullscreen%28%0A%20%20%20%20%20%20%20%20%20%20%20%20%20%20%20%20%7B%22forceSeparateButton%22%3A%20false%2C%20%22position%22%3A%20%22topleft%22%2C%20%22title%22%3A%20%22Full%20Screen%22%2C%20%22titleCancel%22%3A%20%22Exit%20Full%20Screen%22%7D%0A%20%20%20%20%20%20%20%20%20%20%20%20%29.addTo%28map_a00bfbb8e79f42428a8588fbeff543e0%29%3B%0A%20%20%20%20%20%20%20%20%0A%20%20%20%20%0A%20%20%20%20%20%20%20%20%20%20%20%20%20%20%20%20var%20lat_lng_popup_d420bf0060674bba9b0dcf0968a88201%20%3D%20L.popup%28%29%3B%0A%20%20%20%20%20%20%20%20%20%20%20%20%20%20%20%20function%20latLngPop%28e%29%20%7B%0A%20%20%20%20%20%20%20%20%20%20%20%20%20%20%20%20%20%20%20%20lat_lng_popup_d420bf0060674bba9b0dcf0968a88201%0A%20%20%20%20%20%20%20%20%20%20%20%20%20%20%20%20%20%20%20%20%20%20%20%20.setLatLng%28e.latlng%29%0A%20%20%20%20%20%20%20%20%20%20%20%20%20%20%20%20%20%20%20%20%20%20%20%20.setContent%28%22Latitude%3A%20%22%20%2B%20e.latlng.lat.toFixed%284%29%20%2B%0A%20%20%20%20%20%20%20%20%20%20%20%20%20%20%20%20%20%20%20%20%20%20%20%20%20%20%20%20%20%20%20%20%20%20%20%20%22%3Cbr%3ELongitude%3A%20%22%20%2B%20e.latlng.lng.toFixed%284%29%29%0A%20%20%20%20%20%20%20%20%20%20%20%20%20%20%20%20%20%20%20%20%20%20%20%20.openOn%28map_a00bfbb8e79f42428a8588fbeff543e0%29%3B%0A%20%20%20%20%20%20%20%20%20%20%20%20%20%20%20%20%20%20%20%20%7D%0A%20%20%20%20%20%20%20%20%20%20%20%20%20%20%20%20map_a00bfbb8e79f42428a8588fbeff543e0.on%28%27click%27%2C%20latLngPop%29%3B%0A%20%20%20%20%20%20%20%20%20%20%20%20%0A%3C/script%3E onload=\"this.contentDocument.open();this.contentDocument.write(    decodeURIComponent(this.getAttribute('data-html')));this.contentDocument.close();\" allowfullscreen webkitallowfullscreen mozallowfullscreen></iframe></div></div>"
      ],
      "text/plain": [
       "<folium.folium.Map at 0x7f7acb2608d0>"
      ]
     },
     "execution_count": 10,
     "metadata": {},
     "output_type": "execute_result"
    }
   ],
   "source": [
    "site = ee.Geometry.Polygon(\n",
    "    [[[right, bottom],\n",
    "      [left, bottom],\n",
    "      [left, top],\n",
    "      [right, top]]])\n",
    "\n",
    "Map = folium.Map(location=[bottom,left],\n",
    "                   tiles='Stamen Terrain', zoom_start = 11,control_scale = True)\n",
    "\n",
    "# To see a google satellite view as a basemap\n",
    "Map.setOptions('HYBRID')\n",
    "\n",
    "Map.addLayer(site)\n",
    "\n",
    "Map.setControlVisibility(layerControl=True, fullscreenControl=True, latLngPopup=True)\n",
    "\n",
    "# Display map \n",
    "Map"
   ]
  },
  {
   "cell_type": "code",
   "execution_count": 11,
   "id": "a0a28613",
   "metadata": {},
   "outputs": [],
   "source": [
    "Map.save('../figures/sub_square.html')"
   ]
  },
  {
   "cell_type": "code",
   "execution_count": 7,
   "id": "50809fd7",
   "metadata": {},
   "outputs": [
    {
     "name": "stdout",
     "output_type": "stream",
     "text": [
      "/home/zacharykeskinen/Documents/uavsar/imgs/lowman_test/lowman_05208_21019-019_21021-007_0006d_s01_L090HH_01.hgt.real.tif\n",
      "HH-hgt\n",
      "/home/zacharykeskinen/Documents/uavsar/imgs/lowman_test/lowman_05208_21019-019_21021-007_0006d_s01_L090VV_01.int.imaginary.tif\n",
      "VV-int-imaginary\n",
      "/home/zacharykeskinen/Documents/uavsar/imgs/lowman_test/lowman_05208_21019_019_210316_L090_CX_01.inc.tif\n",
      "inc\n",
      "/home/zacharykeskinen/Documents/uavsar/imgs/lowman_test/lowman_05208_21019-019_21021-007_0006d_s01_L090HV_01.int.real.tif\n",
      "HV-int-real\n",
      "/home/zacharykeskinen/Documents/uavsar/imgs/lowman_test/lowman_05208_21019-019_21021-007_0006d_s01_L090HH_01.int.imaginary.tif\n",
      "HH-int-imaginary\n",
      "/home/zacharykeskinen/Documents/uavsar/imgs/lowman_test/lowman_05208_21019-019_21021-007_0006d_s01_L090HH_01.amp2.real.tif\n",
      "HH-amp2\n",
      "/home/zacharykeskinen/Documents/uavsar/imgs/lowman_test/lowman_05208_21019-019_21021-007_0006d_s01_L090HH_01.amp1.real.tif\n",
      "HH-amp1\n",
      "/home/zacharykeskinen/Documents/uavsar/imgs/lowman_test/lowman_05208_21019-019_21021-007_0006d_s01_L090VV_01.cor.real.tif\n",
      "VV-cor\n",
      "/home/zacharykeskinen/Documents/uavsar/imgs/lowman_test/lowman_05208_21019-019_21021-007_0006d_s01_L090HV_01.hgt.real.tif\n",
      "HV-hgt\n",
      "/home/zacharykeskinen/Documents/uavsar/imgs/lowman_test/lowman_05208_21019-019_21021-007_0006d_s01_L090VH_01.unw.real.tif\n",
      "VH-unw\n",
      "/home/zacharykeskinen/Documents/uavsar/imgs/lowman_test/lowman_05208_21019-019_21021-007_0006d_s01_L090HV_01.unw.real.tif\n",
      "HV-unw\n",
      "/home/zacharykeskinen/Documents/uavsar/imgs/lowman_test/lowman_05208_21019-019_21021-007_0006d_s01_L090HV_01.amp2.real.tif\n",
      "HV-amp2\n",
      "/home/zacharykeskinen/Documents/uavsar/imgs/lowman_test/lowman_05208_21019-019_21021-007_0006d_s01_L090HV_01.amp1.real.tif\n",
      "HV-amp1\n",
      "/home/zacharykeskinen/Documents/uavsar/imgs/lowman_test/lowman_05208_21019-019_21021-007_0006d_s01_L090HH_01.unw.real.tif\n",
      "HH-unw\n",
      "/home/zacharykeskinen/Documents/uavsar/imgs/lowman_test/lowman_05208_21019-019_21021-007_0006d_s01_L090VH_01.int.real.tif\n",
      "VH-int-real\n",
      "/home/zacharykeskinen/Documents/uavsar/imgs/lowman_test/lowman_05208_21019-019_21021-007_0006d_s01_L090VV_01.amp2.real.tif\n",
      "VV-amp2\n",
      "/home/zacharykeskinen/Documents/uavsar/imgs/lowman_test/lowman_05208_21019-019_21021-007_0006d_s01_L090VV_01.amp1.real.tif\n",
      "VV-amp1\n",
      "/home/zacharykeskinen/Documents/uavsar/imgs/lowman_test/lowman_05208_21019-019_21021-007_0006d_s01_L090VV_01.unw.real.tif\n",
      "VV-unw\n",
      "/home/zacharykeskinen/Documents/uavsar/imgs/lowman_test/lowman_05208_21019-019_21021-007_0006d_s01_L090HV_01.int.imaginary.tif\n",
      "HV-int-imaginary\n",
      "/home/zacharykeskinen/Documents/uavsar/imgs/lowman_test/lowman_05208_21019-019_21021-007_0006d_s01_L090VV_01.hgt.real.tif\n",
      "VV-hgt\n",
      "/home/zacharykeskinen/Documents/uavsar/imgs/lowman_test/lowman_05208_21019-019_21021-007_0006d_s01_L090VH_01.amp2.real.tif\n",
      "VH-amp2\n",
      "/home/zacharykeskinen/Documents/uavsar/imgs/lowman_test/lowman_05208_21019-019_21021-007_0006d_s01_L090HH_01.cor.real.tif\n",
      "HH-cor\n",
      "/home/zacharykeskinen/Documents/uavsar/imgs/lowman_test/lowman_05208_21019-019_21021-007_0006d_s01_L090HH_01.int.real.tif\n",
      "HH-int-real\n",
      "/home/zacharykeskinen/Documents/uavsar/imgs/lowman_test/lowman_05208_21019-019_21021-007_0006d_s01_L090VH_01.int.imaginary.tif\n",
      "VH-int-imaginary\n",
      "/home/zacharykeskinen/Documents/uavsar/imgs/lowman_test/lowman_05208_21019-019_21021-007_0006d_s01_L090VH_01.cor.real.tif\n",
      "VH-cor\n",
      "/home/zacharykeskinen/Documents/uavsar/imgs/lowman_test/lowman_05208_21019-019_21021-007_0006d_s01_L090VH_01.amp1.real.tif\n",
      "VH-amp1\n",
      "/home/zacharykeskinen/Documents/uavsar/imgs/lowman_test/lowman_05208_21019-019_21021-007_0006d_s01_L090VV_01.int.real.tif\n",
      "VV-int-real\n",
      "/home/zacharykeskinen/Documents/uavsar/imgs/lowman_test/lowman_05208_21019-019_21021-007_0006d_s01_L090HV_01.cor.real.tif\n",
      "HV-cor\n",
      "/home/zacharykeskinen/Documents/uavsar/imgs/lowman_test/lowman_05208_21019-019_21021-007_0006d_s01_L090VH_01.hgt.real.tif\n",
      "VH-hgt\n"
     ]
    }
   ],
   "source": [
    "import xarray as xr\n",
    "\n",
    "sub = xr.Dataset()\n",
    "for im in glob(loc_dir + '/*.tif'):\n",
    "    print(im)\n",
    "    i=0\n",
    "    fp = join(loc_dir,im)\n",
    "    if '.inc' in im:\n",
    "        name = '-'.join(basename(im).replace('.tif','').split('.')[1:])\n",
    "    elif '.int.' in im:\n",
    "        name = '-'.join(basename(im).replace('.tif','').split('.')[1:])\n",
    "        pol = basename(im).split('.')[0].split('_')[-2][4:]\n",
    "        name = pol+'-'+name\n",
    "    else:\n",
    "        name = '-'.join(basename(im).replace('.tif','').split('.')[1:2])\n",
    "        pol = basename(im).split('.')[0].split('_')[-2][4:]\n",
    "        name = pol+'-'+name\n",
    "    print(name)\n",
    "    if 'inc' in fp:\n",
    "        with rio.open(fp) as src:\n",
    "            my_proj = pyproj.Proj(str(src.crs).lower())#your data crs\n",
    "            left_bottom = my_proj(left,bottom, inverse=False)\n",
    "            right_top = my_proj(right,top, inverse=False)\n",
    "            win = from_bounds(left_bottom[0], left_bottom[1], right_top[0], right_top[1], src.transform)\n",
    "\n",
    "            arr = src.read(\n",
    "            out_shape=(src.count,target_shape[0],target_shape[1]),\n",
    "            resampling=Resampling.bilinear,\n",
    "            window = win)[0]\n",
    "        sub[name] = (('x','y'),arr)\n",
    "    elif '.hgt.' in fp:\n",
    "        if 'VV' in fp:\n",
    "            with rio.open(fp) as src:\n",
    "                arr = src.read(1, window = win)\n",
    "                sub['dem'] = (('x','y'),arr)\n",
    "                slope,aspect = grad2d(arr)\n",
    "                slope = array_resize(slope, target_shape)\n",
    "                aspect = array_resize(aspect, target_shape)\n",
    "                sub['slope'] = (('x','y'),slope)\n",
    "                sub['aspect'] = (('x','y'),aspect)\n",
    "            \n",
    "    else:\n",
    "        with rio.open(fp) as src:\n",
    "            if i == 0:\n",
    "                my_proj = pyproj.Proj(str(src.crs).lower())#your data crs\n",
    "                left_bottom = my_proj(left,bottom, inverse=False)\n",
    "                right_top = my_proj(right,top, inverse=False)\n",
    "                win = from_bounds(left_bottom[0], left_bottom[1], right_top[0], right_top[1], src.transform)\n",
    "                target_shape = src.read(1, window = win).shape\n",
    "                i = 1\n",
    "            sub[name] = (('x','y'),src.read(1, window = win))"
   ]
  },
  {
   "cell_type": "code",
   "execution_count": 8,
   "id": "896fdb74",
   "metadata": {},
   "outputs": [],
   "source": [
    "for im in glob(low_auc_dir + '/*resamp.tif', recursive = True):\n",
    "    with rio.open(im) as src:\n",
    "        dtype = basename(im).replace('_resamp.tif','')\n",
    "        pol = None\n",
    "        real_img = 'real'\n",
    "        sub[dtype] = (('x','y'),src.read(1, window = win))"
   ]
  },
  {
   "cell_type": "code",
   "execution_count": 9,
   "id": "705ba60d",
   "metadata": {},
   "outputs": [],
   "source": [
    "for img in os.listdir(loc_dir):\n",
    "    if 'csv' in img:\n",
    "        desc = pd.read_csv(join(loc_dir, img))\n",
    "\n",
    "for col in desc.columns:\n",
    "    if col not in desc.columns[0]:\n",
    "        if desc.loc[1,col] != '&':\n",
    "            sub.attrs[col] =  str(desc.loc[0,col])+ ' ' +str(desc.loc[1,col])\n",
    "        else:    \n",
    "            sub.attrs[col] =  str(desc.loc[0,col])\n",
    "sub.attrs['subset_coords'] = [left,bottom,right,top]"
   ]
  },
  {
   "cell_type": "code",
   "execution_count": 10,
   "id": "46c81ff1",
   "metadata": {},
   "outputs": [
    {
     "name": "stdout",
     "output_type": "stream",
     "text": [
      "2021-3-16\n"
     ]
    }
   ],
   "source": [
    "site = ee.Geometry.Polygon(\n",
    "    [[[right, bottom],\n",
    "      [left, bottom],\n",
    "      [left, top],\n",
    "      [right, top]]])\n",
    "\n",
    "from datetime import datetime\n",
    "start_date = pd.to_datetime(desc['start time of acquisition for pass 1'][0])\n",
    "end_date = pd.to_datetime(desc['start time of acquisition for pass 2'][0])\n",
    "start_date = f'{start_date.year}-{start_date.month}-{start_date.day}'\n",
    "end_date = f'{end_date.year}-{end_date.month}-{end_date.day}'\n",
    "print(start_date)\n",
    "\n",
    "prism = ee.ImageCollection('OREGONSTATE/PRISM/AN81d').filter(ee.Filter.date(start_date, end_date));\n",
    "total_ppt = prism.select('ppt').sum()\n",
    "mean_temp = prism.select('tmean').mean()\n",
    "\n",
    "def freezing_days(image):\n",
    "    return image.updateMask(image.gt(0))\n",
    "\n",
    "days_mean_af = prism.select('tmean').map(freezing_days).reduce(ee.Reducer.count())\n",
    "days_max_af = prism.select('tmax').map(freezing_days).reduce(ee.Reducer.count())"
   ]
  },
  {
   "cell_type": "code",
   "execution_count": 11,
   "id": "552b0720",
   "metadata": {},
   "outputs": [
    {
     "data": {
      "text/html": [
       "<div style=\"width:100%;\"><div style=\"position:relative;width:100%;height:0;padding-bottom:60%;\"><span style=\"color:#565656\">Make this Notebook Trusted to load map: File -> Trust Notebook</span><iframe src=\"about:blank\" style=\"position:absolute;width:100%;height:100%;left:0;top:0;border:none !important;\" data-html=%3C%21DOCTYPE%20html%3E%0A%3Chead%3E%20%20%20%20%0A%20%20%20%20%3Cmeta%20http-equiv%3D%22content-type%22%20content%3D%22text/html%3B%20charset%3DUTF-8%22%20/%3E%0A%20%20%20%20%0A%20%20%20%20%20%20%20%20%3Cscript%3E%0A%20%20%20%20%20%20%20%20%20%20%20%20L_NO_TOUCH%20%3D%20false%3B%0A%20%20%20%20%20%20%20%20%20%20%20%20L_DISABLE_3D%20%3D%20false%3B%0A%20%20%20%20%20%20%20%20%3C/script%3E%0A%20%20%20%20%0A%20%20%20%20%3Cstyle%3Ehtml%2C%20body%20%7Bwidth%3A%20100%25%3Bheight%3A%20100%25%3Bmargin%3A%200%3Bpadding%3A%200%3B%7D%3C/style%3E%0A%20%20%20%20%3Cstyle%3E%23map%20%7Bposition%3Aabsolute%3Btop%3A0%3Bbottom%3A0%3Bright%3A0%3Bleft%3A0%3B%7D%3C/style%3E%0A%20%20%20%20%3Cscript%20src%3D%22https%3A//cdn.jsdelivr.net/npm/leaflet%401.6.0/dist/leaflet.js%22%3E%3C/script%3E%0A%20%20%20%20%3Cscript%20src%3D%22https%3A//code.jquery.com/jquery-1.12.4.min.js%22%3E%3C/script%3E%0A%20%20%20%20%3Cscript%20src%3D%22https%3A//maxcdn.bootstrapcdn.com/bootstrap/3.2.0/js/bootstrap.min.js%22%3E%3C/script%3E%0A%20%20%20%20%3Cscript%20src%3D%22https%3A//cdnjs.cloudflare.com/ajax/libs/Leaflet.awesome-markers/2.0.2/leaflet.awesome-markers.js%22%3E%3C/script%3E%0A%20%20%20%20%3Clink%20rel%3D%22stylesheet%22%20href%3D%22https%3A//cdn.jsdelivr.net/npm/leaflet%401.6.0/dist/leaflet.css%22/%3E%0A%20%20%20%20%3Clink%20rel%3D%22stylesheet%22%20href%3D%22https%3A//maxcdn.bootstrapcdn.com/bootstrap/3.2.0/css/bootstrap.min.css%22/%3E%0A%20%20%20%20%3Clink%20rel%3D%22stylesheet%22%20href%3D%22https%3A//maxcdn.bootstrapcdn.com/bootstrap/3.2.0/css/bootstrap-theme.min.css%22/%3E%0A%20%20%20%20%3Clink%20rel%3D%22stylesheet%22%20href%3D%22https%3A//maxcdn.bootstrapcdn.com/font-awesome/4.6.3/css/font-awesome.min.css%22/%3E%0A%20%20%20%20%3Clink%20rel%3D%22stylesheet%22%20href%3D%22https%3A//cdnjs.cloudflare.com/ajax/libs/Leaflet.awesome-markers/2.0.2/leaflet.awesome-markers.css%22/%3E%0A%20%20%20%20%3Clink%20rel%3D%22stylesheet%22%20href%3D%22https%3A//cdn.jsdelivr.net/gh/python-visualization/folium/folium/templates/leaflet.awesome.rotate.min.css%22/%3E%0A%20%20%20%20%0A%20%20%20%20%20%20%20%20%20%20%20%20%3Cmeta%20name%3D%22viewport%22%20content%3D%22width%3Ddevice-width%2C%0A%20%20%20%20%20%20%20%20%20%20%20%20%20%20%20%20initial-scale%3D1.0%2C%20maximum-scale%3D1.0%2C%20user-scalable%3Dno%22%20/%3E%0A%20%20%20%20%20%20%20%20%20%20%20%20%3Cstyle%3E%0A%20%20%20%20%20%20%20%20%20%20%20%20%20%20%20%20%23map_511185fb9bfb48ea9b071e7a6a36ede0%20%7B%0A%20%20%20%20%20%20%20%20%20%20%20%20%20%20%20%20%20%20%20%20position%3A%20relative%3B%0A%20%20%20%20%20%20%20%20%20%20%20%20%20%20%20%20%20%20%20%20width%3A%20100.0%25%3B%0A%20%20%20%20%20%20%20%20%20%20%20%20%20%20%20%20%20%20%20%20height%3A%20100.0%25%3B%0A%20%20%20%20%20%20%20%20%20%20%20%20%20%20%20%20%20%20%20%20left%3A%200.0%25%3B%0A%20%20%20%20%20%20%20%20%20%20%20%20%20%20%20%20%20%20%20%20top%3A%200.0%25%3B%0A%20%20%20%20%20%20%20%20%20%20%20%20%20%20%20%20%7D%0A%20%20%20%20%20%20%20%20%20%20%20%20%3C/style%3E%0A%20%20%20%20%20%20%20%20%0A%20%20%20%20%3Cscript%20src%3D%22https%3A//cdnjs.cloudflare.com/ajax/libs/leaflet.fullscreen/1.4.2/Control.FullScreen.min.js%22%3E%3C/script%3E%0A%20%20%20%20%3Clink%20rel%3D%22stylesheet%22%20href%3D%22https%3A//cdnjs.cloudflare.com/ajax/libs/leaflet.fullscreen/1.4.2/Control.FullScreen.min.css%22/%3E%0A%3C/head%3E%0A%3Cbody%3E%20%20%20%20%0A%20%20%20%20%0A%20%20%20%20%20%20%20%20%20%20%20%20%3Cdiv%20class%3D%22folium-map%22%20id%3D%22map_511185fb9bfb48ea9b071e7a6a36ede0%22%20%3E%3C/div%3E%0A%20%20%20%20%20%20%20%20%0A%3C/body%3E%0A%3Cscript%3E%20%20%20%20%0A%20%20%20%20%0A%20%20%20%20%20%20%20%20%20%20%20%20var%20map_511185fb9bfb48ea9b071e7a6a36ede0%20%3D%20L.map%28%0A%20%20%20%20%20%20%20%20%20%20%20%20%20%20%20%20%22map_511185fb9bfb48ea9b071e7a6a36ede0%22%2C%0A%20%20%20%20%20%20%20%20%20%20%20%20%20%20%20%20%7B%0A%20%20%20%20%20%20%20%20%20%20%20%20%20%20%20%20%20%20%20%20center%3A%20%5B44.0%2C%20-115.6%5D%2C%0A%20%20%20%20%20%20%20%20%20%20%20%20%20%20%20%20%20%20%20%20crs%3A%20L.CRS.EPSG3857%2C%0A%20%20%20%20%20%20%20%20%20%20%20%20%20%20%20%20%20%20%20%20zoom%3A%2013%2C%0A%20%20%20%20%20%20%20%20%20%20%20%20%20%20%20%20%20%20%20%20zoomControl%3A%20true%2C%0A%20%20%20%20%20%20%20%20%20%20%20%20%20%20%20%20%20%20%20%20preferCanvas%3A%20false%2C%0A%20%20%20%20%20%20%20%20%20%20%20%20%20%20%20%20%7D%0A%20%20%20%20%20%20%20%20%20%20%20%20%29%3B%0A%0A%20%20%20%20%20%20%20%20%20%20%20%20%0A%0A%20%20%20%20%20%20%20%20%0A%20%20%20%20%0A%20%20%20%20%20%20%20%20%20%20%20%20var%20tile_layer_4820f908bb3c41db9b3fc67f466bafe4%20%3D%20L.tileLayer%28%0A%20%20%20%20%20%20%20%20%20%20%20%20%20%20%20%20%22https%3A//stamen-tiles-%7Bs%7D.a.ssl.fastly.net/terrain/%7Bz%7D/%7Bx%7D/%7By%7D.jpg%22%2C%0A%20%20%20%20%20%20%20%20%20%20%20%20%20%20%20%20%7B%22attribution%22%3A%20%22Map%20tiles%20by%20%5Cu003ca%20href%3D%5C%22http%3A//stamen.com%5C%22%5Cu003eStamen%20Design%5Cu003c/a%5Cu003e%2C%20under%20%5Cu003ca%20href%3D%5C%22http%3A//creativecommons.org/licenses/by/3.0%5C%22%5Cu003eCC%20BY%203.0%5Cu003c/a%5Cu003e.%20Data%20by%20%5Cu0026copy%3B%20%5Cu003ca%20href%3D%5C%22http%3A//openstreetmap.org%5C%22%5Cu003eOpenStreetMap%5Cu003c/a%5Cu003e%2C%20under%20%5Cu003ca%20href%3D%5C%22http%3A//creativecommons.org/licenses/by-sa/3.0%5C%22%5Cu003eCC%20BY%20SA%5Cu003c/a%5Cu003e.%22%2C%20%22detectRetina%22%3A%20false%2C%20%22maxNativeZoom%22%3A%2018%2C%20%22maxZoom%22%3A%2018%2C%20%22minZoom%22%3A%200%2C%20%22noWrap%22%3A%20false%2C%20%22opacity%22%3A%201%2C%20%22subdomains%22%3A%20%22abc%22%2C%20%22tms%22%3A%20false%7D%0A%20%20%20%20%20%20%20%20%20%20%20%20%29.addTo%28map_511185fb9bfb48ea9b071e7a6a36ede0%29%3B%0A%20%20%20%20%20%20%20%20%0A%20%20%20%20%0A%20%20%20%20%20%20%20%20%20%20%20%20var%20tile_layer_06f3a87518794fc7ab7a117612284918%20%3D%20L.tileLayer%28%0A%20%20%20%20%20%20%20%20%20%20%20%20%20%20%20%20%22https%3A//mt1.google.com/vt/lyrs%3Dy%5Cu0026x%3D%7Bx%7D%5Cu0026y%3D%7By%7D%5Cu0026z%3D%7Bz%7D%22%2C%0A%20%20%20%20%20%20%20%20%20%20%20%20%20%20%20%20%7B%22attribution%22%3A%20%22Google%22%2C%20%22detectRetina%22%3A%20false%2C%20%22maxNativeZoom%22%3A%2018%2C%20%22maxZoom%22%3A%2018%2C%20%22minZoom%22%3A%200%2C%20%22noWrap%22%3A%20false%2C%20%22opacity%22%3A%201%2C%20%22subdomains%22%3A%20%22abc%22%2C%20%22tms%22%3A%20false%7D%0A%20%20%20%20%20%20%20%20%20%20%20%20%29.addTo%28map_511185fb9bfb48ea9b071e7a6a36ede0%29%3B%0A%20%20%20%20%20%20%20%20%0A%20%20%20%20%0A%20%20%20%20%20%20%20%20%20%20%20%20var%20tile_layer_391a22705dd245508b91c9b3bcc3b90c%20%3D%20L.tileLayer%28%0A%20%20%20%20%20%20%20%20%20%20%20%20%20%20%20%20%22https%3A//earthengine.googleapis.com/v1alpha/projects/earthengine-legacy/maps/3f38131fbebf42cf64b8bc250fc5772c-4ae38d1c61861db30eabbc64ec80deae/tiles/%7Bz%7D/%7Bx%7D/%7By%7D%22%2C%0A%20%20%20%20%20%20%20%20%20%20%20%20%20%20%20%20%7B%22attribution%22%3A%20%22Google%20Earth%20Engine%22%2C%20%22detectRetina%22%3A%20false%2C%20%22maxNativeZoom%22%3A%2018%2C%20%22maxZoom%22%3A%2018%2C%20%22minZoom%22%3A%200%2C%20%22noWrap%22%3A%20false%2C%20%22opacity%22%3A%201%2C%20%22subdomains%22%3A%20%22abc%22%2C%20%22tms%22%3A%20false%7D%0A%20%20%20%20%20%20%20%20%20%20%20%20%29.addTo%28map_511185fb9bfb48ea9b071e7a6a36ede0%29%3B%0A%20%20%20%20%20%20%20%20%0A%20%20%20%20%0A%20%20%20%20%20%20%20%20%20%20%20%20var%20tile_layer_da283a801159411e8c32dc2b892bc67d%20%3D%20L.tileLayer%28%0A%20%20%20%20%20%20%20%20%20%20%20%20%20%20%20%20%22https%3A//earthengine.googleapis.com/v1alpha/projects/earthengine-legacy/maps/b0a6b94486b6d8f0c5a6b6ef5fa0d20f-65f78a5646e04bfd1bbdf50db1e552d8/tiles/%7Bz%7D/%7Bx%7D/%7By%7D%22%2C%0A%20%20%20%20%20%20%20%20%20%20%20%20%20%20%20%20%7B%22attribution%22%3A%20%22Google%20Earth%20Engine%22%2C%20%22detectRetina%22%3A%20false%2C%20%22maxNativeZoom%22%3A%2018%2C%20%22maxZoom%22%3A%2018%2C%20%22minZoom%22%3A%200%2C%20%22noWrap%22%3A%20false%2C%20%22opacity%22%3A%201%2C%20%22subdomains%22%3A%20%22abc%22%2C%20%22tms%22%3A%20false%7D%0A%20%20%20%20%20%20%20%20%20%20%20%20%29.addTo%28map_511185fb9bfb48ea9b071e7a6a36ede0%29%3B%0A%20%20%20%20%20%20%20%20%0A%20%20%20%20%0A%20%20%20%20%20%20%20%20%20%20%20%20var%20tile_layer_34ede527860b4f1aa37edfc37821ec26%20%3D%20L.tileLayer%28%0A%20%20%20%20%20%20%20%20%20%20%20%20%20%20%20%20%22https%3A//earthengine.googleapis.com/v1alpha/projects/earthengine-legacy/maps/02684eed1968d19aa70936fa23e1231c-05e52c486f49eb7597909a522f4f7c69/tiles/%7Bz%7D/%7Bx%7D/%7By%7D%22%2C%0A%20%20%20%20%20%20%20%20%20%20%20%20%20%20%20%20%7B%22attribution%22%3A%20%22Google%20Earth%20Engine%22%2C%20%22detectRetina%22%3A%20false%2C%20%22maxNativeZoom%22%3A%2018%2C%20%22maxZoom%22%3A%2018%2C%20%22minZoom%22%3A%200%2C%20%22noWrap%22%3A%20false%2C%20%22opacity%22%3A%201%2C%20%22subdomains%22%3A%20%22abc%22%2C%20%22tms%22%3A%20false%7D%0A%20%20%20%20%20%20%20%20%20%20%20%20%29.addTo%28map_511185fb9bfb48ea9b071e7a6a36ede0%29%3B%0A%20%20%20%20%20%20%20%20%0A%20%20%20%20%0A%20%20%20%20%20%20%20%20%20%20%20%20var%20tile_layer_c08fe1c9356243d3a2638d824b249c50%20%3D%20L.tileLayer%28%0A%20%20%20%20%20%20%20%20%20%20%20%20%20%20%20%20%22https%3A//earthengine.googleapis.com/v1alpha/projects/earthengine-legacy/maps/6e83167b244960b48c4ccc4e5919ddd2-15903e82479427a822674c2549c59304/tiles/%7Bz%7D/%7Bx%7D/%7By%7D%22%2C%0A%20%20%20%20%20%20%20%20%20%20%20%20%20%20%20%20%7B%22attribution%22%3A%20%22Google%20Earth%20Engine%22%2C%20%22detectRetina%22%3A%20false%2C%20%22maxNativeZoom%22%3A%2018%2C%20%22maxZoom%22%3A%2018%2C%20%22minZoom%22%3A%200%2C%20%22noWrap%22%3A%20false%2C%20%22opacity%22%3A%201%2C%20%22subdomains%22%3A%20%22abc%22%2C%20%22tms%22%3A%20false%7D%0A%20%20%20%20%20%20%20%20%20%20%20%20%29.addTo%28map_511185fb9bfb48ea9b071e7a6a36ede0%29%3B%0A%20%20%20%20%20%20%20%20%0A%20%20%20%20%0A%20%20%20%20%20%20%20%20%20%20%20%20var%20tile_layer_cbc557005a214409a5edb611c5be1e29%20%3D%20L.tileLayer%28%0A%20%20%20%20%20%20%20%20%20%20%20%20%20%20%20%20%22https%3A//earthengine.googleapis.com/v1alpha/projects/earthengine-legacy/maps/01a9f3df544732e90f9d71a579c873e9-c8d9e58654d248d3871433e6f797429b/tiles/%7Bz%7D/%7Bx%7D/%7By%7D%22%2C%0A%20%20%20%20%20%20%20%20%20%20%20%20%20%20%20%20%7B%22attribution%22%3A%20%22Google%20Earth%20Engine%22%2C%20%22detectRetina%22%3A%20false%2C%20%22maxNativeZoom%22%3A%2018%2C%20%22maxZoom%22%3A%2018%2C%20%22minZoom%22%3A%200%2C%20%22noWrap%22%3A%20false%2C%20%22opacity%22%3A%201%2C%20%22subdomains%22%3A%20%22abc%22%2C%20%22tms%22%3A%20false%7D%0A%20%20%20%20%20%20%20%20%20%20%20%20%29.addTo%28map_511185fb9bfb48ea9b071e7a6a36ede0%29%3B%0A%20%20%20%20%20%20%20%20%0A%20%20%20%20%0A%20%20%20%20%20%20%20%20%20%20%20%20var%20layer_control_ca8906f7116d4ca98d954dce6cf82857%20%3D%20%7B%0A%20%20%20%20%20%20%20%20%20%20%20%20%20%20%20%20base_layers%20%3A%20%7B%0A%20%20%20%20%20%20%20%20%20%20%20%20%20%20%20%20%20%20%20%20%22stamenterrain%22%20%3A%20tile_layer_4820f908bb3c41db9b3fc67f466bafe4%2C%0A%20%20%20%20%20%20%20%20%20%20%20%20%20%20%20%20%7D%2C%0A%20%20%20%20%20%20%20%20%20%20%20%20%20%20%20%20overlays%20%3A%20%20%7B%0A%20%20%20%20%20%20%20%20%20%20%20%20%20%20%20%20%20%20%20%20%22Google%20Satellite%22%20%3A%20tile_layer_06f3a87518794fc7ab7a117612284918%2C%0A%20%20%20%20%20%20%20%20%20%20%20%20%20%20%20%20%20%20%20%20%22tmean%22%20%3A%20tile_layer_391a22705dd245508b91c9b3bcc3b90c%2C%0A%20%20%20%20%20%20%20%20%20%20%20%20%20%20%20%20%20%20%20%20%22tree%20coverage%22%20%3A%20tile_layer_da283a801159411e8c32dc2b892bc67d%2C%0A%20%20%20%20%20%20%20%20%20%20%20%20%20%20%20%20%20%20%20%20%22ground%20coverage%22%20%3A%20tile_layer_34ede527860b4f1aa37edfc37821ec26%2C%0A%20%20%20%20%20%20%20%20%20%20%20%20%20%20%20%20%20%20%20%20%22NED%20land%20forms%22%20%3A%20tile_layer_c08fe1c9356243d3a2638d824b249c50%2C%0A%20%20%20%20%20%20%20%20%20%20%20%20%20%20%20%20%20%20%20%20%22Lithography%22%20%3A%20tile_layer_cbc557005a214409a5edb611c5be1e29%2C%0A%20%20%20%20%20%20%20%20%20%20%20%20%20%20%20%20%7D%2C%0A%20%20%20%20%20%20%20%20%20%20%20%20%7D%3B%0A%20%20%20%20%20%20%20%20%20%20%20%20L.control.layers%28%0A%20%20%20%20%20%20%20%20%20%20%20%20%20%20%20%20layer_control_ca8906f7116d4ca98d954dce6cf82857.base_layers%2C%0A%20%20%20%20%20%20%20%20%20%20%20%20%20%20%20%20layer_control_ca8906f7116d4ca98d954dce6cf82857.overlays%2C%0A%20%20%20%20%20%20%20%20%20%20%20%20%20%20%20%20%7B%22autoZIndex%22%3A%20true%2C%20%22collapsed%22%3A%20true%2C%20%22position%22%3A%20%22topright%22%7D%0A%20%20%20%20%20%20%20%20%20%20%20%20%29.addTo%28map_511185fb9bfb48ea9b071e7a6a36ede0%29%3B%0A%20%20%20%20%20%20%20%20%20%20%20%20tile_layer_da283a801159411e8c32dc2b892bc67d.remove%28%29%3B%0A%20%20%20%20%20%20%20%20%20%20%20%20tile_layer_34ede527860b4f1aa37edfc37821ec26.remove%28%29%3B%0A%20%20%20%20%20%20%20%20%20%20%20%20tile_layer_c08fe1c9356243d3a2638d824b249c50.remove%28%29%3B%0A%20%20%20%20%20%20%20%20%20%20%20%20tile_layer_cbc557005a214409a5edb611c5be1e29.remove%28%29%3B%0A%20%20%20%20%20%20%20%20%0A%20%20%20%20%0A%20%20%20%20%20%20%20%20%20%20%20%20L.control.fullscreen%28%0A%20%20%20%20%20%20%20%20%20%20%20%20%20%20%20%20%7B%22forceSeparateButton%22%3A%20false%2C%20%22position%22%3A%20%22topleft%22%2C%20%22title%22%3A%20%22Full%20Screen%22%2C%20%22titleCancel%22%3A%20%22Exit%20Full%20Screen%22%7D%0A%20%20%20%20%20%20%20%20%20%20%20%20%29.addTo%28map_511185fb9bfb48ea9b071e7a6a36ede0%29%3B%0A%20%20%20%20%20%20%20%20%0A%20%20%20%20%0A%20%20%20%20%20%20%20%20%20%20%20%20%20%20%20%20var%20lat_lng_popup_19b24f0bf0934de0baee0069b7cb675a%20%3D%20L.popup%28%29%3B%0A%20%20%20%20%20%20%20%20%20%20%20%20%20%20%20%20function%20latLngPop%28e%29%20%7B%0A%20%20%20%20%20%20%20%20%20%20%20%20%20%20%20%20%20%20%20%20lat_lng_popup_19b24f0bf0934de0baee0069b7cb675a%0A%20%20%20%20%20%20%20%20%20%20%20%20%20%20%20%20%20%20%20%20%20%20%20%20.setLatLng%28e.latlng%29%0A%20%20%20%20%20%20%20%20%20%20%20%20%20%20%20%20%20%20%20%20%20%20%20%20.setContent%28%22Latitude%3A%20%22%20%2B%20e.latlng.lat.toFixed%284%29%20%2B%0A%20%20%20%20%20%20%20%20%20%20%20%20%20%20%20%20%20%20%20%20%20%20%20%20%20%20%20%20%20%20%20%20%20%20%20%20%22%3Cbr%3ELongitude%3A%20%22%20%2B%20e.latlng.lng.toFixed%284%29%29%0A%20%20%20%20%20%20%20%20%20%20%20%20%20%20%20%20%20%20%20%20%20%20%20%20.openOn%28map_511185fb9bfb48ea9b071e7a6a36ede0%29%3B%0A%20%20%20%20%20%20%20%20%20%20%20%20%20%20%20%20%20%20%20%20%7D%0A%20%20%20%20%20%20%20%20%20%20%20%20%20%20%20%20map_511185fb9bfb48ea9b071e7a6a36ede0.on%28%27click%27%2C%20latLngPop%29%3B%0A%20%20%20%20%20%20%20%20%20%20%20%20%0A%3C/script%3E onload=\"this.contentDocument.open();this.contentDocument.write(    decodeURIComponent(this.getAttribute('data-html')));this.contentDocument.close();\" allowfullscreen webkitallowfullscreen mozallowfullscreen></iframe></div></div>"
      ],
      "text/plain": [
       "<folium.folium.Map at 0x7fd982070550>"
      ]
     },
     "execution_count": 11,
     "metadata": {},
     "output_type": "execute_result"
    }
   ],
   "source": [
    "Map = folium.Map(location=[bottom,left],\n",
    "                   tiles='Stamen Terrain', zoom_start = 13)\n",
    "\n",
    "# To see a google satellite view as a basemap\n",
    "Map.setOptions('HYBRID')\n",
    "\n",
    "Map.addLayer(prism.select('tmean').mean().clip(site), {min:0,max:3}, 'tmean', 1)\n",
    "Map.addLayer(total_ppt.clip(site), {'min':0,'max':50}, 'tree coverage', 0)\n",
    "Map.addLayer(mean_temp.clip(site), {'min':0,'max':5}, 'ground coverage', 0)\n",
    "Map.addLayer(days_mean_af.clip(site), {'min':0, 'max':6}, 'NED land forms', 0)\n",
    "Map.addLayer(days_max_af.clip(site), {'min':0,'max':8}, 'Lithography', 0)\n",
    "\n",
    "Map.setControlVisibility(layerControl=True, fullscreenControl=True, latLngPopup=True)\n",
    "\n",
    "# Display map \n",
    "Map"
   ]
  },
  {
   "cell_type": "code",
   "execution_count": 12,
   "id": "096c71eb",
   "metadata": {},
   "outputs": [],
   "source": [
    "imdic = {total_ppt:'ppt',mean_temp:'tmean',days_mean_af: 'tmean_count', days_max_af: 'tmax_count'}\n",
    "namedic = {total_ppt:'ppt_total',mean_temp:'tmean',days_mean_af: 'mean_af_days', days_max_af: 'max_af_days'}\n",
    "for im in [total_ppt, mean_temp, days_mean_af, days_max_af]:\n",
    "    layer = imdic[im]\n",
    "    name = namedic[im]\n",
    "    arr = np.array(im.select(layer).reproject(scale = 1000,crs = mean_temp.projection()).sampleRectangle(site).get(layer).getInfo())\n",
    "    new_arr = array_resize(arr, target_shape)\n",
    "    sub[name] = (('x','y'),new_arr)"
   ]
  },
  {
   "cell_type": "code",
   "execution_count": 13,
   "id": "7030da02",
   "metadata": {},
   "outputs": [],
   "source": [
    "from scipy import ndimage\n",
    "from tqdm import tqdm\n",
    "\n",
    "KERNEL_DIMENSIONS=[5,5] # doesn't have to be square\n",
    "\n",
    "#Set up function \n",
    "def focal_variance(subarr):\n",
    "\t\"\"\"Calcualte variance of an array\n",
    "\t\"\"\"\n",
    "\treturn(ndimage.variance(subarr))\n",
    "\n",
    "#Set up moving window (kernel) dimensions\n",
    "footprint=np.ones((KERNEL_DIMENSIONS[0],KERNEL_DIMENSIONS[1])) \n",
    "\n",
    "#Apply function across dataset\n",
    "processedArray= ndimage.generic_filter(sub['dem'], focal_variance, footprint=footprint)\n"
   ]
  },
  {
   "cell_type": "code",
   "execution_count": 14,
   "id": "2ea145f2",
   "metadata": {},
   "outputs": [],
   "source": [
    "processedArray = array_resize(processedArray, target_shape)"
   ]
  },
  {
   "cell_type": "code",
   "execution_count": 15,
   "id": "3b2a6af6",
   "metadata": {},
   "outputs": [],
   "source": [
    "sub['focal_var'] = (('x','y'),processedArray)"
   ]
  },
  {
   "cell_type": "code",
   "execution_count": null,
   "id": "21ced0e0",
   "metadata": {},
   "outputs": [
    {
     "name": "stdout",
     "output_type": "stream",
     "text": [
      "Band1 has shape (21603, 23940)\n"
     ]
    }
   ],
   "source": [
    "import rasterio\n",
    "import numpy as np\n",
    "from affine import Affine\n",
    "from pyproj import Proj, transform\n",
    "i = 0\n",
    "for im in glob(loc_dir + '/*.tif'):\n",
    "    if i == 0:\n",
    "        with rasterio.open(im) as src:\n",
    "            band1 = src.read(1)\n",
    "            print('Band1 has shape', band1.shape)\n",
    "            height = band1.shape[0]\n",
    "            width = band1.shape[1]\n",
    "            cols, rows = np.meshgrid(np.arange(width), np.arange(height))\n",
    "            xs, ys = rasterio.transform.xy(src.transform, rows, cols)\n",
    "            lons= np.array(xs)\n",
    "            lats = np.array(ys)\n",
    "            print('lons shape', lons.shape)\n",
    "    i = 1    \n",
    "print(A.shape)"
   ]
  },
  {
   "cell_type": "code",
   "execution_count": null,
   "id": "2df0fbb0",
   "metadata": {},
   "outputs": [],
   "source": [
    "for name, values in sub.items():\n",
    "    if name != 'dem':\n",
    "        sub[name] = sub[name].where(sub['dem'] != -10000.0)\n",
    "sub['dem'] = sub['dem'].where(sub['dem'] != -10000.0)"
   ]
  },
  {
   "cell_type": "code",
   "execution_count": null,
   "id": "23c67232",
   "metadata": {},
   "outputs": [],
   "source": [
    "sub"
   ]
  },
  {
   "cell_type": "code",
   "execution_count": null,
   "id": "69e411a0",
   "metadata": {},
   "outputs": [],
   "source": [
    "sub.to_netcdf('../data/netcdfs/banner_lowman_05208_21019-019_21021-007_0006d.nc')"
   ]
  },
  {
   "cell_type": "code",
   "execution_count": null,
   "id": "e68f0abc",
   "metadata": {},
   "outputs": [],
   "source": []
  }
 ],
 "metadata": {
  "kernelspec": {
   "display_name": "Python 3",
   "language": "python",
   "name": "python3"
  },
  "language_info": {
   "codemirror_mode": {
    "name": "ipython",
    "version": 3
   },
   "file_extension": ".py",
   "mimetype": "text/x-python",
   "name": "python",
   "nbconvert_exporter": "python",
   "pygments_lexer": "ipython3",
   "version": "3.8.8"
  }
 },
 "nbformat": 4,
 "nbformat_minor": 5
}
