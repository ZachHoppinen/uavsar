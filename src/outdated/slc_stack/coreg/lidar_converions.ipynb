{
 "cells": [
  {
   "cell_type": "code",
   "execution_count": 34,
   "metadata": {},
   "outputs": [],
   "source": [
    "import rasterio\n",
    "from rasterio.plot import show\n",
    "from os.path import basename, dirname, exists, join\n",
    "from glob import glob\n",
    "import matplotlib.pyplot as plt\n",
    "import numpy as np"
   ]
  },
  {
   "cell_type": "code",
   "execution_count": 4,
   "metadata": {},
   "outputs": [],
   "source": [
    "work_dir = '/scratch/zacharykeskinen/'\n",
    "lidar_files = glob(join(work_dir,'lidar','banner','*wgs84.tiff'))"
   ]
  },
  {
   "cell_type": "code",
   "execution_count": 71,
   "metadata": {},
   "outputs": [],
   "source": [
    "lidar_dir = '/scratch/zacharykeskinen/lidar/banner/'\n",
    "snow_on = '/scratch/zacharykeskinen/lidar/banner/snow_on_wgs84.tiff'\n",
    "snow_off = '/scratch/zacharykeskinen/lidar/banner/snow_free_wgs84.tiff'\n",
    "veg = '/scratch/zacharykeskinen/lidar/banner/snow_free_veg_wgs84.tiff'"
   ]
  },
  {
   "cell_type": "code",
   "execution_count": 7,
   "metadata": {},
   "outputs": [],
   "source": [
    "with rasterio.open(snow_on) as snow_on_src:\n",
    "    snow_on_arr = snow_on_src.read(1)\n",
    "with rasterio.open(snow_off) as snow_off_src:\n",
    "    snow_off_arr = snow_off_src.read(1)\n",
    "with rasterio.open(veg) as veg_src:\n",
    "    veg_arr = veg_src.read(1)\n",
    "# mask out nan's (-3.8e38)\n",
    "snow_on_arr_ma = np.ma.masked_less(snow_on_arr, 0)\n",
    "snow_off_arr_ma = np.ma.masked_less(snow_off_arr, 0)\n",
    "veg_arr_ma = np.ma.masked_less(veg_arr, 0)"
   ]
  },
  {
   "cell_type": "markdown",
   "metadata": {},
   "source": [
    "get snow depths and save them"
   ]
  },
  {
   "cell_type": "code",
   "execution_count": 77,
   "metadata": {},
   "outputs": [
    {
     "ename": "ValueError",
     "evalue": "Source shape (28451, 36459) is inconsistent with given indexes 1",
     "output_type": "error",
     "traceback": [
      "\u001b[0;31m---------------------------------------------------------------------------\u001b[0m",
      "\u001b[0;31mValueError\u001b[0m                                Traceback (most recent call last)",
      "\u001b[1;32m/home/zacharykeskinen/uavsar/src/slc_stack/lidar_snow_depth_veg.ipynb Cell 5'\u001b[0m in \u001b[0;36m<module>\u001b[0;34m\u001b[0m\n\u001b[1;32m     <a href='vscode-notebook-cell://ssh-remote%2Bkelvin/home/zacharykeskinen/uavsar/src/slc_stack/lidar_snow_depth_veg.ipynb#ch0000025vscode-remote?line=51'>52</a>\u001b[0m kwargs\u001b[39m.\u001b[39mupdate({\n\u001b[1;32m     <a href='vscode-notebook-cell://ssh-remote%2Bkelvin/home/zacharykeskinen/uavsar/src/slc_stack/lidar_snow_depth_veg.ipynb#ch0000025vscode-remote?line=52'>53</a>\u001b[0m \u001b[39m'\u001b[39m\u001b[39mheight\u001b[39m\u001b[39m'\u001b[39m: c_ma\u001b[39m.\u001b[39mshape[\u001b[39m0\u001b[39m],\n\u001b[1;32m     <a href='vscode-notebook-cell://ssh-remote%2Bkelvin/home/zacharykeskinen/uavsar/src/slc_stack/lidar_snow_depth_veg.ipynb#ch0000025vscode-remote?line=53'>54</a>\u001b[0m \u001b[39m'\u001b[39m\u001b[39mwidth\u001b[39m\u001b[39m'\u001b[39m: c_ma\u001b[39m.\u001b[39mshape[\u001b[39m1\u001b[39m]})\n\u001b[1;32m     <a href='vscode-notebook-cell://ssh-remote%2Bkelvin/home/zacharykeskinen/uavsar/src/slc_stack/lidar_snow_depth_veg.ipynb#ch0000025vscode-remote?line=54'>55</a>\u001b[0m \u001b[39mwith\u001b[39;00m rasterio\u001b[39m.\u001b[39mopen(dst_fp, \u001b[39m'\u001b[39m\u001b[39mw\u001b[39m\u001b[39m'\u001b[39m, \u001b[39m*\u001b[39m\u001b[39m*\u001b[39mkwargs) \u001b[39mas\u001b[39;00m snow_depth:\n\u001b[0;32m---> <a href='vscode-notebook-cell://ssh-remote%2Bkelvin/home/zacharykeskinen/uavsar/src/slc_stack/lidar_snow_depth_veg.ipynb#ch0000025vscode-remote?line=55'>56</a>\u001b[0m     snow_depth\u001b[39m.\u001b[39;49mwrite(c_ma)\n",
      "File \u001b[0;32mrasterio/_io.pyx:1361\u001b[0m, in \u001b[0;36mrasterio._io.DatasetWriterBase.write\u001b[0;34m()\u001b[0m\n",
      "\u001b[0;31mValueError\u001b[0m: Source shape (28451, 36459) is inconsistent with given indexes 1"
     ]
    }
   ],
   "source": [
    "import rasterio\n",
    "from rasterio.features import shapes\n",
    "from rasterio.mask import mask\n",
    "from rasterio.warp import reproject, Resampling\n",
    "\n",
    "\n",
    "with rasterio.open(snow_on) as img_to_crop, rasterio.open(snow_off) as img_ref:\n",
    "    # merged dataset = set to crop (snow_on)\n",
    "    # img['b2'] = extent to calculate (snow_off)\n",
    "    # get the extents of the snow off as a geometry\n",
    "    snow_off_arr = img_ref.read(1)\n",
    "    extents, _ = next(shapes(np.zeros_like(snow_off_arr), transform=img_ref.profile['transform']))\n",
    "\n",
    "    # crop the snow_on to the snowoff extents\n",
    "    cropped_snow_on, crop_transf = mask(img_to_crop, [extents], crop=True)\n",
    "    kwargs = img_to_crop.meta.copy()\n",
    "    kwargs.update({\n",
    "        'height': cropped_snow_on.shape[1],\n",
    "        'width': cropped_snow_on.shape[2],\n",
    "        'transform': crop_transf})\n",
    "    snow_on_clip = snow_on.replace('.tiff','_clip.tiff')\n",
    "    with rasterio.open(snow_on_clip, 'w', **kwargs) as dst_clip:\n",
    "        dst_clip.write(cropped_snow_on)\n",
    "\n",
    "        # reproject to match pixels between snow_on and snow_off\n",
    "        kwargs = img_to_crop.meta.copy()\n",
    "        kwargs.update({\n",
    "            'crs': img_ref.crs,\n",
    "            'transform': img_ref.transform,\n",
    "            'width': img_ref.width,\n",
    "            'height': img_ref.height\n",
    "        })\n",
    "        snow_on_clip_rep = snow_on_clip.replace('.tiff','_repro.tiff')\n",
    "        with rasterio.open(snow_on_clip_rep, 'w', **kwargs) as dst:\n",
    "            reproject(\n",
    "                source=rasterio.band(dst_clip, 1),\n",
    "                destination=rasterio.band(dst, 1),\n",
    "                src_transform=img_to_crop.transform,\n",
    "                src_crs=img_to_crop.crs,\n",
    "                dst_transform=img_ref.transform,\n",
    "                dst_crs=img_ref.crs,\n",
    "                resampling=Resampling.nearest)\n",
    "\n",
    "with rasterio.open(snow_on_clip_rep) as snow_on_src, rasterio.open(snow_off) as snow_off_src:\n",
    "    a = snow_on_src.read(1)\n",
    "    b = snow_off_src.read(1)\n",
    "    c = a-b\n",
    "    c_ma = np.ma.masked_less(c, -100)\n",
    "    c_ma = np.ma.masked_greater(c_ma, 100)\n",
    "    dst_fp = join(lidar_dir, 'snow_depth.tiff')\n",
    "    kwargs = snow_off_src.meta.copy()\n",
    "    kwargs.update({\n",
    "    'height': c_ma.shape[0],\n",
    "    'width': c_ma.shape[1]})\n",
    "    with rasterio.open(dst_fp, 'w', **kwargs) as snow_depth:\n",
    "        snow_depth.write(c_ma, indexes=1)"
   ]
  },
  {
   "cell_type": "markdown",
   "metadata": {},
   "source": [
    "Get Tree heights and save them"
   ]
  },
  {
   "cell_type": "code",
   "execution_count": 84,
   "metadata": {},
   "outputs": [],
   "source": [
    "with rasterio.open(veg) as src_veg, rasterio.open(snow_off) as src_ground:\n",
    "    a = src_veg.read(1)\n",
    "    b = src_ground.read(1)\n",
    "    c = a - b\n",
    "    c_ma = np.ma.masked_less(c, -1000)\n",
    "    c_ma = np.ma.masked_greater(c_ma, 1000)\n",
    "    kwargs = src_ground.meta.copy()\n",
    "    dst_fp = join(lidar_dir, 'veg_height.tiff')\n",
    "    with rasterio.open(dst_fp, 'w', **kwargs) as veg_height:\n",
    "        veg_height.write(c_ma, indexes=1)"
   ]
  }
 ],
 "metadata": {
  "interpreter": {
   "hash": "c732e25fc97d715fc566a980b16236952ce6fa020fb71e866d38b624bf749806"
  },
  "kernelspec": {
   "display_name": "Python 3.9.10 ('uavsar')",
   "language": "python",
   "name": "python3"
  },
  "language_info": {
   "codemirror_mode": {
    "name": "ipython",
    "version": 3
   },
   "file_extension": ".py",
   "mimetype": "text/x-python",
   "name": "python",
   "nbconvert_exporter": "python",
   "pygments_lexer": "ipython3",
   "version": "3.9.10"
  },
  "orig_nbformat": 4
 },
 "nbformat": 4,
 "nbformat_minor": 2
}
