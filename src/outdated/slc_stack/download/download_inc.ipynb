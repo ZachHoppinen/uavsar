{
 "cells": [
  {
   "cell_type": "code",
   "execution_count": 1,
   "metadata": {},
   "outputs": [],
   "source": [
    "from uavsar_pytools import UavsarImage, UavsarScene"
   ]
  },
  {
   "cell_type": "code",
   "execution_count": null,
   "metadata": {},
   "outputs": [],
   "source": [
    "inc_url = 'https://datapool.asf.alaska.edu/INC/UA/lowman_23205_21019_018_210316_L090_CX_01.inc'\n",
    "ann_url = 'https://datapool.asf.alaska.edu/METADATA/UA/lowman_23205_21019_018_210316_L090_CX_01.ann'\n",
    "work_dir = '/scratch/zacharykeskinen/'\n",
    "img = UavsarImage(inc_url, work_dir, ann_url = ann_url)\n",
    "img.url_to_tiff()"
   ]
  },
  {
   "cell_type": "code",
   "execution_count": null,
   "metadata": {},
   "outputs": [],
   "source": [
    "int_url = 'https://datapool.asf.alaska.edu/INC/UA/lowman_23205_21019_018_210316_L090_CX_01.inc'\n",
    "work_dir = '/scratch/zacharykeskinen/'\n",
    "img = UavsarScene(int_url, work_dir)\n",
    "img.url_to_tiffs()"
   ]
  }
 ],
 "metadata": {
  "interpreter": {
   "hash": "c732e25fc97d715fc566a980b16236952ce6fa020fb71e866d38b624bf749806"
  },
  "kernelspec": {
   "display_name": "Python 3.9.10 ('uavsar')",
   "language": "python",
   "name": "python3"
  },
  "language_info": {
   "codemirror_mode": {
    "name": "ipython",
    "version": 3
   },
   "file_extension": ".py",
   "mimetype": "text/x-python",
   "name": "python",
   "nbconvert_exporter": "python",
   "pygments_lexer": "ipython3",
   "version": "3.9.10"
  },
  "orig_nbformat": 4
 },
 "nbformat": 4,
 "nbformat_minor": 2
}
