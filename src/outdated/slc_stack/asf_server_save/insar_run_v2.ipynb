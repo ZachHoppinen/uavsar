{
 "cells": [
  {
   "cell_type": "code",
   "execution_count": 24,
   "id": "804dcd47",
   "metadata": {},
   "outputs": [],
   "source": [
    "import glob\n",
    "import os\n",
    "import stat\n",
    "import sys\n",
    "from datetime import datetime\n",
    "import itertools\n",
    "import sys\n",
    "sys.path.append(\"/home/jovyan/work/GrMesa2\")"
   ]
  },
  {
   "cell_type": "code",
   "execution_count": null,
   "id": "98bbd474",
   "metadata": {},
   "outputs": [],
   "source": [
    "!dem.py -a stitch -b 43 45 -113 -116 -r -s 1 -c\n",
    "!rm demLat*.dem demLat*.dem.xml demLat*.dem.vrt"
   ]
  },
  {
   "cell_type": "code",
   "execution_count": 21,
   "id": "d405c41a",
   "metadata": {},
   "outputs": [],
   "source": [
    "!mv downloadHH/*.dop ."
   ]
  },
  {
   "cell_type": "code",
   "execution_count": 31,
   "id": "117e0e37",
   "metadata": {},
   "outputs": [
    {
     "name": "stdout",
     "output_type": "stream",
     "text": [
      "demLat_N43_N45_Lon_W116_W113.dem.wgs84\t    lowman_23205_01_BC.dop\r\n",
      "demLat_N43_N45_Lon_W116_W113.dem.wgs84.vrt  prepareUAVSAR_coregStack.py\r\n",
      "demLat_N43_N45_Lon_W116_W113.dem.wgs84.xml  src\r\n",
      "downloadHH\t\t\t\t    Untitled.ipynb\r\n",
      "insar.log\r\n"
     ]
    }
   ],
   "source": [
    "!ls"
   ]
  },
  {
   "cell_type": "code",
   "execution_count": 30,
   "id": "20f392a0",
   "metadata": {},
   "outputs": [
    {
     "name": "stdout",
     "output_type": "stream",
     "text": [
      "This is the Open Source version of ISCE.\r\n",
      "Some of the workflows depend on a separate licensed package.\r\n",
      "To obtain the licensed package, please make a request for ISCE\r\n",
      "through the website: https://download.jpl.nasa.gov/ops/request/index.cfm.\r\n",
      "Alternatively, if you are a member, or can become a member of WinSAR\r\n",
      "you may be able to obtain access to a version of the licensed sofware at\r\n",
      "https://winsar.unavco.org/software/isce\r\n"
     ]
    }
   ],
   "source": [
    "# !prepareUAVSAR_coregStack.py -h\n",
    "!python3 prepareUAVSAR_coregStack.py -i downloadHH -o SLC -d lowman_23205_01_BC.dop -s 1"
   ]
  },
  {
   "cell_type": "code",
   "execution_count": 9,
   "id": "4ff9ed41",
   "metadata": {},
   "outputs": [
    {
     "name": "stdout",
     "output_type": "stream",
     "text": [
      "/bin/bash: /home/jovyan/work/GrMesa3: Is a directory\r\n"
     ]
    }
   ],
   "source": [
    "!/home/jovyan/work/GrMesa3"
   ]
  },
  {
   "cell_type": "code",
   "execution_count": 15,
   "id": "5f93d2e9",
   "metadata": {},
   "outputs": [
    {
     "data": {
      "text/plain": [
       "'/home/jovyan/work/GrMesa3'"
      ]
     },
     "execution_count": 15,
     "metadata": {},
     "output_type": "execute_result"
    }
   ],
   "source": [
    "os.getcwd()"
   ]
  },
  {
   "cell_type": "code",
   "execution_count": 32,
   "id": "90530738",
   "metadata": {},
   "outputs": [
    {
     "name": "stdout",
     "output_type": "stream",
     "text": [
      "demLat_N43_N45_Lon_W116_W113.dem.wgs84\t    lowman_23205_01_BC.dop\r\n",
      "demLat_N43_N45_Lon_W116_W113.dem.wgs84.vrt  prepareUAVSAR_coregStack.py\r\n",
      "demLat_N43_N45_Lon_W116_W113.dem.wgs84.xml  SLC\r\n",
      "dop.txt\t\t\t\t\t    src\r\n",
      "downloadHH\t\t\t\t    unpackFrame_UAVSAR.py\r\n",
      "insar.log\t\t\t\t    Untitled.ipynb\r\n",
      "isce.log\r\n"
     ]
    }
   ],
   "source": [
    "!ls"
   ]
  },
  {
   "cell_type": "code",
   "execution_count": 33,
   "id": "13504ad2",
   "metadata": {},
   "outputs": [],
   "source": [
    "!mkdir merged"
   ]
  },
  {
   "cell_type": "code",
   "execution_count": 36,
   "id": "cfab32dd",
   "metadata": {},
   "outputs": [
    {
     "name": "stdout",
     "output_type": "stream",
     "text": [
      "/home/jovyan/work/GrMesa3/merged\n"
     ]
    }
   ],
   "source": [
    "cd merged"
   ]
  },
  {
   "cell_type": "code",
   "execution_count": 40,
   "id": "b188b77a",
   "metadata": {},
   "outputs": [
    {
     "name": "stdout",
     "output_type": "stream",
     "text": [
      "\u001b[0m\u001b[01;36mSLC\u001b[0m@\r\n"
     ]
    }
   ],
   "source": [
    "ls"
   ]
  },
  {
   "cell_type": "code",
   "execution_count": 39,
   "id": "6687ff86",
   "metadata": {},
   "outputs": [],
   "source": [
    "!ln -s ../SLC"
   ]
  },
  {
   "cell_type": "code",
   "execution_count": 41,
   "id": "ae59d24c",
   "metadata": {},
   "outputs": [
    {
     "name": "stdout",
     "output_type": "stream",
     "text": [
      "/home/jovyan/work/GrMesa3\n"
     ]
    }
   ],
   "source": [
    "cd .."
   ]
  },
  {
   "cell_type": "code",
   "execution_count": 42,
   "id": "a9127f6a",
   "metadata": {},
   "outputs": [
    {
     "name": "stdout",
     "output_type": "stream",
     "text": [
      "demLat_N43_N45_Lon_W116_W113.dem.wgs84      lowman_23205_01_BC.dop\r\n",
      "demLat_N43_N45_Lon_W116_W113.dem.wgs84.vrt  \u001b[0m\u001b[01;34mmerged\u001b[0m/\r\n",
      "demLat_N43_N45_Lon_W116_W113.dem.wgs84.xml  \u001b[01;32mprepareUAVSAR_coregStack.py\u001b[0m*\r\n",
      "dop.txt                                     \u001b[01;34mSLC\u001b[0m/\r\n",
      "\u001b[01;34mdownloadHH\u001b[0m/                                 \u001b[01;34msrc\u001b[0m/\r\n",
      "insar.log                                   \u001b[01;32munpackFrame_UAVSAR.py\u001b[0m*\r\n",
      "isce.log                                    Untitled.ipynb\r\n"
     ]
    }
   ],
   "source": [
    "ls"
   ]
  },
  {
   "cell_type": "code",
   "execution_count": 1,
   "id": "b96cd142",
   "metadata": {},
   "outputs": [
    {
     "name": "stdout",
     "output_type": "stream",
     "text": [
      "This is the Open Source version of ISCE.\n",
      "Some of the workflows depend on a separate licensed package.\n",
      "To obtain the licensed package, please make a request for ISCE\n",
      "through the website: https://download.jpl.nasa.gov/ops/request/index.cfm.\n",
      "Alternatively, if you are a member, or can become a member of WinSAR\n",
      "you may be able to obtain access to a version of the licensed sofware at\n",
      "https://winsar.unavco.org/software/isce\n",
      "Sensor is not hard-coded (ers, envisat, alos), will keep default alks\n",
      "dirs =  ['/home/jovyan/work/Lowman_t1/SLC/20200311', '/home/jovyan/work/Lowman_t1/SLC/20200221', '/home/jovyan/work/Lowman_t1/SLC/20200213', '/home/jovyan/work/Lowman_t1/SLC/20200131']\n",
      "acquisitionDates =  []\n",
      "reference date was not found. The first acquisition will be considered as the stack reference date.\n",
      "Traceback (most recent call last):\n",
      "  File \"stackStripMap.py\", line 367, in <module>\n",
      "    main(sys.argv[1:])\n",
      "  File \"stackStripMap.py\", line 331, in main\n",
      "    acquisitionDates, stackReferenceDate, secondaryDates = get_dates(inps)\n",
      "  File \"stackStripMap.py\", line 136, in get_dates\n",
      "    inps.referenceDate = acquisitionDates[0]\n",
      "IndexError: list index out of range\n"
     ]
    }
   ],
   "source": [
    "!python3 stackStripMap.py -s SLC/ -d ./demLat_N43_N45_Lon_W116_W113.dem.wgs84 -a 8 -r 2 -W interferogram --nofocus -S uavsar_stack -t 600 --filter_strength 0.2"
   ]
  },
  {
   "cell_type": "code",
   "execution_count": 2,
   "id": "c7e10127",
   "metadata": {},
   "outputs": [
    {
     "name": "stdout",
     "output_type": "stream",
     "text": [
      "run_01_reference\t\t  run_05_invertMisreg\r\n",
      "run_01_reference.job\t\t  run_05_invertMisreg.job\r\n",
      "run_02_focus_split\t\t  run_06_fineResamp\r\n",
      "run_02_focus_split.job\t\t  run_06_fineResamp.job\r\n",
      "run_03_geo2rdr_coarseResamp\t  run_07_grid_baseline\r\n",
      "run_03_geo2rdr_coarseResamp.job   run_07_grid_baseline.job\r\n",
      "run_04_refineSecondaryTiming\t  run_08_igram\r\n",
      "run_04_refineSecondaryTiming.job  run_08_igram.job\r\n"
     ]
    }
   ],
   "source": [
    "!ls run_files"
   ]
  },
  {
   "cell_type": "markdown",
   "id": "62c25052",
   "metadata": {},
   "source": [
    "### had to manually add python3 to run file"
   ]
  },
  {
   "cell_type": "code",
   "execution_count": null,
   "id": "4d5929e5",
   "metadata": {},
   "outputs": [
    {
     "name": "stdout",
     "output_type": "stream",
     "text": [
      "Completed Parsing the Configuration file\n",
      "Running: topo\n",
      "['--reference', '/home/jovyan/work/GrMesa3/SLC/20200131', '--dem', '/home/jovyan/work/GrMesa3/demLat_N43_N45_Lon_W116_W113.dem.wgs84', '--output', '/home/jovyan/work/GrMesa3/merged/geom_reference', '--alks', '8', '--rlks', '2', '--native']\n",
      "This is the Open Source version of ISCE.\n",
      "Some of the workflows depend on a separate licensed package.\n",
      "To obtain the licensed package, please make a request for ISCE\n",
      "through the website: https://download.jpl.nasa.gov/ops/request/index.cfm.\n",
      "Alternatively, if you are a member, or can become a member of WinSAR\n",
      "you may be able to obtain access to a version of the licensed sofware at\n",
      "https://winsar.unavco.org/software/isce\n",
      "CPU mode\n",
      "Polynomial Order: 0 - by - 6 \n",
      "-28.3435\t0.0185856\t-6.19407e-06\t1.38444e-09\t-1.90782e-13\t1.42783e-17\t-4.39905e-22\t\n",
      "2022-04-05 17:16:03,915 - isce.zerodop.topozero - WARNING - Default Peg heading set to: -2.2254390710938563\n",
      "Polynomial Order: 0 - by - 1 \n",
      "12491.3\t1.66551\t\n",
      "creating image\n",
      "<isceobj.Image.DemImage.DemImage object at 0x7f09b3533d00>\n",
      "level5\n",
      "level 6\n",
      "GDAL open (R): /home/jovyan/work/GrMesa3/demLat_N43_N45_Lon_W116_W113.dem.wgs84.vrt\n",
      "da step?\n",
      "93904967593184\n",
      "post\n",
      "level5\n",
      "level 6\n",
      "API open (WR): /home/jovyan/work/GrMesa3/merged/geom_reference/lat.rdr\n",
      "da step?\n",
      "93904967560944\n",
      "level5\n",
      "level 6\n",
      "API open (WR): /home/jovyan/work/GrMesa3/merged/geom_reference/lon.rdr\n",
      "da step?\n",
      "93904967614720\n",
      "level5\n",
      "level 6\n",
      "API open (WR): /home/jovyan/work/GrMesa3/merged/geom_reference/hgt.rdr\n",
      "da step?\n",
      "93904968403584\n",
      "level5\n",
      "level 6\n",
      "API open (WR): /home/jovyan/work/GrMesa3/merged/geom_reference/los.rdr\n",
      "da step?\n",
      "93904968609680\n",
      "level5\n",
      "level 6\n",
      "API open (WR): /home/jovyan/work/GrMesa3/merged/geom_reference/incLocal.rdr\n",
      "da step?\n",
      "93904971075680\n",
      "level5\n",
      "level 6\n",
      "API open (WR): /home/jovyan/work/GrMesa3/merged/geom_reference/shadowMask.rdr\n",
      "da step?\n",
      "93904971075520\n",
      "C pointer already created. Finalize and recreate if image dimensions changed.\n",
      "C pointer already created. Finalize and recreate if image dimensions changed.\n",
      " Initializing biquintic interpolator\n",
      " Orbit interpolation method: hermite\n",
      " Max threads used:            8\n",
      " Possible near nadir imaging\n",
      " Possible near nadir imaging\n",
      " DEM parameters:\n",
      " Dimensions:        10800        7200\n",
      " Top Left:   -116.00000000000000        45.000000000000000     \n",
      " Spacing:    2.7777777777777778E-004  -2.7777777777777778E-004\n",
      " Lon:   -116.00000000000000       -113.00027777777778     \n",
      " Lat:    43.000277777777775        45.000000000000000     \n",
      "  \n",
      " Estimated DEM bounds needed for global height range: \n",
      " Lon:   -115.73712320409749       -114.83468061558310     \n",
      " Lat:    43.916203651836874        44.627949599062951     \n",
      "  \n",
      " Actual DEM bounds used: \n",
      " Dimensions:         3250        2564\n",
      " Top Left:   -115.73722222222223        44.628055555555555     \n",
      " Spacing:    2.7777777777777778E-004  -2.7777777777777778E-004\n",
      " Lon:   -115.73722222222223       -114.83472222222223     \n",
      " Lat:    43.916111111111114        44.628055555555555     \n",
      " Lines:         1340        3903\n",
      " Pixels:          947        4196\n",
      " Max DEM height:    3232.00000    \n",
      " Primary iterations:           25\n",
      " Secondary iterations:           10\n",
      " Distance threshold :    5.0000000000000003E-002\n",
      " Processing line:            1   239.04477916345232     \n",
      " Dopplers:   -28.343514111978809       0.34469898032834267        4.0980988508467817     \n"
     ]
    }
   ],
   "source": [
    "!python3 run.py -i run_files/run_01_reference"
   ]
  },
  {
   "cell_type": "code",
   "execution_count": null,
   "id": "d6ee891e",
   "metadata": {},
   "outputs": [],
   "source": []
  }
 ],
 "metadata": {
  "kernelspec": {
   "display_name": "unavco [conda env:.local-unavco]",
   "language": "python",
   "name": "conda-env-.local-unavco-py"
  },
  "language_info": {
   "codemirror_mode": {
    "name": "ipython",
    "version": 3
   },
   "file_extension": ".py",
   "mimetype": "text/x-python",
   "name": "python",
   "nbconvert_exporter": "python",
   "pygments_lexer": "ipython3",
   "version": "3.8.12"
  }
 },
 "nbformat": 4,
 "nbformat_minor": 5
}
