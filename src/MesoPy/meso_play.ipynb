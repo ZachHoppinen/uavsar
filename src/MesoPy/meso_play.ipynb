{
 "cells": [
  {
   "cell_type": "code",
   "execution_count": 3,
   "metadata": {},
   "outputs": [],
   "source": [
    "from MesoPy import Meso\n",
    "import matplotlib.pyplot as plt\n",
    "from tqdm import tqdm\n",
    "import numpy as np\n",
    "import pandas as pd"
   ]
  },
  {
   "cell_type": "code",
   "execution_count": 4,
   "metadata": {},
   "outputs": [],
   "source": [
    "m = Meso(token='hidden')\n",
    "precip = m.precip(stid='kfnl', start='201504241800', end='201504271200', units='precip|in')"
   ]
  },
  {
   "cell_type": "code",
   "execution_count": 5,
   "metadata": {},
   "outputs": [],
   "source": [
    "m.timeseries('201912201942', '202001312130', stid = '1875P', vars = 'snow_depth')"
   ]
  },
  {
   "cell_type": "code",
   "execution_count": 6,
   "metadata": {},
   "outputs": [],
   "source": [
    "from glob import glob\n",
    "import rasterio as rio"
   ]
  },
  {
   "cell_type": "code",
   "execution_count": 7,
   "metadata": {},
   "outputs": [
    {
     "ename": "RasterioIOError",
     "evalue": "/scratch/zacharykeskinen/jpl/lowman_23205_21019-018_21021-006_0006d_s01_L090_01_int_grd/tiffs/lowman_23205_21019-018_21021-006_0006d_s01_L090HH_01.cor.grd.tiff: No such file or directory",
     "output_type": "error",
     "traceback": [
      "\u001b[0;31m---------------------------------------------------------------------------\u001b[0m",
      "\u001b[0;31mCPLE_OpenFailedError\u001b[0m                      Traceback (most recent call last)",
      "File \u001b[0;32mrasterio/_base.pyx:261\u001b[0m, in \u001b[0;36mrasterio._base.DatasetBase.__init__\u001b[0;34m()\u001b[0m\n",
      "File \u001b[0;32mrasterio/_shim.pyx:78\u001b[0m, in \u001b[0;36mrasterio._shim.open_dataset\u001b[0;34m()\u001b[0m\n",
      "File \u001b[0;32mrasterio/_err.pyx:216\u001b[0m, in \u001b[0;36mrasterio._err.exc_wrap_pointer\u001b[0;34m()\u001b[0m\n",
      "\u001b[0;31mCPLE_OpenFailedError\u001b[0m: /scratch/zacharykeskinen/jpl/lowman_23205_21019-018_21021-006_0006d_s01_L090_01_int_grd/tiffs/lowman_23205_21019-018_21021-006_0006d_s01_L090HH_01.cor.grd.tiff: No such file or directory",
      "\nDuring handling of the above exception, another exception occurred:\n",
      "\u001b[0;31mRasterioIOError\u001b[0m                           Traceback (most recent call last)",
      "\u001b[1;32m/bsuhome/zacharykeskinen/uavsar/src/MesoPy/meso_play.ipynb Cell 5'\u001b[0m in \u001b[0;36m<cell line: 3>\u001b[0;34m()\u001b[0m\n\u001b[1;32m      <a href='vscode-notebook-cell://ssh-remote%2Bborah/bsuhome/zacharykeskinen/uavsar/src/MesoPy/meso_play.ipynb#ch0000004vscode-remote?line=0'>1</a>\u001b[0m \u001b[39m# glob('/scratch/zacharykeskinen/jpl/*/tiffs/*')\u001b[39;00m\n\u001b[1;32m      <a href='vscode-notebook-cell://ssh-remote%2Bborah/bsuhome/zacharykeskinen/uavsar/src/MesoPy/meso_play.ipynb#ch0000004vscode-remote?line=1'>2</a>\u001b[0m fp \u001b[39m=\u001b[39m \u001b[39m'\u001b[39m\u001b[39m/scratch/zacharykeskinen/jpl/lowman_23205_21019-018_21021-006_0006d_s01_L090_01_int_grd/tiffs/lowman_23205_21019-018_21021-006_0006d_s01_L090HH_01.cor.grd.tiff\u001b[39m\u001b[39m'\u001b[39m\n\u001b[0;32m----> <a href='vscode-notebook-cell://ssh-remote%2Bborah/bsuhome/zacharykeskinen/uavsar/src/MesoPy/meso_play.ipynb#ch0000004vscode-remote?line=2'>3</a>\u001b[0m \u001b[39mwith\u001b[39;00m rio\u001b[39m.\u001b[39;49mopen(fp) \u001b[39mas\u001b[39;00m src:\n\u001b[1;32m      <a href='vscode-notebook-cell://ssh-remote%2Bborah/bsuhome/zacharykeskinen/uavsar/src/MesoPy/meso_play.ipynb#ch0000004vscode-remote?line=3'>4</a>\u001b[0m     bounds  \u001b[39m=\u001b[39m src\u001b[39m.\u001b[39mbounds\n",
      "File \u001b[0;32m~/miniconda3/envs/uavsar/lib/python3.8/site-packages/rasterio/env.py:437\u001b[0m, in \u001b[0;36mensure_env_with_credentials.<locals>.wrapper\u001b[0;34m(*args, **kwds)\u001b[0m\n\u001b[1;32m    <a href='file:///bsuhome/zacharykeskinen/miniconda3/envs/uavsar/lib/python3.8/site-packages/rasterio/env.py?line=433'>434</a>\u001b[0m     session \u001b[39m=\u001b[39m DummySession()\n\u001b[1;32m    <a href='file:///bsuhome/zacharykeskinen/miniconda3/envs/uavsar/lib/python3.8/site-packages/rasterio/env.py?line=435'>436</a>\u001b[0m \u001b[39mwith\u001b[39;00m env_ctor(session\u001b[39m=\u001b[39msession):\n\u001b[0;32m--> <a href='file:///bsuhome/zacharykeskinen/miniconda3/envs/uavsar/lib/python3.8/site-packages/rasterio/env.py?line=436'>437</a>\u001b[0m     \u001b[39mreturn\u001b[39;00m f(\u001b[39m*\u001b[39;49margs, \u001b[39m*\u001b[39;49m\u001b[39m*\u001b[39;49mkwds)\n",
      "File \u001b[0;32m~/miniconda3/envs/uavsar/lib/python3.8/site-packages/rasterio/__init__.py:220\u001b[0m, in \u001b[0;36mopen\u001b[0;34m(fp, mode, driver, width, height, count, crs, transform, dtype, nodata, sharing, **kwargs)\u001b[0m\n\u001b[1;32m    <a href='file:///bsuhome/zacharykeskinen/miniconda3/envs/uavsar/lib/python3.8/site-packages/rasterio/__init__.py?line=215'>216</a>\u001b[0m \u001b[39m# Create dataset instances and pass the given env, which will\u001b[39;00m\n\u001b[1;32m    <a href='file:///bsuhome/zacharykeskinen/miniconda3/envs/uavsar/lib/python3.8/site-packages/rasterio/__init__.py?line=216'>217</a>\u001b[0m \u001b[39m# be taken over by the dataset's context manager if it is not\u001b[39;00m\n\u001b[1;32m    <a href='file:///bsuhome/zacharykeskinen/miniconda3/envs/uavsar/lib/python3.8/site-packages/rasterio/__init__.py?line=217'>218</a>\u001b[0m \u001b[39m# None.\u001b[39;00m\n\u001b[1;32m    <a href='file:///bsuhome/zacharykeskinen/miniconda3/envs/uavsar/lib/python3.8/site-packages/rasterio/__init__.py?line=218'>219</a>\u001b[0m \u001b[39mif\u001b[39;00m mode \u001b[39m==\u001b[39m \u001b[39m'\u001b[39m\u001b[39mr\u001b[39m\u001b[39m'\u001b[39m:\n\u001b[0;32m--> <a href='file:///bsuhome/zacharykeskinen/miniconda3/envs/uavsar/lib/python3.8/site-packages/rasterio/__init__.py?line=219'>220</a>\u001b[0m     s \u001b[39m=\u001b[39m DatasetReader(path, driver\u001b[39m=\u001b[39;49mdriver, sharing\u001b[39m=\u001b[39;49msharing, \u001b[39m*\u001b[39;49m\u001b[39m*\u001b[39;49mkwargs)\n\u001b[1;32m    <a href='file:///bsuhome/zacharykeskinen/miniconda3/envs/uavsar/lib/python3.8/site-packages/rasterio/__init__.py?line=220'>221</a>\u001b[0m \u001b[39melif\u001b[39;00m mode \u001b[39m==\u001b[39m \u001b[39m\"\u001b[39m\u001b[39mr+\u001b[39m\u001b[39m\"\u001b[39m:\n\u001b[1;32m    <a href='file:///bsuhome/zacharykeskinen/miniconda3/envs/uavsar/lib/python3.8/site-packages/rasterio/__init__.py?line=221'>222</a>\u001b[0m     s \u001b[39m=\u001b[39m get_writer_for_path(path, driver\u001b[39m=\u001b[39mdriver)(\n\u001b[1;32m    <a href='file:///bsuhome/zacharykeskinen/miniconda3/envs/uavsar/lib/python3.8/site-packages/rasterio/__init__.py?line=222'>223</a>\u001b[0m         path, mode, driver\u001b[39m=\u001b[39mdriver, sharing\u001b[39m=\u001b[39msharing, \u001b[39m*\u001b[39m\u001b[39m*\u001b[39mkwargs\n\u001b[1;32m    <a href='file:///bsuhome/zacharykeskinen/miniconda3/envs/uavsar/lib/python3.8/site-packages/rasterio/__init__.py?line=223'>224</a>\u001b[0m     )\n",
      "File \u001b[0;32mrasterio/_base.pyx:263\u001b[0m, in \u001b[0;36mrasterio._base.DatasetBase.__init__\u001b[0;34m()\u001b[0m\n",
      "\u001b[0;31mRasterioIOError\u001b[0m: /scratch/zacharykeskinen/jpl/lowman_23205_21019-018_21021-006_0006d_s01_L090_01_int_grd/tiffs/lowman_23205_21019-018_21021-006_0006d_s01_L090HH_01.cor.grd.tiff: No such file or directory"
     ]
    }
   ],
   "source": [
    "# glob('/scratch/zacharykeskinen/jpl/*/tiffs/*')\n",
    "fp = '/scratch/zacharykeskinen/jpl/lowman_23205_21019-018_21021-006_0006d_s01_L090_01_int_grd/tiffs/lowman_23205_21019-018_21021-006_0006d_s01_L090HH_01.cor.grd.tiff'\n",
    "with rio.open(fp) as src:\n",
    "    bounds  = src.bounds\n",
    "    "
   ]
  },
  {
   "cell_type": "code",
   "execution_count": null,
   "metadata": {},
   "outputs": [],
   "source": [
    "bounds"
   ]
  },
  {
   "cell_type": "markdown",
   "metadata": {},
   "source": [
    "bbox: list, optional\n",
    "    Stations within a [lon/lat] box in the order [lonmin,latmin,lonmax,latmax] e.g. bbox=\"-120,40,-119,41\""
   ]
  },
  {
   "cell_type": "code",
   "execution_count": null,
   "metadata": {},
   "outputs": [],
   "source": [
    "for stat in m.metadata(start = '202002010000', end = '202002100000', bbox = bounds)['STATION']:\n",
    "    name = stat['NAME']\n",
    "    long = stat['LONGITUDE']\n",
    "    lat = stat['LATITUDE']\n",
    "    elev = stat['ELEVATION']\n",
    "    stid = stat['STID']\n",
    "    status = stat['STATUS']\n",
    "    print(name)\n",
    "    print(lat)\n",
    "    print(long)\n",
    "    print(stid)"
   ]
  },
  {
   "cell_type": "code",
   "execution_count": null,
   "metadata": {},
   "outputs": [],
   "source": [
    "def raster_box_extract(img, x_coord, y_coord, box_side = 5):\n",
    "    meta = img.meta\n",
    "\n",
    "    # Use the transform in the metadata and your coordinates\n",
    "    try:\n",
    "        rowcol = rio.transform.rowcol(meta['transform'], xs=x_coord, ys=y_coord)\n",
    "        w = img.read(1, window=Window(rowcol[1], rowcol[0], box_side, box_side))\n",
    "        return w\n",
    "    except:\n",
    "        pass\n",
    "        # print('station outside bbox')"
   ]
  },
  {
   "cell_type": "code",
   "execution_count": null,
   "metadata": {},
   "outputs": [],
   "source": [
    "stat_ls = []\n",
    "stid_ls = []\n",
    "res = {}\n",
    "for stat in m.metadata(start = start_flight, end = end_flight, bbox = bounds)['STATION']:\n",
    "    long = float(stat['LONGITUDE'])\n",
    "    lat = float(stat['LATITUDE'])\n",
    "    with rio.open(fp) as src:\n",
    "        w = raster_box_extract(src, long, lat)\n",
    "    if len(w[~np.isnan(w)]) > 0:\n",
    "        if stat['NAME'].lower().replace(' ','') not in stat_ls:\n",
    "            obs = m.timeseries(start_flight, end_flight, stid = stat['STID'], vars = 'snow_depth')\n",
    "            if obs:\n",
    "                obs = obs['STATION'][0]['OBSERVATIONS']\n",
    "                d = {}\n",
    "                dt = pd.to_datetime(obs['date_time'])\n",
    "                if 'snow_depth_set_1' in obs.keys():\n",
    "                    d['datetime'] = dt\n",
    "                    d['img_arr'] = w\n",
    "                    d['snow_depth_set_1'] = obs['snow_depth_set_1']\n",
    "                    for anc_col in ['air_temp_set_1','snow_water_equiv_set_1']:\n",
    "                        if anc_col in obs.keys():\n",
    "                            d[anc_col] = obs[anc_col]\n",
    "                if d:\n",
    "                    d['elev'] = stat['ELEVATION']\n",
    "                    d['lat'] = stat['LATITUDE']\n",
    "                    d['long'] = stat['LONGITUDE']\n",
    "                    d['tz'] = stat['TIMEZONE']\n",
    "                    res[stat['NAME']] = d\n",
    "            \n",
    "            stat_ls.append(stat['NAME'].lower().replace(' ',''))"
   ]
  },
  {
   "cell_type": "code",
   "execution_count": null,
   "metadata": {},
   "outputs": [],
   "source": [
    "plt.imshow(res['Treeline']['img_arr'])"
   ]
  },
  {
   "cell_type": "code",
   "execution_count": null,
   "metadata": {},
   "outputs": [],
   "source": [
    "stat_ls = []\n",
    "stid_ls = []\n",
    "for stat in m.metadata(start = start_flight, end = end_flight, bbox = bounds)['STATION']:\n",
    "    long = float(stat['LONGITUDE'])\n",
    "    lat = float(stat['LATITUDE'])\n",
    "    with rio.open(fp) as src:\n",
    "        w = raster_box_extract(src, long, lat)\n",
    "    if len(w[~np.isnan(w)]) > 0:\n",
    "        if stat['NAME'].lower().replace(' ','') not in stat_ls:\n",
    "\n",
    "            stat = m.timeseries(start_flight, end_flight, stid = stat['STID'])\n",
    "            res = {}\n",
    "            d = {}\n",
    "            obs = stat['OBSERVATIONS']\n",
    "\n",
    "            dt = pd.to_datetime(obs['date_time'])\n",
    "            if 'snow_depth_set_1' in obs.keys():\n",
    "                d['datetime'] = dt\n",
    "                d['snow_depth_set_1'] = obs['snow_depth_set_1']\n",
    "                for anc_col in ['air_temp_set_1','snow_water_equiv_set_1']:\n",
    "                    if anc_col in obs.keys():\n",
    "                        d[anc_col] = obs[anc_col]\n",
    "            if d:\n",
    "                d['elev'] = stat['ELEVATION']\n",
    "                d['lat'] = stat['LATITUDE']\n",
    "                d['long'] = stat['LONGITUDE']\n",
    "                d['tz'] = stat['TIMEZONE']\n",
    "                res[stat['NAME']] = d\n",
    "        stat_ls.append(stat['NAME'].lower().replace(' ',''))"
   ]
  },
  {
   "cell_type": "code",
   "execution_count": null,
   "metadata": {},
   "outputs": [],
   "source": [
    "a = m.timeseries(start = start_flight, end = end_flight, stid = stid_ls)\n",
    "\n",
    "res = {}\n",
    "for stat in a['STATION']:\n",
    "    # print(stat['SENSOR_VARIABLES'])\n",
    "    d = {}\n",
    "    obs = stat['OBSERVATIONS']\n",
    "\n",
    "    dt = pd.to_datetime(obs['date_time'])\n",
    "    if 'snow_depth_set_1' in obs.keys():\n",
    "        d['datetime'] = dt\n",
    "        d['snow_depth_set_1'] = obs['snow_depth_set_1']\n",
    "        for anc_col in ['air_temp_set_1','snow_water_equiv_set_1']:\n",
    "            if anc_col in obs.keys():\n",
    "                d[anc_col] = obs[anc_col]\n",
    "    if d:\n",
    "        d['elev'] = stat['ELEVATION']\n",
    "        d['lat'] = stat['LATITUDE']\n",
    "        d['long'] = stat['LONGITUDE']\n",
    "        d['tz'] = stat['TIMEZONE']\n",
    "        res[stat['NAME']] = d"
   ]
  },
  {
   "cell_type": "code",
   "execution_count": null,
   "metadata": {},
   "outputs": [],
   "source": [
    "for col in ann_df.columns:\n",
    "    if 'acq' in col:\n",
    "        print(col)"
   ]
  },
  {
   "cell_type": "code",
   "execution_count": null,
   "metadata": {},
   "outputs": [],
   "source": [
    "ann_df = pd.read_csv('/home/zacharykeskinen/uavsar/data/slc_stack/lowman_23205_20002-007_20007-003_0013d_s01_L090_01_int_grd/lowman_23205_20002-007_20007-003_0013d_s01_L090_01_int_grd.csv')\n",
    "start = pd.to_datetime(ann_df['stop time of acquisition for pass 1'][0])\n",
    "end = pd.to_datetime(ann_df['start time of acquisition for pass 2'][0])"
   ]
  },
  {
   "cell_type": "code",
   "execution_count": null,
   "metadata": {},
   "outputs": [],
   "source": [
    "def mesopy_date_parse(pd_date_str):\n",
    "    return pd_date_str.strftime('%Y') + pd_date_str.strftime('%m') + pd_date_str.strftime('%d') + pd_date_str.strftime('%H') + pd_date_str.strftime('%M')"
   ]
  },
  {
   "cell_type": "code",
   "execution_count": null,
   "metadata": {},
   "outputs": [],
   "source": [
    "mesopy_date_parse(pd.to_datetime('2020-10-04T20:30'))"
   ]
  },
  {
   "cell_type": "code",
   "execution_count": null,
   "metadata": {},
   "outputs": [],
   "source": [
    "import datetime\n",
    "isinstance((pd.to_datetime('2020-10-01')), datetime.datetime)\n"
   ]
  },
  {
   "cell_type": "code",
   "execution_count": null,
   "metadata": {},
   "outputs": [],
   "source": [
    "start.month"
   ]
  },
  {
   "cell_type": "code",
   "execution_count": null,
   "metadata": {},
   "outputs": [],
   "source": [
    "start_flight = '202001010000'\n",
    "end_flight = '202001070000'\n",
    "a = m.timeseries(start_flight, end_flight, stid = 'BASI1' )\n",
    "dt = a['STATION'][0]['OBSERVATIONS']['date_time']\n",
    "sd = a['STATION'][0]['OBSERVATIONS']['snow_depth_set_1']\n",
    "swe = a['STATION'][0]['OBSERVATIONS']['snow_water_equiv_set_1']\n",
    "temp = a['STATION'][0]['OBSERVATIONS']['air_temp_set_1']\n",
    "a['STATION'][0]['OBSERVATIONS'].keys()"
   ]
  },
  {
   "cell_type": "code",
   "execution_count": null,
   "metadata": {},
   "outputs": [],
   "source": [
    "from rasterio.windows import Window    \n",
    "with rio.open(fp) as src:\n",
    "    meta = src.meta\n",
    "\n",
    "    # My target coordinates\n",
    "    x_coord = -115.23447\n",
    "    y_coord = 44.30342\n",
    "\n",
    "    # Use the transform in the metadata and your coordinates\n",
    "    rowcol = rio.transform.rowcol(meta['transform'], xs=x_coord, ys=y_coord)\n",
    "\n",
    "    w = src.read(1, window=Window(rowcol[1], rowcol[0], 5, 5))\n",
    "    # Do something with your data here.\n",
    "    print(w)"
   ]
  },
  {
   "cell_type": "code",
   "execution_count": null,
   "metadata": {},
   "outputs": [],
   "source": [
    "df =pd.read_csv('/home/zacharykeskinen/uavsar/results/test_wx.csv')"
   ]
  },
  {
   "cell_type": "code",
   "execution_count": null,
   "metadata": {},
   "outputs": [],
   "source": [
    "plt.plot(df.set_index('Unnamed: 0')['BANNER SUMMIT']['snow_depth_set_1'])"
   ]
  },
  {
   "cell_type": "code",
   "execution_count": null,
   "metadata": {},
   "outputs": [],
   "source": [
    "import pickle\n",
    "with open('/home/zacharykeskinen/uavsar/results/test_wx.pkl', 'rb') as f:\n",
    "    res  = pickle.load(f)"
   ]
  },
  {
   "cell_type": "code",
   "execution_count": null,
   "metadata": {},
   "outputs": [],
   "source": [
    "plt.scatter(res['Lower Weather']['snow_depth_set_1'])"
   ]
  },
  {
   "cell_type": "code",
   "execution_count": null,
   "metadata": {},
   "outputs": [],
   "source": [
    "for site,obs in res.items():\n",
    "    print(site)\n",
    "    #print(obs)\n",
    "    plt.scatter(obs['datetime'], obs['snow_depth_set_1'])\n",
    "    plt.show()"
   ]
  },
  {
   "cell_type": "code",
   "execution_count": null,
   "metadata": {},
   "outputs": [],
   "source": []
  }
 ],
 "metadata": {
  "interpreter": {
   "hash": "c732e25fc97d715fc566a980b16236952ce6fa020fb71e866d38b624bf749806"
  },
  "kernelspec": {
   "display_name": "Python 3.9.10 ('uavsar')",
   "language": "python",
   "name": "python3"
  },
  "language_info": {
   "codemirror_mode": {
    "name": "ipython",
    "version": 3
   },
   "file_extension": ".py",
   "mimetype": "text/x-python",
   "name": "python",
   "nbconvert_exporter": "python",
   "pygments_lexer": "ipython3",
   "version": "3.8.13"
  },
  "orig_nbformat": 4
 },
 "nbformat": 4,
 "nbformat_minor": 2
}
