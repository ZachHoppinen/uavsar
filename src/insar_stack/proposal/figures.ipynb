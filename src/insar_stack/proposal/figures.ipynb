{
 "cells": [
  {
   "cell_type": "code",
   "execution_count": 4,
   "metadata": {},
   "outputs": [],
   "source": [
    "from uavsar_pytools.UavsarScene import UavsarScene\n",
    "import asf_search as asf\n",
    "import os"
   ]
  },
  {
   "cell_type": "code",
   "execution_count": 18,
   "metadata": {},
   "outputs": [
    {
     "name": "stdout",
     "output_type": "stream",
     "text": [
      "13\n"
     ]
    }
   ],
   "source": [
    "wkt = 'POINT(-115.6187 44.0810)'\n",
    "results = asf.geo_search(platform=[asf.PLATFORM.UAVSAR], intersectsWith=wkt, \n",
    "                        maxResults=20, collectionName='Lowman, CO',\n",
    "                        start =  '2020-11-01T00:00:00Z',\n",
    "                        end = '2021-04-01T23:59:59Z',\n",
    "                        processingLevel= asf.PRODUCT_TYPE.INTERFEROMETRY_GRD)\n",
    "print(len(results))"
   ]
  },
  {
   "cell_type": "code",
   "execution_count": 30,
   "metadata": {},
   "outputs": [
    {
     "name": "stdout",
     "output_type": "stream",
     "text": [
      "lowman_05208_21019-019_21021-007_0006d_s01_L090_01_int_grd.zip\n",
      "052\n",
      "lowman_23205_21019-018_21021-006_0006d_s01_L090_01_int_grd.zip\n",
      "232\n",
      "lowman_05208_21017-019_21019-019_0006d_s01_L090_01_int_grd.zip\n",
      "052\n",
      "lowman_23205_21017-018_21019-018_0006d_s01_L090_01_int_grd.zip\n",
      "232\n",
      "lowman_05208_21015-009_21017-019_0007d_s01_L090_01_int_grd.zip\n",
      "052\n",
      "lowman_23205_21015-008_21017-018_0007d_s01_L090_01_int_grd.zip\n",
      "232\n",
      "lowman_05208_21012-004_21015-009_0021d_s01_L090_01_int_grd.zip\n",
      "052\n",
      "lowman_23205_21012-000_21015-008_0021d_s01_L090_01_int_grd.zip\n",
      "232\n",
      "lowman_05208_21009-005_21012-004_0007d_s01_L090_01_int_grd.zip\n",
      "052\n",
      "lowman_23205_21009-004_21012-000_0007d_s01_L090_01_int_grd.zip\n",
      "232\n",
      "lowman_23205_21008-000_21009-004_0007d_s01_L090_01_int_grd.zip\n",
      "232\n",
      "lowman_23205_21004-003_21008-000_0007d_s01_L090_01_int_grd.zip\n",
      "232\n",
      "lowman_23205_21002-004_21004-003_0005d_s01_L090_01_int_grd.zip\n",
      "232\n"
     ]
    }
   ],
   "source": [
    "main_dir = '../..'\n",
    "for i, result in enumerate(results):\n",
    "    url = result.properties['url']\n",
    "    name = os.path.basename(url)\n",
    "    print(name)\n",
    "    heading = name.split('_')[1][:3]\n",
    "    print(heading)\n",
    "    \n"
   ]
  },
  {
   "cell_type": "code",
   "execution_count": 26,
   "metadata": {},
   "outputs": [
    {
     "data": {
      "text/plain": [
       "'lowman_23205_21002-004_21004-003_0005d_s01_L090_01_int_grd.zip'"
      ]
     },
     "execution_count": 26,
     "metadata": {},
     "output_type": "execute_result"
    }
   ],
   "source": [
    "name"
   ]
  },
  {
   "cell_type": "code",
   "execution_count": 22,
   "metadata": {},
   "outputs": [
    {
     "data": {
      "text/plain": [
       "{'beamModeType': 'RPI',\n",
       " 'browse': ['https://datapool.asf.alaska.edu/BROWSE/UA/lowman_05208_21019-019_21021-007_0006d_s01_L090HH_01.cor.png',\n",
       "  'https://datapool.asf.alaska.edu/BROWSE/UA/lowman_05208_21019-019_21021-007_0006d_s01_L090HH_01.hgt.png',\n",
       "  'https://datapool.asf.alaska.edu/BROWSE/UA/lowman_05208_21019-019_21021-007_0006d_s01_L090HV_01.cor.png',\n",
       "  'https://datapool.asf.alaska.edu/BROWSE/UA/lowman_05208_21019-019_21021-007_0006d_s01_L090HV_01.hgt.png',\n",
       "  'https://datapool.asf.alaska.edu/BROWSE/UA/lowman_05208_21019-019_21021-007_0006d_s01_L090VH_01.cor.png',\n",
       "  'https://datapool.asf.alaska.edu/BROWSE/UA/lowman_05208_21019-019_21021-007_0006d_s01_L090VH_01.hgt.png',\n",
       "  'https://datapool.asf.alaska.edu/BROWSE/UA/lowman_05208_21019-019_21021-007_0006d_s01_L090VV_01.cor.png',\n",
       "  'https://datapool.asf.alaska.edu/BROWSE/UA/lowman_05208_21019-019_21021-007_0006d_s01_L090VV_01.hgt.png'],\n",
       " 'bytes': '5110703181',\n",
       " 'faradayRotation': None,\n",
       " 'fileID': 'UA_lowman_05208_21019-019_21021-007_0006d_s01_L090_01-INTERFEROMETRY_GRD',\n",
       " 'fileName': 'lowman_05208_21019-019_21021-007_0006d_s01_L090_01_int_grd.zip',\n",
       " 'flightDirection': None,\n",
       " 'frameNumber': '881',\n",
       " 'granuleType': 'UAVSAR_INSAR_SCENE',\n",
       " 'groupID': 'UA_lowman_05208_21019-019_21021-007_0006d_s01_L090_01',\n",
       " 'insarStackId': '-1',\n",
       " 'md5sum': '2ab0338219e94e739f9ccce8f30715dc',\n",
       " 'offNadirAngle': None,\n",
       " 'orbit': '-1',\n",
       " 'pathNumber': '05208',\n",
       " 'platform': 'UAVSAR',\n",
       " 'pointingAngle': None,\n",
       " 'polarization': 'HH',\n",
       " 'processingDate': '2021-04-20T13:43:32Z',\n",
       " 'processingLevel': 'INTERFEROMETRY_GRD',\n",
       " 'sceneName': 'UA_lowman_05208_21019-019_21021-007_0006d_s01_L090_01',\n",
       " 'sensor': 'UAVSAR',\n",
       " 'startTime': '2021-03-16T18:09:32Z',\n",
       " 'stopTime': '2021-03-22T16:58:37Z',\n",
       " 'url': 'https://datapool.asf.alaska.edu/INTERFEROMETRY_GRD/UA/lowman_05208_21019-019_21021-007_0006d_s01_L090_01_int_grd.zip'}"
      ]
     },
     "execution_count": 22,
     "metadata": {},
     "output_type": "execute_result"
    }
   ],
   "source": [
    "results[0].properties"
   ]
  },
  {
   "cell_type": "code",
   "execution_count": null,
   "metadata": {},
   "outputs": [],
   "source": []
  }
 ],
 "metadata": {
  "interpreter": {
   "hash": "f6a401748561ccf4b02a2d1eb7d5bf189979b8ae4107867c67e9029bf7aa348c"
  },
  "kernelspec": {
   "display_name": "Python 3.9.7 ('uavsar')",
   "language": "python",
   "name": "python3"
  },
  "language_info": {
   "codemirror_mode": {
    "name": "ipython",
    "version": 3
   },
   "file_extension": ".py",
   "mimetype": "text/x-python",
   "name": "python",
   "nbconvert_exporter": "python",
   "pygments_lexer": "ipython3",
   "version": "3.9.10"
  },
  "orig_nbformat": 4
 },
 "nbformat": 4,
 "nbformat_minor": 2
}
