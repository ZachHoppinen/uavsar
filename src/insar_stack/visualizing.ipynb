{
 "cells": [
  {
   "cell_type": "code",
   "execution_count": 3,
   "metadata": {},
   "outputs": [],
   "source": [
    "from glob import glob\n",
    "import rasterio as rio\n",
    "from os.path import join"
   ]
  },
  {
   "cell_type": "code",
   "execution_count": 11,
   "metadata": {},
   "outputs": [
    {
     "name": "stdout",
     "output_type": "stream",
     "text": [
      "/SNOWDATA/uavsar/lowman_stack/052/lowman_05208_21019-019_21021-007_0006d_s01_L090_01\n",
      "/SNOWDATA/uavsar/lowman_stack/052/lowman_05208_21019-019_21021-007_0006d_s01_L090_01/tiffs/lowman_05208_21019-019_21021-007_0006d_s01_L090HH_01.cor.grd.tiff\n",
      "/SNOWDATA/uavsar/lowman_stack/052/lowman_05208_21019-019_21021-007_0006d_s01_L090_01/tiffs/lowman_05208_21019-019_21021-007_0006d_s01_L090HH_01.hgt.grd.tiff\n",
      "/SNOWDATA/uavsar/lowman_stack/052/lowman_05208_21019-019_21021-007_0006d_s01_L090_01/tiffs/lowman_05208_21019-019_21021-007_0006d_s01_L090HH_01.int.grd.tiff\n",
      "/SNOWDATA/uavsar/lowman_stack/052/lowman_05208_21019-019_21021-007_0006d_s01_L090_01/tiffs/lowman_05208_21019-019_21021-007_0006d_s01_L090HH_01.unw.grd.tiff\n",
      "/SNOWDATA/uavsar/lowman_stack/052/lowman_05208_21019-019_21021-007_0006d_s01_L090_01/tiffs/lowman_05208_21019-019_21021-007_0006d_s01_L090HV_01.cor.grd.tiff\n",
      "/SNOWDATA/uavsar/lowman_stack/052/lowman_05208_21019-019_21021-007_0006d_s01_L090_01/tiffs/lowman_05208_21019-019_21021-007_0006d_s01_L090HV_01.hgt.grd.tiff\n",
      "/SNOWDATA/uavsar/lowman_stack/052/lowman_05208_21019-019_21021-007_0006d_s01_L090_01/tiffs/lowman_05208_21019-019_21021-007_0006d_s01_L090HV_01.int.grd.tiff\n",
      "/SNOWDATA/uavsar/lowman_stack/052/lowman_05208_21019-019_21021-007_0006d_s01_L090_01/tiffs/lowman_05208_21019-019_21021-007_0006d_s01_L090HV_01.unw.grd.tiff\n",
      "/SNOWDATA/uavsar/lowman_stack/052/lowman_05208_21019-019_21021-007_0006d_s01_L090_01/tiffs/lowman_05208_21019-019_21021-007_0006d_s01_L090VH_01.cor.grd.tiff\n",
      "/SNOWDATA/uavsar/lowman_stack/052/lowman_05208_21019-019_21021-007_0006d_s01_L090_01/tiffs/lowman_05208_21019-019_21021-007_0006d_s01_L090VH_01.hgt.grd.tiff\n",
      "/SNOWDATA/uavsar/lowman_stack/052/lowman_05208_21019-019_21021-007_0006d_s01_L090_01/tiffs/lowman_05208_21019-019_21021-007_0006d_s01_L090VH_01.int.grd.tiff\n",
      "/SNOWDATA/uavsar/lowman_stack/052/lowman_05208_21019-019_21021-007_0006d_s01_L090_01/tiffs/lowman_05208_21019-019_21021-007_0006d_s01_L090VH_01.unw.grd.tiff\n",
      "/SNOWDATA/uavsar/lowman_stack/052/lowman_05208_21019-019_21021-007_0006d_s01_L090_01/tiffs/lowman_05208_21019-019_21021-007_0006d_s01_L090VV_01.cor.grd.tiff\n",
      "/SNOWDATA/uavsar/lowman_stack/052/lowman_05208_21019-019_21021-007_0006d_s01_L090_01/tiffs/lowman_05208_21019-019_21021-007_0006d_s01_L090VV_01.hgt.grd.tiff\n",
      "/SNOWDATA/uavsar/lowman_stack/052/lowman_05208_21019-019_21021-007_0006d_s01_L090_01/tiffs/lowman_05208_21019-019_21021-007_0006d_s01_L090VV_01.int.grd.tiff\n",
      "/SNOWDATA/uavsar/lowman_stack/052/lowman_05208_21019-019_21021-007_0006d_s01_L090_01/tiffs/lowman_05208_21019-019_21021-007_0006d_s01_L090VV_01.unw.grd.tiff\n"
     ]
    }
   ],
   "source": [
    "main_dir = '/SNOWDATA/uavsar/lowman_stack/'\n",
    "for t in glob(join(main_dir, '052')):\n",
    "    if '052' in t:\n",
    "        for p in glob(join(t, '*')):\n",
    "            if 'lowman_05208_21019-019_21021-007_0006d_s01_L090_01' in p:\n",
    "                print(p)\n",
    "                for img in glob(join(p, 'tiffs','*')):\n",
    "                    print(img)"
   ]
  },
  {
   "cell_type": "code",
   "execution_count": null,
   "metadata": {},
   "outputs": [],
   "source": []
  }
 ],
 "metadata": {
  "interpreter": {
   "hash": "c732e25fc97d715fc566a980b16236952ce6fa020fb71e866d38b624bf749806"
  },
  "kernelspec": {
   "display_name": "Python 3.9.10 ('uavsar')",
   "language": "python",
   "name": "python3"
  },
  "language_info": {
   "codemirror_mode": {
    "name": "ipython",
    "version": 3
   },
   "file_extension": ".py",
   "mimetype": "text/x-python",
   "name": "python",
   "nbconvert_exporter": "python",
   "pygments_lexer": "ipython3",
   "version": "3.9.10"
  },
  "orig_nbformat": 4
 },
 "nbformat": 4,
 "nbformat_minor": 2
}
