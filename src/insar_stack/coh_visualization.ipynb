{
 "cells": [
  {
   "cell_type": "code",
   "execution_count": 1,
   "metadata": {},
   "outputs": [],
   "source": [
    "import os\n",
    "from glob import glob\n",
    "import rasterio\n",
    "import numpy as np\n",
    "import matplotlib.pyplot as plt\n",
    "from uavsar_pytools.uavsar_tools import read_annotation\n",
    "import pandas as pd"
   ]
  },
  {
   "cell_type": "code",
   "execution_count": 2,
   "metadata": {},
   "outputs": [],
   "source": [
    "main_dir = '/SNOWDATA/uavsar/lowman_stack/232/'"
   ]
  },
  {
   "cell_type": "code",
   "execution_count": 3,
   "metadata": {},
   "outputs": [],
   "source": [
    "for i, d in enumerate(os.listdir(main_dir)):\n",
    "    for f in glob(os.path.join(main_dir, d, 'tmp','bin_imgs','*ann')):\n",
    "        desc = read_annotation(f)\n",
    "        flight1 = pd.to_datetime(desc['start time of acquisition for pass 1']['value']).strftime(\"%m/%d/%y\")\n",
    "        flight2 = pd.to_datetime(desc['start time of acquisition for pass 2']['value']).strftime(\"%m/%d/%y\")"
   ]
  },
  {
   "cell_type": "code",
   "execution_count": 7,
   "metadata": {},
   "outputs": [],
   "source": [
    "f, axes = plt.subplots(len(glob(os.path.join(main_dir,'*'))), figsize  = (20,30))\n",
    "for i, d in enumerate(sorted(os.listdir(main_dir))):\n",
    "    for f in glob(os.path.join(main_dir, d, 'tmp','bin_imgs','*ann')):\n",
    "        desc = read_annotation(f)\n",
    "        flight1 = pd.to_datetime(desc['start time of acquisition for pass 1']['value']).strftime(\"%m/%d/%y\")\n",
    "        flight2 = pd.to_datetime(desc['start time of acquisition for pass 2']['value']).strftime(\"%m/%d/%y\")\n",
    "    for f in glob(os.path.join(main_dir, d, 'tiffs','*HH*cor*')):\n",
    "        with rasterio.open(f) as src:\n",
    "            arr = src.read(1)\n",
    "            mean = (np.nanmean(arr))\n",
    "            ax = axes[i]\n",
    "            cbar = ax.imshow(arr[::10,::10], vmin = 0.3, vmax = 0.7)\n",
    "            plt.colorbar(cbar, ax = ax)\n",
    "            ax.axis('off')\n",
    "            name = os.path.basename(f).split('_')[2:5]\n",
    "            ax.set_title(f'{flight1} - {flight2} | mean: {mean:.2f}')\n",
    "plt.savefig('../../figures/insar_project/coh_imgs.png')\n",
    "plt.show()"
   ]
  },
  {
   "cell_type": "code",
   "execution_count": null,
   "metadata": {},
   "outputs": [],
   "source": []
  }
 ],
 "metadata": {
  "interpreter": {
   "hash": "c732e25fc97d715fc566a980b16236952ce6fa020fb71e866d38b624bf749806"
  },
  "kernelspec": {
   "display_name": "Python 3.9.10 ('uavsar')",
   "language": "python",
   "name": "python3"
  },
  "language_info": {
   "codemirror_mode": {
    "name": "ipython",
    "version": 3
   },
   "file_extension": ".py",
   "mimetype": "text/x-python",
   "name": "python",
   "nbconvert_exporter": "python",
   "pygments_lexer": "ipython3",
   "version": "3.9.10"
  },
  "orig_nbformat": 4
 },
 "nbformat": 4,
 "nbformat_minor": 2
}
