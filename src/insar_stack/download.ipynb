{
 "cells": [
  {
   "cell_type": "code",
   "execution_count": 6,
   "metadata": {},
   "outputs": [],
   "source": [
    "from uavsar_pytools.UavsarScene import UavsarScene\n",
    "import asf_search as asf\n",
    "import os\n",
    "from os.path import basename, join, exists"
   ]
  },
  {
   "cell_type": "code",
   "execution_count": 7,
   "metadata": {},
   "outputs": [
    {
     "name": "stdout",
     "output_type": "stream",
     "text": [
      "13\n"
     ]
    }
   ],
   "source": [
    "wkt = 'POINT(-115.6187 44.0810)'\n",
    "results = asf.geo_search(platform=[asf.PLATFORM.UAVSAR], intersectsWith=wkt, \n",
    "                        maxResults=20, collectionName='Lowman, CO',\n",
    "                        start =  '2020-11-01T00:00:00Z',\n",
    "                        end = '2021-04-01T23:59:59Z',\n",
    "                        processingLevel= asf.PRODUCT_TYPE.INTERFEROMETRY_GRD)\n",
    "print(len(results))"
   ]
  },
  {
   "cell_type": "code",
   "execution_count": 8,
   "metadata": {},
   "outputs": [
    {
     "name": "stdout",
     "output_type": "stream",
     "text": [
      "UA_lowman_05208_21019-019_21021-007_0006d_s01_L090_01\n",
      "UA_lowman_23205_21019-018_21021-006_0006d_s01_L090_01\n",
      "UA_lowman_05208_21017-019_21019-019_0006d_s01_L090_01\n",
      "UA_lowman_23205_21017-018_21019-018_0006d_s01_L090_01\n",
      "UA_lowman_05208_21015-009_21017-019_0007d_s01_L090_01\n",
      "UA_lowman_23205_21015-008_21017-018_0007d_s01_L090_01\n",
      "UA_lowman_05208_21012-004_21015-009_0021d_s01_L090_01\n",
      "UA_lowman_23205_21012-000_21015-008_0021d_s01_L090_01\n",
      "UA_lowman_05208_21009-005_21012-004_0007d_s01_L090_01\n",
      "UA_lowman_23205_21009-004_21012-000_0007d_s01_L090_01\n",
      "UA_lowman_23205_21008-000_21009-004_0007d_s01_L090_01\n",
      "UA_lowman_23205_21004-003_21008-000_0007d_s01_L090_01\n",
      "UA_lowman_23205_21002-004_21004-003_0005d_s01_L090_01\n"
     ]
    }
   ],
   "source": [
    "main_dir = '/scratch/zacharykeskinen/lowman_stack/'\n",
    "os.makedirs(main_dir, exist_ok = True)\n",
    "for i, result in enumerate(results):\n",
    "    print(result.properties['sceneName'])"
   ]
  },
  {
   "cell_type": "code",
   "execution_count": 9,
   "metadata": {},
   "outputs": [
    {
     "data": {
      "application/vnd.jupyter.widget-view+json": {
       "model_id": "6ed39836f21540e990691194e6c60306",
       "version_major": 2,
       "version_minor": 0
      },
      "text/plain": [
       "Downloading lowman_05208_21019-019_21021-007_0006d_s01_L090_01_int_grd.zip:   0%|          | 0.00/5.11G [00:00…"
      ]
     },
     "metadata": {},
     "output_type": "display_data"
    },
    {
     "ename": "KeyboardInterrupt",
     "evalue": "",
     "output_type": "error",
     "traceback": [
      "\u001b[0;31m---------------------------------------------------------------------------\u001b[0m",
      "\u001b[0;31mKeyboardInterrupt\u001b[0m                         Traceback (most recent call last)",
      "\u001b[1;32m/home/zacharykeskinen/uavsar/src/insar_stack/download.ipynb Cell 4'\u001b[0m in \u001b[0;36m<module>\u001b[0;34m\u001b[0m\n\u001b[1;32m     <a href='vscode-notebook-cell://ssh-remote%2Bkelvin/home/zacharykeskinen/uavsar/src/insar_stack/download.ipynb#ch0000002vscode-remote?line=10'>11</a>\u001b[0m os\u001b[39m.\u001b[39mmakedirs(\u001b[39mdir\u001b[39m)\n\u001b[1;32m     <a href='vscode-notebook-cell://ssh-remote%2Bkelvin/home/zacharykeskinen/uavsar/src/insar_stack/download.ipynb#ch0000002vscode-remote?line=11'>12</a>\u001b[0m scene \u001b[39m=\u001b[39m UavsarScene(url, \u001b[39mdir\u001b[39m)\n\u001b[0;32m---> <a href='vscode-notebook-cell://ssh-remote%2Bkelvin/home/zacharykeskinen/uavsar/src/insar_stack/download.ipynb#ch0000002vscode-remote?line=12'>13</a>\u001b[0m scene\u001b[39m.\u001b[39;49murl_to_tiffs()\n",
      "File \u001b[0;32m~/miniconda/envs/uavsar/lib/python3.9/site-packages/uavsar_pytools/UavsarScene.py:111\u001b[0m, in \u001b[0;36mUavsarScene.url_to_tiffs\u001b[0;34m(self)\u001b[0m\n\u001b[1;32m    <a href='file:///home/zacharykeskinen/miniconda/envs/uavsar/lib/python3.9/site-packages/uavsar_pytools/UavsarScene.py?line=109'>110</a>\u001b[0m \u001b[39mdef\u001b[39;00m \u001b[39murl_to_tiffs\u001b[39m(\u001b[39mself\u001b[39m):\n\u001b[0;32m--> <a href='file:///home/zacharykeskinen/miniconda/envs/uavsar/lib/python3.9/site-packages/uavsar_pytools/UavsarScene.py?line=110'>111</a>\u001b[0m     \u001b[39mself\u001b[39;49m\u001b[39m.\u001b[39;49mdownload()\n\u001b[1;32m    <a href='file:///home/zacharykeskinen/miniconda/envs/uavsar/lib/python3.9/site-packages/uavsar_pytools/UavsarScene.py?line=111'>112</a>\u001b[0m     \u001b[39mself\u001b[39m\u001b[39m.\u001b[39munzip()\n\u001b[1;32m    <a href='file:///home/zacharykeskinen/miniconda/envs/uavsar/lib/python3.9/site-packages/uavsar_pytools/UavsarScene.py?line=112'>113</a>\u001b[0m     \u001b[39mself\u001b[39m\u001b[39m.\u001b[39mbinary_to_tiffs()\n",
      "File \u001b[0;32m~/miniconda/envs/uavsar/lib/python3.9/site-packages/uavsar_pytools/UavsarScene.py:56\u001b[0m, in \u001b[0;36mUavsarScene.download\u001b[0;34m(self, sub_dir, ann)\u001b[0m\n\u001b[1;32m     <a href='file:///home/zacharykeskinen/miniconda/envs/uavsar/lib/python3.9/site-packages/uavsar_pytools/UavsarScene.py?line=52'>53</a>\u001b[0m     os\u001b[39m.\u001b[39mmakedirs(out_dir)\n\u001b[1;32m     <a href='file:///home/zacharykeskinen/miniconda/envs/uavsar/lib/python3.9/site-packages/uavsar_pytools/UavsarScene.py?line=54'>55</a>\u001b[0m \u001b[39mif\u001b[39;00m \u001b[39mself\u001b[39m\u001b[39m.\u001b[39murl\u001b[39m.\u001b[39msplit(\u001b[39m'\u001b[39m\u001b[39m.\u001b[39m\u001b[39m'\u001b[39m)[\u001b[39m-\u001b[39m\u001b[39m1\u001b[39m] \u001b[39m==\u001b[39m \u001b[39m'\u001b[39m\u001b[39mzip\u001b[39m\u001b[39m'\u001b[39m:\n\u001b[0;32m---> <a href='file:///home/zacharykeskinen/miniconda/envs/uavsar/lib/python3.9/site-packages/uavsar_pytools/UavsarScene.py?line=55'>56</a>\u001b[0m     \u001b[39mself\u001b[39m\u001b[39m.\u001b[39mzipped_fp \u001b[39m=\u001b[39m download_zip(\u001b[39mself\u001b[39;49m\u001b[39m.\u001b[39;49murl, out_dir)\n\u001b[1;32m     <a href='file:///home/zacharykeskinen/miniconda/envs/uavsar/lib/python3.9/site-packages/uavsar_pytools/UavsarScene.py?line=56'>57</a>\u001b[0m \u001b[39melse\u001b[39;00m:\n\u001b[1;32m     <a href='file:///home/zacharykeskinen/miniconda/envs/uavsar/lib/python3.9/site-packages/uavsar_pytools/UavsarScene.py?line=57'>58</a>\u001b[0m     log\u001b[39m.\u001b[39mwarning(\u001b[39m'\u001b[39m\u001b[39mUavsarScene for zip files. Using UavsarImage for single images.\u001b[39m\u001b[39m'\u001b[39m)\n",
      "File \u001b[0;32m~/miniconda/envs/uavsar/lib/python3.9/site-packages/uavsar_pytools/download/download.py:141\u001b[0m, in \u001b[0;36mdownload_zip\u001b[0;34m(url, output_dir)\u001b[0m\n\u001b[1;32m    <a href='file:///home/zacharykeskinen/miniconda/envs/uavsar/lib/python3.9/site-packages/uavsar_pytools/download/download.py?line=137'>138</a>\u001b[0m local \u001b[39m=\u001b[39m join(output_dir, basename(url))\n\u001b[1;32m    <a href='file:///home/zacharykeskinen/miniconda/envs/uavsar/lib/python3.9/site-packages/uavsar_pytools/download/download.py?line=139'>140</a>\u001b[0m \u001b[39mif\u001b[39;00m \u001b[39mnot\u001b[39;00m exists(local):\n\u001b[0;32m--> <a href='file:///home/zacharykeskinen/miniconda/envs/uavsar/lib/python3.9/site-packages/uavsar_pytools/download/download.py?line=140'>141</a>\u001b[0m     stream_download(url, local)\n\u001b[1;32m    <a href='file:///home/zacharykeskinen/miniconda/envs/uavsar/lib/python3.9/site-packages/uavsar_pytools/download/download.py?line=141'>142</a>\u001b[0m \u001b[39melse\u001b[39;00m:\n\u001b[1;32m    <a href='file:///home/zacharykeskinen/miniconda/envs/uavsar/lib/python3.9/site-packages/uavsar_pytools/download/download.py?line=142'>143</a>\u001b[0m     log\u001b[39m.\u001b[39minfo(\u001b[39mf\u001b[39m\u001b[39m'\u001b[39m\u001b[39m{\u001b[39;00mlocal\u001b[39m}\u001b[39;00m\u001b[39m already exists, skipping download!\u001b[39m\u001b[39m'\u001b[39m)\n",
      "File \u001b[0;32m~/miniconda/envs/uavsar/lib/python3.9/site-packages/uavsar_pytools/download/download.py:34\u001b[0m, in \u001b[0;36mstream_download\u001b[0;34m(url, output_f)\u001b[0m\n\u001b[1;32m     <a href='file:///home/zacharykeskinen/miniconda/envs/uavsar/lib/python3.9/site-packages/uavsar_pytools/download/download.py?line=31'>32</a>\u001b[0m \u001b[39mwith\u001b[39;00m \u001b[39mopen\u001b[39m(output_f, \u001b[39m'\u001b[39m\u001b[39mwb\u001b[39m\u001b[39m'\u001b[39m) \u001b[39mas\u001b[39;00m f:\n\u001b[1;32m     <a href='file:///home/zacharykeskinen/miniconda/envs/uavsar/lib/python3.9/site-packages/uavsar_pytools/download/download.py?line=32'>33</a>\u001b[0m     \u001b[39mwith\u001b[39;00m tqdm(total\u001b[39m=\u001b[39mtotal_size, unit\u001b[39m=\u001b[39m\u001b[39m'\u001b[39m\u001b[39mB\u001b[39m\u001b[39m'\u001b[39m, unit_scale\u001b[39m=\u001b[39m\u001b[39mTrue\u001b[39;00m , desc\u001b[39m=\u001b[39m\u001b[39mf\u001b[39m\u001b[39m'\u001b[39m\u001b[39mDownloading \u001b[39m\u001b[39m{\u001b[39;00mbasename(url)\u001b[39m}\u001b[39;00m\u001b[39m'\u001b[39m) \u001b[39mas\u001b[39;00m pbar:\n\u001b[0;32m---> <a href='file:///home/zacharykeskinen/miniconda/envs/uavsar/lib/python3.9/site-packages/uavsar_pytools/download/download.py?line=33'>34</a>\u001b[0m         \u001b[39mfor\u001b[39;00m ch \u001b[39min\u001b[39;00m r\u001b[39m.\u001b[39miter_content(chunk_size\u001b[39m=\u001b[39m\u001b[39m1024\u001b[39m):\n\u001b[1;32m     <a href='file:///home/zacharykeskinen/miniconda/envs/uavsar/lib/python3.9/site-packages/uavsar_pytools/download/download.py?line=34'>35</a>\u001b[0m             \u001b[39mif\u001b[39;00m ch:\n\u001b[1;32m     <a href='file:///home/zacharykeskinen/miniconda/envs/uavsar/lib/python3.9/site-packages/uavsar_pytools/download/download.py?line=35'>36</a>\u001b[0m                 f\u001b[39m.\u001b[39mwrite(ch)\n",
      "File \u001b[0;32m~/miniconda/envs/uavsar/lib/python3.9/site-packages/requests/models.py:760\u001b[0m, in \u001b[0;36mResponse.iter_content.<locals>.generate\u001b[0;34m()\u001b[0m\n\u001b[1;32m    <a href='file:///home/zacharykeskinen/miniconda/envs/uavsar/lib/python3.9/site-packages/requests/models.py?line=757'>758</a>\u001b[0m \u001b[39mif\u001b[39;00m \u001b[39mhasattr\u001b[39m(\u001b[39mself\u001b[39m\u001b[39m.\u001b[39mraw, \u001b[39m'\u001b[39m\u001b[39mstream\u001b[39m\u001b[39m'\u001b[39m):\n\u001b[1;32m    <a href='file:///home/zacharykeskinen/miniconda/envs/uavsar/lib/python3.9/site-packages/requests/models.py?line=758'>759</a>\u001b[0m     \u001b[39mtry\u001b[39;00m:\n\u001b[0;32m--> <a href='file:///home/zacharykeskinen/miniconda/envs/uavsar/lib/python3.9/site-packages/requests/models.py?line=759'>760</a>\u001b[0m         \u001b[39mfor\u001b[39;00m chunk \u001b[39min\u001b[39;00m \u001b[39mself\u001b[39m\u001b[39m.\u001b[39mraw\u001b[39m.\u001b[39mstream(chunk_size, decode_content\u001b[39m=\u001b[39m\u001b[39mTrue\u001b[39;00m):\n\u001b[1;32m    <a href='file:///home/zacharykeskinen/miniconda/envs/uavsar/lib/python3.9/site-packages/requests/models.py?line=760'>761</a>\u001b[0m             \u001b[39myield\u001b[39;00m chunk\n\u001b[1;32m    <a href='file:///home/zacharykeskinen/miniconda/envs/uavsar/lib/python3.9/site-packages/requests/models.py?line=761'>762</a>\u001b[0m     \u001b[39mexcept\u001b[39;00m ProtocolError \u001b[39mas\u001b[39;00m e:\n",
      "File \u001b[0;32m~/miniconda/envs/uavsar/lib/python3.9/site-packages/urllib3/response.py:576\u001b[0m, in \u001b[0;36mHTTPResponse.stream\u001b[0;34m(self, amt, decode_content)\u001b[0m\n\u001b[1;32m    <a href='file:///home/zacharykeskinen/miniconda/envs/uavsar/lib/python3.9/site-packages/urllib3/response.py?line=573'>574</a>\u001b[0m \u001b[39melse\u001b[39;00m:\n\u001b[1;32m    <a href='file:///home/zacharykeskinen/miniconda/envs/uavsar/lib/python3.9/site-packages/urllib3/response.py?line=574'>575</a>\u001b[0m     \u001b[39mwhile\u001b[39;00m \u001b[39mnot\u001b[39;00m is_fp_closed(\u001b[39mself\u001b[39m\u001b[39m.\u001b[39m_fp):\n\u001b[0;32m--> <a href='file:///home/zacharykeskinen/miniconda/envs/uavsar/lib/python3.9/site-packages/urllib3/response.py?line=575'>576</a>\u001b[0m         data \u001b[39m=\u001b[39m \u001b[39mself\u001b[39;49m\u001b[39m.\u001b[39;49mread(amt\u001b[39m=\u001b[39;49mamt, decode_content\u001b[39m=\u001b[39;49mdecode_content)\n\u001b[1;32m    <a href='file:///home/zacharykeskinen/miniconda/envs/uavsar/lib/python3.9/site-packages/urllib3/response.py?line=577'>578</a>\u001b[0m         \u001b[39mif\u001b[39;00m data:\n\u001b[1;32m    <a href='file:///home/zacharykeskinen/miniconda/envs/uavsar/lib/python3.9/site-packages/urllib3/response.py?line=578'>579</a>\u001b[0m             \u001b[39myield\u001b[39;00m data\n",
      "File \u001b[0;32m~/miniconda/envs/uavsar/lib/python3.9/site-packages/urllib3/response.py:544\u001b[0m, in \u001b[0;36mHTTPResponse.read\u001b[0;34m(self, amt, decode_content, cache_content)\u001b[0m\n\u001b[1;32m    <a href='file:///home/zacharykeskinen/miniconda/envs/uavsar/lib/python3.9/site-packages/urllib3/response.py?line=540'>541</a>\u001b[0m                 \u001b[39mraise\u001b[39;00m IncompleteRead(\u001b[39mself\u001b[39m\u001b[39m.\u001b[39m_fp_bytes_read, \u001b[39mself\u001b[39m\u001b[39m.\u001b[39mlength_remaining)\n\u001b[1;32m    <a href='file:///home/zacharykeskinen/miniconda/envs/uavsar/lib/python3.9/site-packages/urllib3/response.py?line=542'>543</a>\u001b[0m \u001b[39mif\u001b[39;00m data:\n\u001b[0;32m--> <a href='file:///home/zacharykeskinen/miniconda/envs/uavsar/lib/python3.9/site-packages/urllib3/response.py?line=543'>544</a>\u001b[0m     \u001b[39mself\u001b[39m\u001b[39m.\u001b[39m_fp_bytes_read \u001b[39m+\u001b[39m\u001b[39m=\u001b[39m \u001b[39mlen\u001b[39m(data)\n\u001b[1;32m    <a href='file:///home/zacharykeskinen/miniconda/envs/uavsar/lib/python3.9/site-packages/urllib3/response.py?line=544'>545</a>\u001b[0m     \u001b[39mif\u001b[39;00m \u001b[39mself\u001b[39m\u001b[39m.\u001b[39mlength_remaining \u001b[39mis\u001b[39;00m \u001b[39mnot\u001b[39;00m \u001b[39mNone\u001b[39;00m:\n\u001b[1;32m    <a href='file:///home/zacharykeskinen/miniconda/envs/uavsar/lib/python3.9/site-packages/urllib3/response.py?line=545'>546</a>\u001b[0m         \u001b[39mself\u001b[39m\u001b[39m.\u001b[39mlength_remaining \u001b[39m-\u001b[39m\u001b[39m=\u001b[39m \u001b[39mlen\u001b[39m(data)\n",
      "\u001b[0;31mKeyboardInterrupt\u001b[0m: "
     ]
    }
   ],
   "source": [
    "main_dir = '/SNOWDATA/uavsar/lowman_stack/'\n",
    "os.makedirs(main_dir, exist_ok = True)\n",
    "for i, result in enumerate(results):\n",
    "    url = result.properties['url']\n",
    "    name = basename(url).replace('_int_grd.zip','')\n",
    "    heading = name.split('_')[1][:3]\n",
    "\n",
    "    os.makedirs(join(main_dir, heading), exist_ok = True)\n",
    "    dir = join(join(main_dir, heading), name)\n",
    "    if not os.path.exists(dir):\n",
    "        os.makedirs(dir)\n",
    "        scene = UavsarScene(url, dir)\n",
    "        scene.url_to_tiffs()"
   ]
  }
 ],
 "metadata": {
  "interpreter": {
   "hash": "f6a401748561ccf4b02a2d1eb7d5bf189979b8ae4107867c67e9029bf7aa348c"
  },
  "kernelspec": {
   "display_name": "Python 3.9.7 ('uavsar')",
   "language": "python",
   "name": "python3"
  },
  "language_info": {
   "codemirror_mode": {
    "name": "ipython",
    "version": 3
   },
   "file_extension": ".py",
   "mimetype": "text/x-python",
   "name": "python",
   "nbconvert_exporter": "python",
   "pygments_lexer": "ipython3",
   "version": "3.9.10"
  },
  "orig_nbformat": 4
 },
 "nbformat": 4,
 "nbformat_minor": 2
}
