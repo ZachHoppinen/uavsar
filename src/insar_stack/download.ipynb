{
 "cells": [
  {
   "cell_type": "code",
   "execution_count": 5,
   "metadata": {},
   "outputs": [],
   "source": [
    "from uavsar_pytools.UavsarScene import UavsarScene\n",
    "import asf_search as asf\n",
    "import os\n",
    "from os.path import basename, join, exists"
   ]
  },
  {
   "cell_type": "code",
   "execution_count": 6,
   "metadata": {},
   "outputs": [
    {
     "name": "stdout",
     "output_type": "stream",
     "text": [
      "13\n"
     ]
    }
   ],
   "source": [
    "wkt = 'POINT(-115.6187 44.0810)'\n",
    "results = asf.geo_search(platform=[asf.PLATFORM.UAVSAR], intersectsWith=wkt, \n",
    "                        maxResults=20, collectionName='Lowman, CO',\n",
    "                        start =  '2020-11-01T00:00:00Z',\n",
    "                        end = '2021-04-01T23:59:59Z',\n",
    "                        processingLevel= asf.PRODUCT_TYPE.INTERFEROMETRY_GRD)\n",
    "print(len(results))"
   ]
  },
  {
   "cell_type": "code",
   "execution_count": 7,
   "metadata": {},
   "outputs": [
    {
     "data": {
      "application/vnd.jupyter.widget-view+json": {
       "model_id": "0c7f0f8dfb544281bfd1d1d3d7fc543b",
       "version_major": 2,
       "version_minor": 0
      },
      "text/plain": [
       "Downloading lowman_05208_21019-019_21021-007_0006d_s01_L090_01_int_grd.zip:   0%|          | 0.00/5.11G [00:00…"
      ]
     },
     "metadata": {},
     "output_type": "display_data"
    }
   ],
   "source": [
    "main_dir = '/scratch/zacharykeskinen/lowman_stack/'\n",
    "os.makedirs(main_dir, exist_ok = True)\n",
    "for i, result in enumerate(results):\n",
    "    url = result.properties['url']\n",
    "    name = basename(url).replace('_int_grd.zip','')\n",
    "    heading = name.split('_')[1][:3]\n",
    "\n",
    "    os.makedirs(join(main_dir, heading), exist_ok = True)\n",
    "    dir = join(join(main_dir, heading), name)\n",
    "    os.makedirs(dir, exist_ok=True)\n",
    "    scene = UavsarScene(url, dir)\n",
    "    scene.url_to_tiffs()"
   ]
  }
 ],
 "metadata": {
  "interpreter": {
   "hash": "f6a401748561ccf4b02a2d1eb7d5bf189979b8ae4107867c67e9029bf7aa348c"
  },
  "kernelspec": {
   "display_name": "Python 3.9.7 ('uavsar')",
   "language": "python",
   "name": "python3"
  },
  "language_info": {
   "codemirror_mode": {
    "name": "ipython",
    "version": 3
   },
   "file_extension": ".py",
   "mimetype": "text/x-python",
   "name": "python",
   "nbconvert_exporter": "python",
   "pygments_lexer": "ipython3",
   "version": "3.9.10"
  },
  "orig_nbformat": 4
 },
 "nbformat": 4,
 "nbformat_minor": 2
}
