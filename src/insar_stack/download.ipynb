{
 "cells": [
  {
   "cell_type": "code",
   "execution_count": 6,
   "metadata": {},
   "outputs": [],
   "source": [
    "from uavsar_pytools.UavsarScene import UavsarScene\n",
    "import asf_search as asf\n",
    "import os\n",
    "from os.path import basename, join, exists"
   ]
  },
  {
   "cell_type": "code",
   "execution_count": 7,
   "metadata": {},
   "outputs": [
    {
     "name": "stdout",
     "output_type": "stream",
     "text": [
      "13\n"
     ]
    }
   ],
   "source": [
    "wkt = 'POINT(-115.6187 44.0810)'\n",
    "results = asf.geo_search(platform=[asf.PLATFORM.UAVSAR], intersectsWith=wkt, \n",
    "                        maxResults=20, collectionName='Lowman, CO',\n",
    "                        start =  '2020-11-01T00:00:00Z',\n",
    "                        end = '2021-04-01T23:59:59Z',\n",
    "                        processingLevel= asf.PRODUCT_TYPE.INTERFEROMETRY_GRD)\n",
    "print(len(results))"
   ]
  },
  {
   "cell_type": "code",
   "execution_count": 8,
   "metadata": {},
   "outputs": [
    {
     "name": "stdout",
     "output_type": "stream",
     "text": [
      "UA_lowman_05208_21019-019_21021-007_0006d_s01_L090_01\n",
      "UA_lowman_23205_21019-018_21021-006_0006d_s01_L090_01\n",
      "UA_lowman_05208_21017-019_21019-019_0006d_s01_L090_01\n",
      "UA_lowman_23205_21017-018_21019-018_0006d_s01_L090_01\n",
      "UA_lowman_05208_21015-009_21017-019_0007d_s01_L090_01\n",
      "UA_lowman_23205_21015-008_21017-018_0007d_s01_L090_01\n",
      "UA_lowman_05208_21012-004_21015-009_0021d_s01_L090_01\n",
      "UA_lowman_23205_21012-000_21015-008_0021d_s01_L090_01\n",
      "UA_lowman_05208_21009-005_21012-004_0007d_s01_L090_01\n",
      "UA_lowman_23205_21009-004_21012-000_0007d_s01_L090_01\n",
      "UA_lowman_23205_21008-000_21009-004_0007d_s01_L090_01\n",
      "UA_lowman_23205_21004-003_21008-000_0007d_s01_L090_01\n",
      "UA_lowman_23205_21002-004_21004-003_0005d_s01_L090_01\n"
     ]
    }
   ],
   "source": [
    "main_dir = '/scratch/zacharykeskinen/lowman_stack/'\n",
    "os.makedirs(main_dir, exist_ok = True)\n",
    "for i, result in enumerate(results):\n",
    "    print(result.properties['sceneName'])"
   ]
  },
  {
   "cell_type": "code",
   "execution_count": 10,
   "metadata": {},
   "outputs": [
    {
     "data": {
      "application/vnd.jupyter.widget-view+json": {
       "model_id": "2613ef3c468d459cac513932e1289afe",
       "version_major": 2,
       "version_minor": 0
      },
      "text/plain": [
       "Downloading lowman_23205_21002-004_21004-003_0005d_s01_L090_01_int_grd.zip:   0%|          | 0.00/5.03G [00:00…"
      ]
     },
     "metadata": {},
     "output_type": "display_data"
    },
    {
     "name": "stderr",
     "output_type": "stream",
     "text": [
      "Unzipping: 100%|██████████| 20/20 [08:13<00:00, 24.68s/file]\n"
     ]
    }
   ],
   "source": [
    "main_dir = '/SNOWDATA/uavsar/lowman_stack/'\n",
    "os.makedirs(main_dir, exist_ok = True)\n",
    "for i, result in enumerate(results):\n",
    "    url = result.properties['url']\n",
    "    name = basename(url).replace('_int_grd.zip','')\n",
    "    heading = name.split('_')[1][:3]\n",
    "\n",
    "    os.makedirs(join(main_dir, heading), exist_ok = True)\n",
    "    dir = join(join(main_dir, heading), name)\n",
    "    if not os.path.exists(dir):\n",
    "        os.makedirs(dir)\n",
    "        scene = UavsarScene(url, dir)\n",
    "        scene.url_to_tiffs()"
   ]
  },
  {
   "cell_type": "code",
   "execution_count": null,
   "metadata": {},
   "outputs": [],
   "source": []
  }
 ],
 "metadata": {
  "interpreter": {
   "hash": "f6a401748561ccf4b02a2d1eb7d5bf189979b8ae4107867c67e9029bf7aa348c"
  },
  "kernelspec": {
   "display_name": "Python 3.9.7 ('uavsar')",
   "language": "python",
   "name": "python3"
  },
  "language_info": {
   "codemirror_mode": {
    "name": "ipython",
    "version": 3
   },
   "file_extension": ".py",
   "mimetype": "text/x-python",
   "name": "python",
   "nbconvert_exporter": "python",
   "pygments_lexer": "ipython3",
   "version": "3.9.10"
  },
  "orig_nbformat": 4
 },
 "nbformat": 4,
 "nbformat_minor": 2
}
