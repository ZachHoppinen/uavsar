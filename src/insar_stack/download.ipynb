{
 "cells": [
  {
   "cell_type": "code",
   "execution_count": 9,
   "metadata": {},
   "outputs": [],
   "source": [
    "from uavsar_pytools.UavsarScene import UavsarScene\n",
    "import asf_search as asf\n",
    "import os\n",
    "from os.path import basename, join, exists"
   ]
  },
  {
   "cell_type": "code",
   "execution_count": 2,
   "metadata": {},
   "outputs": [
    {
     "name": "stdout",
     "output_type": "stream",
     "text": [
      "13\n"
     ]
    }
   ],
   "source": [
    "wkt = 'POINT(-115.6187 44.0810)'\n",
    "results = asf.geo_search(platform=[asf.PLATFORM.UAVSAR], intersectsWith=wkt, \n",
    "                        maxResults=20, collectionName='Lowman, CO',\n",
    "                        start =  '2020-11-01T00:00:00Z',\n",
    "                        end = '2021-04-01T23:59:59Z',\n",
    "                        processingLevel= asf.PRODUCT_TYPE.INTERFEROMETRY_GRD)\n",
    "print(len(results))"
   ]
  },
  {
   "cell_type": "code",
   "execution_count": 17,
   "metadata": {},
   "outputs": [
    {
     "name": "stderr",
     "output_type": "stream",
     "text": [
      "Downloading lowman_23205_21019-018_21021-006_0006d_s01_L090_01_int_grd.zip:  69%|██████▉   | 3.24G/4.66G [11:56<05:15, 4.51MB/s]\n"
     ]
    },
    {
     "ename": "KeyboardInterrupt",
     "evalue": "",
     "output_type": "error",
     "traceback": [
      "\u001b[0;31m---------------------------------------------------------------------------\u001b[0m",
      "\u001b[0;31mKeyboardInterrupt\u001b[0m                         Traceback (most recent call last)",
      "\u001b[1;32m/Users/zachkeskinen/Documents/uavsar/src/insar_stack/download.ipynb Cell 3'\u001b[0m in \u001b[0;36m<module>\u001b[0;34m\u001b[0m\n\u001b[1;32m     <a href='vscode-notebook-cell:/Users/zachkeskinen/Documents/uavsar/src/insar_stack/download.ipynb#ch0000002?line=9'>10</a>\u001b[0m os\u001b[39m.\u001b[39mmakedirs(\u001b[39mdir\u001b[39m, exist_ok\u001b[39m=\u001b[39m\u001b[39mTrue\u001b[39;00m)\n\u001b[1;32m     <a href='vscode-notebook-cell:/Users/zachkeskinen/Documents/uavsar/src/insar_stack/download.ipynb#ch0000002?line=10'>11</a>\u001b[0m scene \u001b[39m=\u001b[39m UavsarScene(url, \u001b[39mdir\u001b[39m)\n\u001b[0;32m---> <a href='vscode-notebook-cell:/Users/zachkeskinen/Documents/uavsar/src/insar_stack/download.ipynb#ch0000002?line=11'>12</a>\u001b[0m scene\u001b[39m.\u001b[39;49murl_to_tiffs()\n",
      "File \u001b[0;32m/opt/anaconda3/envs/uavsar/lib/python3.9/site-packages/uavsar_pytools/UavsarScene.py:111\u001b[0m, in \u001b[0;36mUavsarScene.url_to_tiffs\u001b[0;34m(self)\u001b[0m\n\u001b[1;32m    <a href='file:///opt/anaconda3/envs/uavsar/lib/python3.9/site-packages/uavsar_pytools/UavsarScene.py?line=109'>110</a>\u001b[0m \u001b[39mdef\u001b[39;00m \u001b[39murl_to_tiffs\u001b[39m(\u001b[39mself\u001b[39m):\n\u001b[0;32m--> <a href='file:///opt/anaconda3/envs/uavsar/lib/python3.9/site-packages/uavsar_pytools/UavsarScene.py?line=110'>111</a>\u001b[0m     \u001b[39mself\u001b[39;49m\u001b[39m.\u001b[39;49mdownload()\n\u001b[1;32m    <a href='file:///opt/anaconda3/envs/uavsar/lib/python3.9/site-packages/uavsar_pytools/UavsarScene.py?line=111'>112</a>\u001b[0m     \u001b[39mself\u001b[39m\u001b[39m.\u001b[39munzip()\n\u001b[1;32m    <a href='file:///opt/anaconda3/envs/uavsar/lib/python3.9/site-packages/uavsar_pytools/UavsarScene.py?line=112'>113</a>\u001b[0m     \u001b[39mself\u001b[39m\u001b[39m.\u001b[39mbinary_to_tiffs()\n",
      "File \u001b[0;32m/opt/anaconda3/envs/uavsar/lib/python3.9/site-packages/uavsar_pytools/UavsarScene.py:56\u001b[0m, in \u001b[0;36mUavsarScene.download\u001b[0;34m(self, sub_dir, ann)\u001b[0m\n\u001b[1;32m     <a href='file:///opt/anaconda3/envs/uavsar/lib/python3.9/site-packages/uavsar_pytools/UavsarScene.py?line=52'>53</a>\u001b[0m     os\u001b[39m.\u001b[39mmakedirs(out_dir)\n\u001b[1;32m     <a href='file:///opt/anaconda3/envs/uavsar/lib/python3.9/site-packages/uavsar_pytools/UavsarScene.py?line=54'>55</a>\u001b[0m \u001b[39mif\u001b[39;00m \u001b[39mself\u001b[39m\u001b[39m.\u001b[39murl\u001b[39m.\u001b[39msplit(\u001b[39m'\u001b[39m\u001b[39m.\u001b[39m\u001b[39m'\u001b[39m)[\u001b[39m-\u001b[39m\u001b[39m1\u001b[39m] \u001b[39m==\u001b[39m \u001b[39m'\u001b[39m\u001b[39mzip\u001b[39m\u001b[39m'\u001b[39m:\n\u001b[0;32m---> <a href='file:///opt/anaconda3/envs/uavsar/lib/python3.9/site-packages/uavsar_pytools/UavsarScene.py?line=55'>56</a>\u001b[0m     \u001b[39mself\u001b[39m\u001b[39m.\u001b[39mzipped_fp \u001b[39m=\u001b[39m download_zip(\u001b[39mself\u001b[39;49m\u001b[39m.\u001b[39;49murl, out_dir)\n\u001b[1;32m     <a href='file:///opt/anaconda3/envs/uavsar/lib/python3.9/site-packages/uavsar_pytools/UavsarScene.py?line=56'>57</a>\u001b[0m \u001b[39melse\u001b[39;00m:\n\u001b[1;32m     <a href='file:///opt/anaconda3/envs/uavsar/lib/python3.9/site-packages/uavsar_pytools/UavsarScene.py?line=57'>58</a>\u001b[0m     log\u001b[39m.\u001b[39mwarning(\u001b[39m'\u001b[39m\u001b[39mUavsarScene for zip files. Using UavsarImage for single images.\u001b[39m\u001b[39m'\u001b[39m)\n",
      "File \u001b[0;32m/opt/anaconda3/envs/uavsar/lib/python3.9/site-packages/uavsar_pytools/download/download.py:141\u001b[0m, in \u001b[0;36mdownload_zip\u001b[0;34m(url, output_dir)\u001b[0m\n\u001b[1;32m    <a href='file:///opt/anaconda3/envs/uavsar/lib/python3.9/site-packages/uavsar_pytools/download/download.py?line=137'>138</a>\u001b[0m local \u001b[39m=\u001b[39m join(output_dir, basename(url))\n\u001b[1;32m    <a href='file:///opt/anaconda3/envs/uavsar/lib/python3.9/site-packages/uavsar_pytools/download/download.py?line=139'>140</a>\u001b[0m \u001b[39mif\u001b[39;00m \u001b[39mnot\u001b[39;00m exists(local):\n\u001b[0;32m--> <a href='file:///opt/anaconda3/envs/uavsar/lib/python3.9/site-packages/uavsar_pytools/download/download.py?line=140'>141</a>\u001b[0m     stream_download(url, local)\n\u001b[1;32m    <a href='file:///opt/anaconda3/envs/uavsar/lib/python3.9/site-packages/uavsar_pytools/download/download.py?line=141'>142</a>\u001b[0m \u001b[39melse\u001b[39;00m:\n\u001b[1;32m    <a href='file:///opt/anaconda3/envs/uavsar/lib/python3.9/site-packages/uavsar_pytools/download/download.py?line=142'>143</a>\u001b[0m     log\u001b[39m.\u001b[39minfo(\u001b[39mf\u001b[39m\u001b[39m'\u001b[39m\u001b[39m{\u001b[39;00mlocal\u001b[39m}\u001b[39;00m\u001b[39m already exists, skipping download!\u001b[39m\u001b[39m'\u001b[39m)\n",
      "File \u001b[0;32m/opt/anaconda3/envs/uavsar/lib/python3.9/site-packages/uavsar_pytools/download/download.py:37\u001b[0m, in \u001b[0;36mstream_download\u001b[0;34m(url, output_f)\u001b[0m\n\u001b[1;32m     <a href='file:///opt/anaconda3/envs/uavsar/lib/python3.9/site-packages/uavsar_pytools/download/download.py?line=34'>35</a>\u001b[0m                 \u001b[39mif\u001b[39;00m ch:\n\u001b[1;32m     <a href='file:///opt/anaconda3/envs/uavsar/lib/python3.9/site-packages/uavsar_pytools/download/download.py?line=35'>36</a>\u001b[0m                     f\u001b[39m.\u001b[39mwrite(ch)\n\u001b[0;32m---> <a href='file:///opt/anaconda3/envs/uavsar/lib/python3.9/site-packages/uavsar_pytools/download/download.py?line=36'>37</a>\u001b[0m                     pbar\u001b[39m.\u001b[39;49mupdate(\u001b[39mlen\u001b[39;49m(ch))\n\u001b[1;32m     <a href='file:///opt/anaconda3/envs/uavsar/lib/python3.9/site-packages/uavsar_pytools/download/download.py?line=37'>38</a>\u001b[0m \u001b[39melse\u001b[39;00m:\n\u001b[1;32m     <a href='file:///opt/anaconda3/envs/uavsar/lib/python3.9/site-packages/uavsar_pytools/download/download.py?line=38'>39</a>\u001b[0m     log\u001b[39m.\u001b[39mwarning(\u001b[39mf\u001b[39m\u001b[39m'\u001b[39m\u001b[39mHTTP CODE \u001b[39m\u001b[39m{\u001b[39;00mr\u001b[39m.\u001b[39mstatus_code\u001b[39m}\u001b[39;00m\u001b[39m. Skipping download!\u001b[39m\u001b[39m'\u001b[39m)\n",
      "File \u001b[0;32m/opt/anaconda3/envs/uavsar/lib/python3.9/site-packages/tqdm/std.py:1246\u001b[0m, in \u001b[0;36mtqdm.update\u001b[0;34m(self, n)\u001b[0m\n\u001b[1;32m   <a href='file:///opt/anaconda3/envs/uavsar/lib/python3.9/site-packages/tqdm/std.py?line=1242'>1243</a>\u001b[0m \u001b[39mself\u001b[39m\u001b[39m.\u001b[39mn \u001b[39m+\u001b[39m\u001b[39m=\u001b[39m n\n\u001b[1;32m   <a href='file:///opt/anaconda3/envs/uavsar/lib/python3.9/site-packages/tqdm/std.py?line=1244'>1245</a>\u001b[0m \u001b[39m# check counter first to reduce calls to time()\u001b[39;00m\n\u001b[0;32m-> <a href='file:///opt/anaconda3/envs/uavsar/lib/python3.9/site-packages/tqdm/std.py?line=1245'>1246</a>\u001b[0m \u001b[39mif\u001b[39;00m \u001b[39mself\u001b[39m\u001b[39m.\u001b[39mn \u001b[39m-\u001b[39m \u001b[39mself\u001b[39m\u001b[39m.\u001b[39mlast_print_n \u001b[39m>\u001b[39m\u001b[39m=\u001b[39m \u001b[39mself\u001b[39;49m\u001b[39m.\u001b[39;49mminiters:\n\u001b[1;32m   <a href='file:///opt/anaconda3/envs/uavsar/lib/python3.9/site-packages/tqdm/std.py?line=1246'>1247</a>\u001b[0m     cur_t \u001b[39m=\u001b[39m \u001b[39mself\u001b[39m\u001b[39m.\u001b[39m_time()\n\u001b[1;32m   <a href='file:///opt/anaconda3/envs/uavsar/lib/python3.9/site-packages/tqdm/std.py?line=1247'>1248</a>\u001b[0m     dt \u001b[39m=\u001b[39m cur_t \u001b[39m-\u001b[39m \u001b[39mself\u001b[39m\u001b[39m.\u001b[39mlast_print_t\n",
      "\u001b[0;31mKeyboardInterrupt\u001b[0m: "
     ]
    }
   ],
   "source": [
    "main_dir = '../../imgs/lowman/'\n",
    "for i, result in enumerate(results):\n",
    "    if i == 1 or i == 2:\n",
    "        url = result.properties['url']\n",
    "        name = basename(url).replace('_int_grd.zip','')\n",
    "        heading = name.split('_')[1][:3]\n",
    "\n",
    "        os.makedirs(join(main_dir, heading), exist_ok = True)\n",
    "        dir = join(join(main_dir, heading), name)\n",
    "        os.makedirs(dir, exist_ok=True)\n",
    "        scene = UavsarScene(url, dir)\n",
    "        scene.url_to_tiffs()"
   ]
  },
  {
   "cell_type": "code",
   "execution_count": null,
   "metadata": {},
   "outputs": [],
   "source": []
  }
 ],
 "metadata": {
  "interpreter": {
   "hash": "f6a401748561ccf4b02a2d1eb7d5bf189979b8ae4107867c67e9029bf7aa348c"
  },
  "kernelspec": {
   "display_name": "Python 3.9.7 ('uavsar')",
   "language": "python",
   "name": "python3"
  },
  "language_info": {
   "codemirror_mode": {
    "name": "ipython",
    "version": 3
   },
   "file_extension": ".py",
   "mimetype": "text/x-python",
   "name": "python",
   "nbconvert_exporter": "python",
   "pygments_lexer": "ipython3",
   "version": "3.9.10"
  },
  "orig_nbformat": 4
 },
 "nbformat": 4,
 "nbformat_minor": 2
}
