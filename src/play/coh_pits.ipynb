{
 "cells": [
  {
   "cell_type": "code",
   "execution_count": null,
   "metadata": {},
   "outputs": [],
   "source": [
    "from os.path import join, abspath, expanduser\n",
    "from glob import glob\n",
    "import numpy as np\n",
    "import pandas as pd\n",
    "import matplotlib.pyplot as plt\n",
    "import pickle\n",
    "import datetime\n",
    "from rio_geom import rio_to_exterior\n",
    "from datetime import timedelta\n",
    "import geopandas as gpd\n",
    "import rioxarray as rxa\n",
    "import contextily as ctx\n",
    "from tqdm import tqdm\n",
    "import seaborn as sns\n",
    "from uavsar_pytools.snow_depth_inversion import depth_from_phase\n",
    "\n",
    "import warnings\n",
    "warnings.simplefilter(action='ignore', category=FutureWarning)"
   ]
  },
  {
   "cell_type": "code",
   "execution_count": null,
   "metadata": {},
   "outputs": [],
   "source": [
    "data_dir = expanduser('~/scratch/data/uavsar/snowpits')\n",
    "pits_dir = join(data_dir, 'pits')\n",
    "swe = pd.read_csv(join(data_dir, 'SNEX20_TS_SP_Summary_SWE_v01.csv'), parse_dates = ['Date/Local Standard Time'], index_col= 'PitID')\n",
    "env = pd.read_csv(join(data_dir, 'SNEX20_TS_SP_Summary_Environment_v01.csv'), parse_dates = ['Date/Local Standard Time'], index_col= 'PitID')\n",
    "\n",
    "pit_sum = pd.concat([swe, env], axis = 1).reindex(swe.index)\n",
    "pit_sum = pit_sum.loc[:,~pit_sum.columns.duplicated()]\n",
    "pit_sum = pit_sum.rename(columns = {'Date/Local Standard Time':'date'})\n",
    "pit_sum = gpd.GeoDataFrame(pit_sum, geometry=gpd.points_from_xy(pit_sum['Longitude (deg)'], pit_sum['Latitude (deg)']), crs = 4326)"
   ]
  },
  {
   "cell_type": "code",
   "execution_count": null,
   "metadata": {},
   "outputs": [],
   "source": [
    "with open(expanduser('~/scratch/data/uavsar/image_fps'), 'rb') as f:\n",
    "    image_fps = pickle.load(f)\n",
    "\n",
    "res = []\n",
    "for i, image_fp in tqdm(enumerate(image_fps), total = len(image_fps)):\n",
    "    if i == i:\n",
    "        if image_fp['flight1'].date().year == 2021 or image_fp['pol'] != 'VV':\n",
    "            pass\n",
    "        else:\n",
    "            dic = {}\n",
    "            dic['image_data'] = image_fp\n",
    "            loc = image_fp['location']\n",
    "            dic['loc'] = loc\n",
    "            dic['pol'] = image_fp['pol']\n",
    "            geom = rio_to_exterior(image_fp['cor'])\n",
    "            for i, dt in enumerate(['flight1', 'flight2']):\n",
    "                dic[f't{i+1}'] = image_fp[dt]\n",
    "            # Form a date range to query on either side of our chosen day \n",
    "            df_range = pit_sum[(pit_sum.date.dt.date > image_fp['flight1'].date()-pd.Timedelta('1 day')) & (pit_sum.date.dt.date < image_fp['flight2'].date() + pd.Timedelta('1 day'))]\n",
    "\n",
    "            if len(df_range) > 0:\n",
    "                # View snow pits that are +/- 1 day of the first UAVSAR flight date\n",
    "                geom = geom.to_crs(df_range.crs)\n",
    "                points_within = gpd.sjoin(df_range, geom, predicate='within')\n",
    "                points_within = points_within.drop(['index_right'], axis=1)\n",
    "                if len(points_within) > 0:\n",
    "                    epsg = 26900 + int(points_within.iloc[0]['UTM Zone'].replace('N',''))\n",
    "                    points_within = points_within.to_crs(epsg = epsg)\n",
    "                    if len(points_within) > 0:\n",
    "                        for label in ['fp','inc','cor','hgt']:\n",
    "                            img = rxa.open_rasterio(image_fp[label])\n",
    "                            for i_site, r_site in points_within.iterrows():\n",
    "                                img = img.rio.reproject(dst_crs = epsg)\n",
    "                                site_name = r_site.Location + '-' + r_site.Site + '-' + str(r_site['date'].date()) + '-' + str(r_site['date'].date())\n",
    "                                if label == 'fp':\n",
    "                                    label = 'unw'\n",
    "                                points_within.loc[i_site, label] = img.sel(x = r_site.geometry.x, y = r_site.geometry.y, method = 'nearest', tolerance = 50).values[0]\n",
    "                        dic[f'pit_num'] = len(points_within)\n",
    "                        dic[f'pits'] = points_within\n",
    "            else:\n",
    "                dic['pit_num'] = len(points_within)\n",
    "                print(f'{dt}_{loc} has none')\n",
    "            res.append(pd.DataFrame.from_dict([dic]))\n",
    "res = pd.concat(res, ignore_index = True)"
   ]
  },
  {
   "cell_type": "code",
   "execution_count": null,
   "metadata": {},
   "outputs": [],
   "source": [
    "for i, r in res[res.pit_num > 0].iterrows():\n",
    "    for pit_id, snowpit_results in r.pits.iterrows():\n",
    "        pass"
   ]
  },
  {
   "cell_type": "code",
   "execution_count": null,
   "metadata": {},
   "outputs": [],
   "source": [
    "r.pits"
   ]
  }
 ],
 "metadata": {
  "kernelspec": {
   "display_name": "Python 3.9.13 ('proj')",
   "language": "python",
   "name": "python3"
  },
  "language_info": {
   "codemirror_mode": {
    "name": "ipython",
    "version": 3
   },
   "file_extension": ".py",
   "mimetype": "text/x-python",
   "name": "python",
   "nbconvert_exporter": "python",
   "pygments_lexer": "ipython3",
   "version": "3.9.13"
  },
  "orig_nbformat": 4,
  "vscode": {
   "interpreter": {
    "hash": "be18628f3b6aaaf0d9a50c1a0a68c0122e22b01f7b4495836f3dc0caac12767e"
   }
  }
 },
 "nbformat": 4,
 "nbformat_minor": 2
}
