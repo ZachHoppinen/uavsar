{
 "cells": [
  {
   "cell_type": "code",
   "execution_count": 1,
   "metadata": {},
   "outputs": [],
   "source": [
    "from MesoPy import Meso\n",
    "import matplotlib.pyplot as plt\n",
    "from tqdm import tqdm\n",
    "import numpy as np\n",
    "import pandas as pd"
   ]
  },
  {
   "cell_type": "code",
   "execution_count": 2,
   "metadata": {},
   "outputs": [],
   "source": [
    "m = Meso(token='0191c61bf7914bd49b8bd7a98abb9469')"
   ]
  },
  {
   "cell_type": "code",
   "execution_count": 3,
   "metadata": {},
   "outputs": [
    {
     "data": {
      "text/plain": [
       "1.7222852512155589"
      ]
     },
     "execution_count": 3,
     "metadata": {},
     "output_type": "execute_result"
    }
   ],
   "source": [
    "a = m.timeseries('202002262339', '202003111605', stid = 'AMBC1', units = 'height|m')['STATION'][0]['OBSERVATIONS']['air_temp_set_1']\n",
    "b = [elem for elem in a if elem is not None]\n",
    "np.nanmean(b)"
   ]
  },
  {
   "cell_type": "code",
   "execution_count": 4,
   "metadata": {},
   "outputs": [],
   "source": [
    "from glob import glob\n",
    "import rasterio as rio"
   ]
  },
  {
   "cell_type": "code",
   "execution_count": 6,
   "metadata": {},
   "outputs": [],
   "source": [
    "# glob('/scratch/zacharykeskinen/jpl/*/tiffs/*')\n",
    "fp = '/bsuscratch/zacharykeskinen/data/uavsar/images/Lowman, CO/lowman_05208_21012-004_21015-009_0021d_s01_L090_01_int_grd/lowman_05208_21012-004_21015-009_0021d_s01_L090HV_01.cor.grd.tiff'\n",
    "with rio.open(fp) as src:\n",
    "    bounds  = src.bounds"
   ]
  },
  {
   "cell_type": "code",
   "execution_count": 29,
   "metadata": {},
   "outputs": [],
   "source": [
    "from rasterio.windows import Window"
   ]
  },
  {
   "cell_type": "code",
   "execution_count": 30,
   "metadata": {},
   "outputs": [
    {
     "name": "stdout",
     "output_type": "stream",
     "text": [
      "[0.91771144 0.91771144 0.1554647  ... 0.23776883 0.28682545 0.28682545]\n"
     ]
    }
   ],
   "source": [
    "with rio.open(fp) as src:\n",
    "    meta = src.meta\n",
    "    x_coord, y_coord = -115.23447, 44.30342\n",
    "    box_side = 1\n",
    "    a = src.read()\n",
    "    print(a[~np.isnan(a)])\n",
    "    rowcol = rio.transform.rowcol(meta['transform'], xs=x_coord, ys=y_coord)\n",
    "    w = src.read(1, window=Window(rowcol[1], rowcol[0], box_side, box_side))\n",
    "    # w = raster_box_extract(src, -115.23447, 44.30342)"
   ]
  },
  {
   "cell_type": "code",
   "execution_count": 31,
   "metadata": {},
   "outputs": [
    {
     "data": {
      "text/plain": [
       "array([[0.5323299]], dtype=float32)"
      ]
     },
     "execution_count": 31,
     "metadata": {},
     "output_type": "execute_result"
    }
   ],
   "source": [
    "w"
   ]
  },
  {
   "cell_type": "code",
   "execution_count": 5,
   "metadata": {},
   "outputs": [],
   "source": [
    "def raster_box_extract(img, x_coord, y_coord, box_side = 5):\n",
    "    meta = img.meta\n",
    "\n",
    "    # Use the transform in the metadata and your coordinates\n",
    "    try:\n",
    "        rowcol = rio.transform.rowcol(meta['transform'], xs=x_coord, ys=y_coord)\n",
    "        w = img.read(1, window=Window(rowcol[1], rowcol[0], box_side, box_side))\n",
    "        return w\n",
    "    except:\n",
    "        pass\n",
    "        # print('station outside bbox')"
   ]
  },
  {
   "cell_type": "code",
   "execution_count": 10,
   "metadata": {},
   "outputs": [],
   "source": [
    "w"
   ]
  },
  {
   "cell_type": "code",
   "execution_count": 52,
   "metadata": {},
   "outputs": [
    {
     "name": "stdout",
     "output_type": "stream",
     "text": [
      "larger than 0.1 diff: 4 else 34\n"
     ]
    }
   ],
   "source": [
    "stat_ls = []\n",
    "stid_ls = []\n",
    "res = {}\n",
    "start_flight = '202002010000'\n",
    "end_flight = '202003010000'\n",
    "\n",
    "for stat in m.metadata(start = start_flight, end = end_flight, bbox = bounds)['STATION']:\n",
    "    long = float(stat['LONGITUDE'])\n",
    "    lat = float(stat['LATITUDE'])\n",
    "    with rio.open(fp) as src:\n",
    "        w = raster_box_extract(src, long, lat)\n",
    "    if len(w[~np.isnan(w)]) > 0:\n",
    "        if stat['NAME'].lower().replace(' ','') not in stat_ls:\n",
    "            obs = m.timeseries(start_flight, end_flight, stid = stat['STID'], vars = ['snow_depth', 'snow_water_equiv'])\n",
    "            if obs:\n",
    "                obs = obs['STATION'][0]['OBSERVATIONS']\n",
    "                d = {}\n",
    "                dt = pd.to_datetime(obs['date_time'])\n",
    "                if 'snow_depth_set_1' in obs.keys() and 'snow_water_equiv_set_1' in obs.keys():\n",
    "                    d['datetime'] = dt\n",
    "                    d['img_arr'] = w\n",
    "                    d['snow_depth_set_1'] = obs['snow_depth_set_1']\n",
    "                    d['swe_set_1'] = obs['snow_water_equiv_set_1']\n",
    "                    for anc_col in ['air_temp_set_1','snow_water_equiv_set_1']:\n",
    "                        if anc_col in obs.keys():\n",
    "                            d[anc_col] = obs[anc_col]\n",
    "                if d:\n",
    "                    d['elev'] = stat['ELEVATION']\n",
    "                    d['lat'] = stat['LATITUDE']\n",
    "                    d['long'] = stat['LONGITUDE']\n",
    "                    d['tz'] = stat['TIMEZONE']\n",
    "                    res[stat['NAME']] = d\n",
    "            \n",
    "            stat_ls.append(stat['NAME'].lower().replace(' ',''))\n"
   ]
  }
 ],
 "metadata": {
  "interpreter": {
   "hash": "5dd3130d27b37aaf1e73f2c22ab2dc41de66d0ace140f6eaa91934393372459a"
  },
  "kernelspec": {
   "display_name": "Python 3.8.13 ('uavsar')",
   "language": "python",
   "name": "python3"
  },
  "language_info": {
   "codemirror_mode": {
    "name": "ipython",
    "version": 3
   },
   "file_extension": ".py",
   "mimetype": "text/x-python",
   "name": "python",
   "nbconvert_exporter": "python",
   "pygments_lexer": "ipython3",
   "version": "3.8.13"
  },
  "orig_nbformat": 4
 },
 "nbformat": 4,
 "nbformat_minor": 2
}
