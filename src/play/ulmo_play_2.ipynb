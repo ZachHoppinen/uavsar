{
 "cells": [
  {
   "cell_type": "code",
   "execution_count": 64,
   "metadata": {},
   "outputs": [],
   "source": [
    "import os\n",
    "from os.path import expanduser, join\n",
    "from datetime import datetime\n",
    "import numpy as np\n",
    "import matplotlib.pyplot as plt\n",
    "import pandas as pd\n",
    "import geopandas as gpd\n",
    "import matplotlib.pyplot as plt\n",
    "from shapely.geometry import Point, Polygon\n",
    "import contextily as ctx\n",
    "import ulmo\n",
    "import rasterio as rio\n",
    "from rasterio.features import dataset_features\n",
    "import pickle\n",
    "import pyproj\n",
    "from shapely.ops import unary_union\n",
    "from conversion import imperial_to_metric\n",
    "from rasterio.windows import Window\n"
   ]
  },
  {
   "cell_type": "code",
   "execution_count": 2,
   "metadata": {},
   "outputs": [],
   "source": [
    "#This is the latest CUAHSI API endpoint\n",
    "wsdlurl = 'https://hydroportal.cuahsi.org/Snotel/cuahsi_1_1.asmx?WSDL'\n",
    "sites = ulmo.cuahsi.wof.get_sites(wsdlurl)"
   ]
  },
  {
   "cell_type": "code",
   "execution_count": 3,
   "metadata": {},
   "outputs": [],
   "source": [
    "sites_gdf_conus = gpd.read_file('~/scratch/data/uavsar/snotel/ulmo_sites.json')"
   ]
  },
  {
   "cell_type": "code",
   "execution_count": 43,
   "metadata": {},
   "outputs": [],
   "source": [
    "def raster_box_extract(img, x_coord, y_coord, box_side = 5):\n",
    "    meta = img.meta\n",
    "\n",
    "    # Use the transform in the metadata and your coordinates\n",
    "    rowcol = rio.transform.rowcol(meta['transform'], xs=x_coord, ys=y_coord)\n",
    "\n",
    "    w = img.read(1, window=Window(rowcol[1], rowcol[0], box_side, box_side))\n",
    "\n",
    "    return w"
   ]
  },
  {
   "cell_type": "code",
   "execution_count": 85,
   "metadata": {},
   "outputs": [],
   "source": [
    "#Get current datetime\n",
    "today = datetime.today().strftime('%Y-%m-%d')\n",
    "\n",
    "def snotel_fetch(sitecode, variablecode='SNOTEL:SNWD_D', start_date='1950-10-01', end_date=today):\n",
    "    #print(sitecode, variablecode, start_date, end_date)\n",
    "    values_df = None\n",
    "    try:\n",
    "        #Request data from the server\n",
    "        site_values = ulmo.cuahsi.wof.get_values(wsdlurl, sitecode, variablecode, start=start_date, end=end_date)\n",
    "        #Convert to a Pandas DataFrame   \n",
    "        values_df = pd.DataFrame.from_dict(site_values['values'])\n",
    "        #Parse the datetime values to Pandas Timestamp objects\n",
    "        values_df['datetime'] = pd.to_datetime(values_df['datetime'], utc=True)\n",
    "        #Set the DataFrame index to the Timestamps\n",
    "        values_df = values_df.set_index('datetime')\n",
    "        #Convert values to float and replace -9999 nodata values with NaN\n",
    "        values_df['value'] = pd.to_numeric(values_df['value']).replace(-9999, np.nan)\n",
    "        #Remove any records flagged with lower quality\n",
    "        values_df = values_df[values_df['quality_control_level_code'] == '1']\n",
    "    except Exception as e:\n",
    "        print(e)\n",
    "        print(\"Unable to fetch %s\" % variablecode)\n",
    "\n",
    "    return values_df\n",
    "def get_snotel_image_results(img_fp, inc_fp, ann_fp, snotel_gdf, variable = 'SNOTEL:SNWD_D', bbox_side = 5):\n",
    "    ann = pd.read_csv(ann_fp)\n",
    "    with rio.open(img_fp) as src, rio.open(inc_fp) as inc_src:\n",
    "        shapes = list(dataset_features(src, bidx=1, as_mask=False, geographic=True, band=False))\n",
    "        result = gpd.GeoDataFrame.from_dict(shapes, crs = 'EPSG:4326')\n",
    "        for i in result.index:\n",
    "            result.iloc[i]['geometry'] = Polygon(result.iloc[i]['geometry']['coordinates'][0])\n",
    "        boundary = gpd.GeoSeries(unary_union(result['geometry']))\n",
    "        boundary_gdf = gpd.GeoDataFrame(boundary, columns = ['geometry'], crs = snotel_gdf.crs)\n",
    "        points_within = gpd.sjoin(snotel_gdf, boundary_gdf, predicate='within')\n",
    "        res = {}\n",
    "        for _, r in points_within.iterrows():\n",
    "            d = {}\n",
    "            s = pd.to_datetime(ann.loc[0, 'start time of acquisition for pass 1'])\n",
    "            e = pd.to_datetime(ann.loc[0, 'start time of acquisition for pass 2'])\n",
    "            values = snotel_fetch(r['code'], variablecode=variable, start_date=s, end_date=e)\n",
    "            # Get units\n",
    "            unit = ulmo.cuahsi.wof.get_variable_info(wsdlurl, variable)['units']['name']\n",
    "            d['sds'] = imperial_to_metric(values['value'], unit)\n",
    "            d['phase'] = raster_box_extract(src, r.geometry.x, r.geometry.y, bbox_side)\n",
    "            d['inc'] = raster_box_extract(inc_src, r.geometry.x, r.geometry.y, bbox_side)\n",
    "            res[r['code']] = d\n",
    "\n",
    "    return res"
   ]
  },
  {
   "cell_type": "code",
   "execution_count": 18,
   "metadata": {},
   "outputs": [],
   "source": [
    "with open(expanduser('~/scratch/data/uavsar/image_fps'), 'rb') as f:\n",
    "    image_fps = pickle.load(f)"
   ]
  },
  {
   "cell_type": "code",
   "execution_count": 86,
   "metadata": {},
   "outputs": [
    {
     "name": "stderr",
     "output_type": "stream",
     "text": [
      "/bsuhome/zacharykeskinen/miniconda3/envs/proj/lib/python3.9/site-packages/geopandas/geodataframe.py:475: FutureWarning: CRS mismatch between CRS of the passed geometries and 'crs'. Use 'GeoDataFrame.set_crs(crs, allow_override=True)' to overwrite CRS or 'GeoDataFrame.to_crs(crs)' to reproject geometries. CRS mismatch will raise an error in the future versions of GeoPandas.\n",
      "  return GeoDataFrame(dataframe, geometry=geometry, crs=crs)\n"
     ]
    }
   ],
   "source": [
    "fps = image_fps[0]\n",
    "\n",
    "res = get_snotel_image_results(fps['fp'], fps['inc'], fps['ann'], sites_gdf_conus)"
   ]
  },
  {
   "cell_type": "code",
   "execution_count": 87,
   "metadata": {},
   "outputs": [
    {
     "data": {
      "text/plain": [
       "{'919_MT_SNTL': {'sds': array([0.5588, 0.5588, 0.5588, 0.5334, 0.5334, 0.5588, 0.5334, 0.5334,\n",
       "       0.5334, 0.5334, 0.5842, 0.6096, 0.5842, 0.5842, 0.6096, 0.5588,\n",
       "       0.635 , 0.7366, 0.8128, 0.8128, 0.7874, 0.7874, 0.762 , 0.7874,\n",
       "       0.762 , 0.762 , 0.762 , 0.762 , 0.7874, 0.8382, 0.8128, 0.8128,\n",
       "       0.8128, 0.8128, 0.8636]), 'phase': array([[3.2666671, 3.2666671,       nan,       nan,       nan],\n",
       "       [      nan,       nan,       nan,       nan,       nan],\n",
       "       [      nan,       nan,       nan,       nan,       nan],\n",
       "       [      nan,       nan,       nan,       nan,       nan],\n",
       "       [2.6490548, 2.6490548,       nan,       nan,       nan]],\n",
       "      dtype=float32), 'inc': array([[0.8344763 , 0.838333  , 0.84219044, 0.84604824, 0.8499066 ],\n",
       "       [0.8378341 , 0.8422024 , 0.8465718 , 0.850942  , 0.8553131 ],\n",
       "       [0.8424131 , 0.8472928 , 0.85217416, 0.857057  , 0.8619409 ],\n",
       "       [0.8469929 , 0.8523838 , 0.8577771 , 0.86317277, 0.8685702 ],\n",
       "       [0.8515733 , 0.85747504, 0.8633804 , 0.86928886, 0.87520003]],\n",
       "      dtype=float32)}}"
      ]
     },
     "execution_count": 87,
     "metadata": {},
     "output_type": "execute_result"
    }
   ],
   "source": [
    "res"
   ]
  },
  {
   "cell_type": "code",
   "execution_count": 79,
   "metadata": {},
   "outputs": [
    {
     "data": {
      "text/plain": [
       "[<matplotlib.lines.Line2D object at 0x2aab693d1640>]"
      ]
     },
     "execution_count": 79,
     "metadata": {},
     "output_type": "execute_result"
    },
    {
     "data": {
      "image/png": "[encoded data removed]",
      "text/plain": [
       "<Figure size 432x288 with 1 Axes>"
      ]
     },
     "metadata": {
      "needs_background": "light"
     },
     "output_type": "display_data"
    }
   ],
   "source": [
    "plt.plot(imperial_to_metric(res['919_MT_SNTL']['record']['value'], res['919_MT_SNTL']['unit']))"
   ]
  },
  {
   "cell_type": "code",
   "execution_count": null,
   "metadata": {},
   "outputs": [],
   "source": []
  }
 ],
 "metadata": {
  "interpreter": {
   "hash": "be18628f3b6aaaf0d9a50c1a0a68c0122e22b01f7b4495836f3dc0caac12767e"
  },
  "kernelspec": {
   "display_name": "Python 3.9.12 ('proj')",
   "language": "python",
   "name": "python3"
  },
  "language_info": {
   "codemirror_mode": {
    "name": "ipython",
    "version": 3
   },
   "file_extension": ".py",
   "mimetype": "text/x-python",
   "name": "python",
   "nbconvert_exporter": "python",
   "pygments_lexer": "ipython3",
   "version": "3.9.12"
  },
  "orig_nbformat": 4
 },
 "nbformat": 4,
 "nbformat_minor": 2
}
