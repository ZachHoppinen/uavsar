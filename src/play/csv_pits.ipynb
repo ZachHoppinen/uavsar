{
 "cells": [
  {
   "cell_type": "code",
   "execution_count": 1,
   "metadata": {},
   "outputs": [],
   "source": [
    "from os.path import join, abspath, expanduser\n",
    "from glob import glob\n",
    "import numpy as np\n",
    "import pandas as pd\n",
    "import matplotlib.pyplot as plt\n",
    "import pickle\n",
    "import datetime\n",
    "from rio_geom import rio_to_exterior\n",
    "from datetime import timedelta\n",
    "import geopandas as gpd\n",
    "import rioxarray as rxa\n",
    "import contextily as ctx\n",
    "\n",
    "import warnings\n",
    "warnings.simplefilter(action='ignore', category=FutureWarning)"
   ]
  },
  {
   "cell_type": "code",
   "execution_count": 2,
   "metadata": {},
   "outputs": [],
   "source": [
    "data_dir = expanduser('~/scratch/data/uavsar/snowpits')\n",
    "swe = pd.read_csv(join(data_dir, 'SNEX20_TS_SP_Summary_SWE_v01.csv'), parse_dates = ['Date/Local Standard Time'], index_col= 'PitID')\n",
    "\n",
    "env = pd.read_csv(join(data_dir, 'SNEX20_TS_SP_Summary_Environment_v01.csv'), parse_dates = ['Date/Local Standard Time'], index_col= 'PitID')\n",
    "\n",
    "pit_sum = pd.concat([swe, env], axis = 1).reindex(swe.index)\n",
    "pit_sum = pit_sum.loc[:,~pit_sum.columns.duplicated()]\n",
    "pit_sum = pit_sum.rename(columns = {'Date/Local Standard Time':'date'})\n",
    "pit_sum = gpd.GeoDataFrame(pit_sum, geometry=gpd.points_from_xy(pit_sum['Longitude (deg)'], pit_sum['Latitude (deg)']), crs = 4326)"
   ]
  },
  {
   "cell_type": "code",
   "execution_count": 3,
   "metadata": {},
   "outputs": [],
   "source": [
    "with open(expanduser('~/scratch/data/uavsar/image_fps'), 'rb') as f:\n",
    "    image_fps = pickle.load(f)\n",
    "\n",
    "res = pd.DataFrame()\n",
    "for i, image_fp in enumerate(image_fps):\n",
    "    if i == i:\n",
    "        dic = {}\n",
    "        dic['image_data'] = image_fp\n",
    "        loc = image_fp['location']\n",
    "        dic['loc'] = loc\n",
    "        if image_fp['flight1'].date().year == 2021 or image_fp['pol'] != 'HH':\n",
    "            pass\n",
    "        else:\n",
    "            geom = rio_to_exterior(image_fp['cor'])\n",
    "            for i, dt in enumerate(['flight1', 'flight2']):\n",
    "                dic[f't{i+1}'] = image_fp[dt]\n",
    "                dt = image_fp[dt].date()\n",
    "                # Form a date range to query on either side of our chosen day \n",
    "                date_range = [dt + i * timedelta(days=1) for i in [-2, 0, 2]]\n",
    "                df_range = pit_sum[(pit_sum.date.dt.date > date_range[0]) & (pit_sum.date.dt.date < date_range[-1])]\n",
    "\n",
    "                if len(df_range) > 0:\n",
    "                    # View snow pits that are +/- 1 day of the first UAVSAR flight date\n",
    "                    geom = geom.to_crs(df_range.crs)\n",
    "                    points_within = gpd.sjoin(df_range, geom, predicate='within')\n",
    "                    points_within = points_within.drop(['index_right'], axis=1)\n",
    "                    dic[f't{i+1}_pit_num'] = len(points_within)\n",
    "                    dic[f't{i+1}_pits'] = points_within\n",
    "                else:\n",
    "                    dic[f't{i+1}_pit_num'] = len(points_within)\n",
    "                    print(f'{dt}_{loc} has none')\n",
    "            res = pd.concat([res, pd.DataFrame.from_dict([dic])])"
   ]
  },
  {
   "cell_type": "code",
   "execution_count": null,
   "metadata": {},
   "outputs": [],
   "source": [
    "                    # for label in ['fp','inc','cor','hgt']:\n",
    "                    #     img = rxa.open_rasterio(img_set[label])\n",
    "                    #     site_name = site['name']\n",
    "                    #     if label == 'fp':\n",
    "                    #         label = 'unw'\n",
    "                    #     dic[label] = img.sel(x = site.geometry.x, y = site.geometry.y, method = 'nearest', tolerance = 0.0001).values[0]\n"
   ]
  },
  {
   "cell_type": "code",
   "execution_count": 29,
   "metadata": {},
   "outputs": [],
   "source": [
    "for i,r in res.iterrows():\n",
    "    if not r.t1_pits.empty and not r.t2_pits.empty:\n",
    "        epsg = 26900 + int(r.t1_pits.iloc[0]['UTM Zone'].replace('N',''))\n",
    "        merged = gpd.sjoin_nearest(r.t1_pits.to_crs(epsg), r.t2_pits.to_crs(epsg), max_distance = 50, lsuffix='t1', rsuffix='t2')\n",
    "        merged['sd_diff'] = merged['Snow Depth (cm)_t2'] - merged['Snow Depth (cm)_t1']\n",
    "        merged['swe_diff'] = merged['SWE (mm)_t2'] - merged['SWE (mm)_t1']\n",
    "for label in ['fp','inc','cor','hgt']:\n",
    "                    #     img = rxa.open_rasterio(img_set[label])\n",
    "                    #     site_name = site['name']\n",
    "                    #     if label == 'fp':\n",
    "                    #         label = 'unw'\n",
    "                    #     dic[label] = img.sel(x = site.geometry.x, y = site.geometry.y, method = 'nearest', tolerance = 0.0001).values[0]\n",
    "\n",
    "        # print(f'{r.t1_pit_num} - {r.t2_pit_num}')\n",
    "        # print(len(merged))\n",
    "        # merged = pd.concat([r['t1_pits'].set_index('Site').add_suffix('_t1'), r['t2_pits'].set_index('Site').add_suffix('_t2')], axis = 1).dropna(subset = ['Location_t1','Location_t2'])"
   ]
  }
 ],
 "metadata": {
  "kernelspec": {
   "display_name": "Python 3.9.13 ('proj')",
   "language": "python",
   "name": "python3"
  },
  "language_info": {
   "codemirror_mode": {
    "name": "ipython",
    "version": 3
   },
   "file_extension": ".py",
   "mimetype": "text/x-python",
   "name": "python",
   "nbconvert_exporter": "python",
   "pygments_lexer": "ipython3",
   "version": "3.9.13"
  },
  "orig_nbformat": 4,
  "vscode": {
   "interpreter": {
    "hash": "be18628f3b6aaaf0d9a50c1a0a68c0122e22b01f7b4495836f3dc0caac12767e"
   }
  }
 },
 "nbformat": 4,
 "nbformat_minor": 2
}
