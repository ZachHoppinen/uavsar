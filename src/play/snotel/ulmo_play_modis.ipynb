{
 "cells": [
  {
   "cell_type": "code",
   "execution_count": 110,
   "metadata": {},
   "outputs": [],
   "source": [
    "import os\n",
    "from os.path import expanduser, join, basename, dirname\n",
    "from datetime import datetime\n",
    "import numpy as np\n",
    "import matplotlib.pyplot as plt\n",
    "import pandas as pd\n",
    "import geopandas as gpd\n",
    "import matplotlib.pyplot as plt\n",
    "from shapely.geometry import Point, Polygon, mapping\n",
    "import contextily as ctx\n",
    "import ulmo\n",
    "import rasterio as rio\n",
    "from rasterio.features import dataset_features\n",
    "from rasterio.mask import mask\n",
    "from shapely.ops import unary_union\n",
    "from conversion import imperial_to_metric\n",
    "from rasterio.windows import Window\n",
    "from shapely.geometry import mapping\n",
    "import pickle\n",
    "from ulmo_extract import get_snotel_image_results\n",
    "from rio_geom import rio_to_exterior"
   ]
  },
  {
   "cell_type": "code",
   "execution_count": 2,
   "metadata": {},
   "outputs": [],
   "source": [
    "#This is the latest CUAHSI API endpoint\n",
    "wsdlurl = 'https://hydroportal.cuahsi.org/Snotel/cuahsi_1_1.asmx?WSDL'\n",
    "sites = ulmo.cuahsi.wof.get_sites(wsdlurl)"
   ]
  },
  {
   "cell_type": "code",
   "execution_count": 6,
   "metadata": {},
   "outputs": [
    {
     "name": "stdout",
     "output_type": "stream",
     "text": [
      "Starting snotel sd vs uavsar sd analysis...\n"
     ]
    }
   ],
   "source": [
    "import warnings\n",
    "warnings.simplefilter(action='ignore', category=FutureWarning)\n",
    "\n",
    "print('Starting snotel sd vs uavsar sd analysis...')\n",
    "res = pd.DataFrame()\n",
    "\n",
    "with open(expanduser('~/scratch/data/uavsar/image_fps'), 'rb') as f:\n",
    "    image_fps = pickle.load(f)\n",
    "\n",
    "image_fps = [f for f in image_fps if f['fp'].endswith('.unw.grd.tiff')]\n",
    "image_fps = iter(image_fps)\n",
    "\n",
    "tmp_dir = expanduser(f'~/uavsar/results/uavsar_snotel_sd/tmp/')\n",
    "\n",
    "def process(img):\n",
    "    dic = {}\n",
    "    desc = pd.read_csv(img['ann'], index_col = 0)\n",
    "    dic['name'] = basename(img['fp'])\n",
    "    dic['first_dt'] = pd.to_datetime(desc.loc['value', 'start time of acquisition for pass 1'])\n",
    "    dic['second_dt'] = pd.to_datetime(desc.loc['value', 'start time of acquisition for pass 2'])\n",
    "    dic['pol'] = basename(img['fp']).split('_')[6][4:]\n",
    "    dic['snotel_result'] = get_snotel_image_results(img['fp'], img['inc'], img['ann'])\n",
    "    dic['snow_off_phase'] = \n",
    "    # res = pd.concat([res, pd.DataFrame.from_records([dic])])\n",
    "    # with open(join(tmp_dir, basename(img['fp'])), 'wb') as f:\n",
    "    #     pickle.dump(dic, f)\n",
    "    return dic"
   ]
  },
  {
   "cell_type": "code",
   "execution_count": 7,
   "metadata": {},
   "outputs": [],
   "source": [
    "import ee\n",
    "\n",
    "# Initialize the Earth Engine module.\n",
    "ee.Initialize()"
   ]
  },
  {
   "cell_type": "code",
   "execution_count": 9,
   "metadata": {},
   "outputs": [],
   "source": [
    "# This function computes the feature's geometry area and adds it as a property.\n",
    "def addArea(feature):\n",
    "  return feature.set({'areaHa': feature.geometry().area(10).divide(100 * 100)})"
   ]
  },
  {
   "cell_type": "code",
   "execution_count": 109,
   "metadata": {},
   "outputs": [],
   "source": [
    "def snow_off_phase(img_fp, ann_fp):\n",
    "    geo = rio_to_exterior(img_fp, simplify= True)\n",
    "    with rio.open(img_fp) as src:\n",
    "        bounds = src.bounds\n",
    "        geom = ee.Geometry.BBox(*bounds)\n",
    "        df = pd.read_csv(ann_fp, index_col = [0])\n",
    "        s = pd.to_datetime(df.loc['value','start time of acquisition for pass 1']).tz_localize(None)\n",
    "        e = pd.to_datetime(df.loc['value','start time of acquisition for pass 2']).tz_localize(None)\n",
    "        try:\n",
    "            snow_cover = ee.ImageCollection(\"MODIS/006/MOD10A1\").select('NDSI_Snow_Cover').filterDate(s,e).mean().clip(geom)\n",
    "            vectors = snow_cover.gt(10).reduceToVectors(scale=500).filterMetadata('label','equals',0)\n",
    "            # Map the area getting function over the FeatureCollection.\n",
    "            areaAdded = vectors.map(addArea)\n",
    "            areaAdded = areaAdded.filterMetadata('areaHa','greater_than',10)\n",
    "            if areaAdded.size().getInfo()>0:\n",
    "                f = areaAdded.limit(1, 'areaHa', False)\n",
    "                p = Polygon(f.first().geometry().coordinates().getInfo()[0])\n",
    "                geoms = [mapping(p)]\n",
    "                phase_sub, _ = mask(src, geoms, crop=True)\n",
    "                if np.count_nonzero(~np.isnan(phase_sub)) > 0:\n",
    "                    snow_off_phase = np.nanmean(phase_sub[0])\n",
    "                    return snow_off_phase\n",
    "        except ee.ee_exception.EEException as e:\n",
    "            print(e)"
   ]
  },
  {
   "cell_type": "code",
   "execution_count": 83,
   "metadata": {},
   "outputs": [],
   "source": [
    "with open(expanduser('~/scratch/data/uavsar/image_fps'), 'rb') as f:\n",
    "    image_fps = pickle.load(f)\n",
    "\n",
    "image_fps = [f for f in image_fps if f['fp'].endswith('.unw.grd.tiff')]"
   ]
  },
  {
   "cell_type": "code",
   "execution_count": 97,
   "metadata": {},
   "outputs": [],
   "source": [
    "def snow_off_phase(img_fp, ann_fp):\n",
    "    j = 3\n",
    "    with rio.open(img_fp) as src:\n",
    "        bounds = src.bounds\n",
    "        geom = ee.Geometry.BBox(*bounds)\n",
    "        df = pd.read_csv(ann_fp, index_col = [0])\n",
    "        s = pd.to_datetime(df.loc['value','start time of acquisition for pass 1']).tz_localize(None)\n",
    "        e = pd.to_datetime(df.loc['value','start time of acquisition for pass 2']).tz_localize(None)\n",
    "        try:\n",
    "            snow_cover = ee.ImageCollection(\"MODIS/006/MOD10A1\").select('NDSI_Snow_Cover').filterDate(s,e).mean().clip(geom)\n",
    "            vectors = snow_cover.gt(10).reduceToVectors(scale = 30, maxPixels = 1e9, bestEffort= True).filterMetadata('label','equals',0)\n",
    "            # Map the area getting function over the FeatureCollection.\n",
    "            vectors = vectors.map(addArea)\n",
    "            f = vectors.filterMetadata('areaHa','greater_than',5)\n",
    "            if vectors.size().getInfo()>0:\n",
    "                f = f.toList(j)\n",
    "                for i in range(j):\n",
    "                    p = Polygon(f.get(i).getInfo()['geometry']['coordinates'][0])\n",
    "                    geoms = [mapping(p)]\n",
    "                    phase_sub, _ = mask(src, geoms, crop=True)\n",
    "                    if np.count_nonzero(~np.isnan(phase_sub)) > 0:\n",
    "                        snow_off_phase = np.nanmean(phase_sub[0])\n",
    "                        return snow_off_phase\n",
    "        except ee.ee_exception.EEException as e:\n",
    "            print(e)"
   ]
  },
  {
   "cell_type": "code",
   "execution_count": 105,
   "metadata": {},
   "outputs": [],
   "source": [
    "def snow_off_phase_check(img_fp, ann_fp):\n",
    "    j = 1\n",
    "    with rio.open(img_fp) as src:\n",
    "        bounds = src.bounds\n",
    "        geom = ee.Geometry.BBox(*bounds)\n",
    "        df = pd.read_csv(ann_fp, index_col = [0])\n",
    "        s = pd.to_datetime(df.loc['value','start time of acquisition for pass 1']).tz_localize(None)\n",
    "        e = pd.to_datetime(df.loc['value','start time of acquisition for pass 2']).tz_localize(None)\n",
    "        try:\n",
    "            snow_cover = ee.ImageCollection(\"MODIS/006/MOD10A1\").select('NDSI_Snow_Cover').filterDate(s,e).mean().clip(geom)\n",
    "            vectors = snow_cover.gt(10).reduceToVectors(scale = 30, maxPixels = 1e9, bestEffort= True).filterMetadata('label','equals',0)\n",
    "            # Map the area getting function over the FeatureCollection.\n",
    "            vectors = vectors.map(addArea)\n",
    "            f = vectors.filterMetadata('areaHa','greater_than',5)\n",
    "            if vectors.size().getInfo()>0:\n",
    "                f1 = f.toList(f.size().getInfo())\n",
    "                f1 = f1.sort()\n",
    "                p1 = Polygon(f1.get(0).getInfo()['geometry']['coordinates'][0])\n",
    "\n",
    "                f2 = f.limit(1, 'areaHa', False)\n",
    "                p2 = Polygon(f2.first().geometry().coordinates().getInfo()[0])\n",
    "                print(p1)\n",
    "                print(p2)\n",
    "                print(p1 == p2)\n",
    "\n",
    "                \n",
    "        except ee.ee_exception.EEException as e:\n",
    "            print(e)"
   ]
  },
  {
   "cell_type": "code",
   "execution_count": 106,
   "metadata": {},
   "outputs": [
    {
     "name": "stdout",
     "output_type": "stream",
     "text": [
      "List.sort: Cannot compare values '<Feature>' (Type<Feature>) and '<Feature>' (Type<Feature>).\n",
      "List.sort: Cannot compare values '<Feature>' (Type<Feature>) and '<Feature>' (Type<Feature>).\n"
     ]
    },
    {
     "ename": "KeyboardInterrupt",
     "evalue": "",
     "output_type": "error",
     "traceback": [
      "\u001b[0;31m---------------------------------------------------------------------------\u001b[0m",
      "\u001b[0;31mKeyboardInterrupt\u001b[0m                         Traceback (most recent call last)",
      "\u001b[1;32m/bsuhome/zacharykeskinen/uavsar/src/play/ulmo_play_modis.ipynb Cell 10'\u001b[0m in \u001b[0;36m<cell line: 2>\u001b[0;34m()\u001b[0m\n\u001b[1;32m      <a href='vscode-notebook-cell://ssh-remote%2Bborah/bsuhome/zacharykeskinen/uavsar/src/play/ulmo_play_modis.ipynb#ch0000022vscode-remote?line=0'>1</a>\u001b[0m image_fps \u001b[39m=\u001b[39m [i \u001b[39mfor\u001b[39;00m i \u001b[39min\u001b[39;00m image_fps \u001b[39mif\u001b[39;00m \u001b[39m'\u001b[39m\u001b[39mL090VH_\u001b[39m\u001b[39m'\u001b[39m \u001b[39min\u001b[39;00m i[\u001b[39m'\u001b[39m\u001b[39mfp\u001b[39m\u001b[39m'\u001b[39m]]\n\u001b[1;32m      <a href='vscode-notebook-cell://ssh-remote%2Bborah/bsuhome/zacharykeskinen/uavsar/src/play/ulmo_play_modis.ipynb#ch0000022vscode-remote?line=1'>2</a>\u001b[0m \u001b[39mfor\u001b[39;00m i \u001b[39min\u001b[39;00m \u001b[39mrange\u001b[39m(\u001b[39m40\u001b[39m):\n\u001b[0;32m----> <a href='vscode-notebook-cell://ssh-remote%2Bborah/bsuhome/zacharykeskinen/uavsar/src/play/ulmo_play_modis.ipynb#ch0000022vscode-remote?line=2'>3</a>\u001b[0m     snow_off_phase_check(image_fps[i][\u001b[39m'\u001b[39;49m\u001b[39mfp\u001b[39;49m\u001b[39m'\u001b[39;49m],image_fps[i][\u001b[39m'\u001b[39;49m\u001b[39mann\u001b[39;49m\u001b[39m'\u001b[39;49m])\n",
      "\u001b[1;32m/bsuhome/zacharykeskinen/uavsar/src/play/ulmo_play_modis.ipynb Cell 9'\u001b[0m in \u001b[0;36msnow_off_phase_check\u001b[0;34m(img_fp, ann_fp)\u001b[0m\n\u001b[1;32m     <a href='vscode-notebook-cell://ssh-remote%2Bborah/bsuhome/zacharykeskinen/uavsar/src/play/ulmo_play_modis.ipynb#ch0000021vscode-remote?line=13'>14</a>\u001b[0m f \u001b[39m=\u001b[39m vectors\u001b[39m.\u001b[39mfilterMetadata(\u001b[39m'\u001b[39m\u001b[39mareaHa\u001b[39m\u001b[39m'\u001b[39m,\u001b[39m'\u001b[39m\u001b[39mgreater_than\u001b[39m\u001b[39m'\u001b[39m,\u001b[39m5\u001b[39m)\n\u001b[1;32m     <a href='vscode-notebook-cell://ssh-remote%2Bborah/bsuhome/zacharykeskinen/uavsar/src/play/ulmo_play_modis.ipynb#ch0000021vscode-remote?line=14'>15</a>\u001b[0m \u001b[39mif\u001b[39;00m vectors\u001b[39m.\u001b[39msize()\u001b[39m.\u001b[39mgetInfo()\u001b[39m>\u001b[39m\u001b[39m0\u001b[39m:\n\u001b[0;32m---> <a href='vscode-notebook-cell://ssh-remote%2Bborah/bsuhome/zacharykeskinen/uavsar/src/play/ulmo_play_modis.ipynb#ch0000021vscode-remote?line=15'>16</a>\u001b[0m     f1 \u001b[39m=\u001b[39m f\u001b[39m.\u001b[39mtoList(f\u001b[39m.\u001b[39;49msize()\u001b[39m.\u001b[39;49mgetInfo())\n\u001b[1;32m     <a href='vscode-notebook-cell://ssh-remote%2Bborah/bsuhome/zacharykeskinen/uavsar/src/play/ulmo_play_modis.ipynb#ch0000021vscode-remote?line=16'>17</a>\u001b[0m     f1 \u001b[39m=\u001b[39m f1\u001b[39m.\u001b[39msort()\n\u001b[1;32m     <a href='vscode-notebook-cell://ssh-remote%2Bborah/bsuhome/zacharykeskinen/uavsar/src/play/ulmo_play_modis.ipynb#ch0000021vscode-remote?line=17'>18</a>\u001b[0m     p1 \u001b[39m=\u001b[39m Polygon(f1\u001b[39m.\u001b[39mget(\u001b[39m0\u001b[39m)\u001b[39m.\u001b[39mgetInfo()[\u001b[39m'\u001b[39m\u001b[39mgeometry\u001b[39m\u001b[39m'\u001b[39m][\u001b[39m'\u001b[39m\u001b[39mcoordinates\u001b[39m\u001b[39m'\u001b[39m][\u001b[39m0\u001b[39m])\n",
      "File \u001b[0;32m~/miniconda3/envs/proj/lib/python3.9/site-packages/ee/computedobject.py:98\u001b[0m, in \u001b[0;36mComputedObject.getInfo\u001b[0;34m(self)\u001b[0m\n\u001b[1;32m     <a href='file:///bsuhome/zacharykeskinen/miniconda3/envs/proj/lib/python3.9/site-packages/ee/computedobject.py?line=91'>92</a>\u001b[0m \u001b[39mdef\u001b[39;00m \u001b[39mgetInfo\u001b[39m(\u001b[39mself\u001b[39m):\n\u001b[1;32m     <a href='file:///bsuhome/zacharykeskinen/miniconda3/envs/proj/lib/python3.9/site-packages/ee/computedobject.py?line=92'>93</a>\u001b[0m   \u001b[39m\"\"\"Fetch and return information about this object.\u001b[39;00m\n\u001b[1;32m     <a href='file:///bsuhome/zacharykeskinen/miniconda3/envs/proj/lib/python3.9/site-packages/ee/computedobject.py?line=93'>94</a>\u001b[0m \n\u001b[1;32m     <a href='file:///bsuhome/zacharykeskinen/miniconda3/envs/proj/lib/python3.9/site-packages/ee/computedobject.py?line=94'>95</a>\u001b[0m \u001b[39m  Returns:\u001b[39;00m\n\u001b[1;32m     <a href='file:///bsuhome/zacharykeskinen/miniconda3/envs/proj/lib/python3.9/site-packages/ee/computedobject.py?line=95'>96</a>\u001b[0m \u001b[39m    The object can evaluate to anything.\u001b[39;00m\n\u001b[1;32m     <a href='file:///bsuhome/zacharykeskinen/miniconda3/envs/proj/lib/python3.9/site-packages/ee/computedobject.py?line=96'>97</a>\u001b[0m \u001b[39m  \"\"\"\u001b[39;00m\n\u001b[0;32m---> <a href='file:///bsuhome/zacharykeskinen/miniconda3/envs/proj/lib/python3.9/site-packages/ee/computedobject.py?line=97'>98</a>\u001b[0m   \u001b[39mreturn\u001b[39;00m data\u001b[39m.\u001b[39;49mcomputeValue(\u001b[39mself\u001b[39;49m)\n",
      "File \u001b[0;32m~/miniconda3/envs/proj/lib/python3.9/site-packages/ee/data.py:735\u001b[0m, in \u001b[0;36mcomputeValue\u001b[0;34m(obj)\u001b[0m\n\u001b[1;32m    <a href='file:///bsuhome/zacharykeskinen/miniconda3/envs/proj/lib/python3.9/site-packages/ee/data.py?line=725'>726</a>\u001b[0m \u001b[39mdef\u001b[39;00m \u001b[39mcomputeValue\u001b[39m(obj):\n\u001b[1;32m    <a href='file:///bsuhome/zacharykeskinen/miniconda3/envs/proj/lib/python3.9/site-packages/ee/data.py?line=726'>727</a>\u001b[0m   \u001b[39m\"\"\"Sends a request to compute a value.\u001b[39;00m\n\u001b[1;32m    <a href='file:///bsuhome/zacharykeskinen/miniconda3/envs/proj/lib/python3.9/site-packages/ee/data.py?line=727'>728</a>\u001b[0m \n\u001b[1;32m    <a href='file:///bsuhome/zacharykeskinen/miniconda3/envs/proj/lib/python3.9/site-packages/ee/data.py?line=728'>729</a>\u001b[0m \u001b[39m  Args:\u001b[39;00m\n\u001b[0;32m   (...)\u001b[0m\n\u001b[1;32m    <a href='file:///bsuhome/zacharykeskinen/miniconda3/envs/proj/lib/python3.9/site-packages/ee/data.py?line=732'>733</a>\u001b[0m \u001b[39m    The result of evaluating that object on the server.\u001b[39;00m\n\u001b[1;32m    <a href='file:///bsuhome/zacharykeskinen/miniconda3/envs/proj/lib/python3.9/site-packages/ee/data.py?line=733'>734</a>\u001b[0m \u001b[39m  \"\"\"\u001b[39;00m\n\u001b[0;32m--> <a href='file:///bsuhome/zacharykeskinen/miniconda3/envs/proj/lib/python3.9/site-packages/ee/data.py?line=734'>735</a>\u001b[0m   \u001b[39mreturn\u001b[39;00m _execute_cloud_call(\n\u001b[1;32m    <a href='file:///bsuhome/zacharykeskinen/miniconda3/envs/proj/lib/python3.9/site-packages/ee/data.py?line=735'>736</a>\u001b[0m       _get_cloud_api_resource()\u001b[39m.\u001b[39;49mprojects()\u001b[39m.\u001b[39;49mvalue()\u001b[39m.\u001b[39;49mcompute(\n\u001b[1;32m    <a href='file:///bsuhome/zacharykeskinen/miniconda3/envs/proj/lib/python3.9/site-packages/ee/data.py?line=736'>737</a>\u001b[0m           body\u001b[39m=\u001b[39;49m{\u001b[39m'\u001b[39;49m\u001b[39mexpression\u001b[39;49m\u001b[39m'\u001b[39;49m: serializer\u001b[39m.\u001b[39;49mencode(obj, for_cloud_api\u001b[39m=\u001b[39;49m\u001b[39mTrue\u001b[39;49;00m)},\n\u001b[1;32m    <a href='file:///bsuhome/zacharykeskinen/miniconda3/envs/proj/lib/python3.9/site-packages/ee/data.py?line=737'>738</a>\u001b[0m           project\u001b[39m=\u001b[39;49m_get_projects_path(),\n\u001b[1;32m    <a href='file:///bsuhome/zacharykeskinen/miniconda3/envs/proj/lib/python3.9/site-packages/ee/data.py?line=738'>739</a>\u001b[0m           prettyPrint\u001b[39m=\u001b[39;49m\u001b[39mFalse\u001b[39;49;00m))[\u001b[39m'\u001b[39m\u001b[39mresult\u001b[39m\u001b[39m'\u001b[39m]\n",
      "File \u001b[0;32m~/miniconda3/envs/proj/lib/python3.9/site-packages/ee/data.py:330\u001b[0m, in \u001b[0;36m_execute_cloud_call\u001b[0;34m(call, num_retries)\u001b[0m\n\u001b[1;32m    <a href='file:///bsuhome/zacharykeskinen/miniconda3/envs/proj/lib/python3.9/site-packages/ee/data.py?line=315'>316</a>\u001b[0m \u001b[39m\"\"\"Executes a Cloud API call and translates errors to EEExceptions.\u001b[39;00m\n\u001b[1;32m    <a href='file:///bsuhome/zacharykeskinen/miniconda3/envs/proj/lib/python3.9/site-packages/ee/data.py?line=316'>317</a>\u001b[0m \n\u001b[1;32m    <a href='file:///bsuhome/zacharykeskinen/miniconda3/envs/proj/lib/python3.9/site-packages/ee/data.py?line=317'>318</a>\u001b[0m \u001b[39mArgs:\u001b[39;00m\n\u001b[0;32m   (...)\u001b[0m\n\u001b[1;32m    <a href='file:///bsuhome/zacharykeskinen/miniconda3/envs/proj/lib/python3.9/site-packages/ee/data.py?line=326'>327</a>\u001b[0m \u001b[39m  EEException if the call fails.\u001b[39;00m\n\u001b[1;32m    <a href='file:///bsuhome/zacharykeskinen/miniconda3/envs/proj/lib/python3.9/site-packages/ee/data.py?line=327'>328</a>\u001b[0m \u001b[39m\"\"\"\u001b[39;00m\n\u001b[1;32m    <a href='file:///bsuhome/zacharykeskinen/miniconda3/envs/proj/lib/python3.9/site-packages/ee/data.py?line=328'>329</a>\u001b[0m \u001b[39mtry\u001b[39;00m:\n\u001b[0;32m--> <a href='file:///bsuhome/zacharykeskinen/miniconda3/envs/proj/lib/python3.9/site-packages/ee/data.py?line=329'>330</a>\u001b[0m   \u001b[39mreturn\u001b[39;00m call\u001b[39m.\u001b[39;49mexecute(num_retries\u001b[39m=\u001b[39;49mnum_retries)\n\u001b[1;32m    <a href='file:///bsuhome/zacharykeskinen/miniconda3/envs/proj/lib/python3.9/site-packages/ee/data.py?line=330'>331</a>\u001b[0m \u001b[39mexcept\u001b[39;00m googleapiclient\u001b[39m.\u001b[39merrors\u001b[39m.\u001b[39mHttpError \u001b[39mas\u001b[39;00m e:\n\u001b[1;32m    <a href='file:///bsuhome/zacharykeskinen/miniconda3/envs/proj/lib/python3.9/site-packages/ee/data.py?line=331'>332</a>\u001b[0m   \u001b[39mraise\u001b[39;00m _translate_cloud_exception(e)\n",
      "File \u001b[0;32m~/miniconda3/envs/proj/lib/python3.9/site-packages/googleapiclient/_helpers.py:134\u001b[0m, in \u001b[0;36mpositional.<locals>.positional_decorator.<locals>.positional_wrapper\u001b[0;34m(*args, **kwargs)\u001b[0m\n\u001b[1;32m    <a href='file:///bsuhome/zacharykeskinen/miniconda3/envs/proj/lib/python3.9/site-packages/googleapiclient/_helpers.py?line=131'>132</a>\u001b[0m     \u001b[39melif\u001b[39;00m positional_parameters_enforcement \u001b[39m==\u001b[39m POSITIONAL_WARNING:\n\u001b[1;32m    <a href='file:///bsuhome/zacharykeskinen/miniconda3/envs/proj/lib/python3.9/site-packages/googleapiclient/_helpers.py?line=132'>133</a>\u001b[0m         logger\u001b[39m.\u001b[39mwarning(message)\n\u001b[0;32m--> <a href='file:///bsuhome/zacharykeskinen/miniconda3/envs/proj/lib/python3.9/site-packages/googleapiclient/_helpers.py?line=133'>134</a>\u001b[0m \u001b[39mreturn\u001b[39;00m wrapped(\u001b[39m*\u001b[39;49margs, \u001b[39m*\u001b[39;49m\u001b[39m*\u001b[39;49mkwargs)\n",
      "File \u001b[0;32m~/miniconda3/envs/proj/lib/python3.9/site-packages/googleapiclient/http.py:900\u001b[0m, in \u001b[0;36mHttpRequest.execute\u001b[0;34m(self, http, num_retries)\u001b[0m\n\u001b[1;32m    <a href='file:///bsuhome/zacharykeskinen/miniconda3/envs/proj/lib/python3.9/site-packages/googleapiclient/http.py?line=896'>897</a>\u001b[0m     \u001b[39mself\u001b[39m\u001b[39m.\u001b[39mheaders[\u001b[39m\"\u001b[39m\u001b[39mcontent-length\u001b[39m\u001b[39m\"\u001b[39m] \u001b[39m=\u001b[39m \u001b[39mstr\u001b[39m(\u001b[39mlen\u001b[39m(\u001b[39mself\u001b[39m\u001b[39m.\u001b[39mbody))\n\u001b[1;32m    <a href='file:///bsuhome/zacharykeskinen/miniconda3/envs/proj/lib/python3.9/site-packages/googleapiclient/http.py?line=898'>899</a>\u001b[0m \u001b[39m# Handle retries for server-side errors.\u001b[39;00m\n\u001b[0;32m--> <a href='file:///bsuhome/zacharykeskinen/miniconda3/envs/proj/lib/python3.9/site-packages/googleapiclient/http.py?line=899'>900</a>\u001b[0m resp, content \u001b[39m=\u001b[39m _retry_request(\n\u001b[1;32m    <a href='file:///bsuhome/zacharykeskinen/miniconda3/envs/proj/lib/python3.9/site-packages/googleapiclient/http.py?line=900'>901</a>\u001b[0m     http,\n\u001b[1;32m    <a href='file:///bsuhome/zacharykeskinen/miniconda3/envs/proj/lib/python3.9/site-packages/googleapiclient/http.py?line=901'>902</a>\u001b[0m     num_retries,\n\u001b[1;32m    <a href='file:///bsuhome/zacharykeskinen/miniconda3/envs/proj/lib/python3.9/site-packages/googleapiclient/http.py?line=902'>903</a>\u001b[0m     \u001b[39m\"\u001b[39;49m\u001b[39mrequest\u001b[39;49m\u001b[39m\"\u001b[39;49m,\n\u001b[1;32m    <a href='file:///bsuhome/zacharykeskinen/miniconda3/envs/proj/lib/python3.9/site-packages/googleapiclient/http.py?line=903'>904</a>\u001b[0m     \u001b[39mself\u001b[39;49m\u001b[39m.\u001b[39;49m_sleep,\n\u001b[1;32m    <a href='file:///bsuhome/zacharykeskinen/miniconda3/envs/proj/lib/python3.9/site-packages/googleapiclient/http.py?line=904'>905</a>\u001b[0m     \u001b[39mself\u001b[39;49m\u001b[39m.\u001b[39;49m_rand,\n\u001b[1;32m    <a href='file:///bsuhome/zacharykeskinen/miniconda3/envs/proj/lib/python3.9/site-packages/googleapiclient/http.py?line=905'>906</a>\u001b[0m     \u001b[39mstr\u001b[39;49m(\u001b[39mself\u001b[39;49m\u001b[39m.\u001b[39;49muri),\n\u001b[1;32m    <a href='file:///bsuhome/zacharykeskinen/miniconda3/envs/proj/lib/python3.9/site-packages/googleapiclient/http.py?line=906'>907</a>\u001b[0m     method\u001b[39m=\u001b[39;49m\u001b[39mstr\u001b[39;49m(\u001b[39mself\u001b[39;49m\u001b[39m.\u001b[39;49mmethod),\n\u001b[1;32m    <a href='file:///bsuhome/zacharykeskinen/miniconda3/envs/proj/lib/python3.9/site-packages/googleapiclient/http.py?line=907'>908</a>\u001b[0m     body\u001b[39m=\u001b[39;49m\u001b[39mself\u001b[39;49m\u001b[39m.\u001b[39;49mbody,\n\u001b[1;32m    <a href='file:///bsuhome/zacharykeskinen/miniconda3/envs/proj/lib/python3.9/site-packages/googleapiclient/http.py?line=908'>909</a>\u001b[0m     headers\u001b[39m=\u001b[39;49m\u001b[39mself\u001b[39;49m\u001b[39m.\u001b[39;49mheaders,\n\u001b[1;32m    <a href='file:///bsuhome/zacharykeskinen/miniconda3/envs/proj/lib/python3.9/site-packages/googleapiclient/http.py?line=909'>910</a>\u001b[0m )\n\u001b[1;32m    <a href='file:///bsuhome/zacharykeskinen/miniconda3/envs/proj/lib/python3.9/site-packages/googleapiclient/http.py?line=911'>912</a>\u001b[0m \u001b[39mfor\u001b[39;00m callback \u001b[39min\u001b[39;00m \u001b[39mself\u001b[39m\u001b[39m.\u001b[39mresponse_callbacks:\n\u001b[1;32m    <a href='file:///bsuhome/zacharykeskinen/miniconda3/envs/proj/lib/python3.9/site-packages/googleapiclient/http.py?line=912'>913</a>\u001b[0m     callback(resp)\n",
      "File \u001b[0;32m~/miniconda3/envs/proj/lib/python3.9/site-packages/googleapiclient/http.py:177\u001b[0m, in \u001b[0;36m_retry_request\u001b[0;34m(http, num_retries, req_type, sleep, rand, uri, method, *args, **kwargs)\u001b[0m\n\u001b[1;32m    <a href='file:///bsuhome/zacharykeskinen/miniconda3/envs/proj/lib/python3.9/site-packages/googleapiclient/http.py?line=174'>175</a>\u001b[0m \u001b[39mtry\u001b[39;00m:\n\u001b[1;32m    <a href='file:///bsuhome/zacharykeskinen/miniconda3/envs/proj/lib/python3.9/site-packages/googleapiclient/http.py?line=175'>176</a>\u001b[0m     exception \u001b[39m=\u001b[39m \u001b[39mNone\u001b[39;00m\n\u001b[0;32m--> <a href='file:///bsuhome/zacharykeskinen/miniconda3/envs/proj/lib/python3.9/site-packages/googleapiclient/http.py?line=176'>177</a>\u001b[0m     resp, content \u001b[39m=\u001b[39m http\u001b[39m.\u001b[39;49mrequest(uri, method, \u001b[39m*\u001b[39;49margs, \u001b[39m*\u001b[39;49m\u001b[39m*\u001b[39;49mkwargs)\n\u001b[1;32m    <a href='file:///bsuhome/zacharykeskinen/miniconda3/envs/proj/lib/python3.9/site-packages/googleapiclient/http.py?line=177'>178</a>\u001b[0m \u001b[39m# Retry on SSL errors and socket timeout errors.\u001b[39;00m\n\u001b[1;32m    <a href='file:///bsuhome/zacharykeskinen/miniconda3/envs/proj/lib/python3.9/site-packages/googleapiclient/http.py?line=178'>179</a>\u001b[0m \u001b[39mexcept\u001b[39;00m _ssl_SSLError \u001b[39mas\u001b[39;00m ssl_error:\n",
      "File \u001b[0;32m~/miniconda3/envs/proj/lib/python3.9/site-packages/google_auth_httplib2.py:218\u001b[0m, in \u001b[0;36mAuthorizedHttp.request\u001b[0;34m(self, uri, method, body, headers, redirections, connection_type, **kwargs)\u001b[0m\n\u001b[1;32m    <a href='file:///bsuhome/zacharykeskinen/miniconda3/envs/proj/lib/python3.9/site-packages/google_auth_httplib2.py?line=214'>215</a>\u001b[0m     body_stream_position \u001b[39m=\u001b[39m body\u001b[39m.\u001b[39mtell()\n\u001b[1;32m    <a href='file:///bsuhome/zacharykeskinen/miniconda3/envs/proj/lib/python3.9/site-packages/google_auth_httplib2.py?line=216'>217</a>\u001b[0m \u001b[39m# Make the request.\u001b[39;00m\n\u001b[0;32m--> <a href='file:///bsuhome/zacharykeskinen/miniconda3/envs/proj/lib/python3.9/site-packages/google_auth_httplib2.py?line=217'>218</a>\u001b[0m response, content \u001b[39m=\u001b[39m \u001b[39mself\u001b[39;49m\u001b[39m.\u001b[39;49mhttp\u001b[39m.\u001b[39;49mrequest(\n\u001b[1;32m    <a href='file:///bsuhome/zacharykeskinen/miniconda3/envs/proj/lib/python3.9/site-packages/google_auth_httplib2.py?line=218'>219</a>\u001b[0m     uri,\n\u001b[1;32m    <a href='file:///bsuhome/zacharykeskinen/miniconda3/envs/proj/lib/python3.9/site-packages/google_auth_httplib2.py?line=219'>220</a>\u001b[0m     method,\n\u001b[1;32m    <a href='file:///bsuhome/zacharykeskinen/miniconda3/envs/proj/lib/python3.9/site-packages/google_auth_httplib2.py?line=220'>221</a>\u001b[0m     body\u001b[39m=\u001b[39;49mbody,\n\u001b[1;32m    <a href='file:///bsuhome/zacharykeskinen/miniconda3/envs/proj/lib/python3.9/site-packages/google_auth_httplib2.py?line=221'>222</a>\u001b[0m     headers\u001b[39m=\u001b[39;49mrequest_headers,\n\u001b[1;32m    <a href='file:///bsuhome/zacharykeskinen/miniconda3/envs/proj/lib/python3.9/site-packages/google_auth_httplib2.py?line=222'>223</a>\u001b[0m     redirections\u001b[39m=\u001b[39;49mredirections,\n\u001b[1;32m    <a href='file:///bsuhome/zacharykeskinen/miniconda3/envs/proj/lib/python3.9/site-packages/google_auth_httplib2.py?line=223'>224</a>\u001b[0m     connection_type\u001b[39m=\u001b[39;49mconnection_type,\n\u001b[1;32m    <a href='file:///bsuhome/zacharykeskinen/miniconda3/envs/proj/lib/python3.9/site-packages/google_auth_httplib2.py?line=224'>225</a>\u001b[0m     \u001b[39m*\u001b[39;49m\u001b[39m*\u001b[39;49mkwargs\n\u001b[1;32m    <a href='file:///bsuhome/zacharykeskinen/miniconda3/envs/proj/lib/python3.9/site-packages/google_auth_httplib2.py?line=225'>226</a>\u001b[0m )\n\u001b[1;32m    <a href='file:///bsuhome/zacharykeskinen/miniconda3/envs/proj/lib/python3.9/site-packages/google_auth_httplib2.py?line=227'>228</a>\u001b[0m \u001b[39m# If the response indicated that the credentials needed to be\u001b[39;00m\n\u001b[1;32m    <a href='file:///bsuhome/zacharykeskinen/miniconda3/envs/proj/lib/python3.9/site-packages/google_auth_httplib2.py?line=228'>229</a>\u001b[0m \u001b[39m# refreshed, then refresh the credentials and re-attempt the\u001b[39;00m\n\u001b[1;32m    <a href='file:///bsuhome/zacharykeskinen/miniconda3/envs/proj/lib/python3.9/site-packages/google_auth_httplib2.py?line=229'>230</a>\u001b[0m \u001b[39m# request.\u001b[39;00m\n\u001b[1;32m    <a href='file:///bsuhome/zacharykeskinen/miniconda3/envs/proj/lib/python3.9/site-packages/google_auth_httplib2.py?line=230'>231</a>\u001b[0m \u001b[39m# A stored token may expire between the time it is retrieved and\u001b[39;00m\n\u001b[1;32m    <a href='file:///bsuhome/zacharykeskinen/miniconda3/envs/proj/lib/python3.9/site-packages/google_auth_httplib2.py?line=231'>232</a>\u001b[0m \u001b[39m# the time the request is made, so we may need to try twice.\u001b[39;00m\n\u001b[1;32m    <a href='file:///bsuhome/zacharykeskinen/miniconda3/envs/proj/lib/python3.9/site-packages/google_auth_httplib2.py?line=232'>233</a>\u001b[0m \u001b[39mif\u001b[39;00m (\n\u001b[1;32m    <a href='file:///bsuhome/zacharykeskinen/miniconda3/envs/proj/lib/python3.9/site-packages/google_auth_httplib2.py?line=233'>234</a>\u001b[0m     response\u001b[39m.\u001b[39mstatus \u001b[39min\u001b[39;00m \u001b[39mself\u001b[39m\u001b[39m.\u001b[39m_refresh_status_codes\n\u001b[1;32m    <a href='file:///bsuhome/zacharykeskinen/miniconda3/envs/proj/lib/python3.9/site-packages/google_auth_httplib2.py?line=234'>235</a>\u001b[0m     \u001b[39mand\u001b[39;00m _credential_refresh_attempt \u001b[39m<\u001b[39m \u001b[39mself\u001b[39m\u001b[39m.\u001b[39m_max_refresh_attempts\n\u001b[1;32m    <a href='file:///bsuhome/zacharykeskinen/miniconda3/envs/proj/lib/python3.9/site-packages/google_auth_httplib2.py?line=235'>236</a>\u001b[0m ):\n",
      "File \u001b[0;32m~/miniconda3/envs/proj/lib/python3.9/site-packages/httplib2/__init__.py:1701\u001b[0m, in \u001b[0;36mHttp.request\u001b[0;34m(self, uri, method, body, headers, redirections, connection_type)\u001b[0m\n\u001b[1;32m   <a href='file:///bsuhome/zacharykeskinen/miniconda3/envs/proj/lib/python3.9/site-packages/httplib2/__init__.py?line=1698'>1699</a>\u001b[0m             content \u001b[39m=\u001b[39m \u001b[39mb\u001b[39m\u001b[39m\"\u001b[39m\u001b[39m\"\u001b[39m\n\u001b[1;32m   <a href='file:///bsuhome/zacharykeskinen/miniconda3/envs/proj/lib/python3.9/site-packages/httplib2/__init__.py?line=1699'>1700</a>\u001b[0m         \u001b[39melse\u001b[39;00m:\n\u001b[0;32m-> <a href='file:///bsuhome/zacharykeskinen/miniconda3/envs/proj/lib/python3.9/site-packages/httplib2/__init__.py?line=1700'>1701</a>\u001b[0m             (response, content) \u001b[39m=\u001b[39m \u001b[39mself\u001b[39;49m\u001b[39m.\u001b[39;49m_request(\n\u001b[1;32m   <a href='file:///bsuhome/zacharykeskinen/miniconda3/envs/proj/lib/python3.9/site-packages/httplib2/__init__.py?line=1701'>1702</a>\u001b[0m                 conn, authority, uri, request_uri, method, body, headers, redirections, cachekey,\n\u001b[1;32m   <a href='file:///bsuhome/zacharykeskinen/miniconda3/envs/proj/lib/python3.9/site-packages/httplib2/__init__.py?line=1702'>1703</a>\u001b[0m             )\n\u001b[1;32m   <a href='file:///bsuhome/zacharykeskinen/miniconda3/envs/proj/lib/python3.9/site-packages/httplib2/__init__.py?line=1703'>1704</a>\u001b[0m \u001b[39mexcept\u001b[39;00m \u001b[39mException\u001b[39;00m \u001b[39mas\u001b[39;00m e:\n\u001b[1;32m   <a href='file:///bsuhome/zacharykeskinen/miniconda3/envs/proj/lib/python3.9/site-packages/httplib2/__init__.py?line=1704'>1705</a>\u001b[0m     is_timeout \u001b[39m=\u001b[39m \u001b[39misinstance\u001b[39m(e, socket\u001b[39m.\u001b[39mtimeout)\n",
      "File \u001b[0;32m~/miniconda3/envs/proj/lib/python3.9/site-packages/httplib2/__init__.py:1421\u001b[0m, in \u001b[0;36mHttp._request\u001b[0;34m(self, conn, host, absolute_uri, request_uri, method, body, headers, redirections, cachekey)\u001b[0m\n\u001b[1;32m   <a href='file:///bsuhome/zacharykeskinen/miniconda3/envs/proj/lib/python3.9/site-packages/httplib2/__init__.py?line=1417'>1418</a>\u001b[0m \u001b[39mif\u001b[39;00m auth:\n\u001b[1;32m   <a href='file:///bsuhome/zacharykeskinen/miniconda3/envs/proj/lib/python3.9/site-packages/httplib2/__init__.py?line=1418'>1419</a>\u001b[0m     auth\u001b[39m.\u001b[39mrequest(method, request_uri, headers, body)\n\u001b[0;32m-> <a href='file:///bsuhome/zacharykeskinen/miniconda3/envs/proj/lib/python3.9/site-packages/httplib2/__init__.py?line=1420'>1421</a>\u001b[0m (response, content) \u001b[39m=\u001b[39m \u001b[39mself\u001b[39;49m\u001b[39m.\u001b[39;49m_conn_request(conn, request_uri, method, body, headers)\n\u001b[1;32m   <a href='file:///bsuhome/zacharykeskinen/miniconda3/envs/proj/lib/python3.9/site-packages/httplib2/__init__.py?line=1422'>1423</a>\u001b[0m \u001b[39mif\u001b[39;00m auth:\n\u001b[1;32m   <a href='file:///bsuhome/zacharykeskinen/miniconda3/envs/proj/lib/python3.9/site-packages/httplib2/__init__.py?line=1423'>1424</a>\u001b[0m     \u001b[39mif\u001b[39;00m auth\u001b[39m.\u001b[39mresponse(response, body):\n",
      "File \u001b[0;32m~/miniconda3/envs/proj/lib/python3.9/site-packages/httplib2shim/__init__.py:140\u001b[0m, in \u001b[0;36mHttp._conn_request\u001b[0;34m(self, conn, request_uri, method, body, headers)\u001b[0m\n\u001b[1;32m    <a href='file:///bsuhome/zacharykeskinen/miniconda3/envs/proj/lib/python3.9/site-packages/httplib2shim/__init__.py?line=136'>137</a>\u001b[0m decode \u001b[39m=\u001b[39m \u001b[39mTrue\u001b[39;00m \u001b[39mif\u001b[39;00m method \u001b[39m!=\u001b[39m \u001b[39m'\u001b[39m\u001b[39mHEAD\u001b[39m\u001b[39m'\u001b[39m \u001b[39melse\u001b[39;00m \u001b[39mFalse\u001b[39;00m\n\u001b[1;32m    <a href='file:///bsuhome/zacharykeskinen/miniconda3/envs/proj/lib/python3.9/site-packages/httplib2shim/__init__.py?line=138'>139</a>\u001b[0m \u001b[39mtry\u001b[39;00m:\n\u001b[0;32m--> <a href='file:///bsuhome/zacharykeskinen/miniconda3/envs/proj/lib/python3.9/site-packages/httplib2shim/__init__.py?line=139'>140</a>\u001b[0m     urllib3_response \u001b[39m=\u001b[39m \u001b[39mself\u001b[39;49m\u001b[39m.\u001b[39;49mpool\u001b[39m.\u001b[39;49mrequest(\n\u001b[1;32m    <a href='file:///bsuhome/zacharykeskinen/miniconda3/envs/proj/lib/python3.9/site-packages/httplib2shim/__init__.py?line=140'>141</a>\u001b[0m         method,\n\u001b[1;32m    <a href='file:///bsuhome/zacharykeskinen/miniconda3/envs/proj/lib/python3.9/site-packages/httplib2shim/__init__.py?line=141'>142</a>\u001b[0m         full_uri,\n\u001b[1;32m    <a href='file:///bsuhome/zacharykeskinen/miniconda3/envs/proj/lib/python3.9/site-packages/httplib2shim/__init__.py?line=142'>143</a>\u001b[0m         body\u001b[39m=\u001b[39;49mbody,\n\u001b[1;32m    <a href='file:///bsuhome/zacharykeskinen/miniconda3/envs/proj/lib/python3.9/site-packages/httplib2shim/__init__.py?line=143'>144</a>\u001b[0m         headers\u001b[39m=\u001b[39;49mheaders,\n\u001b[1;32m    <a href='file:///bsuhome/zacharykeskinen/miniconda3/envs/proj/lib/python3.9/site-packages/httplib2shim/__init__.py?line=144'>145</a>\u001b[0m         redirect\u001b[39m=\u001b[39;49m\u001b[39mFalse\u001b[39;49;00m,\n\u001b[1;32m    <a href='file:///bsuhome/zacharykeskinen/miniconda3/envs/proj/lib/python3.9/site-packages/httplib2shim/__init__.py?line=145'>146</a>\u001b[0m         retries\u001b[39m=\u001b[39;49murllib3\u001b[39m.\u001b[39;49mRetry(total\u001b[39m=\u001b[39;49m\u001b[39mFalse\u001b[39;49;00m, redirect\u001b[39m=\u001b[39;49m\u001b[39m0\u001b[39;49m),\n\u001b[1;32m    <a href='file:///bsuhome/zacharykeskinen/miniconda3/envs/proj/lib/python3.9/site-packages/httplib2shim/__init__.py?line=146'>147</a>\u001b[0m         timeout\u001b[39m=\u001b[39;49murllib3\u001b[39m.\u001b[39;49mTimeout(total\u001b[39m=\u001b[39;49m\u001b[39mself\u001b[39;49m\u001b[39m.\u001b[39;49mtimeout),\n\u001b[1;32m    <a href='file:///bsuhome/zacharykeskinen/miniconda3/envs/proj/lib/python3.9/site-packages/httplib2shim/__init__.py?line=147'>148</a>\u001b[0m         decode_content\u001b[39m=\u001b[39;49mdecode)\n\u001b[1;32m    <a href='file:///bsuhome/zacharykeskinen/miniconda3/envs/proj/lib/python3.9/site-packages/httplib2shim/__init__.py?line=149'>150</a>\u001b[0m     response \u001b[39m=\u001b[39m _map_response(urllib3_response, decode\u001b[39m=\u001b[39mdecode)\n\u001b[1;32m    <a href='file:///bsuhome/zacharykeskinen/miniconda3/envs/proj/lib/python3.9/site-packages/httplib2shim/__init__.py?line=150'>151</a>\u001b[0m     content \u001b[39m=\u001b[39m urllib3_response\u001b[39m.\u001b[39mdata\n",
      "File \u001b[0;32m~/miniconda3/envs/proj/lib/python3.9/site-packages/urllib3/request.py:78\u001b[0m, in \u001b[0;36mRequestMethods.request\u001b[0;34m(self, method, url, fields, headers, **urlopen_kw)\u001b[0m\n\u001b[1;32m     <a href='file:///bsuhome/zacharykeskinen/miniconda3/envs/proj/lib/python3.9/site-packages/urllib3/request.py?line=73'>74</a>\u001b[0m     \u001b[39mreturn\u001b[39;00m \u001b[39mself\u001b[39m\u001b[39m.\u001b[39mrequest_encode_url(\n\u001b[1;32m     <a href='file:///bsuhome/zacharykeskinen/miniconda3/envs/proj/lib/python3.9/site-packages/urllib3/request.py?line=74'>75</a>\u001b[0m         method, url, fields\u001b[39m=\u001b[39mfields, headers\u001b[39m=\u001b[39mheaders, \u001b[39m*\u001b[39m\u001b[39m*\u001b[39murlopen_kw\n\u001b[1;32m     <a href='file:///bsuhome/zacharykeskinen/miniconda3/envs/proj/lib/python3.9/site-packages/urllib3/request.py?line=75'>76</a>\u001b[0m     )\n\u001b[1;32m     <a href='file:///bsuhome/zacharykeskinen/miniconda3/envs/proj/lib/python3.9/site-packages/urllib3/request.py?line=76'>77</a>\u001b[0m \u001b[39melse\u001b[39;00m:\n\u001b[0;32m---> <a href='file:///bsuhome/zacharykeskinen/miniconda3/envs/proj/lib/python3.9/site-packages/urllib3/request.py?line=77'>78</a>\u001b[0m     \u001b[39mreturn\u001b[39;00m \u001b[39mself\u001b[39;49m\u001b[39m.\u001b[39;49mrequest_encode_body(\n\u001b[1;32m     <a href='file:///bsuhome/zacharykeskinen/miniconda3/envs/proj/lib/python3.9/site-packages/urllib3/request.py?line=78'>79</a>\u001b[0m         method, url, fields\u001b[39m=\u001b[39;49mfields, headers\u001b[39m=\u001b[39;49mheaders, \u001b[39m*\u001b[39;49m\u001b[39m*\u001b[39;49murlopen_kw\n\u001b[1;32m     <a href='file:///bsuhome/zacharykeskinen/miniconda3/envs/proj/lib/python3.9/site-packages/urllib3/request.py?line=79'>80</a>\u001b[0m     )\n",
      "File \u001b[0;32m~/miniconda3/envs/proj/lib/python3.9/site-packages/urllib3/request.py:170\u001b[0m, in \u001b[0;36mRequestMethods.request_encode_body\u001b[0;34m(self, method, url, fields, headers, encode_multipart, multipart_boundary, **urlopen_kw)\u001b[0m\n\u001b[1;32m    <a href='file:///bsuhome/zacharykeskinen/miniconda3/envs/proj/lib/python3.9/site-packages/urllib3/request.py?line=166'>167</a>\u001b[0m extra_kw[\u001b[39m\"\u001b[39m\u001b[39mheaders\u001b[39m\u001b[39m\"\u001b[39m]\u001b[39m.\u001b[39mupdate(headers)\n\u001b[1;32m    <a href='file:///bsuhome/zacharykeskinen/miniconda3/envs/proj/lib/python3.9/site-packages/urllib3/request.py?line=167'>168</a>\u001b[0m extra_kw\u001b[39m.\u001b[39mupdate(urlopen_kw)\n\u001b[0;32m--> <a href='file:///bsuhome/zacharykeskinen/miniconda3/envs/proj/lib/python3.9/site-packages/urllib3/request.py?line=169'>170</a>\u001b[0m \u001b[39mreturn\u001b[39;00m \u001b[39mself\u001b[39;49m\u001b[39m.\u001b[39;49murlopen(method, url, \u001b[39m*\u001b[39;49m\u001b[39m*\u001b[39;49mextra_kw)\n",
      "File \u001b[0;32m~/miniconda3/envs/proj/lib/python3.9/site-packages/urllib3/poolmanager.py:376\u001b[0m, in \u001b[0;36mPoolManager.urlopen\u001b[0;34m(self, method, url, redirect, **kw)\u001b[0m\n\u001b[1;32m    <a href='file:///bsuhome/zacharykeskinen/miniconda3/envs/proj/lib/python3.9/site-packages/urllib3/poolmanager.py?line=373'>374</a>\u001b[0m     response \u001b[39m=\u001b[39m conn\u001b[39m.\u001b[39murlopen(method, url, \u001b[39m*\u001b[39m\u001b[39m*\u001b[39mkw)\n\u001b[1;32m    <a href='file:///bsuhome/zacharykeskinen/miniconda3/envs/proj/lib/python3.9/site-packages/urllib3/poolmanager.py?line=374'>375</a>\u001b[0m \u001b[39melse\u001b[39;00m:\n\u001b[0;32m--> <a href='file:///bsuhome/zacharykeskinen/miniconda3/envs/proj/lib/python3.9/site-packages/urllib3/poolmanager.py?line=375'>376</a>\u001b[0m     response \u001b[39m=\u001b[39m conn\u001b[39m.\u001b[39;49murlopen(method, u\u001b[39m.\u001b[39;49mrequest_uri, \u001b[39m*\u001b[39;49m\u001b[39m*\u001b[39;49mkw)\n\u001b[1;32m    <a href='file:///bsuhome/zacharykeskinen/miniconda3/envs/proj/lib/python3.9/site-packages/urllib3/poolmanager.py?line=377'>378</a>\u001b[0m redirect_location \u001b[39m=\u001b[39m redirect \u001b[39mand\u001b[39;00m response\u001b[39m.\u001b[39mget_redirect_location()\n\u001b[1;32m    <a href='file:///bsuhome/zacharykeskinen/miniconda3/envs/proj/lib/python3.9/site-packages/urllib3/poolmanager.py?line=378'>379</a>\u001b[0m \u001b[39mif\u001b[39;00m \u001b[39mnot\u001b[39;00m redirect_location:\n",
      "File \u001b[0;32m~/miniconda3/envs/proj/lib/python3.9/site-packages/urllib3/connectionpool.py:703\u001b[0m, in \u001b[0;36mHTTPConnectionPool.urlopen\u001b[0;34m(self, method, url, body, headers, retries, redirect, assert_same_host, timeout, pool_timeout, release_conn, chunked, body_pos, **response_kw)\u001b[0m\n\u001b[1;32m    <a href='file:///bsuhome/zacharykeskinen/miniconda3/envs/proj/lib/python3.9/site-packages/urllib3/connectionpool.py?line=699'>700</a>\u001b[0m     \u001b[39mself\u001b[39m\u001b[39m.\u001b[39m_prepare_proxy(conn)\n\u001b[1;32m    <a href='file:///bsuhome/zacharykeskinen/miniconda3/envs/proj/lib/python3.9/site-packages/urllib3/connectionpool.py?line=701'>702</a>\u001b[0m \u001b[39m# Make the request on the httplib connection object.\u001b[39;00m\n\u001b[0;32m--> <a href='file:///bsuhome/zacharykeskinen/miniconda3/envs/proj/lib/python3.9/site-packages/urllib3/connectionpool.py?line=702'>703</a>\u001b[0m httplib_response \u001b[39m=\u001b[39m \u001b[39mself\u001b[39;49m\u001b[39m.\u001b[39;49m_make_request(\n\u001b[1;32m    <a href='file:///bsuhome/zacharykeskinen/miniconda3/envs/proj/lib/python3.9/site-packages/urllib3/connectionpool.py?line=703'>704</a>\u001b[0m     conn,\n\u001b[1;32m    <a href='file:///bsuhome/zacharykeskinen/miniconda3/envs/proj/lib/python3.9/site-packages/urllib3/connectionpool.py?line=704'>705</a>\u001b[0m     method,\n\u001b[1;32m    <a href='file:///bsuhome/zacharykeskinen/miniconda3/envs/proj/lib/python3.9/site-packages/urllib3/connectionpool.py?line=705'>706</a>\u001b[0m     url,\n\u001b[1;32m    <a href='file:///bsuhome/zacharykeskinen/miniconda3/envs/proj/lib/python3.9/site-packages/urllib3/connectionpool.py?line=706'>707</a>\u001b[0m     timeout\u001b[39m=\u001b[39;49mtimeout_obj,\n\u001b[1;32m    <a href='file:///bsuhome/zacharykeskinen/miniconda3/envs/proj/lib/python3.9/site-packages/urllib3/connectionpool.py?line=707'>708</a>\u001b[0m     body\u001b[39m=\u001b[39;49mbody,\n\u001b[1;32m    <a href='file:///bsuhome/zacharykeskinen/miniconda3/envs/proj/lib/python3.9/site-packages/urllib3/connectionpool.py?line=708'>709</a>\u001b[0m     headers\u001b[39m=\u001b[39;49mheaders,\n\u001b[1;32m    <a href='file:///bsuhome/zacharykeskinen/miniconda3/envs/proj/lib/python3.9/site-packages/urllib3/connectionpool.py?line=709'>710</a>\u001b[0m     chunked\u001b[39m=\u001b[39;49mchunked,\n\u001b[1;32m    <a href='file:///bsuhome/zacharykeskinen/miniconda3/envs/proj/lib/python3.9/site-packages/urllib3/connectionpool.py?line=710'>711</a>\u001b[0m )\n\u001b[1;32m    <a href='file:///bsuhome/zacharykeskinen/miniconda3/envs/proj/lib/python3.9/site-packages/urllib3/connectionpool.py?line=712'>713</a>\u001b[0m \u001b[39m# If we're going to release the connection in ``finally:``, then\u001b[39;00m\n\u001b[1;32m    <a href='file:///bsuhome/zacharykeskinen/miniconda3/envs/proj/lib/python3.9/site-packages/urllib3/connectionpool.py?line=713'>714</a>\u001b[0m \u001b[39m# the response doesn't need to know about the connection. Otherwise\u001b[39;00m\n\u001b[1;32m    <a href='file:///bsuhome/zacharykeskinen/miniconda3/envs/proj/lib/python3.9/site-packages/urllib3/connectionpool.py?line=714'>715</a>\u001b[0m \u001b[39m# it will also try to release it and we'll have a double-release\u001b[39;00m\n\u001b[1;32m    <a href='file:///bsuhome/zacharykeskinen/miniconda3/envs/proj/lib/python3.9/site-packages/urllib3/connectionpool.py?line=715'>716</a>\u001b[0m \u001b[39m# mess.\u001b[39;00m\n\u001b[1;32m    <a href='file:///bsuhome/zacharykeskinen/miniconda3/envs/proj/lib/python3.9/site-packages/urllib3/connectionpool.py?line=716'>717</a>\u001b[0m response_conn \u001b[39m=\u001b[39m conn \u001b[39mif\u001b[39;00m \u001b[39mnot\u001b[39;00m release_conn \u001b[39melse\u001b[39;00m \u001b[39mNone\u001b[39;00m\n",
      "File \u001b[0;32m~/miniconda3/envs/proj/lib/python3.9/site-packages/urllib3/connectionpool.py:449\u001b[0m, in \u001b[0;36mHTTPConnectionPool._make_request\u001b[0;34m(self, conn, method, url, timeout, chunked, **httplib_request_kw)\u001b[0m\n\u001b[1;32m    <a href='file:///bsuhome/zacharykeskinen/miniconda3/envs/proj/lib/python3.9/site-packages/urllib3/connectionpool.py?line=443'>444</a>\u001b[0m             httplib_response \u001b[39m=\u001b[39m conn\u001b[39m.\u001b[39mgetresponse()\n\u001b[1;32m    <a href='file:///bsuhome/zacharykeskinen/miniconda3/envs/proj/lib/python3.9/site-packages/urllib3/connectionpool.py?line=444'>445</a>\u001b[0m         \u001b[39mexcept\u001b[39;00m \u001b[39mBaseException\u001b[39;00m \u001b[39mas\u001b[39;00m e:\n\u001b[1;32m    <a href='file:///bsuhome/zacharykeskinen/miniconda3/envs/proj/lib/python3.9/site-packages/urllib3/connectionpool.py?line=445'>446</a>\u001b[0m             \u001b[39m# Remove the TypeError from the exception chain in\u001b[39;00m\n\u001b[1;32m    <a href='file:///bsuhome/zacharykeskinen/miniconda3/envs/proj/lib/python3.9/site-packages/urllib3/connectionpool.py?line=446'>447</a>\u001b[0m             \u001b[39m# Python 3 (including for exceptions like SystemExit).\u001b[39;00m\n\u001b[1;32m    <a href='file:///bsuhome/zacharykeskinen/miniconda3/envs/proj/lib/python3.9/site-packages/urllib3/connectionpool.py?line=447'>448</a>\u001b[0m             \u001b[39m# Otherwise it looks like a bug in the code.\u001b[39;00m\n\u001b[0;32m--> <a href='file:///bsuhome/zacharykeskinen/miniconda3/envs/proj/lib/python3.9/site-packages/urllib3/connectionpool.py?line=448'>449</a>\u001b[0m             six\u001b[39m.\u001b[39;49mraise_from(e, \u001b[39mNone\u001b[39;49;00m)\n\u001b[1;32m    <a href='file:///bsuhome/zacharykeskinen/miniconda3/envs/proj/lib/python3.9/site-packages/urllib3/connectionpool.py?line=449'>450</a>\u001b[0m \u001b[39mexcept\u001b[39;00m (SocketTimeout, BaseSSLError, SocketError) \u001b[39mas\u001b[39;00m e:\n\u001b[1;32m    <a href='file:///bsuhome/zacharykeskinen/miniconda3/envs/proj/lib/python3.9/site-packages/urllib3/connectionpool.py?line=450'>451</a>\u001b[0m     \u001b[39mself\u001b[39m\u001b[39m.\u001b[39m_raise_timeout(err\u001b[39m=\u001b[39me, url\u001b[39m=\u001b[39murl, timeout_value\u001b[39m=\u001b[39mread_timeout)\n",
      "File \u001b[0;32m<string>:3\u001b[0m, in \u001b[0;36mraise_from\u001b[0;34m(value, from_value)\u001b[0m\n",
      "File \u001b[0;32m~/miniconda3/envs/proj/lib/python3.9/site-packages/urllib3/connectionpool.py:444\u001b[0m, in \u001b[0;36mHTTPConnectionPool._make_request\u001b[0;34m(self, conn, method, url, timeout, chunked, **httplib_request_kw)\u001b[0m\n\u001b[1;32m    <a href='file:///bsuhome/zacharykeskinen/miniconda3/envs/proj/lib/python3.9/site-packages/urllib3/connectionpool.py?line=440'>441</a>\u001b[0m \u001b[39mexcept\u001b[39;00m \u001b[39mTypeError\u001b[39;00m:\n\u001b[1;32m    <a href='file:///bsuhome/zacharykeskinen/miniconda3/envs/proj/lib/python3.9/site-packages/urllib3/connectionpool.py?line=441'>442</a>\u001b[0m     \u001b[39m# Python 3\u001b[39;00m\n\u001b[1;32m    <a href='file:///bsuhome/zacharykeskinen/miniconda3/envs/proj/lib/python3.9/site-packages/urllib3/connectionpool.py?line=442'>443</a>\u001b[0m     \u001b[39mtry\u001b[39;00m:\n\u001b[0;32m--> <a href='file:///bsuhome/zacharykeskinen/miniconda3/envs/proj/lib/python3.9/site-packages/urllib3/connectionpool.py?line=443'>444</a>\u001b[0m         httplib_response \u001b[39m=\u001b[39m conn\u001b[39m.\u001b[39;49mgetresponse()\n\u001b[1;32m    <a href='file:///bsuhome/zacharykeskinen/miniconda3/envs/proj/lib/python3.9/site-packages/urllib3/connectionpool.py?line=444'>445</a>\u001b[0m     \u001b[39mexcept\u001b[39;00m \u001b[39mBaseException\u001b[39;00m \u001b[39mas\u001b[39;00m e:\n\u001b[1;32m    <a href='file:///bsuhome/zacharykeskinen/miniconda3/envs/proj/lib/python3.9/site-packages/urllib3/connectionpool.py?line=445'>446</a>\u001b[0m         \u001b[39m# Remove the TypeError from the exception chain in\u001b[39;00m\n\u001b[1;32m    <a href='file:///bsuhome/zacharykeskinen/miniconda3/envs/proj/lib/python3.9/site-packages/urllib3/connectionpool.py?line=446'>447</a>\u001b[0m         \u001b[39m# Python 3 (including for exceptions like SystemExit).\u001b[39;00m\n\u001b[1;32m    <a href='file:///bsuhome/zacharykeskinen/miniconda3/envs/proj/lib/python3.9/site-packages/urllib3/connectionpool.py?line=447'>448</a>\u001b[0m         \u001b[39m# Otherwise it looks like a bug in the code.\u001b[39;00m\n\u001b[1;32m    <a href='file:///bsuhome/zacharykeskinen/miniconda3/envs/proj/lib/python3.9/site-packages/urllib3/connectionpool.py?line=448'>449</a>\u001b[0m         six\u001b[39m.\u001b[39mraise_from(e, \u001b[39mNone\u001b[39;00m)\n",
      "File \u001b[0;32m~/miniconda3/envs/proj/lib/python3.9/http/client.py:1377\u001b[0m, in \u001b[0;36mHTTPConnection.getresponse\u001b[0;34m(self)\u001b[0m\n\u001b[1;32m   <a href='file:///bsuhome/zacharykeskinen/miniconda3/envs/proj/lib/python3.9/http/client.py?line=1374'>1375</a>\u001b[0m \u001b[39mtry\u001b[39;00m:\n\u001b[1;32m   <a href='file:///bsuhome/zacharykeskinen/miniconda3/envs/proj/lib/python3.9/http/client.py?line=1375'>1376</a>\u001b[0m     \u001b[39mtry\u001b[39;00m:\n\u001b[0;32m-> <a href='file:///bsuhome/zacharykeskinen/miniconda3/envs/proj/lib/python3.9/http/client.py?line=1376'>1377</a>\u001b[0m         response\u001b[39m.\u001b[39;49mbegin()\n\u001b[1;32m   <a href='file:///bsuhome/zacharykeskinen/miniconda3/envs/proj/lib/python3.9/http/client.py?line=1377'>1378</a>\u001b[0m     \u001b[39mexcept\u001b[39;00m \u001b[39mConnectionError\u001b[39;00m:\n\u001b[1;32m   <a href='file:///bsuhome/zacharykeskinen/miniconda3/envs/proj/lib/python3.9/http/client.py?line=1378'>1379</a>\u001b[0m         \u001b[39mself\u001b[39m\u001b[39m.\u001b[39mclose()\n",
      "File \u001b[0;32m~/miniconda3/envs/proj/lib/python3.9/http/client.py:320\u001b[0m, in \u001b[0;36mHTTPResponse.begin\u001b[0;34m(self)\u001b[0m\n\u001b[1;32m    <a href='file:///bsuhome/zacharykeskinen/miniconda3/envs/proj/lib/python3.9/http/client.py?line=317'>318</a>\u001b[0m \u001b[39m# read until we get a non-100 response\u001b[39;00m\n\u001b[1;32m    <a href='file:///bsuhome/zacharykeskinen/miniconda3/envs/proj/lib/python3.9/http/client.py?line=318'>319</a>\u001b[0m \u001b[39mwhile\u001b[39;00m \u001b[39mTrue\u001b[39;00m:\n\u001b[0;32m--> <a href='file:///bsuhome/zacharykeskinen/miniconda3/envs/proj/lib/python3.9/http/client.py?line=319'>320</a>\u001b[0m     version, status, reason \u001b[39m=\u001b[39m \u001b[39mself\u001b[39;49m\u001b[39m.\u001b[39;49m_read_status()\n\u001b[1;32m    <a href='file:///bsuhome/zacharykeskinen/miniconda3/envs/proj/lib/python3.9/http/client.py?line=320'>321</a>\u001b[0m     \u001b[39mif\u001b[39;00m status \u001b[39m!=\u001b[39m CONTINUE:\n\u001b[1;32m    <a href='file:///bsuhome/zacharykeskinen/miniconda3/envs/proj/lib/python3.9/http/client.py?line=321'>322</a>\u001b[0m         \u001b[39mbreak\u001b[39;00m\n",
      "File \u001b[0;32m~/miniconda3/envs/proj/lib/python3.9/http/client.py:281\u001b[0m, in \u001b[0;36mHTTPResponse._read_status\u001b[0;34m(self)\u001b[0m\n\u001b[1;32m    <a href='file:///bsuhome/zacharykeskinen/miniconda3/envs/proj/lib/python3.9/http/client.py?line=279'>280</a>\u001b[0m \u001b[39mdef\u001b[39;00m \u001b[39m_read_status\u001b[39m(\u001b[39mself\u001b[39m):\n\u001b[0;32m--> <a href='file:///bsuhome/zacharykeskinen/miniconda3/envs/proj/lib/python3.9/http/client.py?line=280'>281</a>\u001b[0m     line \u001b[39m=\u001b[39m \u001b[39mstr\u001b[39m(\u001b[39mself\u001b[39;49m\u001b[39m.\u001b[39;49mfp\u001b[39m.\u001b[39;49mreadline(_MAXLINE \u001b[39m+\u001b[39;49m \u001b[39m1\u001b[39;49m), \u001b[39m\"\u001b[39m\u001b[39miso-8859-1\u001b[39m\u001b[39m\"\u001b[39m)\n\u001b[1;32m    <a href='file:///bsuhome/zacharykeskinen/miniconda3/envs/proj/lib/python3.9/http/client.py?line=281'>282</a>\u001b[0m     \u001b[39mif\u001b[39;00m \u001b[39mlen\u001b[39m(line) \u001b[39m>\u001b[39m _MAXLINE:\n\u001b[1;32m    <a href='file:///bsuhome/zacharykeskinen/miniconda3/envs/proj/lib/python3.9/http/client.py?line=282'>283</a>\u001b[0m         \u001b[39mraise\u001b[39;00m LineTooLong(\u001b[39m\"\u001b[39m\u001b[39mstatus line\u001b[39m\u001b[39m\"\u001b[39m)\n",
      "File \u001b[0;32m~/miniconda3/envs/proj/lib/python3.9/socket.py:704\u001b[0m, in \u001b[0;36mSocketIO.readinto\u001b[0;34m(self, b)\u001b[0m\n\u001b[1;32m    <a href='file:///bsuhome/zacharykeskinen/miniconda3/envs/proj/lib/python3.9/socket.py?line=701'>702</a>\u001b[0m \u001b[39mwhile\u001b[39;00m \u001b[39mTrue\u001b[39;00m:\n\u001b[1;32m    <a href='file:///bsuhome/zacharykeskinen/miniconda3/envs/proj/lib/python3.9/socket.py?line=702'>703</a>\u001b[0m     \u001b[39mtry\u001b[39;00m:\n\u001b[0;32m--> <a href='file:///bsuhome/zacharykeskinen/miniconda3/envs/proj/lib/python3.9/socket.py?line=703'>704</a>\u001b[0m         \u001b[39mreturn\u001b[39;00m \u001b[39mself\u001b[39;49m\u001b[39m.\u001b[39;49m_sock\u001b[39m.\u001b[39;49mrecv_into(b)\n\u001b[1;32m    <a href='file:///bsuhome/zacharykeskinen/miniconda3/envs/proj/lib/python3.9/socket.py?line=704'>705</a>\u001b[0m     \u001b[39mexcept\u001b[39;00m timeout:\n\u001b[1;32m    <a href='file:///bsuhome/zacharykeskinen/miniconda3/envs/proj/lib/python3.9/socket.py?line=705'>706</a>\u001b[0m         \u001b[39mself\u001b[39m\u001b[39m.\u001b[39m_timeout_occurred \u001b[39m=\u001b[39m \u001b[39mTrue\u001b[39;00m\n",
      "File \u001b[0;32m~/miniconda3/envs/proj/lib/python3.9/ssl.py:1241\u001b[0m, in \u001b[0;36mSSLSocket.recv_into\u001b[0;34m(self, buffer, nbytes, flags)\u001b[0m\n\u001b[1;32m   <a href='file:///bsuhome/zacharykeskinen/miniconda3/envs/proj/lib/python3.9/ssl.py?line=1236'>1237</a>\u001b[0m     \u001b[39mif\u001b[39;00m flags \u001b[39m!=\u001b[39m \u001b[39m0\u001b[39m:\n\u001b[1;32m   <a href='file:///bsuhome/zacharykeskinen/miniconda3/envs/proj/lib/python3.9/ssl.py?line=1237'>1238</a>\u001b[0m         \u001b[39mraise\u001b[39;00m \u001b[39mValueError\u001b[39;00m(\n\u001b[1;32m   <a href='file:///bsuhome/zacharykeskinen/miniconda3/envs/proj/lib/python3.9/ssl.py?line=1238'>1239</a>\u001b[0m           \u001b[39m\"\u001b[39m\u001b[39mnon-zero flags not allowed in calls to recv_into() on \u001b[39m\u001b[39m%s\u001b[39;00m\u001b[39m\"\u001b[39m \u001b[39m%\u001b[39m\n\u001b[1;32m   <a href='file:///bsuhome/zacharykeskinen/miniconda3/envs/proj/lib/python3.9/ssl.py?line=1239'>1240</a>\u001b[0m           \u001b[39mself\u001b[39m\u001b[39m.\u001b[39m\u001b[39m__class__\u001b[39m)\n\u001b[0;32m-> <a href='file:///bsuhome/zacharykeskinen/miniconda3/envs/proj/lib/python3.9/ssl.py?line=1240'>1241</a>\u001b[0m     \u001b[39mreturn\u001b[39;00m \u001b[39mself\u001b[39;49m\u001b[39m.\u001b[39;49mread(nbytes, buffer)\n\u001b[1;32m   <a href='file:///bsuhome/zacharykeskinen/miniconda3/envs/proj/lib/python3.9/ssl.py?line=1241'>1242</a>\u001b[0m \u001b[39melse\u001b[39;00m:\n\u001b[1;32m   <a href='file:///bsuhome/zacharykeskinen/miniconda3/envs/proj/lib/python3.9/ssl.py?line=1242'>1243</a>\u001b[0m     \u001b[39mreturn\u001b[39;00m \u001b[39msuper\u001b[39m()\u001b[39m.\u001b[39mrecv_into(buffer, nbytes, flags)\n",
      "File \u001b[0;32m~/miniconda3/envs/proj/lib/python3.9/ssl.py:1099\u001b[0m, in \u001b[0;36mSSLSocket.read\u001b[0;34m(self, len, buffer)\u001b[0m\n\u001b[1;32m   <a href='file:///bsuhome/zacharykeskinen/miniconda3/envs/proj/lib/python3.9/ssl.py?line=1096'>1097</a>\u001b[0m \u001b[39mtry\u001b[39;00m:\n\u001b[1;32m   <a href='file:///bsuhome/zacharykeskinen/miniconda3/envs/proj/lib/python3.9/ssl.py?line=1097'>1098</a>\u001b[0m     \u001b[39mif\u001b[39;00m buffer \u001b[39mis\u001b[39;00m \u001b[39mnot\u001b[39;00m \u001b[39mNone\u001b[39;00m:\n\u001b[0;32m-> <a href='file:///bsuhome/zacharykeskinen/miniconda3/envs/proj/lib/python3.9/ssl.py?line=1098'>1099</a>\u001b[0m         \u001b[39mreturn\u001b[39;00m \u001b[39mself\u001b[39;49m\u001b[39m.\u001b[39;49m_sslobj\u001b[39m.\u001b[39;49mread(\u001b[39mlen\u001b[39;49m, buffer)\n\u001b[1;32m   <a href='file:///bsuhome/zacharykeskinen/miniconda3/envs/proj/lib/python3.9/ssl.py?line=1099'>1100</a>\u001b[0m     \u001b[39melse\u001b[39;00m:\n\u001b[1;32m   <a href='file:///bsuhome/zacharykeskinen/miniconda3/envs/proj/lib/python3.9/ssl.py?line=1100'>1101</a>\u001b[0m         \u001b[39mreturn\u001b[39;00m \u001b[39mself\u001b[39m\u001b[39m.\u001b[39m_sslobj\u001b[39m.\u001b[39mread(\u001b[39mlen\u001b[39m)\n",
      "\u001b[0;31mKeyboardInterrupt\u001b[0m: "
     ]
    }
   ],
   "source": [
    "image_fps = [i for i in image_fps if 'L090VH_' in i['fp']]\n",
    "for i in range(40):\n",
    "    snow_off_phase_check(image_fps[i]['fp'],image_fps[i]['ann'])"
   ]
  },
  {
   "cell_type": "code",
   "execution_count": 108,
   "metadata": {},
   "outputs": [
    {
     "name": "stdout",
     "output_type": "stream",
     "text": [
      "2.5160327\n",
      "-0.4435453\n",
      "0.54857254\n",
      "-0.74427754\n"
     ]
    },
    {
     "ename": "KeyboardInterrupt",
     "evalue": "",
     "output_type": "error",
     "traceback": [
      "\u001b[0;31m---------------------------------------------------------------------------\u001b[0m",
      "\u001b[0;31mKeyboardInterrupt\u001b[0m                         Traceback (most recent call last)",
      "\u001b[1;32m/bsuhome/zacharykeskinen/uavsar/src/play/ulmo_play_modis.ipynb Cell 11'\u001b[0m in \u001b[0;36m<cell line: 2>\u001b[0;34m()\u001b[0m\n\u001b[1;32m      <a href='vscode-notebook-cell://ssh-remote%2Bborah/bsuhome/zacharykeskinen/uavsar/src/play/ulmo_play_modis.ipynb#ch0000012vscode-remote?line=0'>1</a>\u001b[0m image_fps \u001b[39m=\u001b[39m [i \u001b[39mfor\u001b[39;00m i \u001b[39min\u001b[39;00m image_fps \u001b[39mif\u001b[39;00m \u001b[39m'\u001b[39m\u001b[39mL090VH_\u001b[39m\u001b[39m'\u001b[39m \u001b[39min\u001b[39;00m i[\u001b[39m'\u001b[39m\u001b[39mfp\u001b[39m\u001b[39m'\u001b[39m]]\n\u001b[1;32m      <a href='vscode-notebook-cell://ssh-remote%2Bborah/bsuhome/zacharykeskinen/uavsar/src/play/ulmo_play_modis.ipynb#ch0000012vscode-remote?line=1'>2</a>\u001b[0m \u001b[39mfor\u001b[39;00m i \u001b[39min\u001b[39;00m \u001b[39mrange\u001b[39m(\u001b[39m40\u001b[39m):\n\u001b[0;32m----> <a href='vscode-notebook-cell://ssh-remote%2Bborah/bsuhome/zacharykeskinen/uavsar/src/play/ulmo_play_modis.ipynb#ch0000012vscode-remote?line=2'>3</a>\u001b[0m     \u001b[39mprint\u001b[39m(snow_off_phase(image_fps[i][\u001b[39m'\u001b[39;49m\u001b[39mfp\u001b[39;49m\u001b[39m'\u001b[39;49m],image_fps[i][\u001b[39m'\u001b[39;49m\u001b[39mann\u001b[39;49m\u001b[39m'\u001b[39;49m]))\n",
      "\u001b[1;32m/bsuhome/zacharykeskinen/uavsar/src/play/ulmo_play_modis.ipynb Cell 6'\u001b[0m in \u001b[0;36msnow_off_phase\u001b[0;34m(img_fp, ann_fp)\u001b[0m\n\u001b[1;32m     <a href='vscode-notebook-cell://ssh-remote%2Bborah/bsuhome/zacharykeskinen/uavsar/src/play/ulmo_play_modis.ipynb#ch0000005vscode-remote?line=17'>18</a>\u001b[0m         phase_sub, _ \u001b[39m=\u001b[39m mask(src, geoms, crop\u001b[39m=\u001b[39m\u001b[39mTrue\u001b[39;00m)\n\u001b[1;32m     <a href='vscode-notebook-cell://ssh-remote%2Bborah/bsuhome/zacharykeskinen/uavsar/src/play/ulmo_play_modis.ipynb#ch0000005vscode-remote?line=18'>19</a>\u001b[0m         \u001b[39mif\u001b[39;00m np\u001b[39m.\u001b[39mcount_nonzero(\u001b[39m~\u001b[39mnp\u001b[39m.\u001b[39misnan(phase_sub)) \u001b[39m>\u001b[39m \u001b[39m0\u001b[39m:\n\u001b[0;32m---> <a href='vscode-notebook-cell://ssh-remote%2Bborah/bsuhome/zacharykeskinen/uavsar/src/play/ulmo_play_modis.ipynb#ch0000005vscode-remote?line=19'>20</a>\u001b[0m             snow_off_phase \u001b[39m=\u001b[39m np\u001b[39m.\u001b[39;49mnanmean(phase_sub[\u001b[39m0\u001b[39;49m])\n\u001b[1;32m     <a href='vscode-notebook-cell://ssh-remote%2Bborah/bsuhome/zacharykeskinen/uavsar/src/play/ulmo_play_modis.ipynb#ch0000005vscode-remote?line=20'>21</a>\u001b[0m             \u001b[39mreturn\u001b[39;00m snow_off_phase\n\u001b[1;32m     <a href='vscode-notebook-cell://ssh-remote%2Bborah/bsuhome/zacharykeskinen/uavsar/src/play/ulmo_play_modis.ipynb#ch0000005vscode-remote?line=21'>22</a>\u001b[0m \u001b[39mexcept\u001b[39;00m ee\u001b[39m.\u001b[39mee_exception\u001b[39m.\u001b[39mEEException \u001b[39mas\u001b[39;00m e:\n",
      "File \u001b[0;32m<__array_function__ internals>:180\u001b[0m, in \u001b[0;36mnanmean\u001b[0;34m(*args, **kwargs)\u001b[0m\n",
      "File \u001b[0;32m~/miniconda3/envs/proj/lib/python3.9/site-packages/numpy/lib/nanfunctions.py:1033\u001b[0m, in \u001b[0;36mnanmean\u001b[0;34m(a, axis, dtype, out, keepdims, where)\u001b[0m\n\u001b[1;32m    <a href='file:///bsuhome/zacharykeskinen/miniconda3/envs/proj/lib/python3.9/site-packages/numpy/lib/nanfunctions.py?line=952'>953</a>\u001b[0m \u001b[39m@array_function_dispatch\u001b[39m(_nanmean_dispatcher)\n\u001b[1;32m    <a href='file:///bsuhome/zacharykeskinen/miniconda3/envs/proj/lib/python3.9/site-packages/numpy/lib/nanfunctions.py?line=953'>954</a>\u001b[0m \u001b[39mdef\u001b[39;00m \u001b[39mnanmean\u001b[39m(a, axis\u001b[39m=\u001b[39m\u001b[39mNone\u001b[39;00m, dtype\u001b[39m=\u001b[39m\u001b[39mNone\u001b[39;00m, out\u001b[39m=\u001b[39m\u001b[39mNone\u001b[39;00m, keepdims\u001b[39m=\u001b[39mnp\u001b[39m.\u001b[39m_NoValue,\n\u001b[1;32m    <a href='file:///bsuhome/zacharykeskinen/miniconda3/envs/proj/lib/python3.9/site-packages/numpy/lib/nanfunctions.py?line=954'>955</a>\u001b[0m             \u001b[39m*\u001b[39m, where\u001b[39m=\u001b[39mnp\u001b[39m.\u001b[39m_NoValue):\n\u001b[1;32m    <a href='file:///bsuhome/zacharykeskinen/miniconda3/envs/proj/lib/python3.9/site-packages/numpy/lib/nanfunctions.py?line=955'>956</a>\u001b[0m     \u001b[39m\"\"\"\u001b[39;00m\n\u001b[1;32m    <a href='file:///bsuhome/zacharykeskinen/miniconda3/envs/proj/lib/python3.9/site-packages/numpy/lib/nanfunctions.py?line=956'>957</a>\u001b[0m \u001b[39m    Compute the arithmetic mean along the specified axis, ignoring NaNs.\u001b[39;00m\n\u001b[1;32m    <a href='file:///bsuhome/zacharykeskinen/miniconda3/envs/proj/lib/python3.9/site-packages/numpy/lib/nanfunctions.py?line=957'>958</a>\u001b[0m \n\u001b[0;32m   (...)\u001b[0m\n\u001b[1;32m   <a href='file:///bsuhome/zacharykeskinen/miniconda3/envs/proj/lib/python3.9/site-packages/numpy/lib/nanfunctions.py?line=1030'>1031</a>\u001b[0m \n\u001b[1;32m   <a href='file:///bsuhome/zacharykeskinen/miniconda3/envs/proj/lib/python3.9/site-packages/numpy/lib/nanfunctions.py?line=1031'>1032</a>\u001b[0m \u001b[39m    \"\"\"\u001b[39;00m\n\u001b[0;32m-> <a href='file:///bsuhome/zacharykeskinen/miniconda3/envs/proj/lib/python3.9/site-packages/numpy/lib/nanfunctions.py?line=1032'>1033</a>\u001b[0m     arr, mask \u001b[39m=\u001b[39m _replace_nan(a, \u001b[39m0\u001b[39;49m)\n\u001b[1;32m   <a href='file:///bsuhome/zacharykeskinen/miniconda3/envs/proj/lib/python3.9/site-packages/numpy/lib/nanfunctions.py?line=1033'>1034</a>\u001b[0m     \u001b[39mif\u001b[39;00m mask \u001b[39mis\u001b[39;00m \u001b[39mNone\u001b[39;00m:\n\u001b[1;32m   <a href='file:///bsuhome/zacharykeskinen/miniconda3/envs/proj/lib/python3.9/site-packages/numpy/lib/nanfunctions.py?line=1034'>1035</a>\u001b[0m         \u001b[39mreturn\u001b[39;00m np\u001b[39m.\u001b[39mmean(arr, axis\u001b[39m=\u001b[39maxis, dtype\u001b[39m=\u001b[39mdtype, out\u001b[39m=\u001b[39mout, keepdims\u001b[39m=\u001b[39mkeepdims,\n\u001b[1;32m   <a href='file:///bsuhome/zacharykeskinen/miniconda3/envs/proj/lib/python3.9/site-packages/numpy/lib/nanfunctions.py?line=1035'>1036</a>\u001b[0m                        where\u001b[39m=\u001b[39mwhere)\n",
      "File \u001b[0;32m~/miniconda3/envs/proj/lib/python3.9/site-packages/numpy/lib/nanfunctions.py:108\u001b[0m, in \u001b[0;36m_replace_nan\u001b[0;34m(a, val)\u001b[0m\n\u001b[1;32m    <a href='file:///bsuhome/zacharykeskinen/miniconda3/envs/proj/lib/python3.9/site-packages/numpy/lib/nanfunctions.py?line=105'>106</a>\u001b[0m \u001b[39mif\u001b[39;00m mask \u001b[39mis\u001b[39;00m \u001b[39mnot\u001b[39;00m \u001b[39mNone\u001b[39;00m:\n\u001b[1;32m    <a href='file:///bsuhome/zacharykeskinen/miniconda3/envs/proj/lib/python3.9/site-packages/numpy/lib/nanfunctions.py?line=106'>107</a>\u001b[0m     a \u001b[39m=\u001b[39m np\u001b[39m.\u001b[39marray(a, subok\u001b[39m=\u001b[39m\u001b[39mTrue\u001b[39;00m, copy\u001b[39m=\u001b[39m\u001b[39mTrue\u001b[39;00m)\n\u001b[0;32m--> <a href='file:///bsuhome/zacharykeskinen/miniconda3/envs/proj/lib/python3.9/site-packages/numpy/lib/nanfunctions.py?line=107'>108</a>\u001b[0m     np\u001b[39m.\u001b[39;49mcopyto(a, val, where\u001b[39m=\u001b[39;49mmask)\n\u001b[1;32m    <a href='file:///bsuhome/zacharykeskinen/miniconda3/envs/proj/lib/python3.9/site-packages/numpy/lib/nanfunctions.py?line=109'>110</a>\u001b[0m \u001b[39mreturn\u001b[39;00m a, mask\n",
      "File \u001b[0;32m<__array_function__ internals>:180\u001b[0m, in \u001b[0;36mcopyto\u001b[0;34m(*args, **kwargs)\u001b[0m\n",
      "\u001b[0;31mKeyboardInterrupt\u001b[0m: "
     ]
    }
   ],
   "source": [
    "image_fps = [i for i in image_fps if 'L090VH_' in i['fp']]\n",
    "for i in range(40):\n",
    "    print(snow_off_phase(image_fps[i]['fp'],image_fps[i]['ann']))"
   ]
  }
 ],
 "metadata": {
  "interpreter": {
   "hash": "be18628f3b6aaaf0d9a50c1a0a68c0122e22b01f7b4495836f3dc0caac12767e"
  },
  "kernelspec": {
   "display_name": "Python 3.9.12 ('proj')",
   "language": "python",
   "name": "python3"
  },
  "language_info": {
   "codemirror_mode": {
    "name": "ipython",
    "version": 3
   },
   "file_extension": ".py",
   "mimetype": "text/x-python",
   "name": "python",
   "nbconvert_exporter": "python",
   "pygments_lexer": "ipython3",
   "version": "3.9.12"
  },
  "orig_nbformat": 4
 },
 "nbformat": 4,
 "nbformat_minor": 2
}
