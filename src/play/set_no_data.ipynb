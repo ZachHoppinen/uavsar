{
 "cells": [
  {
   "cell_type": "code",
   "execution_count": 9,
   "metadata": {},
   "outputs": [],
   "source": [
    "from glob import glob\n",
    "from os.path import join, expanduser\n",
    "import numpy as np\n",
    "import rasterio as rio"
   ]
  },
  {
   "cell_type": "code",
   "execution_count": 12,
   "metadata": {},
   "outputs": [],
   "source": [
    "images_dir = expanduser('~/scratch/data/uavsar/images/')\n",
    "for loc_dir in glob(join(images_dir, '*')):\n",
    "    for img_dir in glob(join(loc_dir, '*')):\n",
    "        if img_dir.endswith('tmp') == False:\n",
    "            for f in glob(join(img_dir, '*.tiff')):\n",
    "                with rio.open(f, 'r+') as src:\n",
    "                    src.nodata = np.nan"
   ]
  },
  {
   "cell_type": "code",
   "execution_count": null,
   "metadata": {},
   "outputs": [],
   "source": []
  }
 ],
 "metadata": {
  "interpreter": {
   "hash": "5dd3130d27b37aaf1e73f2c22ab2dc41de66d0ace140f6eaa91934393372459a"
  },
  "kernelspec": {
   "display_name": "Python 3.8.13 ('uavsar')",
   "language": "python",
   "name": "python3"
  },
  "language_info": {
   "codemirror_mode": {
    "name": "ipython",
    "version": 3
   },
   "file_extension": ".py",
   "mimetype": "text/x-python",
   "name": "python",
   "nbconvert_exporter": "python",
   "pygments_lexer": "ipython3",
   "version": "3.8.13"
  },
  "orig_nbformat": 4
 },
 "nbformat": 4,
 "nbformat_minor": 2
}
