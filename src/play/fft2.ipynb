{
 "cells": [
  {
   "cell_type": "code",
   "execution_count": 1,
   "metadata": {},
   "outputs": [],
   "source": [
    "import rasterio as rio\n",
    "import numpy as np\n",
    "from glob import glob\n",
    "import pandas as pd\n",
    "import numpy as np\n",
    "from numpy.fft import fft2, ifft2, fftfreq, fftshift\n",
    "import matplotlib.pyplot as plt\n",
    "from scipy.ndimage import rotate, shift\n",
    "from scipy.stats import pearsonr\n",
    "from scipy import interpolate\n",
    "from os.path import join, basename"
   ]
  },
  {
   "cell_type": "code",
   "execution_count": 4,
   "metadata": {},
   "outputs": [],
   "source": [
    "from interpolate import grid_interpolate\n",
    "from rotation_crop import find_best_rotated\n",
    "from spectrum_analysis import azimuthalAverage"
   ]
  },
  {
   "cell_type": "code",
   "execution_count": 5,
   "metadata": {},
   "outputs": [
    {
     "name": "stdout",
     "output_type": "stream",
     "text": [
      "/bsuscratch/zacharykeskinen/data/uavsar/images/Lowman, CO\n"
     ]
    }
   ],
   "source": [
    "locs = glob(join('/bsuscratch/zacharykeskinen/data/uavsar/images/','*'))\n",
    "for loc in locs:\n",
    "    if 'Lowman' in loc:\n",
    "        print(loc)\n",
    "        pairs = glob(join(loc, '*'))\n",
    "        pair = [p for p in pairs if basename(p) != 'tmp'][0]\n",
    "        images = glob(join(pair, '*'))\n",
    "        images = [i for i in images if 'unw' in i]\n",
    "        if images:\n",
    "            image = images[0]\n",
    "            with rio.open(image) as src:\n",
    "                image = src.read(1)\n",
    "            nan_nonint = np.sum(np.isnan(image))\n",
    "            image = grid_interpolate(image)\n",
    "            nan_int = np.sum(np.isnan(image))\n",
    "            number_filled = nan_nonint - nan_int\n",
    "            best, angle = find_best_rotated(image)\n",
    "            plt.imshow(best)\n",
    "            plt.show()\n",
    "\n",
    "            if number_filled/best.size < 0.15:\n",
    "                a = best"
   ]
  },
  {
   "cell_type": "code",
   "execution_count": 8,
   "metadata": {},
   "outputs": [],
   "source": [
    "from scipy import ndimage\n",
    "def GetPSD1D(psd2D):\n",
    "    h  = psd2D.shape[0]\n",
    "    w  = psd2D.shape[1]\n",
    "    wc = w//2\n",
    "    hc = h//2\n",
    "\n",
    "    # create an array of integer radial distances from the center\n",
    "    Y, X = np.ogrid[0:h, 0:w]\n",
    "    r    = np.hypot(X - wc, Y - hc).astype(int)\n",
    "\n",
    "    # SUM all psd2D pixels with label 'r' for 0<=r<=wc\n",
    "    # NOTE: this will miss power contributions in 'corners' r>wc\n",
    "    psd1D = ndimage.sum(psd2D, r, index=np.arange(0, wc))\n",
    "\n",
    "    return psd1D"
   ]
  },
  {
   "cell_type": "code",
   "execution_count": 80,
   "metadata": {},
   "outputs": [],
   "source": [
    "def azimuthalAverage(image, center=None):\n",
    "    \"\"\"\n",
    "    From: https://www.astrobetter.com/wiki/python_radial_profiles\n",
    "    Calculate the azimuthally averaged radial profile.\n",
    "\n",
    "    image - The 2D image\n",
    "    center - The [x,y] pixel coordinates used as the center. The default is \n",
    "             None, which then uses the center of the image (including \n",
    "             fractional pixels).\n",
    "    \n",
    "    \"\"\"\n",
    "    # Calculate the indices from the image\n",
    "    y, x = np.indices(image.shape)\n",
    "\n",
    "    if not center:\n",
    "        center = np.array([(x.max()-x.min())/2.0, (x.max()-x.min())/2.0])\n",
    "\n",
    "    r = np.hypot(x - center[0], y - center[1])\n",
    "\n",
    "    # Get sorted radii\n",
    "    ind = np.argsort(r.flat)\n",
    "    r_sorted = r.flat[ind]\n",
    "    i_sorted = image.flat[ind]\n",
    "\n",
    "    # Get the integer part of the radii (bin size = 1)\n",
    "    r_int = r_sorted.astype(int)\n",
    "\n",
    "    # Find all pixels that fall within each radial bin.\n",
    "    deltar = r_int[1:] - r_int[:-1]  # Assumes all radii represented\n",
    "    rind = np.where(deltar)[0]       # location of changed radius\n",
    "    nr = rind[1:] - rind[:-1]        # number of radius bin\n",
    "    \n",
    "    # Cumulative sum to figure out sums for each radius bin\n",
    "    csim = np.cumsum(i_sorted, dtype=float)\n",
    "    tbin = csim[rind[1:]] - csim[rind[:-1]]\n",
    "    radial_prof = tbin / nr\n",
    "\n",
    "    return radial_prof"
   ]
  },
  {
   "cell_type": "code",
   "execution_count": 102,
   "metadata": {},
   "outputs": [
    {
     "data": {
      "text/plain": [
       "Text(0.5, 0, 'Cycles per Km')"
      ]
     },
     "execution_count": 102,
     "metadata": {},
     "output_type": "execute_result"
    },
    {
     "data": {
      "image/png": "[encoded data removed]",
      "text/plain": [
       "<Figure size 432x288 with 1 Axes>"
      ]
     },
     "metadata": {
      "needs_background": "light"
     },
     "output_type": "display_data"
    }
   ],
   "source": [
    "A2d = np.fft.fftshift(np.abs(np.fft.fft2(a))**2)\n",
    "A1d = azimuthalAverage(A2d)\n",
    "pixel_spacing = 0.0000555600 #degree/pixel\n",
    "pixel_spacing = pixel_spacing * 111 # kilometers/ pixel\n",
    "pixel_spacing = pixel_spacing*10 #resampled\n",
    "fn = 1/ (pixel_spacing/2)\n",
    "f = np.linspace(0, fn, A1d.size)\n",
    "plt.plot(f, A1d)\n",
    "plt.yscale('log')\n",
    "plt.xscale('log')\n",
    "plt.xlabel('Cycles per Km')"
   ]
  },
  {
   "cell_type": "code",
   "execution_count": 103,
   "metadata": {},
   "outputs": [
    {
     "data": {
      "text/plain": [
       "<matplotlib.image.AxesImage at 0x2aab2074d340>"
      ]
     },
     "execution_count": 103,
     "metadata": {},
     "output_type": "execute_result"
    },
    {
     "data": {
      "image/png": "[encoded data removed]",
      "text/plain": [
       "<Figure size 432x288 with 1 Axes>"
      ]
     },
     "metadata": {
      "needs_background": "light"
     },
     "output_type": "display_data"
    }
   ],
   "source": [
    "plt.imshow(np.log(A2d))"
   ]
  },
  {
   "cell_type": "code",
   "execution_count": 104,
   "metadata": {},
   "outputs": [
    {
     "data": {
      "text/plain": [
       "<matplotlib.image.AxesImage at 0x2aab2078c790>"
      ]
     },
     "execution_count": 104,
     "metadata": {},
     "output_type": "execute_result"
    },
    {
     "data": {
      "image/png": "[encoded data removed]",
      "text/plain": [
       "<Figure size 432x288 with 1 Axes>"
      ]
     },
     "metadata": {
      "needs_background": "light"
     },
     "output_type": "display_data"
    }
   ],
   "source": [
    "plt.imshow(a)"
   ]
  }
 ],
 "metadata": {
  "kernelspec": {
   "display_name": "Python 3.9.12 ('proj')",
   "language": "python",
   "name": "python3"
  },
  "language_info": {
   "codemirror_mode": {
    "name": "ipython",
    "version": 3
   },
   "file_extension": ".py",
   "mimetype": "text/x-python",
   "name": "python",
   "nbconvert_exporter": "python",
   "pygments_lexer": "ipython3",
   "version": "3.9.13"
  },
  "orig_nbformat": 4,
  "vscode": {
   "interpreter": {
    "hash": "be18628f3b6aaaf0d9a50c1a0a68c0122e22b01f7b4495836f3dc0caac12767e"
   }
  }
 },
 "nbformat": 4,
 "nbformat_minor": 2
}
