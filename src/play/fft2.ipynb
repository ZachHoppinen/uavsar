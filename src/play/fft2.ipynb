{
 "cells": [
  {
   "cell_type": "code",
   "execution_count": 123,
   "metadata": {},
   "outputs": [],
   "source": [
    "import rasterio as rio\n",
    "import numpy as np\n",
    "from glob import glob\n",
    "import pandas as pd\n",
    "import numpy as np\n",
    "from numpy.fft import fft2, ifft2, fftfreq, fftshift\n",
    "import matplotlib.pyplot as plt\n",
    "from scipy.ndimage import rotate, shift\n",
    "from scipy.stats import pearsonr\n",
    "from sklearn.preprocessing import StandardScaler\n",
    "from os.path import join, basename"
   ]
  },
  {
   "cell_type": "markdown",
   "metadata": {},
   "source": [
    "## Coherence"
   ]
  },
  {
   "cell_type": "code",
   "execution_count": 84,
   "metadata": {},
   "outputs": [],
   "source": [
    "fp = glob('/bsuscratch/zacharykeskinen/data/uavsar/images/Lowman, CO/lowman_05208_21012-004_21015-009_0021d_s01_L090_01_int_grd/*.cor.grd.tiff')[0]\n",
    "csv = pd.read_csv(glob('/bsuscratch/zacharykeskinen/data/uavsar/images/Lowman, CO/lowman_05208_21012-004_21015-009_0021d_s01_L090_01_int_grd/*.csv')[0])\n",
    "with rio.open(fp) as src:\n",
    "    coh = src.read(1)\n",
    "    bounds  = src.bounds"
   ]
  },
  {
   "cell_type": "code",
   "execution_count": null,
   "metadata": {},
   "outputs": [],
   "source": [
    "a = arr[::1,::1][73*100:80*100,100*100:150*100]\n",
    "# a = rotate(a, 1, reshape = True)\n",
    "plt.imshow(a, aspect='auto')\n",
    "plt.colorbar()"
   ]
  },
  {
   "cell_type": "code",
   "execution_count": 87,
   "metadata": {},
   "outputs": [],
   "source": [
    "def scale_normal(arr):\n",
    "    scaler = StandardScaler().fit(arr)\n",
    "    return scaler.transform(arr)"
   ]
  },
  {
   "cell_type": "code",
   "execution_count": null,
   "metadata": {},
   "outputs": [],
   "source": [
    "b = fftshift(np.abs(fft2(a)))\n",
    "b = scale_normal(b)\n",
    "plt.imshow(b, aspect= 'auto')\n",
    "plt.colorbar()"
   ]
  },
  {
   "cell_type": "markdown",
   "metadata": {},
   "source": [
    "## DEM"
   ]
  },
  {
   "cell_type": "code",
   "execution_count": 85,
   "metadata": {},
   "outputs": [],
   "source": [
    "fp = glob('/bsuscratch/zacharykeskinen/data/uavsar/images/Lowman, CO/lowman_05208_21012-004_21015-009_0021d_s01_L090_01_int_grd/*.hgt.grd.tiff')[0]\n",
    "csv = pd.read_csv(glob('/bsuscratch/zacharykeskinen/data/uavsar/images/Lowman, CO/lowman_05208_21012-004_21015-009_0021d_s01_L090_01_int_grd/*.csv')[0])\n",
    "with rio.open(fp) as src:\n",
    "    dem = src.read(1)\n",
    "    bounds  = src.bounds"
   ]
  },
  {
   "cell_type": "code",
   "execution_count": null,
   "metadata": {},
   "outputs": [],
   "source": [
    "c = arr[::1,::1][73*100:80*100,100*100:150*100]\n",
    "# a = rotate(a, 1, reshape = True)\n",
    "plt.imshow(c, aspect='auto')\n",
    "plt.colorbar()"
   ]
  },
  {
   "cell_type": "code",
   "execution_count": null,
   "metadata": {},
   "outputs": [],
   "source": [
    "d = fftshift(np.abs(fft2(c)))\n",
    "d = scale_normal(d)\n",
    "plt.imshow(d, aspect= 'auto')\n",
    "plt.colorbar()"
   ]
  },
  {
   "cell_type": "code",
   "execution_count": 92,
   "metadata": {},
   "outputs": [
    {
     "data": {
      "text/plain": [
       "-3.2741809263825417e-10"
      ]
     },
     "execution_count": 92,
     "metadata": {},
     "output_type": "execute_result"
    }
   ],
   "source": [
    "np.sum(np.dot(b,d.T))"
   ]
  },
  {
   "cell_type": "code",
   "execution_count": 100,
   "metadata": {},
   "outputs": [],
   "source": [
    "t = np.array([[np.nan, np.nan, np.nan, 1, 2, 3],\n",
    "[np.nan, np.nan, 4, 5, 6, np.nan],\n",
    "[np.nan, 7,8,9, np.nan, np.nan],\n",
    "[3,7,8,np.nan, np.nan, np.nan]])"
   ]
  },
  {
   "cell_type": "code",
   "execution_count": 104,
   "metadata": {},
   "outputs": [
    {
     "data": {
      "text/plain": [
       "array([3, 2, 1, 1, 2, 3])"
      ]
     },
     "execution_count": 104,
     "metadata": {},
     "output_type": "execute_result"
    }
   ],
   "source": [
    "np.sum(np.isnan(t), axis = 0)"
   ]
  },
  {
   "cell_type": "code",
   "execution_count": 101,
   "metadata": {},
   "outputs": [
    {
     "data": {
      "text/plain": [
       "<matplotlib.image.AxesImage at 0x2aaba7c81f10>"
      ]
     },
     "execution_count": 101,
     "metadata": {},
     "output_type": "execute_result"
    },
    {
     "data": {
      "image/png": "[encoded data removed]",
      "text/plain": [
       "<Figure size 432x288 with 1 Axes>"
      ]
     },
     "metadata": {
      "needs_background": "light"
     },
     "output_type": "display_data"
    }
   ],
   "source": [
    "plt.imshow(t)"
   ]
  },
  {
   "cell_type": "code",
   "execution_count": 14,
   "metadata": {},
   "outputs": [],
   "source": [
    "import math\n",
    "import cv2\n",
    "import numpy as np\n",
    "\n",
    "\n",
    "def rotate_image(image, angle):\n",
    "    \"\"\"\n",
    "    Rotates an OpenCV 2 / NumPy image about it's centre by the given angle\n",
    "    (in degrees). The returned image will be large enough to hold the entire\n",
    "    new image, with a black background\n",
    "    From: https://stackoverflow.com/questions/16702966/rotate-image-and-crop-out-black-borders\n",
    "    \"\"\"\n",
    "\n",
    "    # Get the image size\n",
    "    # No that's not an error - NumPy stores image matricies backwards\n",
    "    image_size = (image.shape[1], image.shape[0])\n",
    "    image_center = tuple(np.array(image_size) / 2)\n",
    "\n",
    "    # Convert the OpenCV 3x2 rotation matrix to 3x3\n",
    "    rot_mat = np.vstack(\n",
    "        [cv2.getRotationMatrix2D(image_center, angle, 1.0), [0, 0, 1]]\n",
    "    )\n",
    "\n",
    "    rot_mat_notranslate = np.matrix(rot_mat[0:2, 0:2])\n",
    "\n",
    "    # Shorthand for below calcs\n",
    "    image_w2 = image_size[0] * 0.5\n",
    "    image_h2 = image_size[1] * 0.5\n",
    "\n",
    "    # Obtain the rotated coordinates of the image corners\n",
    "    rotated_coords = [\n",
    "        (np.array([-image_w2,  image_h2]) * rot_mat_notranslate).A[0],\n",
    "        (np.array([ image_w2,  image_h2]) * rot_mat_notranslate).A[0],\n",
    "        (np.array([-image_w2, -image_h2]) * rot_mat_notranslate).A[0],\n",
    "        (np.array([ image_w2, -image_h2]) * rot_mat_notranslate).A[0]\n",
    "    ]\n",
    "\n",
    "    # Find the size of the new image\n",
    "    x_coords = [pt[0] for pt in rotated_coords]\n",
    "    x_pos = [x for x in x_coords if x > 0]\n",
    "    x_neg = [x for x in x_coords if x < 0]\n",
    "\n",
    "    y_coords = [pt[1] for pt in rotated_coords]\n",
    "    y_pos = [y for y in y_coords if y > 0]\n",
    "    y_neg = [y for y in y_coords if y < 0]\n",
    "\n",
    "    right_bound = max(x_pos)\n",
    "    left_bound = min(x_neg)\n",
    "    top_bound = max(y_pos)\n",
    "    bot_bound = min(y_neg)\n",
    "\n",
    "    new_w = int(abs(right_bound - left_bound))\n",
    "    new_h = int(abs(top_bound - bot_bound))\n",
    "\n",
    "    # We require a translation matrix to keep the image centred\n",
    "    trans_mat = np.matrix([\n",
    "        [1, 0, int(new_w * 0.5 - image_w2)],\n",
    "        [0, 1, int(new_h * 0.5 - image_h2)],\n",
    "        [0, 0, 1]\n",
    "    ])\n",
    "\n",
    "    # Compute the tranform for the combined rotation and translation\n",
    "    affine_mat = (np.matrix(trans_mat) * np.matrix(rot_mat))[0:2, :]\n",
    "\n",
    "    # Apply the transform\n",
    "    result = cv2.warpAffine(\n",
    "        image,\n",
    "        affine_mat,\n",
    "        (new_w, new_h),\n",
    "        flags=cv2.INTER_LINEAR\n",
    "    )\n",
    "\n",
    "    return result\n",
    "\n",
    "\n",
    "def largest_rotated_rect(w, h, angle):\n",
    "    \"\"\"\n",
    "    Given a rectangle of size wxh that has been rotated by 'angle' (in\n",
    "    radians), computes the width and height of the largest possible\n",
    "    axis-aligned rectangle within the rotated rectangle.\n",
    "\n",
    "    Original JS code by 'Andri' and Magnus Hoff from Stack Overflow\n",
    "\n",
    "    Converted to Python by Aaron Snoswell\n",
    "    \"\"\"\n",
    "\n",
    "    quadrant = int(math.floor(angle / (math.pi / 2))) & 3\n",
    "    sign_alpha = angle if ((quadrant & 1) == 0) else math.pi - angle\n",
    "    alpha = (sign_alpha % math.pi + math.pi) % math.pi\n",
    "\n",
    "    bb_w = w * math.cos(alpha) + h * math.sin(alpha)\n",
    "    bb_h = w * math.sin(alpha) + h * math.cos(alpha)\n",
    "\n",
    "    gamma = math.atan2(bb_w, bb_w) if (w < h) else math.atan2(bb_w, bb_w)\n",
    "\n",
    "    delta = math.pi - alpha - gamma\n",
    "\n",
    "    length = h if (w < h) else w\n",
    "\n",
    "    d = length * math.cos(alpha)\n",
    "    a = d * math.sin(alpha) / math.sin(delta)\n",
    "\n",
    "    y = a * math.cos(gamma)\n",
    "    x = y * math.tan(gamma)\n",
    "\n",
    "    return (\n",
    "        bb_w - 2 * x,\n",
    "        bb_h - 2 * y\n",
    "    )\n",
    "\n",
    "\n",
    "def crop_around_center(image, width, height):\n",
    "    \"\"\"\n",
    "    Given a NumPy / OpenCV 2 image, crops it to the given width and height,\n",
    "    around it's centre point\n",
    "    \"\"\"\n",
    "\n",
    "    image_size = (image.shape[1], image.shape[0])\n",
    "    image_center = (int(image_size[0] * 0.5), int(image_size[1] * 0.5))\n",
    "\n",
    "    if(width > image_size[0]):\n",
    "        width = image_size[0]\n",
    "\n",
    "    if(height > image_size[1]):\n",
    "        height = image_size[1]\n",
    "\n",
    "    x1 = int(image_center[0] - width * 0.5)\n",
    "    x2 = int(image_center[0] + width * 0.5)\n",
    "    y1 = int(image_center[1] - height * 0.5)\n",
    "    y2 = int(image_center[1] + height * 0.5)\n",
    "\n",
    "    return image[y1:y2, x1:x2]\n",
    "\n",
    "\n",
    "def demo(image):\n",
    "    \"\"\"\n",
    "    Demos the largest_rotated_rect function\n",
    "    \"\"\"\n",
    "\n",
    "image_height, image_width = image.shape[0:2]\n",
    "# plt.imshow(image, title = 'Original Image')\n",
    "\n",
    "for i in np.arange(0, 90, 0.5):\n",
    "    if i % 30 == 0:\n",
    "        image_orig = np.copy(image)\n",
    "        image_rotated = rotate_image(image, i)\n",
    "        image_rotated_cropped = crop_around_center(\n",
    "            image_rotated,\n",
    "            *largest_rotated_rect(\n",
    "                image_width,\n",
    "                image_height,\n",
    "                math.radians(i)\n",
    "            )\n",
    "        )\n",
    "        f, (ax_orig, ax_rot, ax_crop) = plt.subplots(3,1)\n",
    "        ax_orig.imshow(image_orig)\n",
    "        ax_rot.imshow(image_rotated)\n",
    "        a = image_rotated\n",
    "        a = a[~np.isnan(a).any()][0]\n",
    "        # a = a[~np.isnan(a).any(axis=0)]\n",
    "        ax_crop.imshow(a)\n",
    "        plt.show()"
   ]
  },
  {
   "cell_type": "code",
   "execution_count": 88,
   "metadata": {},
   "outputs": [],
   "source": [
    "def rotate_crop(image, i):\n",
    "    a = rotate_image(image, i)\n",
    "    a[a == 0] = np.nan\n",
    "    a = a[~np.isnan(a).all(axis=1), :]\n",
    "    a = a[:, ~np.isnan(a).all(axis=0)]\n",
    "\n",
    "    if a.size > 0:\n",
    "        b = np.sum(~np.isnan(a), axis = 1) == np.nanmedian(np.sum(~np.isnan(a), axis = 1))\n",
    "        idx = np.argwhere(np.diff(np.r_[False, b, False]))\n",
    "        if idx.size > 0:\n",
    "            a = a[idx[0][0]:idx[-1][0], :]\n",
    "            if a.size > 0:\n",
    "                b = np.sum(~np.isnan(a), axis = 0) == np.nanmedian(np.sum(~np.isnan(a), axis = 0))\n",
    "                idx = np.argwhere(np.diff(np.r_[False, b, False]))\n",
    "                if idx.size > 0:\n",
    "                    a = a[:, idx[0][0]:idx[-1][0]]\n",
    "                    a[a==0] = np.nan\n",
    "                    return a\n",
    "    return None"
   ]
  },
  {
   "cell_type": "code",
   "execution_count": 133,
   "metadata": {},
   "outputs": [],
   "source": [
    "image = coh[::100,::100]\n",
    "sec_image = dem[::100,::100]\n",
    "def find_best_rotated(image):\n",
    "    best_angle = None\n",
    "    best_size = 0\n",
    "    best_image = None\n",
    "    for i in np.arange(0, 180, 0.5):\n",
    "        a = rotate_crop(image, i)\n",
    "\n",
    "        if a is not None:\n",
    "                if best_size < a.size and np.sum(np.isnan(a)) == 0:\n",
    "                    # print(f'New best rotation at {i} with size: {a.size}')\n",
    "                    best_angle = i\n",
    "                    best_size = a.size\n",
    "                    best_image = a\n",
    "\n",
    "    # f, (ax_orig, ax_rot, ax_crop, ax_sec) = plt.subplots(4,1)\n",
    "    # ax_orig.imshow(image_orig)\n",
    "    # ax_rot.imshow(image_rotated)\n",
    "    # print(f'Best angle {best_angle} and size {best_size}')\n",
    "    # ax_crop.imshow(best_image)\n",
    "    # rot_sec = rotate_crop(sec_image, float(best_angle))\n",
    "    # nans = np.sum(np.isnan(rot_sec))\n",
    "    # print(f'Number of secondary nan {nans}')\n",
    "    # ax_sec.imshow(rot_sec)\n",
    "    print(f'Best angle {best_angle} and size {best_size}')\n",
    "    plt.imshow(best_image)"
   ]
  },
  {
   "cell_type": "code",
   "execution_count": 136,
   "metadata": {},
   "outputs": [
    {
     "name": "stdout",
     "output_type": "stream",
     "text": [
      "/bsuscratch/zacharykeskinen/data/uavsar/images/Utica, MT\n",
      "/bsuscratch/zacharykeskinen/data/uavsar/images/Utica, MT/uticam_21003_21004-002_21013-003_0034d_s01_L090_01_int_grd/uticam_21003_21004-002_21013-003_0034d_s01_L090VH_01.cor.grd.tiff\n"
     ]
    }
   ],
   "source": [
    "locs = glob(join('/bsuscratch/zacharykeskinen/data/uavsar/images/','*'))\n",
    "for loc in locs:\n",
    "    print(loc)\n",
    "    pairs = glob(join(loc, '*'))\n",
    "    pair = [p for p in pairs if basename(p) != 'tmp'][0]\n",
    "    images = glob(join(pair, '*'))\n",
    "    image = [i for i in images if 'cor' in i][0]\n",
    "    print(image)\n",
    "    with rio.open(image) as src:\n",
    "        image = src.read(1)\n",
    "    find_best_rotated(image)"
   ]
  },
  {
   "cell_type": "code",
   "execution_count": null,
   "metadata": {},
   "outputs": [],
   "source": []
  }
 ],
 "metadata": {
  "kernelspec": {
   "display_name": "Python 3.9.12 ('proj')",
   "language": "python",
   "name": "python3"
  },
  "language_info": {
   "codemirror_mode": {
    "name": "ipython",
    "version": 3
   },
   "file_extension": ".py",
   "mimetype": "text/x-python",
   "name": "python",
   "nbconvert_exporter": "python",
   "pygments_lexer": "ipython3",
   "version": "3.9.12"
  },
  "orig_nbformat": 4,
  "vscode": {
   "interpreter": {
    "hash": "be18628f3b6aaaf0d9a50c1a0a68c0122e22b01f7b4495836f3dc0caac12767e"
   }
  }
 },
 "nbformat": 4,
 "nbformat_minor": 2
}
