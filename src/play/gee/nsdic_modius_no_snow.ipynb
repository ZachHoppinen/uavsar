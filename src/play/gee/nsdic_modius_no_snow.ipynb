{
 "cells": [
  {
   "cell_type": "markdown",
   "metadata": {},
   "source": [
    "# https://github.com/nsidc/NSIDC-Data-Tutorials/blob/main/notebooks/SnowEx_ASO_MODIS_Snow/Snow-tutorial.ipynb"
   ]
  },
  {
   "cell_type": "code",
   "execution_count": 5,
   "metadata": {},
   "outputs": [],
   "source": [
    "import pandas as pd\n",
    "import numpy as np\n",
    "import pickle\n",
    "import matplotlib.pyplot as plt\n",
    "from os.path import join, expanduser, basename\n",
    "import os\n",
    "import geopandas as gpd\n",
    "import rasterio as rio\n",
    "from shapely.geometry import box\n",
    "from shapely.geometry.polygon import orient\n",
    "import matplotlib as mpl\n",
    "from rasterio.features import dataset_features\n",
    "from shapely.ops import unary_union\n",
    "from shapely.geometry import Point, Polygon\n",
    "import folium\n",
    "from folium import plugins\n",
    "\n",
    "from invert import invert_sd, epsilon_density\n",
    "import nsidc_helpers as fn\n",
    "from folium_vis import add_ee_layer\n",
    "folium.Map.add_ee_layer = add_ee_layer\n"
   ]
  },
  {
   "cell_type": "code",
   "execution_count": 15,
   "metadata": {},
   "outputs": [],
   "source": [
    "def rio_to_exterior(fp, simplify = False):\n",
    "    with rio.open(fp) as src:\n",
    "        shapes = list(dataset_features(src, bidx=1, as_mask=False, geographic=True, band=False))\n",
    "        result = gpd.GeoDataFrame.from_dict(shapes, crs = 'EPSG:4326')\n",
    "        for i in result.index:\n",
    "            result.iloc[i]['geometry'] = Polygon(result.iloc[i]['geometry']['coordinates'][0])\n",
    "        boundary = gpd.GeoSeries(unary_union(result['geometry']))\n",
    "        boundary_gdf = gpd.GeoDataFrame(boundary, columns = ['geometry'], crs = 'EPSG:4326')\n",
    "\n",
    "    if simplify:\n",
    "        boundary_gdf = orient(boundary_gdf.simplify(0.01, preserve_topology=False).loc[0],sign=1.0)\n",
    "    return boundary_gdf"
   ]
  },
  {
   "cell_type": "code",
   "execution_count": 17,
   "metadata": {},
   "outputs": [
    {
     "name": "stderr",
     "output_type": "stream",
     "text": [
      "/bsuhome/zacharykeskinen/miniconda3/envs/proj/lib/python3.9/site-packages/geopandas/geodataframe.py:475: FutureWarning: CRS mismatch between CRS of the passed geometries and 'crs'. Use 'GeoDataFrame.set_crs(crs, allow_override=True)' to overwrite CRS or 'GeoDataFrame.to_crs(crs)' to reproject geometries. CRS mismatch will raise an error in the future versions of GeoPandas.\n",
      "  return GeoDataFrame(dataframe, geometry=geometry, crs=crs)\n"
     ]
    }
   ],
   "source": [
    "with open(expanduser('~/scratch/data/uavsar/image_fps'), 'rb') as f:\n",
    "    image_fps = pickle.load(f)\n",
    "\n",
    "for i in image_fps:\n",
    "    if i['fp'] == '/bsuscratch/zacharykeskinen/data/uavsar/images/Salt Lake City, UT/stlake_27129_21010-001_21011-012_0007d_s01_L090_01_int_grd/stlake_27129_21010-001_21011-012_0007d_s01_L090HH_01.unw.grd.tiff':\n",
    "        if basename(i['fp']).split('_')[-2][-2:] == 'HH':\n",
    "                fp = i['fp']\n",
    "                with rio.open(fp) as src:\n",
    "                    bounds = src.bounds\n",
    "                df = pd.read_csv(i['ann'], index_col = [0])\n",
    "                s = pd.to_datetime(df.loc['value','start time of acquisition for pass 1']).tz_localize(None)\n",
    "                e = pd.to_datetime(df.loc['value','start time of acquisition for pass 2']).tz_localize(None)\n",
    "                cor = i['cor']\n",
    "                b_gdf = rio_to_exterior(i['fp'], simplify = True)"
   ]
  },
  {
   "cell_type": "code",
   "execution_count": 23,
   "metadata": {},
   "outputs": [],
   "source": [
    "polygon = ','.join([str(c) for xy in zip(*poly.exterior.coords.xy) for c in xy])"
   ]
  },
  {
   "cell_type": "code",
   "execution_count": 41,
   "metadata": {},
   "outputs": [
    {
     "data": {
      "text/plain": [
       "numpy.datetime64('2021-02-03T23:10:23.000000000')"
      ]
     },
     "execution_count": 41,
     "metadata": {},
     "output_type": "execute_result"
    }
   ],
   "source": [
    "s.to_datetime64()"
   ]
  },
  {
   "cell_type": "code",
   "execution_count": 58,
   "metadata": {},
   "outputs": [],
   "source": [
    "a = s.strftime('%Y-%m-%dT%H:%M:%SZ')\n",
    "b = e.strftime('%Y-%m-%dT%H:%M:%SZ')\n",
    "temporal = f'{a},{b}'"
   ]
  },
  {
   "cell_type": "code",
   "execution_count": 59,
   "metadata": {},
   "outputs": [
    {
     "data": {
      "text/plain": [
       "'2021-02-03T23:10:23Z,2021-02-10T20:03:35Z'"
      ]
     },
     "execution_count": 59,
     "metadata": {},
     "output_type": "execute_result"
    }
   ],
   "source": [
    "temporal"
   ]
  },
  {
   "cell_type": "code",
   "execution_count": 60,
   "metadata": {},
   "outputs": [],
   "source": [
    "data_dict = {\n",
    "             'modis': {'short_name': 'MOD10A1','version': '6','polygon': polygon,'temporal':temporal}\n",
    "            }"
   ]
  },
  {
   "cell_type": "code",
   "execution_count": 62,
   "metadata": {},
   "outputs": [
    {
     "name": "stdout",
     "output_type": "stream",
     "text": [
      "There are 8 files of MOD10A1 version 6 over my area and time of interest.\n",
      "The average size of each file is 7.32 MB and the total size of all 8 granules is 58.57 MB\n"
     ]
    }
   ],
   "source": [
    "for k, v in data_dict.items(): fn.granule_info(data_dict[k])"
   ]
  },
  {
   "cell_type": "code",
   "execution_count": 63,
   "metadata": {},
   "outputs": [
    {
     "name": "stdout",
     "output_type": "stream",
     "text": [
      "8  total files returned\n"
     ]
    },
    {
     "data": {
      "text/html": [
       "<div>\n",
       "<style scoped>\n",
       "    .dataframe tbody tr th:only-of-type {\n",
       "        vertical-align: middle;\n",
       "    }\n",
       "\n",
       "    .dataframe tbody tr th {\n",
       "        vertical-align: top;\n",
       "    }\n",
       "\n",
       "    .dataframe thead th {\n",
       "        text-align: right;\n",
       "    }\n",
       "</style>\n",
       "<table border=\"1\" class=\"dataframe\">\n",
       "  <thead>\n",
       "    <tr style=\"text-align: right;\">\n",
       "      <th></th>\n",
       "      <th>dataset_id</th>\n",
       "      <th>short_name</th>\n",
       "      <th>version</th>\n",
       "      <th>producer_granule_id</th>\n",
       "      <th>start_date</th>\n",
       "      <th>end_date</th>\n",
       "    </tr>\n",
       "  </thead>\n",
       "  <tbody>\n",
       "    <tr>\n",
       "      <th>0</th>\n",
       "      <td>MODIS/Terra Snow Cover Daily L3 Global 500m SI...</td>\n",
       "      <td>MOD10A1</td>\n",
       "      <td>006</td>\n",
       "      <td>MOD10A1.A2021034.h09v04.006.2021037024759.hdf</td>\n",
       "      <td>2021-02-03T00:00:00.000Z</td>\n",
       "      <td>2021-02-03T23:59:59.000Z</td>\n",
       "    </tr>\n",
       "    <tr>\n",
       "      <th>1</th>\n",
       "      <td>MODIS/Terra Snow Cover Daily L3 Global 500m SI...</td>\n",
       "      <td>MOD10A1</td>\n",
       "      <td>006</td>\n",
       "      <td>MOD10A1.A2021035.h09v04.006.2021037041504.hdf</td>\n",
       "      <td>2021-02-04T00:00:00.000Z</td>\n",
       "      <td>2021-02-04T23:59:59.000Z</td>\n",
       "    </tr>\n",
       "    <tr>\n",
       "      <th>2</th>\n",
       "      <td>MODIS/Terra Snow Cover Daily L3 Global 500m SI...</td>\n",
       "      <td>MOD10A1</td>\n",
       "      <td>006</td>\n",
       "      <td>MOD10A1.A2021036.h09v04.006.2021038043512.hdf</td>\n",
       "      <td>2021-02-05T00:00:00.000Z</td>\n",
       "      <td>2021-02-05T23:59:59.000Z</td>\n",
       "    </tr>\n",
       "    <tr>\n",
       "      <th>3</th>\n",
       "      <td>MODIS/Terra Snow Cover Daily L3 Global 500m SI...</td>\n",
       "      <td>MOD10A1</td>\n",
       "      <td>006</td>\n",
       "      <td>MOD10A1.A2021037.h09v04.006.2021039234913.hdf</td>\n",
       "      <td>2021-02-06T00:00:00.000Z</td>\n",
       "      <td>2021-02-06T23:59:59.000Z</td>\n",
       "    </tr>\n",
       "    <tr>\n",
       "      <th>4</th>\n",
       "      <td>MODIS/Terra Snow Cover Daily L3 Global 500m SI...</td>\n",
       "      <td>MOD10A1</td>\n",
       "      <td>006</td>\n",
       "      <td>MOD10A1.A2021038.h09v04.006.2021040032829.hdf</td>\n",
       "      <td>2021-02-07T00:00:00.000Z</td>\n",
       "      <td>2021-02-07T23:59:59.000Z</td>\n",
       "    </tr>\n",
       "    <tr>\n",
       "      <th>5</th>\n",
       "      <td>MODIS/Terra Snow Cover Daily L3 Global 500m SI...</td>\n",
       "      <td>MOD10A1</td>\n",
       "      <td>006</td>\n",
       "      <td>MOD10A1.A2021039.h09v04.006.2021041035621.hdf</td>\n",
       "      <td>2021-02-08T00:00:00.000Z</td>\n",
       "      <td>2021-02-08T23:59:59.000Z</td>\n",
       "    </tr>\n",
       "    <tr>\n",
       "      <th>6</th>\n",
       "      <td>MODIS/Terra Snow Cover Daily L3 Global 500m SI...</td>\n",
       "      <td>MOD10A1</td>\n",
       "      <td>006</td>\n",
       "      <td>MOD10A1.A2021040.h09v04.006.2021042032856.hdf</td>\n",
       "      <td>2021-02-09T00:00:00.000Z</td>\n",
       "      <td>2021-02-09T23:59:59.000Z</td>\n",
       "    </tr>\n",
       "    <tr>\n",
       "      <th>7</th>\n",
       "      <td>MODIS/Terra Snow Cover Daily L3 Global 500m SI...</td>\n",
       "      <td>MOD10A1</td>\n",
       "      <td>006</td>\n",
       "      <td>MOD10A1.A2021041.h09v04.006.2021043034533.hdf</td>\n",
       "      <td>2021-02-10T00:00:00.000Z</td>\n",
       "      <td>2021-02-10T23:59:59.000Z</td>\n",
       "    </tr>\n",
       "  </tbody>\n",
       "</table>\n",
       "</div>"
      ],
      "text/plain": [
       "                                          dataset_id short_name version  \\\n",
       "0  MODIS/Terra Snow Cover Daily L3 Global 500m SI...    MOD10A1     006   \n",
       "1  MODIS/Terra Snow Cover Daily L3 Global 500m SI...    MOD10A1     006   \n",
       "2  MODIS/Terra Snow Cover Daily L3 Global 500m SI...    MOD10A1     006   \n",
       "3  MODIS/Terra Snow Cover Daily L3 Global 500m SI...    MOD10A1     006   \n",
       "4  MODIS/Terra Snow Cover Daily L3 Global 500m SI...    MOD10A1     006   \n",
       "5  MODIS/Terra Snow Cover Daily L3 Global 500m SI...    MOD10A1     006   \n",
       "6  MODIS/Terra Snow Cover Daily L3 Global 500m SI...    MOD10A1     006   \n",
       "7  MODIS/Terra Snow Cover Daily L3 Global 500m SI...    MOD10A1     006   \n",
       "\n",
       "                             producer_granule_id                start_date  \\\n",
       "0  MOD10A1.A2021034.h09v04.006.2021037024759.hdf  2021-02-03T00:00:00.000Z   \n",
       "1  MOD10A1.A2021035.h09v04.006.2021037041504.hdf  2021-02-04T00:00:00.000Z   \n",
       "2  MOD10A1.A2021036.h09v04.006.2021038043512.hdf  2021-02-05T00:00:00.000Z   \n",
       "3  MOD10A1.A2021037.h09v04.006.2021039234913.hdf  2021-02-06T00:00:00.000Z   \n",
       "4  MOD10A1.A2021038.h09v04.006.2021040032829.hdf  2021-02-07T00:00:00.000Z   \n",
       "5  MOD10A1.A2021039.h09v04.006.2021041035621.hdf  2021-02-08T00:00:00.000Z   \n",
       "6  MOD10A1.A2021040.h09v04.006.2021042032856.hdf  2021-02-09T00:00:00.000Z   \n",
       "7  MOD10A1.A2021041.h09v04.006.2021043034533.hdf  2021-02-10T00:00:00.000Z   \n",
       "\n",
       "                   end_date  \n",
       "0  2021-02-03T23:59:59.000Z  \n",
       "1  2021-02-04T23:59:59.000Z  \n",
       "2  2021-02-05T23:59:59.000Z  \n",
       "3  2021-02-06T23:59:59.000Z  \n",
       "4  2021-02-07T23:59:59.000Z  \n",
       "5  2021-02-08T23:59:59.000Z  \n",
       "6  2021-02-09T23:59:59.000Z  \n",
       "7  2021-02-10T23:59:59.000Z  "
      ]
     },
     "execution_count": 63,
     "metadata": {},
     "output_type": "execute_result"
    }
   ],
   "source": [
    "search_df = fn.time_overlap(data_dict)\n",
    "print(len(search_df), ' total files returned')\n",
    "search_df"
   ]
  },
  {
   "cell_type": "code",
   "execution_count": 64,
   "metadata": {},
   "outputs": [
    {
     "data": {
      "text/plain": [
       "['https://n5eil01u.ecs.nsidc.org/DP4/MOST/MOD10A1.006/2021.02.03/MOD10A1.A2021034.h09v04.006.2021037024759.hdf',\n",
       " 'https://n5eil01u.ecs.nsidc.org/DP4/MOST/MOD10A1.006/2021.02.03/MOD10A1.A2021034.h09v04.006.2021037024759.hdf.xml',\n",
       " 'https://n5eil01u.ecs.nsidc.org/DP4/MOST/MOD10A1.006/2021.02.04/MOD10A1.A2021035.h09v04.006.2021037041504.hdf',\n",
       " 'https://n5eil01u.ecs.nsidc.org/DP4/MOST/MOD10A1.006/2021.02.04/MOD10A1.A2021035.h09v04.006.2021037041504.hdf.xml',\n",
       " 'https://n5eil01u.ecs.nsidc.org/DP4/MOST/MOD10A1.006/2021.02.05/MOD10A1.A2021036.h09v04.006.2021038043512.hdf',\n",
       " 'https://n5eil01u.ecs.nsidc.org/DP4/MOST/MOD10A1.006/2021.02.05/MOD10A1.A2021036.h09v04.006.2021038043512.hdf.xml',\n",
       " 'https://n5eil01u.ecs.nsidc.org/DP4/MOST/MOD10A1.006/2021.02.06/MOD10A1.A2021037.h09v04.006.2021039234913.hdf',\n",
       " 'https://n5eil01u.ecs.nsidc.org/DP4/MOST/MOD10A1.006/2021.02.06/MOD10A1.A2021037.h09v04.006.2021039234913.hdf.xml',\n",
       " 'https://n5eil01u.ecs.nsidc.org/DP4/MOST/MOD10A1.006/2021.02.07/MOD10A1.A2021038.h09v04.006.2021040032829.hdf',\n",
       " 'https://n5eil01u.ecs.nsidc.org/DP4/MOST/MOD10A1.006/2021.02.07/MOD10A1.A2021038.h09v04.006.2021040032829.hdf.xml',\n",
       " 'https://n5eil01u.ecs.nsidc.org/DP4/MOST/MOD10A1.006/2021.02.08/MOD10A1.A2021039.h09v04.006.2021041035621.hdf',\n",
       " 'https://n5eil01u.ecs.nsidc.org/DP4/MOST/MOD10A1.006/2021.02.08/MOD10A1.A2021039.h09v04.006.2021041035621.hdf.xml',\n",
       " 'https://n5eil01u.ecs.nsidc.org/DP4/MOST/MOD10A1.006/2021.02.09/MOD10A1.A2021040.h09v04.006.2021042032856.hdf',\n",
       " 'https://n5eil01u.ecs.nsidc.org/DP4/MOST/MOD10A1.006/2021.02.09/MOD10A1.A2021040.h09v04.006.2021042032856.hdf.xml',\n",
       " 'https://n5eil01u.ecs.nsidc.org/DP4/MOST/MOD10A1.006/2021.02.10/MOD10A1.A2021041.h09v04.006.2021043034533.hdf',\n",
       " 'https://n5eil01u.ecs.nsidc.org/DP4/MOST/MOD10A1.006/2021.02.10/MOD10A1.A2021041.h09v04.006.2021043034533.hdf.xml']"
      ]
     },
     "execution_count": 64,
     "metadata": {},
     "output_type": "execute_result"
    }
   ],
   "source": [
    "# Create new dictionary with fields needed for CMR url search\n",
    "\n",
    "url_df = search_df.drop(columns=['start_date', 'end_date','version','dataset_id'])\n",
    "url_dict = url_df.to_dict('records')\n",
    "\n",
    "# CMR search variables\n",
    "granule_search_url = 'https://cmr.earthdata.nasa.gov/search/granules'\n",
    "headers= {'Accept': 'application/json'}\n",
    "\n",
    "# Create URL list from each df row\n",
    "urls = []\n",
    "for i in range(len(url_dict)):\n",
    "    response = requests.get(granule_search_url, params=url_dict[i], headers=headers)\n",
    "    results = json.loads(response.content)\n",
    "    urls.append(fn.cmr_filter_urls(results))\n",
    "# flatten url list\n",
    "urls = list(np.concatenate(urls))\n",
    "urls"
   ]
  },
  {
   "cell_type": "code",
   "execution_count": 65,
   "metadata": {},
   "outputs": [
    {
     "name": "stdout",
     "output_type": "stream",
     "text": [
      "{'short_name': 'MOD10A1', 'version': '6', 'polygon': '-111.81438888,40.71720156,-111.81744468000001,40.52118588,-111.75460632000001,40.5176856,-111.73877172,40.52446392,-111.7472724,40.54279872,-111.72410388,40.5510216,-111.67082184,40.53818724,-111.65104248,40.55146608,-111.66026544,40.569356400000004,-111.63915264,40.569356400000004,-111.64159728,40.589358,-111.71432532,40.56752292,-111.75738432,40.5788016,-111.7167144,40.59402504,-111.7553286,40.60052556,-111.71965908,40.607415,-111.69182352,40.58874684,-111.6161508,40.6001922,-111.60676116,40.58502432,-111.59348232,40.59108036,-111.59564916000001,40.57702368,-111.54647856,40.5765792,-111.59270448,40.57202328,-111.58037016,40.56030012,-111.59353788,40.56446712,-111.59042652000001,40.54340988,-111.63737472,40.55535528,-111.60098292,40.52979768,-111.63704136,40.543521,-111.61009476,40.5232416,-111.62798508,40.51707444,-111.43758096,40.51674108,-111.43552524,40.69897788,-111.6122616,40.687977000000004,-111.77944164,40.70181144,-111.81438888,40.71720156', 'temporal': '2021-02-03T00:00:00.000Z,2021-02-10T23:59:59.000Z', 'page_size': 2000, 'page_num': 1, 'bbox': '-111.81744468000001,40.51674108,-111.43552524,40.71720156', 'format': 'GeoTIFF'}\n"
     ]
    }
   ],
   "source": [
    "bounds = poly.bounds # Get polygon bounds to be used as bounding box input\n",
    "data_dict['modis']['bbox'] = ','.join(map(str, list(bounds))) # Add bounding box subsetting to MODIS dictionary\n",
    "data_dict['modis']['format'] = 'GeoTIFF' # Add geotiff reformatting to MODIS dictionary\n",
    "\n",
    "# Set new temporal range based on dataframe above. Note that this will request all MOD10A1 data falling within this time range.\n",
    "modis_start = min(search_df.loc[search_df['short_name'] == 'MOD10A1', 'start_date'])\n",
    "modis_end = max(search_df.loc[search_df['short_name'] == 'MOD10A1', 'end_date'])\n",
    "data_dict['modis']['temporal'] = ','.join([modis_start,modis_end])\n",
    "print(data_dict['modis'])"
   ]
  },
  {
   "cell_type": "code",
   "execution_count": 66,
   "metadata": {},
   "outputs": [
    {
     "name": "stdout",
     "output_type": "stream",
     "text": [
      "https://n5eil02u.ecs.nsidc.org/egi/request?short_name=MOD10A1&version=6&polygon=-111.81438888,40.71720156,-111.81744468000001,40.52118588,-111.75460632000001,40.5176856,-111.73877172,40.52446392,-111.7472724,40.54279872,-111.72410388,40.5510216,-111.67082184,40.53818724,-111.65104248,40.55146608,-111.66026544,40.569356400000004,-111.63915264,40.569356400000004,-111.64159728,40.589358,-111.71432532,40.56752292,-111.75738432,40.5788016,-111.7167144,40.59402504,-111.7553286,40.60052556,-111.71965908,40.607415,-111.69182352,40.58874684,-111.6161508,40.6001922,-111.60676116,40.58502432,-111.59348232,40.59108036,-111.59564916000001,40.57702368,-111.54647856,40.5765792,-111.59270448,40.57202328,-111.58037016,40.56030012,-111.59353788,40.56446712,-111.59042652000001,40.54340988,-111.63737472,40.55535528,-111.60098292,40.52979768,-111.63704136,40.543521,-111.61009476,40.5232416,-111.62798508,40.51707444,-111.43758096,40.51674108,-111.43552524,40.69897788,-111.6122616,40.687977000000004,-111.77944164,40.70181144,-111.81438888,40.71720156&temporal=2021-02-03T00:00:00.000Z,2021-02-10T23:59:59.000Z&page_size=2000&page_num=1&bbox=-111.81744468000001,40.51674108,-111.43552524,40.71720156&format=GeoTIFF\n"
     ]
    }
   ],
   "source": [
    "base_url = 'https://n5eil02u.ecs.nsidc.org/egi/request' # Set NSIDC data access base URL\n",
    "#data_dict['modis']['request_mode'] = 'stream' # Set the request mode to asynchronous\n",
    "\n",
    "param_string = '&'.join(\"{!s}={!r}\".format(k,v) for (k,v) in data_dict['modis'].items()) # Convert param_dict to string\n",
    "param_string = param_string.replace(\"'\",\"\") # Remove quotes\n",
    "\n",
    "api_request = [f'{base_url}?{param_string}']\n",
    "print(api_request[0]) # Print API base URL + request parameters"
   ]
  },
  {
   "cell_type": "code",
   "execution_count": null,
   "metadata": {},
   "outputs": [],
   "source": []
  }
 ],
 "metadata": {
  "interpreter": {
   "hash": "be18628f3b6aaaf0d9a50c1a0a68c0122e22b01f7b4495836f3dc0caac12767e"
  },
  "kernelspec": {
   "display_name": "Python 3.9.12 ('proj')",
   "language": "python",
   "name": "python3"
  },
  "language_info": {
   "codemirror_mode": {
    "name": "ipython",
    "version": 3
   },
   "file_extension": ".py",
   "mimetype": "text/x-python",
   "name": "python",
   "nbconvert_exporter": "python",
   "pygments_lexer": "ipython3",
   "version": "3.9.12"
  },
  "orig_nbformat": 4
 },
 "nbformat": 4,
 "nbformat_minor": 2
}
