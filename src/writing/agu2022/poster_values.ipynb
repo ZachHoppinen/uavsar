{
 "cells": [
  {
   "cell_type": "code",
   "execution_count": 2,
   "metadata": {},
   "outputs": [],
   "source": [
    "import os\n",
    "from os.path import join, exists, basename, dirname, expanduser\n",
    "from glob import glob\n",
    "import pickle\n",
    "import numpy as np\n",
    "import pandas as pd\n",
    "import matplotlib.pyplot as plt\n",
    "import xarray as xr\n",
    "import rioxarray as rxa\n",
    "import geopandas as gpd\n",
    "from scipy.optimize import curve_fit\n",
    "from rasterio.enums import Resampling\n",
    "\n",
    "with open(expanduser('~/scratch/data/uavsar/image_fps'), 'rb') as f:\n",
    "    image_fps = pickle.load(f)\n",
    "\n",
    "image_fps = [f for f in image_fps if f['fp'].endswith('.unw.grd.tiff')]"
   ]
  },
  {
   "cell_type": "markdown",
   "metadata": {},
   "source": [
    "# Number of pairs of Lowman and Grand Mesa."
   ]
  },
  {
   "cell_type": "code",
   "execution_count": 4,
   "metadata": {},
   "outputs": [
    {
     "data": {
      "text/plain": [
       "10"
      ]
     },
     "execution_count": 4,
     "metadata": {},
     "output_type": "execute_result"
    }
   ],
   "source": [
    "len([i for i in image_fps if (i['location'] == 'Grand Mesa, CO') & (i['pol'] == 'VV')])"
   ]
  },
  {
   "cell_type": "code",
   "execution_count": 5,
   "metadata": {},
   "outputs": [
    {
     "data": {
      "text/plain": [
       "14"
      ]
     },
     "execution_count": 5,
     "metadata": {},
     "output_type": "execute_result"
    }
   ],
   "source": [
    "len([i for i in image_fps if (i['location'] == 'Lowman, CO') & (i['pol'] == 'VV')])"
   ]
  },
  {
   "cell_type": "code",
   "execution_count": 3,
   "metadata": {},
   "outputs": [
    {
     "data": {
      "text/plain": [
       "89"
      ]
     },
     "execution_count": 3,
     "metadata": {},
     "output_type": "execute_result"
    }
   ],
   "source": [
    "len([i for i in image_fps if  (i['pol'] == 'VV')])"
   ]
  },
  {
   "cell_type": "code",
   "execution_count": 14,
   "metadata": {},
   "outputs": [
    {
     "data": {
      "text/plain": [
       "13"
      ]
     },
     "execution_count": 14,
     "metadata": {},
     "output_type": "execute_result"
    }
   ],
   "source": [
    "len(glob(join('/bsuhome/zacharykeskinen/scratch/data/uavsar/lidar', '*', '*SD*.tif'))) + len(glob(join('/bsuhome/zacharykeskinen/scratch/data/uavsar/lidar', '*', '*snowdepth*.tif')))\\\n",
    "    + len(glob(join('/bsuhome/zacharykeskinen/scratch/data/uavsar/lidar', '*', '*', '*SD*.tif')))"
   ]
  }
 ],
 "metadata": {
  "kernelspec": {
   "display_name": "Python 3.9.13 ('proj')",
   "language": "python",
   "name": "python3"
  },
  "language_info": {
   "codemirror_mode": {
    "name": "ipython",
    "version": 3
   },
   "file_extension": ".py",
   "mimetype": "text/x-python",
   "name": "python",
   "nbconvert_exporter": "python",
   "pygments_lexer": "ipython3",
   "version": "3.9.13"
  },
  "orig_nbformat": 4,
  "vscode": {
   "interpreter": {
    "hash": "be18628f3b6aaaf0d9a50c1a0a68c0122e22b01f7b4495836f3dc0caac12767e"
   }
  }
 },
 "nbformat": 4,
 "nbformat_minor": 2
}
