{
 "cells": [
  {
   "cell_type": "code",
   "execution_count": 1,
   "metadata": {},
   "outputs": [
    {
     "name": "stderr",
     "output_type": "stream",
     "text": [
      "/bsuhome/zacharykeskinen/miniconda3/envs/proj/lib/python3.9/site-packages/tqdm/auto.py:22: TqdmWarning: IProgress not found. Please update jupyter and ipywidgets. See https://ipywidgets.readthedocs.io/en/stable/user_install.html\n",
      "  from .autonotebook import tqdm as notebook_tqdm\n"
     ]
    }
   ],
   "source": [
    "from glob import glob\n",
    "from datetime import datetime, date\n",
    "from os.path import join, basename, expanduser\n",
    "import pickle\n",
    "import numpy as np\n",
    "import pandas as pd\n",
    "import rioxarray as rxa\n",
    "import xarray as xr\n",
    "import matplotlib.pyplot as plt\n",
    "import seaborn as sns\n",
    "from scipy import stats\n",
    "from metloom.pointdata import SnotelPointData\n",
    "from uavsar_pytools.snow_depth_inversion import phase_from_depth, depth_from_phase\n",
    "\n",
    "with open(expanduser('~/scratch/data/uavsar/image_fps'), 'rb') as f:\n",
    "    image_fps = pickle.load(f)\n",
    "lidar_dir = '/bsuhome/zacharykeskinen/scratch/data/uavsar/lidar'\n",
    "fig_dir = '/bsuhome/zacharykeskinen/uavsar/figures/lidar_sd_compare'"
   ]
  },
  {
   "cell_type": "code",
   "execution_count": 2,
   "metadata": {},
   "outputs": [],
   "source": [
    "def get_name(fp):\n",
    "    name = basename(fp)\n",
    "    if '_SD_' in name:\n",
    "        return datetime.strptime(name.split('_')[-2], '%Y%m%d')\n",
    "    elif '-snowdepth' in name:\n",
    "        return datetime.strptime(name.split('_')[0], '%Y%m%d')\n",
    "\n",
    "def get_snow_depth_change(name, date1, date2):\n",
    "    snotels = {'mores':\"637:ID:SNTL\", 'dry_creek':\"978:ID:SNTL\", 'banner':\"312:ID:SNTL\"}\n",
    "    snotel_point = SnotelPointData(snotels[name], name + '_snotel')\n",
    "    df = snotel_point.get_daily_data(\n",
    "        date1, date2,\n",
    "        [snotel_point.ALLOWED_VARIABLES.SNOWDEPTH]\n",
    "    )\n",
    "    if df['SNOWDEPTH_units'].iloc[0] == 'in':\n",
    "        sd = df['SNOWDEPTH']*0.0254\n",
    "        return sd.iloc[-1] - sd.iloc[0]\n",
    "    else:\n",
    "        print('Not in inches?')\n",
    "\n",
    "def get_snotel_loc(name):\n",
    "    snotels = {'mores':\"637:ID:SNTL\", 'dry_creek':\"978:ID:SNTL\", 'banner':\"312:ID:SNTL\"}\n",
    "    snotel_point = SnotelPointData(snotels[name], name + '_snotel')\n",
    "    df = snotel_point.get_daily_data(\n",
    "        '2020-01-01', '2020-01-03',\n",
    "        [snotel_point.ALLOWED_VARIABLES.SNOWDEPTH]\n",
    "    )\n",
    "    return df.geometry.iloc[0]\n",
    "\n",
    "def clean_nps(arrs):\n",
    "    idx = np.zeros_like(arrs[0], dtype = arrs[0].dtype)\n",
    "    for arr in arrs:\n",
    "        idx += arr\n",
    "\n",
    "    for i in range(len(arrs)):\n",
    "        arrs[i] = arrs[i][np.where(~np.isnan(idx))]\n",
    "    return arrs\n",
    "\n",
    "def clean_two_nps(arr1, arr2):\n",
    "    buff = arr1\n",
    "    arr1 = arr1[(~np.isnan(arr1)) & (~np.isnan(arr2))]\n",
    "    arr2 = arr2[(~np.isnan(buff)) & (~np.isnan(arr2))]\n",
    "    return arr1, arr2\n",
    "\n",
    "def datarray_to_numpy(x, y):\n",
    "    if type(x)== xr.core.dataarray.DataArray:\n",
    "        x_dirty = x.values.ravel()\n",
    "        y = y.values.ravel()\n",
    "    else:\n",
    "        x_dirty = x\n",
    "    x = x_dirty[(~np.isnan(x_dirty)) & (~np.isnan(y))]\n",
    "    y = y[(~np.isnan(x_dirty)) & (~np.isnan(y))]\n",
    "    return x, y\n",
    "\n",
    "def r2_value(x, y):\n",
    "    x, y = datarray_to_numpy(x,y)\n",
    "    slope, intercept, r_value, p_value, std_err = stats.linregress(x, y)\n",
    "    print(f'slope: {slope}. intercept: {intercept}. r_value {r_value}. p value: {p_value}')\n",
    "    return slope, intercept, r_value, p_value, x, y\n",
    "\n",
    "def mann_test(x, y, xlabel = 'x', ylabel = 'y'):\n",
    "    x, y = datarray_to_numpy(x,y)\n",
    "    stat, p = mannwhitneyu(x, y)   \n",
    "    print(f'Comparison of {xlabel} vs {ylabel} center has a p value of {p:.10f} of not being from same distribution with {len(x)} observations.')\n",
    "    if p < 0.1:\n",
    "        print(f'Median of {xlabel}: {np.median(x)} compared to median of {ylabel}: {np.median(y)}')\n",
    "\n",
    "from math import cos, sin, asin, sqrt, radians\n",
    "def calc_distance(lat1, lon1, lat2, lon2):\n",
    "    \"\"\"\n",
    "    Calculate the great circle distance between two points\n",
    "    on the earth (specified in decimal degrees)\n",
    "    \"\"\"\n",
    "    # convert decimal degrees to radians\n",
    "    lon1, lat1, lon2, lat2 = map(radians, [lon1, lat1, lon2, lat2])\n",
    "    # haversine formula\n",
    "    dlon = lon2 - lon1\n",
    "    dlat = lat2 - lat1\n",
    "    a = sin(dlat / 2) ** 2 + cos(lat1) * cos(lat2) * sin(dlon / 2) ** 2\n",
    "    c = 2 * asin(sqrt(a))\n",
    "    km = 6371 * c\n",
    "    return km"
   ]
  },
  {
   "cell_type": "code",
   "execution_count": null,
   "metadata": {},
   "outputs": [],
   "source": [
    "low_vv_imgs = [fps for fps in image_fps if (fps['location'] == 'Lowman, CO') & (fps['pol'] == 'VV')]\n",
    "for loc_dir in glob(join(lidar_dir , 'Lowman,_CO', '*')):\n",
    "    sd_fps = glob(join(loc_dir, '*_SD_*')) + glob(join(loc_dir, '*snowdepth*'))\n",
    "    for sd_fp in sd_fps:\n",
    "            print(basename(loc_dir))\n",
    "            print(sd_fp)\n",
    "            sd = rxa.open_rasterio(sd_fp).rio.reproject('EPSG:4326')\n",
    "            lidar_date = pd.Timestamp(get_name(sd_fp).date()).tz_localize('US/MOUNTAIN')\n",
    "            imgs = [im for im in low_vv_imgs if (im['flight1'] < lidar_date) & (im['flight2'] > lidar_date)]\n",
    "            save = True\n",
    "            if len(imgs) == 1:\n",
    "                img = imgs[0]\n",
    "            elif len(imgs) > 1:\n",
    "                img = imgs[1]\n",
    "            elif len(imgs) == 0:\n",
    "                td = pd.Timedelta('1 day')\n",
    "                while len(imgs) == 0:\n",
    "                    imgs = [im for im in low_vv_imgs if (im['flight1'] - td < lidar_date) & (im['flight2'] + td > lidar_date)]\n",
    "                    td += pd.Timedelta('1 day')\n",
    "                img = imgs[0]\n",
    "            phase = rxa.open_rasterio(img['fp'])\n",
    "            phase = phase.rio.clip_box(*sd.rio.bounds())\n",
    "            inc = rxa.open_rasterio(img['inc'])\n",
    "            inc = inc.rio.reproject_match(phase)\n",
    "            cor = rxa.open_rasterio(img['cor'])\n",
    "            cor = cor.rio.reproject_match(phase)\n",
    "            sd_delta = get_snow_depth_change(basename(loc_dir),img['flight1'],img['flight2'])\n",
    "            loc = get_snotel_loc(basename(loc_dir))\n",
    "            snotel_inc = inc.sel(x = loc.x, y = loc.y, method = 'nearest').values[0]\n",
    "            phase_correct = phase_from_depth(sd_delta, inc_angle= snotel_inc, density = 250)\n",
    "            snotel_phase = phase.sel(x= loc.x, y=loc.y, method = 'nearest').values[0]\n",
    "            if np.isnan(snotel_phase):\n",
    "                snotel_phase = 0\n",
    "            uavsar_sd = depth_from_phase(phase.values - (snotel_phase - phase_correct), inc.values, density = 250)\n",
    "            phase.values = uavsar_sd\n",
    "\n",
    "            sd = sd.rio.reproject_match(phase)\n",
    "            sd = sd.where(sd < 10)\n",
    "            sd = sd.where(sd > 0)\n",
    "            # phase = phase.where(phase < )\n",
    "\n",
    "\n",
    "            gs_kw = dict(width_ratios=[1, 1.3], height_ratios=[1, 1])\n",
    "            fig, axes = plt.subplot_mosaic([['upper left', 'right'],\n",
    "                    ['lower left', 'right']],\n",
    "                    figsize=(12, 8), layout=\"constrained\", gridspec_kw=gs_kw)\n",
    "            sd = sd.where(sd < 1000)\n",
    "            sd.where(~np.isnan(phase)).plot(ax = axes['upper left'])\n",
    "            axes['upper left'].set_title('Lidar Snow Depth')\n",
    "            phase.where(~np.isnan(sd)).plot(ax = axes['lower left'])\n",
    "            axes['lower left'].set_title('Uavsar Snow Depth Change')\n",
    "            for ax in ['upper left', 'lower left']:\n",
    "                axes[ax].set_xlabel('')\n",
    "                axes[ax].set_ylabel('')\n",
    "\n",
    "\n",
    "            sds, uav, cors = clean_nps([sd.values.ravel(), phase.values.ravel(), cor.values.ravel()])\n",
    "            cond = (cors > 0.6)\n",
    "            slope, intercept,r,p, _, _ = r2_value(sds[cond], uav[cond])\n",
    "            axes['right'].hist2d(sds[cond], uav[cond], bins = 50)\n",
    "            axes['right'].annotate(text = f'Pearson R: {r:.2}; p: {p:.2}', xy = [0.64,0.97], xycoords = 'axes fraction')\n",
    "            axes['right'].set_xlabel('Lidar Snow Depth')\n",
    "            axes['right'].set_ylabel('Uavsar Snow Depth Change')\n",
    "            name = '_'.join(basename(sd_fp).split('.')[:-1])\n",
    "            fig.suptitle(f'Comparison between Lidar and Uavsar for {name}')\n",
    "            if save:\n",
    "                plt.savefig(join(fig_dir, basename(sd_fp)))\n",
    "            plt.show()\n",
    "            "
   ]
  },
  {
   "cell_type": "code",
   "execution_count": null,
   "metadata": {},
   "outputs": [],
   "source": [
    "from rasterio.enums import Resampling\n",
    "\n",
    "low_vv_imgs = [fps for fps in image_fps if (fps['location'] == 'Lowman, CO') & (fps['pol'] == 'VV')]\n",
    "for loc_dir in glob(join(lidar_dir , 'Lowman,_CO', '*')):\n",
    "    sd_fps = glob(join(loc_dir, '*_SD_*')) + glob(join(loc_dir, '*snowdepth*'))\n",
    "    for sd_fp in sd_fps:\n",
    "        # if sd_fp == '/bsuhome/zacharykeskinen/scratch/data/uavsar/lidar/Lowman,_CO/banner/SNEX20_QSI_SD_0.5M_USIDBS_20200218_20200219.tif':\n",
    "            print(basename(loc_dir))\n",
    "            print(sd_fp)\n",
    "            sd = rxa.open_rasterio(sd_fp).rio.reproject('EPSG:4326')\n",
    "            lidar_date = pd.Timestamp(get_name(sd_fp).date()).tz_localize('US/MOUNTAIN')\n",
    "            imgs = [im for im in low_vv_imgs if (im['flight1'] < lidar_date) & (im['flight2'] > lidar_date)]\n",
    "            if len(imgs) == 1:\n",
    "                img = imgs[0]\n",
    "            elif len(imgs) > 1:\n",
    "                img = imgs[1]\n",
    "                save = True\n",
    "            elif len(imgs) == 0:\n",
    "                td = pd.Timedelta('1 day')\n",
    "                while len(imgs) == 0:\n",
    "                    imgs = [im for im in low_vv_imgs if (im['flight1'] - td < lidar_date) & (im['flight2'] + td > lidar_date)]\n",
    "                    td += pd.Timedelta('1 day')\n",
    "                img = imgs[0]\n",
    "            phase = rxa.open_rasterio(img['fp'])\n",
    "            phase = phase.rio.clip_box(*sd.rio.bounds())\n",
    "\n",
    "            desc = pd.read_csv(img['ann'])\n",
    "                # calculate how to get to 30 metere resolution from 0.0005 degrees\n",
    "            new_res_m = 30\n",
    "            y1 = float(desc['grd.row_addr'][0])\n",
    "            dy = float(desc['grd.row_mult'][0])\n",
    "            x1 = float(desc['grd.col_addr'][0])\n",
    "            dx = float(desc['grd.col_mult'][0])\n",
    "            conversion = (new_res_m/1000) / calc_distance(y1, x1, y1+dy, x1 + dx)\n",
    "            phase = phase.rio.reproject(phase.rio.crs, \\\n",
    "                                            shape = (int(phase.rio.height/conversion), int(phase.rio.width/conversion)),\n",
    "                                            resampling = Resampling.average)\n",
    "\n",
    "            inc = rxa.open_rasterio(img['inc'])\n",
    "            inc = inc.rio.reproject_match(phase)\n",
    "            cor = rxa.open_rasterio(img['cor'])\n",
    "            cor = cor.rio.reproject_match(phase)\n",
    "            sd_delta = get_snow_depth_change(basename(loc_dir),img['flight1'],img['flight2'])\n",
    "            loc = get_snotel_loc(basename(loc_dir))\n",
    "            snotel_inc = inc.sel(x = loc.x, y = loc.y, method = 'nearest').values[0]\n",
    "            phase_correct = phase_from_depth(sd_delta, inc_angle= snotel_inc, density = 250)\n",
    "            snotel_phase = phase.sel(x= loc.x, y=loc.y, method = 'nearest').values[0]\n",
    "            if np.isnan(snotel_phase):\n",
    "                snotel_phase = 0\n",
    "            uavsar_sd = depth_from_phase(phase.values - (snotel_phase - phase_correct), inc.values, density = 250)\n",
    "            phase.values = uavsar_sd\n",
    "\n",
    "            sd = sd.rio.reproject_match(phase)\n",
    "            sd = sd.where(sd < 10)\n",
    "            sd = sd.where(sd > 0)\n",
    "\n",
    "            gs_kw = dict(width_ratios=[1, 1.3], height_ratios=[1, 1])\n",
    "            fig, axes = plt.subplot_mosaic([['upper left', 'right'],\n",
    "                    ['lower left', 'right']],\n",
    "                    figsize=(12, 8), layout=\"constrained\", gridspec_kw=gs_kw)\n",
    "            sd = sd.where(sd < 1000)\n",
    "            sd.where(~np.isnan(phase)).plot(ax = axes['upper left'])\n",
    "            axes['upper left'].set_title('Lidar Snow Depth')\n",
    "            phase.where(~np.isnan(sd)).plot(ax = axes['lower left'])\n",
    "            axes['lower left'].set_title('Uavsar Snow Depth Change')\n",
    "            for ax in ['upper left', 'lower left']:\n",
    "                axes[ax].set_xlabel('')\n",
    "                axes[ax].set_ylabel('')\n",
    "\n",
    "\n",
    "            sds, uav, cors = clean_nps([sd.values.ravel(), phase.values.ravel(), cor.values.ravel()])\n",
    "            cond = (cors > 0.6)\n",
    "            slope, intercept,r,p, _, _ = r2_value(sds[cond], uav[cond])\n",
    "            axes['right'].hist2d(sds[cond], uav[cond], bins = 50)\n",
    "            axes['right'].annotate(text = f'Pearson R: {r:.2}; p: {p:.2}', xy = [0.64,0.97], xycoords = 'axes fraction')\n",
    "            axes['right'].set_xlabel('Lidar Snow Depth')\n",
    "            axes['right'].set_ylabel('Uavsar Snow Depth Change')\n",
    "            name = '_'.join(basename(sd_fp).split('.')[:-1])\n",
    "            fig.suptitle(f'Comparison between Lidar and Uavsar for {name}')\n",
    "            plt.savefig(join(fig_dir, 're30m_'+basename(sd_fp)))\n",
    "            plt.show()\n",
    "            "
   ]
  },
  {
   "cell_type": "code",
   "execution_count": 9,
   "metadata": {},
   "outputs": [
    {
     "name": "stdout",
     "output_type": "stream",
     "text": [
      "mores\n",
      "/bsuhome/zacharykeskinen/scratch/data/uavsar/lidar/Lowman,_CO/mores/SNEX20_QSI_SD_0.5M_USIDMC_20200209_20200209.tif\n",
      "Snow depth change: -0.10159999999999991m\n",
      "No permittivity data provided -- calculating permittivity from snow density using method guneriussen2001.\n",
      "No permittivity data provided -- calculating permittivity from snow density using method guneriussen2001.\n",
      "Snow depth change mean -0.13706105947494507\n",
      "Snow Depth change IQR: 0.08634189702570438\n"
     ]
    },
    {
     "name": "stderr",
     "output_type": "stream",
     "text": [
      "/bsuhome/zacharykeskinen/miniconda3/envs/proj/lib/python3.9/site-packages/rioxarray/raster_writer.py:110: UserWarning: The nodata value (3.402823466e+38) has been automatically changed to (3.4028234663852886e+38) to match the dtype of the data.\n",
      "  warnings.warn(\n"
     ]
    },
    {
     "name": "stdout",
     "output_type": "stream",
     "text": [
      "Lidar Snow depth mean 1.7972980737686157\n",
      "Lidar Snow depth IQR 0.556640625\n",
      "slope: 0.02897686186804471. intercept: -0.18669857791503813. r_value 0.10914773241698797. p value: 5.681599864905123e-39\n",
      "mores\n",
      "/bsuhome/zacharykeskinen/scratch/data/uavsar/lidar/Lowman,_CO/mores/SNEX20_QSI_SD_0.5M_USIDMC_20200209_20200209.tif\n",
      "Snow depth change: 0.5333999999999999m\n",
      "No permittivity data provided -- calculating permittivity from snow density using method guneriussen2001.\n",
      "No permittivity data provided -- calculating permittivity from snow density using method guneriussen2001.\n",
      "Snow depth change mean 0.48184993863105774\n",
      "Snow Depth change IQR: 0.14861156791448593\n"
     ]
    },
    {
     "name": "stderr",
     "output_type": "stream",
     "text": [
      "/bsuhome/zacharykeskinen/miniconda3/envs/proj/lib/python3.9/site-packages/rioxarray/raster_writer.py:110: UserWarning: The nodata value (3.402823466e+38) has been automatically changed to (3.4028234663852886e+38) to match the dtype of the data.\n",
      "  warnings.warn(\n"
     ]
    },
    {
     "name": "stdout",
     "output_type": "stream",
     "text": [
      "Lidar Snow depth mean 1.7972980737686157\n",
      "Lidar Snow depth IQR 0.556640625\n",
      "slope: 0.06638365890246774. intercept: 0.39778451238200185. r_value 0.2391465536173309. p value: 1.0125296301846073e-225\n",
      "mores\n",
      "/bsuhome/zacharykeskinen/scratch/data/uavsar/lidar/Lowman,_CO/mores/SNEX20_QSI_SD_0.5M_USIDMC_20200209_20200209.tif\n",
      "Snow depth change: -0.127m\n",
      "No permittivity data provided -- calculating permittivity from snow density using method guneriussen2001.\n",
      "No permittivity data provided -- calculating permittivity from snow density using method guneriussen2001.\n",
      "Snow depth change mean -0.11371016502380371\n",
      "Snow Depth change IQR: 0.048502903431653976\n"
     ]
    },
    {
     "name": "stderr",
     "output_type": "stream",
     "text": [
      "/bsuhome/zacharykeskinen/miniconda3/envs/proj/lib/python3.9/site-packages/rioxarray/raster_writer.py:110: UserWarning: The nodata value (3.402823466e+38) has been automatically changed to (3.4028234663852886e+38) to match the dtype of the data.\n",
      "  warnings.warn(\n"
     ]
    },
    {
     "name": "stdout",
     "output_type": "stream",
     "text": [
      "Lidar Snow depth mean 1.7972980737686157\n",
      "Lidar Snow depth IQR 0.556640625\n",
      "slope: 0.030377157702099693. intercept: -0.16443917061221636. r_value 0.29941837161006846. p value: 0.0\n",
      "mores\n",
      "/bsuhome/zacharykeskinen/scratch/data/uavsar/lidar/Lowman,_CO/mores/SNEX20_QSI_SD_0.5M_USIDMC_20200209_20200209.tif\n",
      "Snow depth change: -0.127m\n",
      "No permittivity data provided -- calculating permittivity from snow density using method guneriussen2001.\n",
      "No permittivity data provided -- calculating permittivity from snow density using method guneriussen2001.\n",
      "Snow depth change mean -0.14317084848880768\n",
      "Snow Depth change IQR: 0.05984546057879925\n"
     ]
    },
    {
     "name": "stderr",
     "output_type": "stream",
     "text": [
      "/bsuhome/zacharykeskinen/miniconda3/envs/proj/lib/python3.9/site-packages/rioxarray/raster_writer.py:110: UserWarning: The nodata value (3.402823466e+38) has been automatically changed to (3.4028234663852886e+38) to match the dtype of the data.\n",
      "  warnings.warn(\n"
     ]
    },
    {
     "name": "stdout",
     "output_type": "stream",
     "text": [
      "Lidar Snow depth mean 1.7972980737686157\n",
      "Lidar Snow depth IQR 0.556640625\n",
      "slope: 0.050033931968171894. intercept: -0.22813559738973055. r_value 0.47729804395289877. p value: 0.0\n",
      "mores\n",
      "/bsuhome/zacharykeskinen/scratch/data/uavsar/lidar/Lowman,_CO/mores/SNEX20_QSI_SD_0.5M_USIDMC_20200209_20200209.tif\n"
     ]
    },
    {
     "ename": "KeyboardInterrupt",
     "evalue": "",
     "output_type": "error",
     "traceback": [
      "\u001b[0;31m---------------------------------------------------------------------------\u001b[0m",
      "\u001b[0;31mKeyboardInterrupt\u001b[0m                         Traceback (most recent call last)",
      "\u001b[1;32m/bsuhome/zacharykeskinen/uavsar/src/lidar_compare/lidar_compare.ipynb Cell 5\u001b[0m in \u001b[0;36m<cell line: 4>\u001b[0;34m()\u001b[0m\n\u001b[1;32m     <a href='vscode-notebook-cell://ssh-remote%2Bborah/bsuhome/zacharykeskinen/uavsar/src/lidar_compare/lidar_compare.ipynb#W4sdnNjb2RlLXJlbW90ZQ%3D%3D?line=30'>31</a>\u001b[0m cor \u001b[39m=\u001b[39m rxa\u001b[39m.\u001b[39mopen_rasterio(img[\u001b[39m'\u001b[39m\u001b[39mcor\u001b[39m\u001b[39m'\u001b[39m])\n\u001b[1;32m     <a href='vscode-notebook-cell://ssh-remote%2Bborah/bsuhome/zacharykeskinen/uavsar/src/lidar_compare/lidar_compare.ipynb#W4sdnNjb2RlLXJlbW90ZQ%3D%3D?line=31'>32</a>\u001b[0m cor \u001b[39m=\u001b[39m cor\u001b[39m.\u001b[39mrio\u001b[39m.\u001b[39mreproject_match(phase)\n\u001b[0;32m---> <a href='vscode-notebook-cell://ssh-remote%2Bborah/bsuhome/zacharykeskinen/uavsar/src/lidar_compare/lidar_compare.ipynb#W4sdnNjb2RlLXJlbW90ZQ%3D%3D?line=32'>33</a>\u001b[0m sd_delta \u001b[39m=\u001b[39m get_snow_depth_change(basename(loc_dir),img[\u001b[39m'\u001b[39;49m\u001b[39mflight1\u001b[39;49m\u001b[39m'\u001b[39;49m],img[\u001b[39m'\u001b[39;49m\u001b[39mflight2\u001b[39;49m\u001b[39m'\u001b[39;49m])\n\u001b[1;32m     <a href='vscode-notebook-cell://ssh-remote%2Bborah/bsuhome/zacharykeskinen/uavsar/src/lidar_compare/lidar_compare.ipynb#W4sdnNjb2RlLXJlbW90ZQ%3D%3D?line=33'>34</a>\u001b[0m \u001b[39mprint\u001b[39m(\u001b[39mf\u001b[39m\u001b[39m'\u001b[39m\u001b[39mSnow depth change: \u001b[39m\u001b[39m{\u001b[39;00msd_delta\u001b[39m}\u001b[39;00m\u001b[39mm\u001b[39m\u001b[39m'\u001b[39m)\n\u001b[1;32m     <a href='vscode-notebook-cell://ssh-remote%2Bborah/bsuhome/zacharykeskinen/uavsar/src/lidar_compare/lidar_compare.ipynb#W4sdnNjb2RlLXJlbW90ZQ%3D%3D?line=34'>35</a>\u001b[0m loc \u001b[39m=\u001b[39m get_snotel_loc(basename(loc_dir))\n",
      "\u001b[1;32m/bsuhome/zacharykeskinen/uavsar/src/lidar_compare/lidar_compare.ipynb Cell 5\u001b[0m in \u001b[0;36mget_snow_depth_change\u001b[0;34m(name, date1, date2)\u001b[0m\n\u001b[1;32m      <a href='vscode-notebook-cell://ssh-remote%2Bborah/bsuhome/zacharykeskinen/uavsar/src/lidar_compare/lidar_compare.ipynb#W4sdnNjb2RlLXJlbW90ZQ%3D%3D?line=8'>9</a>\u001b[0m snotels \u001b[39m=\u001b[39m {\u001b[39m'\u001b[39m\u001b[39mmores\u001b[39m\u001b[39m'\u001b[39m:\u001b[39m\"\u001b[39m\u001b[39m637:ID:SNTL\u001b[39m\u001b[39m\"\u001b[39m, \u001b[39m'\u001b[39m\u001b[39mdry_creek\u001b[39m\u001b[39m'\u001b[39m:\u001b[39m\"\u001b[39m\u001b[39m978:ID:SNTL\u001b[39m\u001b[39m\"\u001b[39m, \u001b[39m'\u001b[39m\u001b[39mbanner\u001b[39m\u001b[39m'\u001b[39m:\u001b[39m\"\u001b[39m\u001b[39m312:ID:SNTL\u001b[39m\u001b[39m\"\u001b[39m}\n\u001b[1;32m     <a href='vscode-notebook-cell://ssh-remote%2Bborah/bsuhome/zacharykeskinen/uavsar/src/lidar_compare/lidar_compare.ipynb#W4sdnNjb2RlLXJlbW90ZQ%3D%3D?line=9'>10</a>\u001b[0m snotel_point \u001b[39m=\u001b[39m SnotelPointData(snotels[name], name \u001b[39m+\u001b[39m \u001b[39m'\u001b[39m\u001b[39m_snotel\u001b[39m\u001b[39m'\u001b[39m)\n\u001b[0;32m---> <a href='vscode-notebook-cell://ssh-remote%2Bborah/bsuhome/zacharykeskinen/uavsar/src/lidar_compare/lidar_compare.ipynb#W4sdnNjb2RlLXJlbW90ZQ%3D%3D?line=10'>11</a>\u001b[0m df \u001b[39m=\u001b[39m snotel_point\u001b[39m.\u001b[39;49mget_daily_data(\n\u001b[1;32m     <a href='vscode-notebook-cell://ssh-remote%2Bborah/bsuhome/zacharykeskinen/uavsar/src/lidar_compare/lidar_compare.ipynb#W4sdnNjb2RlLXJlbW90ZQ%3D%3D?line=11'>12</a>\u001b[0m     date1, date2,\n\u001b[1;32m     <a href='vscode-notebook-cell://ssh-remote%2Bborah/bsuhome/zacharykeskinen/uavsar/src/lidar_compare/lidar_compare.ipynb#W4sdnNjb2RlLXJlbW90ZQ%3D%3D?line=12'>13</a>\u001b[0m     [snotel_point\u001b[39m.\u001b[39;49mALLOWED_VARIABLES\u001b[39m.\u001b[39;49mSNOWDEPTH]\n\u001b[1;32m     <a href='vscode-notebook-cell://ssh-remote%2Bborah/bsuhome/zacharykeskinen/uavsar/src/lidar_compare/lidar_compare.ipynb#W4sdnNjb2RlLXJlbW90ZQ%3D%3D?line=13'>14</a>\u001b[0m )\n\u001b[1;32m     <a href='vscode-notebook-cell://ssh-remote%2Bborah/bsuhome/zacharykeskinen/uavsar/src/lidar_compare/lidar_compare.ipynb#W4sdnNjb2RlLXJlbW90ZQ%3D%3D?line=14'>15</a>\u001b[0m \u001b[39mif\u001b[39;00m df[\u001b[39m'\u001b[39m\u001b[39mSNOWDEPTH_units\u001b[39m\u001b[39m'\u001b[39m]\u001b[39m.\u001b[39miloc[\u001b[39m0\u001b[39m] \u001b[39m==\u001b[39m \u001b[39m'\u001b[39m\u001b[39min\u001b[39m\u001b[39m'\u001b[39m:\n\u001b[1;32m     <a href='vscode-notebook-cell://ssh-remote%2Bborah/bsuhome/zacharykeskinen/uavsar/src/lidar_compare/lidar_compare.ipynb#W4sdnNjb2RlLXJlbW90ZQ%3D%3D?line=15'>16</a>\u001b[0m     sd \u001b[39m=\u001b[39m df[\u001b[39m'\u001b[39m\u001b[39mSNOWDEPTH\u001b[39m\u001b[39m'\u001b[39m]\u001b[39m*\u001b[39m\u001b[39m0.0254\u001b[39m\n",
      "File \u001b[0;32m~/miniconda3/envs/proj/lib/python3.9/site-packages/metloom/pointdata/snotel.py:146\u001b[0m, in \u001b[0;36mSnotelPointData.get_daily_data\u001b[0;34m(self, start_date, end_date, variables)\u001b[0m\n\u001b[1;32m    138\u001b[0m \u001b[39m\"\"\"\u001b[39;00m\n\u001b[1;32m    139\u001b[0m \u001b[39mSee docstring for PointData.get_daily_data\u001b[39;00m\n\u001b[1;32m    140\u001b[0m \u001b[39m\"\"\"\u001b[39;00m\n\u001b[1;32m    141\u001b[0m client \u001b[39m=\u001b[39m DailySnotelDataClient(\n\u001b[1;32m    142\u001b[0m     station_triplet\u001b[39m=\u001b[39m\u001b[39mself\u001b[39m\u001b[39m.\u001b[39mid,\n\u001b[1;32m    143\u001b[0m     begin_date\u001b[39m=\u001b[39mstart_date,\n\u001b[1;32m    144\u001b[0m     end_date\u001b[39m=\u001b[39mend_date,\n\u001b[1;32m    145\u001b[0m )\n\u001b[0;32m--> 146\u001b[0m \u001b[39mreturn\u001b[39;00m \u001b[39mself\u001b[39;49m\u001b[39m.\u001b[39;49m_fetch_data_for_variables(client, variables, client\u001b[39m.\u001b[39;49mDURATION)\n",
      "File \u001b[0;32m~/miniconda3/envs/proj/lib/python3.9/site-packages/metloom/pointdata/snotel.py:128\u001b[0m, in \u001b[0;36mSnotelPointData._fetch_data_for_variables\u001b[0;34m(self, client, variables, duration, include_measurement_date, extra_params)\u001b[0m\n\u001b[1;32m    126\u001b[0m     \u001b[39melse\u001b[39;00m:\n\u001b[1;32m    127\u001b[0m         LOG\u001b[39m.\u001b[39mwarning(\u001b[39mf\u001b[39m\u001b[39m\"\u001b[39m\u001b[39mNo \u001b[39m\u001b[39m{\u001b[39;00mvariable\u001b[39m.\u001b[39mname\u001b[39m}\u001b[39;00m\u001b[39m found for \u001b[39m\u001b[39m{\u001b[39;00m\u001b[39mself\u001b[39m\u001b[39m.\u001b[39mname\u001b[39m}\u001b[39;00m\u001b[39m\"\u001b[39m)\n\u001b[0;32m--> 128\u001b[0m \u001b[39mreturn\u001b[39;00m \u001b[39mself\u001b[39;49m\u001b[39m.\u001b[39;49m_snotel_response_to_df(\n\u001b[1;32m    129\u001b[0m     result_map, duration, include_measurement_date\u001b[39m=\u001b[39;49minclude_measurement_date\n\u001b[1;32m    130\u001b[0m )\n",
      "File \u001b[0;32m~/miniconda3/envs/proj/lib/python3.9/site-packages/metloom/pointdata/snotel.py:71\u001b[0m, in \u001b[0;36mSnotelPointData._snotel_response_to_df\u001b[0;34m(self, result_map, duration, include_measurement_date)\u001b[0m\n\u001b[1;32m     65\u001b[0m transformed \u001b[39m=\u001b[39m []\n\u001b[1;32m     66\u001b[0m \u001b[39mfor\u001b[39;00m row \u001b[39min\u001b[39;00m data:\n\u001b[1;32m     67\u001b[0m     row_obj \u001b[39m=\u001b[39m {\n\u001b[1;32m     68\u001b[0m         \u001b[39m\"\u001b[39m\u001b[39mdatetime\u001b[39m\u001b[39m\"\u001b[39m: row[\u001b[39m\"\u001b[39m\u001b[39mdatetime\u001b[39m\u001b[39m\"\u001b[39m],\n\u001b[1;32m     69\u001b[0m         \u001b[39m\"\u001b[39m\u001b[39msite\u001b[39m\u001b[39m\"\u001b[39m: \u001b[39mself\u001b[39m\u001b[39m.\u001b[39mid,\n\u001b[1;32m     70\u001b[0m         variable\u001b[39m.\u001b[39mname: row[\u001b[39m\"\u001b[39m\u001b[39mvalue\u001b[39m\u001b[39m\"\u001b[39m],\n\u001b[0;32m---> 71\u001b[0m         \u001b[39mf\u001b[39m\u001b[39m\"\u001b[39m\u001b[39m{\u001b[39;00mvariable\u001b[39m.\u001b[39mname\u001b[39m}\u001b[39;00m\u001b[39m_units\u001b[39m\u001b[39m\"\u001b[39m: \u001b[39mself\u001b[39;49m\u001b[39m.\u001b[39;49m_get_units(variable, duration),\n\u001b[1;32m     72\u001b[0m     }\n\u001b[1;32m     73\u001b[0m     \u001b[39mif\u001b[39;00m include_measurement_date:\n\u001b[1;32m     74\u001b[0m         row_obj[\u001b[39m\"\u001b[39m\u001b[39mmeasurementDate\u001b[39m\u001b[39m\"\u001b[39m] \u001b[39m=\u001b[39m row[\u001b[39m\"\u001b[39m\u001b[39mdatetime\u001b[39m\u001b[39m\"\u001b[39m]\n",
      "File \u001b[0;32m~/miniconda3/envs/proj/lib/python3.9/site-packages/metloom/pointdata/snotel.py:206\u001b[0m, in \u001b[0;36mSnotelPointData._get_units\u001b[0;34m(self, variable, duration)\u001b[0m\n\u001b[1;32m    204\u001b[0m \u001b[39mdef\u001b[39;00m \u001b[39m_get_units\u001b[39m(\u001b[39mself\u001b[39m, variable: SensorDescription, duration: \u001b[39mstr\u001b[39m):\n\u001b[1;32m    205\u001b[0m     units \u001b[39m=\u001b[39m \u001b[39mNone\u001b[39;00m\n\u001b[0;32m--> 206\u001b[0m     \u001b[39mfor\u001b[39;00m meta \u001b[39min\u001b[39;00m \u001b[39mself\u001b[39;49m\u001b[39m.\u001b[39;49m_get_all_elements():\n\u001b[1;32m    207\u001b[0m         \u001b[39mif\u001b[39;00m meta[\u001b[39m\"\u001b[39m\u001b[39melementCd\u001b[39m\u001b[39m\"\u001b[39m] \u001b[39m==\u001b[39m variable\u001b[39m.\u001b[39mcode \u001b[39mand\u001b[39;00m meta[\u001b[39m\"\u001b[39m\u001b[39mduration\u001b[39m\u001b[39m\"\u001b[39m] \u001b[39m==\u001b[39m duration:\n\u001b[1;32m    208\u001b[0m             units \u001b[39m=\u001b[39m meta[\u001b[39m\"\u001b[39m\u001b[39mstoredUnitCd\u001b[39m\u001b[39m\"\u001b[39m]\n",
      "File \u001b[0;32m~/miniconda3/envs/proj/lib/python3.9/site-packages/metloom/pointdata/snotel.py:201\u001b[0m, in \u001b[0;36mSnotelPointData._get_all_elements\u001b[0;34m(self)\u001b[0m\n\u001b[1;32m    199\u001b[0m \u001b[39mif\u001b[39;00m \u001b[39mself\u001b[39m\u001b[39m.\u001b[39m_raw_elements \u001b[39mis\u001b[39;00m \u001b[39mNone\u001b[39;00m:\n\u001b[1;32m    200\u001b[0m     client \u001b[39m=\u001b[39m ElementSnotelClient(station_triplet\u001b[39m=\u001b[39m\u001b[39mself\u001b[39m\u001b[39m.\u001b[39mid)\n\u001b[0;32m--> 201\u001b[0m     \u001b[39mself\u001b[39m\u001b[39m.\u001b[39m_raw_elements \u001b[39m=\u001b[39m client\u001b[39m.\u001b[39;49mget_data()\n\u001b[1;32m    202\u001b[0m \u001b[39mreturn\u001b[39;00m \u001b[39mself\u001b[39m\u001b[39m.\u001b[39m_raw_elements\n",
      "File \u001b[0;32m~/miniconda3/envs/proj/lib/python3.9/site-packages/metloom/pointdata/snotel_client.py:84\u001b[0m, in \u001b[0;36mBaseSnotelClient.get_data\u001b[0;34m(self)\u001b[0m\n\u001b[1;32m     80\u001b[0m \u001b[39mdef\u001b[39;00m \u001b[39mget_data\u001b[39m(\u001b[39mself\u001b[39m):\n\u001b[1;32m     81\u001b[0m     \u001b[39m\"\"\"\u001b[39;00m\n\u001b[1;32m     82\u001b[0m \u001b[39m    Make the actual request and return data.\u001b[39;00m\n\u001b[1;32m     83\u001b[0m \u001b[39m    \"\"\"\u001b[39;00m\n\u001b[0;32m---> 84\u001b[0m     data \u001b[39m=\u001b[39m \u001b[39mself\u001b[39;49m\u001b[39m.\u001b[39;49m_make_request(\u001b[39m*\u001b[39;49m\u001b[39m*\u001b[39;49m\u001b[39mself\u001b[39;49m\u001b[39m.\u001b[39;49mparams)\n\u001b[1;32m     85\u001b[0m     \u001b[39mreturn\u001b[39;00m data\n",
      "File \u001b[0;32m~/miniconda3/envs/proj/lib/python3.9/site-packages/metloom/pointdata/snotel_client.py:73\u001b[0m, in \u001b[0;36mBaseSnotelClient._make_request\u001b[0;34m(cls, **params)\u001b[0m\n\u001b[1;32m     69\u001b[0m \u001b[39m\"\"\"\u001b[39;00m\n\u001b[1;32m     70\u001b[0m \u001b[39mMake the request to the SOAP client for the implemented service.\u001b[39;00m\n\u001b[1;32m     71\u001b[0m \u001b[39m\"\"\"\u001b[39;00m\n\u001b[1;32m     72\u001b[0m \u001b[39mwith\u001b[39;00m no_ssl_verification():\n\u001b[0;32m---> 73\u001b[0m     client \u001b[39m=\u001b[39m zeep\u001b[39m.\u001b[39;49mClient(\n\u001b[1;32m     74\u001b[0m         \u001b[39mcls\u001b[39;49m\u001b[39m.\u001b[39;49mURL,\n\u001b[1;32m     75\u001b[0m     )\n\u001b[1;32m     76\u001b[0m     service \u001b[39m=\u001b[39m \u001b[39mgetattr\u001b[39m(client\u001b[39m.\u001b[39mservice, \u001b[39mcls\u001b[39m\u001b[39m.\u001b[39mSERVICE_NAME)\n\u001b[1;32m     77\u001b[0m     response \u001b[39m=\u001b[39m service(\u001b[39m*\u001b[39m\u001b[39m*\u001b[39mparams)\n",
      "File \u001b[0;32m~/miniconda3/envs/proj/lib/python3.9/site-packages/zeep/client.py:73\u001b[0m, in \u001b[0;36mClient.__init__\u001b[0;34m(self, wsdl, wsse, transport, service_name, port_name, plugins, settings)\u001b[0m\n\u001b[1;32m     69\u001b[0m \u001b[39mself\u001b[39m\u001b[39m.\u001b[39msettings \u001b[39m=\u001b[39m settings \u001b[39mor\u001b[39;00m Settings()\n\u001b[1;32m     70\u001b[0m \u001b[39mself\u001b[39m\u001b[39m.\u001b[39mtransport \u001b[39m=\u001b[39m (\n\u001b[1;32m     71\u001b[0m     transport \u001b[39mif\u001b[39;00m transport \u001b[39mis\u001b[39;00m \u001b[39mnot\u001b[39;00m \u001b[39mNone\u001b[39;00m \u001b[39melse\u001b[39;00m \u001b[39mself\u001b[39m\u001b[39m.\u001b[39m_default_transport()\n\u001b[1;32m     72\u001b[0m )\n\u001b[0;32m---> 73\u001b[0m \u001b[39mself\u001b[39m\u001b[39m.\u001b[39mwsdl \u001b[39m=\u001b[39m Document(wsdl, \u001b[39mself\u001b[39;49m\u001b[39m.\u001b[39;49mtransport, settings\u001b[39m=\u001b[39;49m\u001b[39mself\u001b[39;49m\u001b[39m.\u001b[39;49msettings)\n\u001b[1;32m     74\u001b[0m \u001b[39mself\u001b[39m\u001b[39m.\u001b[39mwsse \u001b[39m=\u001b[39m wsse\n\u001b[1;32m     75\u001b[0m \u001b[39mself\u001b[39m\u001b[39m.\u001b[39mplugins \u001b[39m=\u001b[39m plugins \u001b[39mif\u001b[39;00m plugins \u001b[39mis\u001b[39;00m \u001b[39mnot\u001b[39;00m \u001b[39mNone\u001b[39;00m \u001b[39melse\u001b[39;00m []\n",
      "File \u001b[0;32m~/miniconda3/envs/proj/lib/python3.9/site-packages/zeep/wsdl/wsdl.py:92\u001b[0m, in \u001b[0;36mDocument.__init__\u001b[0;34m(self, location, transport, base, settings)\u001b[0m\n\u001b[1;32m     83\u001b[0m \u001b[39mself\u001b[39m\u001b[39m.\u001b[39m_definitions \u001b[39m=\u001b[39m (\n\u001b[1;32m     84\u001b[0m     {}\n\u001b[1;32m     85\u001b[0m )  \u001b[39m# type: typing.Dict[typing.Tuple[str, str], \"Definition\"]\u001b[39;00m\n\u001b[1;32m     86\u001b[0m \u001b[39mself\u001b[39m\u001b[39m.\u001b[39mtypes \u001b[39m=\u001b[39m Schema(\n\u001b[1;32m     87\u001b[0m     node\u001b[39m=\u001b[39m\u001b[39mNone\u001b[39;00m,\n\u001b[1;32m     88\u001b[0m     transport\u001b[39m=\u001b[39m\u001b[39mself\u001b[39m\u001b[39m.\u001b[39mtransport,\n\u001b[1;32m     89\u001b[0m     location\u001b[39m=\u001b[39m\u001b[39mself\u001b[39m\u001b[39m.\u001b[39mlocation,\n\u001b[1;32m     90\u001b[0m     settings\u001b[39m=\u001b[39m\u001b[39mself\u001b[39m\u001b[39m.\u001b[39msettings,\n\u001b[1;32m     91\u001b[0m )\n\u001b[0;32m---> 92\u001b[0m \u001b[39mself\u001b[39;49m\u001b[39m.\u001b[39;49mload(location)\n",
      "File \u001b[0;32m~/miniconda3/envs/proj/lib/python3.9/site-packages/zeep/wsdl/wsdl.py:97\u001b[0m, in \u001b[0;36mDocument.load\u001b[0;34m(self, location)\u001b[0m\n\u001b[1;32m     94\u001b[0m \u001b[39mdef\u001b[39;00m \u001b[39mload\u001b[39m(\u001b[39mself\u001b[39m, location):\n\u001b[1;32m     95\u001b[0m     document \u001b[39m=\u001b[39m \u001b[39mself\u001b[39m\u001b[39m.\u001b[39m_get_xml_document(location)\n\u001b[0;32m---> 97\u001b[0m     root_definitions \u001b[39m=\u001b[39m Definition(\u001b[39mself\u001b[39;49m, document, \u001b[39mself\u001b[39;49m\u001b[39m.\u001b[39;49mlocation)\n\u001b[1;32m     98\u001b[0m     root_definitions\u001b[39m.\u001b[39mresolve_imports()\n\u001b[1;32m    100\u001b[0m     \u001b[39m# Make the wsdl definitions public\u001b[39;00m\n",
      "File \u001b[0;32m~/miniconda3/envs/proj/lib/python3.9/site-packages/zeep/wsdl/wsdl.py:193\u001b[0m, in \u001b[0;36mDefinition.__init__\u001b[0;34m(self, wsdl, doc, location)\u001b[0m\n\u001b[1;32m    191\u001b[0m \u001b[39mself\u001b[39m\u001b[39m.\u001b[39mwsdl\u001b[39m.\u001b[39m_add_definition(\u001b[39mself\u001b[39m)\n\u001b[1;32m    192\u001b[0m \u001b[39mself\u001b[39m\u001b[39m.\u001b[39mnsmap \u001b[39m=\u001b[39m doc\u001b[39m.\u001b[39mnsmap\n\u001b[0;32m--> 193\u001b[0m \u001b[39mself\u001b[39;49m\u001b[39m.\u001b[39;49m_load(doc)\n",
      "File \u001b[0;32m~/miniconda3/envs/proj/lib/python3.9/site-packages/zeep/wsdl/wsdl.py:198\u001b[0m, in \u001b[0;36mDefinition._load\u001b[0;34m(self, doc)\u001b[0m\n\u001b[1;32m    195\u001b[0m \u001b[39mdef\u001b[39;00m \u001b[39m_load\u001b[39m(\u001b[39mself\u001b[39m, doc):\n\u001b[1;32m    196\u001b[0m     \u001b[39mself\u001b[39m\u001b[39m.\u001b[39mparse_imports(doc)\n\u001b[0;32m--> 198\u001b[0m     \u001b[39mself\u001b[39;49m\u001b[39m.\u001b[39;49mparse_types(doc)\n\u001b[1;32m    199\u001b[0m     \u001b[39mself\u001b[39m\u001b[39m.\u001b[39mmessages \u001b[39m=\u001b[39m \u001b[39mself\u001b[39m\u001b[39m.\u001b[39mparse_messages(doc)\n\u001b[1;32m    200\u001b[0m     \u001b[39mself\u001b[39m\u001b[39m.\u001b[39mport_types \u001b[39m=\u001b[39m \u001b[39mself\u001b[39m\u001b[39m.\u001b[39mparse_ports(doc)\n",
      "File \u001b[0;32m~/miniconda3/envs/proj/lib/python3.9/site-packages/zeep/wsdl/wsdl.py:330\u001b[0m, in \u001b[0;36mDefinition.parse_types\u001b[0;34m(self, doc)\u001b[0m\n\u001b[1;32m    328\u001b[0m \u001b[39m# Find xsd:schema elements (wsdl:types/xsd:schema)\u001b[39;00m\n\u001b[1;32m    329\u001b[0m schema_nodes \u001b[39m=\u001b[39m findall_multiple_ns(doc, \u001b[39m\"\u001b[39m\u001b[39mwsdl:types/xsd:schema\u001b[39m\u001b[39m\"\u001b[39m, namespace_sets)\n\u001b[0;32m--> 330\u001b[0m \u001b[39mself\u001b[39;49m\u001b[39m.\u001b[39;49mtypes\u001b[39m.\u001b[39;49madd_documents(schema_nodes, \u001b[39mself\u001b[39;49m\u001b[39m.\u001b[39;49mlocation)\n",
      "File \u001b[0;32m~/miniconda3/envs/proj/lib/python3.9/site-packages/zeep/xsd/schema.py:111\u001b[0m, in \u001b[0;36mSchema.add_documents\u001b[0;34m(self, schema_nodes, location)\u001b[0m\n\u001b[1;32m    109\u001b[0m resolve_queue \u001b[39m=\u001b[39m []\n\u001b[1;32m    110\u001b[0m \u001b[39mfor\u001b[39;00m node \u001b[39min\u001b[39;00m schema_nodes:\n\u001b[0;32m--> 111\u001b[0m     document \u001b[39m=\u001b[39m \u001b[39mself\u001b[39;49m\u001b[39m.\u001b[39;49mcreate_new_document(node, location)\n\u001b[1;32m    112\u001b[0m     resolve_queue\u001b[39m.\u001b[39mappend(document)\n\u001b[1;32m    114\u001b[0m \u001b[39mfor\u001b[39;00m document \u001b[39min\u001b[39;00m resolve_queue:\n",
      "File \u001b[0;32m~/miniconda3/envs/proj/lib/python3.9/site-packages/zeep/xsd/schema.py:195\u001b[0m, in \u001b[0;36mSchema.create_new_document\u001b[0;34m(self, node, url, base_url, target_namespace)\u001b[0m\n\u001b[1;32m    193\u001b[0m schema \u001b[39m=\u001b[39m SchemaDocument(namespace, url, base_url)\n\u001b[1;32m    194\u001b[0m \u001b[39mself\u001b[39m\u001b[39m.\u001b[39mdocuments\u001b[39m.\u001b[39madd(schema)\n\u001b[0;32m--> 195\u001b[0m schema\u001b[39m.\u001b[39;49mload(\u001b[39mself\u001b[39;49m, node)\n\u001b[1;32m    196\u001b[0m \u001b[39mreturn\u001b[39;00m schema\n",
      "File \u001b[0;32m~/miniconda3/envs/proj/lib/python3.9/site-packages/zeep/xsd/schema.py:421\u001b[0m, in \u001b[0;36mSchemaDocument.load\u001b[0;34m(self, schema, node)\u001b[0m\n\u001b[1;32m    417\u001b[0m \u001b[39m# Disable XML schema validation for now\u001b[39;00m\n\u001b[1;32m    418\u001b[0m \u001b[39m# if len(node) > 0:\u001b[39;00m\n\u001b[1;32m    419\u001b[0m \u001b[39m#     self.xml_schema = etree.XMLSchema(node)\u001b[39;00m\n\u001b[1;32m    420\u001b[0m visitor \u001b[39m=\u001b[39m SchemaVisitor(schema, \u001b[39mself\u001b[39m)\n\u001b[0;32m--> 421\u001b[0m visitor\u001b[39m.\u001b[39;49mvisit_schema(node)\n",
      "File \u001b[0;32m~/miniconda3/envs/proj/lib/python3.9/site-packages/zeep/xsd/visitor.py:165\u001b[0m, in \u001b[0;36mSchemaVisitor.visit_schema\u001b[0;34m(self, node)\u001b[0m\n\u001b[1;32m    162\u001b[0m \u001b[39mself\u001b[39m\u001b[39m.\u001b[39mdocument\u001b[39m.\u001b[39m_attribute_form \u001b[39m=\u001b[39m node\u001b[39m.\u001b[39mget(\u001b[39m\"\u001b[39m\u001b[39mattributeFormDefault\u001b[39m\u001b[39m\"\u001b[39m, \u001b[39m\"\u001b[39m\u001b[39munqualified\u001b[39m\u001b[39m\"\u001b[39m)\n\u001b[1;32m    164\u001b[0m \u001b[39mfor\u001b[39;00m child \u001b[39min\u001b[39;00m node:\n\u001b[0;32m--> 165\u001b[0m     \u001b[39mself\u001b[39;49m\u001b[39m.\u001b[39;49mprocess(child, parent\u001b[39m=\u001b[39;49mnode)\n",
      "File \u001b[0;32m~/miniconda3/envs/proj/lib/python3.9/site-packages/zeep/xsd/visitor.py:93\u001b[0m, in \u001b[0;36mSchemaVisitor.process\u001b[0;34m(self, node, parent)\u001b[0m\n\u001b[1;32m     91\u001b[0m \u001b[39mif\u001b[39;00m \u001b[39mnot\u001b[39;00m visit_func:\n\u001b[1;32m     92\u001b[0m     \u001b[39mraise\u001b[39;00m \u001b[39mValueError\u001b[39;00m(\u001b[39m\"\u001b[39m\u001b[39mNo visitor defined for \u001b[39m\u001b[39m%r\u001b[39;00m\u001b[39m\"\u001b[39m \u001b[39m%\u001b[39m node\u001b[39m.\u001b[39mtag)\n\u001b[0;32m---> 93\u001b[0m result \u001b[39m=\u001b[39m visit_func(\u001b[39mself\u001b[39;49m, node, parent)\n\u001b[1;32m     94\u001b[0m \u001b[39mreturn\u001b[39;00m result\n",
      "File \u001b[0;32m~/miniconda3/envs/proj/lib/python3.9/site-packages/zeep/xsd/visitor.py:623\u001b[0m, in \u001b[0;36mSchemaVisitor.visit_complex_type\u001b[0;34m(self, node, parent)\u001b[0m\n\u001b[1;32m    621\u001b[0m \u001b[39mif\u001b[39;00m first_tag \u001b[39min\u001b[39;00m (tags\u001b[39m.\u001b[39mgroup, tags\u001b[39m.\u001b[39mall, tags\u001b[39m.\u001b[39mchoice, tags\u001b[39m.\u001b[39msequence):\n\u001b[1;32m    622\u001b[0m     child \u001b[39m=\u001b[39m children\u001b[39m.\u001b[39mpop(\u001b[39m0\u001b[39m)\n\u001b[0;32m--> 623\u001b[0m     element \u001b[39m=\u001b[39m \u001b[39mself\u001b[39;49m\u001b[39m.\u001b[39;49mprocess(child, node)\n\u001b[1;32m    625\u001b[0m attributes \u001b[39m=\u001b[39m \u001b[39mself\u001b[39m\u001b[39m.\u001b[39m_process_attributes(node, children)\n\u001b[1;32m    626\u001b[0m xsd_type \u001b[39m=\u001b[39m xsd_cls(\n\u001b[1;32m    627\u001b[0m     element\u001b[39m=\u001b[39melement, attributes\u001b[39m=\u001b[39mattributes, qname\u001b[39m=\u001b[39mqname, is_global\u001b[39m=\u001b[39mis_global\n\u001b[1;32m    628\u001b[0m )\n",
      "File \u001b[0;32m~/miniconda3/envs/proj/lib/python3.9/site-packages/zeep/xsd/visitor.py:93\u001b[0m, in \u001b[0;36mSchemaVisitor.process\u001b[0;34m(self, node, parent)\u001b[0m\n\u001b[1;32m     91\u001b[0m \u001b[39mif\u001b[39;00m \u001b[39mnot\u001b[39;00m visit_func:\n\u001b[1;32m     92\u001b[0m     \u001b[39mraise\u001b[39;00m \u001b[39mValueError\u001b[39;00m(\u001b[39m\"\u001b[39m\u001b[39mNo visitor defined for \u001b[39m\u001b[39m%r\u001b[39;00m\u001b[39m\"\u001b[39m \u001b[39m%\u001b[39m node\u001b[39m.\u001b[39mtag)\n\u001b[0;32m---> 93\u001b[0m result \u001b[39m=\u001b[39m visit_func(\u001b[39mself\u001b[39;49m, node, parent)\n\u001b[1;32m     94\u001b[0m \u001b[39mreturn\u001b[39;00m result\n",
      "File \u001b[0;32m~/miniconda3/envs/proj/lib/python3.9/site-packages/zeep/xsd/visitor.py:929\u001b[0m, in \u001b[0;36mSchemaVisitor.visit_sequence\u001b[0;34m(self, node, parent)\u001b[0m\n\u001b[1;32m    924\u001b[0m \u001b[39mif\u001b[39;00m child\u001b[39m.\u001b[39mtag \u001b[39mnot\u001b[39;00m \u001b[39min\u001b[39;00m sub_types:\n\u001b[1;32m    925\u001b[0m     \u001b[39mraise\u001b[39;00m \u001b[39mself\u001b[39m\u001b[39m.\u001b[39m_create_error(\n\u001b[1;32m    926\u001b[0m         \u001b[39m\"\u001b[39m\u001b[39mUnexpected element \u001b[39m\u001b[39m%s\u001b[39;00m\u001b[39m in xsd:sequence\u001b[39m\u001b[39m\"\u001b[39m \u001b[39m%\u001b[39m child\u001b[39m.\u001b[39mtag, child\n\u001b[1;32m    927\u001b[0m     )\n\u001b[0;32m--> 929\u001b[0m item \u001b[39m=\u001b[39m \u001b[39mself\u001b[39;49m\u001b[39m.\u001b[39;49mprocess(child, node)\n\u001b[1;32m    930\u001b[0m \u001b[39massert\u001b[39;00m item \u001b[39mis\u001b[39;00m \u001b[39mnot\u001b[39;00m \u001b[39mNone\u001b[39;00m\n\u001b[1;32m    931\u001b[0m result\u001b[39m.\u001b[39mappend(item)\n",
      "File \u001b[0;32m~/miniconda3/envs/proj/lib/python3.9/site-packages/zeep/xsd/visitor.py:93\u001b[0m, in \u001b[0;36mSchemaVisitor.process\u001b[0;34m(self, node, parent)\u001b[0m\n\u001b[1;32m     91\u001b[0m \u001b[39mif\u001b[39;00m \u001b[39mnot\u001b[39;00m visit_func:\n\u001b[1;32m     92\u001b[0m     \u001b[39mraise\u001b[39;00m \u001b[39mValueError\u001b[39;00m(\u001b[39m\"\u001b[39m\u001b[39mNo visitor defined for \u001b[39m\u001b[39m%r\u001b[39;00m\u001b[39m\"\u001b[39m \u001b[39m%\u001b[39m node\u001b[39m.\u001b[39mtag)\n\u001b[0;32m---> 93\u001b[0m result \u001b[39m=\u001b[39m visit_func(\u001b[39mself\u001b[39;49m, node, parent)\n\u001b[1;32m     94\u001b[0m \u001b[39mreturn\u001b[39;00m result\n",
      "File \u001b[0;32m~/miniconda3/envs/proj/lib/python3.9/site-packages/zeep/xsd/visitor.py:375\u001b[0m, in \u001b[0;36mSchemaVisitor.visit_element\u001b[0;34m(self, node, parent)\u001b[0m\n\u001b[1;32m    373\u001b[0m \u001b[39m# minOccurs / maxOccurs are not allowed on global elements\u001b[39;00m\n\u001b[1;32m    374\u001b[0m \u001b[39mif\u001b[39;00m \u001b[39mnot\u001b[39;00m is_global:\n\u001b[0;32m--> 375\u001b[0m     min_occurs, max_occurs \u001b[39m=\u001b[39m _process_occurs_attrs(node)\n\u001b[1;32m    376\u001b[0m \u001b[39melse\u001b[39;00m:\n\u001b[1;32m    377\u001b[0m     max_occurs \u001b[39m=\u001b[39m \u001b[39m1\u001b[39m\n",
      "File \u001b[0;32m~/miniconda3/envs/proj/lib/python3.9/site-packages/zeep/xsd/visitor.py:1284\u001b[0m, in \u001b[0;36m_process_occurs_attrs\u001b[0;34m(node)\u001b[0m\n\u001b[1;32m   1282\u001b[0m \u001b[39mdef\u001b[39;00m \u001b[39m_process_occurs_attrs\u001b[39m(node):\n\u001b[1;32m   1283\u001b[0m     \u001b[39m\"\"\"Process the min/max occurrence indicators\"\"\"\u001b[39;00m\n\u001b[0;32m-> 1284\u001b[0m     max_occurs \u001b[39m=\u001b[39m node\u001b[39m.\u001b[39;49mget(\u001b[39m\"\u001b[39m\u001b[39mmaxOccurs\u001b[39m\u001b[39m\"\u001b[39m, \u001b[39m\"\u001b[39m\u001b[39m1\u001b[39m\u001b[39m\"\u001b[39m)\n\u001b[1;32m   1285\u001b[0m     min_occurs \u001b[39m=\u001b[39m \u001b[39mint\u001b[39m(node\u001b[39m.\u001b[39mget(\u001b[39m\"\u001b[39m\u001b[39mminOccurs\u001b[39m\u001b[39m\"\u001b[39m, \u001b[39m\"\u001b[39m\u001b[39m1\u001b[39m\u001b[39m\"\u001b[39m))\n\u001b[1;32m   1286\u001b[0m     \u001b[39mif\u001b[39;00m max_occurs \u001b[39m==\u001b[39m \u001b[39m\"\u001b[39m\u001b[39munbounded\u001b[39m\u001b[39m\"\u001b[39m:\n",
      "\u001b[0;31mKeyboardInterrupt\u001b[0m: "
     ]
    }
   ],
   "source": [
    "from rasterio.enums import Resampling\n",
    "\n",
    "fig_dir = '/bsuhome/zacharykeskinen/uavsar/figures/lidar_sd_compare/all'\n",
    "low_vv_imgs = [fps for fps in image_fps if (fps['location'] == 'Lowman, CO') & (fps['pol'] == 'VV')]\n",
    "for loc_dir in glob(join(lidar_dir , 'Lowman,_CO', '*')):\n",
    "    sd_fps = glob(join(loc_dir, '*_SD_*')) + glob(join(loc_dir, '*snowdepth*'))\n",
    "    for sd_fp in sd_fps:\n",
    "        for img in low_vv_imgs:\n",
    "            try:\n",
    "                print(basename(loc_dir))\n",
    "                print(sd_fp)\n",
    "                sd = rxa.open_rasterio(sd_fp).rio.reproject('EPSG:4326')\n",
    "                lidar_date = pd.Timestamp(get_name(sd_fp).date()).tz_localize('US/MOUNTAIN')\n",
    "                save = True\n",
    "                phase = rxa.open_rasterio(img['fp'])\n",
    "                phase = phase.rio.clip_box(*sd.rio.bounds())\n",
    "\n",
    "                desc = pd.read_csv(img['ann'])\n",
    "                    # calculate how to get to 30 metere resolution from 0.0005 degrees\n",
    "                new_res_m = 30\n",
    "                y1 = float(desc['grd.row_addr'][0])\n",
    "                dy = float(desc['grd.row_mult'][0])\n",
    "                x1 = float(desc['grd.col_addr'][0])\n",
    "                dx = float(desc['grd.col_mult'][0])\n",
    "                conversion = (new_res_m/1000) / calc_distance(y1, x1, y1+dy, x1 + dx)\n",
    "                phase = phase.rio.reproject(phase.rio.crs, \\\n",
    "                                                shape = (int(phase.rio.height/conversion), int(phase.rio.width/conversion)),\n",
    "                                                resampling = Resampling.average)\n",
    "\n",
    "                inc = rxa.open_rasterio(img['inc'])\n",
    "                inc = inc.rio.reproject_match(phase)\n",
    "                cor = rxa.open_rasterio(img['cor'])\n",
    "                cor = cor.rio.reproject_match(phase)\n",
    "                sd_delta = get_snow_depth_change(basename(loc_dir),img['flight1'],img['flight2'])\n",
    "                print(f'Snow depth change: {sd_delta}m')\n",
    "                loc = get_snotel_loc(basename(loc_dir))\n",
    "                snotel_inc = inc.sel(x = loc.x, y = loc.y, method = 'nearest').values[0]\n",
    "                phase_correct = phase_from_depth(sd_delta, inc_angle= snotel_inc, density = 250)\n",
    "                snotel_phase = phase.sel(x= loc.x, y=loc.y, method = 'nearest').values[0]\n",
    "                if np.isnan(snotel_phase):\n",
    "                    snotel_phase = 0\n",
    "                uavsar_sd = depth_from_phase(phase.values - (snotel_phase - phase_correct), inc.values, density = 250)\n",
    "                phase.values = uavsar_sd\n",
    "                iqr = np.subtract(*np.nanpercentile(uavsar_sd, [75, 25]))\n",
    "\n",
    "                print(f'Snow depth change mean {np.nanmean(uavsar_sd)}')\n",
    "                print(f'Snow Depth change IQR: {iqr}')\n",
    "\n",
    "                sd = sd.rio.reproject_match(phase)\n",
    "                sd = sd.where(sd < 10)\n",
    "                sd = sd.where(sd > 0)\n",
    "\n",
    "                print(f'Lidar Snow depth mean {np.nanmean(sd)}')\n",
    "                iqr = np.subtract(*np.nanpercentile(sd, [75, 25]))\n",
    "                print(f'Lidar Snow depth IQR {iqr}')\n",
    "\n",
    "                gs_kw = dict(width_ratios=[1, 1.3], height_ratios=[1, 1])\n",
    "                fig, axes = plt.subplot_mosaic([['upper left', 'right'],\n",
    "                        ['lower left', 'right']],\n",
    "                        figsize=(12, 8), layout=\"constrained\", gridspec_kw=gs_kw)\n",
    "                sd = sd.where(sd < 1000)\n",
    "                sd.where(~np.isnan(phase)).plot(ax = axes['upper left'])\n",
    "                axes['upper left'].set_title('Lidar Snow Depth')\n",
    "                phase.where(~np.isnan(sd)).plot(ax = axes['lower left'])\n",
    "                axes['lower left'].set_title('Uavsar Snow Depth Change')\n",
    "                for ax in ['upper left', 'lower left']:\n",
    "                    axes[ax].set_xlabel('')\n",
    "                    axes[ax].set_ylabel('')\n",
    "\n",
    "\n",
    "                sds, uav, cors = clean_nps([sd.values.ravel(), phase.values.ravel(), cor.values.ravel()])\n",
    "                cond = (cors > 0.5)\n",
    "                slope, intercept,r,p, _, _ = r2_value(sds[cond], uav[cond])\n",
    "                axes['right'].hist2d(sds[cond], uav[cond], bins = 50)\n",
    "                axes['right'].annotate(text = f'Pearson R: {r:.2}; p: {p:.2}', xy = [0.64,0.97], xycoords = 'axes fraction')\n",
    "                axes['right'].set_xlabel('Lidar Snow Depth')\n",
    "                axes['right'].set_ylabel('Uavsar Snow Depth Change')\n",
    "                name = '_'.join(basename(sd_fp).split('.')[:-1])\n",
    "                f1 = img['flight1'].date().strftime(\"%Y-%m-%d\")\n",
    "                f2 = img['flight2'].date().strftime(\"%Y-%m-%d\")\n",
    "                fig.suptitle(f'Comparison between Lidar - {name} and Uavsar - {f1}_{f2}')\n",
    "                if r>0.5:\n",
    "                    fig_dir = '/bsuhome/zacharykeskinen/uavsar/figures/lidar_sd_compare'\n",
    "                    plt.savefig(join(fig_dir, basename(loc_dir)+'_re30m_'+name+'UV'+f1+'_'+f2+'.tif'))\n",
    "                    fig_dir = '/bsuhome/zacharykeskinen/uavsar/figures/lidar_sd_compare/all'\n",
    "                    plt.savefig(join(fig_dir, basename(loc_dir)+'_re30m_'+name+'UV'+f1+'_'+f2+'.tif'))\n",
    "                    plt.show()\n",
    "                else:\n",
    "                    fig_dir = '/bsuhome/zacharykeskinen/uavsar/figures/lidar_sd_compare/all'\n",
    "                    plt.savefig(join(fig_dir, basename(loc_dir)+'_re30m_'+name+'UV'+f1+'_'+f2+'.tif'))\n",
    "                    plt.close()\n",
    "            except ValueError as e:\n",
    "                print('Error!')\n",
    "                print(e)\n",
    "                f1 = img['flight1'].date().strftime(\"%Y-%m-%d\")\n",
    "                f2 = img['flight2'].date().strftime(\"%Y-%m-%d\")\n",
    "                print(f'Uavsar - {f1}_{f2}')\n"
   ]
  },
  {
   "cell_type": "code",
   "execution_count": 22,
   "metadata": {},
   "outputs": [
    {
     "name": "stdout",
     "output_type": "stream",
     "text": [
      "Snow depth change: -0.10159999999999991m\n",
      "No permittivity data provided -- calculating permittivity from snow density using method guneriussen2001.\n",
      "No permittivity data provided -- calculating permittivity from snow density using method guneriussen2001.\n",
      "Snow depth change mean -0.13706105947494507\n",
      "Snow Depth change IQR: 0.556640625\n"
     ]
    },
    {
     "name": "stderr",
     "output_type": "stream",
     "text": [
      "/bsuhome/zacharykeskinen/miniconda3/envs/proj/lib/python3.9/site-packages/rioxarray/raster_writer.py:110: UserWarning: The nodata value (3.402823466e+38) has been automatically changed to (3.4028234663852886e+38) to match the dtype of the data.\n",
      "  warnings.warn(\n"
     ]
    },
    {
     "name": "stdout",
     "output_type": "stream",
     "text": [
      "Lidar Snow depth mean 1.7972980737686157\n",
      "Lidar Snow depth IQR 0.556640625\n",
      "slope: 0.03020341406595763. intercept: -0.1924927434258033. r_value 0.11845552902453721. p value: 1.1116366420814444e-91\n",
      "Snow depth change: 0.5333999999999999m\n",
      "No permittivity data provided -- calculating permittivity from snow density using method guneriussen2001.\n",
      "No permittivity data provided -- calculating permittivity from snow density using method guneriussen2001.\n",
      "Snow depth change mean 0.48184993863105774\n",
      "Snow Depth change IQR: 0.08634189702570438\n"
     ]
    },
    {
     "name": "stderr",
     "output_type": "stream",
     "text": [
      "/bsuhome/zacharykeskinen/miniconda3/envs/proj/lib/python3.9/site-packages/rioxarray/raster_writer.py:110: UserWarning: The nodata value (3.402823466e+38) has been automatically changed to (3.4028234663852886e+38) to match the dtype of the data.\n",
      "  warnings.warn(\n"
     ]
    },
    {
     "name": "stdout",
     "output_type": "stream",
     "text": [
      "Lidar Snow depth mean 1.7972980737686157\n",
      "Lidar Snow depth IQR 0.556640625\n",
      "slope: 0.052073126334576045. intercept: 0.4202955835904696. r_value 0.19050583081239336. p value: 5.646608661577512e-253\n",
      "Snow depth change: -0.127m\n",
      "Snow depth change: -0.127m\n",
      "No permittivity data provided -- calculating permittivity from snow density using method guneriussen2001.\n",
      "No permittivity data provided -- calculating permittivity from snow density using method guneriussen2001.\n",
      "Snow depth change mean -0.14317084848880768\n",
      "Snow Depth change IQR: 0.14861156791448593\n"
     ]
    },
    {
     "name": "stderr",
     "output_type": "stream",
     "text": [
      "/bsuhome/zacharykeskinen/miniconda3/envs/proj/lib/python3.9/site-packages/rioxarray/raster_writer.py:110: UserWarning: The nodata value (3.402823466e+38) has been automatically changed to (3.4028234663852886e+38) to match the dtype of the data.\n",
      "  warnings.warn(\n"
     ]
    },
    {
     "name": "stdout",
     "output_type": "stream",
     "text": [
      "Lidar Snow depth mean 1.7972980737686157\n",
      "Lidar Snow depth IQR 0.556640625\n",
      "slope: 0.04905762583779816. intercept: -0.225744389078798. r_value 0.4767035966330743. p value: 0.0\n",
      "Snow depth change: -0.10159999999999991m\n",
      "No permittivity data provided -- calculating permittivity from snow density using method guneriussen2001.\n",
      "No permittivity data provided -- calculating permittivity from snow density using method guneriussen2001.\n",
      "Snow depth change mean -0.11121053993701935\n",
      "Snow Depth change IQR: 0.05984546057879925\n"
     ]
    },
    {
     "name": "stderr",
     "output_type": "stream",
     "text": [
      "/bsuhome/zacharykeskinen/miniconda3/envs/proj/lib/python3.9/site-packages/rioxarray/raster_writer.py:110: UserWarning: The nodata value (3.402823466e+38) has been automatically changed to (3.4028234663852886e+38) to match the dtype of the data.\n",
      "  warnings.warn(\n"
     ]
    },
    {
     "name": "stdout",
     "output_type": "stream",
     "text": [
      "Lidar Snow depth mean 1.7972980737686157\n",
      "Lidar Snow depth IQR 0.556640625\n",
      "slope: -0.0006214668208568007. intercept: -0.11175765109184974. r_value -0.006788239698160871. p value: 0.20765407855162055\n",
      "Snow depth change: -0.17779999999999996m\n",
      "No permittivity data provided -- calculating permittivity from snow density using method guneriussen2001.\n",
      "No permittivity data provided -- calculating permittivity from snow density using method guneriussen2001.\n",
      "Snow depth change mean -0.20019075274467468\n",
      "Snow Depth change IQR: 0.050706516951322556\n"
     ]
    },
    {
     "name": "stderr",
     "output_type": "stream",
     "text": [
      "/bsuhome/zacharykeskinen/miniconda3/envs/proj/lib/python3.9/site-packages/rioxarray/raster_writer.py:110: UserWarning: The nodata value (3.402823466e+38) has been automatically changed to (3.4028234663852886e+38) to match the dtype of the data.\n",
      "  warnings.warn(\n"
     ]
    },
    {
     "name": "stdout",
     "output_type": "stream",
     "text": [
      "Lidar Snow depth mean 1.7972980737686157\n",
      "Lidar Snow depth IQR 0.556640625\n",
      "slope: 0.03136470201436472. intercept: -0.25402703350895417. r_value 0.24851421032173043. p value: 0.0\n",
      "Snow depth change: 0.381m\n",
      "No permittivity data provided -- calculating permittivity from snow density using method guneriussen2001.\n",
      "No permittivity data provided -- calculating permittivity from snow density using method guneriussen2001.\n",
      "Snow depth change mean nan\n",
      "Snow Depth change IQR: 0.08191154152154922\n"
     ]
    },
    {
     "name": "stderr",
     "output_type": "stream",
     "text": [
      "/tmp/ipykernel_30445/2940413115.py:44: RuntimeWarning: Mean of empty slice\n",
      "  print(f'Snow depth change mean {np.nanmean(uavsar_sd)}')\n",
      "/bsuhome/zacharykeskinen/miniconda3/envs/proj/lib/python3.9/site-packages/rioxarray/raster_writer.py:110: UserWarning: The nodata value (3.402823466e+38) has been automatically changed to (3.4028234663852886e+38) to match the dtype of the data.\n",
      "  warnings.warn(\n"
     ]
    },
    {
     "name": "stdout",
     "output_type": "stream",
     "text": [
      "Lidar Snow depth mean 1.7972980737686157\n",
      "Lidar Snow depth IQR 0.556640625\n",
      "Snow depth change: -0.127m\n",
      "No permittivity data provided -- calculating permittivity from snow density using method guneriussen2001.\n",
      "No permittivity data provided -- calculating permittivity from snow density using method guneriussen2001.\n",
      "Snow depth change mean -0.11244872957468033\n",
      "Snow Depth change IQR: 0.556640625\n"
     ]
    },
    {
     "name": "stderr",
     "output_type": "stream",
     "text": [
      "/bsuhome/zacharykeskinen/miniconda3/envs/proj/lib/python3.9/site-packages/rioxarray/raster_writer.py:110: UserWarning: The nodata value (3.402823466e+38) has been automatically changed to (3.4028234663852886e+38) to match the dtype of the data.\n",
      "  warnings.warn(\n"
     ]
    },
    {
     "name": "stdout",
     "output_type": "stream",
     "text": [
      "Lidar Snow depth mean 1.7972980737686157\n",
      "Lidar Snow depth IQR 0.556640625\n",
      "slope: -0.01906014861714105. intercept: -0.08141771012128093. r_value -0.17266463461610296. p value: 1.488190143691022e-306\n",
      "Snow depth change: -0.10160000000000013m\n",
      "No permittivity data provided -- calculating permittivity from snow density using method guneriussen2001.\n",
      "No permittivity data provided -- calculating permittivity from snow density using method guneriussen2001.\n",
      "Snow depth change mean -0.10303185135126114\n",
      "Snow Depth change IQR: 0.06953860633075237\n"
     ]
    },
    {
     "name": "stderr",
     "output_type": "stream",
     "text": [
      "/bsuhome/zacharykeskinen/miniconda3/envs/proj/lib/python3.9/site-packages/rioxarray/raster_writer.py:110: UserWarning: The nodata value (3.402823466e+38) has been automatically changed to (3.4028234663852886e+38) to match the dtype of the data.\n",
      "  warnings.warn(\n"
     ]
    },
    {
     "name": "stdout",
     "output_type": "stream",
     "text": [
      "Lidar Snow depth mean 1.7972980737686157\n",
      "Lidar Snow depth IQR 0.556640625\n",
      "slope: -0.04392516960157759. intercept: -0.011013785679279395. r_value -0.22755022956739238. p value: 0.0\n",
      "Snow depth change: 0.1524000000000001m\n",
      "No permittivity data provided -- calculating permittivity from snow density using method guneriussen2001.\n",
      "No permittivity data provided -- calculating permittivity from snow density using method guneriussen2001.\n",
      "Snow depth change mean 0.08878441900014877\n",
      "Snow Depth change IQR: 0.05155504494905472\n"
     ]
    },
    {
     "name": "stderr",
     "output_type": "stream",
     "text": [
      "/bsuhome/zacharykeskinen/miniconda3/envs/proj/lib/python3.9/site-packages/rioxarray/raster_writer.py:110: UserWarning: The nodata value (3.402823466e+38) has been automatically changed to (3.4028234663852886e+38) to match the dtype of the data.\n",
      "  warnings.warn(\n"
     ]
    },
    {
     "name": "stdout",
     "output_type": "stream",
     "text": [
      "Lidar Snow depth mean 1.7972980737686157\n",
      "Lidar Snow depth IQR 0.556640625\n",
      "slope: 0.018956501296997153. intercept: 0.06043667599659491. r_value 0.12639767064796853. p value: 3.943577251619977e-99\n",
      "Snow depth change: -0.050799999999999956m\n",
      "No permittivity data provided -- calculating permittivity from snow density using method guneriussen2001.\n",
      "No permittivity data provided -- calculating permittivity from snow density using method guneriussen2001.\n",
      "Snow depth change mean -0.10837697982788086\n",
      "Snow Depth change IQR: 0.0728263184428215\n"
     ]
    },
    {
     "name": "stderr",
     "output_type": "stream",
     "text": [
      "/bsuhome/zacharykeskinen/miniconda3/envs/proj/lib/python3.9/site-packages/rioxarray/raster_writer.py:110: UserWarning: The nodata value (3.402823466e+38) has been automatically changed to (3.4028234663852886e+38) to match the dtype of the data.\n",
      "  warnings.warn(\n"
     ]
    },
    {
     "name": "stdout",
     "output_type": "stream",
     "text": [
      "Lidar Snow depth mean 1.7972980737686157\n",
      "Lidar Snow depth IQR 0.556640625\n",
      "slope: -0.0076249792032803305. intercept: -0.0945209684723047. r_value -0.07923719788848327. p value: 2.4003948985130914e-60\n",
      "Snow depth change: -0.254m\n",
      "No permittivity data provided -- calculating permittivity from snow density using method guneriussen2001.\n",
      "No permittivity data provided -- calculating permittivity from snow density using method guneriussen2001.\n",
      "Snow depth change mean -0.2953369617462158\n",
      "Snow Depth change IQR: 0.05574673414230347\n"
     ]
    },
    {
     "name": "stderr",
     "output_type": "stream",
     "text": [
      "/bsuhome/zacharykeskinen/miniconda3/envs/proj/lib/python3.9/site-packages/rioxarray/raster_writer.py:110: UserWarning: The nodata value (3.402823466e+38) has been automatically changed to (3.4028234663852886e+38) to match the dtype of the data.\n",
      "  warnings.warn(\n"
     ]
    },
    {
     "name": "stdout",
     "output_type": "stream",
     "text": [
      "Lidar Snow depth mean 1.7972980737686157\n",
      "Lidar Snow depth IQR 0.556640625\n",
      "slope: -0.003640299721965341. intercept: -0.29230912644176904. r_value -0.020278619043507418. p value: 0.0008213837636881513\n",
      "Snow depth change: -0.127m\n",
      "No permittivity data provided -- calculating permittivity from snow density using method guneriussen2001.\n",
      "No permittivity data provided -- calculating permittivity from snow density using method guneriussen2001.\n",
      "Snow depth change mean -0.14063724875450134\n",
      "Snow Depth change IQR: 0.10512054711580276\n"
     ]
    },
    {
     "name": "stderr",
     "output_type": "stream",
     "text": [
      "/bsuhome/zacharykeskinen/miniconda3/envs/proj/lib/python3.9/site-packages/rioxarray/raster_writer.py:110: UserWarning: The nodata value (3.402823466e+38) has been automatically changed to (3.4028234663852886e+38) to match the dtype of the data.\n",
      "  warnings.warn(\n"
     ]
    },
    {
     "name": "stdout",
     "output_type": "stream",
     "text": [
      "Lidar Snow depth mean 1.7972980737686157\n",
      "Lidar Snow depth IQR 0.556640625\n",
      "slope: 0.008531313213321252. intercept: -0.1592024952773323. r_value 0.08929829297371542. p value: 3.1336590025127394e-108\n",
      "Snow depth change: -0.10159999999999991m\n",
      "No permittivity data provided -- calculating permittivity from snow density using method guneriussen2001.\n",
      "No permittivity data provided -- calculating permittivity from snow density using method guneriussen2001.\n",
      "Snow depth change mean -0.13706105947494507\n",
      "Snow Depth change IQR: 0.048832520842552185\n"
     ]
    },
    {
     "name": "stderr",
     "output_type": "stream",
     "text": [
      "/bsuhome/zacharykeskinen/miniconda3/envs/proj/lib/python3.9/site-packages/rioxarray/raster_writer.py:110: UserWarning: The nodata value (3.402823466e+38) has been automatically changed to (3.4028234663852886e+38) to match the dtype of the data.\n",
      "  warnings.warn(\n"
     ]
    },
    {
     "name": "stdout",
     "output_type": "stream",
     "text": [
      "Lidar Snow depth mean 1.609180212020874\n",
      "Lidar Snow depth IQR 0.739013671875\n",
      "slope: 0.09577120373569271. intercept: -0.30531624760971965. r_value 0.4330736516871725. p value: 0.0\n",
      "Snow depth change: 0.5333999999999999m\n",
      "No permittivity data provided -- calculating permittivity from snow density using method guneriussen2001.\n",
      "No permittivity data provided -- calculating permittivity from snow density using method guneriussen2001.\n",
      "Snow depth change mean 0.48184993863105774\n",
      "Snow Depth change IQR: 0.08634189702570438\n"
     ]
    },
    {
     "name": "stderr",
     "output_type": "stream",
     "text": [
      "/bsuhome/zacharykeskinen/miniconda3/envs/proj/lib/python3.9/site-packages/rioxarray/raster_writer.py:110: UserWarning: The nodata value (3.402823466e+38) has been automatically changed to (3.4028234663852886e+38) to match the dtype of the data.\n",
      "  warnings.warn(\n"
     ]
    },
    {
     "name": "stdout",
     "output_type": "stream",
     "text": [
      "Lidar Snow depth mean 1.609180212020874\n",
      "Lidar Snow depth IQR 0.739013671875\n",
      "slope: -0.010963713584453642. intercept: 0.5238198944290643. r_value -0.04998714937740411. p value: 1.155593280527906e-18\n",
      "Snow depth change: -0.127m\n",
      "No permittivity data provided -- calculating permittivity from snow density using method guneriussen2001.\n",
      "No permittivity data provided -- calculating permittivity from snow density using method guneriussen2001.\n",
      "Snow depth change mean -0.11371016502380371\n",
      "Snow Depth change IQR: 0.14861156791448593\n"
     ]
    },
    {
     "name": "stderr",
     "output_type": "stream",
     "text": [
      "/bsuhome/zacharykeskinen/miniconda3/envs/proj/lib/python3.9/site-packages/rioxarray/raster_writer.py:110: UserWarning: The nodata value (3.402823466e+38) has been automatically changed to (3.4028234663852886e+38) to match the dtype of the data.\n",
      "  warnings.warn(\n"
     ]
    },
    {
     "name": "stdout",
     "output_type": "stream",
     "text": [
      "Lidar Snow depth mean 1.609180212020874\n",
      "Lidar Snow depth IQR 0.739013671875\n",
      "slope: 0.014585704300220671. intercept: -0.13144082859365716. r_value 0.18122797194495302. p value: 1.0590467365904615e-276\n",
      "Snow depth change: -0.127m\n",
      "No permittivity data provided -- calculating permittivity from snow density using method guneriussen2001.\n",
      "No permittivity data provided -- calculating permittivity from snow density using method guneriussen2001.\n",
      "Snow depth change mean -0.14317084848880768\n",
      "Snow Depth change IQR: 0.048502903431653976\n"
     ]
    },
    {
     "name": "stderr",
     "output_type": "stream",
     "text": [
      "/bsuhome/zacharykeskinen/miniconda3/envs/proj/lib/python3.9/site-packages/rioxarray/raster_writer.py:110: UserWarning: The nodata value (3.402823466e+38) has been automatically changed to (3.4028234663852886e+38) to match the dtype of the data.\n",
      "  warnings.warn(\n"
     ]
    },
    {
     "name": "stdout",
     "output_type": "stream",
     "text": [
      "Lidar Snow depth mean 1.609180212020874\n",
      "Lidar Snow depth IQR 0.739013671875\n",
      "slope: 0.04445757133517584. intercept: -0.20849276029153446. r_value 0.5470972497435471. p value: 0.0\n",
      "Snow depth change: -0.17779999999999996m\n",
      "No permittivity data provided -- calculating permittivity from snow density using method guneriussen2001.\n",
      "No permittivity data provided -- calculating permittivity from snow density using method guneriussen2001.\n",
      "Snow depth change mean -0.18328113853931427\n",
      "Snow Depth change IQR: 0.05984546057879925\n"
     ]
    },
    {
     "name": "stderr",
     "output_type": "stream",
     "text": [
      "/bsuhome/zacharykeskinen/miniconda3/envs/proj/lib/python3.9/site-packages/rioxarray/raster_writer.py:110: UserWarning: The nodata value (3.402823466e+38) has been automatically changed to (3.4028234663852886e+38) to match the dtype of the data.\n",
      "  warnings.warn(\n"
     ]
    },
    {
     "name": "stdout",
     "output_type": "stream",
     "text": [
      "Lidar Snow depth mean 1.609180212020874\n",
      "Lidar Snow depth IQR 0.739013671875\n",
      "slope: -0.030194365836699717. intercept: -0.1370856441141861. r_value -0.3116485055213179. p value: 0.0\n",
      "Snow depth change: -0.10159999999999991m\n",
      "No permittivity data provided -- calculating permittivity from snow density using method guneriussen2001.\n",
      "No permittivity data provided -- calculating permittivity from snow density using method guneriussen2001.\n",
      "Snow depth change mean -0.11121053993701935\n",
      "Snow Depth change IQR: 0.07616204023361206\n"
     ]
    },
    {
     "name": "stderr",
     "output_type": "stream",
     "text": [
      "/bsuhome/zacharykeskinen/miniconda3/envs/proj/lib/python3.9/site-packages/rioxarray/raster_writer.py:110: UserWarning: The nodata value (3.402823466e+38) has been automatically changed to (3.4028234663852886e+38) to match the dtype of the data.\n",
      "  warnings.warn(\n"
     ]
    },
    {
     "name": "stdout",
     "output_type": "stream",
     "text": [
      "Lidar Snow depth mean 1.609180212020874\n",
      "Lidar Snow depth IQR 0.739013671875\n",
      "slope: -0.004310467090271445. intercept: -0.10554317616763806. r_value -0.05876539927661438. p value: 1.0732506525873712e-27\n",
      "Snow depth change: -0.17779999999999996m\n",
      "No permittivity data provided -- calculating permittivity from snow density using method guneriussen2001.\n",
      "No permittivity data provided -- calculating permittivity from snow density using method guneriussen2001.\n",
      "Snow depth change mean -0.20019075274467468\n",
      "Snow Depth change IQR: 0.050706516951322556\n"
     ]
    },
    {
     "name": "stderr",
     "output_type": "stream",
     "text": [
      "/bsuhome/zacharykeskinen/miniconda3/envs/proj/lib/python3.9/site-packages/rioxarray/raster_writer.py:110: UserWarning: The nodata value (3.402823466e+38) has been automatically changed to (3.4028234663852886e+38) to match the dtype of the data.\n",
      "  warnings.warn(\n"
     ]
    },
    {
     "name": "stdout",
     "output_type": "stream",
     "text": [
      "Lidar Snow depth mean 1.609180212020874\n",
      "Lidar Snow depth IQR 0.739013671875\n",
      "slope: 0.05053235487015502. intercept: -0.27995372500711724. r_value 0.49120847076765906. p value: 0.0\n",
      "Snow depth change: 0.381m\n",
      "No permittivity data provided -- calculating permittivity from snow density using method guneriussen2001.\n",
      "No permittivity data provided -- calculating permittivity from snow density using method guneriussen2001.\n",
      "Snow depth change mean nan\n",
      "Snow Depth change IQR: 0.08191154152154922\n"
     ]
    },
    {
     "name": "stderr",
     "output_type": "stream",
     "text": [
      "/tmp/ipykernel_30445/2940413115.py:44: RuntimeWarning: Mean of empty slice\n",
      "  print(f'Snow depth change mean {np.nanmean(uavsar_sd)}')\n",
      "/bsuhome/zacharykeskinen/miniconda3/envs/proj/lib/python3.9/site-packages/rioxarray/raster_writer.py:110: UserWarning: The nodata value (3.402823466e+38) has been automatically changed to (3.4028234663852886e+38) to match the dtype of the data.\n",
      "  warnings.warn(\n"
     ]
    },
    {
     "name": "stdout",
     "output_type": "stream",
     "text": [
      "Lidar Snow depth mean 1.609180212020874\n",
      "Lidar Snow depth IQR 0.739013671875\n",
      "Snow depth change: -0.127m\n",
      "No permittivity data provided -- calculating permittivity from snow density using method guneriussen2001.\n",
      "No permittivity data provided -- calculating permittivity from snow density using method guneriussen2001.\n",
      "Snow depth change mean -0.11244872957468033\n",
      "Snow Depth change IQR: 0.739013671875\n"
     ]
    },
    {
     "name": "stderr",
     "output_type": "stream",
     "text": [
      "/bsuhome/zacharykeskinen/miniconda3/envs/proj/lib/python3.9/site-packages/rioxarray/raster_writer.py:110: UserWarning: The nodata value (3.402823466e+38) has been automatically changed to (3.4028234663852886e+38) to match the dtype of the data.\n",
      "  warnings.warn(\n"
     ]
    },
    {
     "name": "stdout",
     "output_type": "stream",
     "text": [
      "Lidar Snow depth mean 1.609180212020874\n",
      "Lidar Snow depth IQR 0.739013671875\n",
      "slope: -0.03739328388042871. intercept: -0.053290187819321905. r_value -0.4233317117183179. p value: 0.0\n",
      "Snow depth change: -0.10160000000000013m\n",
      "No permittivity data provided -- calculating permittivity from snow density using method guneriussen2001.\n",
      "No permittivity data provided -- calculating permittivity from snow density using method guneriussen2001.\n",
      "Snow depth change mean -0.10303185135126114\n",
      "Snow Depth change IQR: 0.06953860633075237\n"
     ]
    },
    {
     "name": "stderr",
     "output_type": "stream",
     "text": [
      "/bsuhome/zacharykeskinen/miniconda3/envs/proj/lib/python3.9/site-packages/rioxarray/raster_writer.py:110: UserWarning: The nodata value (3.402823466e+38) has been automatically changed to (3.4028234663852886e+38) to match the dtype of the data.\n",
      "  warnings.warn(\n"
     ]
    },
    {
     "name": "stdout",
     "output_type": "stream",
     "text": [
      "Lidar Snow depth mean 1.609180212020874\n",
      "Lidar Snow depth IQR 0.739013671875\n",
      "slope: -0.053171057832280495. intercept: -0.0015325093866692119. r_value -0.3521086270992619. p value: 0.0\n",
      "Snow depth change: 0.1524000000000001m\n",
      "No permittivity data provided -- calculating permittivity from snow density using method guneriussen2001.\n",
      "No permittivity data provided -- calculating permittivity from snow density using method guneriussen2001.\n",
      "Snow depth change mean 0.08878441900014877\n",
      "Snow Depth change IQR: 0.05155504494905472\n"
     ]
    },
    {
     "name": "stderr",
     "output_type": "stream",
     "text": [
      "/bsuhome/zacharykeskinen/miniconda3/envs/proj/lib/python3.9/site-packages/rioxarray/raster_writer.py:110: UserWarning: The nodata value (3.402823466e+38) has been automatically changed to (3.4028234663852886e+38) to match the dtype of the data.\n",
      "  warnings.warn(\n"
     ]
    },
    {
     "name": "stdout",
     "output_type": "stream",
     "text": [
      "Lidar Snow depth mean 1.609180212020874\n",
      "Lidar Snow depth IQR 0.739013671875\n",
      "slope: 0.04125481142166811. intercept: 0.023862390844648154. r_value 0.3389264560182218. p value: 0.0\n",
      "Snow depth change: -0.050799999999999956m\n",
      "No permittivity data provided -- calculating permittivity from snow density using method guneriussen2001.\n",
      "No permittivity data provided -- calculating permittivity from snow density using method guneriussen2001.\n",
      "Snow depth change mean -0.10837697982788086\n",
      "Snow Depth change IQR: 0.0728263184428215\n"
     ]
    },
    {
     "name": "stderr",
     "output_type": "stream",
     "text": [
      "/bsuhome/zacharykeskinen/miniconda3/envs/proj/lib/python3.9/site-packages/rioxarray/raster_writer.py:110: UserWarning: The nodata value (3.402823466e+38) has been automatically changed to (3.4028234663852886e+38) to match the dtype of the data.\n",
      "  warnings.warn(\n"
     ]
    },
    {
     "name": "stdout",
     "output_type": "stream",
     "text": [
      "Lidar Snow depth mean 1.609180212020874\n",
      "Lidar Snow depth IQR 0.739013671875\n",
      "slope: -0.017213514706354738. intercept: -0.0791510406399952. r_value -0.2221078415171961. p value: 0.0\n",
      "Snow depth change: -0.254m\n",
      "No permittivity data provided -- calculating permittivity from snow density using method guneriussen2001.\n",
      "No permittivity data provided -- calculating permittivity from snow density using method guneriussen2001.\n",
      "Snow depth change mean -0.2953369617462158\n",
      "Snow Depth change IQR: 0.05574673414230347\n"
     ]
    },
    {
     "name": "stderr",
     "output_type": "stream",
     "text": [
      "/bsuhome/zacharykeskinen/miniconda3/envs/proj/lib/python3.9/site-packages/rioxarray/raster_writer.py:110: UserWarning: The nodata value (3.402823466e+38) has been automatically changed to (3.4028234663852886e+38) to match the dtype of the data.\n",
      "  warnings.warn(\n"
     ]
    },
    {
     "name": "stdout",
     "output_type": "stream",
     "text": [
      "Lidar Snow depth mean 1.609180212020874\n",
      "Lidar Snow depth IQR 0.739013671875\n",
      "slope: -0.0366505889539354. intercept: -0.23272918580510954. r_value -0.243129110157231. p value: 0.0\n",
      "Snow depth change: -0.127m\n",
      "No permittivity data provided -- calculating permittivity from snow density using method guneriussen2001.\n",
      "No permittivity data provided -- calculating permittivity from snow density using method guneriussen2001.\n",
      "Snow depth change mean -0.14063724875450134\n",
      "Snow Depth change IQR: 0.10512054711580276\n"
     ]
    },
    {
     "name": "stderr",
     "output_type": "stream",
     "text": [
      "/bsuhome/zacharykeskinen/miniconda3/envs/proj/lib/python3.9/site-packages/rioxarray/raster_writer.py:110: UserWarning: The nodata value (3.402823466e+38) has been automatically changed to (3.4028234663852886e+38) to match the dtype of the data.\n",
      "  warnings.warn(\n"
     ]
    },
    {
     "name": "stdout",
     "output_type": "stream",
     "text": [
      "Lidar Snow depth mean 1.609180212020874\n",
      "Lidar Snow depth IQR 0.739013671875\n",
      "slope: 0.01909371638868017. intercept: -0.17500828923589976. r_value 0.24438523397443324. p value: 0.0\n",
      "Snow depth change: -0.10159999999999991m\n",
      "No permittivity data provided -- calculating permittivity from snow density using method guneriussen2001.\n",
      "No permittivity data provided -- calculating permittivity from snow density using method guneriussen2001.\n",
      "Snow depth change mean -0.13706105947494507\n",
      "Snow Depth change IQR: 0.048832520842552185\n"
     ]
    },
    {
     "name": "stderr",
     "output_type": "stream",
     "text": [
      "/bsuhome/zacharykeskinen/miniconda3/envs/proj/lib/python3.9/site-packages/rioxarray/raster_writer.py:110: UserWarning: The nodata value (3.402823466e+38) has been automatically changed to (3.4028234663852886e+38) to match the dtype of the data.\n",
      "  warnings.warn(\n"
     ]
    },
    {
     "name": "stdout",
     "output_type": "stream",
     "text": [
      "Lidar Snow depth mean 1.8291430473327637\n",
      "Lidar Snow depth IQR 0.636474609375\n",
      "slope: 0.05841490559239554. intercept: -0.24218628263200406. r_value 0.2811103998862821. p value: 4.339536976780757e-132\n",
      "Snow depth change: 0.5333999999999999m\n",
      "No permittivity data provided -- calculating permittivity from snow density using method guneriussen2001.\n",
      "No permittivity data provided -- calculating permittivity from snow density using method guneriussen2001.\n",
      "Snow depth change mean 0.48184993863105774\n",
      "Snow Depth change IQR: 0.08634189702570438\n"
     ]
    },
    {
     "name": "stderr",
     "output_type": "stream",
     "text": [
      "/bsuhome/zacharykeskinen/miniconda3/envs/proj/lib/python3.9/site-packages/rioxarray/raster_writer.py:110: UserWarning: The nodata value (3.402823466e+38) has been automatically changed to (3.4028234663852886e+38) to match the dtype of the data.\n",
      "  warnings.warn(\n"
     ]
    },
    {
     "name": "stdout",
     "output_type": "stream",
     "text": [
      "Lidar Snow depth mean 1.8291430473327637\n",
      "Lidar Snow depth IQR 0.636474609375\n",
      "slope: 0.08122634760892292. intercept: 0.43836323360662577. r_value 0.375344267299797. p value: 9.273453431923414e-201\n",
      "Snow depth change: -0.127m\n",
      "No permittivity data provided -- calculating permittivity from snow density using method guneriussen2001.\n",
      "No permittivity data provided -- calculating permittivity from snow density using method guneriussen2001.\n",
      "Snow depth change mean -0.11371016502380371\n",
      "Snow Depth change IQR: 0.14861156791448593\n"
     ]
    },
    {
     "name": "stderr",
     "output_type": "stream",
     "text": [
      "/bsuhome/zacharykeskinen/miniconda3/envs/proj/lib/python3.9/site-packages/rioxarray/raster_writer.py:110: UserWarning: The nodata value (3.402823466e+38) has been automatically changed to (3.4028234663852886e+38) to match the dtype of the data.\n",
      "  warnings.warn(\n"
     ]
    },
    {
     "name": "stdout",
     "output_type": "stream",
     "text": [
      "Lidar Snow depth mean 1.8291430473327637\n",
      "Lidar Snow depth IQR 0.636474609375\n",
      "slope: 0.025779890122355688. intercept: -0.153145135297038. r_value 0.2692904570409384. p value: 2.391802970355444e-187\n",
      "Snow depth change: -0.127m\n",
      "No permittivity data provided -- calculating permittivity from snow density using method guneriussen2001.\n",
      "No permittivity data provided -- calculating permittivity from snow density using method guneriussen2001.\n",
      "Snow depth change mean -0.14317084848880768\n",
      "Snow Depth change IQR: 0.048502903431653976\n"
     ]
    },
    {
     "name": "stderr",
     "output_type": "stream",
     "text": [
      "/bsuhome/zacharykeskinen/miniconda3/envs/proj/lib/python3.9/site-packages/rioxarray/raster_writer.py:110: UserWarning: The nodata value (3.402823466e+38) has been automatically changed to (3.4028234663852886e+38) to match the dtype of the data.\n",
      "  warnings.warn(\n"
     ]
    },
    {
     "name": "stdout",
     "output_type": "stream",
     "text": [
      "Lidar Snow depth mean 1.8291430473327637\n",
      "Lidar Snow depth IQR 0.636474609375\n",
      "slope: 0.05053244802197289. intercept: -0.23277800115494224. r_value 0.5693681664618088. p value: 0.0\n",
      "Snow depth change: -0.17779999999999996m\n",
      "No permittivity data provided -- calculating permittivity from snow density using method guneriussen2001.\n",
      "No permittivity data provided -- calculating permittivity from snow density using method guneriussen2001.\n",
      "Snow depth change mean -0.18328113853931427\n",
      "Snow Depth change IQR: 0.05984546057879925\n"
     ]
    },
    {
     "name": "stderr",
     "output_type": "stream",
     "text": [
      "/bsuhome/zacharykeskinen/miniconda3/envs/proj/lib/python3.9/site-packages/rioxarray/raster_writer.py:110: UserWarning: The nodata value (3.402823466e+38) has been automatically changed to (3.4028234663852886e+38) to match the dtype of the data.\n",
      "  warnings.warn(\n"
     ]
    },
    {
     "name": "stdout",
     "output_type": "stream",
     "text": [
      "Lidar Snow depth mean 1.8291430473327637\n",
      "Lidar Snow depth IQR 0.636474609375\n",
      "slope: -0.023474830571403527. intercept: -0.14347142062806226. r_value -0.20656343534228366. p value: 1.8139450337846512e-104\n",
      "Snow depth change: -0.10159999999999991m\n",
      "No permittivity data provided -- calculating permittivity from snow density using method guneriussen2001.\n",
      "No permittivity data provided -- calculating permittivity from snow density using method guneriussen2001.\n",
      "Snow depth change mean -0.11121053993701935\n",
      "Snow Depth change IQR: 0.07616204023361206\n"
     ]
    },
    {
     "name": "stderr",
     "output_type": "stream",
     "text": [
      "/bsuhome/zacharykeskinen/miniconda3/envs/proj/lib/python3.9/site-packages/rioxarray/raster_writer.py:110: UserWarning: The nodata value (3.402823466e+38) has been automatically changed to (3.4028234663852886e+38) to match the dtype of the data.\n",
      "  warnings.warn(\n"
     ]
    },
    {
     "name": "stdout",
     "output_type": "stream",
     "text": [
      "Lidar Snow depth mean 1.8291430473327637\n",
      "Lidar Snow depth IQR 0.636474609375\n",
      "slope: -0.005863129105535388. intercept: -0.0986874860164821. r_value -0.06659266074350836. p value: 3.120380998469847e-10\n",
      "Snow depth change: -0.17779999999999996m\n",
      "No permittivity data provided -- calculating permittivity from snow density using method guneriussen2001.\n",
      "No permittivity data provided -- calculating permittivity from snow density using method guneriussen2001.\n",
      "Snow depth change mean -0.20019075274467468\n",
      "Snow Depth change IQR: 0.050706516951322556\n"
     ]
    },
    {
     "name": "stderr",
     "output_type": "stream",
     "text": [
      "/bsuhome/zacharykeskinen/miniconda3/envs/proj/lib/python3.9/site-packages/rioxarray/raster_writer.py:110: UserWarning: The nodata value (3.402823466e+38) has been automatically changed to (3.4028234663852886e+38) to match the dtype of the data.\n",
      "  warnings.warn(\n"
     ]
    },
    {
     "name": "stdout",
     "output_type": "stream",
     "text": [
      "Lidar Snow depth mean 1.8291430473327637\n",
      "Lidar Snow depth IQR 0.636474609375\n",
      "slope: 0.03754573498782978. intercept: -0.2680086573329394. r_value 0.3786989380224102. p value: 0.0\n",
      "Snow depth change: 0.381m\n",
      "No permittivity data provided -- calculating permittivity from snow density using method guneriussen2001.\n",
      "No permittivity data provided -- calculating permittivity from snow density using method guneriussen2001.\n",
      "Snow depth change mean nan\n",
      "Snow Depth change IQR: 0.08191154152154922\n"
     ]
    },
    {
     "name": "stderr",
     "output_type": "stream",
     "text": [
      "/tmp/ipykernel_30445/2940413115.py:44: RuntimeWarning: Mean of empty slice\n",
      "  print(f'Snow depth change mean {np.nanmean(uavsar_sd)}')\n",
      "/bsuhome/zacharykeskinen/miniconda3/envs/proj/lib/python3.9/site-packages/rioxarray/raster_writer.py:110: UserWarning: The nodata value (3.402823466e+38) has been automatically changed to (3.4028234663852886e+38) to match the dtype of the data.\n",
      "  warnings.warn(\n"
     ]
    },
    {
     "name": "stdout",
     "output_type": "stream",
     "text": [
      "Lidar Snow depth mean 1.8291430473327637\n",
      "Lidar Snow depth IQR 0.636474609375\n",
      "Snow depth change: -0.127m\n",
      "No permittivity data provided -- calculating permittivity from snow density using method guneriussen2001.\n",
      "No permittivity data provided -- calculating permittivity from snow density using method guneriussen2001.\n",
      "Snow depth change mean -0.11244872957468033\n",
      "Snow Depth change IQR: 0.636474609375\n"
     ]
    },
    {
     "name": "stderr",
     "output_type": "stream",
     "text": [
      "/bsuhome/zacharykeskinen/miniconda3/envs/proj/lib/python3.9/site-packages/rioxarray/raster_writer.py:110: UserWarning: The nodata value (3.402823466e+38) has been automatically changed to (3.4028234663852886e+38) to match the dtype of the data.\n",
      "  warnings.warn(\n"
     ]
    },
    {
     "name": "stdout",
     "output_type": "stream",
     "text": [
      "Lidar Snow depth mean 1.8291430473327637\n",
      "Lidar Snow depth IQR 0.636474609375\n",
      "slope: -0.021072234604844454. intercept: -0.06723113677656942. r_value -0.2619857280460882. p value: 3.2139677807570218e-195\n",
      "Snow depth change: -0.10160000000000013m\n",
      "No permittivity data provided -- calculating permittivity from snow density using method guneriussen2001.\n",
      "No permittivity data provided -- calculating permittivity from snow density using method guneriussen2001.\n",
      "Snow depth change mean -0.10303185135126114\n",
      "Snow Depth change IQR: 0.06953860633075237\n"
     ]
    },
    {
     "name": "stderr",
     "output_type": "stream",
     "text": [
      "/bsuhome/zacharykeskinen/miniconda3/envs/proj/lib/python3.9/site-packages/rioxarray/raster_writer.py:110: UserWarning: The nodata value (3.402823466e+38) has been automatically changed to (3.4028234663852886e+38) to match the dtype of the data.\n",
      "  warnings.warn(\n"
     ]
    },
    {
     "name": "stdout",
     "output_type": "stream",
     "text": [
      "Lidar Snow depth mean 1.8291430473327637\n",
      "Lidar Snow depth IQR 0.636474609375\n",
      "slope: -0.042852322011062406. intercept: -0.019910388989500177. r_value -0.31004027027499564. p value: 7.779117758457625e-285\n",
      "Snow depth change: 0.1524000000000001m\n",
      "No permittivity data provided -- calculating permittivity from snow density using method guneriussen2001.\n",
      "No permittivity data provided -- calculating permittivity from snow density using method guneriussen2001.\n",
      "Snow depth change mean 0.08878441900014877\n",
      "Snow Depth change IQR: 0.05155504494905472\n"
     ]
    },
    {
     "name": "stderr",
     "output_type": "stream",
     "text": [
      "/bsuhome/zacharykeskinen/miniconda3/envs/proj/lib/python3.9/site-packages/rioxarray/raster_writer.py:110: UserWarning: The nodata value (3.402823466e+38) has been automatically changed to (3.4028234663852886e+38) to match the dtype of the data.\n",
      "  warnings.warn(\n"
     ]
    },
    {
     "name": "stdout",
     "output_type": "stream",
     "text": [
      "Lidar Snow depth mean 1.8291430473327637\n",
      "Lidar Snow depth IQR 0.636474609375\n",
      "slope: 0.013106451139642827. intercept: 0.05262090545653919. r_value 0.10079801101283586. p value: 4.460967628663629e-20\n",
      "Snow depth change: -0.050799999999999956m\n",
      "No permittivity data provided -- calculating permittivity from snow density using method guneriussen2001.\n",
      "No permittivity data provided -- calculating permittivity from snow density using method guneriussen2001.\n",
      "Snow depth change mean -0.10837697982788086\n",
      "Snow Depth change IQR: 0.0728263184428215\n"
     ]
    },
    {
     "name": "stderr",
     "output_type": "stream",
     "text": [
      "/bsuhome/zacharykeskinen/miniconda3/envs/proj/lib/python3.9/site-packages/rioxarray/raster_writer.py:110: UserWarning: The nodata value (3.402823466e+38) has been automatically changed to (3.4028234663852886e+38) to match the dtype of the data.\n",
      "  warnings.warn(\n"
     ]
    },
    {
     "name": "stdout",
     "output_type": "stream",
     "text": [
      "Lidar Snow depth mean 1.8291430473327637\n",
      "Lidar Snow depth IQR 0.636474609375\n",
      "slope: -0.014451878032382973. intercept: -0.07250292254290072. r_value -0.18122439280353386. p value: 1.7423196964973908e-88\n",
      "Snow depth change: -0.254m\n",
      "No permittivity data provided -- calculating permittivity from snow density using method guneriussen2001.\n",
      "No permittivity data provided -- calculating permittivity from snow density using method guneriussen2001.\n",
      "Snow depth change mean -0.2953369617462158\n",
      "Snow Depth change IQR: 0.05574673414230347\n"
     ]
    },
    {
     "name": "stderr",
     "output_type": "stream",
     "text": [
      "/bsuhome/zacharykeskinen/miniconda3/envs/proj/lib/python3.9/site-packages/rioxarray/raster_writer.py:110: UserWarning: The nodata value (3.402823466e+38) has been automatically changed to (3.4028234663852886e+38) to match the dtype of the data.\n",
      "  warnings.warn(\n"
     ]
    },
    {
     "name": "stdout",
     "output_type": "stream",
     "text": [
      "Lidar Snow depth mean 1.8291430473327637\n",
      "Lidar Snow depth IQR 0.636474609375\n",
      "slope: -0.0026321390439440384. intercept: -0.27755237710856573. r_value -0.016775801603749134. p value: 0.15214334504047236\n",
      "Snow depth change: -0.127m\n",
      "No permittivity data provided -- calculating permittivity from snow density using method guneriussen2001.\n",
      "No permittivity data provided -- calculating permittivity from snow density using method guneriussen2001.\n",
      "Snow depth change mean -0.14063724875450134\n",
      "Snow Depth change IQR: 0.10512054711580276\n"
     ]
    },
    {
     "name": "stderr",
     "output_type": "stream",
     "text": [
      "/bsuhome/zacharykeskinen/miniconda3/envs/proj/lib/python3.9/site-packages/rioxarray/raster_writer.py:110: UserWarning: The nodata value (3.402823466e+38) has been automatically changed to (3.4028234663852886e+38) to match the dtype of the data.\n",
      "  warnings.warn(\n"
     ]
    },
    {
     "name": "stdout",
     "output_type": "stream",
     "text": [
      "Lidar Snow depth mean 1.8291430473327637\n",
      "Lidar Snow depth IQR 0.636474609375\n",
      "slope: 0.00694032211546151. intercept: -0.1610701014618402. r_value 0.07548214598645665. p value: 3.926588545991542e-22\n",
      "Snow depth change: -0.07620000000000005m\n",
      "No permittivity data provided -- calculating permittivity from snow density using method guneriussen2001.\n",
      "No permittivity data provided -- calculating permittivity from snow density using method guneriussen2001.\n",
      "Snow depth change mean -0.13520187139511108\n",
      "Snow Depth change IQR: 0.048832520842552185\n"
     ]
    },
    {
     "name": "stderr",
     "output_type": "stream",
     "text": [
      "/bsuhome/zacharykeskinen/miniconda3/envs/proj/lib/python3.9/site-packages/rioxarray/raster_writer.py:110: UserWarning: The nodata value (3.402823466e+38) has been automatically changed to (3.4028234663852886e+38) to match the dtype of the data.\n",
      "  warnings.warn(\n"
     ]
    },
    {
     "name": "stdout",
     "output_type": "stream",
     "text": [
      "Lidar Snow depth mean 1.0542833805084229\n",
      "Lidar Snow depth IQR 0.673980712890625\n",
      "slope: -0.010187471900941826. intercept: -0.14563640388379406. r_value -0.07006957098859987. p value: 9.046305089908637e-24\n",
      "Snow depth change: 0.508m\n",
      "No permittivity data provided -- calculating permittivity from snow density using method guneriussen2001.\n",
      "No permittivity data provided -- calculating permittivity from snow density using method guneriussen2001.\n",
      "Snow depth change mean 0.7063353657722473\n",
      "Snow Depth change IQR: 0.0683073177933693\n"
     ]
    },
    {
     "name": "stderr",
     "output_type": "stream",
     "text": [
      "/bsuhome/zacharykeskinen/miniconda3/envs/proj/lib/python3.9/site-packages/rioxarray/raster_writer.py:110: UserWarning: The nodata value (3.402823466e+38) has been automatically changed to (3.4028234663852886e+38) to match the dtype of the data.\n",
      "  warnings.warn(\n"
     ]
    },
    {
     "name": "stdout",
     "output_type": "stream",
     "text": [
      "Lidar Snow depth mean 1.0542833805084229\n",
      "Lidar Snow depth IQR 0.673980712890625\n",
      "slope: 0.07053769662806328. intercept: 0.6679059154158423. r_value 0.17409840355627063. p value: 7.37724305114078e-167\n",
      "Snow depth change: -0.050799999999999956m\n",
      "No permittivity data provided -- calculating permittivity from snow density using method guneriussen2001.\n",
      "No permittivity data provided -- calculating permittivity from snow density using method guneriussen2001.\n",
      "Snow depth change mean -0.09367820620536804\n",
      "Snow Depth change IQR: 0.3363393247127533\n"
     ]
    },
    {
     "name": "stderr",
     "output_type": "stream",
     "text": [
      "/bsuhome/zacharykeskinen/miniconda3/envs/proj/lib/python3.9/site-packages/rioxarray/raster_writer.py:110: UserWarning: The nodata value (3.402823466e+38) has been automatically changed to (3.4028234663852886e+38) to match the dtype of the data.\n",
      "  warnings.warn(\n"
     ]
    },
    {
     "name": "stdout",
     "output_type": "stream",
     "text": [
      "Lidar Snow depth mean 1.0542833805084229\n",
      "Lidar Snow depth IQR 0.673980712890625\n",
      "slope: 0.045767936100452475. intercept: -0.11912912572260773. r_value 0.4658673097692846. p value: 0.0\n",
      "Snow depth change: -0.050799999999999956m\n",
      "No permittivity data provided -- calculating permittivity from snow density using method guneriussen2001.\n",
      "No permittivity data provided -- calculating permittivity from snow density using method guneriussen2001.\n",
      "Snow depth change mean -0.10433637350797653\n",
      "Snow Depth change IQR: 0.0738038718700409\n"
     ]
    },
    {
     "name": "stderr",
     "output_type": "stream",
     "text": [
      "/bsuhome/zacharykeskinen/miniconda3/envs/proj/lib/python3.9/site-packages/rioxarray/raster_writer.py:110: UserWarning: The nodata value (3.402823466e+38) has been automatically changed to (3.4028234663852886e+38) to match the dtype of the data.\n",
      "  warnings.warn(\n"
     ]
    },
    {
     "name": "stdout",
     "output_type": "stream",
     "text": [
      "Lidar Snow depth mean 1.0542833805084229\n",
      "Lidar Snow depth IQR 0.673980712890625\n",
      "slope: 0.037975969936543535. intercept: -0.1300770508599179. r_value 0.49715104575407815. p value: 0.0\n",
      "Snow depth change: -0.1524000000000001m\n",
      "No permittivity data provided -- calculating permittivity from snow density using method guneriussen2001.\n",
      "No permittivity data provided -- calculating permittivity from snow density using method guneriussen2001.\n",
      "Snow depth change mean -0.13561998307704926\n",
      "Snow Depth change IQR: 0.06126498803496361\n"
     ]
    },
    {
     "name": "stderr",
     "output_type": "stream",
     "text": [
      "/bsuhome/zacharykeskinen/miniconda3/envs/proj/lib/python3.9/site-packages/rioxarray/raster_writer.py:110: UserWarning: The nodata value (3.402823466e+38) has been automatically changed to (3.4028234663852886e+38) to match the dtype of the data.\n",
      "  warnings.warn(\n"
     ]
    },
    {
     "name": "stdout",
     "output_type": "stream",
     "text": [
      "Lidar Snow depth mean 1.0542833805084229\n",
      "Lidar Snow depth IQR 0.673980712890625\n",
      "slope: 0.0016206362986260073. intercept: -0.13373814578633897. r_value 0.019181108772314187. p value: 3.866476005432914e-06\n",
      "Snow depth change: -0.07620000000000005m\n",
      "No permittivity data provided -- calculating permittivity from snow density using method guneriussen2001.\n",
      "No permittivity data provided -- calculating permittivity from snow density using method guneriussen2001.\n",
      "Snow depth change mean -0.0827179029583931\n",
      "Snow Depth change IQR: 0.062138110399246216\n"
     ]
    },
    {
     "name": "stderr",
     "output_type": "stream",
     "text": [
      "/bsuhome/zacharykeskinen/miniconda3/envs/proj/lib/python3.9/site-packages/rioxarray/raster_writer.py:110: UserWarning: The nodata value (3.402823466e+38) has been automatically changed to (3.4028234663852886e+38) to match the dtype of the data.\n",
      "  warnings.warn(\n"
     ]
    },
    {
     "name": "stdout",
     "output_type": "stream",
     "text": [
      "Lidar Snow depth mean 1.0542833805084229\n",
      "Lidar Snow depth IQR 0.673980712890625\n",
      "slope: 0.006786301379325088. intercept: -0.09397986783227387. r_value 0.06525811448689763. p value: 1.3148079960012375e-42\n",
      "Snow depth change: -0.1524000000000001m\n",
      "No permittivity data provided -- calculating permittivity from snow density using method guneriussen2001.\n",
      "No permittivity data provided -- calculating permittivity from snow density using method guneriussen2001.\n",
      "Snow depth change mean -0.21040870249271393\n",
      "Snow Depth change IQR: 0.05757858511060476\n"
     ]
    },
    {
     "name": "stderr",
     "output_type": "stream",
     "text": [
      "/bsuhome/zacharykeskinen/miniconda3/envs/proj/lib/python3.9/site-packages/rioxarray/raster_writer.py:110: UserWarning: The nodata value (3.402823466e+38) has been automatically changed to (3.4028234663852886e+38) to match the dtype of the data.\n",
      "  warnings.warn(\n"
     ]
    },
    {
     "name": "stdout",
     "output_type": "stream",
     "text": [
      "Lidar Snow depth mean 1.0542833805084229\n",
      "Lidar Snow depth IQR 0.673980712890625\n",
      "slope: -0.005865581143601224. intercept: -0.20828201718297368. r_value -0.04048380087618316. p value: 2.9840763235399506e-22\n",
      "Snow depth change: 0.254m\n",
      "No permittivity data provided -- calculating permittivity from snow density using method guneriussen2001.\n",
      "No permittivity data provided -- calculating permittivity from snow density using method guneriussen2001.\n",
      "Snow depth change mean nan\n",
      "Snow Depth change IQR: 0.11005692929029465\n"
     ]
    },
    {
     "name": "stderr",
     "output_type": "stream",
     "text": [
      "/tmp/ipykernel_30445/2940413115.py:44: RuntimeWarning: Mean of empty slice\n",
      "  print(f'Snow depth change mean {np.nanmean(uavsar_sd)}')\n",
      "/bsuhome/zacharykeskinen/miniconda3/envs/proj/lib/python3.9/site-packages/rioxarray/raster_writer.py:110: UserWarning: The nodata value (3.402823466e+38) has been automatically changed to (3.4028234663852886e+38) to match the dtype of the data.\n",
      "  warnings.warn(\n"
     ]
    },
    {
     "name": "stdout",
     "output_type": "stream",
     "text": [
      "Lidar Snow depth mean 1.0542833805084229\n",
      "Lidar Snow depth IQR 0.673980712890625\n",
      "Snow depth change: -0.10159999999999991m\n",
      "No permittivity data provided -- calculating permittivity from snow density using method guneriussen2001.\n",
      "No permittivity data provided -- calculating permittivity from snow density using method guneriussen2001.\n",
      "Snow depth change mean -0.09106055647134781\n",
      "Snow Depth change IQR: 0.673980712890625\n"
     ]
    },
    {
     "name": "stderr",
     "output_type": "stream",
     "text": [
      "/bsuhome/zacharykeskinen/miniconda3/envs/proj/lib/python3.9/site-packages/rioxarray/raster_writer.py:110: UserWarning: The nodata value (3.402823466e+38) has been automatically changed to (3.4028234663852886e+38) to match the dtype of the data.\n",
      "  warnings.warn(\n"
     ]
    },
    {
     "name": "stdout",
     "output_type": "stream",
     "text": [
      "Lidar Snow depth mean 1.0542833805084229\n",
      "Lidar Snow depth IQR 0.673980712890625\n",
      "slope: -0.0010345236423670108. intercept: -0.0902320347885326. r_value -0.012534824648544865. p value: 0.0011680783014280617\n",
      "Snow depth change: -0.07620000000000005m\n",
      "No permittivity data provided -- calculating permittivity from snow density using method guneriussen2001.\n",
      "No permittivity data provided -- calculating permittivity from snow density using method guneriussen2001.\n",
      "Snow depth change mean -0.07030484080314636\n",
      "Snow Depth change IQR: 0.05432019755244255\n"
     ]
    },
    {
     "name": "stderr",
     "output_type": "stream",
     "text": [
      "/bsuhome/zacharykeskinen/miniconda3/envs/proj/lib/python3.9/site-packages/rioxarray/raster_writer.py:110: UserWarning: The nodata value (3.402823466e+38) has been automatically changed to (3.4028234663852886e+38) to match the dtype of the data.\n",
      "  warnings.warn(\n"
     ]
    },
    {
     "name": "stdout",
     "output_type": "stream",
     "text": [
      "Lidar Snow depth mean 1.0542833805084229\n",
      "Lidar Snow depth IQR 0.673980712890625\n",
      "slope: 0.00977154458913971. intercept: -0.08104141182271649. r_value 0.16518010455226786. p value: 0.0\n",
      "Snow depth change: 0.127m\n",
      "No permittivity data provided -- calculating permittivity from snow density using method guneriussen2001.\n",
      "No permittivity data provided -- calculating permittivity from snow density using method guneriussen2001.\n",
      "Snow depth change mean 0.09864376485347748\n",
      "Snow Depth change IQR: 0.03813013434410095\n"
     ]
    },
    {
     "name": "stderr",
     "output_type": "stream",
     "text": [
      "/bsuhome/zacharykeskinen/miniconda3/envs/proj/lib/python3.9/site-packages/rioxarray/raster_writer.py:110: UserWarning: The nodata value (3.402823466e+38) has been automatically changed to (3.4028234663852886e+38) to match the dtype of the data.\n",
      "  warnings.warn(\n"
     ]
    },
    {
     "name": "stdout",
     "output_type": "stream",
     "text": [
      "Lidar Snow depth mean 1.0542833805084229\n",
      "Lidar Snow depth IQR 0.673980712890625\n",
      "slope: 0.06499978956702912. intercept: 0.049066900441245204. r_value 0.49642319227772136. p value: 0.0\n",
      "Snow depth change: 0.050799999999999956m\n",
      "No permittivity data provided -- calculating permittivity from snow density using method guneriussen2001.\n",
      "No permittivity data provided -- calculating permittivity from snow density using method guneriussen2001.\n",
      "Snow depth change mean 0.0352737233042717\n",
      "Snow Depth change IQR: 0.06684927456080914\n"
     ]
    },
    {
     "name": "stderr",
     "output_type": "stream",
     "text": [
      "/bsuhome/zacharykeskinen/miniconda3/envs/proj/lib/python3.9/site-packages/rioxarray/raster_writer.py:110: UserWarning: The nodata value (3.402823466e+38) has been automatically changed to (3.4028234663852886e+38) to match the dtype of the data.\n",
      "  warnings.warn(\n"
     ]
    },
    {
     "name": "stdout",
     "output_type": "stream",
     "text": [
      "Lidar Snow depth mean 1.0542833805084229\n",
      "Lidar Snow depth IQR 0.673980712890625\n",
      "slope: 0.026543835256336176. intercept: 0.015502514821705223. r_value 0.31945136735110735. p value: 0.0\n",
      "Snow depth change: -0.15239999999999987m\n",
      "No permittivity data provided -- calculating permittivity from snow density using method guneriussen2001.\n",
      "No permittivity data provided -- calculating permittivity from snow density using method guneriussen2001.\n",
      "Snow depth change mean nan\n",
      "Snow Depth change IQR: 0.053574882447719574\n"
     ]
    },
    {
     "name": "stderr",
     "output_type": "stream",
     "text": [
      "/tmp/ipykernel_30445/2940413115.py:44: RuntimeWarning: Mean of empty slice\n",
      "  print(f'Snow depth change mean {np.nanmean(uavsar_sd)}')\n",
      "/bsuhome/zacharykeskinen/miniconda3/envs/proj/lib/python3.9/site-packages/rioxarray/raster_writer.py:110: UserWarning: The nodata value (3.402823466e+38) has been automatically changed to (3.4028234663852886e+38) to match the dtype of the data.\n",
      "  warnings.warn(\n"
     ]
    },
    {
     "name": "stdout",
     "output_type": "stream",
     "text": [
      "Lidar Snow depth mean 1.0542833805084229\n",
      "Lidar Snow depth IQR 0.673980712890625\n",
      "Snow depth change: -0.10159999999999991m\n",
      "No permittivity data provided -- calculating permittivity from snow density using method guneriussen2001.\n",
      "No permittivity data provided -- calculating permittivity from snow density using method guneriussen2001.\n",
      "Snow depth change mean -0.1394842118024826\n",
      "Snow Depth change IQR: 0.673980712890625\n"
     ]
    },
    {
     "name": "stderr",
     "output_type": "stream",
     "text": [
      "/bsuhome/zacharykeskinen/miniconda3/envs/proj/lib/python3.9/site-packages/rioxarray/raster_writer.py:110: UserWarning: The nodata value (3.402823466e+38) has been automatically changed to (3.4028234663852886e+38) to match the dtype of the data.\n",
      "  warnings.warn(\n"
     ]
    },
    {
     "name": "stdout",
     "output_type": "stream",
     "text": [
      "Lidar Snow depth mean 1.0542833805084229\n",
      "Lidar Snow depth IQR 0.673980712890625\n",
      "slope: 0.02247752918920662. intercept: -0.16254890512734027. r_value 0.16957816928263877. p value: 0.0\n",
      "Snow depth change: 0.025399999999999867m\n",
      "No permittivity data provided -- calculating permittivity from snow density using method guneriussen2001.\n",
      "No permittivity data provided -- calculating permittivity from snow density using method guneriussen2001.\n",
      "Snow depth change mean nan\n",
      "Snow Depth change IQR: 0.07909424602985382\n"
     ]
    },
    {
     "name": "stderr",
     "output_type": "stream",
     "text": [
      "/tmp/ipykernel_30445/2940413115.py:44: RuntimeWarning: Mean of empty slice\n",
      "  print(f'Snow depth change mean {np.nanmean(uavsar_sd)}')\n",
      "/bsuhome/zacharykeskinen/miniconda3/envs/proj/lib/python3.9/site-packages/rioxarray/raster_writer.py:110: UserWarning: The nodata value (3.402823466e+38) has been automatically changed to (3.4028234663852886e+38) to match the dtype of the data.\n",
      "  warnings.warn(\n"
     ]
    },
    {
     "name": "stdout",
     "output_type": "stream",
     "text": [
      "Lidar Snow depth mean 1.5124353170394897\n",
      "Lidar Snow depth IQR 0.588134765625\n",
      "Snow depth change: 0.254m\n",
      "No permittivity data provided -- calculating permittivity from snow density using method guneriussen2001.\n",
      "No permittivity data provided -- calculating permittivity from snow density using method guneriussen2001.\n",
      "Snow depth change mean nan\n",
      "Snow Depth change IQR: 0.588134765625\n"
     ]
    },
    {
     "name": "stderr",
     "output_type": "stream",
     "text": [
      "/tmp/ipykernel_30445/2940413115.py:44: RuntimeWarning: Mean of empty slice\n",
      "  print(f'Snow depth change mean {np.nanmean(uavsar_sd)}')\n",
      "/bsuhome/zacharykeskinen/miniconda3/envs/proj/lib/python3.9/site-packages/rioxarray/raster_writer.py:110: UserWarning: The nodata value (3.402823466e+38) has been automatically changed to (3.4028234663852886e+38) to match the dtype of the data.\n",
      "  warnings.warn(\n"
     ]
    },
    {
     "name": "stdout",
     "output_type": "stream",
     "text": [
      "Lidar Snow depth mean 1.5124353170394897\n",
      "Lidar Snow depth IQR 0.588134765625\n",
      "Snow depth change: -0.10160000000000013m\n",
      "No permittivity data provided -- calculating permittivity from snow density using method guneriussen2001.\n",
      "No permittivity data provided -- calculating permittivity from snow density using method guneriussen2001.\n",
      "Snow depth change mean -0.08890761435031891\n",
      "Snow Depth change IQR: 0.588134765625\n"
     ]
    },
    {
     "name": "stderr",
     "output_type": "stream",
     "text": [
      "/bsuhome/zacharykeskinen/miniconda3/envs/proj/lib/python3.9/site-packages/rioxarray/raster_writer.py:110: UserWarning: The nodata value (3.402823466e+38) has been automatically changed to (3.4028234663852886e+38) to match the dtype of the data.\n",
      "  warnings.warn(\n"
     ]
    },
    {
     "name": "stdout",
     "output_type": "stream",
     "text": [
      "Lidar Snow depth mean 1.5124353170394897\n",
      "Lidar Snow depth IQR 0.588134765625\n",
      "slope: 0.023002204272321275. intercept: -0.1240407624108715. r_value 0.29961768747512374. p value: 0.0\n",
      "Snow depth change: -0.10160000000000013m\n",
      "No permittivity data provided -- calculating permittivity from snow density using method guneriussen2001.\n",
      "No permittivity data provided -- calculating permittivity from snow density using method guneriussen2001.\n",
      "Snow depth change mean -0.10232782363891602\n",
      "Snow Depth change IQR: 0.04217706620693207\n"
     ]
    },
    {
     "name": "stderr",
     "output_type": "stream",
     "text": [
      "/bsuhome/zacharykeskinen/miniconda3/envs/proj/lib/python3.9/site-packages/rioxarray/raster_writer.py:110: UserWarning: The nodata value (3.402823466e+38) has been automatically changed to (3.4028234663852886e+38) to match the dtype of the data.\n",
      "  warnings.warn(\n"
     ]
    },
    {
     "name": "stdout",
     "output_type": "stream",
     "text": [
      "Lidar Snow depth mean 1.5124353170394897\n",
      "Lidar Snow depth IQR 0.588134765625\n",
      "slope: 0.03972134915895181. intercept: -0.16101686860252992. r_value 0.47545129578520623. p value: 0.0\n",
      "Snow depth change: -0.07619999999999982m\n",
      "No permittivity data provided -- calculating permittivity from snow density using method guneriussen2001.\n",
      "No permittivity data provided -- calculating permittivity from snow density using method guneriussen2001.\n",
      "Snow depth change mean -0.07147350907325745\n",
      "Snow Depth change IQR: 0.04429049789905548\n"
     ]
    },
    {
     "name": "stderr",
     "output_type": "stream",
     "text": [
      "/bsuhome/zacharykeskinen/miniconda3/envs/proj/lib/python3.9/site-packages/rioxarray/raster_writer.py:110: UserWarning: The nodata value (3.402823466e+38) has been automatically changed to (3.4028234663852886e+38) to match the dtype of the data.\n",
      "  warnings.warn(\n"
     ]
    },
    {
     "name": "stdout",
     "output_type": "stream",
     "text": [
      "Lidar Snow depth mean 1.5124353170394897\n",
      "Lidar Snow depth IQR 0.588134765625\n",
      "slope: 0.019173274585629493. intercept: -0.09990944857646626. r_value 0.30626369219159677. p value: 0.0\n",
      "Snow depth change: 0.025399999999999867m\n",
      "No permittivity data provided -- calculating permittivity from snow density using method guneriussen2001.\n",
      "No permittivity data provided -- calculating permittivity from snow density using method guneriussen2001.\n",
      "Snow depth change mean nan\n",
      "Snow Depth change IQR: 0.036846552044153214\n"
     ]
    },
    {
     "name": "stderr",
     "output_type": "stream",
     "text": [
      "/tmp/ipykernel_30445/2940413115.py:44: RuntimeWarning: Mean of empty slice\n",
      "  print(f'Snow depth change mean {np.nanmean(uavsar_sd)}')\n",
      "/bsuhome/zacharykeskinen/miniconda3/envs/proj/lib/python3.9/site-packages/rioxarray/raster_writer.py:110: UserWarning: The nodata value (3.402823466e+38) has been automatically changed to (3.4028234663852886e+38) to match the dtype of the data.\n",
      "  warnings.warn(\n"
     ]
    },
    {
     "name": "stdout",
     "output_type": "stream",
     "text": [
      "Lidar Snow depth mean 1.5124353170394897\n",
      "Lidar Snow depth IQR 0.588134765625\n",
      "Snow depth change: -0.07619999999999982m\n",
      "No permittivity data provided -- calculating permittivity from snow density using method guneriussen2001.\n",
      "No permittivity data provided -- calculating permittivity from snow density using method guneriussen2001.\n",
      "Snow depth change mean -0.12263953685760498\n",
      "Snow Depth change IQR: 0.588134765625\n"
     ]
    },
    {
     "name": "stderr",
     "output_type": "stream",
     "text": [
      "/bsuhome/zacharykeskinen/miniconda3/envs/proj/lib/python3.9/site-packages/rioxarray/raster_writer.py:110: UserWarning: The nodata value (3.402823466e+38) has been automatically changed to (3.4028234663852886e+38) to match the dtype of the data.\n",
      "  warnings.warn(\n"
     ]
    },
    {
     "name": "stdout",
     "output_type": "stream",
     "text": [
      "Lidar Snow depth mean 1.5124353170394897\n",
      "Lidar Snow depth IQR 0.588134765625\n",
      "slope: 0.011534247863256714. intercept: -0.13866267850709785. r_value 0.12035405943091322. p value: 0.0\n",
      "Snow depth change: 0.381m\n",
      "No permittivity data provided -- calculating permittivity from snow density using method guneriussen2001.\n",
      "No permittivity data provided -- calculating permittivity from snow density using method guneriussen2001.\n",
      "Snow depth change mean 0.32197079062461853\n",
      "Snow Depth change IQR: 0.06140170991420746\n"
     ]
    },
    {
     "name": "stderr",
     "output_type": "stream",
     "text": [
      "/bsuhome/zacharykeskinen/miniconda3/envs/proj/lib/python3.9/site-packages/rioxarray/raster_writer.py:110: UserWarning: The nodata value (3.402823466e+38) has been automatically changed to (3.4028234663852886e+38) to match the dtype of the data.\n",
      "  warnings.warn(\n"
     ]
    },
    {
     "name": "stdout",
     "output_type": "stream",
     "text": [
      "Lidar Snow depth mean 1.5124353170394897\n",
      "Lidar Snow depth IQR 0.588134765625\n",
      "slope: 0.052495063342910674. intercept: 0.255054669814206. r_value 0.24534989502757437. p value: 0.0\n",
      "Snow depth change: -0.127m\n",
      "No permittivity data provided -- calculating permittivity from snow density using method guneriussen2001.\n",
      "No permittivity data provided -- calculating permittivity from snow density using method guneriussen2001.\n",
      "Snow depth change mean -0.1111055389046669\n",
      "Snow Depth change IQR: 0.13450982421636581\n"
     ]
    },
    {
     "name": "stderr",
     "output_type": "stream",
     "text": [
      "/bsuhome/zacharykeskinen/miniconda3/envs/proj/lib/python3.9/site-packages/rioxarray/raster_writer.py:110: UserWarning: The nodata value (3.402823466e+38) has been automatically changed to (3.4028234663852886e+38) to match the dtype of the data.\n",
      "  warnings.warn(\n"
     ]
    },
    {
     "name": "stdout",
     "output_type": "stream",
     "text": [
      "Lidar Snow depth mean 1.5124353170394897\n",
      "Lidar Snow depth IQR 0.588134765625\n",
      "slope: -0.02422390517623959. intercept: -0.08645165022726234. r_value -0.2701567569507953. p value: 0.0\n",
      "Snow depth change: -0.050799999999999956m\n",
      "No permittivity data provided -- calculating permittivity from snow density using method guneriussen2001.\n",
      "No permittivity data provided -- calculating permittivity from snow density using method guneriussen2001.\n",
      "Snow depth change mean -0.07392358034849167\n",
      "Snow Depth change IQR: 0.05873696692287922\n"
     ]
    },
    {
     "name": "stderr",
     "output_type": "stream",
     "text": [
      "/bsuhome/zacharykeskinen/miniconda3/envs/proj/lib/python3.9/site-packages/rioxarray/raster_writer.py:110: UserWarning: The nodata value (3.402823466e+38) has been automatically changed to (3.4028234663852886e+38) to match the dtype of the data.\n",
      "  warnings.warn(\n"
     ]
    },
    {
     "name": "stdout",
     "output_type": "stream",
     "text": [
      "Lidar Snow depth mean 1.5124353170394897\n",
      "Lidar Snow depth IQR 0.588134765625\n",
      "slope: -0.0003370180977104052. intercept: -0.07545555836324898. r_value -0.006403231908338547. p value: 0.00032181239128975655\n",
      "Snow depth change: 0.0m\n",
      "No permittivity data provided -- calculating permittivity from snow density using method guneriussen2001.\n",
      "No permittivity data provided -- calculating permittivity from snow density using method guneriussen2001.\n",
      "Snow depth change mean -0.0006132690468803048\n",
      "Snow Depth change IQR: 0.036450738087296486\n"
     ]
    },
    {
     "name": "stderr",
     "output_type": "stream",
     "text": [
      "/bsuhome/zacharykeskinen/miniconda3/envs/proj/lib/python3.9/site-packages/rioxarray/raster_writer.py:110: UserWarning: The nodata value (3.402823466e+38) has been automatically changed to (3.4028234663852886e+38) to match the dtype of the data.\n",
      "  warnings.warn(\n"
     ]
    },
    {
     "name": "stdout",
     "output_type": "stream",
     "text": [
      "Lidar Snow depth mean 1.5124353170394897\n",
      "Lidar Snow depth IQR 0.588134765625\n",
      "slope: 0.023245147934522422. intercept: -0.028406206966903706. r_value 0.21053081040404617. p value: 0.0\n",
      "Snow depth change: -0.050799999999999956m\n",
      "No permittivity data provided -- calculating permittivity from snow density using method guneriussen2001.\n",
      "No permittivity data provided -- calculating permittivity from snow density using method guneriussen2001.\n",
      "Snow depth change mean -0.06897004693746567\n",
      "Snow Depth change IQR: 0.05477242637425661\n"
     ]
    },
    {
     "name": "stderr",
     "output_type": "stream",
     "text": [
      "/bsuhome/zacharykeskinen/miniconda3/envs/proj/lib/python3.9/site-packages/rioxarray/raster_writer.py:110: UserWarning: The nodata value (3.402823466e+38) has been automatically changed to (3.4028234663852886e+38) to match the dtype of the data.\n",
      "  warnings.warn(\n"
     ]
    },
    {
     "name": "stdout",
     "output_type": "stream",
     "text": [
      "Lidar Snow depth mean 1.5124353170394897\n",
      "Lidar Snow depth IQR 0.588134765625\n",
      "slope: -0.007562785872953571. intercept: -0.06140149318100119. r_value -0.14665705070318186. p value: 0.0\n",
      "Snow depth change: -0.07620000000000005m\n",
      "No permittivity data provided -- calculating permittivity from snow density using method guneriussen2001.\n",
      "No permittivity data provided -- calculating permittivity from snow density using method guneriussen2001.\n",
      "Snow depth change mean -0.08522888273000717\n",
      "Snow Depth change IQR: 0.03338336758315563\n"
     ]
    },
    {
     "name": "stderr",
     "output_type": "stream",
     "text": [
      "/bsuhome/zacharykeskinen/miniconda3/envs/proj/lib/python3.9/site-packages/rioxarray/raster_writer.py:110: UserWarning: The nodata value (3.402823466e+38) has been automatically changed to (3.4028234663852886e+38) to match the dtype of the data.\n",
      "  warnings.warn(\n"
     ]
    },
    {
     "name": "stdout",
     "output_type": "stream",
     "text": [
      "Lidar Snow depth mean 1.5124353170394897\n",
      "Lidar Snow depth IQR 0.588134765625\n",
      "slope: 0.027443196337516965. intercept: -0.12348226137414917. r_value 0.2953970309553282. p value: 0.0\n",
      "Snow depth change: -0.127m\n",
      "No permittivity data provided -- calculating permittivity from snow density using method guneriussen2001.\n",
      "No permittivity data provided -- calculating permittivity from snow density using method guneriussen2001.\n",
      "Snow depth change mean -0.1321476846933365\n",
      "Snow Depth change IQR: 0.051965516060590744\n"
     ]
    },
    {
     "name": "stderr",
     "output_type": "stream",
     "text": [
      "/bsuhome/zacharykeskinen/miniconda3/envs/proj/lib/python3.9/site-packages/rioxarray/raster_writer.py:110: UserWarning: The nodata value (3.402823466e+38) has been automatically changed to (3.4028234663852886e+38) to match the dtype of the data.\n",
      "  warnings.warn(\n"
     ]
    },
    {
     "name": "stdout",
     "output_type": "stream",
     "text": [
      "Lidar Snow depth mean 1.5124353170394897\n",
      "Lidar Snow depth IQR 0.588134765625\n",
      "slope: 0.007888651513925968. intercept: -0.1435401510345613. r_value 0.0981985439178845. p value: 0.0\n",
      "Snow depth change: 0.025399999999999867m\n",
      "No permittivity data provided -- calculating permittivity from snow density using method guneriussen2001.\n",
      "No permittivity data provided -- calculating permittivity from snow density using method guneriussen2001.\n",
      "Snow depth change mean nan\n",
      "Snow Depth change IQR: 0.050411080941557884\n"
     ]
    },
    {
     "name": "stderr",
     "output_type": "stream",
     "text": [
      "/tmp/ipykernel_30445/2940413115.py:44: RuntimeWarning: Mean of empty slice\n",
      "  print(f'Snow depth change mean {np.nanmean(uavsar_sd)}')\n",
      "/bsuhome/zacharykeskinen/miniconda3/envs/proj/lib/python3.9/site-packages/rioxarray/raster_writer.py:110: UserWarning: The nodata value (3.402823466e+38) has been automatically changed to (3.4028234663852886e+38) to match the dtype of the data.\n",
      "  warnings.warn(\n"
     ]
    },
    {
     "name": "stdout",
     "output_type": "stream",
     "text": [
      "Lidar Snow depth mean 1.4838752746582031\n",
      "Lidar Snow depth IQR 0.58251953125\n",
      "Snow depth change: 0.254m\n",
      "No permittivity data provided -- calculating permittivity from snow density using method guneriussen2001.\n",
      "No permittivity data provided -- calculating permittivity from snow density using method guneriussen2001.\n",
      "Snow depth change mean nan\n",
      "Snow Depth change IQR: 0.58251953125\n"
     ]
    },
    {
     "name": "stderr",
     "output_type": "stream",
     "text": [
      "/tmp/ipykernel_30445/2940413115.py:44: RuntimeWarning: Mean of empty slice\n",
      "  print(f'Snow depth change mean {np.nanmean(uavsar_sd)}')\n",
      "/bsuhome/zacharykeskinen/miniconda3/envs/proj/lib/python3.9/site-packages/rioxarray/raster_writer.py:110: UserWarning: The nodata value (3.402823466e+38) has been automatically changed to (3.4028234663852886e+38) to match the dtype of the data.\n",
      "  warnings.warn(\n"
     ]
    },
    {
     "name": "stdout",
     "output_type": "stream",
     "text": [
      "Lidar Snow depth mean 1.4838752746582031\n",
      "Lidar Snow depth IQR 0.58251953125\n",
      "Snow depth change: -0.10160000000000013m\n",
      "No permittivity data provided -- calculating permittivity from snow density using method guneriussen2001.\n",
      "No permittivity data provided -- calculating permittivity from snow density using method guneriussen2001.\n",
      "Snow depth change mean -0.08890761435031891\n",
      "Snow Depth change IQR: 0.58251953125\n"
     ]
    },
    {
     "name": "stderr",
     "output_type": "stream",
     "text": [
      "/bsuhome/zacharykeskinen/miniconda3/envs/proj/lib/python3.9/site-packages/rioxarray/raster_writer.py:110: UserWarning: The nodata value (3.402823466e+38) has been automatically changed to (3.4028234663852886e+38) to match the dtype of the data.\n",
      "  warnings.warn(\n"
     ]
    },
    {
     "name": "stdout",
     "output_type": "stream",
     "text": [
      "Lidar Snow depth mean 1.4838752746582031\n",
      "Lidar Snow depth IQR 0.58251953125\n",
      "slope: 0.021519872585587192. intercept: -0.12161156756289725. r_value 0.28628692336800593. p value: 0.0\n",
      "Snow depth change: -0.10160000000000013m\n",
      "No permittivity data provided -- calculating permittivity from snow density using method guneriussen2001.\n",
      "No permittivity data provided -- calculating permittivity from snow density using method guneriussen2001.\n",
      "Snow depth change mean -0.10232782363891602\n",
      "Snow Depth change IQR: 0.04217706620693207\n"
     ]
    },
    {
     "name": "stderr",
     "output_type": "stream",
     "text": [
      "/bsuhome/zacharykeskinen/miniconda3/envs/proj/lib/python3.9/site-packages/rioxarray/raster_writer.py:110: UserWarning: The nodata value (3.402823466e+38) has been automatically changed to (3.4028234663852886e+38) to match the dtype of the data.\n",
      "  warnings.warn(\n"
     ]
    },
    {
     "name": "stdout",
     "output_type": "stream",
     "text": [
      "Lidar Snow depth mean 1.4838752746582031\n",
      "Lidar Snow depth IQR 0.58251953125\n",
      "slope: 0.044063745126255244. intercept: -0.16548088473954525. r_value 0.5675364655462974. p value: 0.0\n",
      "Snow depth change: -0.07619999999999982m\n",
      "No permittivity data provided -- calculating permittivity from snow density using method guneriussen2001.\n",
      "No permittivity data provided -- calculating permittivity from snow density using method guneriussen2001.\n",
      "Snow depth change mean -0.07147350907325745\n",
      "Snow Depth change IQR: 0.04429049789905548\n"
     ]
    },
    {
     "name": "stderr",
     "output_type": "stream",
     "text": [
      "/bsuhome/zacharykeskinen/miniconda3/envs/proj/lib/python3.9/site-packages/rioxarray/raster_writer.py:110: UserWarning: The nodata value (3.402823466e+38) has been automatically changed to (3.4028234663852886e+38) to match the dtype of the data.\n",
      "  warnings.warn(\n"
     ]
    },
    {
     "name": "stdout",
     "output_type": "stream",
     "text": [
      "Lidar Snow depth mean 1.4838752746582031\n",
      "Lidar Snow depth IQR 0.58251953125\n",
      "slope: 0.018757180609645072. intercept: -0.09929595671331753. r_value 0.3049343606187722. p value: 0.0\n",
      "Snow depth change: 0.025399999999999867m\n",
      "No permittivity data provided -- calculating permittivity from snow density using method guneriussen2001.\n",
      "No permittivity data provided -- calculating permittivity from snow density using method guneriussen2001.\n",
      "Snow depth change mean nan\n",
      "Snow Depth change IQR: 0.036846552044153214\n"
     ]
    },
    {
     "name": "stderr",
     "output_type": "stream",
     "text": [
      "/tmp/ipykernel_30445/2940413115.py:44: RuntimeWarning: Mean of empty slice\n",
      "  print(f'Snow depth change mean {np.nanmean(uavsar_sd)}')\n",
      "/bsuhome/zacharykeskinen/miniconda3/envs/proj/lib/python3.9/site-packages/rioxarray/raster_writer.py:110: UserWarning: The nodata value (3.402823466e+38) has been automatically changed to (3.4028234663852886e+38) to match the dtype of the data.\n",
      "  warnings.warn(\n"
     ]
    },
    {
     "name": "stdout",
     "output_type": "stream",
     "text": [
      "Lidar Snow depth mean 1.4838752746582031\n",
      "Lidar Snow depth IQR 0.58251953125\n",
      "Snow depth change: -0.07619999999999982m\n",
      "No permittivity data provided -- calculating permittivity from snow density using method guneriussen2001.\n",
      "No permittivity data provided -- calculating permittivity from snow density using method guneriussen2001.\n",
      "Snow depth change mean -0.12263953685760498\n",
      "Snow Depth change IQR: 0.58251953125\n"
     ]
    },
    {
     "name": "stderr",
     "output_type": "stream",
     "text": [
      "/bsuhome/zacharykeskinen/miniconda3/envs/proj/lib/python3.9/site-packages/rioxarray/raster_writer.py:110: UserWarning: The nodata value (3.402823466e+38) has been automatically changed to (3.4028234663852886e+38) to match the dtype of the data.\n",
      "  warnings.warn(\n"
     ]
    },
    {
     "name": "stdout",
     "output_type": "stream",
     "text": [
      "Lidar Snow depth mean 1.4838752746582031\n",
      "Lidar Snow depth IQR 0.58251953125\n",
      "slope: 0.02636941420809784. intercept: -0.16028205225719255. r_value 0.2852461887711383. p value: 0.0\n",
      "Snow depth change: 0.381m\n",
      "No permittivity data provided -- calculating permittivity from snow density using method guneriussen2001.\n",
      "No permittivity data provided -- calculating permittivity from snow density using method guneriussen2001.\n",
      "Snow depth change mean 0.32197079062461853\n",
      "Snow Depth change IQR: 0.06140170991420746\n"
     ]
    },
    {
     "name": "stderr",
     "output_type": "stream",
     "text": [
      "/bsuhome/zacharykeskinen/miniconda3/envs/proj/lib/python3.9/site-packages/rioxarray/raster_writer.py:110: UserWarning: The nodata value (3.402823466e+38) has been automatically changed to (3.4028234663852886e+38) to match the dtype of the data.\n",
      "  warnings.warn(\n"
     ]
    },
    {
     "name": "stdout",
     "output_type": "stream",
     "text": [
      "Lidar Snow depth mean 1.4838752746582031\n",
      "Lidar Snow depth IQR 0.58251953125\n",
      "slope: 0.07069793391988373. intercept: 0.22811042953442529. r_value 0.3374721761659794. p value: 0.0\n",
      "Snow depth change: -0.127m\n",
      "No permittivity data provided -- calculating permittivity from snow density using method guneriussen2001.\n",
      "No permittivity data provided -- calculating permittivity from snow density using method guneriussen2001.\n",
      "Snow depth change mean -0.1111055389046669\n",
      "Snow Depth change IQR: 0.13450982421636581\n"
     ]
    },
    {
     "name": "stderr",
     "output_type": "stream",
     "text": [
      "/bsuhome/zacharykeskinen/miniconda3/envs/proj/lib/python3.9/site-packages/rioxarray/raster_writer.py:110: UserWarning: The nodata value (3.402823466e+38) has been automatically changed to (3.4028234663852886e+38) to match the dtype of the data.\n",
      "  warnings.warn(\n"
     ]
    },
    {
     "name": "stdout",
     "output_type": "stream",
     "text": [
      "Lidar Snow depth mean 1.4838752746582031\n",
      "Lidar Snow depth IQR 0.58251953125\n",
      "slope: -0.029461627387226866. intercept: -0.07851926261064059. r_value -0.3373570221737249. p value: 0.0\n",
      "Snow depth change: -0.050799999999999956m\n",
      "No permittivity data provided -- calculating permittivity from snow density using method guneriussen2001.\n",
      "No permittivity data provided -- calculating permittivity from snow density using method guneriussen2001.\n",
      "Snow depth change mean -0.07392358034849167\n",
      "Snow Depth change IQR: 0.05873696692287922\n"
     ]
    },
    {
     "name": "stderr",
     "output_type": "stream",
     "text": [
      "/bsuhome/zacharykeskinen/miniconda3/envs/proj/lib/python3.9/site-packages/rioxarray/raster_writer.py:110: UserWarning: The nodata value (3.402823466e+38) has been automatically changed to (3.4028234663852886e+38) to match the dtype of the data.\n",
      "  warnings.warn(\n"
     ]
    },
    {
     "name": "stdout",
     "output_type": "stream",
     "text": [
      "Lidar Snow depth mean 1.4838752746582031\n",
      "Lidar Snow depth IQR 0.58251953125\n",
      "slope: -0.0005150311541020507. intercept: -0.07521422974667662. r_value -0.010066563586824097. p value: 1.6114281009289875e-08\n",
      "Snow depth change: 0.0m\n",
      "No permittivity data provided -- calculating permittivity from snow density using method guneriussen2001.\n",
      "No permittivity data provided -- calculating permittivity from snow density using method guneriussen2001.\n",
      "Snow depth change mean -0.0006132690468803048\n",
      "Snow Depth change IQR: 0.036450738087296486\n"
     ]
    },
    {
     "name": "stderr",
     "output_type": "stream",
     "text": [
      "/bsuhome/zacharykeskinen/miniconda3/envs/proj/lib/python3.9/site-packages/rioxarray/raster_writer.py:110: UserWarning: The nodata value (3.402823466e+38) has been automatically changed to (3.4028234663852886e+38) to match the dtype of the data.\n",
      "  warnings.warn(\n"
     ]
    },
    {
     "name": "stdout",
     "output_type": "stream",
     "text": [
      "Lidar Snow depth mean 1.4838752746582031\n",
      "Lidar Snow depth IQR 0.58251953125\n",
      "slope: 0.02752491791392621. intercept: -0.0347409016227339. r_value 0.25717315523238315. p value: 0.0\n",
      "Snow depth change: -0.050799999999999956m\n",
      "No permittivity data provided -- calculating permittivity from snow density using method guneriussen2001.\n",
      "No permittivity data provided -- calculating permittivity from snow density using method guneriussen2001.\n",
      "Snow depth change mean -0.06897004693746567\n",
      "Snow Depth change IQR: 0.05477242637425661\n"
     ]
    },
    {
     "name": "stderr",
     "output_type": "stream",
     "text": [
      "/bsuhome/zacharykeskinen/miniconda3/envs/proj/lib/python3.9/site-packages/rioxarray/raster_writer.py:110: UserWarning: The nodata value (3.402823466e+38) has been automatically changed to (3.4028234663852886e+38) to match the dtype of the data.\n",
      "  warnings.warn(\n"
     ]
    },
    {
     "name": "stdout",
     "output_type": "stream",
     "text": [
      "Lidar Snow depth mean 1.4838752746582031\n",
      "Lidar Snow depth IQR 0.58251953125\n",
      "slope: -0.009551536507922544. intercept: -0.05845673724769627. r_value -0.1893744003474856. p value: 0.0\n",
      "Snow depth change: -0.07620000000000005m\n",
      "No permittivity data provided -- calculating permittivity from snow density using method guneriussen2001.\n",
      "No permittivity data provided -- calculating permittivity from snow density using method guneriussen2001.\n",
      "Snow depth change mean -0.08522888273000717\n",
      "Snow Depth change IQR: 0.03338336758315563\n"
     ]
    },
    {
     "name": "stderr",
     "output_type": "stream",
     "text": [
      "/bsuhome/zacharykeskinen/miniconda3/envs/proj/lib/python3.9/site-packages/rioxarray/raster_writer.py:110: UserWarning: The nodata value (3.402823466e+38) has been automatically changed to (3.4028234663852886e+38) to match the dtype of the data.\n",
      "  warnings.warn(\n"
     ]
    },
    {
     "name": "stdout",
     "output_type": "stream",
     "text": [
      "Lidar Snow depth mean 1.4838752746582031\n",
      "Lidar Snow depth IQR 0.58251953125\n",
      "slope: 0.02590795992727606. intercept: -0.1212140699068737. r_value 0.28486320710841695. p value: 0.0\n",
      "Snow depth change: -0.127m\n",
      "No permittivity data provided -- calculating permittivity from snow density using method guneriussen2001.\n",
      "No permittivity data provided -- calculating permittivity from snow density using method guneriussen2001.\n",
      "Snow depth change mean -0.1321476846933365\n",
      "Snow Depth change IQR: 0.051965516060590744\n"
     ]
    },
    {
     "name": "stderr",
     "output_type": "stream",
     "text": [
      "/bsuhome/zacharykeskinen/miniconda3/envs/proj/lib/python3.9/site-packages/rioxarray/raster_writer.py:110: UserWarning: The nodata value (3.402823466e+38) has been automatically changed to (3.4028234663852886e+38) to match the dtype of the data.\n",
      "  warnings.warn(\n"
     ]
    },
    {
     "name": "stdout",
     "output_type": "stream",
     "text": [
      "Lidar Snow depth mean 1.4838752746582031\n",
      "Lidar Snow depth IQR 0.58251953125\n",
      "slope: 0.00990473760895637. intercept: -0.1462439866568819. r_value 0.1288576319127769. p value: 0.0\n"
     ]
    }
   ],
   "source": [
    "from rasterio.enums import Resampling\n",
    "\n",
    "res = pd.DataFrame()\n",
    "i = 0\n",
    "low_vv_imgs = [fps for fps in image_fps if (fps['location'] == 'Lowman, CO') & (fps['pol'] == 'VV')]\n",
    "for loc_dir in glob(join(lidar_dir , 'Lowman,_CO', '*')):\n",
    "    sd_fps = glob(join(loc_dir, '*_SD_*')) + glob(join(loc_dir, '*snowdepth*'))\n",
    "    for sd_fp in sd_fps:\n",
    "        for img in low_vv_imgs:\n",
    "            try:\n",
    "                sd = rxa.open_rasterio(sd_fp).rio.reproject('EPSG:4326')\n",
    "                lidar_date = pd.Timestamp(get_name(sd_fp).date()).tz_localize('US/MOUNTAIN')\n",
    "                save = True\n",
    "                phase = rxa.open_rasterio(img['fp'])\n",
    "                phase = phase.rio.clip_box(*sd.rio.bounds())\n",
    "\n",
    "                desc = pd.read_csv(img['ann'])\n",
    "                    # calculate how to get to 30 metere resolution from 0.0005 degrees\n",
    "                new_res_m = 30\n",
    "                y1 = float(desc['grd.row_addr'][0])\n",
    "                dy = float(desc['grd.row_mult'][0])\n",
    "                x1 = float(desc['grd.col_addr'][0])\n",
    "                dx = float(desc['grd.col_mult'][0])\n",
    "                conversion = (new_res_m/1000) / calc_distance(y1, x1, y1+dy, x1 + dx)\n",
    "                phase = phase.rio.reproject(phase.rio.crs, \\\n",
    "                                                shape = (int(phase.rio.height/conversion), int(phase.rio.width/conversion)),\n",
    "                                                resampling = Resampling.average)\n",
    "\n",
    "                inc = rxa.open_rasterio(img['inc'])\n",
    "                inc = inc.rio.reproject_match(phase)\n",
    "                cor = rxa.open_rasterio(img['cor'])\n",
    "                cor = cor.rio.reproject_match(phase)\n",
    "                sd_delta = get_snow_depth_change(basename(loc_dir),img['flight1'],img['flight2'])\n",
    "                print(f'Snow depth change: {sd_delta}m')\n",
    "                loc = get_snotel_loc(basename(loc_dir))\n",
    "                snotel_inc = inc.sel(x = loc.x, y = loc.y, method = 'nearest').values[0]\n",
    "                phase_correct = phase_from_depth(sd_delta, inc_angle= snotel_inc, density = 250)\n",
    "                snotel_phase = phase.sel(x= loc.x, y=loc.y, method = 'nearest').values[0]\n",
    "                if np.isnan(snotel_phase):\n",
    "                    snotel_phase = 0\n",
    "                uavsar_sd = depth_from_phase(phase.values - (snotel_phase - phase_correct), inc.values, density = 250)\n",
    "                phase.values = uavsar_sd\n",
    "\n",
    "                print(f'Snow depth change mean {np.nanmean(uavsar_sd)}')\n",
    "                print(f'Snow Depth change IQR: {iqr}')\n",
    "\n",
    "                sd = sd.rio.reproject_match(phase)\n",
    "                sd = sd.where(sd < 10)\n",
    "                sd = sd.where(sd > 0)\n",
    "\n",
    "                print(f'Lidar Snow depth mean {np.nanmean(sd)}')\n",
    "                iqr = np.subtract(*np.nanpercentile(sd, [75, 25]))\n",
    "                print(f'Lidar Snow depth IQR {iqr}')\n",
    "\n",
    "                sd = sd.where(sd < 1000)\n",
    "                sd = sd.where(~np.isnan(phase))\n",
    "                phase = phase.where(~np.isnan(sd))\n",
    "\n",
    "                sds, uav, cors = clean_nps([sd.values.ravel(), phase.values.ravel(), cor.values.ravel()])\n",
    "                cond = (cors > 0.35)\n",
    "                slope, intercept,r,p, _, _ = r2_value(sds[cond], uav[cond])\n",
    "\n",
    "                name = '_'.join(basename(sd_fp).split('.')[:-1])\n",
    "                f1 = img['flight1'].date().strftime(\"%Y-%m-%d\")\n",
    "                f2 = img['flight2'].date().strftime(\"%Y-%m-%d\")\n",
    "\n",
    "                res.loc[i, 'flight1'] = f1\n",
    "                res.loc[i, 'flight2'] = f2\n",
    "                res.loc[i, 'r'] = r\n",
    "                res.loc[i, 'uavsar_sd_mean'] = np.nanmean(uavsar_sd)\n",
    "                iqr = np.subtract(*np.nanpercentile(uavsar_sd, [75, 25]))\n",
    "                res.loc[i, 'uavsar_sd_iqr'] = iqr\n",
    "                res.loc[i, 'lidar_sd_mean'] = np.nanmean(sd)\n",
    "                iqr = np.subtract(*np.nanpercentile(uavsar_sd, [75, 25]))\n",
    "                res.loc[i, 'lidar_sd_iqr'] = iqr\n",
    "                res.loc[i, 'snotel_sd_change'] = sd_delta\n",
    "                i += 1\n",
    "            except:\n",
    "                pass\n"
   ]
  },
  {
   "cell_type": "code",
   "execution_count": null,
   "metadata": {},
   "outputs": [],
   "source": [
    "# res = pd.read_csv('/bsuhome/zacharykeskinen/uavsar/results/sd_compare_r.csv')"
   ]
  },
  {
   "cell_type": "code",
   "execution_count": 36,
   "metadata": {},
   "outputs": [
    {
     "data": {
      "text/plain": [
       "<matplotlib.collections.PathCollection at 0x2aab19efe880>"
      ]
     },
     "execution_count": 36,
     "metadata": {},
     "output_type": "execute_result"
    },
    {
     "data": {
      "image/png": "[encoded data removed]",
      "text/plain": [
       "<Figure size 432x288 with 1 Axes>"
      ]
     },
     "metadata": {
      "needs_background": "light"
     },
     "output_type": "display_data"
    }
   ],
   "source": [
    "plt.scatter(res.uavsar_sd_mean, res.r)"
   ]
  },
  {
   "cell_type": "code",
   "execution_count": null,
   "metadata": {},
   "outputs": [],
   "source": []
  }
 ],
 "metadata": {
  "kernelspec": {
   "display_name": "Python 3.9.13 ('proj')",
   "language": "python",
   "name": "python3"
  },
  "language_info": {
   "codemirror_mode": {
    "name": "ipython",
    "version": 3
   },
   "file_extension": ".py",
   "mimetype": "text/x-python",
   "name": "python",
   "nbconvert_exporter": "python",
   "pygments_lexer": "ipython3",
   "version": "3.9.13"
  },
  "orig_nbformat": 4,
  "vscode": {
   "interpreter": {
    "hash": "be18628f3b6aaaf0d9a50c1a0a68c0122e22b01f7b4495836f3dc0caac12767e"
   }
  }
 },
 "nbformat": 4,
 "nbformat_minor": 2
}
