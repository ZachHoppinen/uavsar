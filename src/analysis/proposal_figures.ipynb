{
 "cells": [
  {
   "cell_type": "code",
   "execution_count": 7,
   "metadata": {},
   "outputs": [],
   "source": [
    "import os\n",
    "import glob\n",
    "import pandas as pd\n",
    "import numpy as np"
   ]
  },
  {
   "cell_type": "code",
   "execution_count": 3,
   "metadata": {},
   "outputs": [],
   "source": [
    "dir_p = '/SNOWDATA/uavsar/imgs'"
   ]
  },
  {
   "cell_type": "code",
   "execution_count": 16,
   "metadata": {},
   "outputs": [
    {
     "data": {
      "text/plain": [
       "('/SNOWDATA/uavsar/imgs/*/*',)"
      ]
     },
     "execution_count": 16,
     "metadata": {},
     "output_type": "execute_result"
    }
   ],
   "source": [
    "os.path.join(dir_p, '*/*'),"
   ]
  },
  {
   "cell_type": "code",
   "execution_count": 41,
   "metadata": {},
   "outputs": [],
   "source": [
    "res = pd.DataFrame()\n",
    "for i, fp in enumerate(glob.glob(os.path.join(dir_p, '*/*.csv'), recursive=True)):\n",
    "    df = pd.read_csv(fp)\n",
    "    sub = df[['start time of acquisition for pass 1','stop time of acquisition for pass 1','start time of acquisition for pass 2','stop time of acquisition for pass 2','peg heading','approximate upper left latitude',\n",
    "'approximate upper left longitude','approximate upper right latitude','approximate upper right longitude','approximate lower left latitude','approximate lower left longitude','approximate lower right latitude','approximate lower right longitude']]\n",
    "    res = res.append(sub.iloc[0], ignore_index=True)"
   ]
  },
  {
   "cell_type": "code",
   "execution_count": 43,
   "metadata": {},
   "outputs": [],
   "source": [
    "res.to_csv('../../figures/imgs_map_meta.csv')"
   ]
  }
 ],
 "metadata": {
  "interpreter": {
   "hash": "c732e25fc97d715fc566a980b16236952ce6fa020fb71e866d38b624bf749806"
  },
  "kernelspec": {
   "display_name": "Python 3.7.9 64-bit ('uavsar': conda)",
   "language": "python",
   "name": "python3"
  },
  "language_info": {
   "codemirror_mode": {
    "name": "ipython",
    "version": 3
   },
   "file_extension": ".py",
   "mimetype": "text/x-python",
   "name": "python",
   "nbconvert_exporter": "python",
   "pygments_lexer": "ipython3",
   "version": "3.7.9"
  },
  "orig_nbformat": 4
 },
 "nbformat": 4,
 "nbformat_minor": 2
}
