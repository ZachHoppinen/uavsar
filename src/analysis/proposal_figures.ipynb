{
 "cells": [
  {
   "cell_type": "code",
   "execution_count": 6,
   "metadata": {},
   "outputs": [],
   "source": [
    "import os\n",
    "import glob\n",
    "import pandas as pd\n",
    "import numpy as np"
   ]
  },
  {
   "cell_type": "code",
   "execution_count": 7,
   "metadata": {},
   "outputs": [],
   "source": [
    "# dir_p = '/SNOWDATA/uavsar/imgs'\n",
    "# res = pd.DataFrame()\n",
    "# for i, fp in enumerate(glob.glob(os.path.join(dir_p, '*/*.csv'), recursive=True)):\n",
    "#     df = pd.read_csv(fp)\n",
    "#     sub = df[['start time of acquisition for pass 1','stop time of acquisition for pass 1','start time of acquisition for pass 2','stop time of acquisition for pass 2','peg heading','approximate upper left latitude',\n",
    "# 'approximate upper left longitude','approximate upper right latitude','approximate upper right longitude','approximate lower left latitude','approximate lower left longitude','approximate lower right latitude','approximate lower right longitude']]\n",
    "#     sub['name'] = os.path.basename(fp)\n",
    "#     res = res.append(sub.iloc[0], ignore_index=True)\n",
    "# res.to_csv('../../figures/proposal/imgs_map_meta.csv')"
   ]
  },
  {
   "cell_type": "code",
   "execution_count": 41,
   "metadata": {},
   "outputs": [],
   "source": [
    "def name_map(i):\n",
    "    j = i.split('_')[0]\n",
    "    if j == 'peeler':\n",
    "        return 'Crested Butte, CO'\n",
    "    elif j == 'rockmt':\n",
    "        return 'Rocky Mountain, CO'\n",
    "    elif j == 'silver':\n",
    "        return 'Silver, ID'\n",
    "    elif j == 'lowman':\n",
    "        return 'Lowman, ID'\n",
    "\n",
    "def days_between(i):\n",
    "    return i.replace('.csv','').split('_')[-1].replace('d','')\n",
    "\n",
    "def peg_head(i):\n",
    "    return i.split('_')[1][:3]"
   ]
  },
  {
   "cell_type": "code",
   "execution_count": 83,
   "metadata": {},
   "outputs": [
    {
     "name": "stderr",
     "output_type": "stream",
     "text": [
      "/home/zacharykeskinen/anaconda3/envs/gis/lib/python3.7/site-packages/ipykernel_launcher.py:7: SettingWithCopyWarning: \n",
      "A value is trying to be set on a copy of a slice from a DataFrame.\n",
      "Try using .loc[row_indexer,col_indexer] = value instead\n",
      "\n",
      "See the caveats in the documentation: https://pandas.pydata.org/pandas-docs/stable/user_guide/indexing.html#returning-a-view-versus-a-copy\n",
      "  import sys\n",
      "/home/zacharykeskinen/anaconda3/envs/gis/lib/python3.7/site-packages/ipykernel_launcher.py:8: SettingWithCopyWarning: \n",
      "A value is trying to be set on a copy of a slice from a DataFrame.\n",
      "Try using .loc[row_indexer,col_indexer] = value instead\n",
      "\n",
      "See the caveats in the documentation: https://pandas.pydata.org/pandas-docs/stable/user_guide/indexing.html#returning-a-view-versus-a-copy\n",
      "  \n",
      "/home/zacharykeskinen/anaconda3/envs/gis/lib/python3.7/site-packages/ipykernel_launcher.py:9: SettingWithCopyWarning: \n",
      "A value is trying to be set on a copy of a slice from a DataFrame.\n",
      "Try using .loc[row_indexer,col_indexer] = value instead\n",
      "\n",
      "See the caveats in the documentation: https://pandas.pydata.org/pandas-docs/stable/user_guide/indexing.html#returning-a-view-versus-a-copy\n",
      "  if __name__ == '__main__':\n"
     ]
    }
   ],
   "source": [
    "df = pd.read_csv('../../figures/imgs_map_meta.csv')\n",
    "df['start time of acquisition for pass 1'] = pd.to_datetime(df['start time of acquisition for pass 1'])\n",
    "df['start time of acquisition for pass 2'] = pd.to_datetime(df['start time of acquisition for pass 2'])\n",
    "df = df.set_index(df['start time of acquisition for pass 1'])\n",
    "df.sort_index(ascending=False)\n",
    "table1 = df[['start time of acquisition for pass 2','name']]\n",
    "table1['location'] = table1.name.apply(name_map)\n",
    "table1['days between'] = table1.name.apply(days_between).astype('i4')\n",
    "table1['peg heading'] = table1.name.apply(peg_head).astype('i4')\n",
    "table1 =table1.drop(['name'], axis = 1)\n",
    "table1 = table1.reset_index()\n",
    "table1['Acquistion 1 Date'] = table1['start time of acquisition for pass 1'].dt.strftime('%m/%d/%Y')\n",
    "table1['Acquistion 2 Date'] = pd.to_datetime(table1['start time of acquisition for pass 2'], utc=True).dt.strftime('%m/%d/%Y')\n",
    "table1 = table1[['location', 'peg heading', 'days between', 'Acquistion 1 Date', 'Acquistion 2 Date']]"
   ]
  },
  {
   "cell_type": "code",
   "execution_count": 97,
   "metadata": {},
   "outputs": [
    {
     "ename": "AttributeError",
     "evalue": "module 'mpl_toolkits' has no attribute 'basemap'",
     "output_type": "error",
     "traceback": [
      "\u001b[0;31m---------------------------------------------------------------------------\u001b[0m",
      "\u001b[0;31mAttributeError\u001b[0m                            Traceback (most recent call last)",
      "\u001b[0;32m/tmp/ipykernel_360466/2903310229.py\u001b[0m in \u001b[0;36m<module>\u001b[0;34m\u001b[0m\n\u001b[1;32m      2\u001b[0m \u001b[0;32mimport\u001b[0m \u001b[0mmpl_toolkits\u001b[0m\u001b[0;34m\u001b[0m\u001b[0;34m\u001b[0m\u001b[0m\n\u001b[1;32m      3\u001b[0m \u001b[0;34m\u001b[0m\u001b[0m\n\u001b[0;32m----> 4\u001b[0;31m \u001b[0mbm\u001b[0m \u001b[0;34m=\u001b[0m \u001b[0mmpl_toolkits\u001b[0m\u001b[0;34m.\u001b[0m\u001b[0mbasemap\u001b[0m\u001b[0;34m.\u001b[0m\u001b[0mBasemap\u001b[0m\u001b[0;34m\u001b[0m\u001b[0;34m\u001b[0m\u001b[0m\n\u001b[0m\u001b[1;32m      5\u001b[0m \u001b[0;34m\u001b[0m\u001b[0m\n\u001b[1;32m      6\u001b[0m \u001b[0mfig\u001b[0m\u001b[0;34m,\u001b[0m \u001b[0maxes\u001b[0m \u001b[0;34m=\u001b[0m\u001b[0mplt\u001b[0m\u001b[0;34m.\u001b[0m\u001b[0msubplots\u001b[0m\u001b[0;34m(\u001b[0m\u001b[0;36m2\u001b[0m\u001b[0;34m,\u001b[0m\u001b[0;36m1\u001b[0m\u001b[0;34m,\u001b[0m \u001b[0mfigsize\u001b[0m \u001b[0;34m=\u001b[0m \u001b[0;34m(\u001b[0m\u001b[0;36m16\u001b[0m\u001b[0;34m,\u001b[0m\u001b[0;36m12\u001b[0m\u001b[0;34m)\u001b[0m\u001b[0;34m)\u001b[0m\u001b[0;34m\u001b[0m\u001b[0;34m\u001b[0m\u001b[0m\n",
      "\u001b[0;31mAttributeError\u001b[0m: module 'mpl_toolkits' has no attribute 'basemap'"
     ]
    }
   ],
   "source": [
    "import matplotlib.pyplot as plt\n",
    "import mpl_toolkits\n",
    "\n",
    "bm = mpl_toolkits.basemap.Basemap\n",
    "\n",
    "fig, axes =plt.subplots(2,1, figsize = (16,12))\n",
    "ax, axmap = axes\n",
    "data=table1.values\n",
    "\n",
    "ax.axis('tight')\n",
    "ax.axis('off')\n",
    "ax.table(cellText=data,colLabels=table1.columns,loc=\"center\")\n",
    "\n",
    "#axmap.\n",
    "\n",
    "plt.savefig('../../figures/proposal/flights.png')"
   ]
  }
 ],
 "metadata": {
  "interpreter": {
   "hash": "c732e25fc97d715fc566a980b16236952ce6fa020fb71e866d38b624bf749806"
  },
  "kernelspec": {
   "display_name": "Python 3.7.9 64-bit ('uavsar': conda)",
   "language": "python",
   "name": "python3"
  },
  "language_info": {
   "codemirror_mode": {
    "name": "ipython",
    "version": 3
   },
   "file_extension": ".py",
   "mimetype": "text/x-python",
   "name": "python",
   "nbconvert_exporter": "python",
   "pygments_lexer": "ipython3",
   "version": "3.7.9"
  },
  "orig_nbformat": 4
 },
 "nbformat": 4,
 "nbformat_minor": 2
}
