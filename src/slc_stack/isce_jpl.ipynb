{
 "cells": [
  {
   "cell_type": "code",
   "execution_count": 2,
   "metadata": {},
   "outputs": [],
   "source": [
    "import rasterio as rio\n",
    "from glob import glob\n",
    "from os.path import join, exists, dirname, basename"
   ]
  },
  {
   "cell_type": "code",
   "execution_count": 9,
   "metadata": {},
   "outputs": [],
   "source": [
    "in_dir = '../../../tmp'\n",
    "isce_unw = glob(join(in_dir,'isce','*unw.tif'))\n",
    "isce_cor = glob(join(in_dir,'isce','*cor.tif'))\n",
    "jpl_cor = glob(join(in_dir,'*cor.grd.tiff'))\n",
    "jpl_unw = glob(join(in_dir, '*unw.grd.tiff'))"
   ]
  },
  {
   "cell_type": "code",
   "execution_count": null,
   "metadata": {},
   "outputs": [],
   "source": [
    "for isce_fp in isce_cor:\n",
    "    "
   ]
  }
 ],
 "metadata": {
  "interpreter": {
   "hash": "a68e46b2080e4ecd57146aa63fe0c8f44694b1ebbc88829c7013ad88a286cabc"
  },
  "kernelspec": {
   "display_name": "Python 3.8.8 ('uavsar')",
   "language": "python",
   "name": "python3"
  },
  "language_info": {
   "codemirror_mode": {
    "name": "ipython",
    "version": 3
   },
   "file_extension": ".py",
   "mimetype": "text/x-python",
   "name": "python",
   "nbconvert_exporter": "python",
   "pygments_lexer": "ipython3",
   "version": "3.8.8"
  },
  "orig_nbformat": 4
 },
 "nbformat": 4,
 "nbformat_minor": 2
}
