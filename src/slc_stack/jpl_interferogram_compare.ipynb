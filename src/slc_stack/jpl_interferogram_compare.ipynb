{
 "cells": [
  {
   "cell_type": "code",
   "execution_count": 2,
   "metadata": {},
   "outputs": [],
   "source": [
    "import rasterio\n",
    "from os.path import basename, dirname, exists, join\n",
    "from glob import glob"
   ]
  },
  {
   "cell_type": "code",
   "execution_count": 10,
   "metadata": {},
   "outputs": [],
   "source": [
    "work_dir = '/scratch/zacharykeskinen/'\n",
    "inc_fp = glob(join(work_dir,'*.tiff'))[0]\n",
    "coh_isce = glob(join(work_dir,'merge','*','*cor*.tif'))\n",
    "unw_isce = glob(join(work_dir,'merge','*','*unw*.tif'))\n",
    "lidar = glob(join(work_dir,'lidar','banner','*.tiff'))\n",
    "coh_jpl = glob(join(work_dir,'jpl','*','*cor*.tif'))\n",
    "unw_jpl = glob(join(work_dir,'jpl','*','*unw*.tif'))"
   ]
  },
  {
   "cell_type": "code",
   "execution_count": 11,
   "metadata": {},
   "outputs": [
    {
     "data": {
      "text/plain": [
       "['/scratch/zacharykeskinen/lidar/banner/snow_on.tiff',\n",
       " '/scratch/zacharykeskinen/lidar/banner/snow_on_wgs84.tiff',\n",
       " '/scratch/zacharykeskinen/lidar/banner/snow_free.tiff',\n",
       " '/scratch/zacharykeskinen/lidar/banner/snow_free_wgs84.tiff',\n",
       " '/scratch/zacharykeskinen/lidar/banner/snow_free_veg.tiff',\n",
       " '/scratch/zacharykeskinen/lidar/banner/snow_free_veg_wgs84.tiff']"
      ]
     },
     "execution_count": 11,
     "metadata": {},
     "output_type": "execute_result"
    }
   ],
   "source": [
    "lidar"
   ]
  },
  {
   "cell_type": "code",
   "execution_count": null,
   "metadata": {},
   "outputs": [],
   "source": []
  }
 ],
 "metadata": {
  "interpreter": {
   "hash": "c732e25fc97d715fc566a980b16236952ce6fa020fb71e866d38b624bf749806"
  },
  "kernelspec": {
   "display_name": "Python 3.9.10 ('uavsar')",
   "language": "python",
   "name": "python3"
  },
  "language_info": {
   "codemirror_mode": {
    "name": "ipython",
    "version": 3
   },
   "file_extension": ".py",
   "mimetype": "text/x-python",
   "name": "python",
   "nbconvert_exporter": "python",
   "pygments_lexer": "ipython3",
   "version": "3.9.10"
  },
  "orig_nbformat": 4
 },
 "nbformat": 4,
 "nbformat_minor": 2
}
