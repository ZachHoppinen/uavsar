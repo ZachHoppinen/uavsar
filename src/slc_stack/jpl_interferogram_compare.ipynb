{
 "cells": [
  {
   "cell_type": "code",
   "execution_count": 2,
   "metadata": {},
   "outputs": [],
   "source": [
    "import rasterio\n",
    "from rasterio.plot import show\n",
    "from os.path import basename, dirname, exists, join, expanduser\n",
    "from glob import glob\n",
    "import matplotlib.pyplot as plt"
   ]
  },
  {
   "cell_type": "code",
   "execution_count": 10,
   "metadata": {},
   "outputs": [],
   "source": [
    "work_dir = '/scratch/zacharykeskinen/'\n",
    "fig_dir = expanduser('~/uavsar/figures/slc_stack')\n",
    "inc_fp = glob(join(work_dir,'*.tiff'))[0]\n",
    "coh_isce = glob(join(work_dir,'isce','*','*cor*.tif'))\n",
    "unw_isce = glob(join(work_dir,'isce','*','*unw*.tif'))\n",
    "lidar_sd = glob(join(work_dir,'lidar','banner','snow_depth.tiff'))[0]\n",
    "lidar_veg = glob(join(work_dir,'lidar','banner','veg_height.tiff'))[0]\n",
    "coh_jpl = glob(join(work_dir,'jpl','*','*HH*cor*.tif'))\n",
    "unw_jpl = glob(join(work_dir,'jpl','*','*HH*unw*.tif'))"
   ]
  },
  {
   "cell_type": "code",
   "execution_count": null,
   "metadata": {},
   "outputs": [],
   "source": [
    "fig, axes = plt.subplots(len(coh_isce),2, figsize = (12,18))\n",
    "for i, im in enumerate(coh_isce):\n",
    "    if i == 0:\n",
    "        with rasterio.open(im) as src:\n",
    "            show(src, ax = axes[i, 0])\n",
    "for i, im in enumerate(coh_jpl):\n",
    "    if i == 0:\n",
    "        with rasterio.open(im) as src:\n",
    "            show(src, ax = axes[i, 1])\n"
   ]
  }
 ],
 "metadata": {
  "interpreter": {
   "hash": "c732e25fc97d715fc566a980b16236952ce6fa020fb71e866d38b624bf749806"
  },
  "kernelspec": {
   "display_name": "Python 3.9.10 ('uavsar')",
   "language": "python",
   "name": "python3"
  },
  "language_info": {
   "codemirror_mode": {
    "name": "ipython",
    "version": 3
   },
   "file_extension": ".py",
   "mimetype": "text/x-python",
   "name": "python",
   "nbconvert_exporter": "python",
   "pygments_lexer": "ipython3",
   "version": "3.9.10"
  },
  "orig_nbformat": 4
 },
 "nbformat": 4,
 "nbformat_minor": 2
}
