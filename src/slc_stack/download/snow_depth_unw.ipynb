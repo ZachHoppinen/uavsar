{
 "cells": [
  {
   "cell_type": "code",
   "execution_count": null,
   "metadata": {},
   "outputs": [
    {
     "ename": "",
     "evalue": "",
     "output_type": "error",
     "traceback": [
      "\u001b[1;31mFailed to start the Kernel. \n",
      "Jupyter notebook failed to launch. \r\n",
      "Unknown (FileSystemError) (FileSystemError): Error: ENOSPC: no space left on device, mkdir '/tmp/dda6c693-52fd-4e12-98f1-5b0335906b08'. \n",
      "View Jupyter <a href='command:jupyter.viewOutput'>log</a> for further details."
     ]
    }
   ],
   "source": [
    "import rasterio\n",
    "from rasterio.plot import show\n",
    "from os.path import basename, dirname, exists, join, expanduser\n",
    "from glob import glob\n",
    "import matplotlib.pyplot as plt\n",
    "from scipy.signal import correlate2d"
   ]
  },
  {
   "cell_type": "code",
   "execution_count": null,
   "metadata": {},
   "outputs": [],
   "source": []
  }
 ],
 "metadata": {
  "interpreter": {
   "hash": "c732e25fc97d715fc566a980b16236952ce6fa020fb71e866d38b624bf749806"
  },
  "kernelspec": {
   "display_name": "Python 3.9.10 ('uavsar')",
   "language": "python",
   "name": "python3"
  },
  "language_info": {
   "name": "python",
   "version": "3.9.10"
  },
  "orig_nbformat": 4
 },
 "nbformat": 4,
 "nbformat_minor": 2
}
