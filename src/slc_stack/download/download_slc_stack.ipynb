{
 "cells": [
  {
   "cell_type": "code",
   "execution_count": 27,
   "metadata": {},
   "outputs": [],
   "source": [
    "import os\n",
    "from glob import glob\n",
    "from tqdm import tqdm\n",
    "import pandas as pd\n",
    "import urllib.request"
   ]
  },
  {
   "cell_type": "code",
   "execution_count": 25,
   "metadata": {},
   "outputs": [],
   "source": [
    "wget_fp = '../../data/urls/lowman_stack_wget'\n",
    "requests = pd.read_table(wget_fp, header= None)\n",
    "work_dir = '/scratch/zacharykeskinen/slc_stack/'"
   ]
  },
  {
   "cell_type": "code",
   "execution_count": 31,
   "metadata": {},
   "outputs": [
    {
     "name": "stderr",
     "output_type": "stream",
     "text": [
      "23it [18:12, 47.49s/it]\n"
     ]
    }
   ],
   "source": [
    "for i, request in tqdm(enumerate(requests[0])):\n",
    "    url = request.split(' ')[1]\n",
    "    out_fp = os.path.join(work_dir, url.split('/')[-1])\n",
    "    urllib.request.urlretrieve(url, filename = out_fp)"
   ]
  },
  {
   "cell_type": "code",
   "execution_count": 21,
   "metadata": {},
   "outputs": [
    {
     "name": "stdout",
     "output_type": "stream",
     "text": [
      "https://downloaduav2.jpl.nasa.gov/Release30/lowman_05208_01/lowman_05208_01_BU.dop\n",
      "https://downloaduav2.jpl.nasa.gov/Release30/lowman_05208_01/lowman_05208_01_BU_s1_2x8.llh\n",
      "https://downloaduav2.jpl.nasa.gov/Release30/lowman_05208_01/lowman_05208_01_BU_s1_2x8.lkv\n",
      "https://downloaduav2.jpl.nasa.gov/Release30/lowman_05208_01/lowman_05208_20002_006_200131_L090VV_01_BU_s1_1x1.slc\n",
      "https://downloaduav2.jpl.nasa.gov/Release30/lowman_05208_01/lowman_05208_20002_006_200131_L090VV_01_BU.ann\n",
      "https://downloaduav2.jpl.nasa.gov/Release30/lowman_05208_01/lowman_05208_20007_002_200213_L090VV_01_BU_s1_1x1.slc\n",
      "https://downloaduav2.jpl.nasa.gov/Release30/lowman_05208_01/lowman_05208_20007_002_200213_L090VV_01_BU.ann\n",
      "https://downloaduav2.jpl.nasa.gov/Release30/lowman_05208_01/lowman_05208_20011_002_200221_L090VV_01_BU_s1_1x1.slc\n",
      "https://downloaduav2.jpl.nasa.gov/Release30/lowman_05208_01/lowman_05208_20011_002_200221_L090VV_01_BU.ann\n",
      "https://downloaduav2.jpl.nasa.gov/Release30/lowman_05208_01/lowman_05208_20016_003_200311_L090VV_01_BU_s1_1x1.slc\n",
      "https://downloaduav2.jpl.nasa.gov/Release30/lowman_05208_01/lowman_05208_20016_003_200311_L090VV_01_BU.ann\n",
      "https://downloaduav2.jpl.nasa.gov/Release30/lowman_05208_01/lowman_05208_21009_005_210203_L090VV_01_BU_s1_1x1.slc\n",
      "https://downloaduav2.jpl.nasa.gov/Release30/lowman_05208_01/lowman_05208_21009_005_210203_L090VV_01_BU.ann\n",
      "https://downloaduav2.jpl.nasa.gov/Release30/lowman_05208_01/lowman_05208_21012_004_210210_L090VV_01_BU_s1_1x1.slc\n",
      "https://downloaduav2.jpl.nasa.gov/Release30/lowman_05208_01/lowman_05208_21012_004_210210_L090VV_01_BU.ann\n",
      "https://downloaduav2.jpl.nasa.gov/Release30/lowman_05208_01/lowman_05208_21015_009_210303_L090VV_01_BU_s1_1x1.slc\n",
      "https://downloaduav2.jpl.nasa.gov/Release30/lowman_05208_01/lowman_05208_21015_009_210303_L090VV_01_BU.ann\n",
      "https://downloaduav2.jpl.nasa.gov/Release30/lowman_05208_01/lowman_05208_21017_019_210310_L090VV_01_BU_s1_1x1.slc\n",
      "https://downloaduav2.jpl.nasa.gov/Release30/lowman_05208_01/lowman_05208_21017_019_210310_L090VV_01_BU.ann\n",
      "https://downloaduav2.jpl.nasa.gov/Release30/lowman_05208_01/lowman_05208_21019_019_210316_L090VV_01_BU_s1_1x1.slc\n",
      "https://downloaduav2.jpl.nasa.gov/Release30/lowman_05208_01/lowman_05208_21019_019_210316_L090VV_01_BU.ann\n",
      "https://downloaduav2.jpl.nasa.gov/Release30/lowman_05208_01/lowman_05208_21021_007_210322_L090VV_01_BU_s1_1x1.slc\n",
      "https://downloaduav2.jpl.nasa.gov/Release30/lowman_05208_01/lowman_05208_21021_007_210322_L090VV_01_BU.ann\n"
     ]
    }
   ],
   "source": [
    "for request in requests[0]:\n",
    "    print(request.split(' ')[1])"
   ]
  },
  {
   "cell_type": "code",
   "execution_count": 14,
   "metadata": {},
   "outputs": [
    {
     "data": {
      "text/html": [
       "<div>\n",
       "<style scoped>\n",
       "    .dataframe tbody tr th:only-of-type {\n",
       "        vertical-align: middle;\n",
       "    }\n",
       "\n",
       "    .dataframe tbody tr th {\n",
       "        vertical-align: top;\n",
       "    }\n",
       "\n",
       "    .dataframe thead th {\n",
       "        text-align: right;\n",
       "    }\n",
       "</style>\n",
       "<table border=\"1\" class=\"dataframe\">\n",
       "  <thead>\n",
       "    <tr style=\"text-align: right;\">\n",
       "      <th></th>\n",
       "      <th>0</th>\n",
       "    </tr>\n",
       "  </thead>\n",
       "  <tbody>\n",
       "    <tr>\n",
       "      <th>0</th>\n",
       "      <td>wget https://downloaduav2.jpl.nasa.gov/Release...</td>\n",
       "    </tr>\n",
       "    <tr>\n",
       "      <th>1</th>\n",
       "      <td>wget https://downloaduav2.jpl.nasa.gov/Release...</td>\n",
       "    </tr>\n",
       "    <tr>\n",
       "      <th>2</th>\n",
       "      <td>wget https://downloaduav2.jpl.nasa.gov/Release...</td>\n",
       "    </tr>\n",
       "    <tr>\n",
       "      <th>3</th>\n",
       "      <td>wget https://downloaduav2.jpl.nasa.gov/Release...</td>\n",
       "    </tr>\n",
       "    <tr>\n",
       "      <th>4</th>\n",
       "      <td>wget https://downloaduav2.jpl.nasa.gov/Release...</td>\n",
       "    </tr>\n",
       "    <tr>\n",
       "      <th>5</th>\n",
       "      <td>wget https://downloaduav2.jpl.nasa.gov/Release...</td>\n",
       "    </tr>\n",
       "    <tr>\n",
       "      <th>6</th>\n",
       "      <td>wget https://downloaduav2.jpl.nasa.gov/Release...</td>\n",
       "    </tr>\n",
       "    <tr>\n",
       "      <th>7</th>\n",
       "      <td>wget https://downloaduav2.jpl.nasa.gov/Release...</td>\n",
       "    </tr>\n",
       "    <tr>\n",
       "      <th>8</th>\n",
       "      <td>wget https://downloaduav2.jpl.nasa.gov/Release...</td>\n",
       "    </tr>\n",
       "    <tr>\n",
       "      <th>9</th>\n",
       "      <td>wget https://downloaduav2.jpl.nasa.gov/Release...</td>\n",
       "    </tr>\n",
       "    <tr>\n",
       "      <th>10</th>\n",
       "      <td>wget https://downloaduav2.jpl.nasa.gov/Release...</td>\n",
       "    </tr>\n",
       "    <tr>\n",
       "      <th>11</th>\n",
       "      <td>wget https://downloaduav2.jpl.nasa.gov/Release...</td>\n",
       "    </tr>\n",
       "    <tr>\n",
       "      <th>12</th>\n",
       "      <td>wget https://downloaduav2.jpl.nasa.gov/Release...</td>\n",
       "    </tr>\n",
       "    <tr>\n",
       "      <th>13</th>\n",
       "      <td>wget https://downloaduav2.jpl.nasa.gov/Release...</td>\n",
       "    </tr>\n",
       "    <tr>\n",
       "      <th>14</th>\n",
       "      <td>wget https://downloaduav2.jpl.nasa.gov/Release...</td>\n",
       "    </tr>\n",
       "    <tr>\n",
       "      <th>15</th>\n",
       "      <td>wget https://downloaduav2.jpl.nasa.gov/Release...</td>\n",
       "    </tr>\n",
       "    <tr>\n",
       "      <th>16</th>\n",
       "      <td>wget https://downloaduav2.jpl.nasa.gov/Release...</td>\n",
       "    </tr>\n",
       "    <tr>\n",
       "      <th>17</th>\n",
       "      <td>wget https://downloaduav2.jpl.nasa.gov/Release...</td>\n",
       "    </tr>\n",
       "    <tr>\n",
       "      <th>18</th>\n",
       "      <td>wget https://downloaduav2.jpl.nasa.gov/Release...</td>\n",
       "    </tr>\n",
       "    <tr>\n",
       "      <th>19</th>\n",
       "      <td>wget https://downloaduav2.jpl.nasa.gov/Release...</td>\n",
       "    </tr>\n",
       "    <tr>\n",
       "      <th>20</th>\n",
       "      <td>wget https://downloaduav2.jpl.nasa.gov/Release...</td>\n",
       "    </tr>\n",
       "    <tr>\n",
       "      <th>21</th>\n",
       "      <td>wget https://downloaduav2.jpl.nasa.gov/Release...</td>\n",
       "    </tr>\n",
       "    <tr>\n",
       "      <th>22</th>\n",
       "      <td>wget https://downloaduav2.jpl.nasa.gov/Release...</td>\n",
       "    </tr>\n",
       "  </tbody>\n",
       "</table>\n",
       "</div>"
      ],
      "text/plain": [
       "                                                    0\n",
       "0   wget https://downloaduav2.jpl.nasa.gov/Release...\n",
       "1   wget https://downloaduav2.jpl.nasa.gov/Release...\n",
       "2   wget https://downloaduav2.jpl.nasa.gov/Release...\n",
       "3   wget https://downloaduav2.jpl.nasa.gov/Release...\n",
       "4   wget https://downloaduav2.jpl.nasa.gov/Release...\n",
       "5   wget https://downloaduav2.jpl.nasa.gov/Release...\n",
       "6   wget https://downloaduav2.jpl.nasa.gov/Release...\n",
       "7   wget https://downloaduav2.jpl.nasa.gov/Release...\n",
       "8   wget https://downloaduav2.jpl.nasa.gov/Release...\n",
       "9   wget https://downloaduav2.jpl.nasa.gov/Release...\n",
       "10  wget https://downloaduav2.jpl.nasa.gov/Release...\n",
       "11  wget https://downloaduav2.jpl.nasa.gov/Release...\n",
       "12  wget https://downloaduav2.jpl.nasa.gov/Release...\n",
       "13  wget https://downloaduav2.jpl.nasa.gov/Release...\n",
       "14  wget https://downloaduav2.jpl.nasa.gov/Release...\n",
       "15  wget https://downloaduav2.jpl.nasa.gov/Release...\n",
       "16  wget https://downloaduav2.jpl.nasa.gov/Release...\n",
       "17  wget https://downloaduav2.jpl.nasa.gov/Release...\n",
       "18  wget https://downloaduav2.jpl.nasa.gov/Release...\n",
       "19  wget https://downloaduav2.jpl.nasa.gov/Release...\n",
       "20  wget https://downloaduav2.jpl.nasa.gov/Release...\n",
       "21  wget https://downloaduav2.jpl.nasa.gov/Release...\n",
       "22  wget https://downloaduav2.jpl.nasa.gov/Release..."
      ]
     },
     "execution_count": 14,
     "metadata": {},
     "output_type": "execute_result"
    }
   ],
   "source": [
    "requests"
   ]
  },
  {
   "cell_type": "code",
   "execution_count": null,
   "metadata": {},
   "outputs": [],
   "source": []
  }
 ],
 "metadata": {
  "interpreter": {
   "hash": "3b40ebc8a086a1562ede9d6e3fc14316efc8790254fab6f84909a511088d42f9"
  },
  "kernelspec": {
   "display_name": "Python 3.9.12 ('mintpy')",
   "language": "python",
   "name": "python3"
  },
  "language_info": {
   "codemirror_mode": {
    "name": "ipython",
    "version": 3
   },
   "file_extension": ".py",
   "mimetype": "text/x-python",
   "name": "python",
   "nbconvert_exporter": "python",
   "pygments_lexer": "ipython3",
   "version": "3.9.12"
  },
  "orig_nbformat": 4
 },
 "nbformat": 4,
 "nbformat_minor": 2
}
