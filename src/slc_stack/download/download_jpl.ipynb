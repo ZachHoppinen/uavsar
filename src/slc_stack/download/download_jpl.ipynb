{
 "cells": [
  {
   "cell_type": "code",
   "execution_count": 2,
   "metadata": {},
   "outputs": [],
   "source": [
    "urls = [\n",
    "# 'https://datapool.asf.alaska.edu/INTERFEROMETRY_GRD/UA/lowman_23205_21019-018_21021-006_0006d_s01_L090_01_int_grd.zip',\n",
    "# 'https://datapool.asf.alaska.edu/INTERFEROMETRY_GRD/UA/lowman_23205_21017-018_21019-018_0006d_s01_L090_01_int_grd.zip',\n",
    "# 'https://datapool.asf.alaska.edu/INTERFEROMETRY_GRD/UA/lowman_23205_21015-008_21017-018_0007d_s01_L090_01_int_grd.zip',\n",
    "# 'https://datapool.asf.alaska.edu/INTERFEROMETRY_GRD/UA/lowman_23205_21012-000_21015-008_0021d_s01_L090_01_int_grd.zip',\n",
    "# 'https://datapool.asf.alaska.edu/INTERFEROMETRY_GRD/UA/lowman_23205_21009-004_21012-000_0007d_s01_L090_01_int_grd.zip',\n",
    "# 'https://datapool.asf.alaska.edu/INTERFEROMETRY_GRD/UA/lowman_23205_21004-003_21008-000_0007d_s01_L090_01_int_grd.zip',\n",
    "# 'https://datapool.asf.alaska.edu/INTERFEROMETRY_GRD/UA/lowman_23205_20011-003_20016-004_0019d_s01_L090_01_int_grd.zip',\n",
    "# 'https://datapool.asf.alaska.edu/INTERFEROMETRY_GRD/UA/lowman_23205_20007-003_20011-003_0008d_s01_L090_01_int_grd.zip',\n",
    "'https://datapool.asf.alaska.edu/INTERFEROMETRY_GRD/UA/lowman_23205_20002-007_20007-003_0013d_s01_L090_01_int_grd.zip',\n",
    "'https://datapool.asf.alaska.edu/INTERFEROMETRY_GRD/UA/lowman_23205_19084-017_20002-007_0042d_s01_L090_01_int_grd.zip']"
   ]
  },
  {
   "cell_type": "code",
   "execution_count": 3,
   "metadata": {},
   "outputs": [
    {
     "name": "stdout",
     "output_type": "stream",
     "text": [
      "/scratch/zacharykeskinen/jpl/lowman_23205_20002-007_20007-003_0013d_s01_L090_01_int_grd\n"
     ]
    },
    {
     "data": {
      "application/vnd.jupyter.widget-view+json": {
       "model_id": "03f4605b1b154755a8af6dbbb1ec3dde",
       "version_major": 2,
       "version_minor": 0
      },
      "text/plain": [
       "Downloading lowman_23205_20002-007_20007-003_0013d_s01_L090_01_int_grd.zip:   0%|          | 0.00/4.43G [00:00…"
      ]
     },
     "metadata": {},
     "output_type": "display_data"
    },
    {
     "name": "stderr",
     "output_type": "stream",
     "text": [
      "Unzipping: 100%|██████████| 16/16 [01:41<00:00,  6.34s/file]\n"
     ]
    },
    {
     "name": "stdout",
     "output_type": "stream",
     "text": [
      "/scratch/zacharykeskinen/jpl/lowman_23205_19084-017_20002-007_0042d_s01_L090_01_int_grd\n"
     ]
    },
    {
     "data": {
      "application/vnd.jupyter.widget-view+json": {
       "model_id": "4be2c4370b644debb85a818b89d6a556",
       "version_major": 2,
       "version_minor": 0
      },
      "text/plain": [
       "Downloading lowman_23205_19084-017_20002-007_0042d_s01_L090_01_int_grd.zip:   0%|          | 0.00/4.13G [00:00…"
      ]
     },
     "metadata": {},
     "output_type": "display_data"
    },
    {
     "name": "stderr",
     "output_type": "stream",
     "text": [
      "Unzipping: 100%|██████████| 16/16 [01:34<00:00,  5.91s/file]\n"
     ]
    }
   ],
   "source": [
    "from uavsar_pytools.UavsarScene import UavsarScene\n",
    "from os.path import join, basename\n",
    "work_dir = '/scratch/zacharykeskinen/jpl/'\n",
    "for url in urls:\n",
    "    dir = join(work_dir, basename(url).replace('.zip',''))\n",
    "    print(dir)\n",
    "    os.makedirs(dir, exist_ok= True)\n",
    "    scene = UavsarScene(work_dir = dir, url = url)\n",
    "    scene.url_to_tiffs()"
   ]
  }
 ],
 "metadata": {
  "interpreter": {
   "hash": "c732e25fc97d715fc566a980b16236952ce6fa020fb71e866d38b624bf749806"
  },
  "kernelspec": {
   "display_name": "Python 3.9.10 ('uavsar')",
   "language": "python",
   "name": "python3"
  },
  "language_info": {
   "codemirror_mode": {
    "name": "ipython",
    "version": 3
   },
   "file_extension": ".py",
   "mimetype": "text/x-python",
   "name": "python",
   "nbconvert_exporter": "python",
   "pygments_lexer": "ipython3",
   "version": "3.9.10"
  },
  "orig_nbformat": 4
 },
 "nbformat": 4,
 "nbformat_minor": 2
}
