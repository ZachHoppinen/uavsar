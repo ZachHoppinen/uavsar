{
 "cells": [
  {
   "cell_type": "code",
   "execution_count": 10,
   "metadata": {},
   "outputs": [],
   "source": [
    "import rasterio\n",
    "from os.path import basename, dirname, exists, join\n",
    "from glob import glob\n",
    "import matplotlib.pyplot as plt"
   ]
  },
  {
   "cell_type": "code",
   "execution_count": 4,
   "metadata": {},
   "outputs": [],
   "source": [
    "work_dir = '/scratch/zacharykeskinen/'\n",
    "inc_fp = glob(join(work_dir,'*.tiff'))[0]\n",
    "coh_isce = glob(join(work_dir,'merge','*','*cor*.tif'))\n",
    "unw_isce = glob(join(work_dir,'merge','*','*unw*.tif'))\n",
    "lidar = glob(join(work_dir,'lidar','banner','*wgs84.tiff'))\n",
    "coh_jpl = glob(join(work_dir,'jpl','*','*cor*.tif'))\n",
    "unw_jpl = glob(join(work_dir,'jpl','*','*unw*.tif'))"
   ]
  },
  {
   "cell_type": "code",
   "execution_count": 6,
   "metadata": {},
   "outputs": [],
   "source": [
    "snow_on = '/scratch/zacharykeskinen/lidar/banner/snow_on_wgs84.tiff'\n",
    "snow_off = '/scratch/zacharykeskinen/lidar/banner/snow_free_wgs84.tiff'\n",
    "veg = '/scratch/zacharykeskinen/lidar/banner/snow_free_veg_wgs84.tiff'"
   ]
  },
  {
   "cell_type": "code",
   "execution_count": 7,
   "metadata": {},
   "outputs": [],
   "source": [
    "with rasterio.open(snow_on) as snow_on_src:\n",
    "    snow_on_arr = snow_on_src.read(1)\n",
    "with rasterio.open(snow_off) as snow_off_src:\n",
    "    snow_off_arr = snow_off_src.read(1)\n",
    "with rasterio.open(veg) as veg_src:\n",
    "    veg_arr = veg_src.read(1)"
   ]
  },
  {
   "cell_type": "code",
   "execution_count": 12,
   "metadata": {},
   "outputs": [
    {
     "data": {
      "text/plain": [
       "<matplotlib.colorbar.Colorbar at 0x7fe3bfcab760>"
      ]
     },
     "execution_count": 12,
     "metadata": {},
     "output_type": "execute_result"
    }
   ],
   "source": [
    "plt.imshow(snow_on_arr)\n",
    "plt.colorbar()"
   ]
  },
  {
   "cell_type": "code",
   "execution_count": 8,
   "metadata": {},
   "outputs": [
    {
     "ename": "ValueError",
     "evalue": "operands could not be broadcast together with shapes (30575,42552) (28451,36459) ",
     "output_type": "error",
     "traceback": [
      "\u001b[0;31m---------------------------------------------------------------------------\u001b[0m",
      "\u001b[0;31mValueError\u001b[0m                                Traceback (most recent call last)",
      "\u001b[1;32m/home/zacharykeskinen/uavsar/src/slc_stack/lidar_snow_depth_veg.ipynb Cell 5'\u001b[0m in \u001b[0;36m<module>\u001b[0;34m\u001b[0m\n\u001b[0;32m----> <a href='vscode-notebook-cell://ssh-remote%2Bkelvin/home/zacharykeskinen/uavsar/src/slc_stack/lidar_snow_depth_veg.ipynb#ch0000004vscode-remote?line=0'>1</a>\u001b[0m snow_depth \u001b[39m=\u001b[39m snow_on_arr \u001b[39m-\u001b[39;49m snow_off_arr\n\u001b[1;32m      <a href='vscode-notebook-cell://ssh-remote%2Bkelvin/home/zacharykeskinen/uavsar/src/slc_stack/lidar_snow_depth_veg.ipynb#ch0000004vscode-remote?line=1'>2</a>\u001b[0m veg_height \u001b[39m=\u001b[39m veg_arr \u001b[39m-\u001b[39m snow_off_arr\n",
      "\u001b[0;31mValueError\u001b[0m: operands could not be broadcast together with shapes (30575,42552) (28451,36459) "
     ]
    }
   ],
   "source": [
    "snow_depth = snow_on_arr - snow_off_arr\n",
    "veg_height = veg_arr - snow_off_arr"
   ]
  },
  {
   "cell_type": "code",
   "execution_count": null,
   "metadata": {},
   "outputs": [],
   "source": []
  }
 ],
 "metadata": {
  "interpreter": {
   "hash": "c732e25fc97d715fc566a980b16236952ce6fa020fb71e866d38b624bf749806"
  },
  "kernelspec": {
   "display_name": "Python 3.9.10 ('uavsar')",
   "language": "python",
   "name": "python3"
  },
  "language_info": {
   "codemirror_mode": {
    "name": "ipython",
    "version": 3
   },
   "file_extension": ".py",
   "mimetype": "text/x-python",
   "name": "python",
   "nbconvert_exporter": "python",
   "pygments_lexer": "ipython3",
   "version": "3.9.10"
  },
  "orig_nbformat": 4
 },
 "nbformat": 4,
 "nbformat_minor": 2
}
