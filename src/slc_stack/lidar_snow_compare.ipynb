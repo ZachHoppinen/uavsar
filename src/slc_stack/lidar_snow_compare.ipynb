{
 "cells": [
  {
   "cell_type": "code",
   "execution_count": null,
   "metadata": {},
   "outputs": [],
   "source": [
    "import rasterio\n",
    "from os.path import basename, dirname, exists, join\n",
    "from glob import glob"
   ]
  },
  {
   "cell_type": "code",
   "execution_count": null,
   "metadata": {},
   "outputs": [],
   "source": [
    "work_dir = '/scratch/zacharykeskinen/'\n",
    "inc_fp = glob(join(work_dir,'*.tiff'))[0]\n",
    "coh_isce = glob(join(work_dir,'merge','*','*cor*.tif'))\n",
    "unw_isce = glob(join(work_dir,'merge','*','*unw*.tif'))\n",
    "lidar = glob(join(work_dir,'lidar','banner','*.tiff'))"
   ]
  }
 ],
 "metadata": {
  "language_info": {
   "name": "python"
  },
  "orig_nbformat": 4
 },
 "nbformat": 4,
 "nbformat_minor": 2
}
