{
 "cells": [
  {
   "cell_type": "code",
   "execution_count": 2,
   "id": "e0ae19e4",
   "metadata": {},
   "outputs": [],
   "source": [
    "from os.path import join, basename, exists\n",
    "import folium\n",
    "import pyproj\n",
    "import geehydro\n",
    "import os\n",
    "import pandas as pd\n",
    "import numpy as np"
   ]
  },
  {
   "cell_type": "code",
   "execution_count": 3,
   "id": "c66dc03c",
   "metadata": {},
   "outputs": [
    {
     "data": {
      "text/html": [
       "<p>To authorize access needed by Earth Engine, open the following\n",
       "        URL in a web browser and follow the instructions:</p>\n",
       "        <p><a href=https://accounts.google.com/o/oauth2/auth?client_id=517222506229-vsmmajv00ul0bs7p89v5m89qs8eb9359.apps.googleusercontent.com&scope=https%3A%2F%2Fwww.googleapis.com%2Fauth%2Fearthengine+https%3A%2F%2Fwww.googleapis.com%2Fauth%2Fdevstorage.full_control&redirect_uri=urn%3Aietf%3Awg%3Aoauth%3A2.0%3Aoob&response_type=code&code_challenge=dkFQsVs8HoJ7DqabbDZT7ndeI2em9kjwRkYFQCbZWLU&code_challenge_method=S256>https://accounts.google.com/o/oauth2/auth?client_id=517222506229-vsmmajv00ul0bs7p89v5m89qs8eb9359.apps.googleusercontent.com&scope=https%3A%2F%2Fwww.googleapis.com%2Fauth%2Fearthengine+https%3A%2F%2Fwww.googleapis.com%2Fauth%2Fdevstorage.full_control&redirect_uri=urn%3Aietf%3Awg%3Aoauth%3A2.0%3Aoob&response_type=code&code_challenge=dkFQsVs8HoJ7DqabbDZT7ndeI2em9kjwRkYFQCbZWLU&code_challenge_method=S256</a></p>\n",
       "        <p>The authorization workflow will generate a code, which you\n",
       "        should paste in the box below</p>\n",
       "        "
      ],
      "text/plain": [
       "<IPython.core.display.HTML object>"
      ]
     },
     "metadata": {},
     "output_type": "display_data"
    },
    {
     "name": "stdout",
     "output_type": "stream",
     "text": [
      "Enter verification code: 4/1AX4XfWhA3-I7iQhAB85Ptdq9PXEQsbYjVXHSoarJ5A1klQBp8iWTpHB_xGU\n",
      "\n",
      "Successfully saved authorization token.\n"
     ]
    }
   ],
   "source": [
    "import ee\n",
    "ee.Authenticate()\n",
    "ee.Initialize()"
   ]
  },
  {
   "cell_type": "code",
   "execution_count": 4,
   "id": "18e67629",
   "metadata": {},
   "outputs": [],
   "source": [
    "home_dir = '/home/zacharykeskinen/Documents/uavsar/'\n",
    "data_dir = join(home_dir,'data')\n",
    "imgs_dir = join(home_dir, 'imgs')\n",
    "auc_dir = join(data_dir, 'aucillary')"
   ]
  },
  {
   "cell_type": "code",
   "execution_count": 5,
   "id": "e784ab26",
   "metadata": {},
   "outputs": [],
   "source": [
    "left = -116.2080964390344\n",
    "bottom = 43.6073401670351\n",
    "top = 44.26398174447158\n",
    "right = -114.8897370640344"
   ]
  },
  {
   "cell_type": "code",
   "execution_count": 6,
   "id": "2b78b577",
   "metadata": {},
   "outputs": [],
   "source": [
    "loc_dir = (join(imgs_dir, os.listdir(imgs_dir)[0]))\n",
    "\n",
    "class Image:\n",
    "    def __init__(self, fp, dtype, pol, real_img):\n",
    "        self.fp = fp\n",
    "        self.dtype = dtype\n",
    "        self.pol = pol\n",
    "        self.comp = real_img\n",
    "    array = None\n",
    "    top = None\n",
    "    bottom = None\n",
    "    left = None\n",
    "    right = None\n",
    "    crs = None\n",
    "    transform = None\n",
    "    window = None\n",
    "    nodata = None\n",
    "\n",
    "img_list = []\n",
    "        \n",
    "for img in os.listdir(loc_dir):\n",
    "    if 'csv' in img:\n",
    "        desc = pd.read_csv(join(loc_dir, img))\n",
    "    if 'tif' in img:\n",
    "        if len(basename(img).split('.')) == 3:\n",
    "            fp = join(loc_dir, img)\n",
    "            real_img = 'real'\n",
    "            dtype = basename(img).split('.')[-2]\n",
    "            pol = np.nan\n",
    "            img_list.append(Image(fp, dtype, pol, real_img))\n",
    "        else:\n",
    "            fp = join(loc_dir, img)\n",
    "            real_img = basename(img).split('.')[-2]\n",
    "            dtype = basename(img).split('.')[-3]\n",
    "            pol = basename(img).split('.')[0].split('_')[-2][4:]\n",
    "            img_list.append(Image(fp, dtype, pol, real_img))"
   ]
  },
  {
   "cell_type": "code",
   "execution_count": 28,
   "id": "fd33b6d2",
   "metadata": {},
   "outputs": [
    {
     "data": {
      "text/plain": [
       "'/home/zacharykeskinen/Documents/uavsar/imgs/lowman_test'"
      ]
     },
     "execution_count": 28,
     "metadata": {},
     "output_type": "execute_result"
    }
   ],
   "source": [
    "loc_dir"
   ]
  },
  {
   "cell_type": "code",
   "execution_count": 15,
   "id": "74ba6bf7",
   "metadata": {},
   "outputs": [
    {
     "name": "stdout",
     "output_type": "stream",
     "text": [
      "BoundingBox(left=553859.6221955194, bottom=4822498.443121072, right=674122.4174766277, top=4931021.2988628335)\n"
     ]
    },
    {
     "data": {
      "text/html": [
       "<div style=\"width:100%;\"><div style=\"position:relative;width:100%;height:0;padding-bottom:60%;\"><span style=\"color:#565656\">Make this Notebook Trusted to load map: File -> Trust Notebook</span><iframe src=\"about:blank\" style=\"position:absolute;width:100%;height:100%;left:0;top:0;border:none !important;\" data-html=%3C%21DOCTYPE%20html%3E%0A%3Chead%3E%20%20%20%20%0A%20%20%20%20%3Cmeta%20http-equiv%3D%22content-type%22%20content%3D%22text/html%3B%20charset%3DUTF-8%22%20/%3E%0A%20%20%20%20%0A%20%20%20%20%20%20%20%20%3Cscript%3E%0A%20%20%20%20%20%20%20%20%20%20%20%20L_NO_TOUCH%20%3D%20false%3B%0A%20%20%20%20%20%20%20%20%20%20%20%20L_DISABLE_3D%20%3D%20false%3B%0A%20%20%20%20%20%20%20%20%3C/script%3E%0A%20%20%20%20%0A%20%20%20%20%3Cstyle%3Ehtml%2C%20body%20%7Bwidth%3A%20100%25%3Bheight%3A%20100%25%3Bmargin%3A%200%3Bpadding%3A%200%3B%7D%3C/style%3E%0A%20%20%20%20%3Cstyle%3E%23map%20%7Bposition%3Aabsolute%3Btop%3A0%3Bbottom%3A0%3Bright%3A0%3Bleft%3A0%3B%7D%3C/style%3E%0A%20%20%20%20%3Cscript%20src%3D%22https%3A//cdn.jsdelivr.net/npm/leaflet%401.6.0/dist/leaflet.js%22%3E%3C/script%3E%0A%20%20%20%20%3Cscript%20src%3D%22https%3A//code.jquery.com/jquery-1.12.4.min.js%22%3E%3C/script%3E%0A%20%20%20%20%3Cscript%20src%3D%22https%3A//maxcdn.bootstrapcdn.com/bootstrap/3.2.0/js/bootstrap.min.js%22%3E%3C/script%3E%0A%20%20%20%20%3Cscript%20src%3D%22https%3A//cdnjs.cloudflare.com/ajax/libs/Leaflet.awesome-markers/2.0.2/leaflet.awesome-markers.js%22%3E%3C/script%3E%0A%20%20%20%20%3Clink%20rel%3D%22stylesheet%22%20href%3D%22https%3A//cdn.jsdelivr.net/npm/leaflet%401.6.0/dist/leaflet.css%22/%3E%0A%20%20%20%20%3Clink%20rel%3D%22stylesheet%22%20href%3D%22https%3A//maxcdn.bootstrapcdn.com/bootstrap/3.2.0/css/bootstrap.min.css%22/%3E%0A%20%20%20%20%3Clink%20rel%3D%22stylesheet%22%20href%3D%22https%3A//maxcdn.bootstrapcdn.com/bootstrap/3.2.0/css/bootstrap-theme.min.css%22/%3E%0A%20%20%20%20%3Clink%20rel%3D%22stylesheet%22%20href%3D%22https%3A//maxcdn.bootstrapcdn.com/font-awesome/4.6.3/css/font-awesome.min.css%22/%3E%0A%20%20%20%20%3Clink%20rel%3D%22stylesheet%22%20href%3D%22https%3A//cdnjs.cloudflare.com/ajax/libs/Leaflet.awesome-markers/2.0.2/leaflet.awesome-markers.css%22/%3E%0A%20%20%20%20%3Clink%20rel%3D%22stylesheet%22%20href%3D%22https%3A//cdn.jsdelivr.net/gh/python-visualization/folium/folium/templates/leaflet.awesome.rotate.min.css%22/%3E%0A%20%20%20%20%0A%20%20%20%20%20%20%20%20%20%20%20%20%3Cmeta%20name%3D%22viewport%22%20content%3D%22width%3Ddevice-width%2C%0A%20%20%20%20%20%20%20%20%20%20%20%20%20%20%20%20initial-scale%3D1.0%2C%20maximum-scale%3D1.0%2C%20user-scalable%3Dno%22%20/%3E%0A%20%20%20%20%20%20%20%20%20%20%20%20%3Cstyle%3E%0A%20%20%20%20%20%20%20%20%20%20%20%20%20%20%20%20%23map_3c8f55564bab4d199e07cfddacbb2655%20%7B%0A%20%20%20%20%20%20%20%20%20%20%20%20%20%20%20%20%20%20%20%20position%3A%20relative%3B%0A%20%20%20%20%20%20%20%20%20%20%20%20%20%20%20%20%20%20%20%20width%3A%20100.0%25%3B%0A%20%20%20%20%20%20%20%20%20%20%20%20%20%20%20%20%20%20%20%20height%3A%20100.0%25%3B%0A%20%20%20%20%20%20%20%20%20%20%20%20%20%20%20%20%20%20%20%20left%3A%200.0%25%3B%0A%20%20%20%20%20%20%20%20%20%20%20%20%20%20%20%20%20%20%20%20top%3A%200.0%25%3B%0A%20%20%20%20%20%20%20%20%20%20%20%20%20%20%20%20%7D%0A%20%20%20%20%20%20%20%20%20%20%20%20%3C/style%3E%0A%20%20%20%20%20%20%20%20%0A%20%20%20%20%3Cscript%20src%3D%22https%3A//cdnjs.cloudflare.com/ajax/libs/leaflet.fullscreen/1.4.2/Control.FullScreen.min.js%22%3E%3C/script%3E%0A%20%20%20%20%3Clink%20rel%3D%22stylesheet%22%20href%3D%22https%3A//cdnjs.cloudflare.com/ajax/libs/leaflet.fullscreen/1.4.2/Control.FullScreen.min.css%22/%3E%0A%3C/head%3E%0A%3Cbody%3E%20%20%20%20%0A%20%20%20%20%0A%20%20%20%20%20%20%20%20%20%20%20%20%3Cdiv%20class%3D%22folium-map%22%20id%3D%22map_3c8f55564bab4d199e07cfddacbb2655%22%20%3E%3C/div%3E%0A%20%20%20%20%20%20%20%20%0A%3C/body%3E%0A%3Cscript%3E%20%20%20%20%0A%20%20%20%20%0A%20%20%20%20%20%20%20%20%20%20%20%20var%20map_3c8f55564bab4d199e07cfddacbb2655%20%3D%20L.map%28%0A%20%20%20%20%20%20%20%20%20%20%20%20%20%20%20%20%22map_3c8f55564bab4d199e07cfddacbb2655%22%2C%0A%20%20%20%20%20%20%20%20%20%20%20%20%20%20%20%20%7B%0A%20%20%20%20%20%20%20%20%20%20%20%20%20%20%20%20%20%20%20%20center%3A%20%5B43.6073401670351%2C%20-116.2080964390344%5D%2C%0A%20%20%20%20%20%20%20%20%20%20%20%20%20%20%20%20%20%20%20%20crs%3A%20L.CRS.EPSG3857%2C%0A%20%20%20%20%20%20%20%20%20%20%20%20%20%20%20%20%20%20%20%20zoom%3A%2010%2C%0A%20%20%20%20%20%20%20%20%20%20%20%20%20%20%20%20%20%20%20%20zoomControl%3A%20true%2C%0A%20%20%20%20%20%20%20%20%20%20%20%20%20%20%20%20%20%20%20%20preferCanvas%3A%20false%2C%0A%20%20%20%20%20%20%20%20%20%20%20%20%20%20%20%20%7D%0A%20%20%20%20%20%20%20%20%20%20%20%20%29%3B%0A%0A%20%20%20%20%20%20%20%20%20%20%20%20%0A%0A%20%20%20%20%20%20%20%20%0A%20%20%20%20%0A%20%20%20%20%20%20%20%20%20%20%20%20var%20tile_layer_e4e5dbbfc620435781fd92ccdc43f42e%20%3D%20L.tileLayer%28%0A%20%20%20%20%20%20%20%20%20%20%20%20%20%20%20%20%22https%3A//stamen-tiles-%7Bs%7D.a.ssl.fastly.net/terrain/%7Bz%7D/%7Bx%7D/%7By%7D.jpg%22%2C%0A%20%20%20%20%20%20%20%20%20%20%20%20%20%20%20%20%7B%22attribution%22%3A%20%22Map%20tiles%20by%20%5Cu003ca%20href%3D%5C%22http%3A//stamen.com%5C%22%5Cu003eStamen%20Design%5Cu003c/a%5Cu003e%2C%20under%20%5Cu003ca%20href%3D%5C%22http%3A//creativecommons.org/licenses/by/3.0%5C%22%5Cu003eCC%20BY%203.0%5Cu003c/a%5Cu003e.%20Data%20by%20%5Cu0026copy%3B%20%5Cu003ca%20href%3D%5C%22http%3A//openstreetmap.org%5C%22%5Cu003eOpenStreetMap%5Cu003c/a%5Cu003e%2C%20under%20%5Cu003ca%20href%3D%5C%22http%3A//creativecommons.org/licenses/by-sa/3.0%5C%22%5Cu003eCC%20BY%20SA%5Cu003c/a%5Cu003e.%22%2C%20%22detectRetina%22%3A%20false%2C%20%22maxNativeZoom%22%3A%2018%2C%20%22maxZoom%22%3A%2018%2C%20%22minZoom%22%3A%200%2C%20%22noWrap%22%3A%20false%2C%20%22opacity%22%3A%201%2C%20%22subdomains%22%3A%20%22abc%22%2C%20%22tms%22%3A%20false%7D%0A%20%20%20%20%20%20%20%20%20%20%20%20%29.addTo%28map_3c8f55564bab4d199e07cfddacbb2655%29%3B%0A%20%20%20%20%20%20%20%20%0A%20%20%20%20%0A%20%20%20%20%20%20%20%20%20%20%20%20var%20tile_layer_e47eae74ed3541a4aa7763af46c8e2d5%20%3D%20L.tileLayer%28%0A%20%20%20%20%20%20%20%20%20%20%20%20%20%20%20%20%22https%3A//mt1.google.com/vt/lyrs%3Dy%5Cu0026x%3D%7Bx%7D%5Cu0026y%3D%7By%7D%5Cu0026z%3D%7Bz%7D%22%2C%0A%20%20%20%20%20%20%20%20%20%20%20%20%20%20%20%20%7B%22attribution%22%3A%20%22Google%22%2C%20%22detectRetina%22%3A%20false%2C%20%22maxNativeZoom%22%3A%2018%2C%20%22maxZoom%22%3A%2018%2C%20%22minZoom%22%3A%200%2C%20%22noWrap%22%3A%20false%2C%20%22opacity%22%3A%201%2C%20%22subdomains%22%3A%20%22abc%22%2C%20%22tms%22%3A%20false%7D%0A%20%20%20%20%20%20%20%20%20%20%20%20%29.addTo%28map_3c8f55564bab4d199e07cfddacbb2655%29%3B%0A%20%20%20%20%20%20%20%20%0A%20%20%20%20%0A%20%20%20%20%20%20%20%20%20%20%20%20var%20tile_layer_dda072437b664fa7bbb147a040a34901%20%3D%20L.tileLayer%28%0A%20%20%20%20%20%20%20%20%20%20%20%20%20%20%20%20%22https%3A//earthengine.googleapis.com/v1alpha/projects/earthengine-legacy/maps/582030d925ac6c4f341fd0f7097d8829-2093f33eb22fa8e1f401e3b5e7535772/tiles/%7Bz%7D/%7Bx%7D/%7By%7D%22%2C%0A%20%20%20%20%20%20%20%20%20%20%20%20%20%20%20%20%7B%22attribution%22%3A%20%22Google%20Earth%20Engine%22%2C%20%22detectRetina%22%3A%20false%2C%20%22maxNativeZoom%22%3A%2018%2C%20%22maxZoom%22%3A%2018%2C%20%22minZoom%22%3A%200%2C%20%22noWrap%22%3A%20false%2C%20%22opacity%22%3A%201%2C%20%22subdomains%22%3A%20%22abc%22%2C%20%22tms%22%3A%20false%7D%0A%20%20%20%20%20%20%20%20%20%20%20%20%29.addTo%28map_3c8f55564bab4d199e07cfddacbb2655%29%3B%0A%20%20%20%20%20%20%20%20%0A%20%20%20%20%0A%20%20%20%20%20%20%20%20%20%20%20%20var%20tile_layer_ebdb17413eee4099a828314857e03f5d%20%3D%20L.tileLayer%28%0A%20%20%20%20%20%20%20%20%20%20%20%20%20%20%20%20%22https%3A//earthengine.googleapis.com/v1alpha/projects/earthengine-legacy/maps/a66aca40879fce48369ad97acf49df0e-e443dc888be5a1fc03ef9ea4385aaac4/tiles/%7Bz%7D/%7Bx%7D/%7By%7D%22%2C%0A%20%20%20%20%20%20%20%20%20%20%20%20%20%20%20%20%7B%22attribution%22%3A%20%22Google%20Earth%20Engine%22%2C%20%22detectRetina%22%3A%20false%2C%20%22maxNativeZoom%22%3A%2018%2C%20%22maxZoom%22%3A%2018%2C%20%22minZoom%22%3A%200%2C%20%22noWrap%22%3A%20false%2C%20%22opacity%22%3A%201%2C%20%22subdomains%22%3A%20%22abc%22%2C%20%22tms%22%3A%20false%7D%0A%20%20%20%20%20%20%20%20%20%20%20%20%29.addTo%28map_3c8f55564bab4d199e07cfddacbb2655%29%3B%0A%20%20%20%20%20%20%20%20%0A%20%20%20%20%0A%20%20%20%20%20%20%20%20%20%20%20%20var%20tile_layer_12178e4909ce4b049d921b1298f66727%20%3D%20L.tileLayer%28%0A%20%20%20%20%20%20%20%20%20%20%20%20%20%20%20%20%22https%3A//earthengine.googleapis.com/v1alpha/projects/earthengine-legacy/maps/4f6dc325728e67605b03c96cf11f4132-e595bfcd7cb86cf44641f3bb5949d994/tiles/%7Bz%7D/%7Bx%7D/%7By%7D%22%2C%0A%20%20%20%20%20%20%20%20%20%20%20%20%20%20%20%20%7B%22attribution%22%3A%20%22Google%20Earth%20Engine%22%2C%20%22detectRetina%22%3A%20false%2C%20%22maxNativeZoom%22%3A%2018%2C%20%22maxZoom%22%3A%2018%2C%20%22minZoom%22%3A%200%2C%20%22noWrap%22%3A%20false%2C%20%22opacity%22%3A%201%2C%20%22subdomains%22%3A%20%22abc%22%2C%20%22tms%22%3A%20false%7D%0A%20%20%20%20%20%20%20%20%20%20%20%20%29.addTo%28map_3c8f55564bab4d199e07cfddacbb2655%29%3B%0A%20%20%20%20%20%20%20%20%0A%20%20%20%20%0A%20%20%20%20%20%20%20%20%20%20%20%20var%20tile_layer_a60542561ba948739fad251c6f65d212%20%3D%20L.tileLayer%28%0A%20%20%20%20%20%20%20%20%20%20%20%20%20%20%20%20%22https%3A//earthengine.googleapis.com/v1alpha/projects/earthengine-legacy/maps/902c3b905179616bd087a5ea5e513020-a7785920a3e5e4b9b76a77dcc60bc14c/tiles/%7Bz%7D/%7Bx%7D/%7By%7D%22%2C%0A%20%20%20%20%20%20%20%20%20%20%20%20%20%20%20%20%7B%22attribution%22%3A%20%22Google%20Earth%20Engine%22%2C%20%22detectRetina%22%3A%20false%2C%20%22maxNativeZoom%22%3A%2018%2C%20%22maxZoom%22%3A%2018%2C%20%22minZoom%22%3A%200%2C%20%22noWrap%22%3A%20false%2C%20%22opacity%22%3A%201%2C%20%22subdomains%22%3A%20%22abc%22%2C%20%22tms%22%3A%20false%7D%0A%20%20%20%20%20%20%20%20%20%20%20%20%29.addTo%28map_3c8f55564bab4d199e07cfddacbb2655%29%3B%0A%20%20%20%20%20%20%20%20%0A%20%20%20%20%0A%20%20%20%20%20%20%20%20%20%20%20%20var%20tile_layer_e9cab0c3d8624aec961f1f41c57c75b6%20%3D%20L.tileLayer%28%0A%20%20%20%20%20%20%20%20%20%20%20%20%20%20%20%20%22https%3A//earthengine.googleapis.com/v1alpha/projects/earthengine-legacy/maps/bde2fad1bd78207aa641808144870cee-aadc9cd006685aacaccfb75c8e81b723/tiles/%7Bz%7D/%7Bx%7D/%7By%7D%22%2C%0A%20%20%20%20%20%20%20%20%20%20%20%20%20%20%20%20%7B%22attribution%22%3A%20%22Google%20Earth%20Engine%22%2C%20%22detectRetina%22%3A%20false%2C%20%22maxNativeZoom%22%3A%2018%2C%20%22maxZoom%22%3A%2018%2C%20%22minZoom%22%3A%200%2C%20%22noWrap%22%3A%20false%2C%20%22opacity%22%3A%201%2C%20%22subdomains%22%3A%20%22abc%22%2C%20%22tms%22%3A%20false%7D%0A%20%20%20%20%20%20%20%20%20%20%20%20%29.addTo%28map_3c8f55564bab4d199e07cfddacbb2655%29%3B%0A%20%20%20%20%20%20%20%20%0A%20%20%20%20%0A%20%20%20%20%20%20%20%20%20%20%20%20var%20tile_layer_820e8c07fb6d4fe9b15a7be757ea8d33%20%3D%20L.tileLayer%28%0A%20%20%20%20%20%20%20%20%20%20%20%20%20%20%20%20%22https%3A//earthengine.googleapis.com/v1alpha/projects/earthengine-legacy/maps/5f1643bcade4183f59acce2e5dbce452-93439b55d730c8a28d07fe739ed1b989/tiles/%7Bz%7D/%7Bx%7D/%7By%7D%22%2C%0A%20%20%20%20%20%20%20%20%20%20%20%20%20%20%20%20%7B%22attribution%22%3A%20%22Google%20Earth%20Engine%22%2C%20%22detectRetina%22%3A%20false%2C%20%22maxNativeZoom%22%3A%2018%2C%20%22maxZoom%22%3A%2018%2C%20%22minZoom%22%3A%200%2C%20%22noWrap%22%3A%20false%2C%20%22opacity%22%3A%201%2C%20%22subdomains%22%3A%20%22abc%22%2C%20%22tms%22%3A%20false%7D%0A%20%20%20%20%20%20%20%20%20%20%20%20%29.addTo%28map_3c8f55564bab4d199e07cfddacbb2655%29%3B%0A%20%20%20%20%20%20%20%20%0A%20%20%20%20%0A%20%20%20%20%20%20%20%20%20%20%20%20var%20layer_control_ace04a7c176d42779359d115b3006019%20%3D%20%7B%0A%20%20%20%20%20%20%20%20%20%20%20%20%20%20%20%20base_layers%20%3A%20%7B%0A%20%20%20%20%20%20%20%20%20%20%20%20%20%20%20%20%20%20%20%20%22stamenterrain%22%20%3A%20tile_layer_e4e5dbbfc620435781fd92ccdc43f42e%2C%0A%20%20%20%20%20%20%20%20%20%20%20%20%20%20%20%20%7D%2C%0A%20%20%20%20%20%20%20%20%20%20%20%20%20%20%20%20overlays%20%3A%20%20%7B%0A%20%20%20%20%20%20%20%20%20%20%20%20%20%20%20%20%20%20%20%20%22Google%20Satellite%22%20%3A%20tile_layer_e47eae74ed3541a4aa7763af46c8e2d5%2C%0A%20%20%20%20%20%20%20%20%20%20%20%20%20%20%20%20%20%20%20%20%22Layer%20untitled%22%20%3A%20tile_layer_820e8c07fb6d4fe9b15a7be757ea8d33%2C%0A%20%20%20%20%20%20%20%20%20%20%20%20%20%20%20%20%20%20%20%20%22tree%20coverage%22%20%3A%20tile_layer_ebdb17413eee4099a828314857e03f5d%2C%0A%20%20%20%20%20%20%20%20%20%20%20%20%20%20%20%20%20%20%20%20%22ground%20coverage%22%20%3A%20tile_layer_12178e4909ce4b049d921b1298f66727%2C%0A%20%20%20%20%20%20%20%20%20%20%20%20%20%20%20%20%20%20%20%20%22NED%20land%20forms%22%20%3A%20tile_layer_a60542561ba948739fad251c6f65d212%2C%0A%20%20%20%20%20%20%20%20%20%20%20%20%20%20%20%20%20%20%20%20%22Lithography%22%20%3A%20tile_layer_e9cab0c3d8624aec961f1f41c57c75b6%2C%0A%20%20%20%20%20%20%20%20%20%20%20%20%20%20%20%20%7D%2C%0A%20%20%20%20%20%20%20%20%20%20%20%20%7D%3B%0A%20%20%20%20%20%20%20%20%20%20%20%20L.control.layers%28%0A%20%20%20%20%20%20%20%20%20%20%20%20%20%20%20%20layer_control_ace04a7c176d42779359d115b3006019.base_layers%2C%0A%20%20%20%20%20%20%20%20%20%20%20%20%20%20%20%20layer_control_ace04a7c176d42779359d115b3006019.overlays%2C%0A%20%20%20%20%20%20%20%20%20%20%20%20%20%20%20%20%7B%22autoZIndex%22%3A%20true%2C%20%22collapsed%22%3A%20true%2C%20%22position%22%3A%20%22topright%22%7D%0A%20%20%20%20%20%20%20%20%20%20%20%20%29.addTo%28map_3c8f55564bab4d199e07cfddacbb2655%29%3B%0A%20%20%20%20%20%20%20%20%20%20%20%20tile_layer_ebdb17413eee4099a828314857e03f5d.remove%28%29%3B%0A%20%20%20%20%20%20%20%20%20%20%20%20tile_layer_a60542561ba948739fad251c6f65d212.remove%28%29%3B%0A%20%20%20%20%20%20%20%20%20%20%20%20tile_layer_e9cab0c3d8624aec961f1f41c57c75b6.remove%28%29%3B%0A%20%20%20%20%20%20%20%20%0A%20%20%20%20%0A%20%20%20%20%20%20%20%20%20%20%20%20L.control.fullscreen%28%0A%20%20%20%20%20%20%20%20%20%20%20%20%20%20%20%20%7B%22forceSeparateButton%22%3A%20false%2C%20%22position%22%3A%20%22topleft%22%2C%20%22title%22%3A%20%22Full%20Screen%22%2C%20%22titleCancel%22%3A%20%22Exit%20Full%20Screen%22%7D%0A%20%20%20%20%20%20%20%20%20%20%20%20%29.addTo%28map_3c8f55564bab4d199e07cfddacbb2655%29%3B%0A%20%20%20%20%20%20%20%20%0A%20%20%20%20%0A%20%20%20%20%20%20%20%20%20%20%20%20%20%20%20%20var%20lat_lng_popup_a1761d11fdb04883b57ea4e6e369e041%20%3D%20L.popup%28%29%3B%0A%20%20%20%20%20%20%20%20%20%20%20%20%20%20%20%20function%20latLngPop%28e%29%20%7B%0A%20%20%20%20%20%20%20%20%20%20%20%20%20%20%20%20%20%20%20%20lat_lng_popup_a1761d11fdb04883b57ea4e6e369e041%0A%20%20%20%20%20%20%20%20%20%20%20%20%20%20%20%20%20%20%20%20%20%20%20%20.setLatLng%28e.latlng%29%0A%20%20%20%20%20%20%20%20%20%20%20%20%20%20%20%20%20%20%20%20%20%20%20%20.setContent%28%22Latitude%3A%20%22%20%2B%20e.latlng.lat.toFixed%284%29%20%2B%0A%20%20%20%20%20%20%20%20%20%20%20%20%20%20%20%20%20%20%20%20%20%20%20%20%20%20%20%20%20%20%20%20%20%20%20%20%22%3Cbr%3ELongitude%3A%20%22%20%2B%20e.latlng.lng.toFixed%284%29%29%0A%20%20%20%20%20%20%20%20%20%20%20%20%20%20%20%20%20%20%20%20%20%20%20%20.openOn%28map_3c8f55564bab4d199e07cfddacbb2655%29%3B%0A%20%20%20%20%20%20%20%20%20%20%20%20%20%20%20%20%20%20%20%20%7D%0A%20%20%20%20%20%20%20%20%20%20%20%20%20%20%20%20map_3c8f55564bab4d199e07cfddacbb2655.on%28%27click%27%2C%20latLngPop%29%3B%0A%20%20%20%20%20%20%20%20%20%20%20%20%0A%3C/script%3E onload=\"this.contentDocument.open();this.contentDocument.write(    decodeURIComponent(this.getAttribute('data-html')));this.contentDocument.close();\" allowfullscreen webkitallowfullscreen mozallowfullscreen></iframe></div></div>"
      ],
      "text/plain": [
       "<folium.folium.Map at 0x7fdcc4652fd0>"
      ]
     },
     "execution_count": 15,
     "metadata": {},
     "output_type": "execute_result"
    }
   ],
   "source": [
    "import rasterio as rio\n",
    "from rasterio.windows import Window , from_bounds, crop\n",
    "\n",
    "\n",
    "Map = folium.Map(location=[bottom,left],\n",
    "                   tiles='Stamen Terrain', zoom_start = 10)\n",
    "\n",
    "##Define IDAHO with state features in GEE\n",
    "site = ee.Geometry.Polygon(\n",
    "    [[[right, bottom],\n",
    "      [left, bottom],\n",
    "      [left, top],\n",
    "      [right, top]]]);\n",
    "\n",
    "with rio.open(img_list[1].fp) as src:\n",
    "    boundary = src.bounds\n",
    "    print(boundary)\n",
    "    crs = src.crs\n",
    "    transform_affine = src.transform\n",
    "    my_proj = pyproj.Proj(str(crs).lower())#your data crs\n",
    "    left_bottom = (my_proj(boundary[0],boundary[1], inverse=True))\n",
    "    right_top = (my_proj(boundary[2],boundary[3], inverse=True))\n",
    "    \n",
    "\n",
    "#     left_bottom = my_proj(left,bottom, inverse=False)\n",
    "#     right_top = my_proj(right,top, inverse=False)\n",
    "#     win = from_bounds(left_bottom[0], left_bottom[1], right_top[0], right_top[1], src.transform)\n",
    "#     bounds = rio.windows.bounds(win,src.transform)\n",
    "#     img = src.read(1, window=win)\n",
    "#     nodata = src.nodata\n",
    "\n",
    "# # Overlay raster called img using add_child() function (opacity and bounding box set)\n",
    "# Map.add_child(folium.raster_layers.ImageOverlay(img, opacity=1, \n",
    "#                                  bounds =[[bottom, left], [top, right]]))\n",
    "##Define IDAHO with state features in GEE\n",
    "\n",
    "#Tree values\n",
    "ic_trees = ee.ImageCollection(\"NASA/MEASURES/GFCC/TC/v3\").filterBounds(site).filterMetadata('year','equals',2015).select('tree_canopy_cover')\n",
    "tree = ic_trees.mean()\n",
    "\n",
    "#land cover\n",
    "ic_lc = ee.ImageCollection(\"COPERNICUS/Landcover/100m/Proba-V-C3/Global\").filterBounds(site).filterMetadata('system:index','equals','2019').select('discrete_classification');\n",
    "assert ic_lc.size().getInfo() == 1\n",
    "lc = ic_lc.first()\n",
    "\n",
    "##USE - ee.ImageCollection(\"USGS/NLCD_RELEASES/2016_REL\")  ??\n",
    "\n",
    "#landforms\n",
    "lf = ee.Image(\"CSP/ERGo/1_0/US/landforms\")\n",
    "\n",
    "#lithography\n",
    "lith = ee.Image(\"CSP/ERGo/1_0/US/lithology\")\n",
    "\n",
    "# To see a google satellite view as a basemap\n",
    "Map.setOptions('HYBRID')\n",
    "Map.addLayer(site)\n",
    "Map.addLayer(tree.clip(site), {'min':0,'max':50}, 'tree coverage', 0)\n",
    "Map.addLayer(lc.clip(site), {'min':0,'max':200}, 'ground coverage', 1)\n",
    "Map.addLayer(lf.clip(site), {'min':20, 'max':50}, 'NED land forms', 0)\n",
    "Map.addLayer(lith.clip(site), {'min':5,'max':30}, 'Lithography', 0)\n",
    "\n",
    "right = right_top[0]\n",
    "top = right_top[1]\n",
    "left = left_bottom[0]\n",
    "bottom = left_bottom[1]\n",
    "\n",
    "site_uav = ee.Geometry.Polygon(\n",
    "    [[[right, bottom],\n",
    "      [left, bottom],\n",
    "      [left, top],\n",
    "      [right, top]]]);\n",
    "Map.addLayer(site_uav)\n",
    "\n",
    "\n",
    "Map.setControlVisibility(layerControl=True, fullscreenControl=True, latLngPopup=True)\n",
    "\n",
    "# Display map \n",
    "Map"
   ]
  },
  {
   "cell_type": "code",
   "execution_count": 24,
   "id": "5816f2ee",
   "metadata": {},
   "outputs": [],
   "source": [
    "task = ee.batch.Export.image.toDrive(image=tree,  # an ee.Image object.\n",
    "                                     region=site_uav,  # an ee.Geometry object.\n",
    "                                     description='trees',\n",
    "                                     folder='gee-downloads',\n",
    "                                     fileNamePrefix='trees',\n",
    "                                     scale=10,\n",
    "                                     crs='EPSG:4326',\n",
    "                                     maxPixels = 1e13)\n",
    "task.start()"
   ]
  },
  {
   "cell_type": "code",
   "execution_count": 25,
   "id": "8511611a",
   "metadata": {},
   "outputs": [],
   "source": [
    "task = ee.batch.Export.image.toDrive(image=lc,  # an ee.Image object.\n",
    "                                     region=site_uav,  # an ee.Geometry object.\n",
    "                                     description='land_class',\n",
    "                                     folder='gee-downloads',\n",
    "                                     fileNamePrefix='land_class',\n",
    "                                     scale=10,\n",
    "                                     crs='EPSG:4326',\n",
    "                                     maxPixels = 1e13)\n",
    "task.start()"
   ]
  },
  {
   "cell_type": "code",
   "execution_count": 26,
   "id": "baa2facf",
   "metadata": {},
   "outputs": [],
   "source": [
    "task = ee.batch.Export.image.toDrive(image=lith,  # an ee.Image object.\n",
    "                                     region=site_uav,  # an ee.Geometry object.\n",
    "                                     description='lithography',\n",
    "                                     folder='gee-downloads',\n",
    "                                     fileNamePrefix='lithography',\n",
    "                                     scale=10,\n",
    "                                     crs='EPSG:4326',\n",
    "                                     maxPixels = 1e13)\n",
    "task.start()"
   ]
  },
  {
   "cell_type": "code",
   "execution_count": 27,
   "id": "484cb9ae",
   "metadata": {},
   "outputs": [],
   "source": [
    "task = ee.batch.Export.image.toDrive(image=lf,  # an ee.Image object.\n",
    "                                     region=site_uav,  # an ee.Geometry object.\n",
    "                                     description='land_forms',\n",
    "                                     folder='gee-downloads',\n",
    "                                     fileNamePrefix='land_forms',\n",
    "                                     scale=10,\n",
    "                                     crs='EPSG:4326',\n",
    "                                     maxPixels = 1e13)\n",
    "task.start()"
   ]
  },
  {
   "cell_type": "code",
   "execution_count": 40,
   "id": "414453dd",
   "metadata": {},
   "outputs": [
    {
     "data": {
      "text/plain": [
       "{'state': 'READY',\n",
       " 'description': 'land_classification',\n",
       " 'creation_timestamp_ms': 1636499910586,\n",
       " 'update_timestamp_ms': 1636499910586,\n",
       " 'start_timestamp_ms': 0,\n",
       " 'task_type': 'EXPORT_IMAGE',\n",
       " 'id': '5NYVIHTKMA534SEPOWAQM53W',\n",
       " 'name': 'projects/earthengine-legacy/operations/5NYVIHTKMA534SEPOWAQM53W'}"
      ]
     },
     "execution_count": 40,
     "metadata": {},
     "output_type": "execute_result"
    }
   ],
   "source": [
    "task.status()"
   ]
  },
  {
   "cell_type": "code",
   "execution_count": null,
   "id": "ab5a5b09",
   "metadata": {},
   "outputs": [],
   "source": []
  }
 ],
 "metadata": {
  "kernelspec": {
   "display_name": "Python 3",
   "language": "python",
   "name": "python3"
  },
  "language_info": {
   "codemirror_mode": {
    "name": "ipython",
    "version": 3
   },
   "file_extension": ".py",
   "mimetype": "text/x-python",
   "name": "python",
   "nbconvert_exporter": "python",
   "pygments_lexer": "ipython3",
   "version": "3.8.8"
  }
 },
 "nbformat": 4,
 "nbformat_minor": 5
}
