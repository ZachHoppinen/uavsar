{
 "cells": [
  {
   "cell_type": "code",
   "execution_count": null,
   "metadata": {},
   "outputs": [],
   "source": [
    "import os\n",
    "from os.path import join, exists, basename, dirname, expanduser\n",
    "from glob import glob\n",
    "import shutil\n",
    "import numpy as np\n",
    "import pandas as pd\n",
    "import pickle\n",
    "from datetime import datetime\n",
    "import matplotlib as mpl\n",
    "import matplotlib.pyplot as plt\n",
    "import seaborn as sns\n",
    "import xarray as xa\n",
    "import rioxarray as rxa\n",
    "from rioxarray.merge import merge_arrays, merge_datasets\n",
    "from shapely.geometry import box"
   ]
  },
  {
   "cell_type": "code",
   "execution_count": null,
   "metadata": {},
   "outputs": [],
   "source": [
    "with open(expanduser('~/scratch/data/uavsar/image_fps'), 'rb') as f:\n",
    "    image_fps = pickle.load(f)\n",
    "\n",
    "image_fps = [f for f in image_fps if f['fp'].endswith('.unw.grd.tiff')]"
   ]
  },
  {
   "cell_type": "code",
   "execution_count": null,
   "metadata": {},
   "outputs": [],
   "source": [
    "image_fps[0].keys()"
   ]
  },
  {
   "cell_type": "code",
   "execution_count": null,
   "metadata": {},
   "outputs": [],
   "source": [
    "cor = rxa.open_rasterio(image_fps[0]['cor'])\n",
    "tree_fp = expanduser('~/scratch/data/uavsar/trees/Forest_height_2019_NAM.tif')\n",
    "trees = rxa.open_rasterio(tree_fp)"
   ]
  },
  {
   "cell_type": "code",
   "execution_count": null,
   "metadata": {},
   "outputs": [],
   "source": [
    "tree_cl = trees.rio.clip_box(*cor.rio.bounds())\n",
    "cor_re = cor.rio.reproject_match(tree_cl) \n",
    "tree_cl_ma = tree_cl.where(~np.isnan(cor_re), np.nan)"
   ]
  },
  {
   "cell_type": "code",
   "execution_count": null,
   "metadata": {},
   "outputs": [],
   "source": [
    "new = xa.Dataset()\n",
    "new['trees'] = tree_cl_ma\n",
    "new['cor'] = cor_re\n",
    "cor_1d = cor_re.data.ravel()\n",
    "tree_1d = tree_cl_ma.data.ravel()\n",
    "not_nan = (~np.isnan(tree_1d)) & (~np.isnan(cor_1d))\n",
    "cor_n1d = cor_1d[not_nan]\n",
    "tree_n1d = tree_1d[not_nan]\n",
    "N = int(1e6)\n",
    "length = len(tree_n1d)\n",
    "idx = np.random.choice(length, N, replace = False)\n",
    "res = pd.DataFrame()\n",
    "for name in new.data_vars:\n",
    "    res.loc[:,name] = new[name].data.ravel()[not_nan][idx]"
   ]
  },
  {
   "cell_type": "code",
   "execution_count": null,
   "metadata": {},
   "outputs": [],
   "source": [
    "plt.hist2d(x = res.loc[res.trees < 20].trees, y = res.loc[res.trees < 20].cor, bins = [50,50], norm=mpl.colors.LogNorm())\n",
    "plt.show()"
   ]
  },
  {
   "cell_type": "code",
   "execution_count": null,
   "metadata": {},
   "outputs": [],
   "source": [
    "f, ax = plt.subplots(figsize=(7, 7))\n",
    "x = res.trees[::100]\n",
    "y = res.cor[::100]\n",
    "sns.kdeplot(x = x, y = y, shade=True, ax=ax)"
   ]
  },
  {
   "cell_type": "code",
   "execution_count": null,
   "metadata": {},
   "outputs": [],
   "source": [
    "tmp_dir = expanduser(f'~/uavsar/results/coh_amp_inc/tmp/')\n",
    "print('Combining tmp dictionaries.')\n",
    "super_x = []\n",
    "from tqdm import tqdm\n",
    "for fp in tqdm(glob(join(tmp_dir, '*'))):\n",
    "    with open(fp, 'rb') as f:\n",
    "        tmp = pickle.load(f)\n",
    "    super_x.append(tmp)\n",
    "# res = pd.concat(super_x)"
   ]
  },
  {
   "cell_type": "code",
   "execution_count": null,
   "metadata": {},
   "outputs": [],
   "source": [
    "res = pd.concat(super_x)"
   ]
  },
  {
   "cell_type": "code",
   "execution_count": null,
   "metadata": {},
   "outputs": [],
   "source": [
    "plt.hist2d(np.rad2deg(np.isfinite(res.inc).values), np.isfinite(res.cor).values, bins = [100,100]) #norm=mpl.colors.LogNorm()"
   ]
  },
  {
   "cell_type": "code",
   "execution_count": null,
   "metadata": {},
   "outputs": [],
   "source": [
    "f, ax = plt.subplots(figsize=(7, 7))\n",
    "x = np.rad2deg(res.inc[::100].values)\n",
    "y = res.cor[::100].values\n",
    "sns.kdeplot(x = x, y = y, shade=True, ax=ax)"
   ]
  }
 ],
 "metadata": {
  "kernelspec": {
   "display_name": "Python 3.9.13 ('proj')",
   "language": "python",
   "name": "python3"
  },
  "language_info": {
   "codemirror_mode": {
    "name": "ipython",
    "version": 3
   },
   "file_extension": ".py",
   "mimetype": "text/x-python",
   "name": "python",
   "nbconvert_exporter": "python",
   "pygments_lexer": "ipython3",
   "version": "3.9.13"
  },
  "orig_nbformat": 4,
  "vscode": {
   "interpreter": {
    "hash": "be18628f3b6aaaf0d9a50c1a0a68c0122e22b01f7b4495836f3dc0caac12767e"
   }
  }
 },
 "nbformat": 4,
 "nbformat_minor": 2
}
