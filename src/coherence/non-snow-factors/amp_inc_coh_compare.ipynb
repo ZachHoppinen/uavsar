{
 "cells": [
  {
   "cell_type": "code",
   "execution_count": null,
   "metadata": {},
   "outputs": [],
   "source": [
    "import os\n",
    "from os.path import join, exists, basename, dirname, expanduser\n",
    "from glob import glob\n",
    "import shutil\n",
    "import numpy as np\n",
    "import pandas as pd\n",
    "import pickle\n",
    "from tqdm import tqdm\n",
    "import matplotlib.pyplot as plt\n",
    "import seaborn as sns\n",
    "import xarray as xa\n",
    "import rioxarray as rxa\n",
    "from rioxarray.merge import merge_arrays, merge_datasets\n",
    "\n",
    "with open(expanduser('~/scratch/data/uavsar/image_fps'), 'rb') as f:\n",
    "    image_fps = pickle.load(f)\n",
    "\n",
    "image_fps = [f for f in image_fps if f['fp'].endswith('.unw.grd.tiff')]\n",
    "\n",
    "with open(expanduser('/bsuhome/zacharykeskinen/uavsar/results/coh_amp_inc/resv1'), 'rb') as f:\n",
    "    res = pickle.load(f)\n",
    "sub = res.loc[::1000,:]\n",
    "sub['inc'] = np.rad2deg(sub.inc.values)\n",
    "sub['dt'] = sub.flight2 - sub.flight1\n",
    "# res.loc[:,'inc'] = np.rad2deg(res.inc)"
   ]
  },
  {
   "cell_type": "code",
   "execution_count": null,
   "metadata": {},
   "outputs": [],
   "source": [
    "sub[['inc','phase','cor']].hist(bins = 50, figsize = (12,8))"
   ]
  },
  {
   "cell_type": "code",
   "execution_count": null,
   "metadata": {},
   "outputs": [],
   "source": [
    "from pandas.plotting import scatter_matrix\n",
    "scatter_matrix(sub, figsize = (12,8), diagonal = 'hist', alpha = 0.005, hist_kwds = {'bins':30})\n",
    "plt.show()"
   ]
  },
  {
   "cell_type": "code",
   "execution_count": null,
   "metadata": {},
   "outputs": [],
   "source": [
    "x = sub['cor'][~np.isnan(sub['cor']) & ~np.isnan(sub['inc'])].values\n",
    "y = sub['inc'][~np.isnan(sub['cor']) & ~np.isnan(sub['inc'])].values\n",
    "heatmap, xedges, yedges = np.histogram2d(x, y, bins=70)\n",
    "extent = [xedges[0], xedges[-1], yedges[0], yedges[-1]]\n",
    "\n",
    "plt.clf()\n",
    "plt.imshow(heatmap.T, extent=extent, origin='lower', aspect = 'auto')\n",
    "plt.xlabel('Coherence')\n",
    "plt.ylabel('Incidence Angle')\n",
    "plt.show()"
   ]
  },
  {
   "cell_type": "code",
   "execution_count": null,
   "metadata": {},
   "outputs": [],
   "source": [
    "from sklearn.linear_model import LinearRegression\n",
    "sk = sub[(sub.dt < pd.Timedelta('9 days')) & (sub.pol == 'VV') & (sub.inc > 60)]\n",
    "X = sk['inc'][~np.isnan(sk['cor']) & ~np.isnan(sk['inc'])].values.reshape(-1,1)\n",
    "y = sk['cor'][~np.isnan(sk['cor']) & ~np.isnan(sk['inc'])].values\n",
    "\n",
    "reg = LinearRegression().fit(X, y)\n",
    "print(reg.score(X, y))\n",
    "print(reg.coef_)\n",
    "print(reg.intercept_)"
   ]
  },
  {
   "cell_type": "code",
   "execution_count": null,
   "metadata": {},
   "outputs": [],
   "source": [
    "plt.scatter(X, y, alpha = 0.002)\n",
    "plt.plot(X, reg.coef_* X + reg.intercept_)"
   ]
  }
 ],
 "metadata": {
  "kernelspec": {
   "display_name": "Python 3.9.13 ('proj')",
   "language": "python",
   "name": "python3"
  },
  "language_info": {
   "codemirror_mode": {
    "name": "ipython",
    "version": 3
   },
   "file_extension": ".py",
   "mimetype": "text/x-python",
   "name": "python",
   "nbconvert_exporter": "python",
   "pygments_lexer": "ipython3",
   "version": "3.9.13"
  },
  "orig_nbformat": 4,
  "vscode": {
   "interpreter": {
    "hash": "be18628f3b6aaaf0d9a50c1a0a68c0122e22b01f7b4495836f3dc0caac12767e"
   }
  }
 },
 "nbformat": 4,
 "nbformat_minor": 2
}
