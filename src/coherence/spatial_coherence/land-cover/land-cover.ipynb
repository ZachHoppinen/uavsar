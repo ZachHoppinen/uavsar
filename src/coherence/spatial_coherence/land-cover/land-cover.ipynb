{
 "cells": [
  {
   "cell_type": "code",
   "execution_count": 1,
   "metadata": {},
   "outputs": [],
   "source": [
    "import os\n",
    "from os.path import join, exists, basename, dirname, expanduser\n",
    "from glob import glob\n",
    "import pickle\n",
    "import numpy as np\n",
    "import pandas as pd\n",
    "import matplotlib.pyplot as plt\n",
    "import seaborn as sns\n",
    "import xarray as xr\n",
    "import rioxarray as rxa\n",
    "from scipy import stats\n",
    "from pyproj import Transformer\n",
    "\n",
    "with open(expanduser('~/scratch/data/uavsar/image_fps'), 'rb') as f:\n",
    "    image_fps = pickle.load(f)\n",
    "\n",
    "image_fps = [f for f in image_fps if f['fp'].endswith('.unw.grd.tiff')]\n",
    "netcdf_fps = '/bsuhome/zacharykeskinen/scratch/data/uavsar/images/vv_coherence'\n",
    "\n",
    "data_fp = '/bsuhome/zacharykeskinen/scratch/data/uavsar/coherence'\n",
    "with open(join(data_fp,'cor_vv_2.pkl'), 'rb') as f:\n",
    "    cor_vv = pickle.load(f)"
   ]
  },
  {
   "cell_type": "code",
   "execution_count": 3,
   "metadata": {},
   "outputs": [],
   "source": [
    "def clean_nps(arrs):\n",
    "    idx = np.zeros_like(arrs[0], dtype = arrs[0].dtype)\n",
    "    for arr in arrs:\n",
    "        idx += arr\n",
    "\n",
    "    for i in range(len(arrs)):\n",
    "        arrs[i] = arrs[i][np.where(~np.isnan(idx))]\n",
    "    return arrs\n",
    "\n",
    "def clean_two_nps(arr1, arr2):\n",
    "    buff = arr1\n",
    "    arr1 = arr1[(~np.isnan(arr1)) & (~np.isnan(arr2))]\n",
    "    arr2 = arr2[(~np.isnan(buff)) & (~np.isnan(arr2))]\n",
    "    return arr1, arr2\n",
    "\n",
    "def datarray_to_numpy(x, y):\n",
    "    if type(x)== xr.core.dataarray.DataArray:\n",
    "        x_dirty = x.values.ravel()\n",
    "        y = y.values.ravel()\n",
    "    else:\n",
    "        x_dirty = x\n",
    "    x = x_dirty[(~np.isnan(x_dirty)) & (~np.isnan(y))]\n",
    "    y = y[(~np.isnan(x_dirty)) & (~np.isnan(y))]\n",
    "    return x, y\n",
    "\n",
    "def r2_value(x, y):\n",
    "    x, y = datarray_to_numpy(x,y)\n",
    "    slope, intercept, r_value, p_value, std_err = stats.linregress(x, y)\n",
    "    print(f'slope: {slope}. intercept: {intercept}. r_value {r_value}. p value: {p_value}')\n",
    "    return slope, intercept, r_value, p_value, x, y\n",
    "\n",
    "def mann_test(x, y, xlabel = 'x', ylabel = 'y'):\n",
    "    x, y = datarray_to_numpy(x,y)\n",
    "    stat, p = mannwhitneyu(x, y)   \n",
    "    print(f'Comparison of {xlabel} vs {ylabel} center has a p value of {p:.10f} of not being from same distribution with {len(x)} observations.')\n",
    "    if p < 0.1:\n",
    "        print(f'Median of {xlabel}: {np.median(x)} compared to median of {ylabel}: {np.median(y)}')"
   ]
  },
  {
   "cell_type": "code",
   "execution_count": 4,
   "metadata": {},
   "outputs": [],
   "source": [
    "lcfull = rxa.open_rasterio('/bsuhome/zacharykeskinen/scratch/data/uavsar/land-cover/nlcd_2019_land_cover_l48_20210604.img')"
   ]
  },
  {
   "cell_type": "code",
   "execution_count": 5,
   "metadata": {},
   "outputs": [],
   "source": [
    "transformer = Transformer.from_crs(\"epsg:4326\", lcfull.rio.crs)\n",
    "for loc, ds in cor_vv.items():\n",
    "    if 'landcover' not in cor_vv[loc].data_vars:\n",
    "        left, bottom = transformer.transform(*ds.rio.bounds()[:2][::-1])\n",
    "        right, top = transformer.transform(*ds.rio.bounds()[2:][::-1])\n",
    "        clip = lcfull.rio.clip_box(left, bottom, right, top)\n",
    "        re = clip.rio.reproject_match(cor_vv[loc])[0]\n",
    "        cor_vv[loc]['landcover'] = re.where(re != 255)"
   ]
  },
  {
   "cell_type": "code",
   "execution_count": 7,
   "metadata": {},
   "outputs": [],
   "source": [
    "data_fp = '/bsuhome/zacharykeskinen/scratch/data/uavsar/coherence'\n",
    "with open(join(data_fp,'cor_vv_3.pkl'), 'wb') as f:\n",
    "    pickle.dump(cor_vv, f)"
   ]
  },
  {
   "cell_type": "code",
   "execution_count": null,
   "metadata": {},
   "outputs": [],
   "source": [
    "trees = []\n",
    "cors = []\n",
    "for loc, ds in cor_vv.items():\n",
    "    for band in ds.band.values:\n",
    "        ts = ds['tree-perc']\n",
    "        cor = ds.sel({'band':band})\n",
    "        if cor.band.values.size > 1:\n",
    "            cor = cor.isel({'band':0})\n",
    "        insclean, csclean = clean_two_nps(ts.values.ravel(), cor['cor_vv'].values.ravel())\n",
    "        trees.append(insclean)\n",
    "        cors.append(csclean)\n",
    "trees = np.concatenate(trees)\n",
    "cors = np.concatenate(cors)"
   ]
  }
 ],
 "metadata": {
  "kernelspec": {
   "display_name": "Python 3.9.13 ('proj')",
   "language": "python",
   "name": "python3"
  },
  "language_info": {
   "codemirror_mode": {
    "name": "ipython",
    "version": 3
   },
   "file_extension": ".py",
   "mimetype": "text/x-python",
   "name": "python",
   "nbconvert_exporter": "python",
   "pygments_lexer": "ipython3",
   "version": "3.9.13"
  },
  "orig_nbformat": 4,
  "vscode": {
   "interpreter": {
    "hash": "be18628f3b6aaaf0d9a50c1a0a68c0122e22b01f7b4495836f3dc0caac12767e"
   }
  }
 },
 "nbformat": 4,
 "nbformat_minor": 2
}
