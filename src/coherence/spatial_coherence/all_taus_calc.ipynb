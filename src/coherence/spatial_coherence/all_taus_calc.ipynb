{
 "cells": [
  {
   "cell_type": "code",
   "execution_count": 12,
   "metadata": {},
   "outputs": [],
   "source": [
    "import os\n",
    "from os.path import join, exists, basename, dirname, expanduser\n",
    "from glob import glob\n",
    "import pickle\n",
    "import numpy as np\n",
    "import pandas as pd\n",
    "import matplotlib.pyplot as plt\n",
    "import xarray as xr\n",
    "import rioxarray as rxa\n",
    "import geopandas as gpd\n",
    "from scipy.optimize import curve_fit\n",
    "from rasterio.enums import Resampling\n",
    "import py3dep\n",
    "\n",
    "with open(expanduser('~/scratch/data/uavsar/image_fps'), 'rb') as f:\n",
    "    image_fps = pickle.load(f)\n",
    "\n",
    "image_fps = [f for f in image_fps if f['fp'].endswith('.unw.grd.tiff')]\n",
    "netcdf_fps = '/bsuhome/zacharykeskinen/scratch/data/uavsar/images/vv_coherence'"
   ]
  },
  {
   "cell_type": "code",
   "execution_count": 13,
   "metadata": {},
   "outputs": [],
   "source": [
    "def temp_model(T, tau):\n",
    "    return np.exp(-T/tau)\n",
    "\n",
    "def tau(cors, days):\n",
    "    if np.sum(np.isnan(cors)) == 0:\n",
    "        s = curve_fit(temp_model, days, cors, 5)[0][0]\n",
    "        return s\n",
    "    else:\n",
    "        return np.nan"
   ]
  },
  {
   "cell_type": "code",
   "execution_count": 3,
   "metadata": {},
   "outputs": [],
   "source": [
    "for fp in glob(join(netcdf_fps, '*')):\n",
    "    with open(fp, 'rb') as f:\n",
    "        cor_vv = pickle.load(f)"
   ]
  },
  {
   "cell_type": "code",
   "execution_count": 15,
   "metadata": {},
   "outputs": [
    {
     "data": {
      "text/plain": [
       "2"
      ]
     },
     "execution_count": 15,
     "metadata": {},
     "output_type": "execute_result"
    }
   ],
   "source": [
    "len(cor_vv.band.values)"
   ]
  },
  {
   "cell_type": "code",
   "execution_count": 3,
   "metadata": {},
   "outputs": [],
   "source": [
    "for fp in glob(join(netcdf_fps, '*')):\n",
    "    with open(fp, 'rb') as f:\n",
    "        cor_vv = pickle.load(f)\n",
    "    if len(cor_vv.band.values) > 2:\n",
    "        days = [int(d.split('_')[-1].replace('d','')) for d in cor_vv.band.values]\n",
    "        taus = np.apply_along_axis(arr = cor_vv['cor_vv'].values, func1d = tau, axis = 0, days = days)\n",
    "        da = cor_vv.isel({'band':0})['cor_vv']\n",
    "        da = da.drop('band')\n",
    "        da.values = taus\n",
    "        da.rio.to_raster(join('/bsuhome/zacharykeskinen/uavsar/results/taus', basename(fp).replace('.pkl','.tif')))"
   ]
  },
  {
   "cell_type": "code",
   "execution_count": 14,
   "metadata": {},
   "outputs": [],
   "source": [
    "with open(glob(join(netcdf_fps, '*'))[0], 'rb') as f:\n",
    "        cor_vv = pickle.load(f)"
   ]
  },
  {
   "cell_type": "code",
   "execution_count": null,
   "metadata": {},
   "outputs": [],
   "source": []
  }
 ],
 "metadata": {
  "kernelspec": {
   "display_name": "Python 3.9.13 ('proj')",
   "language": "python",
   "name": "python3"
  },
  "language_info": {
   "codemirror_mode": {
    "name": "ipython",
    "version": 3
   },
   "file_extension": ".py",
   "mimetype": "text/x-python",
   "name": "python",
   "nbconvert_exporter": "python",
   "pygments_lexer": "ipython3",
   "version": "3.9.13"
  },
  "orig_nbformat": 4,
  "vscode": {
   "interpreter": {
    "hash": "be18628f3b6aaaf0d9a50c1a0a68c0122e22b01f7b4495836f3dc0caac12767e"
   }
  }
 },
 "nbformat": 4,
 "nbformat_minor": 2
}
