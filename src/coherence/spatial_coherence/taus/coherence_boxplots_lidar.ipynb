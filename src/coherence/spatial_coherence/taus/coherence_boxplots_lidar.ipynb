{
 "cells": [
  {
   "cell_type": "code",
   "execution_count": null,
   "metadata": {},
   "outputs": [],
   "source": [
    "import xarray as xa\n",
    "import rioxarray as rxa\n",
    "import matplotlib.pyplot as plt\n",
    "import seaborn as sns\n",
    "import pandas as pd\n",
    "import geopandas as gpd\n",
    "import numpy as np\n",
    "from glob import glob\n",
    "from os.path import join\n",
    "import scipy\n",
    "from scipy.stats import mannwhitneyu, linregress"
   ]
  },
  {
   "cell_type": "code",
   "execution_count": null,
   "metadata": {},
   "outputs": [],
   "source": [
    "def datarray_to_numpy(x, y):\n",
    "    if type(x)== xa.core.dataarray.DataArray:\n",
    "        x_dirty = x.values.ravel()\n",
    "        y = y.values.ravel()\n",
    "    else:\n",
    "        x_dirty = x\n",
    "    x = x_dirty[(~np.isnan(x_dirty)) & (~np.isnan(y))]\n",
    "    y = y[(~np.isnan(x_dirty)) & (~np.isnan(y))]\n",
    "    return x, y\n",
    "    \n",
    "def r2_value(x, y):\n",
    "    x, y = datarray_to_numpy(x,y)\n",
    "    slope, intercept, r_value, p_value, std_err = scipy.stats.linregress(x, y)\n",
    "    print(f'slope: {slope}. intercept: {intercept}. r_value {r_value}. p value: {p_value}')\n",
    "    return slope, intercept, x, y\n",
    "\n",
    "def mann_test(x, y, xlabel = 'x', ylabel = 'y'):\n",
    "    x, y = datarray_to_numpy(x,y)\n",
    "    stat, p = mannwhitneyu(x, y)   \n",
    "    print(f'Comparison of {xlabel} vs {ylabel} center has a p value of {p:.10f} of not being from same distribution with {len(x)} observations.')\n",
    "    if p < 0.1:\n",
    "        print(f'Median of {xlabel}: {np.median(x)} compared to median of {ylabel}: {np.median(y)}')"
   ]
  },
  {
   "cell_type": "markdown",
   "metadata": {},
   "source": [
    "# Grand Mesa"
   ]
  },
  {
   "cell_type": "code",
   "execution_count": 3,
   "metadata": {},
   "outputs": [],
   "source": [
    "ds = xa.open_dataset('/Users/zachkeskinen/Documents/uavsar/data/coherence_spatial_GM/GM_cor_vv.nc')"
   ]
  },
  {
   "cell_type": "code",
   "execution_count": 4,
   "metadata": {},
   "outputs": [],
   "source": [
    "sd1 = rxa.open_rasterio('/Users/zachkeskinen/Documents/uavsar/data/coherence_spatial_GM/ASO_GrandMesa_2020Feb1-2_snowdepth_3m.tif')\n",
    "sd2 = rxa.open_rasterio('/Users/zachkeskinen/Documents/uavsar/data/coherence_spatial_GM/ASO_GrandMesa_2020Feb13_snowdepth_3m.tif')"
   ]
  },
  {
   "cell_type": "code",
   "execution_count": 6,
   "metadata": {},
   "outputs": [],
   "source": [
    "coarse = rxa.open_rasterio('/Users/zachkeskinen/Documents/uavsar/data/coherence_spatial_GM/gm_coarse.tiff')\n",
    "sd1_re = sd1.rio.reproject_match(coarse)\n",
    "sd1_re = sd1_re.where(sd1_re < 50)\n",
    "sd2_re = sd2.rio.reproject_match(coarse)\n",
    "sd2_re = sd2_re.where(sd2_re < 50)\n",
    "sd1_re= sd1_re.assign_coords(band=['feb1'])\n",
    "sd2_re= sd2_re.assign_coords(band=['feb13'])\n",
    "ds = ds.rio.set_crs(coarse.rio.crs)\n",
    "ds = ds.reset_coords()\n",
    "# ds = ds.drop('spatial_ref')\n",
    "ds['sd1'] = sd1_re\n",
    "ds['sd2'] = sd2_re\n",
    "trees = rxa.open_rasterio('/Users/zachkeskinen/Documents/uavsar/data/coherence_spatial_GM/gm_tree_cover.tif')\n",
    "trees = trees.rio.reproject_match(coarse)\n",
    "inc = rxa.open_rasterio('/Users/zachkeskinen/Documents/uavsar/data/coherence_spatial_GM/grmesa_27416_20005_007_200212_L090_CX_01.inc.tiff')\n",
    "inc = inc.rio.reproject_match(coarse)\n",
    "elev = rxa.open_rasterio('/Users/zachkeskinen/Documents/uavsar/data/coherence_spatial_GM/gm_dem.tiff')\n",
    "elev = elev.rio.reproject_match(coarse)\n",
    "roughness = rxa.open_rasterio('/Users/zachkeskinen/Documents/uavsar/data/coherence_spatial_GM/gm_roughness.tiff')\n",
    "roughness = roughness.where(roughness>0)\n",
    "roughness = roughness.rio.reproject_match(coarse)\n",
    "lc = rxa.open_rasterio('/Users/zachkeskinen/Documents/uavsar/data/coherence_spatial_GM/gm_landcover.tif')\n",
    "lc = lc.rio.reproject_match(coarse)\n",
    "water = lc.where(lc == 579)\n",
    "\n",
    "cor = ds.sel({'band':'grmesa_27416_20003-028_20005-007_0011d'})['cor_vv']"
   ]
  },
  {
   "cell_type": "code",
   "execution_count": 12,
   "metadata": {},
   "outputs": [
    {
     "data": {
      "text/html": [
       "<div><svg style=\"position: absolute; width: 0; height: 0; overflow: hidden\">\n",
       "<defs>\n",
       "<symbol id=\"icon-database\" viewBox=\"0 0 32 32\">\n",
       "<path d=\"M16 0c-8.837 0-16 2.239-16 5v4c0 2.761 7.163 5 16 5s16-2.239 16-5v-4c0-2.761-7.163-5-16-5z\"></path>\n",
       "<path d=\"M16 17c-8.837 0-16-2.239-16-5v6c0 2.761 7.163 5 16 5s16-2.239 16-5v-6c0 2.761-7.163 5-16 5z\"></path>\n",
       "<path d=\"M16 26c-8.837 0-16-2.239-16-5v6c0 2.761 7.163 5 16 5s16-2.239 16-5v-6c0 2.761-7.163 5-16 5z\"></path>\n",
       "</symbol>\n",
       "<symbol id=\"icon-file-text2\" viewBox=\"0 0 32 32\">\n",
       "<path d=\"M28.681 7.159c-0.694-0.947-1.662-2.053-2.724-3.116s-2.169-2.030-3.116-2.724c-1.612-1.182-2.393-1.319-2.841-1.319h-15.5c-1.378 0-2.5 1.121-2.5 2.5v27c0 1.378 1.122 2.5 2.5 2.5h23c1.378 0 2.5-1.122 2.5-2.5v-19.5c0-0.448-0.137-1.23-1.319-2.841zM24.543 5.457c0.959 0.959 1.712 1.825 2.268 2.543h-4.811v-4.811c0.718 0.556 1.584 1.309 2.543 2.268zM28 29.5c0 0.271-0.229 0.5-0.5 0.5h-23c-0.271 0-0.5-0.229-0.5-0.5v-27c0-0.271 0.229-0.5 0.5-0.5 0 0 15.499-0 15.5 0v7c0 0.552 0.448 1 1 1h7v19.5z\"></path>\n",
       "<path d=\"M23 26h-14c-0.552 0-1-0.448-1-1s0.448-1 1-1h14c0.552 0 1 0.448 1 1s-0.448 1-1 1z\"></path>\n",
       "<path d=\"M23 22h-14c-0.552 0-1-0.448-1-1s0.448-1 1-1h14c0.552 0 1 0.448 1 1s-0.448 1-1 1z\"></path>\n",
       "<path d=\"M23 18h-14c-0.552 0-1-0.448-1-1s0.448-1 1-1h14c0.552 0 1 0.448 1 1s-0.448 1-1 1z\"></path>\n",
       "</symbol>\n",
       "</defs>\n",
       "</svg>\n",
       "<style>/* CSS stylesheet for displaying xarray objects in jupyterlab.\n",
       " *\n",
       " */\n",
       "\n",
       ":root {\n",
       "  --xr-font-color0: var(--jp-content-font-color0, rgba(0, 0, 0, 1));\n",
       "  --xr-font-color2: var(--jp-content-font-color2, rgba(0, 0, 0, 0.54));\n",
       "  --xr-font-color3: var(--jp-content-font-color3, rgba(0, 0, 0, 0.38));\n",
       "  --xr-border-color: var(--jp-border-color2, #e0e0e0);\n",
       "  --xr-disabled-color: var(--jp-layout-color3, #bdbdbd);\n",
       "  --xr-background-color: var(--jp-layout-color0, white);\n",
       "  --xr-background-color-row-even: var(--jp-layout-color1, white);\n",
       "  --xr-background-color-row-odd: var(--jp-layout-color2, #eeeeee);\n",
       "}\n",
       "\n",
       "html[theme=dark],\n",
       "body.vscode-dark {\n",
       "  --xr-font-color0: rgba(255, 255, 255, 1);\n",
       "  --xr-font-color2: rgba(255, 255, 255, 0.54);\n",
       "  --xr-font-color3: rgba(255, 255, 255, 0.38);\n",
       "  --xr-border-color: #1F1F1F;\n",
       "  --xr-disabled-color: #515151;\n",
       "  --xr-background-color: #111111;\n",
       "  --xr-background-color-row-even: #111111;\n",
       "  --xr-background-color-row-odd: #313131;\n",
       "}\n",
       "\n",
       ".xr-wrap {\n",
       "  display: block !important;\n",
       "  min-width: 300px;\n",
       "  max-width: 700px;\n",
       "}\n",
       "\n",
       ".xr-text-repr-fallback {\n",
       "  /* fallback to plain text repr when CSS is not injected (untrusted notebook) */\n",
       "  display: none;\n",
       "}\n",
       "\n",
       ".xr-header {\n",
       "  padding-top: 6px;\n",
       "  padding-bottom: 6px;\n",
       "  margin-bottom: 4px;\n",
       "  border-bottom: solid 1px var(--xr-border-color);\n",
       "}\n",
       "\n",
       ".xr-header > div,\n",
       ".xr-header > ul {\n",
       "  display: inline;\n",
       "  margin-top: 0;\n",
       "  margin-bottom: 0;\n",
       "}\n",
       "\n",
       ".xr-obj-type,\n",
       ".xr-array-name {\n",
       "  margin-left: 2px;\n",
       "  margin-right: 10px;\n",
       "}\n",
       "\n",
       ".xr-obj-type {\n",
       "  color: var(--xr-font-color2);\n",
       "}\n",
       "\n",
       ".xr-sections {\n",
       "  padding-left: 0 !important;\n",
       "  display: grid;\n",
       "  grid-template-columns: 150px auto auto 1fr 20px 20px;\n",
       "}\n",
       "\n",
       ".xr-section-item {\n",
       "  display: contents;\n",
       "}\n",
       "\n",
       ".xr-section-item input {\n",
       "  display: none;\n",
       "}\n",
       "\n",
       ".xr-section-item input + label {\n",
       "  color: var(--xr-disabled-color);\n",
       "}\n",
       "\n",
       ".xr-section-item input:enabled + label {\n",
       "  cursor: pointer;\n",
       "  color: var(--xr-font-color2);\n",
       "}\n",
       "\n",
       ".xr-section-item input:enabled + label:hover {\n",
       "  color: var(--xr-font-color0);\n",
       "}\n",
       "\n",
       ".xr-section-summary {\n",
       "  grid-column: 1;\n",
       "  color: var(--xr-font-color2);\n",
       "  font-weight: 500;\n",
       "}\n",
       "\n",
       ".xr-section-summary > span {\n",
       "  display: inline-block;\n",
       "  padding-left: 0.5em;\n",
       "}\n",
       "\n",
       ".xr-section-summary-in:disabled + label {\n",
       "  color: var(--xr-font-color2);\n",
       "}\n",
       "\n",
       ".xr-section-summary-in + label:before {\n",
       "  display: inline-block;\n",
       "  content: '►';\n",
       "  font-size: 11px;\n",
       "  width: 15px;\n",
       "  text-align: center;\n",
       "}\n",
       "\n",
       ".xr-section-summary-in:disabled + label:before {\n",
       "  color: var(--xr-disabled-color);\n",
       "}\n",
       "\n",
       ".xr-section-summary-in:checked + label:before {\n",
       "  content: '▼';\n",
       "}\n",
       "\n",
       ".xr-section-summary-in:checked + label > span {\n",
       "  display: none;\n",
       "}\n",
       "\n",
       ".xr-section-summary,\n",
       ".xr-section-inline-details {\n",
       "  padding-top: 4px;\n",
       "  padding-bottom: 4px;\n",
       "}\n",
       "\n",
       ".xr-section-inline-details {\n",
       "  grid-column: 2 / -1;\n",
       "}\n",
       "\n",
       ".xr-section-details {\n",
       "  display: none;\n",
       "  grid-column: 1 / -1;\n",
       "  margin-bottom: 5px;\n",
       "}\n",
       "\n",
       ".xr-section-summary-in:checked ~ .xr-section-details {\n",
       "  display: contents;\n",
       "}\n",
       "\n",
       ".xr-array-wrap {\n",
       "  grid-column: 1 / -1;\n",
       "  display: grid;\n",
       "  grid-template-columns: 20px auto;\n",
       "}\n",
       "\n",
       ".xr-array-wrap > label {\n",
       "  grid-column: 1;\n",
       "  vertical-align: top;\n",
       "}\n",
       "\n",
       ".xr-preview {\n",
       "  color: var(--xr-font-color3);\n",
       "}\n",
       "\n",
       ".xr-array-preview,\n",
       ".xr-array-data {\n",
       "  padding: 0 5px !important;\n",
       "  grid-column: 2;\n",
       "}\n",
       "\n",
       ".xr-array-data,\n",
       ".xr-array-in:checked ~ .xr-array-preview {\n",
       "  display: none;\n",
       "}\n",
       "\n",
       ".xr-array-in:checked ~ .xr-array-data,\n",
       ".xr-array-preview {\n",
       "  display: inline-block;\n",
       "}\n",
       "\n",
       ".xr-dim-list {\n",
       "  display: inline-block !important;\n",
       "  list-style: none;\n",
       "  padding: 0 !important;\n",
       "  margin: 0;\n",
       "}\n",
       "\n",
       ".xr-dim-list li {\n",
       "  display: inline-block;\n",
       "  padding: 0;\n",
       "  margin: 0;\n",
       "}\n",
       "\n",
       ".xr-dim-list:before {\n",
       "  content: '(';\n",
       "}\n",
       "\n",
       ".xr-dim-list:after {\n",
       "  content: ')';\n",
       "}\n",
       "\n",
       ".xr-dim-list li:not(:last-child):after {\n",
       "  content: ',';\n",
       "  padding-right: 5px;\n",
       "}\n",
       "\n",
       ".xr-has-index {\n",
       "  font-weight: bold;\n",
       "}\n",
       "\n",
       ".xr-var-list,\n",
       ".xr-var-item {\n",
       "  display: contents;\n",
       "}\n",
       "\n",
       ".xr-var-item > div,\n",
       ".xr-var-item label,\n",
       ".xr-var-item > .xr-var-name span {\n",
       "  background-color: var(--xr-background-color-row-even);\n",
       "  margin-bottom: 0;\n",
       "}\n",
       "\n",
       ".xr-var-item > .xr-var-name:hover span {\n",
       "  padding-right: 5px;\n",
       "}\n",
       "\n",
       ".xr-var-list > li:nth-child(odd) > div,\n",
       ".xr-var-list > li:nth-child(odd) > label,\n",
       ".xr-var-list > li:nth-child(odd) > .xr-var-name span {\n",
       "  background-color: var(--xr-background-color-row-odd);\n",
       "}\n",
       "\n",
       ".xr-var-name {\n",
       "  grid-column: 1;\n",
       "}\n",
       "\n",
       ".xr-var-dims {\n",
       "  grid-column: 2;\n",
       "}\n",
       "\n",
       ".xr-var-dtype {\n",
       "  grid-column: 3;\n",
       "  text-align: right;\n",
       "  color: var(--xr-font-color2);\n",
       "}\n",
       "\n",
       ".xr-var-preview {\n",
       "  grid-column: 4;\n",
       "}\n",
       "\n",
       ".xr-var-name,\n",
       ".xr-var-dims,\n",
       ".xr-var-dtype,\n",
       ".xr-preview,\n",
       ".xr-attrs dt {\n",
       "  white-space: nowrap;\n",
       "  overflow: hidden;\n",
       "  text-overflow: ellipsis;\n",
       "  padding-right: 10px;\n",
       "}\n",
       "\n",
       ".xr-var-name:hover,\n",
       ".xr-var-dims:hover,\n",
       ".xr-var-dtype:hover,\n",
       ".xr-attrs dt:hover {\n",
       "  overflow: visible;\n",
       "  width: auto;\n",
       "  z-index: 1;\n",
       "}\n",
       "\n",
       ".xr-var-attrs,\n",
       ".xr-var-data {\n",
       "  display: none;\n",
       "  background-color: var(--xr-background-color) !important;\n",
       "  padding-bottom: 5px !important;\n",
       "}\n",
       "\n",
       ".xr-var-attrs-in:checked ~ .xr-var-attrs,\n",
       ".xr-var-data-in:checked ~ .xr-var-data {\n",
       "  display: block;\n",
       "}\n",
       "\n",
       ".xr-var-data > table {\n",
       "  float: right;\n",
       "}\n",
       "\n",
       ".xr-var-name span,\n",
       ".xr-var-data,\n",
       ".xr-attrs {\n",
       "  padding-left: 25px !important;\n",
       "}\n",
       "\n",
       ".xr-attrs,\n",
       ".xr-var-attrs,\n",
       ".xr-var-data {\n",
       "  grid-column: 1 / -1;\n",
       "}\n",
       "\n",
       "dl.xr-attrs {\n",
       "  padding: 0;\n",
       "  margin: 0;\n",
       "  display: grid;\n",
       "  grid-template-columns: 125px auto;\n",
       "}\n",
       "\n",
       ".xr-attrs dt,\n",
       ".xr-attrs dd {\n",
       "  padding: 0;\n",
       "  margin: 0;\n",
       "  float: left;\n",
       "  padding-right: 10px;\n",
       "  width: auto;\n",
       "}\n",
       "\n",
       ".xr-attrs dt {\n",
       "  font-weight: normal;\n",
       "  grid-column: 1;\n",
       "}\n",
       "\n",
       ".xr-attrs dt:hover span {\n",
       "  display: inline-block;\n",
       "  background: var(--xr-background-color);\n",
       "  padding-right: 10px;\n",
       "}\n",
       "\n",
       ".xr-attrs dd {\n",
       "  grid-column: 2;\n",
       "  white-space: pre-wrap;\n",
       "  word-break: break-all;\n",
       "}\n",
       "\n",
       ".xr-icon-database,\n",
       ".xr-icon-file-text2 {\n",
       "  display: inline-block;\n",
       "  vertical-align: middle;\n",
       "  width: 1em;\n",
       "  height: 1.5em !important;\n",
       "  stroke-width: 0;\n",
       "  stroke: currentColor;\n",
       "  fill: currentColor;\n",
       "}\n",
       "</style><pre class='xr-text-repr-fallback'>&lt;xarray.DataArray &#x27;cor_vv&#x27; (y: 1242, x: 1825)&gt;\n",
       "array([[nan, nan, nan, ..., nan, nan, nan],\n",
       "       [nan, nan, nan, ..., nan, nan, nan],\n",
       "       [nan, nan, nan, ..., nan, nan, nan],\n",
       "       ...,\n",
       "       [nan, nan, nan, ..., nan, nan, nan],\n",
       "       [nan, nan, nan, ..., nan, nan, nan],\n",
       "       [nan, nan, nan, ..., nan, nan, nan]])\n",
       "Coordinates:\n",
       "    band         &lt;U38 &#x27;grmesa_27416_20003-028_20005-007_0011d&#x27;\n",
       "  * y            (y) float64 39.19 39.19 39.19 39.19 ... 38.93 38.93 38.93 38.93\n",
       "  * x            (x) float64 -108.3 -108.3 -108.3 ... -107.9 -107.9 -107.9\n",
       "    spatial_ref  int64 0</pre><div class='xr-wrap' style='display:none'><div class='xr-header'><div class='xr-obj-type'>xarray.DataArray</div><div class='xr-array-name'>'cor_vv'</div><ul class='xr-dim-list'><li><span class='xr-has-index'>y</span>: 1242</li><li><span class='xr-has-index'>x</span>: 1825</li></ul></div><ul class='xr-sections'><li class='xr-section-item'><div class='xr-array-wrap'><input id='section-c73a408b-a2b7-4e2e-841b-6be45a2387c4' class='xr-array-in' type='checkbox' checked><label for='section-c73a408b-a2b7-4e2e-841b-6be45a2387c4' title='Show/hide data repr'><svg class='icon xr-icon-database'><use xlink:href='#icon-database'></use></svg></label><div class='xr-array-preview xr-preview'><span>nan nan nan nan nan nan nan nan ... nan nan nan nan nan nan nan nan</span></div><div class='xr-array-data'><pre>array([[nan, nan, nan, ..., nan, nan, nan],\n",
       "       [nan, nan, nan, ..., nan, nan, nan],\n",
       "       [nan, nan, nan, ..., nan, nan, nan],\n",
       "       ...,\n",
       "       [nan, nan, nan, ..., nan, nan, nan],\n",
       "       [nan, nan, nan, ..., nan, nan, nan],\n",
       "       [nan, nan, nan, ..., nan, nan, nan]])</pre></div></div></li><li class='xr-section-item'><input id='section-ad7ea363-d86c-403f-b400-39268ee5ecbd' class='xr-section-summary-in' type='checkbox'  checked><label for='section-ad7ea363-d86c-403f-b400-39268ee5ecbd' class='xr-section-summary' >Coordinates: <span>(4)</span></label><div class='xr-section-inline-details'></div><div class='xr-section-details'><ul class='xr-var-list'><li class='xr-var-item'><div class='xr-var-name'><span>band</span></div><div class='xr-var-dims'>()</div><div class='xr-var-dtype'>&lt;U38</div><div class='xr-var-preview xr-preview'>&#x27;grmesa_27416_20003-028_20005-00...</div><input id='attrs-891486d9-e29c-487d-b9bd-42ff9dc9361e' class='xr-var-attrs-in' type='checkbox' disabled><label for='attrs-891486d9-e29c-487d-b9bd-42ff9dc9361e' title='Show/Hide attributes'><svg class='icon xr-icon-file-text2'><use xlink:href='#icon-file-text2'></use></svg></label><input id='data-e590a78e-f112-44b6-9006-899310b55524' class='xr-var-data-in' type='checkbox'><label for='data-e590a78e-f112-44b6-9006-899310b55524' title='Show/Hide data repr'><svg class='icon xr-icon-database'><use xlink:href='#icon-database'></use></svg></label><div class='xr-var-attrs'><dl class='xr-attrs'></dl></div><div class='xr-var-data'><pre>array(&#x27;grmesa_27416_20003-028_20005-007_0011d&#x27;, dtype=&#x27;&lt;U38&#x27;)</pre></div></li><li class='xr-var-item'><div class='xr-var-name'><span class='xr-has-index'>y</span></div><div class='xr-var-dims'>(y)</div><div class='xr-var-dtype'>float64</div><div class='xr-var-preview xr-preview'>39.19 39.19 39.19 ... 38.93 38.93</div><input id='attrs-4accfd9e-d308-4cef-a656-a9fc766bc4f4' class='xr-var-attrs-in' type='checkbox' ><label for='attrs-4accfd9e-d308-4cef-a656-a9fc766bc4f4' title='Show/Hide attributes'><svg class='icon xr-icon-file-text2'><use xlink:href='#icon-file-text2'></use></svg></label><input id='data-41a095eb-695b-4b80-8247-f6cc1a0eff45' class='xr-var-data-in' type='checkbox'><label for='data-41a095eb-695b-4b80-8247-f6cc1a0eff45' title='Show/Hide data repr'><svg class='icon xr-icon-database'><use xlink:href='#icon-database'></use></svg></label><div class='xr-var-attrs'><dl class='xr-attrs'><dt><span>axis :</span></dt><dd>Y</dd><dt><span>long_name :</span></dt><dd>latitude</dd><dt><span>standard_name :</span></dt><dd>latitude</dd><dt><span>units :</span></dt><dd>degrees_north</dd></dl></div><div class='xr-var-data'><pre>array([39.190028, 39.189815, 39.189602, ..., 38.925758, 38.925545, 38.925332])</pre></div></li><li class='xr-var-item'><div class='xr-var-name'><span class='xr-has-index'>x</span></div><div class='xr-var-dims'>(x)</div><div class='xr-var-dtype'>float64</div><div class='xr-var-preview xr-preview'>-108.3 -108.3 ... -107.9 -107.9</div><input id='attrs-b00fa0f9-37b4-4e6a-a508-f88b61ac25af' class='xr-var-attrs-in' type='checkbox' ><label for='attrs-b00fa0f9-37b4-4e6a-a508-f88b61ac25af' title='Show/Hide attributes'><svg class='icon xr-icon-file-text2'><use xlink:href='#icon-file-text2'></use></svg></label><input id='data-16fce63e-fafc-43e3-9a30-c63b87ea5363' class='xr-var-data-in' type='checkbox'><label for='data-16fce63e-fafc-43e3-9a30-c63b87ea5363' title='Show/Hide data repr'><svg class='icon xr-icon-database'><use xlink:href='#icon-database'></use></svg></label><div class='xr-var-attrs'><dl class='xr-attrs'><dt><span>axis :</span></dt><dd>X</dd><dt><span>long_name :</span></dt><dd>longitude</dd><dt><span>standard_name :</span></dt><dd>longitude</dd><dt><span>units :</span></dt><dd>degrees_east</dd></dl></div><div class='xr-var-data'><pre>array([-108.300334, -108.300121, -108.299908, ..., -107.911776, -107.911563,\n",
       "       -107.91135 ])</pre></div></li><li class='xr-var-item'><div class='xr-var-name'><span>spatial_ref</span></div><div class='xr-var-dims'>()</div><div class='xr-var-dtype'>int64</div><div class='xr-var-preview xr-preview'>0</div><input id='attrs-8a5c44aa-8eb8-482d-900c-083fa3959550' class='xr-var-attrs-in' type='checkbox' ><label for='attrs-8a5c44aa-8eb8-482d-900c-083fa3959550' title='Show/Hide attributes'><svg class='icon xr-icon-file-text2'><use xlink:href='#icon-file-text2'></use></svg></label><input id='data-94dc75d4-da98-4653-8103-5d6f300897ce' class='xr-var-data-in' type='checkbox'><label for='data-94dc75d4-da98-4653-8103-5d6f300897ce' title='Show/Hide data repr'><svg class='icon xr-icon-database'><use xlink:href='#icon-database'></use></svg></label><div class='xr-var-attrs'><dl class='xr-attrs'><dt><span>crs_wkt :</span></dt><dd>GEOGCS[&quot;WGS 84&quot;,DATUM[&quot;WGS_1984&quot;,SPHEROID[&quot;WGS 84&quot;,6378137,298.257223563,AUTHORITY[&quot;EPSG&quot;,&quot;7030&quot;]],AUTHORITY[&quot;EPSG&quot;,&quot;6326&quot;]],PRIMEM[&quot;Greenwich&quot;,0,AUTHORITY[&quot;EPSG&quot;,&quot;8901&quot;]],UNIT[&quot;degree&quot;,0.0174532925199433,AUTHORITY[&quot;EPSG&quot;,&quot;9122&quot;]],AXIS[&quot;Latitude&quot;,NORTH],AXIS[&quot;Longitude&quot;,EAST],AUTHORITY[&quot;EPSG&quot;,&quot;4326&quot;]]</dd><dt><span>semi_major_axis :</span></dt><dd>6378137.0</dd><dt><span>semi_minor_axis :</span></dt><dd>6356752.314245179</dd><dt><span>inverse_flattening :</span></dt><dd>298.257223563</dd><dt><span>reference_ellipsoid_name :</span></dt><dd>WGS 84</dd><dt><span>longitude_of_prime_meridian :</span></dt><dd>0.0</dd><dt><span>prime_meridian_name :</span></dt><dd>Greenwich</dd><dt><span>geographic_crs_name :</span></dt><dd>WGS 84</dd><dt><span>grid_mapping_name :</span></dt><dd>latitude_longitude</dd><dt><span>spatial_ref :</span></dt><dd>GEOGCS[&quot;WGS 84&quot;,DATUM[&quot;WGS_1984&quot;,SPHEROID[&quot;WGS 84&quot;,6378137,298.257223563,AUTHORITY[&quot;EPSG&quot;,&quot;7030&quot;]],AUTHORITY[&quot;EPSG&quot;,&quot;6326&quot;]],PRIMEM[&quot;Greenwich&quot;,0,AUTHORITY[&quot;EPSG&quot;,&quot;8901&quot;]],UNIT[&quot;degree&quot;,0.0174532925199433,AUTHORITY[&quot;EPSG&quot;,&quot;9122&quot;]],AXIS[&quot;Latitude&quot;,NORTH],AXIS[&quot;Longitude&quot;,EAST],AUTHORITY[&quot;EPSG&quot;,&quot;4326&quot;]]</dd><dt><span>GeoTransform :</span></dt><dd>-108.30044112 0.00021325906849314853 0.0 39.19013496 0.0 -0.00021329314009661612</dd></dl></div><div class='xr-var-data'><pre>array(0)</pre></div></li></ul></div></li><li class='xr-section-item'><input id='section-abf83def-d6a8-4fac-86ed-e3e4fc605654' class='xr-section-summary-in' type='checkbox' disabled ><label for='section-abf83def-d6a8-4fac-86ed-e3e4fc605654' class='xr-section-summary'  title='Expand/collapse section'>Attributes: <span>(0)</span></label><div class='xr-section-inline-details'></div><div class='xr-section-details'><dl class='xr-attrs'></dl></div></li></ul></div></div>"
      ],
      "text/plain": [
       "<xarray.DataArray 'cor_vv' (y: 1242, x: 1825)>\n",
       "array([[nan, nan, nan, ..., nan, nan, nan],\n",
       "       [nan, nan, nan, ..., nan, nan, nan],\n",
       "       [nan, nan, nan, ..., nan, nan, nan],\n",
       "       ...,\n",
       "       [nan, nan, nan, ..., nan, nan, nan],\n",
       "       [nan, nan, nan, ..., nan, nan, nan],\n",
       "       [nan, nan, nan, ..., nan, nan, nan]])\n",
       "Coordinates:\n",
       "    band         <U38 'grmesa_27416_20003-028_20005-007_0011d'\n",
       "  * y            (y) float64 39.19 39.19 39.19 39.19 ... 38.93 38.93 38.93 38.93\n",
       "  * x            (x) float64 -108.3 -108.3 -108.3 ... -107.9 -107.9 -107.9\n",
       "    spatial_ref  int64 0"
      ]
     },
     "execution_count": 12,
     "metadata": {},
     "output_type": "execute_result"
    }
   ],
   "source": [
    "cor"
   ]
  },
  {
   "cell_type": "code",
   "execution_count": 7,
   "metadata": {},
   "outputs": [
    {
     "name": "stdout",
     "output_type": "stream",
     "text": [
      "MannwhitneyuResult(statistic=254607559772.5, pvalue=0.0)\n"
     ]
    },
    {
     "data": {
      "image/png": "[encoded data removed]",
      "text/plain": [
       "<Figure size 432x288 with 1 Axes>"
      ]
     },
     "metadata": {
      "needs_background": "light"
     },
     "output_type": "display_data"
    }
   ],
   "source": [
    "a = cor.where(trees== 0).values.ravel()\n",
    "b = cor.where(trees== 1).values.ravel()\n",
    "a = a[~np.isnan(a)]\n",
    "b = b[~np.isnan(b)]\n",
    "print(mannwhitneyu(a, b))\n",
    "data = [cor.values[trees.values[0] == 0], cor.values[trees[0].values == 1]]\n",
    "data = [d[~np.isnan(d)] for d in data]\n",
    "plt.boxplot(data, notch = True)\n",
    "plt.xticks(labels = ['No Trees', 'Trees'], ticks = [1,2])\n",
    "plt.title('Trees Coverage Control on Coherence')\n",
    "plt.show()"
   ]
  },
  {
   "cell_type": "code",
   "execution_count": 8,
   "metadata": {},
   "outputs": [
    {
     "name": "stdout",
     "output_type": "stream",
     "text": [
      "slope: -0.20005517169682255. intercept: 0.8281805039714925. r_value -0.29051141362733596. p value: 0.0\n"
     ]
    },
    {
     "data": {
      "image/png": "[encoded data removed]",
      "text/plain": [
       "<Figure size 432x288 with 1 Axes>"
      ]
     },
     "metadata": {
      "needs_background": "light"
     },
     "output_type": "display_data"
    }
   ],
   "source": [
    "r2_value(inc, cor)\n",
    "data = [cor.values[inc.values[0] < np.deg2rad(10)] ,cor.values[(inc.values[0] < np.deg2rad(80)) & (inc.values[0] > np.deg2rad(10))], cor.values[inc[0].values > np.deg2rad(80)]]\n",
    "data = [d[~np.isnan(d)] for d in data]\n",
    "plt.boxplot(data, notch = True)\n",
    "plt.xticks(labels = ['Incidence Below 10','10-80 degrees', 'Incidence Above 75'], ticks = [1,2,3])\n",
    "plt.title('Incidence Angle Control on Coherence')\n",
    "plt.show()"
   ]
  },
  {
   "cell_type": "code",
   "execution_count": 9,
   "metadata": {},
   "outputs": [
    {
     "name": "stdout",
     "output_type": "stream",
     "text": [
      "MannwhitneyuResult(statistic=5110218558.0, pvalue=0.0)\n"
     ]
    },
    {
     "data": {
      "image/png": "[encoded data removed]",
      "text/plain": [
       "<Figure size 432x288 with 1 Axes>"
      ]
     },
     "metadata": {
      "needs_background": "light"
     },
     "output_type": "display_data"
    }
   ],
   "source": [
    "a = cor.where(water== water.mean().values).values.ravel()\n",
    "b = cor.where(water!= water.mean().values).values.ravel()\n",
    "a = a[~np.isnan(a)]\n",
    "b = b[~np.isnan(b)]\n",
    "print(mannwhitneyu(a, b))\n",
    "data = [cor.values[water.values[0] == water.mean().values], cor.values[water[0].values != water.mean().values]]\n",
    "data = [d[~np.isnan(d)] for d in data]\n",
    "plt.boxplot(data, notch = True)\n",
    "plt.xticks(labels = ['Water','Not Water'], ticks = [1,2])\n",
    "plt.title('Water Control on Coherence')\n",
    "plt.show()"
   ]
  },
  {
   "cell_type": "code",
   "execution_count": 10,
   "metadata": {},
   "outputs": [
    {
     "name": "stdout",
     "output_type": "stream",
     "text": [
      "slope: -0.0002252604739263934. intercept: 0.6452190276440202. r_value -0.012861383317108916. p value: 5.940730422843055e-54\n"
     ]
    },
    {
     "data": {
      "image/png": "[encoded data removed]",
      "text/plain": [
       "<Figure size 432x288 with 1 Axes>"
      ]
     },
     "metadata": {
      "needs_background": "light"
     },
     "output_type": "display_data"
    }
   ],
   "source": [
    "r2_value(roughness, cor)\n",
    "data = [cor.values[roughness.values[0] < np.nanpercentile(roughness, 20)], cor.values[roughness[0].values > np.nanpercentile(roughness, 80)]]\n",
    "data = [d[~np.isnan(d)] for d in data]\n",
    "plt.boxplot(data, notch = True)\n",
    "plt.xticks(labels = ['<20th Percentile Roughness','80th+ Percentile Roughness'], ticks = [1,2])\n",
    "plt.title('Roughness Control on Coherence')\n",
    "plt.show()"
   ]
  },
  {
   "cell_type": "code",
   "execution_count": 11,
   "metadata": {},
   "outputs": [
    {
     "name": "stdout",
     "output_type": "stream",
     "text": [
      "slope: -0.02532966106437589. intercept: 0.5605511565053458. r_value -0.049189749120167624. p value: 4.642897644973991e-158\n"
     ]
    },
    {
     "data": {
      "image/png": "[encoded data removed]",
      "text/plain": [
       "<Figure size 432x288 with 1 Axes>"
      ]
     },
     "metadata": {
      "needs_background": "light"
     },
     "output_type": "display_data"
    }
   ],
   "source": [
    "r2_value(sd1_re, cor)\n",
    "data = [cor.values[sd1_re.values[0] < 1], cor.values[sd1_re[0].values > 3]]\n",
    "data = [d[~np.isnan(d)] for d in data]\n",
    "plt.boxplot(data, notch = True)\n",
    "plt.xticks(labels = ['Less than 1 meter', 'Greater than 3 meters'], ticks = [1,2])\n",
    "plt.title('Snow Depth on Coherence')\n",
    "plt.show()"
   ]
  },
  {
   "cell_type": "code",
   "execution_count": null,
   "metadata": {},
   "outputs": [],
   "source": [
    "r2_value(sd1_re, cor)\n",
    "data = [cor.values[sd1_re.values[0] < 1], cor.values[sd1_re[0].values > 3]]\n",
    "data = [d[~np.isnan(d)] for d in data]\n",
    "plt.boxplot(data, notch = True)\n",
    "plt.xticks(labels = ['Less than 1 meter', 'Greater than 3 meters'], ticks = [1,2])\n",
    "plt.title('Snow Depth on Coherence')\n",
    "plt.show()"
   ]
  },
  {
   "cell_type": "code",
   "execution_count": null,
   "metadata": {},
   "outputs": [],
   "source": [
    "control = (trees[0].values != 0) & (inc[0].values > np.deg2rad(30)) & (inc[0].values < np.deg2rad(50)) & (roughness[0].values > np.nanpercentile(roughness[0].values, 50)) & (water[0].values != water.mean().values)"
   ]
  },
  {
   "cell_type": "code",
   "execution_count": null,
   "metadata": {},
   "outputs": [],
   "source": [
    "cor_bare_low = cor.values[control]\n",
    "sd_bare_low = sd1_re[0].values[control]\n",
    "r2_value(sd_bare_low, cor_bare_low)\n",
    "data = [cor_bare_low[(sd_bare_low < 1) & (sd_bare_low > 0)], cor_bare_low[sd_bare_low > 2]]\n",
    "data = [d[~np.isnan(d)] for d in data]\n",
    "plt.boxplot(data, notch = True)\n",
    "plt.xticks(labels = ['Less than 1 meter', 'Greater than 2 meters'], ticks = [1,2])\n",
    "plt.title('Snow Depth on Coherence - controlled for tree cover, water, roughness and incidence angle')\n",
    "plt.show()"
   ]
  },
  {
   "cell_type": "code",
   "execution_count": null,
   "metadata": {},
   "outputs": [],
   "source": [
    "elev_bare_low = elev[0].values[control]\n",
    "r2_value(elev_bare_low, cor_bare_low)\n",
    "data = [cor_bare_low[elev_bare_low < np.mean(elev_bare_low)], cor_bare_low[elev_bare_low > np.mean(elev_bare_low)]]\n",
    "data = [d[~np.isnan(d)] for d in data]\n",
    "plt.boxplot(data, notch = True)\n",
    "plt.xticks(labels = ['Below mean elevation', 'Above mean elevation'], ticks = [1,2])\n",
    "plt.title('Elevation on Coherence - controlled for tree cover, water, roughness and incidence angle')\n",
    "plt.show()"
   ]
  },
  {
   "cell_type": "code",
   "execution_count": null,
   "metadata": {},
   "outputs": [],
   "source": [
    "# r2_value(elev_bare_low, sd_bare_low)\n",
    "# data = [sd_bare_low[elev_bare_low < np.mean(elev_bare_low)], sd_bare_low[elev_bare_low > np.mean(elev_bare_low)]]\n",
    "# data = [d[~np.isnan(d)] for d in data]\n",
    "# plt.boxplot(data, notch = True)\n",
    "# plt.xticks(labels = ['Below mean elevation', 'Above mean elevation'], ticks = [1,2])\n",
    "# plt.ylim(0, 3)\n",
    "#plt.title('Elevation on Snow Depth - controlled for tree cover and incidence angle')\n",
    "# plt.show()"
   ]
  },
  {
   "cell_type": "markdown",
   "metadata": {},
   "source": [
    "## Lowman"
   ]
  },
  {
   "cell_type": "code",
   "execution_count": null,
   "metadata": {},
   "outputs": [],
   "source": [
    "ds = xa.open_dataset('/Users/zachkeskinen/Documents/uavsar/data/coherence_spatial_lowman/cor_vv.nc')"
   ]
  },
  {
   "cell_type": "code",
   "execution_count": null,
   "metadata": {},
   "outputs": [],
   "source": [
    "import pickle\n",
    "with open('/Users/zachkeskinen/Documents/uavsar/data/coherence_spatial_lowman/cor_coarse.pkl', 'rb') as f:\n",
    "    coarse = pickle.load(f)"
   ]
  },
  {
   "cell_type": "code",
   "execution_count": null,
   "metadata": {},
   "outputs": [],
   "source": [
    "cor = ds.sel({'band':'lowman_23205_21015-008_21017-018_0007d'})['cor_vv']"
   ]
  },
  {
   "cell_type": "code",
   "execution_count": null,
   "metadata": {},
   "outputs": [],
   "source": [
    "trees = rxa.open_rasterio('/Users/zachkeskinen/Documents/uavsar/data/coherence_spatial_lowman/veg_height.tiff')\n",
    "trees = trees.rio.reproject_match(coarse)\n",
    "\n",
    "dem = rxa.open_rasterio('/Users/zachkeskinen/Documents/uavsar/data/coherence_spatial_lowman/dem.tiff')\n",
    "dem = dem.rio.reproject_match(coarse)\n",
    "\n",
    "inc = rxa.open_rasterio('/Users/zachkeskinen/Documents/uavsar/data/coherence_spatial_lowman/lowman_23205_20002_007_200131_L090_CX_01.inc.tiff')\n",
    "inc = inc.rio.reproject_match(coarse)"
   ]
  }
 ],
 "metadata": {
  "kernelspec": {
   "display_name": "Python 3.9.13 ('proj')",
   "language": "python",
   "name": "python3"
  },
  "language_info": {
   "codemirror_mode": {
    "name": "ipython",
    "version": 3
   },
   "file_extension": ".py",
   "mimetype": "text/x-python",
   "name": "python",
   "nbconvert_exporter": "python",
   "pygments_lexer": "ipython3",
   "version": "3.9.13"
  },
  "orig_nbformat": 4,
  "vscode": {
   "interpreter": {
    "hash": "be18628f3b6aaaf0d9a50c1a0a68c0122e22b01f7b4495836f3dc0caac12767e"
   }
  }
 },
 "nbformat": 4,
 "nbformat_minor": 2
}
