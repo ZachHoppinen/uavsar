{
 "cells": [
  {
   "cell_type": "code",
   "execution_count": 2,
   "metadata": {},
   "outputs": [
    {
     "ename": "FileNotFoundError",
     "evalue": "[Errno 2] No such file or directory: '/Users/zachkeskinen/scratch/data/uavsar/image_fps'",
     "output_type": "error",
     "traceback": [
      "\u001b[0;31m---------------------------------------------------------------------------\u001b[0m",
      "\u001b[0;31mFileNotFoundError\u001b[0m                         Traceback (most recent call last)",
      "\u001b[1;32m/Users/zachkeskinen/Documents/uavsar/src/coherence/spatial_coherence/taus/all_taus_calc.ipynb Cell 1\u001b[0m in \u001b[0;36m<cell line: 14>\u001b[0;34m()\u001b[0m\n\u001b[1;32m     <a href='vscode-notebook-cell:/Users/zachkeskinen/Documents/uavsar/src/coherence/spatial_coherence/taus/all_taus_calc.ipynb#W0sZmlsZQ%3D%3D?line=10'>11</a>\u001b[0m \u001b[39mfrom\u001b[39;00m \u001b[39mscipy\u001b[39;00m\u001b[39m.\u001b[39;00m\u001b[39moptimize\u001b[39;00m \u001b[39mimport\u001b[39;00m curve_fit\n\u001b[1;32m     <a href='vscode-notebook-cell:/Users/zachkeskinen/Documents/uavsar/src/coherence/spatial_coherence/taus/all_taus_calc.ipynb#W0sZmlsZQ%3D%3D?line=11'>12</a>\u001b[0m \u001b[39mfrom\u001b[39;00m \u001b[39mrasterio\u001b[39;00m\u001b[39m.\u001b[39;00m\u001b[39menums\u001b[39;00m \u001b[39mimport\u001b[39;00m Resampling\n\u001b[0;32m---> <a href='vscode-notebook-cell:/Users/zachkeskinen/Documents/uavsar/src/coherence/spatial_coherence/taus/all_taus_calc.ipynb#W0sZmlsZQ%3D%3D?line=13'>14</a>\u001b[0m \u001b[39mwith\u001b[39;00m \u001b[39mopen\u001b[39;49m(expanduser(\u001b[39m'\u001b[39;49m\u001b[39m~/scratch/data/uavsar/image_fps\u001b[39;49m\u001b[39m'\u001b[39;49m), \u001b[39m'\u001b[39;49m\u001b[39mrb\u001b[39;49m\u001b[39m'\u001b[39;49m) \u001b[39mas\u001b[39;00m f:\n\u001b[1;32m     <a href='vscode-notebook-cell:/Users/zachkeskinen/Documents/uavsar/src/coherence/spatial_coherence/taus/all_taus_calc.ipynb#W0sZmlsZQ%3D%3D?line=14'>15</a>\u001b[0m     image_fps \u001b[39m=\u001b[39m pickle\u001b[39m.\u001b[39mload(f)\n\u001b[1;32m     <a href='vscode-notebook-cell:/Users/zachkeskinen/Documents/uavsar/src/coherence/spatial_coherence/taus/all_taus_calc.ipynb#W0sZmlsZQ%3D%3D?line=16'>17</a>\u001b[0m image_fps \u001b[39m=\u001b[39m [f \u001b[39mfor\u001b[39;00m f \u001b[39min\u001b[39;00m image_fps \u001b[39mif\u001b[39;00m f[\u001b[39m'\u001b[39m\u001b[39mfp\u001b[39m\u001b[39m'\u001b[39m]\u001b[39m.\u001b[39mendswith(\u001b[39m'\u001b[39m\u001b[39m.unw.grd.tiff\u001b[39m\u001b[39m'\u001b[39m)]\n",
      "\u001b[0;31mFileNotFoundError\u001b[0m: [Errno 2] No such file or directory: '/Users/zachkeskinen/scratch/data/uavsar/image_fps'"
     ]
    }
   ],
   "source": [
    "import os\n",
    "from os.path import join, exists, basename, dirname, expanduser\n",
    "from glob import glob\n",
    "import pickle\n",
    "import numpy as np\n",
    "import pandas as pd\n",
    "import matplotlib.pyplot as plt\n",
    "import xarray as xr\n",
    "import rioxarray as rxa\n",
    "import geopandas as gpd\n",
    "from scipy.optimize import curve_fit\n",
    "from rasterio.enums import Resampling\n",
    "\n",
    "with open(expanduser('~/scratch/data/uavsar/image_fps'), 'rb') as f:\n",
    "    image_fps = pickle.load(f)\n",
    "\n",
    "image_fps = [f for f in image_fps if f['fp'].endswith('.unw.grd.tiff')]\n",
    "netcdf_fps = '/bsuhome/zacharykeskinen/scratch/data/uavsar/images/vv_coherence'\n",
    "\n",
    "for fp in glob(join(netcdf_fps, '*')):\n",
    "    with open(fp, 'rb') as f:\n",
    "        cor_vv = pickle.load(f)"
   ]
  },
  {
   "cell_type": "code",
   "execution_count": 13,
   "metadata": {},
   "outputs": [],
   "source": [
    "def temp_model(T, tau):\n",
    "    return np.exp(-T/tau)\n",
    "\n",
    "def tau(cors, days):\n",
    "    if np.sum(np.isnan(cors)) == 0:\n",
    "        s = curve_fit(temp_model, days, cors, 5)[0][0]\n",
    "        return s\n",
    "    else:\n",
    "        return np.nan"
   ]
  },
  {
   "cell_type": "code",
   "execution_count": 3,
   "metadata": {},
   "outputs": [],
   "source": [
    "for fp in glob(join(netcdf_fps, '*')):\n",
    "    with open(fp, 'rb') as f:\n",
    "        cor_vv = pickle.load(f)"
   ]
  },
  {
   "cell_type": "code",
   "execution_count": 15,
   "metadata": {},
   "outputs": [
    {
     "data": {
      "text/plain": [
       "2"
      ]
     },
     "execution_count": 15,
     "metadata": {},
     "output_type": "execute_result"
    }
   ],
   "source": [
    "len(cor_vv.band.values)"
   ]
  },
  {
   "cell_type": "code",
   "execution_count": 3,
   "metadata": {},
   "outputs": [],
   "source": [
    "for fp in glob(join(netcdf_fps, '*')):\n",
    "    with open(fp, 'rb') as f:\n",
    "        cor_vv = pickle.load(f)\n",
    "    if len(cor_vv.band.values) > 2:\n",
    "        days = [int(d.split('_')[-1].replace('d','')) for d in cor_vv.band.values]\n",
    "        taus = np.apply_along_axis(arr = cor_vv['cor_vv'].values, func1d = tau, axis = 0, days = days)\n",
    "        da = cor_vv.isel({'band':0})['cor_vv']\n",
    "        da = da.drop('band')\n",
    "        da.values = taus\n",
    "        da.rio.to_raster(join('/bsuhome/zacharykeskinen/uavsar/results/taus', basename(fp).replace('.pkl','.tif')))"
   ]
  },
  {
   "cell_type": "code",
   "execution_count": 14,
   "metadata": {},
   "outputs": [],
   "source": [
    "with open(glob(join(netcdf_fps, '*'))[0], 'rb') as f:\n",
    "        cor_vv = pickle.load(f)"
   ]
  },
  {
   "cell_type": "code",
   "execution_count": null,
   "metadata": {},
   "outputs": [],
   "source": []
  }
 ],
 "metadata": {
  "kernelspec": {
   "display_name": "Python 3.9.12 ('uavsar')",
   "language": "python",
   "name": "python3"
  },
  "language_info": {
   "codemirror_mode": {
    "name": "ipython",
    "version": 3
   },
   "file_extension": ".py",
   "mimetype": "text/x-python",
   "name": "python",
   "nbconvert_exporter": "python",
   "pygments_lexer": "ipython3",
   "version": "3.9.12"
  },
  "orig_nbformat": 4,
  "vscode": {
   "interpreter": {
    "hash": "ba8967e065a58c806f1bdb735567067b52f77062b6ff6cacc1c3011561bd9c8e"
   }
  }
 },
 "nbformat": 4,
 "nbformat_minor": 2
}
