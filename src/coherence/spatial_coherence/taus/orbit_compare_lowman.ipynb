{
 "cells": [
  {
   "cell_type": "code",
   "execution_count": 1,
   "metadata": {},
   "outputs": [],
   "source": [
    "import os\n",
    "from os.path import join, exists, basename, dirname, expanduser\n",
    "from glob import glob\n",
    "import pickle\n",
    "import numpy as np\n",
    "import pandas as pd\n",
    "import matplotlib.pyplot as plt\n",
    "import xarray as xr\n",
    "import rioxarray as rxa\n",
    "import geopandas as gpd\n",
    "from scipy.optimize import curve_fit\n",
    "from rasterio.enums import Resampling\n",
    "\n",
    "with open(expanduser('~/scratch/data/uavsar/image_fps'), 'rb') as f:\n",
    "    image_fps = pickle.load(f)\n",
    "\n",
    "image_fps = [f for f in image_fps if f['fp'].endswith('.unw.grd.tiff')]\n",
    "netcdf_fps = '/bsuhome/zacharykeskinen/scratch/data/uavsar/images/vv_coherence'\n",
    "\n",
    "for fp in glob(join(netcdf_fps, '*')):\n",
    "    with open(fp, 'rb') as f:\n",
    "        cor_vv = pickle.load(f)"
   ]
  },
  {
   "cell_type": "code",
   "execution_count": 53,
   "metadata": {},
   "outputs": [],
   "source": [
    "from scipy.optimize import curve_fit\n",
    "\n",
    "def fit_coh_decay_model(cohs, days, tau_guess, bounds, xtol, ftol, gamma_inf_guess = 0.3):\n",
    "    # https://rowannicholls.github.io/python/curve_fitting/exponential.html\n",
    "\n",
    "    # Fit the function a * np.exp(b * t) + c to x and y\n",
    "    params, pcov = curve_fit(lambda t, gamma_inf, tau: gamma_inf + (1 - gamma_inf) * np.exp(- t / tau), x, y, p0=(gamma_inf_guess, tau_guess),\\\n",
    "        bounds = bounds, ftol = ftol, xtol = xtol)\n",
    "\n",
    "    gamma_inf, tau = params\n",
    "\n",
    "    return gamma_inf, tau, pcov"
   ]
  },
  {
   "cell_type": "code",
   "execution_count": 4,
   "metadata": {},
   "outputs": [],
   "source": [
    "for fp in glob(join(netcdf_fps, '*Lowman*')):\n",
    "    with open(fp, 'rb') as f:\n",
    "        cor_vv = pickle.load(f)"
   ]
  },
  {
   "cell_type": "code",
   "execution_count": 68,
   "metadata": {},
   "outputs": [
    {
     "ename": "",
     "evalue": "",
     "output_type": "error",
     "traceback": [
      "\u001b[1;31mCanceled future for execute_request message before replies were done"
     ]
    },
    {
     "ename": "",
     "evalue": "",
     "output_type": "error",
     "traceback": [
      "\u001b[1;31mThe Kernel crashed while executing code in the the current cell or a previous cell. Please review the code in the cell(s) to identify a possible cause of the failure. Click <a href='https://aka.ms/vscodeJupyterKernelCrash'>here</a> for more info. View Jupyter <a href='command:jupyter.viewOutput'>log</a> for further details."
     ]
    }
   ],
   "source": [
    "days = [int(d.split('_')[-1].replace('d','')) for d in cor_vv.band.values]\n",
    "taus = np.apply_along_axis(arr = cor_vv['cor_vv'].values, func1d = fit_coh_decay_model, axis = 0, days = days, tau_guess = 30,\\\n",
    "    bounds = ([0, 0], [1, 600]), ftol = 1, xtol = 1)"
   ]
  }
 ],
 "metadata": {
  "kernelspec": {
   "display_name": "proj",
   "language": "python",
   "name": "python3"
  },
  "language_info": {
   "codemirror_mode": {
    "name": "ipython",
    "version": 3
   },
   "file_extension": ".py",
   "mimetype": "text/x-python",
   "name": "python",
   "nbconvert_exporter": "python",
   "pygments_lexer": "ipython3",
   "version": "3.9.13"
  },
  "orig_nbformat": 4,
  "vscode": {
   "interpreter": {
    "hash": "be18628f3b6aaaf0d9a50c1a0a68c0122e22b01f7b4495836f3dc0caac12767e"
   }
  }
 },
 "nbformat": 4,
 "nbformat_minor": 2
}
