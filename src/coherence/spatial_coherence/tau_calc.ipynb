{
 "cells": [
  {
   "cell_type": "code",
   "execution_count": 93,
   "metadata": {},
   "outputs": [],
   "source": [
    "import os\n",
    "from os.path import join, exists, basename, dirname, expanduser\n",
    "from glob import glob\n",
    "import pickle\n",
    "import numpy as np\n",
    "import pandas as pd\n",
    "import matplotlib.pyplot as plt\n",
    "import xarray as xr\n",
    "import rioxarray as rxa\n",
    "import geopandas as gpd\n",
    "from scipy.optimize import curve_fit"
   ]
  },
  {
   "cell_type": "code",
   "execution_count": null,
   "metadata": {},
   "outputs": [],
   "source": [
    "import pickle\n",
    "# import os\n",
    "# with open(os.path.expanduser('~/Documents/taus.pkl'), 'wb') as f:\n",
    "#     pickle.dump(taus, f)"
   ]
  },
  {
   "cell_type": "code",
   "execution_count": 3,
   "metadata": {},
   "outputs": [],
   "source": [
    "ds = xr.open_dataset('/Users/zachkeskinen/Documents/uavsar/data/cor_vv.nc')"
   ]
  },
  {
   "cell_type": "code",
   "execution_count": 4,
   "metadata": {},
   "outputs": [],
   "source": [
    "def temp_model(T, tau):\n",
    "    return np.exp(-T/tau)"
   ]
  },
  {
   "cell_type": "code",
   "execution_count": 139,
   "metadata": {},
   "outputs": [],
   "source": [
    "def tau(cors, days):\n",
    "    if np.sum(np.isnan(cors)) == 0:\n",
    "        s = curve_fit(temp_model, days, cors, 5)[0][0]\n",
    "        return s\n",
    "    else:\n",
    "        return np.nan"
   ]
  },
  {
   "cell_type": "code",
   "execution_count": 133,
   "metadata": {},
   "outputs": [],
   "source": [
    "cors = ds['cor_vv'].values[:, 2001, 3000]"
   ]
  },
  {
   "cell_type": "code",
   "execution_count": 51,
   "metadata": {},
   "outputs": [],
   "source": [
    "days = np.array([int(d.split('_')[-1].replace('d','')) for d in ds['band'].values])"
   ]
  },
  {
   "cell_type": "code",
   "execution_count": 110,
   "metadata": {},
   "outputs": [
    {
     "data": {
      "text/plain": [
       "[<matplotlib.lines.Line2D at 0x7fcedb3eda60>]"
      ]
     },
     "execution_count": 110,
     "metadata": {},
     "output_type": "execute_result"
    },
    {
     "data": {
      "image/png": "[encoded data removed]",
      "text/plain": [
       "<Figure size 432x288 with 1 Axes>"
      ]
     },
     "metadata": {
      "needs_background": "light"
     },
     "output_type": "display_data"
    }
   ],
   "source": [
    "cors = ds['cor_vv'].values[:, 2006, 3006]\n",
    "plt.scatter(days, cors)\n",
    "xs = np.linspace(6, 20, 14)\n",
    "s = curve_fit(temp_model, days, cors, 5)[0][0]\n",
    "pred = temp_model(xs, 5.32231228)\n",
    "plt.plot(xs, pred)"
   ]
  },
  {
   "cell_type": "code",
   "execution_count": 140,
   "metadata": {},
   "outputs": [],
   "source": [
    "taus = np.apply_along_axis(arr = ds['cor_vv'].values, func1d = tau, axis = 0, days = days)"
   ]
  },
  {
   "cell_type": "code",
   "execution_count": 151,
   "metadata": {},
   "outputs": [],
   "source": [
    "with open('/Users/zachkeskinen/Documents/uavsar/data/cor_coarse.pkl' , 'rb') as f:\n",
    "    cor_coarse = pickle.load(f)"
   ]
  },
  {
   "cell_type": "code",
   "execution_count": 156,
   "metadata": {},
   "outputs": [],
   "source": [
    "dem = rxa.open_rasterio('../../../data/dem.tiff')\n",
    "\n",
    "roads = '/bsuhome/zacharykeskinen/scratch/data/uavsar/roads/Shape/Trans_RoadSegment.shp'\n",
    "roads = '../../../data/aucillary/roads/Shape/Trans_RoadSegment.shp'\n",
    "roads = gpd.read_file(roads)\n",
    "hwy21 = roads[roads.state_ro_1 == '21']\n",
    "trees = gpd.read_file('/Users/zachkeskinen/Documents/uavsar/data/coherence_spatial_lowman/tree_less.shp')\n",
    "fires = gpd.read_file('/Users/zachkeskinen/Documents/uavsar/data/coherence_spatial_lowman/mtbs_perimeter_data/mtbs_perims_DD.shp')"
   ]
  },
  {
   "cell_type": "code",
   "execution_count": 325,
   "metadata": {},
   "outputs": [],
   "source": [
    "trees = gpd.read_file('/Users/zachkeskinen/Documents/uavsar/data/coherence_spatial_lowman/tree_less.shp')"
   ]
  },
  {
   "cell_type": "code",
   "execution_count": 249,
   "metadata": {},
   "outputs": [],
   "source": [
    "lc = rxa.open_rasterio('/Users/zachkeskinen/Documents/uavsar/data/coherence_spatial_lowman/id_16/nlcd_id_utm11.tif')"
   ]
  },
  {
   "cell_type": "code",
   "execution_count": 264,
   "metadata": {},
   "outputs": [],
   "source": [
    "lc = lc.rio.reproject_match(dem)"
   ]
  },
  {
   "cell_type": "code",
   "execution_count": 308,
   "metadata": {},
   "outputs": [],
   "source": [
    "water = lc.copy()\n",
    "water = water.where(water == 11)\n",
    "barren = lc.copy()\n",
    "barren = barren.where(barren == 31)"
   ]
  },
  {
   "cell_type": "code",
   "execution_count": 327,
   "metadata": {},
   "outputs": [],
   "source": [
    "deep_snow = gpd.read_file('/Users/zachkeskinen/Documents/uavsar/data/coherence_spatial_lowman/deep_snow.shp')"
   ]
  },
  {
   "cell_type": "code",
   "execution_count": 330,
   "metadata": {},
   "outputs": [],
   "source": [
    "from matplotlib.colors import LightSource\n",
    "figdir = '/Users/zachkeskinen/Documents/uavsar/figures/coherence_spatial'\n",
    "fig, ax = plt.subplots(figsize = (24,16))\n",
    "\n",
    "dx = 0.0005\n",
    "dy = 0.0005\n",
    "conversion = 6\n",
    "\n",
    "ls = LightSource(azdeg = 315, altdeg = 45)\n",
    "cmap = plt.cm.gist_earth\n",
    "rgb = ls.hillshade(dem.values[0], vert_exag=10, dx = dx*conversion, dy = dy*conversion)\n",
    "plt.imshow(rgb, extent = (dem.x.min().data,dem.x.max().data, dem.y.min().data, dem.y.max().data), cmap = 'gray')\n",
    "plt.imshow(taus, vmax = 60, alpha = 0.7, extent = (dem.x.min().data,dem.x.max().data, dem.y.min().data, dem.y.max().data))\n",
    "plt.colorbar(fraction = 0.1, label = 'Exponential Decay Parameter (days)')\n",
    "# add some other pieces\n",
    "snotel_coords = (-115.2333, 44.3)\n",
    "plt.scatter(*snotel_coords, s = 100, marker = 'x', color = 'black', label = 'Banner Summit Snotel')\n",
    "hwy21.plot(ax = ax, label = 'HWY 21', color = 'black')\n",
    "trees.plot(fc = 'none', ec = 'grey', linewidth = 1, label = 'Tree-less Areas', ax= ax, legend = True)\n",
    "trees.plot(fc = 'grey', ec = 'none', linewidth = 1, label = 'Tree-less Areas', ax= ax, alpha = 0.1)\n",
    "# water.plot(ax = ax, alpha = 0.4)\n",
    "# barren.plot(ax = ax, alpha = 0.4)\n",
    "\n",
    "fires.plot(ax = ax, fc = 'red', ec ='none', linewidth = 2, label = 'Burned Area', legend = True, alpha = 0.1)\n",
    "fires.plot(ax = ax, fc = 'none', ec ='red', linewidth = 2, label = 'Burned Area', legend = True, alpha = 1)\n",
    "plt.plot([1,1],[1,1], linewidth = 2, color = 'red', label = 'Burned Areas')\n",
    "plt.plot([1,1],[1,1], linewidth = 2, color = 'slategrey', label = 'Tree-less Areas')\n",
    "# plt.plot([1,1],[1,1], linewidth = 2, color = 'blue', label = 'Open Water')\n",
    "deep_snow.plot(ax =ax , fc = 'blue', alpha = 0.1)\n",
    "deep_snow.plot(ax =ax , fc = 'none',ec = 'blue')\n",
    "plt.plot([1,1],[1,1], linewidth = 2, color = 'blue', label = '3+m Snowpack')\n",
    "\n",
    "plt.xlim(-115.3, -115.05)\n",
    "plt.ylim(44.2, 44.4)\n",
    "plt.ylabel('Latitude')\n",
    "plt.xlabel('Longitude')\n",
    "plt.legend()\n",
    "plt.title('Exponential Decay Parameter for VV')\n",
    "plt.savefig(join(figdir, 'tau_VV_lowman.png'))"
   ]
  },
  {
   "cell_type": "code",
   "execution_count": null,
   "metadata": {},
   "outputs": [],
   "source": []
  }
 ],
 "metadata": {
  "kernelspec": {
   "display_name": "Python 3.9.12 ('uavsar')",
   "language": "python",
   "name": "python3"
  },
  "language_info": {
   "codemirror_mode": {
    "name": "ipython",
    "version": 3
   },
   "file_extension": ".py",
   "mimetype": "text/x-python",
   "name": "python",
   "nbconvert_exporter": "python",
   "pygments_lexer": "ipython3",
   "version": "3.9.12"
  },
  "orig_nbformat": 4,
  "vscode": {
   "interpreter": {
    "hash": "ba8967e065a58c806f1bdb735567067b52f77062b6ff6cacc1c3011561bd9c8e"
   }
  }
 },
 "nbformat": 4,
 "nbformat_minor": 2
}
