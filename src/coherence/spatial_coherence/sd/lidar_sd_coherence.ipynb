{
 "cells": [
  {
   "cell_type": "code",
   "execution_count": 1,
   "metadata": {},
   "outputs": [],
   "source": [
    "import os\n",
    "from os.path import join, exists, basename, dirname, expanduser\n",
    "from glob import glob\n",
    "import pickle\n",
    "import numpy as np\n",
    "import pandas as pd\n",
    "import matplotlib.pyplot as plt\n",
    "import seaborn as sns\n",
    "import xarray as xr\n",
    "import rioxarray as rxa\n",
    "from scipy import stats\n",
    "from pyproj import Transformer\n",
    "\n",
    "with open(expanduser('~/scratch/data/uavsar/image_fps'), 'rb') as f:\n",
    "    image_fps = pickle.load(f)\n",
    "\n",
    "image_fps = [f for f in image_fps if f['fp'].endswith('.unw.grd.tiff')]\n",
    "netcdf_fps = '/bsuhome/zacharykeskinen/scratch/data/uavsar/images/vv_coherence'\n",
    "\n",
    "data_fp = '/bsuhome/zacharykeskinen/scratch/data/uavsar/coherence'\n",
    "with open(join(data_fp,'cor_vv.pkl'), 'rb') as f:\n",
    "    cor_vv = pickle.load(f)"
   ]
  },
  {
   "cell_type": "code",
   "execution_count": 2,
   "metadata": {},
   "outputs": [],
   "source": [
    "def clean_nps(arrs):\n",
    "    idx = np.zeros_like(arrs[0], dtype = arrs[0].dtype)\n",
    "    for arr in arrs:\n",
    "        idx += arr\n",
    "\n",
    "    for i in range(len(arrs)):\n",
    "        arrs[i] = arrs[i][np.where(~np.isnan(idx))]\n",
    "    return arrs\n",
    "\n",
    "def clean_two_nps(arr1, arr2):\n",
    "    buff = arr1\n",
    "    arr1 = arr1[(~np.isnan(arr1)) & (~np.isnan(arr2))]\n",
    "    arr2 = arr2[(~np.isnan(buff)) & (~np.isnan(arr2))]\n",
    "    return arr1, arr2\n",
    "\n",
    "def datarray_to_numpy(x, y):\n",
    "    if type(x)== xr.core.dataarray.DataArray:\n",
    "        x_dirty = x.values.ravel()\n",
    "        y = y.values.ravel()\n",
    "    else:\n",
    "        x_dirty = x\n",
    "    x = x_dirty[(~np.isnan(x_dirty)) & (~np.isnan(y))]\n",
    "    y = y[(~np.isnan(x_dirty)) & (~np.isnan(y))]\n",
    "    return x, y\n",
    "\n",
    "def r2_value(x, y):\n",
    "    x, y = datarray_to_numpy(x,y)\n",
    "    slope, intercept, r_value, p_value, std_err = stats.linregress(x, y)\n",
    "    print(f'slope: {slope}. intercept: {intercept}. r_value {r_value}. p value: {p_value}')\n",
    "    return slope, intercept, r_value, p_value, x, y\n",
    "\n",
    "def mann_test(x, y, xlabel = 'x', ylabel = 'y'):\n",
    "    x, y = datarray_to_numpy(x,y)\n",
    "    stat, p = mannwhitneyu(x, y)   \n",
    "    print(f'Comparison of {xlabel} vs {ylabel} center has a p value of {p:.10f} of not being from same distribution with {len(x)} observations.')\n",
    "    if p < 0.1:\n",
    "        print(f'Median of {xlabel}: {np.median(x)} compared to median of {ylabel}: {np.median(y)}')"
   ]
  },
  {
   "cell_type": "code",
   "execution_count": 3,
   "metadata": {},
   "outputs": [],
   "source": [
    "lidar_dir = '/bsuhome/zacharykeskinen/scratch/data/uavsar/lidar'\n",
    "for d in glob(join(lidar_dir,'*')):\n",
    "    if 'taylor' in d:\n",
    "        pass\n",
    "    elif 'Lowman' in d:\n",
    "        for sf in glob(join(d, '*')):\n",
    "            for f in glob(join(sf, '*.tif')):\n",
    "                subloc = basename(sf)\n",
    "                date = basename(f).split('_')[-2]\n",
    "                if '_SD_' in f or 'snowdepth' in f:\n",
    "                    sd = rxa.open_rasterio(f)\n",
    "                    sd_re = sd.rio.reproject_match(cor_vv['Lowman,_CO'])[0]\n",
    "                    cor_vv['Lowman,_CO'][f'{subloc}-{date}-sd'] = sd_re.where(sd_re < 1000)\n",
    "                elif '_VH_' in f:\n",
    "                    veg = rxa.open_rasterio(f)\n",
    "                    veg_re = veg.rio.reproject_match(cor_vv['Lowman,_CO'])[0]\n",
    "                    cor_vv['Lowman,_CO'][f'{subloc}-{date}-veg'] = veg_re.where(veg_re < 1000)\n",
    "    else:\n",
    "        for f in glob(join(d, '*.tif')):\n",
    "            date = basename(f).split('_')[-2]\n",
    "            if 'EastRiver' in f:\n",
    "                date = '20200214'\n",
    "            if '_SD_' in f or 'snowdepth' in f:\n",
    "                sd = rxa.open_rasterio(f)\n",
    "                sd_re = sd.rio.reproject_match(cor_vv[dirname(f)])[0]\n",
    "                cor_vv[dirname(f)][f'{date}-sd'] = sd_re.where(sd_re < 1000)\n",
    "            elif '_VH_' in f:\n",
    "                veg = rxa.open_rasterio(f)\n",
    "                veg_re = veg.rio.reproject_match(cor_vv[dirname(f)])[0]\n",
    "                cor_vv[dirname(f)][f'{date}-veg'] = veg_re.where(veg_re < 1000)"
   ]
  },
  {
   "cell_type": "code",
   "execution_count": 77,
   "metadata": {},
   "outputs": [
    {
     "data": {
      "text/plain": [
       "'/bsuhome/zacharykeskinen/scratch/data/uavsar/lidar/Lowman,_CO/banner/SNEX20_QSI_VH_0.5M_USIDBS_20210315_20210315.tif'"
      ]
     },
     "execution_count": 77,
     "metadata": {},
     "output_type": "execute_result"
    }
   ],
   "source": [
    "f"
   ]
  },
  {
   "cell_type": "code",
   "execution_count": 75,
   "metadata": {},
   "outputs": [
    {
     "data": {
      "text/plain": [
       "<matplotlib.collections.QuadMesh at 0x2aae770cbbe0>"
      ]
     },
     "execution_count": 75,
     "metadata": {},
     "output_type": "execute_result"
    },
    {
     "data": {
      "image/png": "[encoded data removed]",
      "text/plain": [
       "<Figure size 432x288 with 2 Axes>"
      ]
     },
     "metadata": {
      "needs_background": "light"
     },
     "output_type": "display_data"
    }
   ],
   "source": [
    "cor_vv['Lowman,_CO']['dry_creek-20200219-veg'].plot(vmin = 0, vmax = 10)"
   ]
  }
 ],
 "metadata": {
  "kernelspec": {
   "display_name": "Python 3.9.13 ('proj')",
   "language": "python",
   "name": "python3"
  },
  "language_info": {
   "codemirror_mode": {
    "name": "ipython",
    "version": 3
   },
   "file_extension": ".py",
   "mimetype": "text/x-python",
   "name": "python",
   "nbconvert_exporter": "python",
   "pygments_lexer": "ipython3",
   "version": "3.9.13"
  },
  "orig_nbformat": 4,
  "vscode": {
   "interpreter": {
    "hash": "be18628f3b6aaaf0d9a50c1a0a68c0122e22b01f7b4495836f3dc0caac12767e"
   }
  }
 },
 "nbformat": 4,
 "nbformat_minor": 2
}
