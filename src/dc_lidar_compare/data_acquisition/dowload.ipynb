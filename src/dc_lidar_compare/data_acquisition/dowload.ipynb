{
 "cells": [
  {
   "cell_type": "code",
   "execution_count": 1,
   "metadata": {},
   "outputs": [],
   "source": [
    "from uavsar_pytools import UavsarScene, UavsarImage\n",
    "from uavsar_pytools.snow_depth_inversion import depth_from_phase, phase_from_depth\n",
    "from uavsar_pytools.polsar import H_A_alpha_decomp\n",
    "import xarray as xa\n",
    "import rioxarray as rxa\n",
    "import matplotlib.pyplot as plt\n",
    "import numpy as np\n",
    "from glob import glob\n",
    "from os.path import join\n",
    "from whitebox_tools import WhiteboxTools"
   ]
  },
  {
   "cell_type": "code",
   "execution_count": 3,
   "metadata": {},
   "outputs": [],
   "source": [
    "data_dir = '/Users/zachkeskinen/Documents/uavsar/data/dc_lidar/uavsar'"
   ]
  },
  {
   "cell_type": "code",
   "execution_count": 2,
   "metadata": {},
   "outputs": [],
   "source": [
    "ds = xa.open_dataset('/Users/zachkeskinen/Documents/uavsar/data/dc_lidar/ds-lidar-us2.nc')"
   ]
  },
  {
   "cell_type": "markdown",
   "metadata": {},
   "source": [
    "## GRD Interferograms"
   ]
  },
  {
   "cell_type": "code",
   "execution_count": 3,
   "metadata": {},
   "outputs": [
    {
     "data": {
      "application/vnd.jupyter.widget-view+json": {
       "model_id": "a84a6543c36c4186a844b7abfb80c6e6",
       "version_major": 2,
       "version_minor": 0
      },
      "text/plain": [
       "Downloading lowman_05208_21015-009_21017-019_0007d_s01_L090_01_int_grd.zip:   0%|          | 0.00/5.36G [00:00…"
      ]
     },
     "metadata": {},
     "output_type": "display_data"
    },
    {
     "name": "stderr",
     "output_type": "stream",
     "text": [
      "Unzipping: 100%|██████████| 20/20 [01:55<00:00,  5.80s/file]\n"
     ]
    },
    {
     "data": {
      "application/vnd.jupyter.widget-view+json": {
       "model_id": "671222ae942846768ba59078f7da4e1f",
       "version_major": 2,
       "version_minor": 0
      },
      "text/plain": [
       "Downloading lowman_23205_21015-008_21017-018_0007d_s01_L090_01_int_grd.zip:   0%|          | 0.00/5.35G [00:00…"
      ]
     },
     "metadata": {},
     "output_type": "display_data"
    },
    {
     "name": "stderr",
     "output_type": "stream",
     "text": [
      "Unzipping: 100%|██████████| 20/20 [01:56<00:00,  5.85s/file]\n"
     ]
    }
   ],
   "source": [
    "url1 = 'https://datapool.asf.alaska.edu/INTERFEROMETRY_GRD/UA/lowman_05208_21015-009_21017-019_0007d_s01_L090_01_int_grd.zip'\n",
    "url2 = 'https://datapool.asf.alaska.edu/INTERFEROMETRY_GRD/UA/lowman_23205_21015-008_21017-018_0007d_s01_L090_01_int_grd.zip'\n",
    "for url in [url1, url2]:\n",
    "    s = UavsarScene(work_dir=data_dir, url = url)\n",
    "    s.url_to_tiffs()"
   ]
  },
  {
   "cell_type": "markdown",
   "metadata": {},
   "source": [
    "## GRD Amplitudes"
   ]
  },
  {
   "cell_type": "code",
   "execution_count": 4,
   "metadata": {},
   "outputs": [
    {
     "data": {
      "application/vnd.jupyter.widget-view+json": {
       "model_id": "075beda5e95142d791b52f88beadd077",
       "version_major": 2,
       "version_minor": 0
      },
      "text/plain": [
       "Downloading lowman_05208_21015-009_21017-019_0007d_s01_L090_01_amp_grd.zip:   0%|          | 0.00/3.27G [00:00…"
      ]
     },
     "metadata": {},
     "output_type": "display_data"
    },
    {
     "name": "stderr",
     "output_type": "stream",
     "text": [
      "Unzipping: 100%|██████████| 16/16 [01:02<00:00,  3.90s/file]\n"
     ]
    },
    {
     "data": {
      "application/vnd.jupyter.widget-view+json": {
       "model_id": "0c6f3773c7d849d6ab60fdd1969b4f28",
       "version_major": 2,
       "version_minor": 0
      },
      "text/plain": [
       "Downloading lowman_23205_21015-008_21017-018_0007d_s01_L090_01_amp_grd.zip:   0%|          | 0.00/3.28G [00:00…"
      ]
     },
     "metadata": {},
     "output_type": "display_data"
    },
    {
     "name": "stderr",
     "output_type": "stream",
     "text": [
      "Unzipping: 100%|██████████| 16/16 [01:09<00:00,  4.32s/file]\n"
     ]
    }
   ],
   "source": [
    "data_dir = '/Users/zachkeskinen/Documents/uavsar/data/dc_lidar/uavsar'\n",
    "url1 = 'https://datapool.asf.alaska.edu/AMPLITUDE_GRD/UA/lowman_05208_21015-009_21017-019_0007d_s01_L090_01_amp_grd.zip'\n",
    "url2 = 'https://datapool.asf.alaska.edu/AMPLITUDE_GRD/UA/lowman_23205_21015-008_21017-018_0007d_s01_L090_01_amp_grd.zip'\n",
    "for url in [url1, url2]:\n",
    "    s = UavsarScene(work_dir=data_dir, url = url)\n",
    "    s.url_to_tiffs()"
   ]
  },
  {
   "cell_type": "markdown",
   "metadata": {},
   "source": [
    "## GRD Incidence Angle"
   ]
  },
  {
   "cell_type": "code",
   "execution_count": 182,
   "metadata": {},
   "outputs": [
    {
     "data": {
      "application/vnd.jupyter.widget-view+json": {
       "model_id": "a500f202c5e84f71961f3def3468d051",
       "version_major": 2,
       "version_minor": 0
      },
      "text/plain": [
       "Downloading lowman_05208_21015_009_210303_L090_CX_01.inc:   0%|          | 0.00/1.74G [00:00<?, ?B/s]"
      ]
     },
     "metadata": {},
     "output_type": "display_data"
    },
    {
     "data": {
      "application/vnd.jupyter.widget-view+json": {
       "model_id": "4ebbda3385fd4d6290978cd7df67f883",
       "version_major": 2,
       "version_minor": 0
      },
      "text/plain": [
       "Downloading lowman_05208_21015_009_210303_L090_CX_01.ann:   0%|          | 0.00/29.0k [00:00<?, ?B/s]"
      ]
     },
     "metadata": {},
     "output_type": "display_data"
    },
    {
     "data": {
      "application/vnd.jupyter.widget-view+json": {
       "model_id": "e31aee2c7a19461aa7d6823fb86ef46e",
       "version_major": 2,
       "version_minor": 0
      },
      "text/plain": [
       "Downloading lowman_23205_21015_008_210303_L090_CX_01.inc:   0%|          | 0.00/1.72G [00:00<?, ?B/s]"
      ]
     },
     "metadata": {},
     "output_type": "display_data"
    },
    {
     "data": {
      "application/vnd.jupyter.widget-view+json": {
       "model_id": "76810470cb274aa09f7f16df60bf3d06",
       "version_major": 2,
       "version_minor": 0
      },
      "text/plain": [
       "Downloading lowman_23205_21015_008_210303_L090_CX_01.ann:   0%|          | 0.00/29.0k [00:00<?, ?B/s]"
      ]
     },
     "metadata": {},
     "output_type": "display_data"
    }
   ],
   "source": [
    "inc_url = 'https://datapool.asf.alaska.edu/INC/UA/lowman_05208_21015_009_210303_L090_CX_01.inc'\n",
    "inc_url2 = 'https://datapool.asf.alaska.edu/INC/UA/lowman_23205_21015_008_210303_L090_CX_01.inc'\n",
    "for url in [inc_url, inc_url2]:\n",
    "    incimg = UavsarImage(url, work_dir= data_dir)\n",
    "    incimg.url_to_tiff()"
   ]
  },
  {
   "cell_type": "markdown",
   "metadata": {},
   "source": [
    "## GRD Polsar"
   ]
  },
  {
   "cell_type": "code",
   "execution_count": 9,
   "metadata": {},
   "outputs": [
    {
     "data": {
      "application/vnd.jupyter.widget-view+json": {
       "model_id": "96b956a9a8ab4268a73059176c9f0b0a",
       "version_major": 2,
       "version_minor": 0
      },
      "text/plain": [
       "Downloading lowman_23205_21015_008_210303_L090_CX_01_grd.zip:   0%|          | 0.00/2.39G [00:00<?, ?B/s]"
      ]
     },
     "metadata": {},
     "output_type": "display_data"
    },
    {
     "name": "stderr",
     "output_type": "stream",
     "text": [
      "Unzipping: 100%|██████████| 7/7 [00:55<00:00,  7.99s/file]\n"
     ]
    },
    {
     "data": {
      "application/vnd.jupyter.widget-view+json": {
       "model_id": "b800cf81d2884cfbaae3d0dfef1d8a2b",
       "version_major": 2,
       "version_minor": 0
      },
      "text/plain": [
       "Downloading lowman_23205_21017_018_210310_L090_CX_01_grd.zip:   0%|          | 0.00/2.39G [00:00<?, ?B/s]"
      ]
     },
     "metadata": {},
     "output_type": "display_data"
    },
    {
     "name": "stderr",
     "output_type": "stream",
     "text": [
      "Unzipping: 100%|██████████| 7/7 [00:55<00:00,  7.93s/file]\n"
     ]
    }
   ],
   "source": [
    "url1= 'https://uavsar.asf.alaska.edu/UA_lowman_23205_21015_008_210303_L090_CX_01/lowman_23205_21015_008_210303_L090_CX_01_grd.zip'\n",
    "url2 = 'https://uavsar.asf.alaska.edu/UA_lowman_23205_21017_018_210310_L090_CX_01/lowman_23205_21017_018_210310_L090_CX_01_grd.zip'\n",
    "url3 = 'https://uavsar.asf.alaska.edu/UA_lowman_05208_21017_019_210310_L090_CX_01/lowman_05208_21017_019_210310_L090_CX_01_grd.zip'\n",
    "url4 = 'https://uavsar.asf.alaska.edu/UA_lowman_05208_21015_009_210303_L090_CX_01/lowman_05208_21015_009_210303_L090_CX_01_grd.zip'\n",
    "for url in [url1, url2,url3, url4]:\n",
    "    s = UavsarScene(work_dir=data_dir, url = url)\n",
    "    s.url_to_tiffs()"
   ]
  },
  {
   "cell_type": "code",
   "execution_count": 18,
   "metadata": {},
   "outputs": [
    {
     "name": "stderr",
     "output_type": "stream",
     "text": [
      "INFO:uavsar_pytools.polsar:Collecting polsar stack\n",
      "INFO:uavsar_pytools.polsar:Starting H, A, Alpha Calculations. Parralelized = False\n",
      " 12%|█▏        | 50904291/434542064 [32:16<4:03:17, 26280.54it/s] \n"
     ]
    },
    {
     "ename": "KeyboardInterrupt",
     "evalue": "",
     "output_type": "error",
     "traceback": [
      "\u001b[0;31m---------------------------------------------------------------------------\u001b[0m",
      "\u001b[0;31mKeyboardInterrupt\u001b[0m                         Traceback (most recent call last)",
      "\u001b[1;32m/Users/zachkeskinen/Documents/uavsar/src/dc_lidar_compare/data_acquisition/dowload.ipynb Cell 12\u001b[0m in \u001b[0;36m<cell line: 6>\u001b[0;34m()\u001b[0m\n\u001b[1;32m      <a href='vscode-notebook-cell:/Users/zachkeskinen/Documents/uavsar/src/dc_lidar_compare/data_acquisition/dowload.ipynb#X35sZmlsZQ%3D%3D?line=3'>4</a>\u001b[0m dir4 \u001b[39m=\u001b[39m \u001b[39m'\u001b[39m\u001b[39m/Users/zachkeskinen/Documents/uavsar/data/dc_lidar/uavsar/lowman_23205_21017_018_210310_L090_CX_01_grd\u001b[39m\u001b[39m'\u001b[39m\n\u001b[1;32m      <a href='vscode-notebook-cell:/Users/zachkeskinen/Documents/uavsar/src/dc_lidar_compare/data_acquisition/dowload.ipynb#X35sZmlsZQ%3D%3D?line=5'>6</a>\u001b[0m \u001b[39mfor\u001b[39;00m \u001b[39mdir\u001b[39m \u001b[39min\u001b[39;00m [dir1,dir2,dir3,dir4]:\n\u001b[0;32m----> <a href='vscode-notebook-cell:/Users/zachkeskinen/Documents/uavsar/src/dc_lidar_compare/data_acquisition/dowload.ipynb#X35sZmlsZQ%3D%3D?line=6'>7</a>\u001b[0m     H_A_alpha_decomp(\u001b[39mdir\u001b[39;49m, \u001b[39mdir\u001b[39;49m)\n",
      "File \u001b[0;32m~/miniconda3/envs/uavsar/lib/python3.9/site-packages/uavsar_pytools/polsar.py:369\u001b[0m, in \u001b[0;36mH_A_alpha_decomp\u001b[0;34m(in_dir, out_dir, parralel)\u001b[0m\n\u001b[1;32m    367\u001b[0m \u001b[39m# desc = read_annotation(glob(join(in_dir, '*.ann'))[0])\u001b[39;00m\n\u001b[1;32m    368\u001b[0m log\u001b[39m.\u001b[39minfo(\u001b[39mf\u001b[39m\u001b[39m'\u001b[39m\u001b[39mStarting H, A, Alpha Calculations. Parralelized = \u001b[39m\u001b[39m{\u001b[39;00mparralel\u001b[39m}\u001b[39;00m\u001b[39m'\u001b[39m)\n\u001b[0;32m--> 369\u001b[0m H, A, alpha1, mean_alpha \u001b[39m=\u001b[39m uavsar_H_A_alpha(stack, parralel \u001b[39m=\u001b[39;49m parralel)\n\u001b[1;32m    370\u001b[0m d \u001b[39m=\u001b[39m {}\n\u001b[1;32m    371\u001b[0m d[\u001b[39m'\u001b[39m\u001b[39mentropy\u001b[39m\u001b[39m'\u001b[39m] \u001b[39m=\u001b[39m H\n",
      "File \u001b[0;32m~/miniconda3/envs/uavsar/lib/python3.9/site-packages/uavsar_pytools/polsar.py:350\u001b[0m, in \u001b[0;36muavsar_H_A_alpha\u001b[0;34m(stack, parralel, mean_alpha)\u001b[0m\n\u001b[1;32m    348\u001b[0m     iters \u001b[39m=\u001b[39m stack\u001b[39m.\u001b[39mshape[\u001b[39m0\u001b[39m]\u001b[39m*\u001b[39mstack\u001b[39m.\u001b[39mshape[\u001b[39m1\u001b[39m]\n\u001b[1;32m    349\u001b[0m     \u001b[39mfor\u001b[39;00m i, j \u001b[39min\u001b[39;00m tqdm(np\u001b[39m.\u001b[39mndindex(stack\u001b[39m.\u001b[39mshape[:\u001b[39m2\u001b[39m]), total \u001b[39m=\u001b[39m iters):\n\u001b[0;32m--> 350\u001b[0m         res[i,j,:] \u001b[39m=\u001b[39m decomp_components(stack[i,j])\n\u001b[1;32m    351\u001b[0m H \u001b[39m=\u001b[39m res[:,:,\u001b[39m0\u001b[39m]\n\u001b[1;32m    352\u001b[0m A \u001b[39m=\u001b[39m res[:,:,\u001b[39m1\u001b[39m]\n",
      "File \u001b[0;32m~/miniconda3/envs/uavsar/lib/python3.9/site-packages/uavsar_pytools/polsar.py:310\u001b[0m, in \u001b[0;36mdecomp_components\u001b[0;34m(stack, mean_alpha)\u001b[0m\n\u001b[1;32m    308\u001b[0m H \u001b[39m=\u001b[39m T3_to_H(T3)\n\u001b[1;32m    309\u001b[0m A \u001b[39m=\u001b[39m T3_to_A(T3)\n\u001b[0;32m--> 310\u001b[0m alpha1 \u001b[39m=\u001b[39m T3_to_alpha1(T3)\n\u001b[1;32m    312\u001b[0m \u001b[39mif\u001b[39;00m mean_alpha:\n\u001b[1;32m    313\u001b[0m     meanalpha \u001b[39m=\u001b[39m T3_to_mean_alpha(T3)\n",
      "File \u001b[0;32m~/miniconda3/envs/uavsar/lib/python3.9/site-packages/uavsar_pytools/polsar.py:175\u001b[0m, in \u001b[0;36mT3_to_alpha1\u001b[0;34m(T3)\u001b[0m\n\u001b[1;32m    159\u001b[0m \u001b[39m\"\"\"\u001b[39;00m\n\u001b[1;32m    160\u001b[0m \u001b[39mCalculates alpha1 decomposition product from the coherency matrix T3. Uses\u001b[39;00m\n\u001b[1;32m    161\u001b[0m \u001b[39mthe eigenvector-eigenvalue identity method described by Nielsen 2022 \u001b[39;00m\n\u001b[0;32m   (...)\u001b[0m\n\u001b[1;32m    172\u001b[0m \u001b[39m    alpha 1 angle in degrees. \u001b[39;00m\n\u001b[1;32m    173\u001b[0m \u001b[39m\"\"\"\u001b[39;00m\n\u001b[1;32m    174\u001b[0m \u001b[39m# Calculate M1, the first minor of T3 by deleting first row/col\u001b[39;00m\n\u001b[0;32m--> 175\u001b[0m M1 \u001b[39m=\u001b[39m T3[\u001b[39m1\u001b[39m:,\u001b[39m1\u001b[39m:]\n\u001b[1;32m    176\u001b[0m \u001b[39m# Calculate eigenvalues\u001b[39;00m\n\u001b[1;32m    177\u001b[0m t3, t2, t1 \u001b[39m=\u001b[39m np\u001b[39m.\u001b[39mlinalg\u001b[39m.\u001b[39meigvalsh(T3)\n",
      "\u001b[0;31mKeyboardInterrupt\u001b[0m: "
     ]
    }
   ],
   "source": [
    "dir1 = '/Users/zachkeskinen/Documents/uavsar/data/dc_lidar/uavsar/lowman_05208_21015_009_210303_L090_CX_01_grd'\n",
    "dir2 = '/Users/zachkeskinen/Documents/uavsar/data/dc_lidar/uavsar/lowman_05208_21017_019_210310_L090_CX_01_grd'\n",
    "dir3= '/Users/zachkeskinen/Documents/uavsar/data/dc_lidar/uavsar/lowman_23205_21015_008_210303_L090_CX_01_grd'\n",
    "dir4 = '/Users/zachkeskinen/Documents/uavsar/data/dc_lidar/uavsar/lowman_23205_21017_018_210310_L090_CX_01_grd'\n",
    "\n",
    "for dir in [dir1,dir2,dir3,dir4]:\n",
    "    H_A_alpha_decomp(dir, dir)"
   ]
  },
  {
   "cell_type": "markdown",
   "metadata": {},
   "source": [
    "## GRD LLH LKV"
   ]
  },
  {
   "cell_type": "code",
   "execution_count": 15,
   "metadata": {},
   "outputs": [
    {
     "ename": "KeyError",
     "evalue": "'llh_phase.set_rows'",
     "output_type": "error",
     "traceback": [
      "\u001b[0;31m---------------------------------------------------------------------------\u001b[0m",
      "\u001b[0;31mKeyError\u001b[0m                                  Traceback (most recent call last)",
      "\u001b[1;32m/Users/zachkeskinen/Documents/uavsar/src/dc_lidar_compare/data_acquisition/dowload.ipynb Cell 14\u001b[0m in \u001b[0;36m<cell line: 10>\u001b[0;34m()\u001b[0m\n\u001b[1;32m     <a href='vscode-notebook-cell:/Users/zachkeskinen/Documents/uavsar/src/dc_lidar_compare/data_acquisition/dowload.ipynb#X32sZmlsZQ%3D%3D?line=9'>10</a>\u001b[0m \u001b[39mfor\u001b[39;00m url \u001b[39min\u001b[39;00m [llh1, lkv1,llh2, lkv2,llh3, lkv3]:\n\u001b[1;32m     <a href='vscode-notebook-cell:/Users/zachkeskinen/Documents/uavsar/src/dc_lidar_compare/data_acquisition/dowload.ipynb#X32sZmlsZQ%3D%3D?line=10'>11</a>\u001b[0m     ancimag \u001b[39m=\u001b[39m UavsarImage(url, work_dir\u001b[39m=\u001b[39m anc_dir, ann_url \u001b[39m=\u001b[39m \u001b[39m'\u001b[39m\u001b[39mhttps://downloaduav2.jpl.nasa.gov/Release30/lowman_05208_01/lowman_05208_20002_006_200131_L090HH_01_BU.ann\u001b[39m\u001b[39m'\u001b[39m)\n\u001b[0;32m---> <a href='vscode-notebook-cell:/Users/zachkeskinen/Documents/uavsar/src/dc_lidar_compare/data_acquisition/dowload.ipynb#X32sZmlsZQ%3D%3D?line=11'>12</a>\u001b[0m     ancimag\u001b[39m.\u001b[39;49murl_to_tiff()\n",
      "File \u001b[0;32m~/miniconda3/envs/uavsar/lib/python3.9/site-packages/uavsar_pytools/uavsar_image.py:109\u001b[0m, in \u001b[0;36mUavsarImage.url_to_tiff\u001b[0;34m(self, down_dir)\u001b[0m\n\u001b[1;32m    107\u001b[0m \u001b[39mself\u001b[39m\u001b[39m.\u001b[39mdownload(sub_dir \u001b[39m=\u001b[39m down_dir)\n\u001b[1;32m    108\u001b[0m \u001b[39mif\u001b[39;00m \u001b[39mself\u001b[39m\u001b[39m.\u001b[39mann_fp:\n\u001b[0;32m--> 109\u001b[0m     \u001b[39mself\u001b[39;49m\u001b[39m.\u001b[39;49mconvert_to_tiff()\n",
      "File \u001b[0;32m~/miniconda3/envs/uavsar/lib/python3.9/site-packages/uavsar_pytools/uavsar_image.py:83\u001b[0m, in \u001b[0;36mUavsarImage.convert_to_tiff\u001b[0;34m(self, binary_fp, sub_dir, ann_fp, overwrite)\u001b[0m\n\u001b[1;32m     80\u001b[0m \u001b[39mif\u001b[39;00m \u001b[39mnot\u001b[39;00m ann_fp:\n\u001b[1;32m     81\u001b[0m     ann_fp \u001b[39m=\u001b[39m \u001b[39mself\u001b[39m\u001b[39m.\u001b[39mann_fp\n\u001b[0;32m---> 83\u001b[0m result \u001b[39m=\u001b[39m grd_tiff_convert(in_fp \u001b[39m=\u001b[39;49m binary_fp, out_dir \u001b[39m=\u001b[39;49m out_dir, ann_fp \u001b[39m=\u001b[39;49m ann_fp, overwrite \u001b[39m=\u001b[39;49m overwrite)\n\u001b[1;32m     84\u001b[0m \u001b[39mif\u001b[39;00m \u001b[39mlen\u001b[39m(result) \u001b[39m==\u001b[39m \u001b[39m4\u001b[39m:\n\u001b[1;32m     85\u001b[0m     \u001b[39mself\u001b[39m\u001b[39m.\u001b[39mdesc, \u001b[39mself\u001b[39m\u001b[39m.\u001b[39marr, \u001b[39mself\u001b[39m\u001b[39m.\u001b[39mtype, \u001b[39mself\u001b[39m\u001b[39m.\u001b[39mout_fp \u001b[39m=\u001b[39m result\n",
      "File \u001b[0;32m~/miniconda3/envs/uavsar/lib/python3.9/site-packages/uavsar_pytools/convert/tiff_conversion.py:259\u001b[0m, in \u001b[0;36mgrd_tiff_convert\u001b[0;34m(in_fp, out_dir, ann_fp, overwrite, debug)\u001b[0m\n\u001b[1;32m    256\u001b[0m log\u001b[39m.\u001b[39mdebug(\u001b[39mf\u001b[39m\u001b[39m'\u001b[39m\u001b[39mSearching with: \u001b[39m\u001b[39m{\u001b[39;00msearch\u001b[39m}\u001b[39;00m\u001b[39m'\u001b[39m)\n\u001b[1;32m    258\u001b[0m \u001b[39m# Pull the appropriate values from our annotation dictionary\u001b[39;00m\n\u001b[0;32m--> 259\u001b[0m nrow \u001b[39m=\u001b[39m desc[\u001b[39mf\u001b[39;49m\u001b[39m'\u001b[39;49m\u001b[39m{\u001b[39;49;00msearch\u001b[39m}\u001b[39;49;00m\u001b[39m.set_rows\u001b[39;49m\u001b[39m'\u001b[39;49m][\u001b[39m'\u001b[39m\u001b[39mvalue\u001b[39m\u001b[39m'\u001b[39m]\n\u001b[1;32m    260\u001b[0m ncol \u001b[39m=\u001b[39m desc[\u001b[39mf\u001b[39m\u001b[39m'\u001b[39m\u001b[39m{\u001b[39;00msearch\u001b[39m}\u001b[39;00m\u001b[39m.set_cols\u001b[39m\u001b[39m'\u001b[39m][\u001b[39m'\u001b[39m\u001b[39mvalue\u001b[39m\u001b[39m'\u001b[39m]\n\u001b[1;32m    261\u001b[0m log\u001b[39m.\u001b[39mdebug(\u001b[39mf\u001b[39m\u001b[39m'\u001b[39m\u001b[39mrows: \u001b[39m\u001b[39m{\u001b[39;00mnrow\u001b[39m}\u001b[39;00m\u001b[39m x cols: \u001b[39m\u001b[39m{\u001b[39;00mncol\u001b[39m}\u001b[39;00m\u001b[39m pixels\u001b[39m\u001b[39m'\u001b[39m)\n",
      "\u001b[0;31mKeyError\u001b[0m: 'llh_phase.set_rows'"
     ]
    }
   ],
   "source": [
    "# llh1 = 'https://downloaduav2.jpl.nasa.gov/Release30/lowman_05208_01/lowman_05208_01_BU_s1_2x8.llh'\n",
    "# lkv1 = 'https://downloaduav2.jpl.nasa.gov/Release30/lowman_05208_01/lowman_05208_01_BU_s1_2x8.lkv'\n",
    "# llh2 = 'https://downloaduav2.jpl.nasa.gov/Release30/lowman_05208_01/lowman_05208_01_BU_s2_2x8.llh'\n",
    "# lkv2 = 'https://downloaduav2.jpl.nasa.gov/Release30/lowman_05208_01/lowman_05208_01_BU_s2_2x8.lkv'\n",
    "# llh3 = 'https://downloaduav2.jpl.nasa.gov/Release30/lowman_05208_01/lowman_05208_01_BU_s3_2x8.llh'\n",
    "# lkv3 = 'https://downloaduav2.jpl.nasa.gov/Release30/lowman_05208_01/lowman_05208_01_BU_s3_2x8.lkv'\n",
    "\n",
    "# anc_dir = join(data_dir, 'anc')\n",
    "\n",
    "# for url in [llh1, lkv1,llh2, lkv2,llh3, lkv3]:\n",
    "#     ancimag = UavsarImage(url, work_dir= anc_dir, ann_url = 'https://downloaduav2.jpl.nasa.gov/Release30/lowman_05208_01/lowman_05208_20002_006_200131_L090HH_01_BU.ann')\n",
    "#     ancimag.url_to_tiff()"
   ]
  },
  {
   "cell_type": "markdown",
   "metadata": {},
   "source": [
    "## Canopies"
   ]
  },
  {
   "cell_type": "code",
   "execution_count": 57,
   "metadata": {},
   "outputs": [
    {
     "name": "stdout",
     "output_type": "stream",
     "text": [
      "Downloading WhiteboxTools pre-compiled binary for first time use ...\n",
      "Decompressing WhiteboxTools_darwin_amd64.zip ...\n",
      "WhiteboxTools package directory: /Users/zachkeskinen/miniconda3/envs/uavsar/lib/python3.9/site-packages/whitebox\n",
      "Downloading testdata ...\n",
      "./whitebox_tools --run=\"AverageOverlay\" --wd=\"/Users/zachkeskinen/Documents/uavsar/data/dc_lidar/lidar/\" --inputs='20210303_DC-canopyheight.tif;20210310_DC-canopyheight.tif' --output='canopy_merged.tif'\n",
      "\n",
      "*****************************\n",
      "* Welcome to AverageOverlay *\n",
      "* Powered by WhiteboxTools  *\n",
      "* www.whiteboxgeo.com       *\n",
      "*****************************\n",
      "Reading data...\n",
      "Progress (loop 1 of 3): 0%\n",
      "Progress (loop 1 of 3): 1%\n",
      "Progress (loop 1 of 3): 2%\n",
      "Progress (loop 1 of 3): 3%\n",
      "Progress (loop 1 of 3): 4%\n",
      "Progress (loop 1 of 3): 5%\n",
      "Progress (loop 1 of 3): 6%\n",
      "Progress (loop 1 of 3): 7%\n",
      "Progress (loop 1 of 3): 8%\n",
      "Progress (loop 1 of 3): 9%\n",
      "Progress (loop 1 of 3): 10%\n",
      "Progress (loop 1 of 3): 11%\n",
      "Progress (loop 1 of 3): 12%\n",
      "Progress (loop 1 of 3): 13%\n",
      "Progress (loop 1 of 3): 14%\n",
      "Progress (loop 1 of 3): 15%\n",
      "Progress (loop 1 of 3): 16%\n",
      "Progress (loop 1 of 3): 17%\n",
      "Progress (loop 1 of 3): 18%\n",
      "Progress (loop 1 of 3): 19%\n",
      "Progress (loop 1 of 3): 20%\n",
      "Progress (loop 1 of 3): 21%\n",
      "Progress (loop 1 of 3): 22%\n",
      "Progress (loop 1 of 3): 23%\n",
      "Progress (loop 1 of 3): 24%\n",
      "Progress (loop 1 of 3): 25%\n",
      "Progress (loop 1 of 3): 26%\n",
      "Progress (loop 1 of 3): 27%\n",
      "Progress (loop 1 of 3): 28%\n",
      "Progress (loop 1 of 3): 29%\n",
      "Progress (loop 1 of 3): 30%\n",
      "Progress (loop 1 of 3): 31%\n",
      "Progress (loop 1 of 3): 32%\n",
      "Progress (loop 1 of 3): 33%\n",
      "Progress (loop 1 of 3): 34%\n",
      "Progress (loop 1 of 3): 35%\n",
      "Progress (loop 1 of 3): 36%\n",
      "Progress (loop 1 of 3): 37%\n",
      "Progress (loop 1 of 3): 38%\n",
      "Progress (loop 1 of 3): 39%\n",
      "Progress (loop 1 of 3): 40%\n",
      "Progress (loop 1 of 3): 41%\n",
      "Progress (loop 1 of 3): 42%\n",
      "Progress (loop 1 of 3): 43%\n",
      "Progress (loop 1 of 3): 44%\n",
      "Progress (loop 1 of 3): 45%\n",
      "Progress (loop 1 of 3): 46%\n",
      "Progress (loop 1 of 3): 47%\n",
      "Progress (loop 1 of 3): 48%\n",
      "Progress (loop 1 of 3): 49%\n",
      "Progress (loop 1 of 3): 50%\n",
      "Progress (loop 1 of 3): 51%\n",
      "Progress (loop 1 of 3): 52%\n",
      "Progress (loop 1 of 3): 53%\n",
      "Progress (loop 1 of 3): 54%\n",
      "Progress (loop 1 of 3): 55%\n",
      "Progress (loop 1 of 3): 56%\n",
      "Progress (loop 1 of 3): 57%\n",
      "Progress (loop 1 of 3): 58%\n",
      "Progress (loop 1 of 3): 59%\n",
      "Progress (loop 1 of 3): 60%\n",
      "Progress (loop 1 of 3): 61%\n",
      "Progress (loop 1 of 3): 62%\n",
      "Progress (loop 1 of 3): 63%\n",
      "Progress (loop 1 of 3): 64%\n",
      "Progress (loop 1 of 3): 65%\n",
      "Progress (loop 1 of 3): 66%\n",
      "Progress (loop 1 of 3): 67%\n",
      "Progress (loop 1 of 3): 68%\n",
      "Progress (loop 1 of 3): 69%\n",
      "Progress (loop 1 of 3): 70%\n",
      "Progress (loop 1 of 3): 71%\n",
      "Progress (loop 1 of 3): 72%\n",
      "Progress (loop 1 of 3): 73%\n",
      "Progress (loop 1 of 3): 74%\n",
      "Progress (loop 1 of 3): 75%\n",
      "Progress (loop 1 of 3): 76%\n",
      "Progress (loop 1 of 3): 77%\n",
      "Progress (loop 1 of 3): 78%\n",
      "Progress (loop 1 of 3): 79%\n",
      "Progress (loop 1 of 3): 80%\n",
      "Progress (loop 1 of 3): 81%\n",
      "Progress (loop 1 of 3): 82%\n",
      "Progress (loop 1 of 3): 83%\n",
      "Progress (loop 1 of 3): 84%\n",
      "Progress (loop 1 of 3): 85%\n",
      "Progress (loop 1 of 3): 86%\n",
      "Progress (loop 1 of 3): 87%\n",
      "Progress (loop 1 of 3): 88%\n",
      "Progress (loop 1 of 3): 89%\n",
      "Progress (loop 1 of 3): 90%\n",
      "Progress (loop 1 of 3): 91%\n",
      "Progress (loop 1 of 3): 92%\n",
      "Progress (loop 1 of 3): 93%\n",
      "Progress (loop 1 of 3): 94%\n",
      "Progress (loop 1 of 3): 95%\n",
      "Progress (loop 1 of 3): 96%\n",
      "Progress (loop 1 of 3): 97%\n",
      "Progress (loop 1 of 3): 98%\n",
      "Progress (loop 1 of 3): 99%\n",
      "Progress (loop 1 of 3): 100%\n",
      "Reading data...\n",
      "Progress (loop 2 of 3): 0%\n",
      "Progress (loop 2 of 3): 1%\n",
      "Progress (loop 2 of 3): 2%\n",
      "Progress (loop 2 of 3): 3%\n",
      "Progress (loop 2 of 3): 4%\n",
      "Progress (loop 2 of 3): 5%\n",
      "Progress (loop 2 of 3): 6%\n",
      "Progress (loop 2 of 3): 7%\n",
      "Progress (loop 2 of 3): 8%\n",
      "Progress (loop 2 of 3): 9%\n",
      "Progress (loop 2 of 3): 10%\n",
      "Progress (loop 2 of 3): 11%\n",
      "Progress (loop 2 of 3): 12%\n",
      "Progress (loop 2 of 3): 13%\n",
      "Progress (loop 2 of 3): 14%\n",
      "Progress (loop 2 of 3): 15%\n",
      "Progress (loop 2 of 3): 16%\n",
      "Progress (loop 2 of 3): 17%\n",
      "Progress (loop 2 of 3): 18%\n",
      "Progress (loop 2 of 3): 19%\n",
      "Progress (loop 2 of 3): 20%\n",
      "Progress (loop 2 of 3): 21%\n",
      "Progress (loop 2 of 3): 22%\n",
      "Progress (loop 2 of 3): 23%\n",
      "Progress (loop 2 of 3): 24%\n",
      "Progress (loop 2 of 3): 25%\n",
      "Progress (loop 2 of 3): 26%\n",
      "Progress (loop 2 of 3): 27%\n",
      "Progress (loop 2 of 3): 28%\n",
      "Progress (loop 2 of 3): 29%\n",
      "Progress (loop 2 of 3): 30%\n",
      "Progress (loop 2 of 3): 31%\n",
      "Progress (loop 2 of 3): 32%\n",
      "Progress (loop 2 of 3): 33%\n",
      "Progress (loop 2 of 3): 34%\n",
      "Progress (loop 2 of 3): 35%\n",
      "Progress (loop 2 of 3): 36%\n",
      "Progress (loop 2 of 3): 37%\n",
      "Progress (loop 2 of 3): 38%\n",
      "Progress (loop 2 of 3): 39%\n",
      "Progress (loop 2 of 3): 40%\n",
      "Progress (loop 2 of 3): 41%\n",
      "Progress (loop 2 of 3): 42%\n",
      "Progress (loop 2 of 3): 43%\n",
      "Progress (loop 2 of 3): 44%\n",
      "Progress (loop 2 of 3): 45%\n",
      "Progress (loop 2 of 3): 46%\n",
      "Progress (loop 2 of 3): 47%\n",
      "Progress (loop 2 of 3): 48%\n",
      "Progress (loop 2 of 3): 49%\n",
      "Progress (loop 2 of 3): 50%\n",
      "Progress (loop 2 of 3): 51%\n",
      "Progress (loop 2 of 3): 52%\n",
      "Progress (loop 2 of 3): 53%\n",
      "Progress (loop 2 of 3): 54%\n",
      "Progress (loop 2 of 3): 55%\n",
      "Progress (loop 2 of 3): 56%\n",
      "Progress (loop 2 of 3): 57%\n",
      "Progress (loop 2 of 3): 58%\n",
      "Progress (loop 2 of 3): 59%\n",
      "Progress (loop 2 of 3): 60%\n",
      "Progress (loop 2 of 3): 61%\n",
      "Progress (loop 2 of 3): 62%\n",
      "Progress (loop 2 of 3): 63%\n",
      "Progress (loop 2 of 3): 64%\n",
      "Progress (loop 2 of 3): 65%\n",
      "Progress (loop 2 of 3): 66%\n",
      "Progress (loop 2 of 3): 67%\n",
      "Progress (loop 2 of 3): 68%\n",
      "Progress (loop 2 of 3): 69%\n",
      "Progress (loop 2 of 3): 70%\n",
      "Progress (loop 2 of 3): 71%\n",
      "Progress (loop 2 of 3): 72%\n",
      "Progress (loop 2 of 3): 73%\n",
      "Progress (loop 2 of 3): 74%\n",
      "Progress (loop 2 of 3): 75%\n",
      "Progress (loop 2 of 3): 76%\n",
      "Progress (loop 2 of 3): 77%\n",
      "Progress (loop 2 of 3): 78%\n",
      "Progress (loop 2 of 3): 79%\n",
      "Progress (loop 2 of 3): 80%\n",
      "Progress (loop 2 of 3): 81%\n",
      "Progress (loop 2 of 3): 82%\n",
      "Progress (loop 2 of 3): 83%\n",
      "Progress (loop 2 of 3): 84%\n",
      "Progress (loop 2 of 3): 85%\n",
      "Progress (loop 2 of 3): 86%\n",
      "Progress (loop 2 of 3): 87%\n",
      "Progress (loop 2 of 3): 88%\n",
      "Progress (loop 2 of 3): 89%\n",
      "Progress (loop 2 of 3): 90%\n",
      "Progress (loop 2 of 3): 91%\n",
      "Progress (loop 2 of 3): 92%\n",
      "Progress (loop 2 of 3): 93%\n",
      "Progress (loop 2 of 3): 94%\n",
      "Progress (loop 2 of 3): 95%\n",
      "Progress (loop 2 of 3): 96%\n",
      "Progress (loop 2 of 3): 97%\n",
      "Progress (loop 2 of 3): 98%\n",
      "Progress (loop 2 of 3): 99%\n",
      "Progress (loop 2 of 3): 100%\n",
      "Progress (loop 3 of 3): 0%\n",
      "Progress (loop 3 of 3): 1%\n",
      "Progress (loop 3 of 3): 2%\n",
      "Progress (loop 3 of 3): 3%\n",
      "Progress (loop 3 of 3): 4%\n",
      "Progress (loop 3 of 3): 5%\n",
      "Progress (loop 3 of 3): 6%\n",
      "Progress (loop 3 of 3): 7%\n",
      "Progress (loop 3 of 3): 8%\n",
      "Progress (loop 3 of 3): 9%\n",
      "Progress (loop 3 of 3): 10%\n",
      "Progress (loop 3 of 3): 11%\n",
      "Progress (loop 3 of 3): 12%\n",
      "Progress (loop 3 of 3): 13%\n",
      "Progress (loop 3 of 3): 14%\n",
      "Progress (loop 3 of 3): 15%\n",
      "Progress (loop 3 of 3): 16%\n",
      "Progress (loop 3 of 3): 17%\n",
      "Progress (loop 3 of 3): 18%\n",
      "Progress (loop 3 of 3): 19%\n",
      "Progress (loop 3 of 3): 20%\n",
      "Progress (loop 3 of 3): 21%\n",
      "Progress (loop 3 of 3): 22%\n",
      "Progress (loop 3 of 3): 23%\n",
      "Progress (loop 3 of 3): 24%\n",
      "Progress (loop 3 of 3): 25%\n",
      "Progress (loop 3 of 3): 26%\n",
      "Progress (loop 3 of 3): 27%\n",
      "Progress (loop 3 of 3): 28%\n",
      "Progress (loop 3 of 3): 29%\n",
      "Progress (loop 3 of 3): 30%\n",
      "Progress (loop 3 of 3): 31%\n",
      "Progress (loop 3 of 3): 32%\n",
      "Progress (loop 3 of 3): 33%\n",
      "Progress (loop 3 of 3): 34%\n",
      "Progress (loop 3 of 3): 35%\n",
      "Progress (loop 3 of 3): 36%\n",
      "Progress (loop 3 of 3): 37%\n",
      "Progress (loop 3 of 3): 38%\n",
      "Progress (loop 3 of 3): 39%\n",
      "Progress (loop 3 of 3): 40%\n",
      "Progress (loop 3 of 3): 41%\n",
      "Progress (loop 3 of 3): 42%\n",
      "Progress (loop 3 of 3): 43%\n",
      "Progress (loop 3 of 3): 44%\n",
      "Progress (loop 3 of 3): 45%\n",
      "Progress (loop 3 of 3): 46%\n",
      "Progress (loop 3 of 3): 47%\n",
      "Progress (loop 3 of 3): 48%\n",
      "Progress (loop 3 of 3): 49%\n",
      "Progress (loop 3 of 3): 50%\n",
      "Progress (loop 3 of 3): 51%\n",
      "Progress (loop 3 of 3): 52%\n",
      "Progress (loop 3 of 3): 53%\n",
      "Progress (loop 3 of 3): 54%\n",
      "Progress (loop 3 of 3): 55%\n",
      "Progress (loop 3 of 3): 56%\n",
      "Progress (loop 3 of 3): 57%\n",
      "Progress (loop 3 of 3): 58%\n",
      "Progress (loop 3 of 3): 59%\n",
      "Progress (loop 3 of 3): 60%\n",
      "Progress (loop 3 of 3): 61%\n",
      "Progress (loop 3 of 3): 62%\n",
      "Progress (loop 3 of 3): 63%\n",
      "Progress (loop 3 of 3): 64%\n",
      "Progress (loop 3 of 3): 65%\n",
      "Progress (loop 3 of 3): 66%\n",
      "Progress (loop 3 of 3): 67%\n",
      "Progress (loop 3 of 3): 68%\n",
      "Progress (loop 3 of 3): 69%\n",
      "Progress (loop 3 of 3): 70%\n",
      "Progress (loop 3 of 3): 71%\n",
      "Progress (loop 3 of 3): 72%\n",
      "Progress (loop 3 of 3): 73%\n",
      "Progress (loop 3 of 3): 74%\n",
      "Progress (loop 3 of 3): 75%\n",
      "Progress (loop 3 of 3): 76%\n",
      "Progress (loop 3 of 3): 77%\n",
      "Progress (loop 3 of 3): 78%\n",
      "Progress (loop 3 of 3): 79%\n",
      "Progress (loop 3 of 3): 80%\n",
      "Progress (loop 3 of 3): 81%\n",
      "Progress (loop 3 of 3): 82%\n",
      "Progress (loop 3 of 3): 83%\n",
      "Progress (loop 3 of 3): 84%\n",
      "Progress (loop 3 of 3): 85%\n",
      "Progress (loop 3 of 3): 86%\n",
      "Progress (loop 3 of 3): 87%\n",
      "Progress (loop 3 of 3): 88%\n",
      "Progress (loop 3 of 3): 89%\n",
      "Progress (loop 3 of 3): 90%\n",
      "Progress (loop 3 of 3): 91%\n",
      "Progress (loop 3 of 3): 92%\n",
      "Progress (loop 3 of 3): 93%\n",
      "Progress (loop 3 of 3): 94%\n",
      "Progress (loop 3 of 3): 95%\n",
      "Progress (loop 3 of 3): 96%\n",
      "Progress (loop 3 of 3): 97%\n",
      "Progress (loop 3 of 3): 98%\n",
      "Progress (loop 3 of 3): 99%\n",
      "Progress (loop 3 of 3): 100%\n",
      "Saving data...\n",
      "Output file written\n",
      "Elapsed Time (including I/O): 28.705s\n"
     ]
    },
    {
     "data": {
      "text/plain": [
       "0"
      ]
     },
     "execution_count": 57,
     "metadata": {},
     "output_type": "execute_result"
    }
   ],
   "source": [
    "import whitebox\n",
    "\n",
    "wbt = whitebox.WhiteboxTools()\n",
    "wbt.work_dir = '/Users/zachkeskinen/Documents/uavsar/data/dc_lidar/lidar/'\n",
    "\n",
    "wbt.average_overlay(inputs='20210303_DC-canopyheight.tif;20210310_DC-canopyheight.tif', output='canopy_merged.tif')"
   ]
  },
  {
   "cell_type": "code",
   "execution_count": 10,
   "metadata": {},
   "outputs": [],
   "source": [
    "can = rxa.open_rasterio('/Users/zachkeskinen/Documents/uavsar/data/dc_lidar/lidar/canopy_merged.tif')"
   ]
  },
  {
   "cell_type": "markdown",
   "metadata": {},
   "source": [
    "## reproject match"
   ]
  },
  {
   "cell_type": "code",
   "execution_count": 38,
   "metadata": {},
   "outputs": [],
   "source": [
    "s1f = '/Users/zachkeskinen/Documents/uavsar/data/dc_lidar/lidar/20210303_DC-snowdepth.tif'\n",
    "s2f = '/Users/zachkeskinen/Documents/uavsar/data/dc_lidar/lidar/20210310_DC-snowdepth.tif'\n",
    "s1 = rxa.open_rasterio(s1f)\n",
    "s2 = rxa.open_rasterio(s2f)\n",
    "\n",
    "corf = '/Users/zachkeskinen/Documents/uavsar/data/dc_lidar/uavsar/lowman_05208_21015-009_21017-019_0007d_s01_L090_01_int_grd/lowman_05208_21015-009_21017-019_0007d_s01_L090HH_01.cor.grd.tiff'\n",
    "corHH = rxa.open_rasterio(corf, masked = True)\n",
    "s1_repro = s1.rio.reproject(corHH.rio.crs)\n",
    "corHH = corHH.rio.clip_box(*s1_repro.rio.bounds())\n",
    "\n",
    "bare_earth = rxa.open_rasterio('/Users/zachkeskinen/Documents/uavsar/data/dc_lidar/lidar/DC_REFDEM_WGS84.tif', masked = True)"
   ]
  },
  {
   "cell_type": "code",
   "execution_count": 40,
   "metadata": {},
   "outputs": [],
   "source": [
    "s1_re = s1.rio.reproject_match(corHH)\n",
    "s1_re = s1_re.assign_coords({\n",
    "    \"x\": corHH.x,\n",
    "    \"y\": corHH.y,\n",
    "})\n",
    "\n",
    "s2_re = s2.rio.reproject_match(corHH)\n",
    "s2_re = s2_re.assign_coords({\n",
    "    \"x\": corHH.x,\n",
    "    \"y\": corHH.y,\n",
    "})\n",
    "\n",
    "can = can.rio.reproject_match(corHH)\n",
    "can = can.assign_coords({\n",
    "    \"x\": corHH.x,\n",
    "    \"y\": corHH.y,\n",
    "})\n",
    "\n",
    "bare_earth = bare_earth.rio.reproject_match(corHH)\n",
    "bare_earth = bare_earth.assign_coords({\n",
    "    \"x\": corHH.x,\n",
    "    \"y\": corHH.y,\n",
    "})"
   ]
  },
  {
   "cell_type": "code",
   "execution_count": 42,
   "metadata": {},
   "outputs": [],
   "source": [
    "diff = s2_re - s1_re\n",
    "diff.rio.to_raster('/Users/zachkeskinen/Documents/uavsar/data/dc_lidar/lidar/snow_diff.tif')"
   ]
  },
  {
   "cell_type": "code",
   "execution_count": 43,
   "metadata": {},
   "outputs": [],
   "source": [
    "ds = xa.Dataset({\n",
    "    'sd_diff': diff,\n",
    "    'canopy': can,\n",
    "    'sd1': s1_re,\n",
    "    'sd2':s2_re,\n",
    "    'bare_earth':bare_earth\n",
    "})\n",
    "ds['canopy'].values[ds['canopy'].values == -32768] = np.nan\n",
    "ds['sd_diff'].values[ds['sd_diff'].values == 0] = np.nan"
   ]
  },
  {
   "cell_type": "code",
   "execution_count": 44,
   "metadata": {},
   "outputs": [],
   "source": [
    "for dir in ['052', '232']:\n",
    "    if dir == '052':\n",
    "        us_fp = '/Users/zachkeskinen/Documents/uavsar/data/dc_lidar/uavsar/lowman_05208_21015-009_21017-019_0007d_s01_L090_01_int_grd'\n",
    "    else:\n",
    "        us_fp = '/Users/zachkeskinen/Documents/uavsar/data/dc_lidar/uavsar/lowman_23205_21015-008_21017-018_0007d_s01_L090_01_int_grd'\n",
    "    for type in ['cor','unw']:\n",
    "        for pol in ['VV','VH','HV','HH']:\n",
    "            for f in glob(join(us_fp, f'*{pol}*.{type}*.tiff')):\n",
    "                i = rxa.open_rasterio(f)\n",
    "                i = i.rio.clip_box(*s1_repro.rio.bounds())\n",
    "                ds[f'{dir}_{type}_{pol}'] = (i.dims, i.values)\n",
    "                \n",
    "for dir in ['052', '232']:\n",
    "    if dir == '052':\n",
    "        amp_fp = '/Users/zachkeskinen/Documents/uavsar/data/dc_lidar/uavsar/lowman_05208_21015-009_21017-019_0007d_s01_L090_01_amp_grd'\n",
    "    else:\n",
    "        amp_fp = '/Users/zachkeskinen/Documents/uavsar/data/dc_lidar/uavsar/lowman_23205_21015-008_21017-018_0007d_s01_L090_01_amp_grd'\n",
    "    for type in ['amp1','amp2']:\n",
    "        for pol in ['VV','VH','HV','HH']:\n",
    "            for f in glob(join(amp_fp, f'*{pol}*.{type}*.tiff')):\n",
    "                i = rxa.open_rasterio(f)\n",
    "                i = i.rio.clip_box(*s1_repro.rio.bounds())\n",
    "                ds[f'{dir}_{type}_{pol}'] = (i.dims, i.values)\n",
    "for dir in ['052', '232']:\n",
    "    if dir == '052':\n",
    "        k = 9\n",
    "        l = 8\n",
    "    else:\n",
    "        k = 8\n",
    "        l = 5\n",
    "    inc_fp = f'/Users/zachkeskinen/Documents/uavsar/data/dc_lidar/uavsar/lowman_{dir}0{l}_21015_00{k}_210303_L090_CX_01.inc.tiff'\n",
    "    i = rxa.open_rasterio(inc_fp)\n",
    "    i = i.rio.clip_box(*s1_repro.rio.bounds())\n",
    "    ds[f'{dir}_inc'] = ( i.dims, i.values)"
   ]
  },
  {
   "cell_type": "code",
   "execution_count": 45,
   "metadata": {},
   "outputs": [],
   "source": [
    "for name in ds.data_vars:\n",
    "    if 'unw' in name and 'sd' not in name:\n",
    "        da = ds[name]\n",
    "        if '052' in name:\n",
    "            inc = ds[f'052_inc']\n",
    "        elif '232' in name:\n",
    "            inc = ds[f'232_inc']\n",
    "        phase_ideal = phase_from_depth(ds['sd_diff'].mean().values.ravel()[0], inc[0,1000,1000].values, density = 250)\n",
    "        phase_real = da.mean().values.ravel()[0]\n",
    "        # i = j = 0\n",
    "        # while np.isnan(phase_ideal) or np.isnan(phase_real):\n",
    "        #     if 1000 + i == ds['sd_diff'].shape[1]-1:\n",
    "        #         j += 1\n",
    "        #         i = 0\n",
    "        #     phase_ideal = phase_from_depth(ds['sd_diff'][0,1000+i,1000+j].values, inc[0,1000+i,1000+j].values, density = 250)\n",
    "        #     phase_real = da[0,0+i,1000+j].values\n",
    "        #     print(phase_ideal, phase_real)\n",
    "        #     i += 1\n",
    "        shift = phase_real - phase_ideal\n",
    "        da_cor = da - shift\n",
    "        ds_unw = depth_from_phase(da_cor.values[0], inc.values[0], density = 250)\n",
    "        ds[f'{name}_sd'] = (da_cor.dims, ds_unw.reshape(1, 1872, 1519))"
   ]
  },
  {
   "cell_type": "code",
   "execution_count": 46,
   "metadata": {},
   "outputs": [
    {
     "data": {
      "text/plain": [
       "<matplotlib.collections.QuadMesh at 0x7f9af7fb4160>"
      ]
     },
     "execution_count": 46,
     "metadata": {},
     "output_type": "execute_result"
    },
    {
     "data": {
      "image/png": "[encoded data removed]",
      "text/plain": [
       "<Figure size 432x288 with 2 Axes>"
      ]
     },
     "metadata": {
      "needs_background": "light"
     },
     "output_type": "display_data"
    }
   ],
   "source": [
    "ds['bare_earth'].plot(vmin = 1000, vmax = 3000)"
   ]
  },
  {
   "cell_type": "code",
   "execution_count": 47,
   "metadata": {},
   "outputs": [],
   "source": [
    "ds.to_netcdf(join('/Users/zachkeskinen/Documents/uavsar/data/dc_lidar','ds-lidar-us5.nc'))"
   ]
  },
  {
   "cell_type": "code",
   "execution_count": null,
   "metadata": {},
   "outputs": [],
   "source": []
  }
 ],
 "metadata": {
  "kernelspec": {
   "display_name": "Python 3.9.12 ('uavsar')",
   "language": "python",
   "name": "python3"
  },
  "language_info": {
   "codemirror_mode": {
    "name": "ipython",
    "version": 3
   },
   "file_extension": ".py",
   "mimetype": "text/x-python",
   "name": "python",
   "nbconvert_exporter": "python",
   "pygments_lexer": "ipython3",
   "version": "3.9.12"
  },
  "orig_nbformat": 4,
  "vscode": {
   "interpreter": {
    "hash": "ba8967e065a58c806f1bdb735567067b52f77062b6ff6cacc1c3011561bd9c8e"
   }
  }
 },
 "nbformat": 4,
 "nbformat_minor": 2
}
