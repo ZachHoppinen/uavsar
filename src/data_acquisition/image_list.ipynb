{
 "cells": [
  {
   "cell_type": "code",
   "execution_count": 2,
   "metadata": {},
   "outputs": [],
   "source": [
    "from glob import glob\n",
    "import os\n",
    "from os.path import basename, dirname, join, exists, expanduser\n",
    "import pandas as pd\n",
    "import numpy as np\n",
    "# from uavsar_pytools import UavsarCollection\n",
    "import pickle\n",
    "\n",
    "data_dir = '/bsuscratch/zacharykeskinen/data/uavsar/images'"
   ]
  },
  {
   "cell_type": "code",
   "execution_count": 3,
   "metadata": {},
   "outputs": [],
   "source": [
    "image_fps = []\n",
    "for loc_dir in glob(join(data_dir, '*')):\n",
    "    for img_dir in glob(join(loc_dir, '*')):\n",
    "        if not img_dir.endswith('tmp'):\n",
    "            for f in glob(join(img_dir, '*unw.grd.tiff')):\n",
    "                csv_fp = glob(join(img_dir, '*.csv'))[0]\n",
    "                inc_fp = glob(join(img_dir, '*.inc.tiff'))[0]\n",
    "                d = {}\n",
    "                d['fp'] = f\n",
    "                d['ann'] = csv_fp\n",
    "                d['inc'] = inc_fp\n",
    "                d['cor'] = f.replace('unw','cor')\n",
    "                d['location'] = basename(loc_dir)\n",
    "                image_fps.append(d)"
   ]
  },
  {
   "cell_type": "code",
   "execution_count": 4,
   "metadata": {},
   "outputs": [
    {
     "data": {
      "text/plain": [
       "'/bsuscratch/zacharykeskinen/data/uavsar/images/Eldorado National Forest, CA/dorado_34017_20006-004_20009-025_0007d_s01_L090_01_int_grd/dorado_34017_20006-004_20009-025_0007d_s01_L090_01_int_grd.csv'"
      ]
     },
     "execution_count": 4,
     "metadata": {},
     "output_type": "execute_result"
    }
   ],
   "source": [
    "image_fps[20]['ann']"
   ]
  },
  {
   "cell_type": "code",
   "execution_count": 21,
   "metadata": {},
   "outputs": [],
   "source": [
    "with open(expanduser('~/scratch/data/uavsar/image_fps'), 'wb') as f:\n",
    "    pickle.dump(image_fps, f)"
   ]
  },
  {
   "cell_type": "code",
   "execution_count": null,
   "metadata": {},
   "outputs": [],
   "source": []
  }
 ],
 "metadata": {
  "interpreter": {
   "hash": "be18628f3b6aaaf0d9a50c1a0a68c0122e22b01f7b4495836f3dc0caac12767e"
  },
  "kernelspec": {
   "display_name": "Python 3.9.12 ('proj')",
   "language": "python",
   "name": "python3"
  },
  "language_info": {
   "codemirror_mode": {
    "name": "ipython",
    "version": 3
   },
   "file_extension": ".py",
   "mimetype": "text/x-python",
   "name": "python",
   "nbconvert_exporter": "python",
   "pygments_lexer": "ipython3",
   "version": "3.9.12"
  },
  "orig_nbformat": 4
 },
 "nbformat": 4,
 "nbformat_minor": 2
}
