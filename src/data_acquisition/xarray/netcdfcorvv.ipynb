{
 "cells": [
  {
   "cell_type": "code",
   "execution_count": 1,
   "metadata": {},
   "outputs": [],
   "source": [
    "import os\n",
    "from os.path import join, exists, basename, dirname, expanduser\n",
    "from glob import glob\n",
    "import pickle\n",
    "import numpy as np\n",
    "import pandas as pd\n",
    "import matplotlib.pyplot as plt\n",
    "import xarray as xr\n",
    "import rioxarray as rxa\n",
    "import geopandas as gpd\n",
    "\n",
    "from rasterio.enums import Resampling\n",
    "import py3dep\n",
    "\n",
    "with open(expanduser('~/scratch/data/uavsar/image_fps'), 'rb') as f:\n",
    "    image_fps = pickle.load(f)\n",
    "\n",
    "image_fps = [f for f in image_fps if f['fp'].endswith('.unw.grd.tiff')]\n",
    "netcdf_fps = '/bsuhome/zacharykeskinen/scratch/data/uavsar/images/vv_coherence'"
   ]
  },
  {
   "cell_type": "code",
   "execution_count": 2,
   "metadata": {},
   "outputs": [],
   "source": [
    "from math import cos, sin, asin, sqrt, radians\n",
    "def calc_distance(lat1, lon1, lat2, lon2):\n",
    "    \"\"\"\n",
    "    Calculate the great circle distance between two points\n",
    "    on the earth (specified in decimal degrees)\n",
    "    \"\"\"\n",
    "    # convert decimal degrees to radians\n",
    "    lon1, lat1, lon2, lat2 = map(radians, [lon1, lat1, lon2, lat2])\n",
    "    # haversine formula\n",
    "    dlon = lon2 - lon1\n",
    "    dlat = lat2 - lat1\n",
    "    a = sin(dlat / 2) ** 2 + cos(lat1) * cos(lat2) * sin(dlon / 2) ** 2\n",
    "    c = 2 * asin(sqrt(a))\n",
    "    km = 6371 * c\n",
    "    return km"
   ]
  },
  {
   "cell_type": "code",
   "execution_count": 3,
   "metadata": {},
   "outputs": [
    {
     "name": "stdout",
     "output_type": "stream",
     "text": [
      "Utica, MT\n",
      "0.1."
     ]
    },
    {
     "ename": "NameError",
     "evalue": "name 'sitename' is not defined",
     "output_type": "error",
     "traceback": [
      "\u001b[0;31m---------------------------------------------------------------------------\u001b[0m",
      "\u001b[0;31mNameError\u001b[0m                                 Traceback (most recent call last)",
      "\u001b[1;32m/bsuhome/zacharykeskinen/uavsar/src/data_acquisition/xarray/netcdfcorvv.ipynb Cell 3\u001b[0m in \u001b[0;36m<cell line: 1>\u001b[0;34m()\u001b[0m\n\u001b[1;32m     <a href='vscode-notebook-cell://ssh-remote%2Bborah/bsuhome/zacharykeskinen/uavsar/src/data_acquisition/xarray/netcdfcorvv.ipynb#W2sdnNjb2RlLXJlbW90ZQ%3D%3D?line=34'>35</a>\u001b[0m         cor_coarse \u001b[39m=\u001b[39m cor\u001b[39m.\u001b[39mrio\u001b[39m.\u001b[39mreproject_match(cor_base)\n\u001b[1;32m     <a href='vscode-notebook-cell://ssh-remote%2Bborah/bsuhome/zacharykeskinen/uavsar/src/data_acquisition/xarray/netcdfcorvv.ipynb#W2sdnNjb2RlLXJlbW90ZQ%3D%3D?line=35'>36</a>\u001b[0m     cor_vv[i] \u001b[39m=\u001b[39m cor_coarse\u001b[39m.\u001b[39mvalues[\u001b[39m0\u001b[39m]\n\u001b[1;32m     <a href='vscode-notebook-cell://ssh-remote%2Bborah/bsuhome/zacharykeskinen/uavsar/src/data_acquisition/xarray/netcdfcorvv.ipynb#W2sdnNjb2RlLXJlbW90ZQ%3D%3D?line=37'>38</a>\u001b[0m cor_vv \u001b[39m=\u001b[39m xr\u001b[39m.\u001b[39mDataset(\n\u001b[1;32m     <a href='vscode-notebook-cell://ssh-remote%2Bborah/bsuhome/zacharykeskinen/uavsar/src/data_acquisition/xarray/netcdfcorvv.ipynb#W2sdnNjb2RlLXJlbW90ZQ%3D%3D?line=38'>39</a>\u001b[0m     data_vars \u001b[39m=\u001b[39m \u001b[39mdict\u001b[39m(\n\u001b[1;32m     <a href='vscode-notebook-cell://ssh-remote%2Bborah/bsuhome/zacharykeskinen/uavsar/src/data_acquisition/xarray/netcdfcorvv.ipynb#W2sdnNjb2RlLXJlbW90ZQ%3D%3D?line=39'>40</a>\u001b[0m         cor_vv \u001b[39m=\u001b[39m ([\u001b[39m\"\u001b[39m\u001b[39mband\u001b[39m\u001b[39m\"\u001b[39m, \u001b[39m\"\u001b[39m\u001b[39my\u001b[39m\u001b[39m\"\u001b[39m, \u001b[39m\"\u001b[39m\u001b[39mx\u001b[39m\u001b[39m\"\u001b[39m], cor_vv)\n\u001b[1;32m     <a href='vscode-notebook-cell://ssh-remote%2Bborah/bsuhome/zacharykeskinen/uavsar/src/data_acquisition/xarray/netcdfcorvv.ipynb#W2sdnNjb2RlLXJlbW90ZQ%3D%3D?line=40'>41</a>\u001b[0m     ),\n\u001b[1;32m     <a href='vscode-notebook-cell://ssh-remote%2Bborah/bsuhome/zacharykeskinen/uavsar/src/data_acquisition/xarray/netcdfcorvv.ipynb#W2sdnNjb2RlLXJlbW90ZQ%3D%3D?line=41'>42</a>\u001b[0m     coords \u001b[39m=\u001b[39m \u001b[39mdict\u001b[39m(\n\u001b[1;32m     <a href='vscode-notebook-cell://ssh-remote%2Bborah/bsuhome/zacharykeskinen/uavsar/src/data_acquisition/xarray/netcdfcorvv.ipynb#W2sdnNjb2RlLXJlbW90ZQ%3D%3D?line=42'>43</a>\u001b[0m         lon \u001b[39m=\u001b[39m ([\u001b[39m\"\u001b[39m\u001b[39mx\u001b[39m\u001b[39m\"\u001b[39m], cor_coarse\u001b[39m.\u001b[39mx\u001b[39m.\u001b[39mdata),\n\u001b[1;32m     <a href='vscode-notebook-cell://ssh-remote%2Bborah/bsuhome/zacharykeskinen/uavsar/src/data_acquisition/xarray/netcdfcorvv.ipynb#W2sdnNjb2RlLXJlbW90ZQ%3D%3D?line=43'>44</a>\u001b[0m         lat \u001b[39m=\u001b[39m ([\u001b[39m\"\u001b[39m\u001b[39my\u001b[39m\u001b[39m\"\u001b[39m], cor_coarse\u001b[39m.\u001b[39my\u001b[39m.\u001b[39mdata),\n\u001b[1;32m     <a href='vscode-notebook-cell://ssh-remote%2Bborah/bsuhome/zacharykeskinen/uavsar/src/data_acquisition/xarray/netcdfcorvv.ipynb#W2sdnNjb2RlLXJlbW90ZQ%3D%3D?line=44'>45</a>\u001b[0m         band \u001b[39m=\u001b[39m bands\n\u001b[1;32m     <a href='vscode-notebook-cell://ssh-remote%2Bborah/bsuhome/zacharykeskinen/uavsar/src/data_acquisition/xarray/netcdfcorvv.ipynb#W2sdnNjb2RlLXJlbW90ZQ%3D%3D?line=45'>46</a>\u001b[0m     ),\n\u001b[0;32m---> <a href='vscode-notebook-cell://ssh-remote%2Bborah/bsuhome/zacharykeskinen/uavsar/src/data_acquisition/xarray/netcdfcorvv.ipynb#W2sdnNjb2RlLXJlbW90ZQ%3D%3D?line=46'>47</a>\u001b[0m     attrs \u001b[39m=\u001b[39m \u001b[39mdict\u001b[39m(description \u001b[39m=\u001b[39m \u001b[39mf\u001b[39m\u001b[39m\"\u001b[39m\u001b[39mCoherence for VV over \u001b[39m\u001b[39m{\u001b[39;00msitename\u001b[39m}\u001b[39;00m\u001b[39m\"\u001b[39m)\n\u001b[1;32m     <a href='vscode-notebook-cell://ssh-remote%2Bborah/bsuhome/zacharykeskinen/uavsar/src/data_acquisition/xarray/netcdfcorvv.ipynb#W2sdnNjb2RlLXJlbW90ZQ%3D%3D?line=47'>48</a>\u001b[0m )\n\u001b[1;32m     <a href='vscode-notebook-cell://ssh-remote%2Bborah/bsuhome/zacharykeskinen/uavsar/src/data_acquisition/xarray/netcdfcorvv.ipynb#W2sdnNjb2RlLXJlbW90ZQ%3D%3D?line=48'>49</a>\u001b[0m cor_vv[\u001b[39m'\u001b[39m\u001b[39mx\u001b[39m\u001b[39m'\u001b[39m] \u001b[39m=\u001b[39m cor_coarse\u001b[39m.\u001b[39mx\n\u001b[1;32m     <a href='vscode-notebook-cell://ssh-remote%2Bborah/bsuhome/zacharykeskinen/uavsar/src/data_acquisition/xarray/netcdfcorvv.ipynb#W2sdnNjb2RlLXJlbW90ZQ%3D%3D?line=49'>50</a>\u001b[0m cor_vv[\u001b[39m'\u001b[39m\u001b[39my\u001b[39m\u001b[39m'\u001b[39m] \u001b[39m=\u001b[39m cor_coarse\u001b[39m.\u001b[39my\n",
      "\u001b[0;31mNameError\u001b[0m: name 'sitename' is not defined"
     ]
    }
   ],
   "source": [
    "for name in glob(join('/bsuhome/zacharykeskinen/scratch/data/uavsar/images','*,*')):\n",
    "    site_name = basename(name)\n",
    "    print(site_name)\n",
    "    l_fps = []\n",
    "    for fps in image_fps:\n",
    "        if fps['location'] == site_name:\n",
    "            if fps['pol'] == 'VV':\n",
    "                l_fps.append(fps)\n",
    "    if len(l_fps)> 0:\n",
    "        bands = []\n",
    "        for i, fps in enumerate(l_fps):\n",
    "            print(i, end = '.')\n",
    "            name = basename(fps['fp'])\n",
    "            name = '_'.join(name.split('.')[0].split('_')[:5])\n",
    "            bands.append(name)\n",
    "            cor = rxa.open_rasterio(fps['cor'])\n",
    "            desc = pd.read_csv(fps['ann'])\n",
    "            if i == 0:\n",
    "                # dem = rxa.open_rasterio(fps['hgt'])\n",
    "                # calculate how to get to 30 metere resolution from 0.0005 degrees\n",
    "                new_res_m = 30\n",
    "                y1 = float(desc['grd.row_addr'][0])\n",
    "                dy = float(desc['grd.row_mult'][0])\n",
    "                x1 = float(desc['grd.col_addr'][0])\n",
    "                dx = float(desc['grd.col_mult'][0])\n",
    "                conversion = (new_res_m/1000) / calc_distance(y1, x1, y1+dy, x1 + dx)\n",
    "                cor_coarse = cor.rio.reproject(cor.rio.crs, \\\n",
    "                                                shape = (int(cor.rio.height/conversion), int(cor.rio.width/conversion)),\n",
    "                                                resampling = Resampling.average)\n",
    "                cor_base = cor_coarse.copy()\n",
    "                # dem = dem.rio.reproject_match(cor_base)\n",
    "                cor_coarse.values[0]\n",
    "                cor_vv = np.zeros((len(l_fps), *cor_coarse.values[0].shape))\n",
    "            else:\n",
    "                cor_coarse = cor.rio.reproject_match(cor_base)\n",
    "            cor_vv[i] = cor_coarse.values[0]\n",
    "\n",
    "        cor_vv = xr.Dataset(\n",
    "            data_vars = dict(\n",
    "                cor_vv = ([\"band\", \"y\", \"x\"], cor_vv)\n",
    "            ),\n",
    "            coords = dict(\n",
    "                lon = ([\"x\"], cor_coarse.x.data),\n",
    "                lat = ([\"y\"], cor_coarse.y.data),\n",
    "                band = bands\n",
    "            ),\n",
    "            attrs = dict(description = f\"Coherence for VV over {sitename}\")\n",
    "        )\n",
    "        cor_vv['x'] = cor_coarse.x\n",
    "        cor_vv['y'] = cor_coarse.y\n",
    "        with open(join(netcdf_fps, site_name.replace(' ','_')+'.pkl'), 'wb') as f:\n",
    "            pickle.dump(cor_vv, f)"
   ]
  },
  {
   "cell_type": "code",
   "execution_count": null,
   "metadata": {},
   "outputs": [],
   "source": []
  }
 ],
 "metadata": {
  "kernelspec": {
   "display_name": "Python 3.9.13 ('proj')",
   "language": "python",
   "name": "python3"
  },
  "language_info": {
   "codemirror_mode": {
    "name": "ipython",
    "version": 3
   },
   "file_extension": ".py",
   "mimetype": "text/x-python",
   "name": "python",
   "nbconvert_exporter": "python",
   "pygments_lexer": "ipython3",
   "version": "3.9.13"
  },
  "orig_nbformat": 4,
  "vscode": {
   "interpreter": {
    "hash": "be18628f3b6aaaf0d9a50c1a0a68c0122e22b01f7b4495836f3dc0caac12767e"
   }
  }
 },
 "nbformat": 4,
 "nbformat_minor": 2
}
