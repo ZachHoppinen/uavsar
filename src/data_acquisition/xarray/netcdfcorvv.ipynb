{
 "cells": [
  {
   "cell_type": "code",
   "execution_count": 10,
   "metadata": {},
   "outputs": [],
   "source": [
    "import os\n",
    "from os.path import join, exists, basename, dirname, expanduser\n",
    "from glob import glob\n",
    "import pickle\n",
    "import numpy as np\n",
    "import pandas as pd\n",
    "import matplotlib.pyplot as plt\n",
    "import xarray as xr\n",
    "import rioxarray as rxa\n",
    "import geopandas as gpd\n",
    "\n",
    "from rasterio.enums import Resampling\n",
    "import py3dep\n",
    "\n",
    "with open(expanduser('~/scratch/data/uavsar/image_fps'), 'rb') as f:\n",
    "    image_fps = pickle.load(f)\n",
    "\n",
    "image_fps = [f for f in image_fps if f['fp'].endswith('.unw.grd.tiff')]\n",
    "netcdf_fps = '/bsuhome/zacharykeskinen/scratch/data/uavsar/images/vv_coherence'"
   ]
  },
  {
   "cell_type": "code",
   "execution_count": 11,
   "metadata": {},
   "outputs": [],
   "source": [
    "from math import cos, sin, asin, sqrt, radians\n",
    "def calc_distance(lat1, lon1, lat2, lon2):\n",
    "    \"\"\"\n",
    "    Calculate the great circle distance between two points\n",
    "    on the earth (specified in decimal degrees)\n",
    "    \"\"\"\n",
    "    # convert decimal degrees to radians\n",
    "    lon1, lat1, lon2, lat2 = map(radians, [lon1, lat1, lon2, lat2])\n",
    "    # haversine formula\n",
    "    dlon = lon2 - lon1\n",
    "    dlat = lat2 - lat1\n",
    "    a = sin(dlat / 2) ** 2 + cos(lat1) * cos(lat2) * sin(dlon / 2) ** 2\n",
    "    c = 2 * asin(sqrt(a))\n",
    "    km = 6371 * c\n",
    "    return km"
   ]
  },
  {
   "cell_type": "code",
   "execution_count": 14,
   "metadata": {},
   "outputs": [
    {
     "name": "stdout",
     "output_type": "stream",
     "text": [
      "Utica, MT\n",
      "0.1.Eldorado National Forest, CA\n",
      "0.1.2.3.Donner Memorial State Park, CA\n",
      "Rocky Mountains NP, CO\n",
      "0.1.2.3.4.5.6.7.8.9.Grand Mesa, CO\n",
      "0.1.2.3.4.5.6.7.8.9.Sierra National Forest, CA\n",
      "0.1.2.Fraser, CO\n",
      "0.1.2.3.4.5.6.7.8.9.10.11.12.13.14.Peeler Peak, CO\n",
      "0.1.Silver City, ID\n",
      "0.Ironton, CO\n",
      "0.1.2.3.4.5.6.Los Alamos, NM\n",
      "0.1.2.Lowman, CO\n",
      "0.1.2.3.4.5.6.7.8.9.10.11.12.13.Salt Lake City, UT\n",
      "0.1.2.3.4.5.6.7.8.9.10.11.12.13.14.15.16.17."
     ]
    }
   ],
   "source": [
    "for name in glob(join('/bsuhome/zacharykeskinen/scratch/data/uavsar/images','*,*')):\n",
    "    site_name = basename(name)\n",
    "    print(site_name)\n",
    "    l_fps = []\n",
    "    for fps in image_fps:\n",
    "        if fps['location'] == site_name:\n",
    "            if fps['pol'] == 'VV':\n",
    "                l_fps.append(fps)\n",
    "    if len(l_fps)> 0:\n",
    "        bands = []\n",
    "        for i, fps in enumerate(l_fps):\n",
    "            print(i, end = '.')\n",
    "            name = basename(fps['fp'])\n",
    "            name = '_'.join(name.split('.')[0].split('_')[:5])\n",
    "            bands.append(name)\n",
    "            cor = rxa.open_rasterio(fps['cor'])\n",
    "            desc = pd.read_csv(fps['ann'])\n",
    "            if i == 0:\n",
    "                # dem = rxa.open_rasterio(fps['hgt'])\n",
    "                # calculate how to get to 30 metere resolution from 0.0005 degrees\n",
    "                new_res_m = 30\n",
    "                y1 = float(desc['grd.row_addr'][0])\n",
    "                dy = float(desc['grd.row_mult'][0])\n",
    "                x1 = float(desc['grd.col_addr'][0])\n",
    "                dx = float(desc['grd.col_mult'][0])\n",
    "                conversion = (new_res_m/1000) / calc_distance(y1, x1, y1+dy, x1 + dx)\n",
    "                cor_coarse = cor.rio.reproject(cor.rio.crs, \\\n",
    "                                                shape = (int(cor.rio.height/conversion), int(cor.rio.width/conversion)),\n",
    "                                                resampling = Resampling.average)\n",
    "                cor_base = cor_coarse.copy()\n",
    "                # dem = dem.rio.reproject_match(cor_base)\n",
    "                cor_coarse.values[0]\n",
    "                cor_vv = np.zeros((len(l_fps), *cor_coarse.values[0].shape))\n",
    "            else:\n",
    "                cor_coarse = cor.rio.reproject_match(cor_base)\n",
    "            cor_vv[i] = cor_coarse.values[0]\n",
    "\n",
    "        cor_vv = xr.Dataset(\n",
    "            data_vars = dict(\n",
    "                cor_vv = ([\"band\", \"y\", \"x\"], cor_vv)\n",
    "            ),\n",
    "            coords = dict(\n",
    "                lon = ([\"x\"], cor_coarse.x.data),\n",
    "                lat = ([\"y\"], cor_coarse.y.data),\n",
    "                band = bands\n",
    "            ),\n",
    "            attrs = dict(description = f\"Coherence for VV over {sitename}\")\n",
    "        )\n",
    "        cor_vv['x'] = cor_coarse.x\n",
    "        cor_vv['y'] = cor_coarse.y\n",
    "        with open(join(netcdf_fps, site_name.replace(' ','_')+'.pkl'), 'wb') as f:\n",
    "            pickle.dump(cor_vv, f)"
   ]
  },
  {
   "cell_type": "code",
   "execution_count": null,
   "metadata": {},
   "outputs": [],
   "source": []
  }
 ],
 "metadata": {
  "kernelspec": {
   "display_name": "Python 3.9.13 ('proj')",
   "language": "python",
   "name": "python3"
  },
  "language_info": {
   "codemirror_mode": {
    "name": "ipython",
    "version": 3
   },
   "file_extension": ".py",
   "mimetype": "text/x-python",
   "name": "python",
   "nbconvert_exporter": "python",
   "pygments_lexer": "ipython3",
   "version": "3.9.13"
  },
  "orig_nbformat": 4,
  "vscode": {
   "interpreter": {
    "hash": "be18628f3b6aaaf0d9a50c1a0a68c0122e22b01f7b4495836f3dc0caac12767e"
   }
  }
 },
 "nbformat": 4,
 "nbformat_minor": 2
}
