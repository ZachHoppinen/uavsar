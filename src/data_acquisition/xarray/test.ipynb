{
 "cells": [
  {
   "cell_type": "code",
   "execution_count": null,
   "metadata": {},
   "outputs": [],
   "source": [
    "import os\n",
    "from os.path import join, exists, basename, dirname, expanduser\n",
    "from glob import glob\n",
    "import pickle\n",
    "import numpy as np\n",
    "import pandas as pd\n",
    "import matplotlib.pyplot as plt\n",
    "import xarray as xr\n",
    "import rioxarray as rxa\n",
    "import geopandas as gpd\n",
    "\n",
    "from rasterio.enums import Resampling\n",
    "import py3dep\n",
    "\n",
    "with open(expanduser('~/scratch/data/uavsar/image_fps'), 'rb') as f:\n",
    "    image_fps = pickle.load(f)\n",
    "\n",
    "image_fps = [f for f in image_fps if f['fp'].endswith('.unw.grd.tiff')]"
   ]
  },
  {
   "cell_type": "code",
   "execution_count": null,
   "metadata": {},
   "outputs": [],
   "source": [
    "from math import cos, sin, asin, sqrt, radians\n",
    "def calc_distance(lat1, lon1, lat2, lon2):\n",
    "    \"\"\"\n",
    "    Calculate the great circle distance between two points\n",
    "    on the earth (specified in decimal degrees)\n",
    "    \"\"\"\n",
    "    # convert decimal degrees to radians\n",
    "    lon1, lat1, lon2, lat2 = map(radians, [lon1, lat1, lon2, lat2])\n",
    "    # haversine formula\n",
    "    dlon = lon2 - lon1\n",
    "    dlat = lat2 - lat1\n",
    "    a = sin(dlat / 2) ** 2 + cos(lat1) * cos(lat2) * sin(dlon / 2) ** 2\n",
    "    c = 2 * asin(sqrt(a))\n",
    "    km = 6371 * c\n",
    "    return km"
   ]
  },
  {
   "cell_type": "code",
   "execution_count": null,
   "metadata": {},
   "outputs": [],
   "source": [
    "l_fps = []\n",
    "for fps in image_fps:\n",
    "    if fps['location'] == 'Lowman, CO':\n",
    "        if fps['pol'] == 'VV':\n",
    "            l_fps.append(fps)"
   ]
  },
  {
   "cell_type": "code",
   "execution_count": null,
   "metadata": {},
   "outputs": [],
   "source": [
    "bands = []\n",
    "for i, fps in enumerate(l_fps):\n",
    "    print(i, end = '.')\n",
    "    name = basename(fps['fp'])\n",
    "    name = '_'.join(name.split('.')[0].split('_')[:5])\n",
    "    bands.append(name)\n",
    "    cor = rxa.open_rasterio(fps['cor'])\n",
    "    desc = pd.read_csv(fps['ann'])\n",
    "    if i == 0:\n",
    "        # dem = rxa.open_rasterio(fps['hgt'])\n",
    "        # calculate how to get to 30 metere resolution from 0.0005 degrees\n",
    "        new_res_m = 30\n",
    "        y1 = float(desc['grd.row_addr'][0])\n",
    "        dy = float(desc['grd.row_mult'][0])\n",
    "        x1 = float(desc['grd.col_addr'][0])\n",
    "        dx = float(desc['grd.col_mult'][0])\n",
    "        conversion = (new_res_m/1000) / calc_distance(y1, x1, y1+dy, x1 + dx)\n",
    "        cor_coarse = cor.rio.reproject(cor.rio.crs, \\\n",
    "                                        shape = (int(cor.rio.height/conversion), int(cor.rio.width/conversion)),\n",
    "                                        resampling = Resampling.average)\n",
    "        cor_base = cor_coarse.copy()\n",
    "        # dem = dem.rio.reproject_match(cor_base)\n",
    "        cor_coarse.values[0]\n",
    "        cor_vv = np.zeros((len(l_fps), *cor_coarse.values[0].shape))\n",
    "    else:\n",
    "        cor_coarse = cor.rio.reproject_match(cor_base)\n",
    "    cor_vv[i] = cor_coarse.values[0]\n",
    "\n",
    "cor_vv = xr.Dataset(\n",
    "    data_vars = dict(\n",
    "        cor_vv = ([\"band\", \"y\", \"x\"], cor_vv)\n",
    "    ),\n",
    "    coords = dict(\n",
    "        lon = ([\"x\"], cor_coarse.x.data),\n",
    "        lat = ([\"y\"], cor_coarse.y.data),\n",
    "        band = bands\n",
    "    ),\n",
    "    attrs = dict(description = \"Coherence for VV over lowman\")\n",
    ")\n",
    "\n",
    "#cor_vv.sel({'band' : bands[1]})['cor_vv']"
   ]
  }
 ],
 "metadata": {
  "kernelspec": {
   "display_name": "Python 3.9.13 ('proj')",
   "language": "python",
   "name": "python3"
  },
  "language_info": {
   "name": "python",
   "version": "3.9.13"
  },
  "orig_nbformat": 4,
  "vscode": {
   "interpreter": {
    "hash": "be18628f3b6aaaf0d9a50c1a0a68c0122e22b01f7b4495836f3dc0caac12767e"
   }
  }
 },
 "nbformat": 4,
 "nbformat_minor": 2
}
