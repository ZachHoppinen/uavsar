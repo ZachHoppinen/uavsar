{
 "cells": [
  {
   "cell_type": "code",
   "execution_count": 29,
   "metadata": {},
   "outputs": [],
   "source": [
    "from glob import glob\n",
    "from os.path import basename, dirname, join, exists, expanduser\n",
    "import pandas as pd\n",
    "import numpy as np\n",
    "import pickle\n",
    "\n",
    "data_dir = '/bsuscratch/zacharykeskinen/data/uavsar/images'"
   ]
  },
  {
   "cell_type": "code",
   "execution_count": 36,
   "metadata": {},
   "outputs": [],
   "source": [
    "image_fps = []\n",
    "for loc_dir in glob(join(data_dir, '*')):\n",
    "    for img_dir in glob(join(loc_dir, '*')):\n",
    "        if not img_dir.endswith('tmp'):\n",
    "            for f in glob(join(img_dir, '*unw.grd.tiff')):\n",
    "                csv_fp = glob(join(img_dir, '*.csv'))[0]\n",
    "                df = pd.read_csv(csv_fp, index_col= 0)\n",
    "                inc_fp = glob(join(img_dir, '*.inc.tiff'))[0]\n",
    "                d = {}\n",
    "                d['fp'] = f\n",
    "                d['ann'] = csv_fp\n",
    "                d['inc'] = inc_fp\n",
    "                d['cor'] = f.replace('unw','cor')\n",
    "                d['hgt'] = f.replace('unw','hgt')\n",
    "                d['pol'] = basename(f).split('_')[6][-2:]\n",
    "                d['heading'] = basename(f).split('_')[1][:3]\n",
    "                d['location'] = basename(loc_dir)\n",
    "                d['flight1'] = pd.to_datetime(df.loc['value','start time of acquisition for pass 1'])\n",
    "                d['flight2'] = pd.to_datetime(df.loc['value','start time of acquisition for pass 2'])\n",
    "                image_fps.append(d)"
   ]
  },
  {
   "cell_type": "code",
   "execution_count": 28,
   "metadata": {},
   "outputs": [],
   "source": [
    "with open(expanduser('~/scratch/data/uavsar/image_fps'), 'wb') as f:\n",
    "    pickle.dump(image_fps, f)"
   ]
  },
  {
   "cell_type": "code",
   "execution_count": 19,
   "metadata": {},
   "outputs": [],
   "source": [
    "loc_fps = [dic for dic in image_fps if dic['location'] == 'Salt Lake City, UT']\n",
    "fps_2021 = [fs for fs in loc_fps if fs['flight1'] < pd.to_datetime('2020-10-01').tz_localize('UTC')]\n",
    "fps_2021 = [fs for fs in fps_2021 if fs['pol']  == 'VV']"
   ]
  },
  {
   "cell_type": "code",
   "execution_count": null,
   "metadata": {},
   "outputs": [],
   "source": []
  }
 ],
 "metadata": {
  "interpreter": {
   "hash": "be18628f3b6aaaf0d9a50c1a0a68c0122e22b01f7b4495836f3dc0caac12767e"
  },
  "kernelspec": {
   "display_name": "Python 3.9.12 ('proj')",
   "language": "python",
   "name": "python3"
  },
  "language_info": {
   "codemirror_mode": {
    "name": "ipython",
    "version": 3
   },
   "file_extension": ".py",
   "mimetype": "text/x-python",
   "name": "python",
   "nbconvert_exporter": "python",
   "pygments_lexer": "ipython3",
   "version": "3.9.13"
  },
  "orig_nbformat": 4
 },
 "nbformat": 4,
 "nbformat_minor": 2
}
