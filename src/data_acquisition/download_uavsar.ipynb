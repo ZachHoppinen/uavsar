{
 "cells": [
  {
   "cell_type": "code",
   "execution_count": 1,
   "metadata": {},
   "outputs": [
    {
     "name": "stderr",
     "output_type": "stream",
     "text": [
      "/bsuhome/zacharykeskinen/miniconda3/envs/uavsar/lib/python3.8/site-packages/tqdm/auto.py:22: TqdmWarning: IProgress not found. Please update jupyter and ipywidgets. See https://ipywidgets.readthedocs.io/en/stable/user_install.html\n",
      "  from .autonotebook import tqdm as notebook_tqdm\n"
     ]
    }
   ],
   "source": [
    "from glob import glob\n",
    "import os\n",
    "from os.path import basename, dirname, join, exists\n",
    "import pandas as pd\n",
    "from uavsar_pytools import UavsarCollection"
   ]
  },
  {
   "cell_type": "code",
   "execution_count": 3,
   "metadata": {},
   "outputs": [],
   "source": [
    "data_dir = '/bsuscratch/zacharykeskinen/data/uavsar/images'\n",
    "collections = ['Grand Mesa, CO','Lowman, CO', 'Fraser, CO', 'Ironton, CO', 'Peeler Peak, CO', 'Rocky Mountains NP, CO', 'Silverton, CO', 'Telluride, CO', 'Silver City, ID', 'Reynolds Creek, ID', 'Utica, MT']\n",
    "collections = ['Lowman, CO']\n",
    "#collections = ['Fraser, CO', 'Ironton, CO', 'Peeler Peak, CO', 'Rocky Mountains NP, CO', 'Silverton, CO', 'Telluride, CO', 'Silver City, ID', 'Reynolds Creek, ID', 'Utica, MT']\n"
   ]
  },
  {
   "cell_type": "code",
   "execution_count": 4,
   "metadata": {},
   "outputs": [
    {
     "name": "stderr",
     "output_type": "stream",
     "text": [
      "INFO:uavsar_pytools.uavsar_collection:Found 17 image pairs\n",
      "INFO:uavsar_pytools.uavsar_collection:Starting on: https://datapool.asf.alaska.edu/INTERFEROMETRY_GRD/UA/lowman_05208_21019-019_21021-007_0006d_s01_L090_01_int_grd.zip\n",
      "Downloading lowman_05208_21019-019_21021-007_0006d_s01_L090_01_int_grd.zip: 100%|██████████| 5.11G/5.11G [02:52<00:00, 29.6MB/s] \n",
      "Unzipping: 100%|██████████| 20/20 [01:47<00:00,  5.37s/file]\n",
      "Downloading lowman_05208_21021_007_210322_L090_CX_01.inc: 100%|██████████| 1.75G/1.75G [01:00<00:00, 28.8MB/s]\n",
      "Downloading lowman_05208_21021_007_210322_L090_CX_01.ann: 100%|██████████| 29.0k/29.0k [00:00<00:00, 37.1MB/s]\n",
      "INFO:uavsar_pytools.uavsar_collection:Starting on: https://datapool.asf.alaska.edu/INTERFEROMETRY_GRD/UA/lowman_23205_21019-018_21021-006_0006d_s01_L090_01_int_grd.zip\n"
     ]
    },
    {
     "name": "stdout",
     "output_type": "stream",
     "text": [
      "Completed 16-Mar-2021 18:09:32 UTC to 22-Mar-2021 16:58:37 UTC\n"
     ]
    },
    {
     "name": "stderr",
     "output_type": "stream",
     "text": [
      "Downloading lowman_23205_21019-018_21021-006_0006d_s01_L090_01_int_grd.zip: 100%|██████████| 4.66G/4.66G [03:21<00:00, 23.2MB/s] \n",
      "Unzipping: 100%|██████████| 20/20 [01:34<00:00,  4.73s/file]\n",
      "Downloading lowman_23205_21021_006_210322_L090_CX_01.inc: 100%|██████████| 1.72G/1.72G [02:47<00:00, 10.3MB/s]\n",
      "Downloading lowman_23205_21021_006_210322_L090_CX_01.ann: 100%|██████████| 29.0k/29.0k [00:00<00:00, 34.4MB/s]\n",
      "INFO:uavsar_pytools.uavsar_collection:Starting on: https://datapool.asf.alaska.edu/INTERFEROMETRY_GRD/UA/lowman_05208_21017-019_21019-019_0006d_s01_L090_01_int_grd.zip\n"
     ]
    },
    {
     "name": "stdout",
     "output_type": "stream",
     "text": [
      "Completed 16-Mar-2021 17:49:40 UTC to 22-Mar-2021 16:39:43 UTC\n"
     ]
    },
    {
     "name": "stderr",
     "output_type": "stream",
     "text": [
      "Downloading lowman_05208_21017-019_21019-019_0006d_s01_L090_01_int_grd.zip: 100%|██████████| 5.37G/5.37G [03:11<00:00, 28.1MB/s] \n",
      "Unzipping: 100%|██████████| 20/20 [01:39<00:00,  4.98s/file]\n",
      "Downloading lowman_05208_21019_019_210316_L090_CX_01.inc: 100%|██████████| 1.75G/1.75G [01:00<00:00, 28.8MB/s]\n",
      "Downloading lowman_05208_21019_019_210316_L090_CX_01.ann: 100%|██████████| 29.0k/29.0k [00:00<00:00, 43.2MB/s]\n",
      "INFO:uavsar_pytools.uavsar_collection:Starting on: https://datapool.asf.alaska.edu/INTERFEROMETRY_GRD/UA/lowman_23205_21017-018_21019-018_0006d_s01_L090_01_int_grd.zip\n"
     ]
    },
    {
     "name": "stdout",
     "output_type": "stream",
     "text": [
      "Completed 10-Mar-2021 18:03:24 UTC to 16-Mar-2021 18:09:44 UTC\n"
     ]
    },
    {
     "name": "stderr",
     "output_type": "stream",
     "text": [
      "Downloading lowman_23205_21017-018_21019-018_0006d_s01_L090_01_int_grd.zip: 100%|██████████| 5.01G/5.01G [03:19<00:00, 25.1MB/s] \n",
      "Unzipping: 100%|██████████| 20/20 [01:37<00:00,  4.87s/file]\n",
      "Downloading lowman_23205_21019_018_210316_L090_CX_01.inc: 100%|██████████| 1.72G/1.72G [01:28<00:00, 19.4MB/s]\n",
      "Downloading lowman_23205_21019_018_210316_L090_CX_01.ann: 100%|██████████| 29.0k/29.0k [00:00<00:00, 40.9MB/s]\n",
      "INFO:uavsar_pytools.uavsar_collection:Starting on: https://datapool.asf.alaska.edu/INTERFEROMETRY_GRD/UA/lowman_05208_21015-009_21017-019_0007d_s01_L090_01_int_grd.zip\n"
     ]
    },
    {
     "name": "stdout",
     "output_type": "stream",
     "text": [
      "Completed 10-Mar-2021 17:42:56 UTC to 16-Mar-2021 17:49:40 UTC\n"
     ]
    },
    {
     "name": "stderr",
     "output_type": "stream",
     "text": [
      "Downloading lowman_05208_21015-009_21017-019_0007d_s01_L090_01_int_grd.zip: 100%|██████████| 5.36G/5.36G [03:53<00:00, 22.9MB/s] \n",
      "Unzipping: 100%|██████████| 20/20 [01:38<00:00,  4.94s/file]\n",
      "Downloading lowman_05208_21017_019_210310_L090_CX_01.inc: 100%|██████████| 1.74G/1.74G [02:17<00:00, 12.7MB/s]\n",
      "Downloading lowman_05208_21017_019_210310_L090_CX_01.ann: 100%|██████████| 29.0k/29.0k [00:00<00:00, 36.0MB/s]\n",
      "INFO:uavsar_pytools.uavsar_collection:Starting on: https://datapool.asf.alaska.edu/INTERFEROMETRY_GRD/UA/lowman_23205_21015-008_21017-018_0007d_s01_L090_01_int_grd.zip\n"
     ]
    },
    {
     "name": "stdout",
     "output_type": "stream",
     "text": [
      "Completed 3-Mar-2021 18:28:51 UTC to 10-Mar-2021 18:03:24 UTC\n"
     ]
    },
    {
     "name": "stderr",
     "output_type": "stream",
     "text": [
      "Downloading lowman_23205_21015-008_21017-018_0007d_s01_L090_01_int_grd.zip: 100%|██████████| 5.35G/5.35G [06:36<00:00, 13.5MB/s] \n",
      "Unzipping: 100%|██████████| 20/20 [01:48<00:00,  5.42s/file]\n",
      "Downloading lowman_23205_21017_018_210310_L090_CX_01.inc: 100%|██████████| 1.72G/1.72G [01:19<00:00, 21.5MB/s]\n",
      "Downloading lowman_23205_21017_018_210310_L090_CX_01.ann: 100%|██████████| 29.0k/29.0k [00:00<00:00, 34.9MB/s]\n",
      "INFO:uavsar_pytools.uavsar_collection:Starting on: https://datapool.asf.alaska.edu/INTERFEROMETRY_GRD/UA/lowman_05208_21012-004_21015-009_0021d_s01_L090_01_int_grd.zip\n"
     ]
    },
    {
     "name": "stdout",
     "output_type": "stream",
     "text": [
      "Completed 3-Mar-2021 18:08:07 UTC to 10-Mar-2021 17:42:43 UTC\n"
     ]
    },
    {
     "name": "stderr",
     "output_type": "stream",
     "text": [
      "Downloading lowman_05208_21012-004_21015-009_0021d_s01_L090_01_int_grd.zip: 100%|██████████| 4.99G/4.99G [11:49<00:00, 7.04MB/s] \n",
      "Unzipping: 100%|██████████| 20/20 [01:37<00:00,  4.89s/file]\n",
      "Downloading lowman_05208_21015_009_210303_L090_CX_01.inc: 100%|██████████| 1.74G/1.74G [02:36<00:00, 11.1MB/s]\n",
      "Downloading lowman_05208_21015_009_210303_L090_CX_01.ann: 100%|██████████| 29.0k/29.0k [00:00<00:00, 37.2MB/s]\n",
      "INFO:uavsar_pytools.uavsar_collection:Starting on: https://datapool.asf.alaska.edu/INTERFEROMETRY_GRD/UA/lowman_23205_21012-000_21015-008_0021d_s01_L090_01_int_grd.zip\n"
     ]
    },
    {
     "name": "stdout",
     "output_type": "stream",
     "text": [
      "Completed 10-Feb-2021 23:06:35 UTC to 3-Mar-2021 18:28:51 UTC\n"
     ]
    },
    {
     "name": "stderr",
     "output_type": "stream",
     "text": [
      "Downloading lowman_23205_21012-000_21015-008_0021d_s01_L090_01_int_grd.zip: 100%|██████████| 4.43G/4.43G [05:59<00:00, 12.3MB/s] \n",
      "Unzipping: 100%|██████████| 16/16 [01:24<00:00,  5.31s/file]\n",
      "Downloading lowman_23205_21015_008_210303_L090_CX_01.inc: 100%|██████████| 1.72G/1.72G [00:58<00:00, 29.3MB/s]\n",
      "Downloading lowman_23205_21015_008_210303_L090_CX_01.ann: 100%|██████████| 29.0k/29.0k [00:00<00:00, 42.7MB/s]\n",
      "INFO:uavsar_pytools.uavsar_collection:Starting on: https://datapool.asf.alaska.edu/INTERFEROMETRY_GRD/UA/lowman_05208_21009-005_21012-004_0007d_s01_L090_01_int_grd.zip\n"
     ]
    },
    {
     "name": "stdout",
     "output_type": "stream",
     "text": [
      "Completed 10-Feb-2021 22:20:30 UTC to 3-Mar-2021 18:08:07 UTC\n"
     ]
    },
    {
     "name": "stderr",
     "output_type": "stream",
     "text": [
      "Downloading lowman_05208_21009-005_21012-004_0007d_s01_L090_01_int_grd.zip: 100%|██████████| 5.61G/5.61G [04:30<00:00, 20.8MB/s] \n",
      "Unzipping: 100%|██████████| 20/20 [01:50<00:00,  5.51s/file]\n",
      "Downloading lowman_05208_21012_004_210210_L090_CX_01.inc: 100%|██████████| 1.78G/1.78G [03:56<00:00, 7.51MB/s] \n",
      "Downloading lowman_05208_21012_004_210210_L090_CX_01.ann: 100%|██████████| 29.0k/29.0k [00:00<00:00, 37.8MB/s]\n",
      "INFO:uavsar_pytools.uavsar_collection:Starting on: https://datapool.asf.alaska.edu/INTERFEROMETRY_GRD/UA/lowman_23205_21009-004_21012-000_0007d_s01_L090_01_int_grd.zip\n"
     ]
    },
    {
     "name": "stdout",
     "output_type": "stream",
     "text": [
      "Completed 3-Feb-2021 20:16:35 UTC to 10-Feb-2021 23:06:23 UTC\n"
     ]
    },
    {
     "name": "stderr",
     "output_type": "stream",
     "text": [
      "Downloading lowman_23205_21009-004_21012-000_0007d_s01_L090_01_int_grd.zip: 100%|██████████| 5.29G/5.29G [05:26<00:00, 16.2MB/s] \n",
      "Unzipping: 100%|██████████| 20/20 [01:48<00:00,  5.41s/file]\n",
      "Downloading lowman_23205_21012_000_210210_L090_CX_01.inc: 100%|██████████| 1.73G/1.73G [01:17<00:00, 22.4MB/s]\n",
      "Downloading lowman_23205_21012_000_210210_L090_CX_01.ann: 100%|██████████| 29.0k/29.0k [00:00<00:00, 35.8MB/s]\n",
      "INFO:uavsar_pytools.uavsar_collection:Starting on: https://datapool.asf.alaska.edu/INTERFEROMETRY_GRD/UA/lowman_23205_21008-000_21009-004_0007d_s01_L090_01_int_grd.zip\n"
     ]
    },
    {
     "name": "stdout",
     "output_type": "stream",
     "text": [
      "Completed 3-Feb-2021 19:54:46 UTC to 10-Feb-2021 22:20:30 UTC\n"
     ]
    },
    {
     "name": "stderr",
     "output_type": "stream",
     "text": [
      "Downloading lowman_23205_21008-000_21009-004_0007d_s01_L090_01_int_grd.zip: 100%|██████████| 4.48G/4.48G [02:29<00:00, 30.0MB/s] \n",
      "Unzipping: 100%|██████████| 20/20 [01:33<00:00,  4.69s/file]\n",
      "Downloading lowman_23205_21009_004_210203_L090_CX_01.inc: 100%|██████████| 1.72G/1.72G [00:49<00:00, 35.0MB/s]\n",
      "Downloading lowman_23205_21009_004_210203_L090_CX_01.ann: 100%|██████████| 29.0k/29.0k [00:00<00:00, 36.4MB/s]\n",
      "INFO:uavsar_pytools.uavsar_collection:Starting on: https://datapool.asf.alaska.edu/INTERFEROMETRY_GRD/UA/lowman_23205_21004-003_21008-000_0007d_s01_L090_01_int_grd.zip\n"
     ]
    },
    {
     "name": "stdout",
     "output_type": "stream",
     "text": [
      "Completed 27-Jan-2021 23:54:41 UTC to 3-Feb-2021 19:55:00 UTC\n"
     ]
    },
    {
     "name": "stderr",
     "output_type": "stream",
     "text": [
      "Downloading lowman_23205_21004-003_21008-000_0007d_s01_L090_01_int_grd.zip: 100%|██████████| 4.99G/4.99G [03:49<00:00, 21.7MB/s] \n",
      "Unzipping: 100%|██████████| 20/20 [01:38<00:00,  4.93s/file]\n",
      "Downloading lowman_23205_21008_000_210127_L090_CX_01.inc: 100%|██████████| 1.72G/1.72G [01:41<00:00, 17.0MB/s]\n",
      "Downloading lowman_23205_21008_000_210127_L090_CX_01.ann: 100%|██████████| 29.0k/29.0k [00:00<00:00, 39.5MB/s]\n",
      "INFO:uavsar_pytools.uavsar_collection:Starting on: https://datapool.asf.alaska.edu/INTERFEROMETRY_GRD/UA/lowman_23205_21002-004_21004-003_0005d_s01_L090_01_int_grd.zip\n"
     ]
    },
    {
     "name": "stdout",
     "output_type": "stream",
     "text": [
      "Completed 20-Jan-2021 21:20:42 UTC to 27-Jan-2021 23:54:42 UTC\n"
     ]
    },
    {
     "name": "stderr",
     "output_type": "stream",
     "text": [
      "Downloading lowman_23205_21002-004_21004-003_0005d_s01_L090_01_int_grd.zip: 100%|██████████| 5.03G/5.03G [04:14<00:00, 19.7MB/s] \n",
      "Unzipping: 100%|██████████| 20/20 [01:40<00:00,  5.03s/file]\n",
      "Downloading lowman_23205_21004_003_210120_L090_CX_01.inc: 100%|██████████| 1.73G/1.73G [01:32<00:00, 18.6MB/s]\n",
      "Downloading lowman_23205_21004_003_210120_L090_CX_01.ann: 100%|██████████| 29.0k/29.0k [00:00<00:00, 38.1MB/s]\n",
      "INFO:uavsar_pytools.uavsar_collection:Starting on: https://datapool.asf.alaska.edu/INTERFEROMETRY_GRD/UA/lowman_23205_20011-003_20016-004_0019d_s01_L090_01_int_grd.zip\n"
     ]
    },
    {
     "name": "stdout",
     "output_type": "stream",
     "text": [
      "Completed 15-Jan-2021 19:50:49 UTC to 20-Jan-2021 21:20:42 UTC\n"
     ]
    },
    {
     "name": "stderr",
     "output_type": "stream",
     "text": [
      "Downloading lowman_23205_20011-003_20016-004_0019d_s01_L090_01_int_grd.zip: 100%|██████████| 4.72G/4.72G [02:49<00:00, 27.8MB/s] \n",
      "Unzipping: 100%|██████████| 20/20 [01:38<00:00,  4.92s/file]\n",
      "Downloading lowman_23205_20016_004_200311_L090_CX_01.inc: 100%|██████████| 1.61G/1.61G [01:16<00:00, 21.1MB/s]\n",
      "Downloading lowman_23205_20016_004_200311_L090_CX_01.ann: 100%|██████████| 29.0k/29.0k [00:00<00:00, 36.1MB/s]\n",
      "INFO:uavsar_pytools.uavsar_collection:Starting on: https://datapool.asf.alaska.edu/INTERFEROMETRY_GRD/UA/lowman_23205_20007-003_20011-003_0008d_s01_L090_01_int_grd.zip\n"
     ]
    },
    {
     "name": "stdout",
     "output_type": "stream",
     "text": [
      "Completed 21-Feb-2020 01:53:17 UTC to 11-Mar-2020 17:45:46 UTC\n"
     ]
    },
    {
     "name": "stderr",
     "output_type": "stream",
     "text": [
      "Downloading lowman_23205_20007-003_20011-003_0008d_s01_L090_01_int_grd.zip: 100%|██████████| 4.97G/4.97G [03:43<00:00, 22.3MB/s] \n",
      "Unzipping: 100%|██████████| 20/20 [01:38<00:00,  4.92s/file]\n",
      "Downloading lowman_23205_20011_003_200221_L090_CX_01.inc: 100%|██████████| 1.72G/1.72G [01:13<00:00, 23.3MB/s]\n",
      "Downloading lowman_23205_20011_003_200221_L090_CX_01.ann: 100%|██████████| 29.0k/29.0k [00:00<00:00, 42.9MB/s]\n",
      "INFO:uavsar_pytools.uavsar_collection:Starting on: https://datapool.asf.alaska.edu/INTERFEROMETRY_GRD/UA/lowman_23205_20002-007_20007-003_0013d_s01_L090_01_int_grd.zip\n"
     ]
    },
    {
     "name": "stdout",
     "output_type": "stream",
     "text": [
      "Completed 13-Feb-2020 20:47:43 UTC to 21-Feb-2020 01:53:17 UTC\n"
     ]
    },
    {
     "name": "stderr",
     "output_type": "stream",
     "text": [
      "Downloading lowman_23205_20002-007_20007-003_0013d_s01_L090_01_int_grd.zip: 100%|██████████| 4.43G/4.43G [05:04<00:00, 14.5MB/s] \n",
      "Unzipping: 100%|██████████| 16/16 [01:26<00:00,  5.39s/file]\n",
      "Downloading lowman_23205_20007_003_200213_L090_CX_01.inc: 100%|██████████| 1.61G/1.61G [01:08<00:00, 23.6MB/s]\n",
      "Downloading lowman_23205_20007_003_200213_L090_CX_01.ann: 100%|██████████| 29.0k/29.0k [00:00<00:00, 43.2MB/s]\n",
      "INFO:uavsar_pytools.uavsar_collection:Starting on: https://datapool.asf.alaska.edu/INTERFEROMETRY_GRD/UA/lowman_23205_19084-017_20002-007_0042d_s01_L090_01_int_grd.zip\n"
     ]
    },
    {
     "name": "stdout",
     "output_type": "stream",
     "text": [
      "Completed 31-Jan-2020 21:30:00 UTC to 13-Feb-2020 20:47:30 UTC\n"
     ]
    },
    {
     "name": "stderr",
     "output_type": "stream",
     "text": [
      "Downloading lowman_23205_19084-017_20002-007_0042d_s01_L090_01_int_grd.zip: 100%|██████████| 4.13G/4.13G [02:52<00:00, 23.9MB/s] \n",
      "Unzipping: 100%|██████████| 16/16 [01:16<00:00,  4.81s/file]\n",
      "Downloading lowman_23205_20002_007_200131_L090_CX_01.inc: 100%|██████████| 1.62G/1.62G [01:45<00:00, 15.4MB/s]\n",
      "Downloading lowman_23205_20002_007_200131_L090_CX_01.ann: 100%|██████████| 29.0k/29.0k [00:00<00:00, 36.2MB/s]\n"
     ]
    },
    {
     "name": "stdout",
     "output_type": "stream",
     "text": [
      "Completed 20-Dec-2019 19:31:07 UTC to 31-Jan-2020 21:30:13 UTC\n"
     ]
    }
   ],
   "source": [
    "for c in collections:\n",
    "    work_dir = join(data_dir, c)\n",
    "    os.makedirs(work_dir, exist_ok=True)\n",
    "    collection = UavsarCollection(collection = c, work_dir = work_dir, clean = True, dates = (pd.to_datetime('20190430'), pd.to_datetime('20220430')), inc = True)\n",
    "    collection.collection_to_tiffs()"
   ]
  },
  {
   "cell_type": "code",
   "execution_count": 11,
   "metadata": {},
   "outputs": [
    {
     "data": {
      "text/plain": [
       "'https://datapool.asf.alaska.edu/INTERFEROMETRY_GRD/UA/lowman_23205_21019-018_21021-006_0006d_s01_L090_01_int_grd.zip'"
      ]
     },
     "execution_count": 11,
     "metadata": {},
     "output_type": "execute_result"
    }
   ],
   "source": [
    "import asf_search as asf\n",
    "prop = collection.results[1].properties\n",
    "prop['url']"
   ]
  },
  {
   "cell_type": "code",
   "execution_count": 27,
   "metadata": {},
   "outputs": [],
   "source": [
    "# https://datapool.asf.alaska.edu/INTERFEROMETRY_GRD/UA/lowman_23205_21019-018_21021-006_0006d_s01_L090_01_int_grd.zip\n",
    "inc_res = asf.search(platform = 'UAVSAR',\n",
    "    processingLevel = (['INC']),\n",
    "    campaign = 'Lowman, CO',\n",
    "    # frame= int(prop['frameNumber']),\n",
    "    relativeOrbit= int(prop['pathNumber']),\n",
    "    start= prop['startTime'],\n",
    "    end = prop['stopTime'])"
   ]
  },
  {
   "cell_type": "code",
   "execution_count": 28,
   "metadata": {},
   "outputs": [
    {
     "data": {
      "text/plain": [
       "{'beamModeType': 'POL',\n",
       " 'browse': ['https://datapool.asf.alaska.edu/BROWSE/UA/lowman_23205_21021_006_210322_L090_CX_01.gif'],\n",
       " 'bytes': '1720400688',\n",
       " 'centerLat': '44.0219637616697',\n",
       " 'centerLon': '-115.68941685807',\n",
       " 'faradayRotation': None,\n",
       " 'fileID': 'UA_lowman_23205_21021_006_210322_L090_CX_01-INC',\n",
       " 'fileName': 'lowman_23205_21021_006_210322_L090_CX_01.inc',\n",
       " 'flightDirection': None,\n",
       " 'frameNumber': '880',\n",
       " 'granuleType': 'UAVSAR_POLSAR_SCENE',\n",
       " 'groupID': 'UA_lowman_23205_21021_006_210322_L090_CX_01',\n",
       " 'insarStackId': '-1',\n",
       " 'md5sum': 'a4b97840c20e7b1cbe3fedf39ccacc11',\n",
       " 'offNadirAngle': None,\n",
       " 'orbit': '-1',\n",
       " 'pathNumber': '23205',\n",
       " 'platform': 'UAVSAR',\n",
       " 'pointingAngle': None,\n",
       " 'polarization': 'Full',\n",
       " 'processingDate': '2021-04-07T00:58:27Z',\n",
       " 'processingLevel': 'INC',\n",
       " 'sceneName': 'UA_lowman_23205_21021_006_210322_L090_CX_01',\n",
       " 'sensor': 'UAVSAR',\n",
       " 'startTime': '2021-03-22T16:39:19Z',\n",
       " 'stopTime': '2021-03-22T16:39:19Z',\n",
       " 'url': 'https://datapool.asf.alaska.edu/INC/UA/lowman_23205_21021_006_210322_L090_CX_01.inc'}"
      ]
     },
     "execution_count": 28,
     "metadata": {},
     "output_type": "execute_result"
    }
   ],
   "source": [
    "inc_res[0].properties"
   ]
  },
  {
   "cell_type": "code",
   "execution_count": 26,
   "metadata": {},
   "outputs": [
    {
     "data": {
      "text/plain": [
       "'https://datapool.asf.alaska.edu/INTERFEROMETRY_GRD/UA/lowman_23205_21019-018_21021-006_0006d_s01_L090_01_int_grd.zip'"
      ]
     },
     "execution_count": 26,
     "metadata": {},
     "output_type": "execute_result"
    }
   ],
   "source": [
    "prop['url']"
   ]
  },
  {
   "cell_type": "code",
   "execution_count": null,
   "metadata": {},
   "outputs": [],
   "source": []
  }
 ],
 "metadata": {
  "interpreter": {
   "hash": "5dd3130d27b37aaf1e73f2c22ab2dc41de66d0ace140f6eaa91934393372459a"
  },
  "kernelspec": {
   "display_name": "Python 3.8.13 ('uavsar')",
   "language": "python",
   "name": "python3"
  },
  "language_info": {
   "codemirror_mode": {
    "name": "ipython",
    "version": 3
   },
   "file_extension": ".py",
   "mimetype": "text/x-python",
   "name": "python",
   "nbconvert_exporter": "python",
   "pygments_lexer": "ipython3",
   "version": "3.8.13"
  },
  "orig_nbformat": 4
 },
 "nbformat": 4,
 "nbformat_minor": 2
}
